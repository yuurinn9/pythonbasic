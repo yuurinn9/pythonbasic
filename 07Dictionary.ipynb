{
 "cells": [
  {
   "cell_type": "markdown",
   "id": "b5568c8c-32ec-4033-a0bb-c4daf7bfd1df",
   "metadata": {},
   "source": [
    "## 2023 - 01 - 10 ##"
   ]
  },
  {
   "cell_type": "markdown",
   "id": "7d2ea375-ff4b-49a0-9b03-b80251f432d1",
   "metadata": {},
   "source": [
    "### [ 딕셔너리 자료형 ] ### \n",
    "  \n",
    "   ##### 딕셔너리 자료형 = 비 시퀸스 자료형 #####\n",
    "                   \n",
    "                   > 인덱스를 갖지 않음  \n",
    "                     \n",
    "      key : value -> key-value pair\n",
    "        \n",
    "          \n",
    "            \n",
    "     key는 문자열, 정수, 실수, 줄, 튜플 사용 가능  \n",
    "           리스트, 딕셔너리, 집합 사용 불가능"
   ]
  },
  {
   "cell_type": "markdown",
   "id": "b2a9fef3-8d74-4795-aff7-7dd1f7786288",
   "metadata": {},
   "source": [
    "dir_var = {\"key\" : \"value\"}  \n",
    "print(type(dir_var))  \n",
    "print(dir_var)"
   ]
  },
  {
   "cell_type": "markdown",
   "id": "15f76b6b-419c-4bda-83e8-3f0f38bda22c",
   "metadata": {},
   "source": [
    "ㅡ  ㅡ  ㅡ  ㅡ  ㅡ  ㅡ  ㅡ  ㅡ  \n",
    "<class 'dict'>  \n",
    "{'key': 'value'}  "
   ]
  },
  {
   "cell_type": "markdown",
   "id": "88572e4c-ca3b-4124-8d27-ae3427e2bef8",
   "metadata": {},
   "source": [
    "------------------"
   ]
  },
  {
   "cell_type": "code",
   "execution_count": 6,
   "id": "fa9bee7f-1c95-41ee-a955-7860097e7f65",
   "metadata": {},
   "outputs": [
    {
     "name": "stdout",
     "output_type": "stream",
     "text": [
      "{'key': 'last value'}\n"
     ]
    }
   ],
   "source": [
    "dir_var = {\"key\" : \"value\", \"key\" : \"last value\"}   \n",
    "print(dir_var)"
   ]
  },
  {
   "cell_type": "code",
   "execution_count": 8,
   "id": "30014f0f-765e-40ed-9c31-b161654afd10",
   "metadata": {},
   "outputs": [
    {
     "name": "stdout",
     "output_type": "stream",
     "text": [
      "[<class 'str'>, <class 'int'>, <class 'float'>, <class 'tuple'>]\n"
     ]
    }
   ],
   "source": [
    "dic_var = {\"key\": \"value\",\n",
    "          1 : \"value2\",\n",
    "          1.1: \"value3\",\n",
    "          True: \"value4\",\n",
    "          (\"key\", 1, 1.1, True): \"value2\"}\n",
    "print(list(map(type,dic_var.keys())))\n"
   ]
  },
  {
   "cell_type": "code",
   "execution_count": 10,
   "id": "15abb8e0-9313-4b4b-a538-25a16b4f618b",
   "metadata": {},
   "outputs": [
    {
     "name": "stdout",
     "output_type": "stream",
     "text": [
      "{'key': 'value', 'key2': 'value2', 'key3': 'value3'}\n"
     ]
    }
   ],
   "source": [
    "dict_a = dict(key=\"value\", key2=\"value2\", key3=\"value3\")\n",
    "print(dict_a)"
   ]
  },
  {
   "cell_type": "code",
   "execution_count": 11,
   "id": "13a39bba-edf8-4819-b9af-7bb937ddd977",
   "metadata": {},
   "outputs": [
    {
     "data": {
      "text/plain": [
       "{'key': 'value', 'key2': 'value2'}"
      ]
     },
     "execution_count": 11,
     "metadata": {},
     "output_type": "execute_result"
    }
   ],
   "source": [
    "dict([(\"key\", \"value\"), (\"key2\", \"value2\")])"
   ]
  },
  {
   "cell_type": "code",
   "execution_count": 19,
   "id": "2dcccc6a-6342-41dc-b55c-9462f985d272",
   "metadata": {},
   "outputs": [
    {
     "name": "stdout",
     "output_type": "stream",
     "text": [
      "{'key': 'value', 'key2': 'value2', 'key3': 'value3'}\n"
     ]
    }
   ],
   "source": [
    "dict_b = dict(zip([\"key\",\"key2\",\"key3\"], [\"value\", \"value2\", \"value3\"]))\n",
    "print(dict_b)"
   ]
  },
  {
   "cell_type": "code",
   "execution_count": 13,
   "id": "1ba96131-5ee1-4f7f-a8c6-6695ea0d65c7",
   "metadata": {},
   "outputs": [
    {
     "name": "stdout",
     "output_type": "stream",
     "text": [
      "<zip object at 0x0000021DD0001780>\n"
     ]
    }
   ],
   "source": [
    "print(zip([\"key\",\"key2\",\"key3\"], [\"value\", \"value2\", \"value3\"]))"
   ]
  },
  {
   "cell_type": "code",
   "execution_count": 18,
   "id": "4fa7b3c8-951b-4112-8819-870ea61e7106",
   "metadata": {},
   "outputs": [
    {
     "data": {
      "text/plain": [
       "[('key', 'value'), ('key2', 'value2'), ('key3', 'value3')]"
      ]
     },
     "execution_count": 18,
     "metadata": {},
     "output_type": "execute_result"
    }
   ],
   "source": [
    "[_ for _ in zip([\"key\",\"key2\",\"key3\"], [\"value\", \"value2\", \"value3\"])]"
   ]
  },
  {
   "cell_type": "code",
   "execution_count": 20,
   "id": "3e811d5f-8ed9-4a0d-b6b0-70b56fc1731e",
   "metadata": {},
   "outputs": [
    {
     "name": "stdout",
     "output_type": "stream",
     "text": [
      "{'key': 'value', 'key2': 'value2', 'key3': 'value3'}\n",
      "value\n"
     ]
    }
   ],
   "source": [
    "print(dict_b)\n",
    "print(dict_b['key'])  #키로 값에 접근하기"
   ]
  },
  {
   "cell_type": "code",
   "execution_count": 21,
   "id": "4bef1acb-1061-4ab8-bf8f-8eff520fe68e",
   "metadata": {},
   "outputs": [
    {
     "name": "stdout",
     "output_type": "stream",
     "text": [
      "{'key': 'value', 'key2': 'value2', 'key3': 'value3'}\n",
      "{'key': 'super value', 'key2': 'value2', 'key3': 'value3'}\n"
     ]
    }
   ],
   "source": [
    "print(dict_b)\n",
    "dict_b['key'] = \"super value\" # 키 변경하기\n",
    "print(dict_b)"
   ]
  },
  {
   "cell_type": "markdown",
   "id": "065523a2-93dd-4849-9410-24abdf1e0e10",
   "metadata": {},
   "source": [
    "##### 키와 값 추가하기 #####"
   ]
  },
  {
   "cell_type": "code",
   "execution_count": 22,
   "id": "ede7799a-ece3-4a9b-b1f3-fda8a26855f0",
   "metadata": {},
   "outputs": [
    {
     "name": "stdout",
     "output_type": "stream",
     "text": [
      "{'key': 'super value', 'key2': 'value2', 'key3': 'value3'}\n",
      "{'key': 'super value', 'key2': 'value2', 'key3': 'value3', 'new one': 'new value'}\n"
     ]
    }
   ],
   "source": [
    "print(dict_b)\n",
    "dict_b['new one'] = \"new value\" # 새로운 키와 값 추가하기\n",
    "print(dict_b)"
   ]
  },
  {
   "cell_type": "code",
   "execution_count": 28,
   "id": "5e110929-ea6e-4f15-8d0e-d0be2fef8009",
   "metadata": {},
   "outputs": [
    {
     "name": "stdout",
     "output_type": "stream",
     "text": [
      "{'key': 'super value', 'key2': 'value2', 'key3': 'value3', 'new one': 'new value'}\n"
     ]
    },
    {
     "ename": "KeyError",
     "evalue": "'없는 키'",
     "output_type": "error",
     "traceback": [
      "\u001b[1;31m---------------------------------------------------------------------------\u001b[0m",
      "\u001b[1;31mKeyError\u001b[0m                                  Traceback (most recent call last)",
      "\u001b[1;32m~\\AppData\\Local\\Temp\\ipykernel_5308\\3708490652.py\u001b[0m in \u001b[0;36m<module>\u001b[1;34m\u001b[0m\n\u001b[0;32m      1\u001b[0m \u001b[0mprint\u001b[0m\u001b[1;33m(\u001b[0m\u001b[0mdict_b\u001b[0m\u001b[1;33m)\u001b[0m\u001b[1;33m\u001b[0m\u001b[1;33m\u001b[0m\u001b[0m\n\u001b[1;32m----> 2\u001b[1;33m \u001b[0mprint\u001b[0m\u001b[1;33m(\u001b[0m\u001b[0mdict_b\u001b[0m\u001b[1;33m[\u001b[0m\u001b[1;34m'없는 키'\u001b[0m\u001b[1;33m]\u001b[0m\u001b[1;33m)\u001b[0m\u001b[1;33m\u001b[0m\u001b[1;33m\u001b[0m\u001b[0m\n\u001b[0m",
      "\u001b[1;31mKeyError\u001b[0m: '없는 키'"
     ]
    }
   ],
   "source": [
    "print(dict_b)\n",
    "print(dict_b['없는 키']) # 없는 키에 접근했을떄 오류가 뜸"
   ]
  },
  {
   "cell_type": "code",
   "execution_count": 29,
   "id": "85325c45-9ab3-4b61-8f78-47eeb2e74706",
   "metadata": {},
   "outputs": [
    {
     "name": "stdout",
     "output_type": "stream",
     "text": [
      "{'key': 'super value', 'key2': 'value2', 'key3': 'value3', 'new one': 'new value'}\n",
      "True\n"
     ]
    }
   ],
   "source": [
    "print(dict_b)\n",
    "print('key' in dict_b) #'key'라는 값이 있으면 true / 없으면 false"
   ]
  },
  {
   "cell_type": "code",
   "execution_count": 30,
   "id": "7d31bea7-eab9-4329-9991-c24f8ca0c344",
   "metadata": {},
   "outputs": [
    {
     "name": "stdout",
     "output_type": "stream",
     "text": [
      "{'key': 'super value', 'key2': 'value2', 'key3': 'value3', 'new one': 'new value'}\n",
      "{'key': 'super value', 'key2': 'value2', 'key3': 'value3'}\n"
     ]
    }
   ],
   "source": [
    "print(dict_b)\n",
    "del dict_b['new one'] # 'new one'라는 키 삭제\n",
    "print(dict_b)"
   ]
  },
  {
   "cell_type": "code",
   "execution_count": 31,
   "id": "1eb48259-adc6-467d-9a24-e41ec27cb6b0",
   "metadata": {},
   "outputs": [
    {
     "name": "stdout",
     "output_type": "stream",
     "text": [
      "{'key': 'super value', 'key2': 'value2', 'key3': 'value3'}\n"
     ]
    },
    {
     "data": {
      "text/plain": [
       "3"
      ]
     },
     "execution_count": 31,
     "metadata": {},
     "output_type": "execute_result"
    }
   ],
   "source": [
    "print(dict_b)\n",
    "len(dict_b) # 키와 값의 쌍 개수 구하기"
   ]
  },
  {
   "cell_type": "markdown",
   "id": "218cbd60-88e3-4145-b981-f8732a71e1d6",
   "metadata": {},
   "source": [
    "### 연습 문제 ###"
   ]
  },
  {
   "cell_type": "code",
   "execution_count": 68,
   "id": "6c25abcf-22d3-4fa0-ba14-5ff570f572a2",
   "metadata": {},
   "outputs": [
    {
     "name": "stdout",
     "output_type": "stream",
     "text": [
      "실행 결과:\n"
     ]
    },
    {
     "name": "stdin",
     "output_type": "stream",
     "text": [
      "과일 이름을 입력하세요. 사과\n"
     ]
    },
    {
     "name": "stdout",
     "output_type": "stream",
     "text": [
      "사과 의 가격은 1000 원입니다.\n"
     ]
    }
   ],
   "source": [
    "print(\"실행 결과:\")\n",
    "won = {\"사과\": 1000, \"바나나\": 700, \"오렌지\":1500, \"파인애플\":2000}\n",
    "fru = input(\"과일 이름을 입력하세요.\")\n",
    "print(fru, \"의 가격은\", won[fru] , \"원입니다.\")"
   ]
  },
  {
   "cell_type": "code",
   "execution_count": 105,
   "id": "c3f1cae3-dbfd-4367-b07d-025a68e326f2",
   "metadata": {},
   "outputs": [
    {
     "name": "stdout",
     "output_type": "stream",
     "text": [
      "실행 결과:\n"
     ]
    },
    {
     "name": "stdin",
     "output_type": "stream",
     "text": [
      "이름을 기입해주세요 뽀로로 루피 크롱 해리\n",
      "몸무게를 입력해주세요. 30.5 28 29 10 \n"
     ]
    },
    {
     "name": "stdout",
     "output_type": "stream",
     "text": [
      "{'뽀로로': 30.5, '루피': 28.0, '크롱': 29.0, '해리': 10.0}\n"
     ]
    }
   ],
   "source": [
    "print(\"실행 결과:\")\n",
    "name = input(\"이름을 기입해주세요\").split( ) # split() 사용하면 list로 형성\n",
    "wei = map(float, input(\"몸무게를 입력해주세요.\").split( ))\n",
    "\n",
    "result = dict(zip(name, wei))\n",
    "\n",
    "print(result)"
   ]
  },
  {
   "cell_type": "code",
   "execution_count": 112,
   "id": "84ed06ae-66c3-4985-a88a-a114005d5c3e",
   "metadata": {},
   "outputs": [
    {
     "name": "stdin",
     "output_type": "stream",
     "text": [
      "이름을 기입해주세요 뽀로로 루피 크롱 해리\n",
      "몸무게를 입력해주세요. 30.5 28 29 10 \n"
     ]
    },
    {
     "name": "stdout",
     "output_type": "stream",
     "text": [
      "{'뽀로로': 30.5, '루피': 28.0, '크롱': 29.0, '해리': 10.0}\n"
     ]
    }
   ],
   "source": [
    "# [ 뽀로로, 루피, 크롱, 해리 ]\n",
    "names = input(\"이름을 기입해주세요\").split( ) \n",
    "weights = list(map(float, input(\"몸무게를 입력해주세요.\").split( )))\n",
    "\n",
    "dict_mm ={}\n",
    "# dict_mm = dict()\n",
    "# len(names) --> 4\n",
    "# range(4)  -->  0, 1, 2, 3\n",
    "# i --> i = 0 반복, i = 1 반복, i = 2 반복, i = 3 반복\n",
    "for i in range(len(names)):\n",
    "    dict_mm[names[i]] = weights[i]\n",
    "print(dict_mm)"
   ]
  },
  {
   "cell_type": "code",
   "execution_count": 1,
   "id": "ba334349-51db-46b4-b73d-c58041134ccb",
   "metadata": {},
   "outputs": [
    {
     "name": "stdout",
     "output_type": "stream",
     "text": [
      "실행 결과:\n",
      "김태형 후보가 총 4표를 받아 당선되었습니다.\n"
     ]
    }
   ],
   "source": [
    "votes = [2, 5, 3, 4, 1, 5, 1, 5, 5, 3]\n",
    "candidates = [\"\", \"전정국\", \"김남준\", \"박지민\", \"정호석\", \"김태형\"]\n",
    "print(\"실행 결과:\")\n",
    "counts =  [0] * len(candidates)  #[0, 0, 0, 0, 0, 0]\n",
    "for vote in votes:\n",
    "    counts[vote] += 1 #득표수 구하기 #[0, 2, 1, 2, 1, 4]\n",
    "\n",
    "i = 1\n",
    "max_count = 0\n",
    "# 1, 2, 3, 4, 5\n",
    "while i < len(counts): #len(counts) => 6\n",
    "    if max_count < counts[i]:\n",
    "        max_count = counts[i]\n",
    "        elected_person = i\n",
    "    i += 1\n",
    "print(f\"{candidates[elected_person]} 후보가 총 {max_count}표를 받아 당선되었습니다.\")"
   ]
  },
  {
   "cell_type": "code",
   "execution_count": null,
   "id": "b0dedcbc-5bae-48eb-873f-daf1827d4314",
   "metadata": {},
   "outputs": [],
   "source": []
  }
 ],
 "metadata": {
  "kernelspec": {
   "display_name": "Python 3 (ipykernel)",
   "language": "python",
   "name": "python3"
  },
  "language_info": {
   "codemirror_mode": {
    "name": "ipython",
    "version": 3
   },
   "file_extension": ".py",
   "mimetype": "text/x-python",
   "name": "python",
   "nbconvert_exporter": "python",
   "pygments_lexer": "ipython3",
   "version": "3.9.13"
  }
 },
 "nbformat": 4,
 "nbformat_minor": 5
}

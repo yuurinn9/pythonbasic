{
 "cells": [
  {
   "cell_type": "markdown",
   "id": "ed2b524e-83d5-477f-99e9-218f4de8cd6d",
   "metadata": {},
   "source": [
    "<h1> 객체지향 프로그래밍 </h1>"
   ]
  },
  {
   "cell_type": "markdown",
   "id": "33903393-1264-47a3-828f-7fc562732a15",
   "metadata": {},
   "source": [
    "- 복잡한 문제를 잘게 나누어 객체로 만들고, 객체를 조합해서 문제를 해결한다."
   ]
  },
  {
   "cell_type": "markdown",
   "id": "b5f5d17c-7199-4164-9a7d-e748b8ee8786",
   "metadata": {},
   "source": [
    "- 현실 세계의 복잡한 문제를 처리하는데 유용하며 기능을 개선하고 발전시킬 때도 해당 클래스만 수정하면 되므오 큰 프로젝트의 유지보수에도 매우 효율적이다."
   ]
  },
  {
   "cell_type": "markdown",
   "id": "b46acf57-5d29-44f1-a121-bcaa773d2f8b",
   "metadata": {},
   "source": [
    "- 객체가 가진 데이터를 클래스의 속성(Attribute)이라 부르고 객체가 갖는 기능을 메서드(Method)라고 부른다."
   ]
  },
  {
   "cell_type": "markdown",
   "id": "91f822a6-e376-4008-a202-1856c0083bff",
   "metadata": {},
   "source": [
    " # 클래스(class) #"
   ]
  },
  {
   "cell_type": "markdown",
   "id": "f839870a-b5fb-41a4-a984-202d65553094",
   "metadata": {},
   "source": [
    "```python\n",
    "class ClassName: # 클래스명으로 주로 PascalCase(UpperCamelCase)를 씀\n",
    "    '''\n",
    "    Dock String\n",
    "    '''\n",
    "    def method_name(self):\n",
    "        method_body\n",
    "        \n",
    "    class_body\n",
    "    ...\n",
    "```"
   ]
  },
  {
   "cell_type": "markdown",
   "id": "063b06c3-22c7-4ee4-a8bd-b3ae9faf9b6c",
   "metadata": {},
   "source": [
    "- 지금까지 사용해온 int, list, dict도 모두 클래스다"
   ]
  },
  {
   "cell_type": "markdown",
   "id": "5fc5afff-1619-477b-bc0d-e49ecf7b1d43",
   "metadata": {},
   "source": [
    "### 객체? 인스턴스? ###"
   ]
  },
  {
   "cell_type": "markdown",
   "id": "f32049d7-d73c-4b3b-907a-1442cf54588a",
   "metadata": {},
   "source": [
    "- 둘은 같은말이다"
   ]
  },
  {
   "cell_type": "markdown",
   "id": "b9ed1522-5713-4b66-b6ec-89f070fe6a6d",
   "metadata": {},
   "source": [
    "```python\n",
    "instance_variable = ClassName()\n",
    "```"
   ]
  },
  {
   "cell_type": "markdown",
   "id": "f17dc441-e732-4920-9d79-2dbe6d9e78e7",
   "metadata": {},
   "source": [
    "객체를 언급할 땐 단어 하나만 활용하여 단지 '객체'라고 표현  \n",
    "그와 달리 인스턴스는 특정 클래스로부터 만들어진 실체로 언듭을 많이함  \n",
    "예를 들어 인스턴스의 경우 '리스트 클래스로 만들어진 인스턴스다'라고 말할 수 있음  \n",
    "부르는 구체적인 것은 조금 달라도 결국 둘은 같은 말이다  "
   ]
  },
  {
   "cell_type": "markdown",
   "id": "32bf8ba5-34a5-4205-9431-6e356cffaf40",
   "metadata": {},
   "source": [
    "### 메서드(Method) ? ###"
   ]
  },
  {
   "cell_type": "markdown",
   "id": "bede3016-b09f-4894-be5a-e373e0380d87",
   "metadata": {},
   "source": [
    "메서드는 클래스 바디 안에서 정의되는 함수이다   \n",
    "클래스의 인스턴스의 어트리뷰트로서 호출되면, 그 메서드는 첫번째 인자로 인스턴스 객체를 받음  \n",
    "첫 번째 인자를 설정 안 하면 에러 발생  \n",
    "이 첫번째 인자를 'self'라고 씀  "
   ]
  },
  {
   "cell_type": "markdown",
   "id": "82c5298f-d61d-4010-bd0e-6a3cefd43560",
   "metadata": {},
   "source": [
    "```python\n",
    "class ClassName:\n",
    "    def method_name(self):\n",
    "        method_body\n",
    "    class_body\n",
    "```"
   ]
  },
  {
   "cell_type": "markdown",
   "id": "d5b4ca16-5e09-4727-b565-0f2778a44113",
   "metadata": {},
   "source": [
    "ex)"
   ]
  },
  {
   "cell_type": "markdown",
   "id": "f819f3f2-6a21-462a-bac0-0b2c9b1df29f",
   "metadata": {},
   "source": [
    "class student():\n",
    "    def eat_foot()\n",
    "    pass"
   ]
  },
  {
   "cell_type": "code",
   "execution_count": 17,
   "id": "2bbd24d1-fed0-4c1b-aef5-6167a3257dca",
   "metadata": {},
   "outputs": [],
   "source": [
    "yl = student() # 독립적인 값을 보장하는 인스턴스로 생성"
   ]
  },
  {
   "cell_type": "markdown",
   "id": "6b0e4176-c202-4ddd-81cf-8f05c3240438",
   "metadata": {},
   "source": [
    "```python\n",
    "클래스 속성을 만들때에는 __init__메서드 안에서 self.속성 에 값을 할당하면 됩니다.\n"
   ]
  },
  {
   "cell_type": "markdown",
   "id": "c70b0ff0-2e44-4a7b-8f9e-33db56bea6e4",
   "metadata": {},
   "source": [
    "```python\n",
    "class ClassName:\n",
    "    def __init__(self)\n",
    "        self.속성 = 값\n",
    "```"
   ]
  },
  {
   "cell_type": "code",
   "execution_count": 22,
   "id": "1fb168dc-19e4-4a65-a1d9-9ba4e24e0dc5",
   "metadata": {},
   "outputs": [],
   "source": [
    "class person:\n",
    "     def __init__(self):\n",
    "        self.hello = \"안녕하세요.\""
   ]
  },
  {
   "cell_type": "code",
   "execution_count": 23,
   "id": "4d298c5e-cf24-4c85-a069-9a9a68f6d38a",
   "metadata": {},
   "outputs": [],
   "source": [
    "james = person()"
   ]
  },
  {
   "cell_type": "code",
   "execution_count": 24,
   "id": "89bf5b97-9657-4dfb-bb0e-9ccf2a61f8f5",
   "metadata": {},
   "outputs": [
    {
     "name": "stdout",
     "output_type": "stream",
     "text": [
      "안녕하세요.\n"
     ]
    }
   ],
   "source": [
    "print(james.hello)"
   ]
  },
  {
   "cell_type": "code",
   "execution_count": 26,
   "id": "730f3b47-5742-44b3-8e07-ef64520de164",
   "metadata": {},
   "outputs": [
    {
     "data": {
      "text/plain": [
       "'안녕하세요.'"
      ]
     },
     "execution_count": 26,
     "metadata": {},
     "output_type": "execute_result"
    }
   ],
   "source": [
    "babe = person()\n",
    "babe.hello"
   ]
  },
  {
   "cell_type": "markdown",
   "id": "7f29c38d-3485-48d4-83b3-2437a7a05705",
   "metadata": {},
   "source": [
    "<h1>클래스 속성</h1>"
   ]
  },
  {
   "cell_type": "markdown",
   "id": "5cdb1ff5-57a5-48ee-9c05-45cd22901898",
   "metadata": {},
   "source": [
    "- __init__메서드는 james = person()처럼 클래스에 소괄호(())를 붙여서 인스턴스를 만들 때 호출되는 특별한 메서드(special method, magic method)입니다.  \n",
    "- __init__은 initialize의 줄임말로 인스턴스(객체)를 초기화(메모리에 공간을 할당하고 값을 부여)함  \n",
    "- 밑줄 두개(__double under, 던더)가 양 옆으로 붙어있는 메서드는 파이썬이 자동으로 호출하는 메서드  \n",
    "- 스페셜 메서드 혹은 매직 메서드라고 부름  \n",
    "- 던더 메서드로 불리기도 함  \n",
    "- 파이썬의 여러 가지 기능을 사용할 때 이 던더 메서드를 구현하는 식으로 사용  "
   ]
  },
  {
   "cell_type": "code",
   "execution_count": null,
   "id": "aae36f4e-4987-402a-baab-9aeaf630534c",
   "metadata": {},
   "outputs": [],
   "source": []
  }
 ],
 "metadata": {
  "kernelspec": {
   "display_name": "Python 3 (ipykernel)",
   "language": "python",
   "name": "python3"
  },
  "language_info": {
   "codemirror_mode": {
    "name": "ipython",
    "version": 3
   },
   "file_extension": ".py",
   "mimetype": "text/x-python",
   "name": "python",
   "nbconvert_exporter": "python",
   "pygments_lexer": "ipython3",
   "version": "3.9.13"
  }
 },
 "nbformat": 4,
 "nbformat_minor": 5
}

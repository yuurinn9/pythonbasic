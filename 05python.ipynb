{
 "cells": [
  {
   "cell_type": "markdown",
   "id": "6f438562-0f3e-40dc-a822-1059d0b5daf4",
   "metadata": {},
   "source": [
    "### 2023-01-06 (3일차)"
   ]
  },
  {
   "cell_type": "markdown",
   "id": "b07d9634-023e-4a7e-90f3-bec8b0f81e2c",
   "metadata": {},
   "source": [
    "#### <for문>"
   ]
  },
  {
   "cell_type": "markdown",
   "id": "58d9241b-23cd-40e5-98fc-972480851500",
   "metadata": {},
   "source": [
    "##### for문과 range() 내장 함수\n",
    "- range() 내장 함수는 연속된 숫자 만드는데 특화  \n",
    "- for문은 반복 실행하는데 특화 \n",
    "     \n",
    " for (요소를 담을 변수)  in 반복 가능한 객체:   \n",
    " 반복할 코드    \n",
    "     for 변수 in range(횟수):   \n",
    "     반복할 코드  \n",
    "       \n",
    "       "
   ]
  },
  {
   "cell_type": "markdown",
   "id": "8174ba02-022a-4613-a06f-0856ee0f5a56",
   "metadata": {},
   "source": [
    "ex)"
   ]
  },
  {
   "cell_type": "code",
   "execution_count": 3,
   "id": "c517d85d-bd19-461b-9d38-f475cb850b76",
   "metadata": {},
   "outputs": [
    {
     "name": "stdout",
     "output_type": "stream",
     "text": [
      "Hello world\n",
      "Hello world\n",
      "Hello world\n",
      "Hello world\n",
      "Hello world\n",
      "Hello world\n",
      "Hello world\n",
      "Hello world\n",
      "Hello world\n",
      "Hello world\n"
     ]
    }
   ],
   "source": [
    "for n in range(10):\n",
    "    print(\"Hello world\")"
   ]
  },
  {
   "cell_type": "markdown",
   "id": "09884f33-db5f-42a4-b89f-ae2463b19a0e",
   "metadata": {},
   "source": [
    "### range() 함수  \n",
    "##### 슬라이싱과 구조가 비슷  \n",
    "range변수 = range(시작, 끝, 증감크기)  \n",
    "       시퀀스자료형변수[시작:끝:증감크기]\n",
    "       \n",
    "       \n"
   ]
  },
  {
   "cell_type": "code",
   "execution_count": 5,
   "id": "102db2a0-0aaf-409b-ab18-8fe36c51d6f2",
   "metadata": {},
   "outputs": [
    {
     "name": "stdout",
     "output_type": "stream",
     "text": [
      "[2, 4, 6, 8, 10, 12, 14, 16, 18, 20, 22, 24, 26, 28, 30, 32, 34, 36, 38, 40, 42, 44, 46, 48, 50, 52, 54, 56, 58, 60, 62, 64, 66, 68, 70, 72, 74, 76, 78, 80, 82, 84, 86, 88, 90, 92, 94, 96, 98]\n"
     ]
    }
   ],
   "source": [
    "even_numbers = list(range(2, 100, 2))\n",
    "print(even_numbers)"
   ]
  },
  {
   "cell_type": "code",
   "execution_count": 10,
   "id": "b88015b3-0355-4f10-b09d-d2932532813c",
   "metadata": {},
   "outputs": [
    {
     "name": "stdout",
     "output_type": "stream",
     "text": [
      "실행 결과:\n",
      "Hello world 1\n",
      "Hello world 2\n",
      "Hello world 3\n",
      "Hello world 4\n",
      "Hello world 5\n",
      "Hello world 6\n",
      "Hello world 7\n",
      "Hello world 8\n",
      "Hello world 9\n",
      "Hello world 10\n",
      "Hello world 11\n",
      "Hello world 12\n",
      "Hello world 13\n",
      "Hello world 14\n",
      "Hello world 15\n",
      "Hello world 16\n",
      "Hello world 17\n",
      "Hello world 18\n",
      "Hello world 19\n",
      "Hello world 20\n",
      "Hello world 21\n",
      "Hello world 22\n",
      "Hello world 23\n",
      "Hello world 24\n",
      "Hello world 25\n",
      "Hello world 26\n",
      "Hello world 27\n",
      "Hello world 28\n",
      "Hello world 29\n",
      "Hello world 30\n",
      "Hello world 31\n",
      "Hello world 32\n",
      "Hello world 33\n",
      "Hello world 34\n",
      "Hello world 35\n",
      "Hello world 36\n",
      "Hello world 37\n",
      "Hello world 38\n",
      "Hello world 39\n",
      "Hello world 40\n",
      "Hello world 41\n",
      "Hello world 42\n",
      "Hello world 43\n",
      "Hello world 44\n",
      "Hello world 45\n",
      "Hello world 46\n",
      "Hello world 47\n",
      "Hello world 48\n",
      "Hello world 49\n",
      "Hello world 50\n",
      "Hello world 51\n",
      "Hello world 52\n",
      "Hello world 53\n",
      "Hello world 54\n",
      "Hello world 55\n",
      "Hello world 56\n",
      "Hello world 57\n",
      "Hello world 58\n",
      "Hello world 59\n",
      "Hello world 60\n",
      "Hello world 61\n",
      "Hello world 62\n",
      "Hello world 63\n",
      "Hello world 64\n",
      "Hello world 65\n",
      "Hello world 66\n",
      "Hello world 67\n",
      "Hello world 68\n",
      "Hello world 69\n",
      "Hello world 70\n",
      "Hello world 71\n",
      "Hello world 72\n",
      "Hello world 73\n",
      "Hello world 74\n",
      "Hello world 75\n",
      "Hello world 76\n",
      "Hello world 77\n",
      "Hello world 78\n",
      "Hello world 79\n",
      "Hello world 80\n",
      "Hello world 81\n",
      "Hello world 82\n",
      "Hello world 83\n",
      "Hello world 84\n",
      "Hello world 85\n",
      "Hello world 86\n",
      "Hello world 87\n",
      "Hello world 88\n",
      "Hello world 89\n",
      "Hello world 90\n",
      "Hello world 91\n",
      "Hello world 92\n",
      "Hello world 93\n",
      "Hello world 94\n",
      "Hello world 95\n",
      "Hello world 96\n",
      "Hello world 97\n",
      "Hello world 98\n",
      "Hello world 99\n",
      "Hello world 100\n"
     ]
    }
   ],
   "source": [
    "print(\"실행 결과:\")\n",
    "for n in range(1, 101):\n",
    "    print(\"Hello world\", n)"
   ]
  },
  {
   "cell_type": "code",
   "execution_count": 12,
   "id": "7950a544-a2cd-4ba2-9bcd-6b06636575ed",
   "metadata": {},
   "outputs": [
    {
     "name": "stdout",
     "output_type": "stream",
     "text": [
      "실행 결과:\n"
     ]
    },
    {
     "name": "stdin",
     "output_type": "stream",
     "text": [
      "인사 몇 번 해드릴까요? 3\n"
     ]
    },
    {
     "name": "stdout",
     "output_type": "stream",
     "text": [
      "Hello world\n",
      "Hello world\n",
      "Hello world\n"
     ]
    }
   ],
   "source": [
    "print(\"실행 결과:\")\n",
    "y = int(input(\"인사 몇 번 해드릴까요?\"))\n",
    "for n in range(y):\n",
    "    print(\"Hello world\")"
   ]
  },
  {
   "cell_type": "code",
   "execution_count": 1,
   "id": "bd8904b7-ab2a-407d-acf4-482fad0c7a92",
   "metadata": {},
   "outputs": [
    {
     "name": "stdout",
     "output_type": "stream",
     "text": [
      "실행 결과:\n",
      "[5, 6, 7, 8, 9]\n",
      "[0, 3, 6, 9]\n",
      "[-10, -40, -70]\n"
     ]
    }
   ],
   "source": [
    "print(\"실행 결과:\")\n",
    "print(list(range(5,10)))\n",
    "print(list(range(0,10,3)))\n",
    "print(list(range(-10,-100,-30)))\n"
   ]
  },
  {
   "cell_type": "code",
   "execution_count": 94,
   "id": "4ab3698a-1372-4230-b58b-43d2e0d52296",
   "metadata": {},
   "outputs": [
    {
     "name": "stdout",
     "output_type": "stream",
     "text": [
      "실행 결과:\n"
     ]
    },
    {
     "name": "stdin",
     "output_type": "stream",
     "text": [
      "자연수 하나 입력해주세요: 6\n"
     ]
    },
    {
     "name": "stdout",
     "output_type": "stream",
     "text": [
      "6\t6\t6\t6\t6\t6\t\n",
      "5\t5\t5\t5\t5\t\n",
      "4\t4\t4\t4\t\n",
      "3\t3\t3\t\n",
      "2\t2\t\n",
      "1\t\n"
     ]
    }
   ],
   "source": [
    "print(\"실행 결과:\")\n",
    "f = int(input(\"자연수 하나 입력해주세요:\"))\n",
    "for i in range(f, 0, -1):\n",
    "    for j in range(i):\n",
    "        print(i, end = \"\\t\")\n",
    "    print()\n",
    "       \n"
   ]
  },
  {
   "cell_type": "code",
   "execution_count": 118,
   "id": "378e0d42-d1bc-441c-a0bf-f973604e867e",
   "metadata": {},
   "outputs": [
    {
     "name": "stdout",
     "output_type": "stream",
     "text": [
      "실행 결과:\n",
      "* * * * * * * * * * \n",
      "*                 *\n",
      "*                 *\n",
      "*                 *\n",
      "*                 *\n",
      "*                 *\n",
      "*                 *\n",
      "*                 *\n",
      "*                 *\n",
      "* * * * * * * * * * \n"
     ]
    }
   ],
   "source": [
    "print(\"실행 결과:\")\n",
    "for i in range(10):\n",
    "    if i == 0 or i == 9:\n",
    "        print(\"* \"*10)\n",
    "    else:\n",
    "        print(\"*                 *\")"
   ]
  },
  {
   "cell_type": "code",
   "execution_count": 172,
   "id": "93861a61-6951-4233-a2fb-6b58e32c0cb2",
   "metadata": {},
   "outputs": [
    {
     "name": "stdout",
     "output_type": "stream",
     "text": [
      "실행 결과:\n"
     ]
    },
    {
     "name": "stdin",
     "output_type": "stream",
     "text": [
      "1부터 입력한 자연수까지의 모든 홀수의 합을 구합니다 14\n"
     ]
    },
    {
     "name": "stdout",
     "output_type": "stream",
     "text": [
      "1 + 98 3 + 98 5 + 98 7 + 98 9 + 98 11 + 98 "
     ]
    }
   ],
   "source": [
    "print(\"실행 결과:\")\n",
    "a = int(input(\"1부터 입력한 자연수까지의 모든 홀수의 합을 구합니다\"))\n",
    "sum+ = i\n",
    "for i in range(1, a-1, 2):\n",
    "    if a%2 == 0 :\n",
    "        print(i, \"+\", end = \" \")\n",
    "    else :\n",
    "        print(i, \"+\", end = \" \")\n"
   ]
  },
  {
   "cell_type": "code",
   "execution_count": 191,
   "id": "8de140b7-aa61-44f5-b9ae-3472e251e3b4",
   "metadata": {},
   "outputs": [
    {
     "name": "stdout",
     "output_type": "stream",
     "text": [
      "실행 결과:\n"
     ]
    },
    {
     "name": "stdin",
     "output_type": "stream",
     "text": [
      "1부터 입력한 자연수까지의 모든 홀수의 합을 구합니다 14\n"
     ]
    },
    {
     "name": "stdout",
     "output_type": "stream",
     "text": [
      "1 + 3 + 5 + 7 + 9 + 11 + 13 = 49\n"
     ]
    }
   ],
   "source": [
    "print(\"실행 결과:\")\n",
    "a = int(input(\"1부터 입력한 자연수까지의 모든 홀수의 합을 구합니다\"))\n",
    "hab = 0\n",
    "for i in range(1, a+1, 2):\n",
    "    if i % 2 == 1:\n",
    "        if(a - 1) == i or a == i :\n",
    "            print(i, end=\" = \")\n",
    "        else:\n",
    "            print(i, end = \" + \")\n",
    "    hab += i\n",
    "print(hab)"
   ]
  },
  {
   "cell_type": "code",
   "execution_count": 196,
   "id": "0fd0bd7e-7f5f-41f7-bc72-cce52eed9d7a",
   "metadata": {},
   "outputs": [
    {
     "name": "stdout",
     "output_type": "stream",
     "text": [
      "실행 결과:\n"
     ]
    },
    {
     "name": "stdin",
     "output_type": "stream",
     "text": [
      "계승을 구할 숫자를 입력하세요. 7\n"
     ]
    },
    {
     "name": "stdout",
     "output_type": "stream",
     "text": [
      "5040\n"
     ]
    }
   ],
   "source": [
    "print(\"실행 결과:\")\n",
    "b = int(input(\"계승을 구할 숫자를 입력하세요.\"))\n",
    "fac = 1\n",
    "for i in range(1,b+1,1):\n",
    "    fac *= i\n",
    "print(fac)"
   ]
  },
  {
   "cell_type": "code",
   "execution_count": 1,
   "id": "4c90d3e2-d968-4b16-925c-4d1b3f68c968",
   "metadata": {},
   "outputs": [
    {
     "name": "stdin",
     "output_type": "stream",
     "text": [
      "계승을 구할 숫자를 입력하세요. 5\n"
     ]
    },
    {
     "name": "stdout",
     "output_type": "stream",
     "text": [
      "120\n"
     ]
    }
   ],
   "source": [
    "import math\n",
    "a = int(input(\"계승을 구할 숫자를 입력하세요.\"))\n",
    "print(math.factorial(a))"
   ]
  },
  {
   "cell_type": "markdown",
   "id": "9ca868df-9779-46b8-ba44-3c4004895043",
   "metadata": {},
   "source": [
    "### reversed() 함수  \n",
    "##### 역순으로 변경 가능 (리스트 메서드에 있는 reverse()와 다른 함수)\n",
    "- 반환값을 주지만 해당 시퀸스를 변경X\n",
    "- 요소 순서를 뒤집으면 반환값X\n"
   ]
  },
  {
   "cell_type": "code",
   "execution_count": 3,
   "id": "8894e618-a725-4b83-8e97-a23898bbcaaa",
   "metadata": {},
   "outputs": [
    {
     "name": "stdout",
     "output_type": "stream",
     "text": [
      "실행 결과:\n",
      "100 -420 250 1030 210 770 240 "
     ]
    }
   ],
   "source": [
    "x = [10, -42, 25, 103, 21, 77, 24]\n",
    "print(\"실행 결과:\")\n",
    "for i in x:\n",
    "    print(i*10, end=\" \")"
   ]
  },
  {
   "cell_type": "code",
   "execution_count": 14,
   "id": "432d44ea-f15e-44eb-9143-cd54c38c91f9",
   "metadata": {},
   "outputs": [
    {
     "name": "stdout",
     "output_type": "stream",
     "text": [
      "실행 결과:\n"
     ]
    },
    {
     "name": "stdin",
     "output_type": "stream",
     "text": [
      "구구단을 알려드립니다. 숫자를 입력하세요 9\n"
     ]
    },
    {
     "name": "stdout",
     "output_type": "stream",
     "text": [
      "9 * 1 = 9\n",
      "9 * 2 = 18\n",
      "9 * 3 = 27\n",
      "9 * 4 = 36\n",
      "9 * 5 = 45\n",
      "9 * 6 = 54\n",
      "9 * 7 = 63\n",
      "9 * 8 = 72\n",
      "9 * 9 = 81\n"
     ]
    }
   ],
   "source": [
    "print(\"실행 결과:\")\n",
    "gu = int(input(\"구구단을 알려드립니다. 숫자를 입력하세요\"))\n",
    "for i in range(1,10,1):\n",
    "    gugu = gu * i\n",
    "    print(gu, \"*\", i, \"=\", gugu )"
   ]
  },
  {
   "cell_type": "code",
   "execution_count": 21,
   "id": "c65f0311-3b8f-41da-86ff-344096961b64",
   "metadata": {},
   "outputs": [
    {
     "name": "stdout",
     "output_type": "stream",
     "text": [
      "실행 결과:\n"
     ]
    },
    {
     "name": "stdin",
     "output_type": "stream",
     "text": [
      "자연수를 입력해주세요: 100\n"
     ]
    },
    {
     "name": "stdout",
     "output_type": "stream",
     "text": [
      "5050\n"
     ]
    }
   ],
   "source": [
    "print(\"실행 결과:\")\n",
    "c = int(input(\"자연수를 입력해주세요:\"))\n",
    "sum = 0\n",
    "for i in range(1,c+1):\n",
    "    sum += i\n",
    "print(sum)"
   ]
  },
  {
   "cell_type": "code",
   "execution_count": null,
   "id": "7ad52c46-b27b-4d6f-a080-9b83f70e2ceb",
   "metadata": {},
   "outputs": [],
   "source": []
  }
 ],
 "metadata": {
  "kernelspec": {
   "display_name": "Python 3 (ipykernel)",
   "language": "python",
   "name": "python3"
  },
  "language_info": {
   "codemirror_mode": {
    "name": "ipython",
    "version": 3
   },
   "file_extension": ".py",
   "mimetype": "text/x-python",
   "name": "python",
   "nbconvert_exporter": "python",
   "pygments_lexer": "ipython3",
   "version": "3.9.13"
  }
 },
 "nbformat": 4,
 "nbformat_minor": 5
}

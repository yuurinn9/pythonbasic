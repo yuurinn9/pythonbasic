{
 "cells": [
  {
   "cell_type": "markdown",
   "id": "54b1b857-dea2-43a2-a8cc-b82cdd6d668d",
   "metadata": {},
   "source": [
    "### 리스트 생성 방법 ###"
   ]
  },
  {
   "cell_type": "markdown",
   "id": "0837536f-edfe-4e13-bdde-5a6c1443b0f7",
   "metadata": {},
   "source": [
    "### 리스트 컴프리헨션 ###  \n",
    "  \n",
    "  \n",
    "##### 리스트 컴프리헨션 동작순서 #####  \n",
    "\n",
    "\n",
    "1. 반복가능한 객체로부터 값을 하나 꺼내와서 변수에 담음  \n",
    "\n",
    "2. 요소를 담은 변수를 활용해서 표현식을 실행  \n",
    "    (이때 변수는 활용할수도, 활용하지 않을수도)  \n",
    "    \n",
    "3. 표현식 결과 값을 리스트 요소에 넣기  \n",
    "\n",
    "4. 반복가능한 객체로부터 값이 없을 때까지 1~3 과정을 반복"
   ]
  },
  {
   "cell_type": "markdown",
   "id": "e8ba0d2d-5199-40c6-be9b-971489b5f580",
   "metadata": {},
   "source": [
    "list_variable = [expression for 변수 in iterrable]"
   ]
  },
  {
   "cell_type": "code",
   "execution_count": 3,
   "id": "812f1727-02e9-4126-8c5a-6a6ae398363f",
   "metadata": {},
   "outputs": [
    {
     "name": "stdout",
     "output_type": "stream",
     "text": [
      "[1, 4, 9, 16, 25, 36, 49, 64, 81]\n"
     ]
    }
   ],
   "source": [
    "#range --> 1, 2, ... , 9\n",
    "#_ --> _ = 1, ... _=9\n",
    "list_a = [_**2 for _ in range(1, 10)]\n",
    "print(list_a)"
   ]
  },
  {
   "cell_type": "code",
   "execution_count": 5,
   "id": "593b9d59-3cd9-4174-8650-e9c405a82706",
   "metadata": {},
   "outputs": [
    {
     "name": "stdout",
     "output_type": "stream",
     "text": [
      "Hello world\n",
      "Hello world\n",
      "Hello world\n",
      "Hello world\n",
      "Hello world\n",
      "Hello world\n",
      "Hello world\n",
      "Hello world\n",
      "Hello world\n",
      "Hello world\n"
     ]
    }
   ],
   "source": [
    "list_b = [print(\"Hello world\") for _ in range(10)]"
   ]
  },
  {
   "cell_type": "code",
   "execution_count": 7,
   "id": "7fca2211-736c-43cd-9805-e1c731755b27",
   "metadata": {},
   "outputs": [
    {
     "name": "stdout",
     "output_type": "stream",
     "text": [
      "[1, 4, 9, 16, 25, 36, 49, 64, 81]\n"
     ]
    }
   ],
   "source": [
    "list_c = []\n",
    "for _ in range(1, 10):\n",
    "    list_c.append(_**2)\n",
    "print(list_c)"
   ]
  },
  {
   "cell_type": "code",
   "execution_count": 10,
   "id": "5b4340a7-0a92-4a7b-b467-42564a261f75",
   "metadata": {},
   "outputs": [
    {
     "name": "stdout",
     "output_type": "stream",
     "text": [
      "[1, 4, 9, 16, 25, 36, 49, 64, 81]\n"
     ]
    }
   ],
   "source": [
    "list_d = [_**2 for _ in range(1,10)] #range : 값을 하나씩 줌 (이상, 미만)\n",
    "print(list_d)"
   ]
  },
  {
   "cell_type": "code",
   "execution_count": 11,
   "id": "996e3cc0-b24a-4a2f-82cd-330b64bf5ed4",
   "metadata": {},
   "outputs": [
    {
     "name": "stdout",
     "output_type": "stream",
     "text": [
      "<class 'list'>\n",
      "[1, 4, 9, 16, 25, 36, 49, 64, 81]\n"
     ]
    }
   ],
   "source": [
    "prac_result = [_**2 for _ in range(1,10)]\n",
    "print(type(prac_result))\n",
    "print(prac_result)"
   ]
  },
  {
   "cell_type": "code",
   "execution_count": 77,
   "id": "7727323a-cbe9-44c7-8447-e60c41ac37c2",
   "metadata": {},
   "outputs": [
    {
     "name": "stdout",
     "output_type": "stream",
     "text": [
      "[1, 3, 5, 7, 9]\n"
     ]
    }
   ],
   "source": [
    "prac_result2 = [_ for _ in range(1, 10, 2)]\n",
    "print(prac_result2)"
   ]
  },
  {
   "cell_type": "code",
   "execution_count": 96,
   "id": "6bc98bb7-47a9-493e-b08e-a34a015f17aa",
   "metadata": {},
   "outputs": [
    {
     "name": "stdout",
     "output_type": "stream",
     "text": [
      "['a', ',', ' ', 'b', ',', ' ', 'c', ',', ' ', 'd', ',', ' ', 'e', ',', ' ', 'f', ',', ' ', 'g', ',', ' ', 'h', ',', ' ', 'i', ',', ' ', 'j', ',', ' ', 'k', ',', ' ', 'l', ',', ' ', 'm', ',', ' ', 'n', ',', ' ', 'o', ',', ' ', 'p', ',', ' ', 'q', ',', ' ', 'r', ',', ' ', 's', ',', ' ', 't', ',', ' ', 'u', ',', ' ', 'v', ' ', ',', ' ', 'w', ',', ' ', 'x', ',', ' ', 'y', ',', ' ', 'z', ' ']\n"
     ]
    }
   ],
   "source": [
    "prac_result3 = [i for i in 'a,b,c,d,e,f,g,h,i,j,k,l,m,n,o,p,q,r,s, t, u, v , w, x, y, z ']\n",
    "print(prac_result3)"
   ]
  },
  {
   "cell_type": "code",
   "execution_count": 110,
   "id": "fcf99e54-41dc-4654-9bd7-0a09adc42a54",
   "metadata": {},
   "outputs": [
    {
     "name": "stdout",
     "output_type": "stream",
     "text": [
      "['2', '3', '4', '5', '6', '7', '8', '9', '10', 'J', 'Q', 'K', 'A']\n"
     ]
    }
   ],
   "source": [
    "prac_result4 = [str(_) for _ in range (2,11)] + [i for i in 'JQKA']\n",
    "print(prac_result4)"
   ]
  },
  {
   "cell_type": "code",
   "execution_count": 122,
   "id": "10c75590-433a-41bb-be41-d6e9850c0504",
   "metadata": {},
   "outputs": [
    {
     "name": "stdout",
     "output_type": "stream",
     "text": [
      "['2', '3', '4', '5', '6', '7', '8', '9', '10', 'J', 'Q', 'K', 'A']\n"
     ]
    }
   ],
   "source": [
    "prac_result4 = [str(_) for _ in range (2,11)]\n",
    "prac_result4.extend([i for i in 'JQKA'])\n",
    "print(prac_result4)"
   ]
  },
  {
   "cell_type": "code",
   "execution_count": 132,
   "id": "f63359cd-39f8-4ba6-a3a9-e617601e8298",
   "metadata": {},
   "outputs": [
    {
     "name": "stdout",
     "output_type": "stream",
     "text": [
      "[['2', '3', '4', '5', '6', '7', '8', '9', '10', 'J', 'Q', 'K', 'A'], ['2', '3', '4', '5', '6', '7', '8', '9', '10', 'J', 'Q', 'K', 'A'], ['2', '3', '4', '5', '6', '7', '8', '9', '10', 'J', 'Q', 'K', 'A'], ['2', '3', '4', '5', '6', '7', '8', '9', '10', 'J', 'Q', 'K', 'A']]\n"
     ]
    }
   ],
   "source": [
    "prac_result5 = [prac_result4 for _ in range (4)]\n",
    "print(prac_result5)"
   ]
  },
  {
   "cell_type": "code",
   "execution_count": 133,
   "id": "2e187c7c-8468-44dd-8c24-cfcbad9a9d30",
   "metadata": {},
   "outputs": [
    {
     "name": "stdout",
     "output_type": "stream",
     "text": [
      "['two', '3', '4', '5', '6', '7', '8', '9', '10', 'J', 'Q', 'K', 'A']\n"
     ]
    }
   ],
   "source": [
    "prac_result4[0] = 'two' # 0번째 요소인 '2'의 값 'two'로 변경\n",
    "print(prac_result4)"
   ]
  },
  {
   "cell_type": "code",
   "execution_count": 134,
   "id": "9e5169f5-f517-4b56-9b51-1a58953217a4",
   "metadata": {},
   "outputs": [
    {
     "name": "stdout",
     "output_type": "stream",
     "text": [
      "[['two', '3', '4', '5', '6', '7', '8', '9', '10', 'J', 'Q', 'K', 'A'], ['two', '3', '4', '5', '6', '7', '8', '9', '10', 'J', 'Q', 'K', 'A'], ['two', '3', '4', '5', '6', '7', '8', '9', '10', 'J', 'Q', 'K', 'A'], ['two', '3', '4', '5', '6', '7', '8', '9', '10', 'J', 'Q', 'K', 'A']]\n"
     ]
    }
   ],
   "source": [
    "print(prac_result5) # 각각 다른 객체를 바라보기엔 필요한 메모리가 너무 커져 보다 효율적이기 위해 \n",
    "                    # 모두 동일한 객체를 바라보고 있기 떄문에 변수 하나만 변경해도 모두 변경"
   ]
  },
  {
   "cell_type": "code",
   "execution_count": 135,
   "id": "ca39531d-9d06-4fee-89f5-6572efb98e4f",
   "metadata": {},
   "outputs": [
    {
     "ename": "SyntaxError",
     "evalue": "invalid syntax (3108794452.py, line 2)",
     "output_type": "error",
     "traceback": [
      "\u001b[1;36m  File \u001b[1;32m\"C:\\Users\\Playdata\\AppData\\Local\\Temp\\ipykernel_9964\\3108794452.py\"\u001b[1;36m, line \u001b[1;32m2\u001b[0m\n\u001b[1;33m    prac_result4      prac_result5[1]\u001b[0m\n\u001b[1;37m                      ^\u001b[0m\n\u001b[1;31mSyntaxError\u001b[0m\u001b[1;31m:\u001b[0m invalid syntax\n"
     ]
    }
   ],
   "source": [
    "                  prac_result5[0]\n",
    "prac_result4      prac_result5[1]\n",
    "                  prac_result5[2]\n",
    "                  prac_result5[3]"
   ]
  },
  {
   "cell_type": "markdown",
   "id": "2e33c1f4-c09d-4b10-94b3-62a486d52f63",
   "metadata": {},
   "source": [
    "### id 내장함수 ###\n",
    "  \n",
    "      \n",
    "##### 객체마다 구분할 수 있는 고유한 정수 값(메모리 주소)을 갖습니다.  그걸 조회하는 게 id() 내장 함수 #####\n",
    "##### 즉 id()로 가져온 정수 값이 같다면 같은 객체 #####\n",
    "즉 변수와 모든 요쇼들이 같은 메모리상의 객체를 바라봄\n"
   ]
  },
  {
   "cell_type": "code",
   "execution_count": 140,
   "id": "4a10fb88-7393-4eaf-bc9e-949389b9a8a5",
   "metadata": {},
   "outputs": [
    {
     "name": "stdout",
     "output_type": "stream",
     "text": [
      "prac_result4의 id 2232063335040\n",
      "prac_result5[0]: 2232063335040\n",
      "prac_result5[1]: 2232063335040\n",
      "prac_result5[2]: 2232063335040\n",
      "prac_result5[3]: 2232063335040\n"
     ]
    }
   ],
   "source": [
    "print(\"prac_result4의 id\", id(prac_result4))\n",
    "\n",
    "for i, v in enumerate(prac_result5):\n",
    "    print(\"prac_result5[\",i,\"]: \", id(v), sep=\"\")"
   ]
  },
  {
   "cell_type": "code",
   "execution_count": 139,
   "id": "3b8900d6-7504-47b4-9c34-ad797ebe4d64",
   "metadata": {},
   "outputs": [
    {
     "name": "stdout",
     "output_type": "stream",
     "text": [
      "prac_result4의 id 2232063335040\n",
      "prac_result6[0]: 2232096271424\n",
      "prac_result6[1]: 2232064360320\n",
      "prac_result6[2]: 2232063346368\n",
      "prac_result6[3]: 2232096271616\n"
     ]
    }
   ],
   "source": [
    "prac_result6 = [prac_result4[:] for _ in range(4)]\n",
    "\n",
    "print(\"prac_result4의 id\", id(prac_result4))\n",
    "for i, v in enumerate(prac_result6):\n",
    "    print(\"prac_result6[\",i,\"]: \", id(v), sep=\"\")"
   ]
  },
  {
   "cell_type": "markdown",
   "id": "2cd41042-bbc3-4ae3-9bd2-37c495acb920",
   "metadata": {},
   "source": [
    "#### 리스트변수[:] → 새로운 객체를 만들어 반환한다. ####"
   ]
  },
  {
   "cell_type": "markdown",
   "id": "3fe9080f-5ff1-4b3f-a229-379f2960e650",
   "metadata": {},
   "source": [
    "### id내장함수 연습문제 ###"
   ]
  },
  {
   "cell_type": "code",
   "execution_count": 158,
   "id": "44feb586-7931-4e1f-afe0-0e36534e7c11",
   "metadata": {},
   "outputs": [
    {
     "name": "stdout",
     "output_type": "stream",
     "text": [
      "2232096984064\n",
      "2232063420096\n",
      "False\n",
      "True\n"
     ]
    }
   ],
   "source": [
    "# [1, 2, 3, 4, 5, 6, 7, 8, 9]\n",
    "old_list = list(range(10))\n",
    "new_list = old_list[:]\n",
    "\n",
    "print(id(old_list))\n",
    "print(id(new_list))\n",
    "print(old_list is new_list) # is -> false 아이디와 아이디 비교 / 각각 바라보는 객체가 다르다.\n",
    "print(old_list == new_list) # == -> true 값과 값 비교 / 객체 상관없이 단순하게 값이 같다."
   ]
  },
  {
   "cell_type": "code",
   "execution_count": 152,
   "id": "13d05394-7176-4d5a-b3a9-230739c927c6",
   "metadata": {},
   "outputs": [
    {
     "name": "stdout",
     "output_type": "stream",
     "text": [
      "[0, 1, 2, 3, 4, 5, 6, 7, 8, 9, 10, 11, 12, 13, 14, 15, 16, 17, 18, 19, 20, 21, 22, 23, 24, 25, 26, 27, 28, 29]\n"
     ]
    }
   ],
   "source": [
    "list_sample = [_ for _ in range(0,30)]\n",
    "# range (시작, 끝, 증감)\n",
    "# 시퀸스자료형변수 [시작:끝:증감]\n",
    "# 시작 생략 - 시작부터 끝 생략 = 마지막까지 증감 + = 1\n",
    "print(list_sample[:])"
   ]
  },
  {
   "cell_type": "code",
   "execution_count": 154,
   "id": "070a1581-2d3c-4c7d-87dc-fe93748bfc52",
   "metadata": {},
   "outputs": [
    {
     "name": "stdout",
     "output_type": "stream",
     "text": [
      "2232108241072\n",
      "2232108241072\n"
     ]
    }
   ],
   "source": [
    "#문자열이나 튜플은 복사해도 주소가 변경이 안된다. 리스트만 가능 \n",
    "\n",
    "str_sample = \"This is str\"\n",
    "str2 = str_sample[:]\n",
    "\n",
    "print(id(str_sample))\n",
    "print(id(str2))"
   ]
  },
  {
   "cell_type": "code",
   "execution_count": 159,
   "id": "9ec6b8fd-7d0b-4b28-959c-9b3b844f3b02",
   "metadata": {},
   "outputs": [
    {
     "name": "stdout",
     "output_type": "stream",
     "text": [
      "2232059555120\n",
      "2232059555120\n"
     ]
    }
   ],
   "source": [
    "str_a = \"hello\"\n",
    "str_b = \"hello\"\n",
    "print(id(str_a))\n",
    "print(id(str_b))"
   ]
  },
  {
   "cell_type": "markdown",
   "id": "99ce42b4-65d0-42d1-b5bf-b41d9c6274c9",
   "metadata": {},
   "source": [
    "#### java에서는 반대 ####  \n",
    "  \n",
    "java에서의 == 연산자 -> 값을 비교\n",
    "python에서의 == 연산 -> 비교 연산자가 맞지만 메모리주소 비교"
   ]
  },
  {
   "cell_type": "code",
   "execution_count": 165,
   "id": "7c8ae2a0-ca12-40a9-8746-c68e6c672bbe",
   "metadata": {},
   "outputs": [
    {
     "name": "stdout",
     "output_type": "stream",
     "text": [
      "2.222635507583618\n"
     ]
    }
   ],
   "source": [
    "import time\n",
    "curr = time.time()\n",
    "\n",
    "for _ in range(100000):\n",
    "    [i for i in range(1000)]\n",
    "\n",
    "last = time.time()\n",
    "print(last - curr)    "
   ]
  },
  {
   "cell_type": "code",
   "execution_count": 164,
   "id": "6dbdaf03-a6d8-4ea3-a5f0-0824b234d019",
   "metadata": {},
   "outputs": [
    {
     "name": "stdout",
     "output_type": "stream",
     "text": [
      "3.5149691104888916\n"
     ]
    }
   ],
   "source": [
    "import time\n",
    "curr = time.time()\n",
    "\n",
    "for _ in range(100000):\n",
    "    list(i for i in range(1000))\n",
    "\n",
    "last = time.time()\n",
    "print(last - curr)    "
   ]
  },
  {
   "cell_type": "markdown",
   "id": "43861f1a-1642-41a5-9c3e-2d3be271f116",
   "metadata": {},
   "source": [
    "#### 연습문제 ####"
   ]
  },
  {
   "cell_type": "code",
   "execution_count": 264,
   "id": "f41b4920-067f-42fe-83c7-c0dfce1ab116",
   "metadata": {},
   "outputs": [
    {
     "name": "stdout",
     "output_type": "stream",
     "text": [
      "실행 결과:\n"
     ]
    },
    {
     "name": "stdin",
     "output_type": "stream",
     "text": [
      "순환할 숫자를 입력하세요: 10\n"
     ]
    },
    {
     "name": "stdout",
     "output_type": "stream",
     "text": [
      "1 2 3 4 5 6 7 8 9 10 \n",
      "2 3 4 5 6 7 8 9 10 1 \n",
      "3 4 5 6 7 8 9 10 1 2 \n",
      "4 5 6 7 8 9 10 1 2 3 \n",
      "5 6 7 8 9 10 1 2 3 4 \n",
      "6 7 8 9 10 1 2 3 4 5 \n",
      "7 8 9 10 1 2 3 4 5 6 \n",
      "8 9 10 1 2 3 4 5 6 7 \n",
      "9 10 1 2 3 4 5 6 7 8 \n",
      "10 1 2 3 4 5 6 7 8 9 \n"
     ]
    }
   ],
   "source": [
    "print(\"실행 결과:\")\n",
    "n = int(input(\"순환할 숫자를 입력하세요:\"))\n",
    "num = [i for i in range(1, n+1)]\n",
    "    \n",
    "for j in range(len(num)):\n",
    "    j = 0\n",
    "    for i in num:\n",
    "        print(i, end=\" \")\n",
    "    print()\n",
    "    num.append(num[j])\n",
    "    num.remove(num[j])"
   ]
  },
  {
   "cell_type": "code",
   "execution_count": 265,
   "id": "d11da7d4-eb1d-4331-ac4c-bd93e5f2ebb9",
   "metadata": {},
   "outputs": [
    {
     "name": "stdin",
     "output_type": "stream",
     "text": [
      "순환할 숫자를 입력하세요: 10\n"
     ]
    },
    {
     "name": "stdout",
     "output_type": "stream",
     "text": [
      "1 2 3 4 5 6 7 8 9 10 \n",
      "2 3 4 5 6 7 8 9 10 1 \n",
      "3 4 5 6 7 8 9 10 1 2 \n",
      "4 5 6 7 8 9 10 1 2 3 \n",
      "5 6 7 8 9 10 1 2 3 4 \n",
      "6 7 8 9 10 1 2 3 4 5 \n",
      "7 8 9 10 1 2 3 4 5 6 \n",
      "8 9 10 1 2 3 4 5 6 7 \n",
      "9 10 1 2 3 4 5 6 7 8 \n",
      "10 1 2 3 4 5 6 7 8 9 \n"
     ]
    }
   ],
   "source": [
    "num = int(input(\"순환할 숫자를 입력하세요:\"))\n",
    "for i in range(1, num + 1):\n",
    "    for j in range(i, num + i):\n",
    "        if j % num == 0:\n",
    "            print(num, end=\" \")\n",
    "        else:\n",
    "            print(j % num, end=\" \")\n",
    "    print()"
   ]
  },
  {
   "cell_type": "code",
   "execution_count": 166,
   "id": "4321b620-e372-426e-a507-86f05c472401",
   "metadata": {},
   "outputs": [],
   "source": [
    "list_g = list(range(100))\n",
    "list_f = list_g.copy()"
   ]
  },
  {
   "cell_type": "markdown",
   "id": "c9bcb50a-d45e-476b-8b5a-8a3b17d0f43a",
   "metadata": {},
   "source": [
    "# 리스트 복사(copy()) 메서드) #"
   ]
  },
  {
   "cell_type": "code",
   "execution_count": 266,
   "id": "b8984c0d-1b82-4466-bef7-f5f109084627",
   "metadata": {},
   "outputs": [
    {
     "name": "stdout",
     "output_type": "stream",
     "text": [
      "2232097087552\n",
      "2232097065152\n",
      "False\n"
     ]
    }
   ],
   "source": [
    "list_g = list(range(10))\n",
    "list_h = list_g.copy()\n",
    "print(id(list_g))\n",
    "print(id(list_h))\n",
    "print(list_g is list_h)"
   ]
  },
  {
   "cell_type": "markdown",
   "id": "d08150bc-2c48-4182-af41-60278eac856f",
   "metadata": {},
   "source": [
    "### 얕은복사 ###  \n",
    "  \n",
    "  >변수처럼 주소를 복사"
   ]
  },
  {
   "cell_type": "markdown",
   "id": "9829c8c1-b29a-4c9c-9e36-98b5c1f8f73e",
   "metadata": {},
   "source": [
    "> 얕은 복사 : 값만 복사  \n",
    "> 깊은 복사 : 안에 있는 주소까지 같이 복사"
   ]
  },
  {
   "cell_type": "code",
   "execution_count": 271,
   "id": "161a536a-5067-438e-9bbf-56de666d223a",
   "metadata": {},
   "outputs": [
    {
     "name": "stdout",
     "output_type": "stream",
     "text": [
      "[[0], [0], [0]]\n"
     ]
    }
   ],
   "source": [
    "list_i =[[0]]*3\n",
    "print(list_i)"
   ]
  },
  {
   "cell_type": "code",
   "execution_count": 272,
   "id": "28823c5a-2f3f-4df1-bddc-7c48d23af9bc",
   "metadata": {
    "tags": []
   },
   "outputs": [],
   "source": [
    "list_i[0][0]  = 999 #[0][0] =>리스트 안에 리스트가 있음"
   ]
  },
  {
   "cell_type": "code",
   "execution_count": 274,
   "id": "6aea80af-79de-4794-9fbd-f84d482ea658",
   "metadata": {},
   "outputs": [
    {
     "name": "stdout",
     "output_type": "stream",
     "text": [
      "[[999], [999], [999]]\n"
     ]
    }
   ],
   "source": [
    "list_i[0][0]  = 999\n",
    "print(list_i)"
   ]
  },
  {
   "cell_type": "code",
   "execution_count": 286,
   "id": "abb6ded6-bbe2-4e65-9872-2761d93ce53b",
   "metadata": {},
   "outputs": [
    {
     "data": {
      "text/plain": [
       "True"
      ]
     },
     "execution_count": 286,
     "metadata": {},
     "output_type": "execute_result"
    }
   ],
   "source": [
    "list_i[0][0] is list_i[1][0]        #list_i[0][0] list 0번자리 속 list의 0번자리 수\n",
    "list_i[0][0] is list_i[2][0]        #list_i[1][0] list 1번자리 속 list의 0번자리 수\n",
    "                                    #list_i[2][0] list 2번자리 속 list의 0번자리 수"
   ]
  },
  {
   "cell_type": "code",
   "execution_count": 283,
   "id": "a99ef21d-084e-4863-9f68-8fc48953732c",
   "metadata": {},
   "outputs": [
    {
     "name": "stdout",
     "output_type": "stream",
     "text": [
      "True\n"
     ]
    }
   ],
   "source": [
    "list_j = [[1,2], [3,4]]\n",
    "list_k = list_j[:] #[:] --> 리스트 복사\n",
    "print(list_k[0] is  list_j[0])"
   ]
  },
  {
   "cell_type": "code",
   "execution_count": 284,
   "id": "3e85518f-88ac-4f34-a159-73d24acda562",
   "metadata": {},
   "outputs": [
    {
     "name": "stdout",
     "output_type": "stream",
     "text": [
      "[[1, 4], [3, 4]]\n",
      "[[1, 4], [3, 4]]\n"
     ]
    }
   ],
   "source": [
    "list_j[0][1] = 2**2 # list_j[0][1] ---> list 0번 자리 list 속의 1번 자리 수\n",
    "print(list_j)\n",
    "print(list_k)"
   ]
  },
  {
   "cell_type": "code",
   "execution_count": 287,
   "id": "9abad957-2daa-4477-b28f-7c8a97d2807a",
   "metadata": {},
   "outputs": [
    {
     "name": "stdout",
     "output_type": "stream",
     "text": [
      "True\n"
     ]
    }
   ],
   "source": [
    "list_l = [[5,6], [7,8]]\n",
    "list_m = list_l.copy() #[:] --> 리스트 복사 #얕은 복사\n",
    "print(list_l[0] is  list_m[0]) # 두칸 밑 식이랑 비교"
   ]
  },
  {
   "cell_type": "code",
   "execution_count": 288,
   "id": "af07e214-c2e8-4c03-af81-dd8ea0502e1c",
   "metadata": {},
   "outputs": [
    {
     "name": "stdout",
     "output_type": "stream",
     "text": [
      "[[5, 999], [7, 8]]\n",
      "[[5, 999], [7, 8]]\n"
     ]
    }
   ],
   "source": [
    "list_l[0][1] = 999\n",
    "print(list_l)\n",
    "print(list_m)"
   ]
  },
  {
   "cell_type": "markdown",
   "id": "8b123b13-f428-4427-bc58-1df3315d763d",
   "metadata": {},
   "source": [
    "### 깊은 복사 ###  \n",
    "  \n",
    "    \n",
    ">전혀 다른 메모리 공간을 차지하는 완전한 리스트   \n",
    ">두 리스트 간의 값은 같으나 객체는 완전히 다름"
   ]
  },
  {
   "cell_type": "markdown",
   "id": "4da629c5-d60f-43fa-ae00-4a1929355b2f",
   "metadata": {},
   "source": [
    "> 얕은 복사 : 값만 복사  \n",
    "> 깊은 복사 : 안에 있는 주소까지 같이 복사"
   ]
  },
  {
   "cell_type": "code",
   "execution_count": 292,
   "id": "037a71f9-89f8-4e04-bfcc-52f269177977",
   "metadata": {},
   "outputs": [
    {
     "name": "stdout",
     "output_type": "stream",
     "text": [
      "False\n"
     ]
    }
   ],
   "source": [
    "import copy\n",
    "list_n = [[9, 10], [11, 12]] # 두칸 위 식이랑 비교 \n",
    "list_o = copy.deepcopy(list_n) #깊은 복사\n",
    "print(list_n[0] is list_o[0]) "
   ]
  },
  {
   "cell_type": "code",
   "execution_count": 293,
   "id": "8a6267fc-e91d-4280-9ac7-8d06155017ea",
   "metadata": {},
   "outputs": [
    {
     "name": "stdout",
     "output_type": "stream",
     "text": [
      "11\n",
      "11\n"
     ]
    }
   ],
   "source": [
    "print(list_n[1][0])\n",
    "print([11, 12][0])"
   ]
  },
  {
   "cell_type": "code",
   "execution_count": 294,
   "id": "b54e9d29-9bc8-40fc-8c77-65054049e877",
   "metadata": {},
   "outputs": [
    {
     "name": "stdout",
     "output_type": "stream",
     "text": [
      "[[9, 10], [999, 12]]\n",
      "[[9, 10], [11, 12]]\n"
     ]
    }
   ],
   "source": [
    "list_n[1][0] = 999\n",
    "print(list_n)   #얕은 복사는 list_o도 함께 변하지만 \n",
    "print(list_o)   #깊은 복사는 새로운 객체를 만들어 주기때문에 list_o은 변하지 않음"
   ]
  },
  {
   "cell_type": "markdown",
   "id": "881d01b4-dd1d-47aa-a71d-81383bcc28a6",
   "metadata": {},
   "source": [
    "#### [얕은 복사일때] #### \n",
    "\n",
    "list_n[1][0] = 999  \n",
    "print(list_n)    \n",
    "print(list_o)  \n",
    "\n",
    "--------\n",
    "결과값  \n",
    "\n",
    "[[9, 10], [11, 12]]  \n",
    "[[9, 10], [11, 12]]  \n",
    "  \n",
    "  \n",
    "#### [깊은 복사일때] ####   \n",
    "  \n",
    "list_n[1][0] = 999  \n",
    "print(list_n)    \n",
    "print(list_o)    \n",
    "\n",
    "--------\n",
    "결과값  \n",
    "\n",
    "[[9, 10], [999, 12]]  \n",
    "[[9, 10], [11, 12]] \n"
   ]
  },
  {
   "cell_type": "markdown",
   "id": "08ff2966-ac33-45c6-a2b0-f66d3eb463a0",
   "metadata": {},
   "source": [
    "### for문과 if문이 동시에 있는 리스트 컴프리헨션 동작 순서###   \n",
    "    \n",
    "    \n",
    "> 1. 반복가능한 객체로 부터 값을 하나 꺼내와서 조건식에 넣기  \n",
    "> 2. 조건식이 true이면 변수를 활용해서 표현식을 실행      \n",
    "   (변수 활용 해도되고 안해도됨)  \n",
    "> 3. 조건식이 false면 1번부터 다시 시작  \n",
    "> 4. 표현식 결과 값을 리스트 요소애 넣기  \n",
    "> 5. 반복가능한 객체로부터 값이 없을때까지 1-3 반복   \n",
    "  \n",
    "    \n",
    "lkist_variable = [expressio for 변수 interable if 조건식]      ///#true 일때만"
   ]
  },
  {
   "cell_type": "code",
   "execution_count": 309,
   "id": "19fac5ff-17e1-48df-af79-723ff5322b5f",
   "metadata": {},
   "outputs": [
    {
     "name": "stdout",
     "output_type": "stream",
     "text": [
      "[0, 3, 6, 9]\n"
     ]
    }
   ],
   "source": [
    "list_p = [i for i in range(10) if i % 3 == 0]\n",
    "print(list_p)"
   ]
  },
  {
   "cell_type": "markdown",
   "id": "6a7e9ec0-0478-402a-a2f2-67e0019dedff",
   "metadata": {},
   "source": [
    "#####중첩 리스트 사용하기####  \n",
    "  \n",
    "  \n",
    "[expressio for 변수 in interable  \n",
    "\n",
    "         for 변수 in interable  \n",
    "         for 변수 in interable  \n",
    "         for 변수 in interable]   \n",
    "  \n",
    "    \n",
    "<가독성을 위해 줄바꿈>"
   ]
  },
  {
   "cell_type": "code",
   "execution_count": 311,
   "id": "a44891cd-b63f-4ed3-b59b-547059426851",
   "metadata": {},
   "outputs": [
    {
     "name": "stdout",
     "output_type": "stream",
     "text": [
      "1\n",
      "2\n",
      "3\n",
      "4\n",
      "5\n",
      "3\n",
      "4\n"
     ]
    }
   ],
   "source": [
    "easy_list = [[1, 2, 3, 4, 5],[3, 4]]\n",
    "for item in easy_list:\n",
    "    for i in item:\n",
    "        print(i)"
   ]
  },
  {
   "cell_type": "code",
   "execution_count": 312,
   "id": "2bdf71b0-00db-4efd-ad97-e2fa2a9a6dd3",
   "metadata": {},
   "outputs": [
    {
     "name": "stdout",
     "output_type": "stream",
     "text": [
      "1\n",
      "2\n",
      "3\n",
      "4\n",
      "5\n",
      "3\n",
      "4\n"
     ]
    }
   ],
   "source": [
    "easy_list = [[1, 2, 3, 4, 5], [3, 4]]\n",
    "i = 0 # easy_list 인덱스용\n",
    "\n",
    "while i < len(easy_list):\n",
    "    j = 0 #easy_list[0], easy list[1] 인덱스용\n",
    "    while j <len(easy_list[i]):\n",
    "        print(easy_list[i][j])\n",
    "        j+=1\n",
    "    i+=1"
   ]
  },
  {
   "cell_type": "code",
   "execution_count": 313,
   "id": "78255cbd-f24f-4ec3-b3d7-99c56e13796b",
   "metadata": {},
   "outputs": [
    {
     "name": "stdout",
     "output_type": "stream",
     "text": [
      "<generator object <genexpr> at 0x00000207B3AC9C10>\n",
      "<class 'generator'>\n"
     ]
    }
   ],
   "source": [
    "generator_variable = (_ for _ in range(10))\n",
    "print(generator_variable)\n",
    "print(type(generator_variable))\n",
    "#iterable\n",
    "#tuple(인수), list(인수)\n",
    "hesattr(generator_variable, \"_iter_\")"
   ]
  },
  {
   "cell_type": "code",
   "execution_count": 325,
   "id": "655fb3e7-e489-4990-897e-10bc7641f05d",
   "metadata": {},
   "outputs": [
    {
     "name": "stdout",
     "output_type": "stream",
     "text": [
      "['alpha', 'bravo', 'delta', 'hotel', 'india']\n"
     ]
    }
   ],
   "source": [
    "a = ['alpha', 'bravo', 'charlie', 'delta', 'echo', 'foxtrot', 'golf', 'hotel', 'india']\n",
    "b = [i for i in a if len(i) == 5]\n",
    "print(b)"
   ]
  },
  {
   "cell_type": "code",
   "execution_count": 374,
   "id": "4ab9c845-e2df-40cd-bb93-750e317d6a19",
   "metadata": {},
   "outputs": [
    {
     "name": "stdout",
     "output_type": "stream",
     "text": [
      "실행 결과:\n"
     ]
    },
    {
     "name": "stdin",
     "output_type": "stream",
     "text": [
      "정수 두 개 입력하세요.: 10 20\n"
     ]
    },
    {
     "name": "stdout",
     "output_type": "stream",
     "text": [
      "[1024, 2048, 4096, 8192, 16384, 32768, 65536, 131072, 262144, 524288, 1048576]\n",
      "[1024, 4096, 8192, 16384, 32768, 65536, 131072, 262144, 1048576]\n"
     ]
    }
   ],
   "source": [
    "print(\"실행 결과:\")\n",
    "a, b = map(int,input(\"정수 두 개 입력하세요.:\").split())   \n",
    "\n",
    "if 1 <= a <= 20 :\n",
    "    if 10 <= b <= 30 :\n",
    "        if a < b:\n",
    "            list_nu = [2**i for i in range(a,b+1)]\n",
    "            print(list_nu)\n",
    "            list_nu.remove(list_nu[1])\n",
    "            list_nu.remove(list_nu[-2])\n",
    "            print(list_nu)\n",
    "        else:\n",
    "            print(\"첫 번째 입력 값은 두 번째 입력값보다 작게 입력하세요\")\n",
    "    else : \n",
    "        print(\"두 번째 값의 범위는 10 ~ 30입니다.\")\n",
    "else :\n",
    "    print(\"첫 번째 값의 범위는 1 ~ 20입니다.\")    \n",
    "    "
   ]
  },
  {
   "cell_type": "code",
   "execution_count": 12,
   "id": "b74dbbf4-e85f-4784-855b-77f055e6e145",
   "metadata": {},
   "outputs": [
    {
     "name": "stdout",
     "output_type": "stream",
     "text": [
      "실행 결과:\n",
      "- 1 + 4 - 9 + 16 - 25 + 36 - 49 + 64 - 81 + 100 \n",
      "- 121 + 144 - 169 + 196 - 225 + 256 - 289 + 324 - 361 + 400 \n",
      "- 441 + 484 - 529 + 576 - 625 + 676 - 729 + 784 - 841 + 900 \n",
      "- 961 + 1024 - 1089 + 1156 - 1225 + 1296 - 1369 + 1444 - 1521 + 1600 \n",
      "- 1681 + 1764 - 1849 + 1936 - 2025 + 2116 - 2209 + 2304 - 2401 + 2500 \n",
      "- 2601 + 2704 - 2809 + 2916 - 3025 + 3136 - 3249 + 3364 - 3481 + 3600 \n",
      "- 3721 + 3844 - 3969 + 4096 - 4225 + 4356 - 4489 + 4624 - 4761 + 4900 \n",
      "- 5041 + 5184 - 5329 + 5476 - 5625 + 5776 - 5929 + 6084 - 6241 + 6400 \n",
      "- 6561 + 6724 - 6889 + 7056 - 7225 + 7396 - 7569 + 7744 - 7921 + 8100 \n",
      "- 8281 + 8464 - 8649 + 8836 - 9025 + 9216 - 9409 + 9604 - 9801 + 10000 \n",
      "= 5050 입니다\n"
     ]
    }
   ],
   "source": [
    "print(\"실행 결과:\")\n",
    "num = 1\n",
    "line = 0\n",
    "total = 0\n",
    "while num <= 100 :\n",
    "    if num % 2 == 0 :\n",
    "        total += num * num\n",
    "        print(\"+\", num * num, end=\" \")\n",
    "    else:\n",
    "        total -= num * num\n",
    "        print(\"-\", num * num, end=\" \")\n",
    "    num += 1\n",
    "    line += 1\n",
    "    if line == 10 :\n",
    "        line = 0\n",
    "        print()\n",
    "    \n",
    "print(\"=\", total, \"입니다\")"
   ]
  },
  {
   "cell_type": "markdown",
   "id": "04e47c06-1e59-488e-bc8d-21e9a4b5ccc2",
   "metadata": {},
   "source": [
    "### random 라이브러리 ###  \n",
    "  \n",
    "    \n",
    "random randint(시작정수, 끝정수)함수를 활용하면 시작 정수(포함)부터 끝정수(포함)까지의 범위의 난수(랜덤한 수)를 생성\n"
   ]
  },
  {
   "cell_type": "code",
   "execution_count": 3,
   "id": "aa008232-3d66-45db-a52f-3691966e30b5",
   "metadata": {},
   "outputs": [
    {
     "name": "stdout",
     "output_type": "stream",
     "text": [
      "[2, 1, 1, 2, 2, 1, 2, 2, 1, 2]\n"
     ]
    }
   ],
   "source": [
    "import random \n",
    "random_list = [random.randint(1, 2) for _ in range(10)]\n",
    "print(random_list)"
   ]
  },
  {
   "cell_type": "code",
   "execution_count": 43,
   "id": "2f971298-f972-4bce-b290-04eae7970658",
   "metadata": {},
   "outputs": [
    {
     "name": "stdout",
     "output_type": "stream",
     "text": [
      "실행 결과:\n"
     ]
    },
    {
     "name": "stdin",
     "output_type": "stream",
     "text": [
      "로또 번호 몇개 드릴까요? 5\n"
     ]
    },
    {
     "name": "stdout",
     "output_type": "stream",
     "text": [
      "[4, 11, 24, 33, 39, 42]\n"
     ]
    }
   ],
   "source": [
    "print(\"실행 결과:\")\n",
    "num = int(input(\"로또 번호 몇개 드릴까요?\"))\n",
    "for i in range(0, num) :\n",
    "    ran_list = [random.randint(1, 45) for _ in range(6)]\n",
    "    ran_list.sort()\n",
    "    for j in range(0, 5) :\n",
    "        if ran_list[j] == ran_list[j+1] :\n",
    "            ran_list.clear()\n",
    "            for k in range(1, 2) :\n",
    "                ran_list = [random.randint(1, 45) for _ in range(6)]\n",
    "                ran_list.sort()\n",
    "            print(ran_list)\n",
    "                "
   ]
  },
  {
   "cell_type": "code",
   "execution_count": 10,
   "id": "1db1ee80-a57f-4032-9433-4cdad859bc8d",
   "metadata": {},
   "outputs": [],
   "source": [
    "ran_list = [random.randint(1, 45) for _ in range(6)]"
   ]
  },
  {
   "cell_type": "code",
   "execution_count": 39,
   "id": "66aac1d8-1791-434f-a0fe-1a3899d775f9",
   "metadata": {},
   "outputs": [
    {
     "ename": "SyntaxError",
     "evalue": "invalid syntax (1584206570.py, line 1)",
     "output_type": "error",
     "traceback": [
      "\u001b[1;36m  File \u001b[1;32m\"C:\\Users\\Playdata\\AppData\\Local\\Temp\\ipykernel_11152\\1584206570.py\"\u001b[1;36m, line \u001b[1;32m1\u001b[0m\n\u001b[1;33m    for j in range (0, num-1)\u001b[0m\n\u001b[1;37m                             ^\u001b[0m\n\u001b[1;31mSyntaxError\u001b[0m\u001b[1;31m:\u001b[0m invalid syntax\n"
     ]
    }
   ],
   "source": [
    "for j in range (0, num-1)\n",
    "            if ran_list[j] =="
   ]
  },
  {
   "cell_type": "code",
   "execution_count": 79,
   "id": "68ce3bfe-4590-4fe0-926b-858483ddab33",
   "metadata": {},
   "outputs": [
    {
     "name": "stdout",
     "output_type": "stream",
     "text": [
      "실행 결과:\n"
     ]
    },
    {
     "name": "stdin",
     "output_type": "stream",
     "text": [
      "로또 번호 몇개 드릴까요? 6\n"
     ]
    },
    {
     "name": "stdout",
     "output_type": "stream",
     "text": [
      "[7, 8, 10, 16, 33, 41]\n",
      "[1, 10, 29, 39, 41, 44]\n",
      "[1, 8, 25, 31, 35, 36]\n",
      "[1, 9, 22, 22, 29, 41]\n",
      "[16, 18, 25, 28, 33, 45]\n",
      "[3, 5, 6, 19, 22, 25]\n"
     ]
    }
   ],
   "source": [
    "print(\"실행 결과:\")\n",
    "num = int(input(\"로또 번호 몇개 드릴까요?\"))\n",
    "for i in range(0, num) :\n",
    "    ran_list = [random.randint(1, 45) for _ in range(6)]\n",
    "    ran_list.sort()\n",
    "    for j in range(0, 5) :\n",
    "        if ran_list[j] == ran_list[j+1] :\n",
    "            del ran_list\n",
    "            ran_list = [random.randint(1, 45) for _ in range(6)]\n",
    "            ran_list.sort()\n",
    "        \n",
    "    print(ran_list)"
   ]
  },
  {
   "cell_type": "markdown",
   "id": "3ae2be1e-7f51-4e20-b9f0-7b3017b367f0",
   "metadata": {},
   "source": [
    "### [ 다른 사람 풀이 ] ### "
   ]
  },
  {
   "cell_type": "code",
   "execution_count": 85,
   "id": "655be099-f432-4ba9-ae37-262e7f13a20c",
   "metadata": {},
   "outputs": [
    {
     "name": "stdout",
     "output_type": "stream",
     "text": [
      "실행 결과:\n"
     ]
    },
    {
     "name": "stdin",
     "output_type": "stream",
     "text": [
      "로또 번호 몇개 드릴까요? 5\n"
     ]
    },
    {
     "name": "stdout",
     "output_type": "stream",
     "text": [
      "[33  5 17 10 18 35]\n",
      "[11 26  4 34 10 39]\n",
      "[ 3 23  8 15 12 36]\n",
      "[28 19 38 41 23 29]\n",
      "[36  4 12 33 43  7]\n"
     ]
    }
   ],
   "source": [
    "print(\"실행 결과:\")\n",
    "import numpy as np\n",
    "num = int(input(\"로또 번호 몇개 드릴까요?\"))\n",
    "for i in range(0, num) :\n",
    "    random_li = np.random.choice(range(1, 46), 6, replace = False, p = [1/45] * 45)\n",
    "    print(random_li)\n"
   ]
  },
  {
   "cell_type": "code",
   "execution_count": 93,
   "id": "a1ccd8da-63c3-4f39-8ede-13aa54cde3b2",
   "metadata": {},
   "outputs": [
    {
     "name": "stdout",
     "output_type": "stream",
     "text": [
      "실행 결과:\n"
     ]
    },
    {
     "name": "stdin",
     "output_type": "stream",
     "text": [
      "로또 번호 몇개 드릴까요? 2\n"
     ]
    },
    {
     "name": "stdout",
     "output_type": "stream",
     "text": [
      "[5, 20, 26, 30, 33, 34]\n",
      "[5, 18, 20, 29, 39, 43]\n"
     ]
    }
   ],
   "source": [
    "print(\"실행 결과:\")\n",
    "num = int(input(\"로또 번호 몇개 드릴까요?\"))\n",
    "for i in range(0, num) :\n",
    "    ran_list = random.sample(range(1,46),6)\n",
    "    ran_list.sort()\n",
    "    print(ran_list)"
   ]
  },
  {
   "cell_type": "code",
   "execution_count": 98,
   "id": "85a3055a-480d-4641-9505-2fc2822981a6",
   "metadata": {},
   "outputs": [
    {
     "name": "stdin",
     "output_type": "stream",
     "text": [
      "로또 번호 몇 개 드릴까요? 5\n"
     ]
    },
    {
     "name": "stdout",
     "output_type": "stream",
     "text": [
      "[15, 19, 24, 25, 35, 38]\n",
      "[11, 19, 26, 27, 32, 37]\n",
      "[11, 26, 33, 37, 38, 40]\n",
      "[3, 12, 17, 40, 44, 45]\n",
      "[1, 6, 9, 24, 29, 37]\n"
     ]
    }
   ],
   "source": [
    "import random\n",
    "\n",
    "count = int(input(\"로또 번호 몇 개 드릴까요?\"))\n",
    "\n",
    "for i in range(count):\n",
    "    lotto_numbers = []\n",
    "    while len(lotto_numbers) < 6:\n",
    "        lotto_number = random.randint(1, 45)\n",
    "        if lotto_number not in lotto_numbers:\n",
    "            lotto_numbers.append(lotto_number)\n",
    "    lotto_numbers.sort()\n",
    "    print(lotto_numbers)"
   ]
  },
  {
   "cell_type": "code",
   "execution_count": 101,
   "id": "2ebe55be-fd7f-474f-96f6-8e7ff787696d",
   "metadata": {},
   "outputs": [
    {
     "name": "stdin",
     "output_type": "stream",
     "text": [
      "로또 번호 몇 개 드릴까요? 5\n"
     ]
    },
    {
     "name": "stdout",
     "output_type": "stream",
     "text": [
      "[3, 10, 12, 33, 37, 42]\n",
      "[8, 13, 22, 33, 36, 38]\n",
      "[7, 11, 13, 24, 33, 44]\n",
      "[17, 18, 27, 31, 37, 39]\n",
      "[8, 10, 19, 20, 25, 29]\n"
     ]
    }
   ],
   "source": [
    "import random\n",
    "\n",
    "count = int(input(\"로또 번호 몇 개 드릴까요?\"))\n",
    "\n",
    "for i in range(count):\n",
    "    lotto = [j for j in range(1, 46)]\n",
    "    lotto_numbers = []\n",
    "    for _ in range(6):\n",
    "        lotto_number = lotto[random.randint(1, len(lotto)-1 )]\n",
    "        lotto_numbers.append(lotto_number)\n",
    "        lotto.remove(lotto_number)\n",
    "        lotto_numbers.sort()\n",
    "        \n",
    "    print(lotto_numbers)"
   ]
  },
  {
   "cell_type": "code",
   "execution_count": null,
   "id": "0d714989-8850-46c7-b8cf-26ca5778f3cf",
   "metadata": {},
   "outputs": [],
   "source": []
  }
 ],
 "metadata": {
  "kernelspec": {
   "display_name": "Python 3 (ipykernel)",
   "language": "python",
   "name": "python3"
  },
  "language_info": {
   "codemirror_mode": {
    "name": "ipython",
    "version": 3
   },
   "file_extension": ".py",
   "mimetype": "text/x-python",
   "name": "python",
   "nbconvert_exporter": "python",
   "pygments_lexer": "ipython3",
   "version": "3.9.13"
  }
 },
 "nbformat": 4,
 "nbformat_minor": 5
}

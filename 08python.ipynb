{
 "cells": [
  {
   "cell_type": "markdown",
   "id": "54b1b857-dea2-43a2-a8cc-b82cdd6d668d",
   "metadata": {},
   "source": [
    "### 리스트 생성 방법 ###"
   ]
  },
  {
   "cell_type": "markdown",
   "id": "0837536f-edfe-4e13-bdde-5a6c1443b0f7",
   "metadata": {},
   "source": [
    "### 리스트 컴프리헨션 ###  \n",
    "  \n",
    "  \n",
    "##### 리스트 컴프리헨션 동작순서 #####  \n",
    "\n",
    "\n",
    "1. 반복가능한 객체로부터 값을 하나 꺼내와서 변수에 담음  \n",
    "\n",
    "2. 요소를 담은 변수를 활용해서 표현식을 실행  \n",
    "    (이때 변수는 활용할수도, 활용하지 않을수도)  \n",
    "    \n",
    "3. 표현식 결과 값을 리스트 요소에 넣기  \n",
    "\n",
    "4. 반복가능한 객체로부터 값이 없을 때까지 1~3 과정을 반복"
   ]
  },
  {
   "cell_type": "markdown",
   "id": "e8ba0d2d-5199-40c6-be9b-971489b5f580",
   "metadata": {},
   "source": [
    "list_variable = [expression for 변수 in iterrable]"
   ]
  },
  {
   "cell_type": "code",
   "execution_count": 3,
   "id": "812f1727-02e9-4126-8c5a-6a6ae398363f",
   "metadata": {},
   "outputs": [
    {
     "name": "stdout",
     "output_type": "stream",
     "text": [
      "[1, 4, 9, 16, 25, 36, 49, 64, 81]\n"
     ]
    }
   ],
   "source": [
    "#range --> 1, 2, ... , 9\n",
    "#_ --> _ = 1, ... _=9\n",
    "list_a = [_**2 for _ in range(1, 10)]\n",
    "print(list_a)"
   ]
  },
  {
   "cell_type": "code",
   "execution_count": 5,
   "id": "593b9d59-3cd9-4174-8650-e9c405a82706",
   "metadata": {},
   "outputs": [
    {
     "name": "stdout",
     "output_type": "stream",
     "text": [
      "Hello world\n",
      "Hello world\n",
      "Hello world\n",
      "Hello world\n",
      "Hello world\n",
      "Hello world\n",
      "Hello world\n",
      "Hello world\n",
      "Hello world\n",
      "Hello world\n"
     ]
    }
   ],
   "source": [
    "list_b = [print(\"Hello world\") for _ in range(10)]"
   ]
  },
  {
   "cell_type": "code",
   "execution_count": 7,
   "id": "7fca2211-736c-43cd-9805-e1c731755b27",
   "metadata": {},
   "outputs": [
    {
     "name": "stdout",
     "output_type": "stream",
     "text": [
      "[1, 4, 9, 16, 25, 36, 49, 64, 81]\n"
     ]
    }
   ],
   "source": [
    "list_c = []\n",
    "for _ in range(1, 10):\n",
    "    list_c.append(_**2)\n",
    "print(list_c)"
   ]
  },
  {
   "cell_type": "code",
   "execution_count": 10,
   "id": "5b4340a7-0a92-4a7b-b467-42564a261f75",
   "metadata": {},
   "outputs": [
    {
     "name": "stdout",
     "output_type": "stream",
     "text": [
      "[1, 4, 9, 16, 25, 36, 49, 64, 81]\n"
     ]
    }
   ],
   "source": [
    "list_d = [_**2 for _ in range(1,10)]\n",
    "print(list_d)"
   ]
  },
  {
   "cell_type": "code",
   "execution_count": 11,
   "id": "996e3cc0-b24a-4a2f-82cd-330b64bf5ed4",
   "metadata": {},
   "outputs": [
    {
     "name": "stdout",
     "output_type": "stream",
     "text": [
      "<class 'list'>\n",
      "[1, 4, 9, 16, 25, 36, 49, 64, 81]\n"
     ]
    }
   ],
   "source": [
    "prac_result = [_**2 for _ in range(1,10)]\n",
    "print(type(prac_result))\n",
    "print(prac_result)"
   ]
  },
  {
   "cell_type": "code",
   "execution_count": null,
   "id": "1a1e8609-4a15-410e-ad79-76ae2ea9495a",
   "metadata": {},
   "outputs": [],
   "source": []
  }
 ],
 "metadata": {
  "kernelspec": {
   "display_name": "Python 3 (ipykernel)",
   "language": "python",
   "name": "python3"
  },
  "language_info": {
   "codemirror_mode": {
    "name": "ipython",
    "version": 3
   },
   "file_extension": ".py",
   "mimetype": "text/x-python",
   "name": "python",
   "nbconvert_exporter": "python",
   "pygments_lexer": "ipython3",
   "version": "3.9.13"
  }
 },
 "nbformat": 4,
 "nbformat_minor": 5
}

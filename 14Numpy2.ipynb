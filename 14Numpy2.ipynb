{
 "cells": [
  {
   "cell_type": "markdown",
   "id": "b031c2cf-4d7b-4f71-8a47-8d800de9df87",
   "metadata": {},
   "source": [
    "# 2023 - 01 - 17 #"
   ]
  },
  {
   "cell_type": "markdown",
   "id": "e268020a-74ca-4690-9939-586da440ebdd",
   "metadata": {},
   "source": [
    "# 넘파이 벡터화 연산 #"
   ]
  },
  {
   "cell_type": "markdown",
   "id": "7703f6c1-41d8-4222-a106-b2d7cc1caafc",
   "metadata": {
    "tags": []
   },
   "source": [
    "- 넘파이는 벡터와 연산을 지원\n",
    "- 벡터화 연산을 쓰면 명시적으로 반복문을 사용하지 않고도 배열의 모든 원소에 대해 반복 연산 가능\n",
    "- 선형 대수 공식과 동일하게 아주 간단한 파이썬 코드를 작성 가능"
   ]
  },
  {
   "cell_type": "markdown",
   "id": "fe694c2f-4575-4807-9f62-d4f06d11a2aa",
   "metadata": {},
   "source": [
    "ex) 선형 대수에서 두 벡터 x, y가 아래와 같을 때,"
   ]
  },
  {
   "cell_type": "markdown",
   "id": "1a87152a-fbc0-4944-8f01-dc88093d5d3a",
   "metadata": {},
   "source": [
    "<img src = \"https://img1.daumcdn.net/thumb/R1280x0/?scode=mtistory2&fname=https%3A%2F%2Fblog.kakaocdn.net%2Fdn%2FcJ5uCq%2FbtrWsVv2gOb%2FKhLvgfddfVa6alm6o4Dm6k%2Fimg.png\" ></img>"
   ]
  },
  {
   "cell_type": "markdown",
   "id": "dd626774-fab3-4fdf-9cac-737838fbe43f",
   "metadata": {},
   "source": [
    "### [ 두 벡터의 합 ]"
   ]
  },
  {
   "cell_type": "markdown",
   "id": "a41beb61-fb13-4f95-a99d-8693dd101fd3",
   "metadata": {},
   "source": [
    "z = x + y"
   ]
  },
  {
   "cell_type": "markdown",
   "id": "d40efd2c-f1dd-4f48-b031-e2a414d6b57b",
   "metadata": {},
   "source": [
    "<img src = \"https://img1.daumcdn.net/thumb/R1280x0/?scode=mtistory2&fname=https%3A%2F%2Fblog.kakaocdn.net%2Fdn%2FOwikn%2FbtrWwf1OknR%2FsvUNtPYWMfPvZQ2DKTUTX0%2Fimg.png\" ></img>"
   ]
  },
  {
   "cell_type": "markdown",
   "id": "3e49207a-15f4-4d46-a90e-cde0b4621e04",
   "metadata": {},
   "source": [
    "- 넘파이 배열의 벡터화 연산을 사용하지 않는다면 이 연산은 반복문을 사용하여 다음과 같이 만들어야 함   \n",
    "(다음 나오는 코드에서 %%time은 셀 코드의 실행시간을 측정하는 아이파이썬(IPython) 매직(magic) 명령)"
   ]
  },
  {
   "cell_type": "code",
   "execution_count": 13,
   "id": "296001d4-12bb-428e-baee-3593efdcf0cf",
   "metadata": {},
   "outputs": [],
   "source": [
    "import numpy as np\n",
    "x = np.arange(1, 10001)\n",
    "y = np.arange(10001, 20001)"
   ]
  },
  {
   "cell_type": "code",
   "execution_count": 14,
   "id": "70edf5e4-bb14-4223-90cc-48426dc2c688",
   "metadata": {},
   "outputs": [
    {
     "name": "stdout",
     "output_type": "stream",
     "text": [
      "[    1     2     3 ...  9998  9999 10000]\n",
      "[10001 10002 10003 ... 19998 19999 20000]\n"
     ]
    }
   ],
   "source": [
    "print(x)\n",
    "print(y)"
   ]
  },
  {
   "cell_type": "code",
   "execution_count": 15,
   "id": "61bbcc23-fd9a-4993-b525-ce13037500f5",
   "metadata": {},
   "outputs": [
    {
     "name": "stdout",
     "output_type": "stream",
     "text": [
      "Wall time: 5.06 ms\n"
     ]
    }
   ],
   "source": [
    "%%time\n",
    "z = np.zeros_like(x)\n",
    "for i in range(10000):\n",
    "    z[i] = x[i] + y[i]"
   ]
  },
  {
   "cell_type": "code",
   "execution_count": 16,
   "id": "985cf881-6fb9-4d70-9736-b90531ec3188",
   "metadata": {},
   "outputs": [
    {
     "data": {
      "text/plain": [
       "array([10002, 10004, 10006, 10008, 10010, 10012, 10014, 10016, 10018,\n",
       "       10020])"
      ]
     },
     "execution_count": 16,
     "metadata": {},
     "output_type": "execute_result"
    }
   ],
   "source": [
    "z[:10]"
   ]
  },
  {
   "cell_type": "markdown",
   "id": "4033cf55-becc-486d-bc3e-77eaaf5dd655",
   "metadata": {},
   "source": [
    "- 넘파이 배열의 벡터화 연산을 사용한다면 덧셈 연산 하나로 끝남  \n",
    "(위에서 한 선형 대수의 벡터 기호를 사용한 연산과 결과가 동일함 하지만 속도가 훨씬 빠름)"
   ]
  },
  {
   "cell_type": "code",
   "execution_count": 17,
   "id": "efd0138a-af67-4f6a-84c8-c194b347319a",
   "metadata": {},
   "outputs": [],
   "source": [
    "x = np.arange(1, 10001)\n",
    "y = np.arange(10001, 20001)"
   ]
  },
  {
   "cell_type": "code",
   "execution_count": 18,
   "id": "3f137d05-88db-42fb-bde5-4e217e744a48",
   "metadata": {},
   "outputs": [
    {
     "name": "stdout",
     "output_type": "stream",
     "text": [
      "Wall time: 996 µs\n"
     ]
    }
   ],
   "source": [
    "%%time\n",
    "z = x + y"
   ]
  },
  {
   "cell_type": "code",
   "execution_count": 19,
   "id": "497bca7b-4404-42ec-b974-8ffa66a92586",
   "metadata": {},
   "outputs": [
    {
     "data": {
      "text/plain": [
       "array([10002, 10004, 10006, 10008, 10010, 10012, 10014, 10016, 10018,\n",
       "       10020])"
      ]
     },
     "execution_count": 19,
     "metadata": {},
     "output_type": "execute_result"
    }
   ],
   "source": [
    "z[:10]"
   ]
  },
  {
   "cell_type": "markdown",
   "id": "346b09f6-4917-4ee1-a17c-4026e659523b",
   "metadata": {},
   "source": [
    "- 사칙 연산 뿐만 아니라 비교 연산도 가능"
   ]
  },
  {
   "cell_type": "code",
   "execution_count": 20,
   "id": "6b77744f-3016-4eef-b81f-86d7a6383f76",
   "metadata": {},
   "outputs": [],
   "source": [
    "a = np.array([1, 2, 3, 4])\n",
    "b = np.array([4, 2, 2, 4])"
   ]
  },
  {
   "cell_type": "code",
   "execution_count": 21,
   "id": "9a8f589c-6c3c-4197-a50e-c93d666b5cc2",
   "metadata": {},
   "outputs": [
    {
     "data": {
      "text/plain": [
       "array([False,  True, False,  True])"
      ]
     },
     "execution_count": 21,
     "metadata": {},
     "output_type": "execute_result"
    }
   ],
   "source": [
    "a == b"
   ]
  },
  {
   "cell_type": "code",
   "execution_count": 22,
   "id": "43630192-c294-4594-afb6-7bc49e6ac39a",
   "metadata": {},
   "outputs": [
    {
     "data": {
      "text/plain": [
       "array([False,  True,  True,  True])"
      ]
     },
     "execution_count": 22,
     "metadata": {},
     "output_type": "execute_result"
    }
   ],
   "source": [
    "a >= b"
   ]
  },
  {
   "cell_type": "markdown",
   "id": "e0e8089d-dde2-410d-8e74-e810401122dc",
   "metadata": {},
   "source": [
    "- 배열의 각 원소들을 일일히 비교하는 것이 아니라 모든 원소가 같은지 알고 싶다면 all명령어 사용"
   ]
  },
  {
   "cell_type": "code",
   "execution_count": 23,
   "id": "7c0a4939-0192-4db0-bd77-f66196b430ae",
   "metadata": {},
   "outputs": [],
   "source": [
    "a = np.array([1, 2, 3, 4])\n",
    "b = np.array([4, 2, 2, 4])\n",
    "c = np.array([1, 2, 3, 4])"
   ]
  },
  {
   "cell_type": "code",
   "execution_count": 24,
   "id": "58ae4c9b-7ff0-4ecf-b7df-9056768cb03d",
   "metadata": {},
   "outputs": [
    {
     "data": {
      "text/plain": [
       "False"
      ]
     },
     "execution_count": 24,
     "metadata": {},
     "output_type": "execute_result"
    }
   ],
   "source": [
    "np.all(a == b)"
   ]
  },
  {
   "cell_type": "code",
   "execution_count": 25,
   "id": "b9a11f9a-320a-487a-b61a-0b5d45c233dd",
   "metadata": {},
   "outputs": [
    {
     "data": {
      "text/plain": [
       "True"
      ]
     },
     "execution_count": 25,
     "metadata": {},
     "output_type": "execute_result"
    }
   ],
   "source": [
    "np.all(a == c)"
   ]
  },
  {
   "cell_type": "markdown",
   "id": "61ae9d60-260f-4a36-b826-da12d08d8c68",
   "metadata": {},
   "source": [
    "- 넘파이 배열에서 스칼라와 벡터/행렬의 곱도 선형대수에서 사용하는 식과 같이 표현\n",
    "가능"
   ]
  },
  {
   "cell_type": "code",
   "execution_count": 8,
   "id": "dcf09028-6bf8-46f8-a282-5b90a0c08d5b",
   "metadata": {},
   "outputs": [
    {
     "data": {
      "text/plain": [
       "array([0, 1, 2, 3, 4, 5, 6, 7, 8, 9])"
      ]
     },
     "execution_count": 8,
     "metadata": {},
     "output_type": "execute_result"
    }
   ],
   "source": [
    "x = np.arange(10)\n",
    "x"
   ]
  },
  {
   "cell_type": "code",
   "execution_count": 34,
   "id": "5e4bb17a-35f8-440a-b0a1-9de3f3b7fe50",
   "metadata": {},
   "outputs": [
    {
     "data": {
      "text/plain": [
       "array([100, 101, 102, 103, 104, 105, 106, 107, 108, 109])"
      ]
     },
     "execution_count": 34,
     "metadata": {},
     "output_type": "execute_result"
    }
   ],
   "source": [
    "100 + x"
   ]
  },
  {
   "cell_type": "code",
   "execution_count": 36,
   "id": "334f744a-959c-4acb-af87-3a1f1d5d6a27",
   "metadata": {},
   "outputs": [
    {
     "data": {
      "text/plain": [
       "array([[ 0,  1,  2,  3],\n",
       "       [ 4,  5,  6,  7],\n",
       "       [ 8,  9, 10, 11]])"
      ]
     },
     "execution_count": 36,
     "metadata": {},
     "output_type": "execute_result"
    }
   ],
   "source": [
    "x = np.arange(12).reshape(3, 4)\n",
    "x"
   ]
  },
  {
   "cell_type": "code",
   "execution_count": 37,
   "id": "8c01769f-b773-4b64-a0ef-f27175081096",
   "metadata": {},
   "outputs": [
    {
     "data": {
      "text/plain": [
       "array([[   0,  100,  200,  300],\n",
       "       [ 400,  500,  600,  700],\n",
       "       [ 800,  900, 1000, 1100]])"
      ]
     },
     "execution_count": 37,
     "metadata": {},
     "output_type": "execute_result"
    }
   ],
   "source": [
    "100 * x"
   ]
  },
  {
   "cell_type": "markdown",
   "id": "630eda2f-ee51-44ab-92ad-04911b1fd728",
   "metadata": {},
   "source": [
    "--------------------------"
   ]
  },
  {
   "cell_type": "markdown",
   "id": "7a46fc1f-8bbb-4e4e-9653-b943456d1586",
   "metadata": {},
   "source": [
    "# 브로드캐스팅 #"
   ]
  },
  {
   "cell_type": "markdown",
   "id": "1a3556df-eba0-46eb-8053-a34f4870857c",
   "metadata": {},
   "source": [
    "> 보통 배열끼리 산술 연산을 하려면 두 배열의 shapes가 정확히 같아야 함"
   ]
  },
  {
   "cell_type": "code",
   "execution_count": 26,
   "id": "4396c7c4-5c74-4d38-8455-7ad4b419cbca",
   "metadata": {},
   "outputs": [
    {
     "data": {
      "text/plain": [
       "array([2.4, 4. , 6. ])"
      ]
     },
     "execution_count": 26,
     "metadata": {},
     "output_type": "execute_result"
    }
   ],
   "source": [
    "a = np.array([1.2, 2.0, 3.0])\n",
    "b = np.array([2.0, 2.0, 2.0])\n",
    "a * b             "
   ]
  },
  {
   "cell_type": "markdown",
   "id": "929eb354-e898-4039-906b-fe89d7926859",
   "metadata": {},
   "source": [
    "### 브로드 캐스팅? ###\n",
    "\n",
    "넘파이 배열은 모양이 다른 배열 간의 연산이 가능하도록 배열의 크기를 변환시켜주는 것"
   ]
  },
  {
   "cell_type": "markdown",
   "id": "6139dd3f-ff75-4499-a8d6-466f0c356081",
   "metadata": {},
   "source": [
    "- 넘파이가 처리하는 브로드캐스팅의 방법\n",
    "> 더 작은 배열이 더 큰 배열에 호환되는 모양으로 확장하는 식으로 진행"
   ]
  },
  {
   "cell_type": "markdown",
   "id": "ed1972aa-bb36-400e-9520-4d8bc47ba5c1",
   "metadata": {},
   "source": [
    "- 브로드캐스팅 규칙 중 가장 간단한 예는 배열과 스칼라 값이 연산에서 결합될 때  \n",
    "(그림은 개념 이해용, 실제 연산에선 stretch된 구조를 만들지 X)"
   ]
  },
  {
   "cell_type": "code",
   "execution_count": 43,
   "id": "c71a53f6-ff00-474b-bc3d-2ffc3933de03",
   "metadata": {},
   "outputs": [],
   "source": [
    "a = np.array([1.0, 2.0, 3.0])"
   ]
  },
  {
   "cell_type": "code",
   "execution_count": 45,
   "id": "4e0caee4-f55f-43d7-9da9-e7f178f2f83b",
   "metadata": {},
   "outputs": [],
   "source": [
    "b = 2.0"
   ]
  },
  {
   "cell_type": "code",
   "execution_count": 46,
   "id": "1d5ee875-353b-48b4-aa23-fe086b5a86fe",
   "metadata": {},
   "outputs": [
    {
     "data": {
      "text/plain": [
       "array([2., 4., 6.])"
      ]
     },
     "execution_count": 46,
     "metadata": {},
     "output_type": "execute_result"
    }
   ],
   "source": [
    "a * b"
   ]
  },
  {
   "cell_type": "markdown",
   "id": "d3c2d2bb-2d8c-4c86-a4f8-5895e5dd0f12",
   "metadata": {},
   "source": [
    "<img src = \"https://img1.daumcdn.net/thumb/R1280x0/?scode=mtistory2&fname=https%3A%2F%2Fblog.kakaocdn.net%2Fdn%2Fb5yqOX%2FbtrWsVv7vDv%2FdkxErpGs40eQxlSqbQgaFK%2Fimg.png\" ></img>"
   ]
  },
  {
   "cell_type": "markdown",
   "id": "681f1adf-d55a-403e-8cac-e6a561687796",
   "metadata": {},
   "source": [
    "```python\n",
    "a = np.array([1.2, 2.0, 3.0])\n",
    "b = np.array([2.0, 2.0, 2.0])\n",
    "a * b\n",
    "#배열 간의 곱\n",
    "-------------------------------\n",
    "a = np.array([1.0, 2.0, 3.0])\n",
    "b = 2.0\n",
    "a * b\n",
    "#스칼라 곱\n",
    "```"
   ]
  },
  {
   "cell_type": "markdown",
   "id": "1221a8a0-1f5f-4790-a9f4-1c6c2a09dfd2",
   "metadata": {},
   "source": [
    "- 둘 중 어떤 코드가 더 효율적?  \n",
    "> 스칼라 곱을 활용한 코드가 더 적은 메모리를 이동하기 때문에 더 효율적"
   ]
  },
  {
   "cell_type": "markdown",
   "id": "571ae218-fef9-4211-9a0b-926117c3f539",
   "metadata": {},
   "source": [
    "- 브로드캐스팅은 스텔라를 벡터와 같은 크기로 확장시켜 덧셈 계산"
   ]
  },
  {
   "cell_type": "markdown",
   "id": "42b70744-68eb-4c5f-bde4-cff8ebd78241",
   "metadata": {},
   "source": [
    "<img src= \"https://img1.daumcdn.net/thumb/R1280x0/?scode=mtistory2&fname=https%3A%2F%2Fblog.kakaocdn.net%2Fdn%2FQNgmZ%2FbtrWteJmf9u%2FqxgjihC9j7QCM3qIwMxbA1%2Fimg.png\"></img>"
   ]
  },
  {
   "cell_type": "code",
   "execution_count": 47,
   "id": "1a3e5c89-0dd5-46aa-8f47-0e67741d2504",
   "metadata": {},
   "outputs": [
    {
     "data": {
      "text/plain": [
       "array([0, 1, 2, 3, 4])"
      ]
     },
     "execution_count": 47,
     "metadata": {},
     "output_type": "execute_result"
    }
   ],
   "source": [
    "x = np.arange(5)\n",
    "x"
   ]
  },
  {
   "cell_type": "code",
   "execution_count": 49,
   "id": "fd6ddcbc-b6cb-49cb-ac9b-3bcf275ea446",
   "metadata": {},
   "outputs": [
    {
     "data": {
      "text/plain": [
       "array([1, 1, 1, 1, 1])"
      ]
     },
     "execution_count": 49,
     "metadata": {},
     "output_type": "execute_result"
    }
   ],
   "source": [
    "y = np.ones_like(x)\n",
    "y"
   ]
  },
  {
   "cell_type": "code",
   "execution_count": 50,
   "id": "b617b002-afa0-455b-b939-a0d58ed53c7e",
   "metadata": {},
   "outputs": [
    {
     "data": {
      "text/plain": [
       "array([1, 2, 3, 4, 5])"
      ]
     },
     "execution_count": 50,
     "metadata": {},
     "output_type": "execute_result"
    }
   ],
   "source": [
    "x + y"
   ]
  },
  {
   "cell_type": "code",
   "execution_count": 51,
   "id": "ce9800a1-be0c-4f6b-8e39-03fdf42320bd",
   "metadata": {},
   "outputs": [
    {
     "data": {
      "text/plain": [
       "array([1, 2, 3, 4, 5])"
      ]
     },
     "execution_count": 51,
     "metadata": {},
     "output_type": "execute_result"
    }
   ],
   "source": [
    "x + 1"
   ]
  },
  {
   "cell_type": "markdown",
   "id": "1b73d570-5651-4bac-a0ca-e549cecdab84",
   "metadata": {},
   "source": [
    "### 브로드 캐스팅은 모든 겨우에 가능할까? ###"
   ]
  },
  {
   "cell_type": "markdown",
   "id": "ddceac71-82d5-456a-90c5-c27a1cf5db36",
   "metadata": {},
   "source": [
    "- 가능한 경우"
   ]
  },
  {
   "cell_type": "markdown",
   "id": "3f21b3be-8b37-4bcb-afc2-a5ec20487323",
   "metadata": {},
   "source": [
    "> 넘파이 배열의 shape을 우측 정렬하고 각 차원별로 숫자를 비교하여 모든 차원이 두 조건 중 하나에 충족해야함\n",
    "> 1. 해당 차원 간의 숫자가 동일한 경우\n",
    "> 2. 해당 차원 중 하나가 1인 경우"
   ]
  },
  {
   "cell_type": "markdown",
   "id": "0ed86e8b-fe55-45dd-86b8-3dbd6668fe3e",
   "metadata": {},
   "source": [
    "> 차원이 다른 경우 우측 정렬하여 비교"
   ]
  },
  {
   "cell_type": "markdown",
   "id": "be17648a-fe73-44dd-b0ab-5c4de2a4cc30",
   "metadata": {},
   "source": [
    "<img src = \"https://img1.daumcdn.net/thumb/R1280x0/?scode=mtistory2&fname=https%3A%2F%2Fblog.kakaocdn.net%2Fdn%2Fbe0Bk3%2FbtrWzR6cs6q%2FC0jWUNyQ6hOKKvqjXDZBqk%2Fimg.png\"></img>"
   ]
  },
  {
   "cell_type": "markdown",
   "id": "ea5611f6-8e21-4a0d-90fb-5c835984b478",
   "metadata": {},
   "source": [
    "```\n",
    "- 3차원: 깊이 x 행 x 열\n",
    "- 2차원:        행 x 열\n",
    "- 1차원:             열\n",
    "```"
   ]
  },
  {
   "cell_type": "markdown",
   "id": "770f546b-66c6-4690-99dd-379a37dfc8fd",
   "metadata": {},
   "source": [
    "- 불가능한 경우"
   ]
  },
  {
   "cell_type": "markdown",
   "id": "5544963e-89e3-438a-abd8-e893bbd12764",
   "metadata": {},
   "source": [
    "<img src = \"https://img1.daumcdn.net/thumb/R1280x0/?scode=mtistory2&fname=https%3A%2F%2Fblog.kakaocdn.net%2Fdn%2FMmP9w%2FbtrWxs0ovlw%2Fn6mOusuECDHK67T2ptQoT1%2Fimg.png\"></img>"
   ]
  },
  {
   "cell_type": "code",
   "execution_count": 63,
   "id": "092dbb30-be6c-40ee-8546-ff230cddfc15",
   "metadata": {},
   "outputs": [],
   "source": [
    "# 차원의 숫자가 일치하지 않음"
   ]
  },
  {
   "cell_type": "markdown",
   "id": "ab3c2619-d328-4321-b5ac-bb58c9b878ce",
   "metadata": {},
   "source": [
    "- 차원의 수가 같지 않아도 상관없음"
   ]
  },
  {
   "cell_type": "markdown",
   "id": "05ad3c14-db4e-4fdf-a004-febf026459b9",
   "metadata": {},
   "source": [
    "``` python\n",
    "A :     8 x 1 x 6 x 1  # 4차원\n",
    "B :         7 x 1 x 5  # 3차원\n",
    "result: 8 x 7 x 6 x 5  # 4차원\n",
    "```"
   ]
  },
  {
   "cell_type": "markdown",
   "id": "121b8f2d-4eeb-4920-a84c-b1533f1dc983",
   "metadata": {},
   "source": [
    "## 차원 축소 연산 ?  ##"
   ]
  },
  {
   "cell_type": "markdown",
   "id": "d3d9d4a0-c28f-4e83-9932-8e63fbe8b6cb",
   "metadata": {},
   "source": [
    ">행렬의 하나의 행에 있는 원소들을 하나의 데이터 집합으로 보고 그 집합의\n",
    ">평균을 구하면 각 행에 대해 하나의 숫자가 나오게 됨 예를 들어 10 x 5\n",
    ">크기의 2차원 배열에 대해 행-평균을 구하면 10개의 숫자를 가진 1차원\n",
    ">벡터가 나오는 걸 차원 축소 연산이라고 함"
   ]
  },
  {
   "cell_type": "markdown",
   "id": "f0821fe6-0d3f-4d51-bf3e-04d19a859b72",
   "metadata": {},
   "source": [
    "```python\n",
    "● 최대/최소: min, max, argmin, argmax  \n",
    "● 통계: sum, mean, median, std, var  \n",
    "● 불리언: all, any  \n",
    "```"
   ]
  },
  {
   "cell_type": "markdown",
   "id": "3f2f8f64-ec20-4f7c-97a9-a9cab34be5bc",
   "metadata": {},
   "source": [
    "\n",
    "# 1. sum( ) #\n"
   ]
  },
  {
   "cell_type": "markdown",
   "id": "c2bd15f8-0819-40aa-8246-481e3e87e4c2",
   "metadata": {},
   "source": [
    "- 해당 배열의 합산 결과를 반환\n",
    "- 연산 대상이 2차원 이상일 때는 axis 키워드 인수 사용"
   ]
  },
  {
   "cell_type": "code",
   "execution_count": 68,
   "id": "837a47ee-cdcf-4ecf-9fe8-432574babf28",
   "metadata": {},
   "outputs": [
    {
     "data": {
      "text/plain": [
       "array([1, 2, 3, 4])"
      ]
     },
     "execution_count": 68,
     "metadata": {},
     "output_type": "execute_result"
    }
   ],
   "source": [
    "x = np.array([1, 2, 3, 4])\n",
    "x"
   ]
  },
  {
   "cell_type": "code",
   "execution_count": 69,
   "id": "3d3668de-6baa-4fd6-86ac-654f8bdd6ce7",
   "metadata": {},
   "outputs": [
    {
     "data": {
      "text/plain": [
       "10"
      ]
     },
     "execution_count": 69,
     "metadata": {},
     "output_type": "execute_result"
    }
   ],
   "source": [
    "np.sum(x)"
   ]
  },
  {
   "cell_type": "code",
   "execution_count": 70,
   "id": "99fa8299-f9f7-47be-b875-345c800cca1c",
   "metadata": {},
   "outputs": [
    {
     "data": {
      "text/plain": [
       "10"
      ]
     },
     "execution_count": 70,
     "metadata": {},
     "output_type": "execute_result"
    }
   ],
   "source": [
    "x.sum()"
   ]
  },
  {
   "cell_type": "code",
   "execution_count": 71,
   "id": "3d28b80b-918a-40c5-9199-4edaafeaf0b1",
   "metadata": {},
   "outputs": [
    {
     "data": {
      "text/plain": [
       "array([[ 0,  1,  2,  3],\n",
       "       [ 4,  5,  6,  7],\n",
       "       [ 8,  9, 10, 11]])"
      ]
     },
     "execution_count": 71,
     "metadata": {},
     "output_type": "execute_result"
    }
   ],
   "source": [
    "x = np.arange(12).reshape(3, -1)\n",
    "x"
   ]
  },
  {
   "cell_type": "code",
   "execution_count": 72,
   "id": "f74fabff-9049-4a0a-b350-30118f6be24d",
   "metadata": {},
   "outputs": [
    {
     "data": {
      "text/plain": [
       "array([12, 15, 18, 21])"
      ]
     },
     "execution_count": 72,
     "metadata": {},
     "output_type": "execute_result"
    }
   ],
   "source": [
    "x. sum(axis = 0) # asix = 0은 행 간의 연산 결과를 구함"
   ]
  },
  {
   "cell_type": "code",
   "execution_count": 75,
   "id": "3d5a7833-cb40-49dc-a678-3d8e7668e7fc",
   "metadata": {},
   "outputs": [
    {
     "data": {
      "text/plain": [
       "array([ 6, 22, 38])"
      ]
     },
     "execution_count": 75,
     "metadata": {},
     "output_type": "execute_result"
    }
   ],
   "source": [
    "x. sum(axis = 1) # asix = 1은 열 간의 연산 결과를 구함"
   ]
  },
  {
   "cell_type": "markdown",
   "id": "684c9305-2b8b-4d8b-ade0-f854664a3459",
   "metadata": {},
   "source": [
    "```python\n",
    "> np.sum( )과 ndarray.som( )은 동등한 메서드\n",
    "```"
   ]
  },
  {
   "cell_type": "markdown",
   "id": "29c930de-d299-48c9-9f6a-c8f372bcf3d3",
   "metadata": {},
   "source": [
    "# 2. min( ) #"
   ]
  },
  {
   "cell_type": "markdown",
   "id": "7ae1707b-04f2-496c-a7f3-d2e0c53603c4",
   "metadata": {},
   "source": [
    "- 해당 배열의 제일 작은 값의 결과를 반환\n",
    "- 연산 대상이 2차원 이상일 때에는 axis 키워드 인수를 사용"
   ]
  },
  {
   "cell_type": "code",
   "execution_count": 80,
   "id": "bbe0ef51-dca8-4e5d-8ead-eb488f9a4c4d",
   "metadata": {},
   "outputs": [
    {
     "data": {
      "text/plain": [
       "array([[[ 0,  1],\n",
       "        [ 2,  3],\n",
       "        [ 4,  5],\n",
       "        [ 6,  7],\n",
       "        [ 8,  9]],\n",
       "\n",
       "       [[10, 11],\n",
       "        [12, 13],\n",
       "        [14, 15],\n",
       "        [16, 17],\n",
       "        [18, 19]]])"
      ]
     },
     "execution_count": 80,
     "metadata": {},
     "output_type": "execute_result"
    }
   ],
   "source": [
    "x = np.arange(20).reshape(2, 5, -1)\n",
    "x"
   ]
  },
  {
   "cell_type": "code",
   "execution_count": 99,
   "id": "cbbf0c6f-a394-4a4f-84bf-031adaa8da08",
   "metadata": {},
   "outputs": [
    {
     "data": {
      "text/plain": [
       "0"
      ]
     },
     "execution_count": 99,
     "metadata": {},
     "output_type": "execute_result"
    }
   ],
   "source": [
    "x.min()"
   ]
  },
  {
   "cell_type": "code",
   "execution_count": 100,
   "id": "a1c48a04-f3fc-4d6c-b08f-9ed754b806d6",
   "metadata": {},
   "outputs": [
    {
     "data": {
      "text/plain": [
       "0"
      ]
     },
     "execution_count": 100,
     "metadata": {},
     "output_type": "execute_result"
    }
   ],
   "source": [
    "np.min(x)"
   ]
  },
  {
   "cell_type": "code",
   "execution_count": 101,
   "id": "eba42a08-8bec-4fcd-81e2-5856fb32af8d",
   "metadata": {},
   "outputs": [
    {
     "data": {
      "text/plain": [
       "array([[0, 1],\n",
       "       [2, 3],\n",
       "       [4, 5],\n",
       "       [6, 7],\n",
       "       [8, 9]])"
      ]
     },
     "execution_count": 101,
     "metadata": {},
     "output_type": "execute_result"
    }
   ],
   "source": [
    "x.min(axis=0)"
   ]
  },
  {
   "cell_type": "code",
   "execution_count": 103,
   "id": "5cb9ea37-d786-4c80-b0ba-a94a52beb34b",
   "metadata": {},
   "outputs": [
    {
     "data": {
      "text/plain": [
       "array([[ 0,  1],\n",
       "       [10, 11]])"
      ]
     },
     "execution_count": 103,
     "metadata": {},
     "output_type": "execute_result"
    }
   ],
   "source": [
    "np.min(x, axis=1)"
   ]
  },
  {
   "cell_type": "markdown",
   "id": "78edc064-5733-4c35-8487-e75c787c33a3",
   "metadata": {},
   "source": [
    "# 3. argmin( ) #"
   ]
  },
  {
   "cell_type": "markdown",
   "id": "9df8f7b6-5c60-4ac7-89a2-d4dbc5a6bd23",
   "metadata": {},
   "source": [
    "- 해당 배열의 제일 작은 값의 인덱스를 반환\n",
    "- 연산 대상이 2차원 이상일 때에는 axis 키워드 인수를 사용"
   ]
  },
  {
   "cell_type": "code",
   "execution_count": 106,
   "id": "539ad78d-de33-4967-90d9-c873e60d088e",
   "metadata": {},
   "outputs": [
    {
     "data": {
      "text/plain": [
       "array([[[ 0,  1],\n",
       "        [ 2,  3],\n",
       "        [ 4,  5],\n",
       "        [ 6,  7],\n",
       "        [ 8,  9]],\n",
       "\n",
       "       [[10, 11],\n",
       "        [12, 13],\n",
       "        [14, 15],\n",
       "        [16, 17],\n",
       "        [18, 19]]])"
      ]
     },
     "execution_count": 106,
     "metadata": {},
     "output_type": "execute_result"
    }
   ],
   "source": [
    "x = np.arange(20).reshape(2, 5, -1)\n",
    "x"
   ]
  },
  {
   "cell_type": "code",
   "execution_count": 108,
   "id": "ae909ef6-dbdb-4ce1-9539-5e7d53f4e88d",
   "metadata": {},
   "outputs": [
    {
     "data": {
      "text/plain": [
       "0"
      ]
     },
     "execution_count": 108,
     "metadata": {},
     "output_type": "execute_result"
    }
   ],
   "source": [
    "x.argmin()"
   ]
  },
  {
   "cell_type": "code",
   "execution_count": 109,
   "id": "2a55f322-7d91-4753-aec2-38d1e7ba3917",
   "metadata": {},
   "outputs": [
    {
     "data": {
      "text/plain": [
       "0"
      ]
     },
     "execution_count": 109,
     "metadata": {},
     "output_type": "execute_result"
    }
   ],
   "source": [
    "np.argmin(x)"
   ]
  },
  {
   "cell_type": "code",
   "execution_count": 110,
   "id": "28cb5d16-e158-4eb1-9dec-0564a59d8959",
   "metadata": {},
   "outputs": [
    {
     "data": {
      "text/plain": [
       "array([[0, 0],\n",
       "       [0, 0],\n",
       "       [0, 0],\n",
       "       [0, 0],\n",
       "       [0, 0]], dtype=int64)"
      ]
     },
     "execution_count": 110,
     "metadata": {},
     "output_type": "execute_result"
    }
   ],
   "source": [
    "x.argmin(axis=0)"
   ]
  },
  {
   "cell_type": "code",
   "execution_count": 111,
   "id": "e5a116a3-36fd-4158-9814-6cbb6d6d97b5",
   "metadata": {},
   "outputs": [
    {
     "data": {
      "text/plain": [
       "array([[0, 0],\n",
       "       [0, 0]], dtype=int64)"
      ]
     },
     "execution_count": 111,
     "metadata": {},
     "output_type": "execute_result"
    }
   ],
   "source": [
    "np.argmin(x, axis=1)"
   ]
  },
  {
   "cell_type": "code",
   "execution_count": 112,
   "id": "61ad4e40-0e72-4123-a3bc-a0dbfd01f8e1",
   "metadata": {},
   "outputs": [
    {
     "data": {
      "text/plain": [
       "array([[0, 0, 0, 0, 0],\n",
       "       [0, 0, 0, 0, 0]], dtype=int64)"
      ]
     },
     "execution_count": 112,
     "metadata": {},
     "output_type": "execute_result"
    }
   ],
   "source": [
    "x.argmin(axis=2)"
   ]
  },
  {
   "cell_type": "markdown",
   "id": "b9b0b483-86bb-48d8-a848-4ba79e1d7e75",
   "metadata": {},
   "source": [
    "# 4. max( ) #"
   ]
  },
  {
   "cell_type": "markdown",
   "id": "bfce0d84-75db-4076-9631-a9788b50f66c",
   "metadata": {},
   "source": [
    "- 해당 배열의 제일 큰 값의 결과를 반환\n",
    "- 연산 대상이 2차원 이상 일때에는 axis 키워드 인수를 사용"
   ]
  },
  {
   "cell_type": "code",
   "execution_count": 113,
   "id": "d2537b4a-1ced-4fa2-8247-bdd16a22ad08",
   "metadata": {},
   "outputs": [
    {
     "data": {
      "text/plain": [
       "array([[[ 0,  1],\n",
       "        [ 2,  3],\n",
       "        [ 4,  5],\n",
       "        [ 6,  7],\n",
       "        [ 8,  9]],\n",
       "\n",
       "       [[10, 11],\n",
       "        [12, 13],\n",
       "        [14, 15],\n",
       "        [16, 17],\n",
       "        [18, 19]]])"
      ]
     },
     "execution_count": 113,
     "metadata": {},
     "output_type": "execute_result"
    }
   ],
   "source": [
    "x = np.arange(20).reshape(2, 5, -1)\n",
    "x"
   ]
  },
  {
   "cell_type": "code",
   "execution_count": 114,
   "id": "7fccf46f-290d-442f-bdf5-3f8ed7d7b42c",
   "metadata": {},
   "outputs": [
    {
     "data": {
      "text/plain": [
       "19"
      ]
     },
     "execution_count": 114,
     "metadata": {},
     "output_type": "execute_result"
    }
   ],
   "source": [
    "x.max()"
   ]
  },
  {
   "cell_type": "code",
   "execution_count": 115,
   "id": "ba4d02df-ffcb-419d-984e-f768b465b4fc",
   "metadata": {},
   "outputs": [
    {
     "data": {
      "text/plain": [
       "19"
      ]
     },
     "execution_count": 115,
     "metadata": {},
     "output_type": "execute_result"
    }
   ],
   "source": [
    "np.max(x)"
   ]
  },
  {
   "cell_type": "code",
   "execution_count": 120,
   "id": "46f38101-bd0d-4ad7-839e-f9855d7d8782",
   "metadata": {},
   "outputs": [
    {
     "data": {
      "text/plain": [
       "array([[10, 11],\n",
       "       [12, 13],\n",
       "       [14, 15],\n",
       "       [16, 17],\n",
       "       [18, 19]])"
      ]
     },
     "execution_count": 120,
     "metadata": {},
     "output_type": "execute_result"
    }
   ],
   "source": [
    "x.max(axis=0)"
   ]
  },
  {
   "cell_type": "code",
   "execution_count": 118,
   "id": "4854870c-84a6-45fb-af3f-b7fb41b34508",
   "metadata": {},
   "outputs": [
    {
     "data": {
      "text/plain": [
       "array([[ 8,  9],\n",
       "       [18, 19]])"
      ]
     },
     "execution_count": 118,
     "metadata": {},
     "output_type": "execute_result"
    }
   ],
   "source": [
    "np.max(x, axis=1)"
   ]
  },
  {
   "cell_type": "code",
   "execution_count": 119,
   "id": "72149700-9b61-47f8-8a48-e04e3f0c0ae9",
   "metadata": {},
   "outputs": [
    {
     "data": {
      "text/plain": [
       "array([[ 1,  3,  5,  7,  9],\n",
       "       [11, 13, 15, 17, 19]])"
      ]
     },
     "execution_count": 119,
     "metadata": {},
     "output_type": "execute_result"
    }
   ],
   "source": [
    "x.max(axis=2)"
   ]
  },
  {
   "cell_type": "markdown",
   "id": "1f498bc6-dcf7-4b6f-a046-ee250034b1e2",
   "metadata": {},
   "source": [
    "# 5. argumax( ) #"
   ]
  },
  {
   "cell_type": "markdown",
   "id": "7bbb0d30-a294-4579-b502-85f81e32dbaa",
   "metadata": {},
   "source": [
    "- 해당 배열의 제일 큰 값의 인덱스를 반환\n",
    "- 연산 대상이 2차원이상일 때에는 axis 키워드 인수를 사용"
   ]
  },
  {
   "cell_type": "code",
   "execution_count": 11,
   "id": "cdecc8f3-2220-43bc-9045-95b7b725fd70",
   "metadata": {},
   "outputs": [
    {
     "data": {
      "text/plain": [
       "array([[[ 0,  1],\n",
       "        [ 2,  3],\n",
       "        [ 4,  5],\n",
       "        [ 6,  7],\n",
       "        [ 8,  9]],\n",
       "\n",
       "       [[10, 11],\n",
       "        [12, 13],\n",
       "        [14, 15],\n",
       "        [16, 17],\n",
       "        [18, 19]]])"
      ]
     },
     "execution_count": 11,
     "metadata": {},
     "output_type": "execute_result"
    }
   ],
   "source": [
    "x = np.arange(20).reshape(2, 5, -1)\n",
    "x"
   ]
  },
  {
   "cell_type": "code",
   "execution_count": 12,
   "id": "b0911a87-de1c-4ffd-af52-a0fd7a72b663",
   "metadata": {},
   "outputs": [
    {
     "data": {
      "text/plain": [
       "19"
      ]
     },
     "execution_count": 12,
     "metadata": {},
     "output_type": "execute_result"
    }
   ],
   "source": [
    "x.argmax() # 19가 19번째라서 결과값이 19"
   ]
  },
  {
   "cell_type": "code",
   "execution_count": 123,
   "id": "ddf2ef53-04af-4c86-b621-46b2aef4e064",
   "metadata": {},
   "outputs": [
    {
     "data": {
      "text/plain": [
       "19"
      ]
     },
     "execution_count": 123,
     "metadata": {},
     "output_type": "execute_result"
    }
   ],
   "source": [
    "np.argmax(x)"
   ]
  },
  {
   "cell_type": "code",
   "execution_count": 124,
   "id": "219a02b7-d1c8-4f2b-aa43-88a2d1b20242",
   "metadata": {},
   "outputs": [
    {
     "data": {
      "text/plain": [
       "array([[1, 1],\n",
       "       [1, 1],\n",
       "       [1, 1],\n",
       "       [1, 1],\n",
       "       [1, 1]], dtype=int64)"
      ]
     },
     "execution_count": 124,
     "metadata": {},
     "output_type": "execute_result"
    }
   ],
   "source": [
    "x.argmax(axis=0)"
   ]
  },
  {
   "cell_type": "code",
   "execution_count": 125,
   "id": "9919acc1-5982-4f12-9057-73e9cd1c59f3",
   "metadata": {},
   "outputs": [
    {
     "data": {
      "text/plain": [
       "array([[4, 4],\n",
       "       [4, 4]], dtype=int64)"
      ]
     },
     "execution_count": 125,
     "metadata": {},
     "output_type": "execute_result"
    }
   ],
   "source": [
    "np.argmax(x, axis=1)"
   ]
  },
  {
   "cell_type": "code",
   "execution_count": 126,
   "id": "7f6480fd-2161-402d-845b-73f778cd470b",
   "metadata": {},
   "outputs": [
    {
     "data": {
      "text/plain": [
       "array([[1, 1, 1, 1, 1],\n",
       "       [1, 1, 1, 1, 1]], dtype=int64)"
      ]
     },
     "execution_count": 126,
     "metadata": {},
     "output_type": "execute_result"
    }
   ],
   "source": [
    "x.argmax(axis=2)"
   ]
  },
  {
   "cell_type": "markdown",
   "id": "ccee2855-9831-4873-ac39-542f017d1843",
   "metadata": {},
   "source": [
    "# 6. mean() #"
   ]
  },
  {
   "cell_type": "markdown",
   "id": "6f0a34b1-2fc9-4b38-ac5c-8bf661acdb8a",
   "metadata": {},
   "source": [
    "- 평균 구하기"
   ]
  },
  {
   "cell_type": "code",
   "execution_count": 129,
   "id": "96139a56-4c2d-4bef-b0c0-df6527dcacdf",
   "metadata": {},
   "outputs": [],
   "source": [
    "x= np.array([1, 2, 3, 1])"
   ]
  },
  {
   "cell_type": "code",
   "execution_count": 130,
   "id": "27746238-4e8d-4fb8-b081-f6aff36a7533",
   "metadata": {},
   "outputs": [
    {
     "data": {
      "text/plain": [
       "1.75"
      ]
     },
     "execution_count": 130,
     "metadata": {},
     "output_type": "execute_result"
    }
   ],
   "source": [
    "x.mean()"
   ]
  },
  {
   "cell_type": "markdown",
   "id": "f7c2a393-cbba-4629-bac5-a4d2800cb43e",
   "metadata": {},
   "source": [
    "# 7. median( ) #"
   ]
  },
  {
   "cell_type": "markdown",
   "id": "813ff81f-6fa2-44c9-b7f7-aba41292195f",
   "metadata": {},
   "source": [
    "- 중앙값 구하기"
   ]
  },
  {
   "cell_type": "code",
   "execution_count": 133,
   "id": "b46e6da4-1a4c-445a-87fc-dd9cf3ff031d",
   "metadata": {},
   "outputs": [
    {
     "data": {
      "text/plain": [
       "1.5"
      ]
     },
     "execution_count": 133,
     "metadata": {},
     "output_type": "execute_result"
    }
   ],
   "source": [
    "np.median(x)"
   ]
  },
  {
   "cell_type": "markdown",
   "id": "35e1286c-c0e1-40fe-95e3-afd10a1303aa",
   "metadata": {},
   "source": [
    "# 7. np.all( ) #"
   ]
  },
  {
   "cell_type": "markdown",
   "id": "49af6294-2491-4211-8ffd-e6325f5383af",
   "metadata": {},
   "source": [
    "- 배열 요소가 모두 True -> True 반환\n",
    "- 하나라도 false -> false"
   ]
  },
  {
   "cell_type": "code",
   "execution_count": 136,
   "id": "fde731dd-6a73-426f-8fd2-5b11ecfb81db",
   "metadata": {},
   "outputs": [
    {
     "data": {
      "text/plain": [
       "False"
      ]
     },
     "execution_count": 136,
     "metadata": {},
     "output_type": "execute_result"
    }
   ],
   "source": [
    "np.all([True, True, False])"
   ]
  },
  {
   "cell_type": "markdown",
   "id": "ac84c882-37ea-43a6-bf74-5effe2b552fd",
   "metadata": {},
   "source": [
    "# 8. np.any( ) #"
   ]
  },
  {
   "cell_type": "markdown",
   "id": "367afd0e-19ec-46b2-a28d-dfbe566e9728",
   "metadata": {},
   "source": [
    "- 배열 요소가 하나라도 True -> True 반환\n",
    "- 전부 false -> false"
   ]
  },
  {
   "cell_type": "code",
   "execution_count": 138,
   "id": "e4424a2e-35ab-412a-b63d-c32850825c03",
   "metadata": {},
   "outputs": [
    {
     "data": {
      "text/plain": [
       "True"
      ]
     },
     "execution_count": 138,
     "metadata": {},
     "output_type": "execute_result"
    }
   ],
   "source": [
    "np.any([True, True, False])"
   ]
  },
  {
   "cell_type": "code",
   "execution_count": 140,
   "id": "f672f131-3b59-406e-b675-e4bccd333e3f",
   "metadata": {},
   "outputs": [
    {
     "data": {
      "text/plain": [
       "array([[0, 0, 0, ..., 0, 0, 0],\n",
       "       [0, 0, 0, ..., 0, 0, 0],\n",
       "       [0, 0, 0, ..., 0, 0, 0],\n",
       "       ...,\n",
       "       [0, 0, 0, ..., 0, 0, 0],\n",
       "       [0, 0, 0, ..., 0, 0, 0],\n",
       "       [0, 0, 0, ..., 0, 0, 0]], dtype=int64)"
      ]
     },
     "execution_count": 140,
     "metadata": {},
     "output_type": "execute_result"
    }
   ],
   "source": [
    "a = np.zeros((100, 100), dtype = np.int64)\n",
    "a"
   ]
  },
  {
   "cell_type": "code",
   "execution_count": 141,
   "id": "352064e1-6822-4180-82f2-e39147856472",
   "metadata": {},
   "outputs": [
    {
     "data": {
      "text/plain": [
       "False"
      ]
     },
     "execution_count": 141,
     "metadata": {},
     "output_type": "execute_result"
    }
   ],
   "source": [
    "np.any(a != 0)"
   ]
  },
  {
   "cell_type": "code",
   "execution_count": 142,
   "id": "3a0ae01d-6d82-43c0-8062-940d8d743208",
   "metadata": {},
   "outputs": [
    {
     "data": {
      "text/plain": [
       "True"
      ]
     },
     "execution_count": 142,
     "metadata": {},
     "output_type": "execute_result"
    }
   ],
   "source": [
    "np.all(a == 0)"
   ]
  },
  {
   "cell_type": "markdown",
   "id": "24eba3ba-35ed-4565-afd0-f20ee9f00c96",
   "metadata": {},
   "source": [
    "# 연습 문제 #"
   ]
  },
  {
   "cell_type": "markdown",
   "id": "5775e73e-9914-4b7c-9429-7b99d390e29a",
   "metadata": {},
   "source": [
    "실수로 이루어진 5 x 6 형태의 데이터 행렬을 만들고 이 데이터에 대해 다음과 같은 값을\n",
    "구한다.\n",
    "1. 전체의 최대값\n",
    "2. 행 간의 합\n",
    "3. 행 간의 최대값\n",
    "4. 열 간의 평균\n",
    "5. 열 간의 최소값\n",
    "```python\n",
    "practice = np.array([[1.1, 7.1, 8.0, 2.1, 6.5, 7.2],\n",
    "                     [2.7, 5.2, 3.3, 9.0, 7.7, 2.8],\n",
    "                     [0.7, 8.8, 4.2, 8.9, 4.3, 7.4],\n",
    "                     [8.2, 1.1, 5.4, 2.9, 6.9, 0.2],\n",
    "                    [7.4, 4.8, 2.7, 3.1, 2.8, 8.9]])\n",
    "```"
   ]
  },
  {
   "cell_type": "code",
   "execution_count": 145,
   "id": "ff599e78-6697-4e34-a8df-d90777689a33",
   "metadata": {},
   "outputs": [
    {
     "data": {
      "text/plain": [
       "9.0"
      ]
     },
     "execution_count": 145,
     "metadata": {},
     "output_type": "execute_result"
    }
   ],
   "source": [
    "np.max(practice)"
   ]
  },
  {
   "cell_type": "code",
   "execution_count": 151,
   "id": "6365d3a3-373a-4f67-84df-b15087960e34",
   "metadata": {},
   "outputs": [
    {
     "data": {
      "text/plain": [
       "array([20.1, 27. , 23.6, 26. , 28.2, 26.5])"
      ]
     },
     "execution_count": 151,
     "metadata": {},
     "output_type": "execute_result"
    }
   ],
   "source": [
    "np.sum(practice, axis = 0)"
   ]
  },
  {
   "cell_type": "code",
   "execution_count": 152,
   "id": "38f0f113-9b26-4398-a38e-3c89830d3e37",
   "metadata": {},
   "outputs": [
    {
     "data": {
      "text/plain": [
       "array([8.2, 8.8, 8. , 9. , 7.7, 8.9])"
      ]
     },
     "execution_count": 152,
     "metadata": {},
     "output_type": "execute_result"
    }
   ],
   "source": [
    "np.max(practice, axis = 0)"
   ]
  },
  {
   "cell_type": "code",
   "execution_count": 153,
   "id": "751269da-2524-45bd-ae47-505a4124af03",
   "metadata": {},
   "outputs": [
    {
     "data": {
      "text/plain": [
       "array([5.33333333, 5.11666667, 5.71666667, 4.11666667, 4.95      ])"
      ]
     },
     "execution_count": 153,
     "metadata": {},
     "output_type": "execute_result"
    }
   ],
   "source": [
    "np.mean(practice, axis = 1)"
   ]
  },
  {
   "cell_type": "code",
   "execution_count": 154,
   "id": "c6a9771c-f579-4ce5-a593-aa386493bb89",
   "metadata": {},
   "outputs": [
    {
     "data": {
      "text/plain": [
       "array([1.1, 2.7, 0.7, 0.2, 2.7])"
      ]
     },
     "execution_count": 154,
     "metadata": {},
     "output_type": "execute_result"
    }
   ],
   "source": [
    "np.min(practice, axis = 1)"
   ]
  },
  {
   "cell_type": "markdown",
   "id": "b3d5da0c-0b57-4d9e-a4cd-e1057e79a9eb",
   "metadata": {},
   "source": [
    "---------------"
   ]
  },
  {
   "cell_type": "markdown",
   "id": "dfc89605-cb8a-44a9-be0c-e56261b40d54",
   "metadata": {},
   "source": [
    "## 정렬 ##"
   ]
  },
  {
   "cell_type": "markdown",
   "id": "99b8bd58-6543-481b-ae20-8ae73f71c158",
   "metadata": {},
   "source": [
    "- numpy.sort()를 사용하여 배열 안의 원소를 크기에 따라 정렬하여 새로운 배열을 만들수도 있음  \n",
    "- 2차원 이상인 경우에는 행이나 열을 각각 따로따로 정렬하는데 axis 인수를 사용하여 행을 정렬할 것인지 열을 정렬한 것인지 결정  \n",
    "- axis=0 이면 각각의 행을 따로따로 정렬하고 axis=1 이면 각각의 열을 따로따로 정렬  \n",
    "- 디폴트 값은 -1 즉 가장 안쪽(나중)의 차원  "
   ]
  },
  {
   "cell_type": "code",
   "execution_count": 160,
   "id": "614d1411-7ef3-46d1-b8bd-97eda65311ca",
   "metadata": {},
   "outputs": [
    {
     "data": {
      "text/plain": [
       "array([[ 4,  3,  5,  7],\n",
       "       [ 1, 12, 11,  9],\n",
       "       [ 2, 15,  1, 14]])"
      ]
     },
     "execution_count": 160,
     "metadata": {},
     "output_type": "execute_result"
    }
   ],
   "source": [
    "a = np.array([[4, 3, 5, 7],\n",
    "            [1, 12, 11, 9],\n",
    "            [2, 15, 1, 14]])\n",
    "a"
   ]
  },
  {
   "cell_type": "code",
   "execution_count": 161,
   "id": "5da0451d-afc7-414e-a968-6ea83ee72ebc",
   "metadata": {},
   "outputs": [
    {
     "data": {
      "text/plain": [
       "array([[ 3,  4,  5,  7],\n",
       "       [ 1,  9, 11, 12],\n",
       "       [ 1,  2, 14, 15]])"
      ]
     },
     "execution_count": 161,
     "metadata": {},
     "output_type": "execute_result"
    }
   ],
   "source": [
    "np.sort(a)"
   ]
  },
  {
   "cell_type": "code",
   "execution_count": 162,
   "id": "7fb2106e-88fe-4da7-8ca8-0fc592b50426",
   "metadata": {},
   "outputs": [
    {
     "data": {
      "text/plain": [
       "array([[ 1,  3,  1,  7],\n",
       "       [ 2, 12,  5,  9],\n",
       "       [ 4, 15, 11, 14]])"
      ]
     },
     "execution_count": 162,
     "metadata": {},
     "output_type": "execute_result"
    }
   ],
   "source": [
    "np.sort(a, axis=0)"
   ]
  },
  {
   "cell_type": "markdown",
   "id": "02b985de-9838-4f10-bbbd-7b006259f427",
   "metadata": {},
   "source": [
    "> 해당 객체의 자료 자체가 변화하는 자체변화(in-place) 메서드이므로 사용할 때 주의를 기울이기"
   ]
  },
  {
   "cell_type": "code",
   "execution_count": 163,
   "id": "d90750ec-df0b-43ce-a7c9-905f3a14df71",
   "metadata": {},
   "outputs": [
    {
     "data": {
      "text/plain": [
       "array([[ 4,  3,  5,  7],\n",
       "       [ 1, 12, 11,  9],\n",
       "       [ 2, 15,  1, 14]])"
      ]
     },
     "execution_count": 163,
     "metadata": {},
     "output_type": "execute_result"
    }
   ],
   "source": [
    "a = np.array([[4, 3, 5, 7],\n",
    "            [1, 12, 11, 9],\n",
    "            [2, 15, 1, 14]])\n",
    "a"
   ]
  },
  {
   "cell_type": "code",
   "execution_count": 164,
   "id": "5679f8de-16fd-4ab7-b733-46422e81a10a",
   "metadata": {},
   "outputs": [
    {
     "data": {
      "text/plain": [
       "array([[ 3,  4,  5,  7],\n",
       "       [ 1,  9, 11, 12],\n",
       "       [ 1,  2, 14, 15]])"
      ]
     },
     "execution_count": 164,
     "metadata": {},
     "output_type": "execute_result"
    }
   ],
   "source": [
    "a.sort(axis=1)\n",
    "a"
   ]
  },
  {
   "cell_type": "markdown",
   "id": "5d2beeb4-4061-47c6-a1d6-afc14da6404c",
   "metadata": {},
   "source": [
    "### 자료를 정렬하는 것이 아니라 순서만 알고 싶을때 ? ###"
   ]
  },
  {
   "cell_type": "markdown",
   "id": "f619d7fe-49d7-4bdd-81b9-ef0d9ef54deb",
   "metadata": {},
   "source": [
    "- argsort 명령 사용"
   ]
  },
  {
   "cell_type": "code",
   "execution_count": 167,
   "id": "3484e2a3-f271-4bcf-bd3c-b3000d602d43",
   "metadata": {},
   "outputs": [
    {
     "data": {
      "text/plain": [
       "array([2, 3, 1, 0], dtype=int64)"
      ]
     },
     "execution_count": 167,
     "metadata": {},
     "output_type": "execute_result"
    }
   ],
   "source": [
    "a = np.array([42, 38, 12, 25])\n",
    "j = np.argsort(a)\n",
    "j"
   ]
  },
  {
   "cell_type": "code",
   "execution_count": 170,
   "id": "2d0d6799-8a4b-432c-af43-de9559b9ce8a",
   "metadata": {},
   "outputs": [
    {
     "data": {
      "text/plain": [
       "array([12, 25, 38, 42])"
      ]
     },
     "execution_count": 170,
     "metadata": {},
     "output_type": "execute_result"
    }
   ],
   "source": [
    "a[j]"
   ]
  },
  {
   "cell_type": "code",
   "execution_count": 171,
   "id": "6152684d-70db-45a3-b0ac-a392ab31a9f7",
   "metadata": {},
   "outputs": [
    {
     "data": {
      "text/plain": [
       "array([12, 25, 38, 42])"
      ]
     },
     "execution_count": 171,
     "metadata": {},
     "output_type": "execute_result"
    }
   ],
   "source": [
    "np.sort(a)"
   ]
  },
  {
   "cell_type": "markdown",
   "id": "69602432-8f23-44d8-8062-66f2eab8c31c",
   "metadata": {},
   "source": [
    "## 인덱스 배열을 사용한 인덱싱 ##"
   ]
  },
  {
   "cell_type": "markdown",
   "id": "74a1c20d-0e96-476b-9d51-c785d8c5525e",
   "metadata": {},
   "source": [
    "- 인덱싱을 할 때 인덱스 위치를 나타내는 배열을 활용하여 인덱싱이 가능"
   ]
  },
  {
   "cell_type": "markdown",
   "id": "93f3f3de-3401-496a-98a3-2cca6333973a",
   "metadata": {},
   "source": [
    "<img src = \"https://img1.daumcdn.net/thumb/R1280x0/?scode=mtistory2&fname=https%3A%2F%2Fblog.kakaocdn.net%2Fdn%2FETIM8%2FbtrWxsF8mgS%2FKvLyjgMt2pPMEclikImisk%2Fimg.png\"></img>"
   ]
  },
  {
   "cell_type": "code",
   "execution_count": 173,
   "id": "336070dc-98b3-431e-b705-ad0939b26aa8",
   "metadata": {},
   "outputs": [
    {
     "data": {
      "text/plain": [
       "array([[1, 2],\n",
       "       [3, 4],\n",
       "       [5, 6]])"
      ]
     },
     "execution_count": 173,
     "metadata": {},
     "output_type": "execute_result"
    }
   ],
   "source": [
    "a = np.array([[1, 2], [3, 4], [5, 6]])\n",
    "a"
   ]
  },
  {
   "cell_type": "code",
   "execution_count": 174,
   "id": "d113d260-c6a1-4cc8-b991-d3fce4240f6d",
   "metadata": {},
   "outputs": [
    {
     "name": "stdout",
     "output_type": "stream",
     "text": [
      "[1 4 5]\n"
     ]
    }
   ],
   "source": [
    "print(a[[0, 1, 2], [0, 1, 0]]) # a[0, 0], a[1, 1], a[2, 0]을 인덱스로 하는 \n",
    "                               # 1차원 배열 shape = (3, )을 츨력"
   ]
  },
  {
   "cell_type": "markdown",
   "id": "4655cb78-eb84-42bd-a97d-b3e8c3354a5c",
   "metadata": {},
   "source": [
    "> 슬라이싱 범위도 결국 인덱스 배열이라고 생각하면 됨"
   ]
  },
  {
   "cell_type": "markdown",
   "id": "285e8b9a-a0d7-4c70-bb41-73293084fdf4",
   "metadata": {},
   "source": [
    "<img src = \"https://img1.daumcdn.net/thumb/R1280x0/?scode=mtistory2&fname=https%3A%2F%2Fblog.kakaocdn.net%2Fdn%2F7LZXi%2FbtrWw64lMmg%2FBV371KzZfHOwUKVd4JUCWk%2Fimg.png\"></img>"
   ]
  },
  {
   "cell_type": "code",
   "execution_count": 178,
   "id": "671fb24a-2a8d-45d8-879d-ff96957037cd",
   "metadata": {},
   "outputs": [
    {
     "data": {
      "text/plain": [
       "array([[1, 2],\n",
       "       [3, 4],\n",
       "       [5, 6]])"
      ]
     },
     "execution_count": 178,
     "metadata": {},
     "output_type": "execute_result"
    }
   ],
   "source": [
    "a = np.array([[1, 2], [3, 4], [5, 6]])\n",
    "a"
   ]
  },
  {
   "cell_type": "code",
   "execution_count": 179,
   "id": "b9d55ebf-0938-4c5b-aef6-567a3bf15d87",
   "metadata": {},
   "outputs": [
    {
     "name": "stdout",
     "output_type": "stream",
     "text": [
      "[[1 2 1]\n",
      " [3 4 3]\n",
      " [5 6 5]]\n"
     ]
    }
   ],
   "source": [
    "print(a[:, [0, 1, 0]])"
   ]
  },
  {
   "cell_type": "markdown",
   "id": "b49e7164-13ea-4aea-9723-5fe122fa63bf",
   "metadata": {},
   "source": [
    "# 연습문제 #"
   ]
  },
  {
   "cell_type": "markdown",
   "id": "1f2e791a-b0cc-4852-9560-1adba266eec8",
   "metadata": {},
   "source": [
    "다음 배열은 첫번째 행(row)에 학번, 두번째 행에 영어 성적, 세번째 행에 수학 성적을\n",
    "적은 배열이다. 영어 성적을 기준으로 각 열(column)을 재정렬해보세요."
   ]
  },
  {
   "cell_type": "code",
   "execution_count": 192,
   "id": "0178f749-b2bd-457a-b6f8-1b6863dbfdab",
   "metadata": {},
   "outputs": [],
   "source": [
    "scores = np.array([[1, 2, 3, 4],\n",
    "                  [46, 99, 100, 71],\n",
    "                  [81, 59, 90, 100]])"
   ]
  },
  {
   "cell_type": "code",
   "execution_count": 203,
   "id": "5b699f5a-8a3d-4dad-92e0-33b9ea0a6004",
   "metadata": {},
   "outputs": [
    {
     "data": {
      "text/plain": [
       "array([ 46,  99, 100,  71])"
      ]
     },
     "execution_count": 203,
     "metadata": {},
     "output_type": "execute_result"
    }
   ],
   "source": [
    "eng = scores[1, :]"
   ]
  },
  {
   "cell_type": "code",
   "execution_count": 206,
   "id": "4a11531d-248d-47e4-b91a-20a753a8dab9",
   "metadata": {},
   "outputs": [],
   "source": [
    "eng.sort()"
   ]
  },
  {
   "cell_type": "code",
   "execution_count": 207,
   "id": "9e91c773-b2b1-4ae7-b813-ab1ba9e4548d",
   "metadata": {},
   "outputs": [
    {
     "data": {
      "text/plain": [
       "array([[  1,   2,   3,   4],\n",
       "       [ 46,  71,  99, 100],\n",
       "       [ 81,  59,  90, 100]])"
      ]
     },
     "execution_count": 207,
     "metadata": {},
     "output_type": "execute_result"
    }
   ],
   "source": [
    "scores"
   ]
  },
  {
   "cell_type": "markdown",
   "id": "f474284a-cc01-48a1-a7c8-2d32bb382b2f",
   "metadata": {},
   "source": [
    "----------------"
   ]
  },
  {
   "cell_type": "markdown",
   "id": "83ee5ccb-79f0-44ee-99f2-081ac64034b0",
   "metadata": {},
   "source": [
    "## 기술 통계 ? ##"
   ]
  },
  {
   "cell_type": "markdown",
   "id": "9df5e2a7-49cb-483f-87d7-7acc82e17280",
   "metadata": {},
   "source": [
    ">넘파이는 다음과 같은 데이터 집합에 대해 간단한 통계를 계산하는 함수를 제공  \n",
    ">이러한 값들을 통틀어 기술 통계라고 함"
   ]
  },
  {
   "cell_type": "markdown",
   "id": "7b8f1126-2c36-4d96-ae7e-783561769640",
   "metadata": {},
   "source": [
    "● 데이터의 개수(count)  \n",
    "● 평균(mean, average)  \n",
    "● 분산(variance)  \n",
    "● 표준 편차(standard deviation)  \n",
    "● 최대값(maximum)  \n",
    "● 최소값(minimum)  \n",
    "● 중앙값(median)  \n",
    "● 사분위수(quartile)  "
   ]
  },
  {
   "cell_type": "markdown",
   "id": "6cc9e764-e0aa-4739-941e-71ece9269e75",
   "metadata": {},
   "source": [
    "\n",
    "> ex) 데이터 x가 있다. x 를 이루는 숫자 하나하나를 수학 기호로는 x1 ,x2 ,⋯,xN처럼 표시  \n",
    ">      넘파이에서는 이러한 데이터를 1차원 배열로 구현합니다."
   ]
  },
  {
   "cell_type": "markdown",
   "id": "99f8979a-8ddf-40d7-b951-15f47561a8cc",
   "metadata": {},
   "source": [
    "### 데이터의 개수 ###"
   ]
  },
  {
   "cell_type": "markdown",
   "id": "8ff9d340-a786-4e55-816e-faf86e7022cd",
   "metadata": {},
   "source": [
    "- len 함수로 구하기"
   ]
  },
  {
   "cell_type": "code",
   "execution_count": 211,
   "id": "5e8176f9-3f55-40f9-93a1-09ec469178e8",
   "metadata": {},
   "outputs": [
    {
     "data": {
      "text/plain": [
       "8"
      ]
     },
     "execution_count": 211,
     "metadata": {},
     "output_type": "execute_result"
    }
   ],
   "source": [
    "x = np.array([1, 2, 3, 4, 5, 6, 7, 8])\n",
    "len(x) # 개수구하기"
   ]
  },
  {
   "cell_type": "markdown",
   "id": "90743a41-b507-47c4-bc4f-caeaa9d11c38",
   "metadata": {},
   "source": [
    "## 표본 평균 ##"
   ]
  },
  {
   "cell_type": "markdown",
   "id": "531648a7-0586-42ce-b49f-10f7b9f992aa",
   "metadata": {},
   "source": [
    ">평균을 통계용어로는 표본 평균(sample average, sample mean)  \n",
    ">x 데이터에 대한 표본 평균은 라고 표시하며 다음과 같이 계산  \n",
    ">이 식에서 N = 데이터의 개수  "
   ]
  },
  {
   "cell_type": "markdown",
   "id": "2d376ba9-51a9-4596-9bc1-d345440b51cd",
   "metadata": {},
   "source": [
    "<img src = \"https://img1.daumcdn.net/thumb/R1280x0/?scode=mtistory2&fname=https%3A%2F%2Fblog.kakaocdn.net%2Fdn%2FerVdXy%2FbtrWyMYq1Xh%2FeCvpfAeTQGKC7NskpleeL0%2Fimg.png\"></img>"
   ]
  },
  {
   "cell_type": "code",
   "execution_count": 213,
   "id": "8ad304c2-52d2-47cf-a6b4-6f4df0fb5a35",
   "metadata": {},
   "outputs": [
    {
     "data": {
      "text/plain": [
       "4.5"
      ]
     },
     "execution_count": 213,
     "metadata": {},
     "output_type": "execute_result"
    }
   ],
   "source": [
    "np.mean(x) #평균"
   ]
  },
  {
   "cell_type": "markdown",
   "id": "bea22374-5a72-4442-a141-663739ba3989",
   "metadata": {},
   "source": [
    "## 표본 분산 ##"
   ]
  },
  {
   "cell_type": "markdown",
   "id": "e8928f34-c13b-4013-8ae3-53c71ff0c1d7",
   "metadata": {},
   "source": [
    ">표본 분산(sample variance)은 데이터와 표본 평균간의 거리의 제곱의 평균 \n",
    ">표본 분산이 작으면 데이터가 모여있는 것이고 크면 흩어져 있는 것  \n",
    ">수학 기호로는 s제곱 이라고 표시하며 다음과 같이 계산  "
   ]
  },
  {
   "cell_type": "markdown",
   "id": "d48760bb-9b73-43ae-b3b3-f15ab1be1253",
   "metadata": {},
   "source": [
    "<img src = \"https://img1.daumcdn.net/thumb/R1280x0/?scode=mtistory2&fname=https%3A%2F%2Fblog.kakaocdn.net%2Fdn%2FbKAFjC%2FbtrWuOKs8eQ%2FWCChAynXZYG5zLH3nfiQI0%2Fimg.png\"></img>"
   ]
  },
  {
   "cell_type": "code",
   "execution_count": 214,
   "id": "f0cf6216-2c09-4ed8-a856-414d04646606",
   "metadata": {},
   "outputs": [
    {
     "data": {
      "text/plain": [
       "5.25"
      ]
     },
     "execution_count": 214,
     "metadata": {},
     "output_type": "execute_result"
    }
   ],
   "source": [
    "np.var(x) #분산"
   ]
  },
  {
   "cell_type": "code",
   "execution_count": 215,
   "id": "75132466-1b34-49a5-93d5-47eeebaea549",
   "metadata": {},
   "outputs": [
    {
     "data": {
      "text/plain": [
       "6.0"
      ]
     },
     "execution_count": 215,
     "metadata": {},
     "output_type": "execute_result"
    }
   ],
   "source": [
    "np.var(x, ddof = 1) #비편행 분산 --> 나중에"
   ]
  },
  {
   "cell_type": "markdown",
   "id": "ee75de0f-d06d-45bb-9ebd-ee5b2f12f4ab",
   "metadata": {},
   "source": [
    "## 표본 표준편차 ##"
   ]
  },
  {
   "cell_type": "markdown",
   "id": "55f6d06b-1d86-4852-9933-8bf2b9f6d5fd",
   "metadata": {},
   "source": [
    ">표본 분산의 양의 제곱근 값이  \n",
    ">s이라고 표시"
   ]
  },
  {
   "cell_type": "markdown",
   "id": "366d8f19-6d23-4ada-997a-ddfb78d7b80d",
   "metadata": {},
   "source": [
    "<img src = \"https://img1.daumcdn.net/thumb/R1280x0/?scode=mtistory2&fname=https%3A%2F%2Fblog.kakaocdn.net%2Fdn%2Fcnq6q5%2FbtrWv7CZqtd%2FzXCLK4rFocKrw1Mp8Jk7ek%2Fimg.png\"></img>"
   ]
  },
  {
   "cell_type": "code",
   "execution_count": 216,
   "id": "558a78ae-c77b-48e9-94f9-cc36bb359df4",
   "metadata": {},
   "outputs": [
    {
     "data": {
      "text/plain": [
       "2.29128784747792"
      ]
     },
     "execution_count": 216,
     "metadata": {},
     "output_type": "execute_result"
    }
   ],
   "source": [
    "np.std(x) #표준 편차"
   ]
  },
  {
   "cell_type": "markdown",
   "id": "d389e07c-61e1-4045-b57d-2189b745a4b8",
   "metadata": {},
   "source": [
    "## 최대값과 최소값 ##"
   ]
  },
  {
   "cell_type": "markdown",
   "id": "14e222db-7422-4029-b735-f57b1c5ac973",
   "metadata": {},
   "source": [
    "최대값(maximum) = 데이터 중에서 가장 큰 값을  \n",
    "최소값(minimum) = 가장 작은 값을"
   ]
  },
  {
   "cell_type": "code",
   "execution_count": 221,
   "id": "9ec347d7-24e8-4388-948c-6f45eabf378f",
   "metadata": {},
   "outputs": [
    {
     "data": {
      "text/plain": [
       "8"
      ]
     },
     "execution_count": 221,
     "metadata": {},
     "output_type": "execute_result"
    }
   ],
   "source": [
    "np.max(x) #최대값"
   ]
  },
  {
   "cell_type": "code",
   "execution_count": 220,
   "id": "078a8b55-63aa-4a76-babd-74e385a09376",
   "metadata": {},
   "outputs": [
    {
     "data": {
      "text/plain": [
       "1"
      ]
     },
     "execution_count": 220,
     "metadata": {},
     "output_type": "execute_result"
    }
   ],
   "source": [
    "np.min(x) #최소값"
   ]
  },
  {
   "cell_type": "markdown",
   "id": "4b54218b-0223-4395-abbe-b0ac81e2e961",
   "metadata": {},
   "source": [
    "## 중앙값 ##"
   ]
  },
  {
   "cell_type": "markdown",
   "id": "e29efc82-209f-4f54-808e-8e71b44688f3",
   "metadata": {},
   "source": [
    "> 중앙값(median)은 데이터를 크기대로 정렬하였을 때 가장 가운데에 있는 수  \n",
    "> 만약 데이터의 수가 짝수이면 가장 가운데에 있는 두 수의 평균"
   ]
  },
  {
   "cell_type": "code",
   "execution_count": 223,
   "id": "cce8fedb-b86d-4493-afab-e496efb215f4",
   "metadata": {},
   "outputs": [
    {
     "data": {
      "text/plain": [
       "4.5"
      ]
     },
     "execution_count": 223,
     "metadata": {},
     "output_type": "execute_result"
    }
   ],
   "source": [
    "np.median(x) #중앙값"
   ]
  },
  {
   "cell_type": "markdown",
   "id": "c7cf33ed-6691-48bf-84c4-8ee9637515e7",
   "metadata": {},
   "source": [
    "# 사분위수 #"
   ]
  },
  {
   "cell_type": "markdown",
   "id": "d1ceb1b7-0b84-4bd2-9d03-d7ff4252bf23",
   "metadata": {},
   "source": [
    "- 사분위수(quartile)는 데이터를 가장 작은 수부터 가장 큰 수까지 크기가 커지는 순서대로  \n",
    "- 정렬하였을 때 1/4, 2/4, 3/4 위치에 있는 수를 말함  \n",
    "- 각각 1사분위수, 2사분위수, 3사분위수  \n",
    "- 1/4의 위치란 전체 데이터의 수가 만약 100개이면 25번째 순서, 즉 하위 25%  \n",
    "- 따라서 2사분위수는 중앙값과 같음   "
   ]
  },
  {
   "cell_type": "markdown",
   "id": "a0b5bb6c-74bf-46f2-b583-e10542700a08",
   "metadata": {},
   "source": [
    "> 위치를 1/100 단위로 나눈 백분위수 사용  \n",
    "> 1사부위수 = 25%"
   ]
  },
  {
   "cell_type": "code",
   "execution_count": 226,
   "id": "2bef5fdd-a5b1-4591-bb29-43ec7b3f8fb7",
   "metadata": {},
   "outputs": [
    {
     "data": {
      "text/plain": [
       "1.0"
      ]
     },
     "execution_count": 226,
     "metadata": {},
     "output_type": "execute_result"
    }
   ],
   "source": [
    "np.percentile(x, 0) #최소값 = (.min)"
   ]
  },
  {
   "cell_type": "code",
   "execution_count": 227,
   "id": "3d820c7e-a4be-45c3-912e-eb2997d0142f",
   "metadata": {},
   "outputs": [
    {
     "data": {
      "text/plain": [
       "2.75"
      ]
     },
     "execution_count": 227,
     "metadata": {},
     "output_type": "execute_result"
    }
   ],
   "source": [
    "np.percentile(x, 25) # 1사분위 수"
   ]
  },
  {
   "cell_type": "code",
   "execution_count": 228,
   "id": "f6577fad-d3d0-4f3e-83a7-7c844348eb2d",
   "metadata": {},
   "outputs": [
    {
     "data": {
      "text/plain": [
       "4.5"
      ]
     },
     "execution_count": 228,
     "metadata": {},
     "output_type": "execute_result"
    }
   ],
   "source": [
    "np.percentile(x, 50) # 2사분위 수 = 중앙값(.median)"
   ]
  },
  {
   "cell_type": "code",
   "execution_count": 232,
   "id": "62e880e2-2b2c-4969-a311-fff9f01a5904",
   "metadata": {},
   "outputs": [
    {
     "data": {
      "text/plain": [
       "6.25"
      ]
     },
     "execution_count": 232,
     "metadata": {},
     "output_type": "execute_result"
    }
   ],
   "source": [
    "np.percentile(x, 75) # 3사분위 수"
   ]
  },
  {
   "cell_type": "code",
   "execution_count": 231,
   "id": "945462db-c2b4-4099-bb39-7aad43171dde",
   "metadata": {},
   "outputs": [
    {
     "data": {
      "text/plain": [
       "8.0"
      ]
     },
     "execution_count": 231,
     "metadata": {},
     "output_type": "execute_result"
    }
   ],
   "source": [
    "np.percentile(x, 100) # 최대값 = (max.)"
   ]
  },
  {
   "cell_type": "markdown",
   "id": "54984c38-d731-437f-9e46-f9002ea100a9",
   "metadata": {},
   "source": [
    "### 난수 발생과 카운팅? ###"
   ]
  },
  {
   "cell_type": "markdown",
   "id": "3f86e92e-0954-4647-a8df-7b8ca0280886",
   "metadata": {},
   "source": [
    ">파이썬을 이용하여 데이터를 무작위로 섞거나 임의의 수 즉,   \n",
    ">난수(random number)를 발생시키는 방법에 대해 알아보자  \n",
    ">이 기능은 주로 NumPy의 random 서브패키지에서 제공합니다.  \n",
    ">(random과 다름)  "
   ]
  },
  {
   "cell_type": "markdown",
   "id": "23fc52c1-731d-4cb3-acd2-ee72c4f269b0",
   "metadata": {},
   "source": [
    "### 시드 설정하기 ###"
   ]
  },
  {
   "cell_type": "markdown",
   "id": "608ef1d6-fd51-40ba-9743-a8c3315358b0",
   "metadata": {},
   "source": [
    "컴퓨터 프로그램에서 발생하는 무작위 수는 사실 엄격한 의미의 무작위 수 X  \n",
    "어떤 특정한 시작 숫자를 정해 주면 컴퓨터가 정해진 알고리즘에 의해 마치 난수처럼 보이는 수열을 생성  \n",
    "이런 기준이 되는 시작 숫자 = 시드(seed)  \n",
    "생성된 난수는 다음 번 난수 생성을 위한 시드값이 된다   \n",
    "따라서 시드값은 한 번만 정해주면 됩니다  \n",
    "시드는 보통 현재 시각을 이용하여 자동으로 정해지지만 사람이 수동으로 설정할 수도 있다  \n",
    "특정한 시드 값이 사용되면 그 다음에 만들어지는 난수들은 모두 예측할 수 있다  \n",
    "코드의 결과를 재현하기 위해 항상 시드를 설정하고 데이터를 다루자!  "
   ]
  },
  {
   "cell_type": "markdown",
   "id": "dff6f65a-e3c9-4e3c-8a78-1dc3e4549209",
   "metadata": {},
   "source": [
    "시드를 설정하는 함수 = seed     \n",
    "인수로는 0과 같거나 큰 정수를 넣어줌    "
   ]
  },
  {
   "cell_type": "code",
   "execution_count": 239,
   "id": "396e1937-9f4d-4288-a81e-a0eb8c850dcc",
   "metadata": {},
   "outputs": [],
   "source": [
    "np. random.seed(0)"
   ]
  },
  {
   "cell_type": "markdown",
   "id": "dcb32bc4-7cfb-4af6-8262-c97e4702f7c3",
   "metadata": {},
   "source": [
    "시드를 설정한 후 넘파이 random 서브패키지에 있는 rand 함수로 5개의 난수를 생성하기  \n",
    "rand 함수는 0과 1사이의 난수를 발생시키는 함수로 인수로 받은 숫자 횟수만큼 난수를 발생시킴  "
   ]
  },
  {
   "cell_type": "code",
   "execution_count": 240,
   "id": "6046c775-bc51-4d21-81a7-c62e13a3a690",
   "metadata": {},
   "outputs": [
    {
     "data": {
      "text/plain": [
       "array([0.5488135 , 0.71518937, 0.60276338, 0.54488318, 0.4236548 ])"
      ]
     },
     "execution_count": 240,
     "metadata": {},
     "output_type": "execute_result"
    }
   ],
   "source": [
    "np.random.rand(5)"
   ]
  },
  {
   "cell_type": "markdown",
   "id": "105a49fb-bad2-4f1a-8e4e-0ef81a93ab35",
   "metadata": {},
   "source": [
    "사람이 예측할 수 없는 무작위 숫자가 나오는 것을 볼 수 있다"
   ]
  },
  {
   "cell_type": "code",
   "execution_count": 241,
   "id": "aaa3747e-b01b-49ac-a6db-db4d89bf59b1",
   "metadata": {},
   "outputs": [
    {
     "data": {
      "text/plain": [
       "array([0.64589411, 0.43758721, 0.891773  , 0.96366276, 0.38344152,\n",
       "       0.79172504, 0.52889492, 0.56804456, 0.92559664, 0.07103606])"
      ]
     },
     "execution_count": 241,
     "metadata": {},
     "output_type": "execute_result"
    }
   ],
   "source": [
    "np.random.rand(10)"
   ]
  },
  {
   "cell_type": "code",
   "execution_count": 242,
   "id": "c30b63b0-4c46-4d84-a13b-894eda71a414",
   "metadata": {},
   "outputs": [
    {
     "data": {
      "text/plain": [
       "array([0.0871293 , 0.0202184 , 0.83261985, 0.77815675, 0.87001215,\n",
       "       0.97861834, 0.79915856, 0.46147936, 0.78052918, 0.11827443])"
      ]
     },
     "execution_count": 242,
     "metadata": {},
     "output_type": "execute_result"
    }
   ],
   "source": [
    "np.random.rand(10)"
   ]
  },
  {
   "cell_type": "markdown",
   "id": "16e857c5-eeb8-419c-b3c8-26a97cc7060c",
   "metadata": {},
   "source": [
    "이제 시드를 0으로 재설정하고 다시 난수를 발생시키면 아까와 같은 숫자가 나오는 것을 확인할 수 있습니다."
   ]
  },
  {
   "cell_type": "code",
   "execution_count": 243,
   "id": "be236675-84d0-435f-a700-8916c5b92b17",
   "metadata": {},
   "outputs": [],
   "source": [
    "np.random.seed(0)"
   ]
  },
  {
   "cell_type": "code",
   "execution_count": 244,
   "id": "1fa48983-7b46-4b05-8fa0-8324088ed2f9",
   "metadata": {},
   "outputs": [
    {
     "data": {
      "text/plain": [
       "array([0.5488135 , 0.71518937, 0.60276338, 0.54488318, 0.4236548 ])"
      ]
     },
     "execution_count": 244,
     "metadata": {},
     "output_type": "execute_result"
    }
   ],
   "source": [
    "np.random.rand(5)"
   ]
  },
  {
   "cell_type": "code",
   "execution_count": 245,
   "id": "94d70153-9375-4b12-9db3-6d8a299c99bb",
   "metadata": {},
   "outputs": [
    {
     "data": {
      "text/plain": [
       "array([0.64589411, 0.43758721, 0.891773  , 0.96366276, 0.38344152,\n",
       "       0.79172504, 0.52889492, 0.56804456, 0.92559664, 0.07103606])"
      ]
     },
     "execution_count": 245,
     "metadata": {},
     "output_type": "execute_result"
    }
   ],
   "source": [
    "np.random.rand(10)"
   ]
  },
  {
   "cell_type": "code",
   "execution_count": 246,
   "id": "31b49917-ca92-41b6-8962-55dc4494275b",
   "metadata": {},
   "outputs": [
    {
     "data": {
      "text/plain": [
       "array([0.0871293 , 0.0202184 , 0.83261985, 0.77815675, 0.87001215,\n",
       "       0.97861834, 0.79915856, 0.46147936, 0.78052918, 0.11827443])"
      ]
     },
     "execution_count": 246,
     "metadata": {},
     "output_type": "execute_result"
    }
   ],
   "source": [
    "np.random.rand(10)"
   ]
  },
  {
   "cell_type": "markdown",
   "id": "d62af6d4-9789-4c93-b68f-64512b554bdb",
   "metadata": {},
   "source": [
    "### 데이터 순서 바꾸기 ###"
   ]
  },
  {
   "cell_type": "markdown",
   "id": "777fa216-41e2-4ac8-a235-f57c0336c0a6",
   "metadata": {},
   "source": [
    "- shuffle 함수\n",
    "- 사용에 주의 --> 자체 변환 함수로 한 번 사용하면 변수 값 바뀜"
   ]
  },
  {
   "cell_type": "code",
   "execution_count": 251,
   "id": "f6583616-e153-4014-bc88-a7285fd71f20",
   "metadata": {},
   "outputs": [],
   "source": [
    "x = np.arange(10)"
   ]
  },
  {
   "cell_type": "code",
   "execution_count": 255,
   "id": "9b723e22-38b4-4587-96fc-ad40106d1914",
   "metadata": {},
   "outputs": [
    {
     "data": {
      "text/plain": [
       "array([5, 3, 1, 6, 4, 2, 7, 9, 8, 0])"
      ]
     },
     "execution_count": 255,
     "metadata": {},
     "output_type": "execute_result"
    }
   ],
   "source": [
    "np.random.shuffle(x)\n",
    "x"
   ]
  },
  {
   "cell_type": "markdown",
   "id": "582b2be7-38f6-4f29-8673-c7e8fc8b1b10",
   "metadata": {},
   "source": [
    "### 데이터 샘플링 ? ###\n",
    "> 이미 있는 데이터 집합에서 일부를 무작위로 선택하는 것을 표본선택 혹은 샘플링"
   ]
  },
  {
   "cell_type": "markdown",
   "id": "adbf9538-cc91-4cdf-be98-d4b332689c9b",
   "metadata": {},
   "source": [
    "- choice 함수를 사용    \n",
    "  \n",
    "다음과 같은 인수 가지기 가능  \n",
    "numpy.random.choice(a, size=None, replace=True, p=None)"
   ]
  },
  {
   "cell_type": "markdown",
   "id": "6eceb903-e389-4b1a-95eb-37919d6ed6a0",
   "metadata": {},
   "source": [
    "● a : 배열이면 원래의 데이터, 정수이면 arange(a) 명령으로 데이터 생성  \n",
    "● size : 정수. 샘플 숫자.  \n",
    "● replace : 불리언. True이면 한번 선택한 데이터를 다시 선택 가능.  \n",
    "● p : 배열. 각 데이터가 선택될 수 있는 확률.  "
   ]
  },
  {
   "cell_type": "code",
   "execution_count": 258,
   "id": "3271b54c-0ed8-4d2e-b8f8-f86348f1a417",
   "metadata": {},
   "outputs": [
    {
     "data": {
      "text/plain": [
       "array([4, 2, 3, 1, 0])"
      ]
     },
     "execution_count": 258,
     "metadata": {},
     "output_type": "execute_result"
    }
   ],
   "source": [
    "np.random.choice(5, 5, replace = False)  # shuffle 명령과 동일"
   ]
  },
  {
   "cell_type": "code",
   "execution_count": 262,
   "id": "96cf2fa3-b76b-46db-b1c5-b7ef8722fef7",
   "metadata": {},
   "outputs": [
    {
     "data": {
      "text/plain": [
       "array([0, 1, 4])"
      ]
     },
     "execution_count": 262,
     "metadata": {},
     "output_type": "execute_result"
    }
   ],
   "source": [
    "np.random.choice(5, 3, replace = False)  # 3개만 선택"
   ]
  },
  {
   "cell_type": "code",
   "execution_count": 263,
   "id": "9800f432-39fd-424c-a8fe-35379a93a451",
   "metadata": {},
   "outputs": [
    {
     "data": {
      "text/plain": [
       "array([0, 3, 4, 1, 2, 4, 3, 4, 4, 4])"
      ]
     },
     "execution_count": 263,
     "metadata": {},
     "output_type": "execute_result"
    }
   ],
   "source": [
    "np.random.choice(5, 10) # 반복해서 10개 선택"
   ]
  },
  {
   "cell_type": "code",
   "execution_count": 264,
   "id": "fe680741-c478-4365-a7e3-40fc7991e0ca",
   "metadata": {},
   "outputs": [
    {
     "data": {
      "text/plain": [
       "array([2, 3, 2, 3, 2, 2, 2, 3, 2, 2])"
      ]
     },
     "execution_count": 264,
     "metadata": {},
     "output_type": "execute_result"
    }
   ],
   "source": [
    "np.random.choice(5, 10, p=(0.1, 0, 0.3, 0.6, 0)) #선택 확률 다르게 해서 10개 선택"
   ]
  },
  {
   "cell_type": "markdown",
   "id": "5f486c50-b658-4316-9e16-41c5ff08ecb6",
   "metadata": {},
   "source": [
    "### 넘파이 random의 난수 생성하는 또 다른 함수들 ###"
   ]
  },
  {
   "cell_type": "markdown",
   "id": "e6c1f869-b621-4e77-aeb1-6ae4376b6590",
   "metadata": {},
   "source": [
    "● rand: 0부터 1사이의 균일 분포  \n",
    "● randn: 표준 정규 분포  \n",
    "● randint: 균일 분포의 정수 난수  "
   ]
  },
  {
   "cell_type": "markdown",
   "id": "13a39c46-e156-4998-a72e-7bb2bc4e7581",
   "metadata": {},
   "source": [
    "## 난수 생성 ##"
   ]
  },
  {
   "cell_type": "markdown",
   "id": "cb77756f-1cdc-4fab-9bd7-ec174f190a7f",
   "metadata": {},
   "source": [
    "#### rand 함수  ####\n",
    "0부터 1사이에서 균일한 확률 분포로 실수 난수를 생성  \n",
    "숫자 인수는 생성할 난수의 크기  \n",
    "여러개의 인수를 넣으면 해당 shape를 가진 행렬을 생성"
   ]
  },
  {
   "cell_type": "code",
   "execution_count": 267,
   "id": "a3c28bd7-ca5b-4c37-b259-25f74f4f0e36",
   "metadata": {},
   "outputs": [
    {
     "data": {
      "text/plain": [
       "array([0.36872517, 0.82099323, 0.09710128, 0.83794491, 0.09609841,\n",
       "       0.97645947, 0.4686512 , 0.97676109, 0.60484552, 0.73926358])"
      ]
     },
     "execution_count": 267,
     "metadata": {},
     "output_type": "execute_result"
    }
   ],
   "source": [
    "np.random.rand(10)"
   ]
  },
  {
   "cell_type": "code",
   "execution_count": 268,
   "id": "73b424b1-02fd-46ac-9db0-ba99c4937b6b",
   "metadata": {},
   "outputs": [
    {
     "data": {
      "text/plain": [
       "array([[0.03918779, 0.28280696, 0.12019656, 0.2961402 , 0.11872772],\n",
       "       [0.31798318, 0.41426299, 0.0641475 , 0.69247212, 0.56660145],\n",
       "       [0.26538949, 0.52324805, 0.09394051, 0.5759465 , 0.9292962 ]])"
      ]
     },
     "execution_count": 268,
     "metadata": {},
     "output_type": "execute_result"
    }
   ],
   "source": [
    "np.random.rand(3, 5)"
   ]
  },
  {
   "cell_type": "markdown",
   "id": "90e33157-bf8d-48b3-80b9-7b90abf832e1",
   "metadata": {},
   "source": [
    "#### randn 함수 ####\n",
    "기댓값(mean)이 0이고 표준편차가 1인 표준 정규 분포(standard normaldistribution)를   \n",
    "따르는 난수를 생성  \n",
    "인수 사용법은 rand 명령과 동일"
   ]
  },
  {
   "cell_type": "code",
   "execution_count": 269,
   "id": "30d521ac-8054-41c1-9d1d-d5dffa66f7f8",
   "metadata": {},
   "outputs": [
    {
     "data": {
      "text/plain": [
       "array([ 1.13940068, -1.23482582,  0.40234164, -0.68481009, -0.87079715,\n",
       "       -0.57884966, -0.31155253,  0.05616534, -1.16514984,  0.90082649])"
      ]
     },
     "execution_count": 269,
     "metadata": {},
     "output_type": "execute_result"
    }
   ],
   "source": [
    "np.random.randn(10)"
   ]
  },
  {
   "cell_type": "code",
   "execution_count": 270,
   "id": "d2500bf1-2693-46b4-a129-b2768351284c",
   "metadata": {},
   "outputs": [
    {
     "data": {
      "text/plain": [
       "array([[ 0.46566244, -1.53624369,  1.48825219,  1.89588918,  1.17877957],\n",
       "       [-0.17992484, -1.07075262,  1.05445173, -0.40317695,  1.22244507],\n",
       "       [ 0.20827498,  0.97663904,  0.3563664 ,  0.70657317,  0.01050002]])"
      ]
     },
     "execution_count": 270,
     "metadata": {},
     "output_type": "execute_result"
    }
   ],
   "source": [
    "np.random.randn(3, 5)"
   ]
  },
  {
   "cell_type": "markdown",
   "id": "6020ebca-cfda-4f72-9731-f790f7b088a4",
   "metadata": {},
   "source": [
    "#### randint 함수 ####   \n",
    "numpy.random.randint(low, high=None, size=None)  \n",
    "만약 high를 입력하지 않으면 0과 low사이의 숫자를,    \n",
    "high를 입력하면 low와 high는 사이의 숫자를 출력     \n",
    "  \n",
    "size는 난수의 개수입니다.  \n",
    "high의 범위는 포함하지 않습니다.  "
   ]
  },
  {
   "cell_type": "code",
   "execution_count": 271,
   "id": "3fec705b-1ff8-4afd-a91b-e43248b660d3",
   "metadata": {},
   "outputs": [
    {
     "data": {
      "text/plain": [
       "array([3, 1, 8, 0, 4, 9, 6, 5, 7, 8])"
      ]
     },
     "execution_count": 271,
     "metadata": {},
     "output_type": "execute_result"
    }
   ],
   "source": [
    "np.random.randint(10, size = 10)"
   ]
  },
  {
   "cell_type": "code",
   "execution_count": 272,
   "id": "8549f673-b24c-4cba-8366-c275725affe1",
   "metadata": {},
   "outputs": [
    {
     "data": {
      "text/plain": [
       "array([18, 19, 12, 18, 16, 16, 19, 11, 16, 18])"
      ]
     },
     "execution_count": 272,
     "metadata": {},
     "output_type": "execute_result"
    }
   ],
   "source": [
    "np.random.randint(10, 20, size = 10)"
   ]
  },
  {
   "cell_type": "code",
   "execution_count": 273,
   "id": "a4471529-1a80-48b1-b3c7-c0d2536049f0",
   "metadata": {},
   "outputs": [
    {
     "data": {
      "text/plain": [
       "array([[18, 13, 12, 13, 16],\n",
       "       [13, 16, 15, 17, 10],\n",
       "       [18, 14, 16, 15, 18]])"
      ]
     },
     "execution_count": 273,
     "metadata": {},
     "output_type": "execute_result"
    }
   ],
   "source": [
    "np.random.randint(10, 20, size = (3, 5))"
   ]
  },
  {
   "cell_type": "markdown",
   "id": "19a687cf-091e-4bb8-9d7c-99a33b4f0bf4",
   "metadata": {},
   "source": [
    "# 연습문제 #"
   ]
  },
  {
   "cell_type": "code",
   "execution_count": 277,
   "id": "bddc51a6-602a-4711-9c03-a1a602f53bab",
   "metadata": {},
   "outputs": [],
   "source": [
    "np.random.seed(0)"
   ]
  },
  {
   "cell_type": "code",
   "execution_count": 287,
   "id": "5f8650f5-2bc4-4b5a-9d02-0b5aa3200980",
   "metadata": {},
   "outputs": [
    {
     "data": {
      "text/plain": [
       "array([1, 0, 1, 0, 0, 0, 1, 0, 1, 1, 0, 0, 0, 1, 0, 1, 1, 1, 0, 1, 0, 0,\n",
       "       0, 0, 0, 1, 0, 0, 0, 1, 1, 0, 1, 0, 1, 0, 1, 1, 0, 1, 0, 1, 0, 0,\n",
       "       1, 0, 0, 0, 1, 0, 1, 0, 0, 0, 1, 0, 0, 1, 1, 1, 0, 1, 0, 1, 1, 1,\n",
       "       1, 1, 0, 0, 1, 0, 1, 0, 0, 1, 1, 0, 0, 0, 1, 1, 0, 0, 0, 0, 0, 0,\n",
       "       1, 1, 1, 1, 1, 1, 1, 1, 0, 0, 0, 0])"
      ]
     },
     "execution_count": 287,
     "metadata": {},
     "output_type": "execute_result"
    }
   ],
   "source": [
    "coin_result = np.random.randint(0, 2, 100)\n",
    "coin_result"
   ]
  },
  {
   "cell_type": "code",
   "execution_count": 288,
   "id": "a9688efa-c73d-4617-b40e-e9b65d21125c",
   "metadata": {},
   "outputs": [
    {
     "data": {
      "text/plain": [
       "0.46"
      ]
     },
     "execution_count": 288,
     "metadata": {},
     "output_type": "execute_result"
    }
   ],
   "source": [
    "coin_result.sum() / len(coin_result)"
   ]
  },
  {
   "cell_type": "code",
   "execution_count": 289,
   "id": "23d8918d-c8c9-4f59-a32f-13807deef132",
   "metadata": {},
   "outputs": [],
   "source": [
    "np.random.seed(0)"
   ]
  },
  {
   "cell_type": "code",
   "execution_count": 292,
   "id": "75b52190-aaae-4a5a-947d-f9c207f3f334",
   "metadata": {},
   "outputs": [
    {
     "data": {
      "text/plain": [
       "array([2, 6, 4, 5, 6, 6, 4, 4, 2, 2, 2, 4, 3, 3, 5, 4, 2, 3, 4, 6, 6, 6,\n",
       "       2, 5, 3, 3, 1, 2, 6, 1, 5, 1, 4, 3, 6, 6, 1, 1, 6, 2, 2, 1, 4, 1,\n",
       "       4, 1, 5, 5, 1, 2, 4, 5, 4, 3, 6, 2, 2, 3, 2, 6, 5, 6, 3, 6, 6, 5,\n",
       "       5, 6, 6, 3, 4, 6, 4, 2, 3, 5, 4, 4, 2, 2, 6, 6, 2, 2, 3, 1, 4, 2,\n",
       "       5, 4, 2, 2, 3, 1, 1, 3, 5, 1, 5, 4])"
      ]
     },
     "execution_count": 292,
     "metadata": {},
     "output_type": "execute_result"
    }
   ],
   "source": [
    "dice = np.random.randint(1, 7, 100)\n",
    "dice"
   ]
  },
  {
   "cell_type": "code",
   "execution_count": 295,
   "id": "cb958d9a-0eb9-4ed2-b79c-b3dd26aec735",
   "metadata": {},
   "outputs": [
    {
     "data": {
      "text/plain": [
       "3.59"
      ]
     },
     "execution_count": 295,
     "metadata": {},
     "output_type": "execute_result"
    }
   ],
   "source": [
    "dice.mean()"
   ]
  },
  {
   "cell_type": "markdown",
   "id": "e4fb958d-7817-4562-b9da-43f14f67adbf",
   "metadata": {},
   "source": [
    "### 정수 데이터 카운팅 ###"
   ]
  },
  {
   "cell_type": "markdown",
   "id": "32bd638d-a8dd-4c0e-81de-ca9ed77fa8ea",
   "metadata": {},
   "source": [
    "- 난수가 정수값이면 unique 명령이나 bincount 명령으로 데이터 값을 분석가능\n",
    "- unique() 함수는 데이터에서 중복된 값을 제거하고 중복되지 않는 값의 리스트를 출력\n",
    "- return_counts 인수를 True 로 설정하면 각 값의 데이터 개수도 출력"
   ]
  },
  {
   "cell_type": "code",
   "execution_count": 297,
   "id": "eec3d64e-5310-4773-9a82-f88bd176eec5",
   "metadata": {},
   "outputs": [
    {
     "data": {
      "text/plain": [
       "array([ 2, 11, 34])"
      ]
     },
     "execution_count": 297,
     "metadata": {},
     "output_type": "execute_result"
    }
   ],
   "source": [
    "np.unique((11, 11, 2, 2, 34, 34))"
   ]
  },
  {
   "cell_type": "code",
   "execution_count": 298,
   "id": "df5134bc-ff95-40b1-a865-69d8f16bd70d",
   "metadata": {},
   "outputs": [],
   "source": [
    "a = np.array(['a', 'b', 'c', 'a'])\n",
    "index, count = np.unique(a, return_counts = True)"
   ]
  },
  {
   "cell_type": "code",
   "execution_count": 299,
   "id": "de3c247c-4640-4af1-b1a6-f9aa9bae0a12",
   "metadata": {},
   "outputs": [
    {
     "data": {
      "text/plain": [
       "array(['a', 'b', 'c'], dtype='<U1')"
      ]
     },
     "execution_count": 299,
     "metadata": {},
     "output_type": "execute_result"
    }
   ],
   "source": [
    "index"
   ]
  },
  {
   "cell_type": "code",
   "execution_count": 300,
   "id": "3c03fe3f-ebe1-45e6-ae61-3a5c28945106",
   "metadata": {},
   "outputs": [
    {
     "data": {
      "text/plain": [
       "array([2, 1, 1], dtype=int64)"
      ]
     },
     "execution_count": 300,
     "metadata": {},
     "output_type": "execute_result"
    }
   ],
   "source": [
    "count"
   ]
  },
  {
   "cell_type": "markdown",
   "id": "29bdb2e6-f743-467b-b6e1-becac9e94e10",
   "metadata": {},
   "source": [
    ">unique()는 데이터에 존재하는 값에 대해서만 개수를 세므로 데이터 값이 나올 수  \n",
    ">있음에도 불구하고 데이터가 하나도 없는 경우에는 정보를 주지 X  \n",
    ">예를 들어 주사위를 10번 던졌는데 6이 한 번도 나오지 않으면 이 값을 0으로 세어주지 X  \n",
    ">따라서 데이터가 주사위를 던졌을 때 나오는 수처럼 특정 범위안의 수인 경우에는  \n",
    ">bincount 함수에 minlength 인수를 설정하여 쓰는 것이 더 편리함   \n",
    ">bincount 함수는 0부터 minlength - 1 까지의 숫자에 대해 각각 카운트  \n",
    ">데이터가 없을 경우에는 카운트 값이 0  "
   ]
  },
  {
   "cell_type": "code",
   "execution_count": 301,
   "id": "ed005c27-99e5-40d6-a24b-d653ebd98e5c",
   "metadata": {},
   "outputs": [
    {
     "data": {
      "text/plain": [
       "array([0, 2, 3, 1, 0, 0], dtype=int64)"
      ]
     },
     "execution_count": 301,
     "metadata": {},
     "output_type": "execute_result"
    }
   ],
   "source": [
    "np.bincount([1, 1, 2, 2, 2, 3], minlength = 6)"
   ]
  },
  {
   "cell_type": "code",
   "execution_count": null,
   "id": "b87fc46d-e8f8-4802-aa49-8f983baeda7a",
   "metadata": {},
   "outputs": [],
   "source": []
  }
 ],
 "metadata": {
  "kernelspec": {
   "display_name": "Python 3 (ipykernel)",
   "language": "python",
   "name": "python3"
  },
  "language_info": {
   "codemirror_mode": {
    "name": "ipython",
    "version": 3
   },
   "file_extension": ".py",
   "mimetype": "text/x-python",
   "name": "python",
   "nbconvert_exporter": "python",
   "pygments_lexer": "ipython3",
   "version": "3.9.13"
  }
 },
 "nbformat": 4,
 "nbformat_minor": 5
}

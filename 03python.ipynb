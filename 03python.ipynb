{
 "cells": [
  {
   "cell_type": "markdown",
   "id": "18621c46-3682-48ab-929f-1287a842802d",
   "metadata": {},
   "source": [
    "# 1. 마크다운 학습"
   ]
  },
  {
   "cell_type": "markdown",
   "id": "df82b070-9ec8-45bc-aa1f-0d212a2c6db9",
   "metadata": {},
   "source": [
    "1.1."
   ]
  },
  {
   "cell_type": "markdown",
   "id": "d45fbe4b-d011-4f20-b304-f427d2106f8a",
   "metadata": {},
   "source": [
    "일반 텍스트는 그냥 입력하시면 됩니다  \n",
    "**굵은 글씨**   \n",
    "*기울인 글씨* \n",
    "~~취소선~~"
   ]
  },
  {
   "cell_type": "markdown",
   "id": "4830b26d-f7cd-48e8-aaac-f8a82ac4e5b2",
   "metadata": {},
   "source": [
    "> 구획이\n",
    "> 잡힌 \n",
    "> 글입니다."
   ]
  },
  {
   "cell_type": "markdown",
   "id": "88cecac4-56cb-4c53-916a-5ca299f06d49",
   "metadata": {},
   "source": [
    "- 목록1\n",
    "- 목록2\n",
    "- 목록3"
   ]
  },
  {
   "cell_type": "markdown",
   "id": "cc6da1a7-db2a-4593-b1a5-fd4acca0332d",
   "metadata": {},
   "source": [
    "> 안뇽\n",
    "> 유림"
   ]
  },
  {
   "cell_type": "markdown",
   "id": "77be0409-08db-408a-b40d-d27e70db7d62",
   "metadata": {},
   "source": [
    "1. 순서가 있는 목록1\n",
    "2. 순서가 있는 목록2\n",
    "3. 순서가 있는 목록3"
   ]
  },
  {
   "cell_type": "markdown",
   "id": "6e3d3605-67db-4a45-8dab-44d19639095b",
   "metadata": {},
   "source": [
    "[Google](https://www.google.com/?hl=ko)"
   ]
  },
  {
   "cell_type": "markdown",
   "id": "22879d2f-5265-4dd0-8e03-2957751749b3",
   "metadata": {},
   "source": [
    "![이미지](https://cdn.crowdpic.net/list-thumb/thumb_l_FD8184F80AF8D28615C95B97C1AE4D63.jpeg)"
   ]
  },
  {
   "cell_type": "markdown",
   "id": "97cc58db-84f7-4c4c-87cc-0d750c62561c",
   "metadata": {},
   "source": [
    "|제목 셀|제목 셀|제목 셀|\n",
    "|:--|--:|:--:| \n",
    "|값1|값2|깂3|"
   ]
  },
  {
   "cell_type": "code",
   "execution_count": 7,
   "id": "e7701f22-946a-4b0f-9f54-df5efb73ddf3",
   "metadata": {},
   "outputs": [],
   "source": [
    "#  :-- 왼쪽정렬 --: 오른쪽정렬 :--: 가운데정렬"
   ]
  },
  {
   "cell_type": "markdown",
   "id": "302dbd84-1590-49c8-ac06-787dbed74233",
   "metadata": {},
   "source": [
    "```python\n",
    "\n",
    "x = int(input(\"인사를 몇번 할까요?\"))\n",
    "\n",
    "for _ in range(x):\n",
    "    print(\"Hello world\")\n",
    "    \n",
    "```"
   ]
  },
  {
   "cell_type": "markdown",
   "id": "8dacf3cf-7bf2-465d-800e-7f1363fa8ce9",
   "metadata": {},
   "source": [
    "H1#\n",
    "\n",
    "##H2\n",
    "\n",
    "###H3\n",
    "\n",
    "####H4"
   ]
  },
  {
   "cell_type": "code",
   "execution_count": 14,
   "id": "5d93484c-1795-4349-b839-790d1252ade3",
   "metadata": {},
   "outputs": [
    {
     "name": "stdout",
     "output_type": "stream",
     "text": [
      "False\n"
     ]
    }
   ],
   "source": [
    "#[국어, 영어, 한국사, 선택교과1, 선택교과2]\n",
    "scores = [88, 73, 889, 59, 77]\n",
    "\n",
    "print(scores[0] >= 60 and scores[1] >= 60 and scores[2] >= 60 and scores[3] >= 60 and scored[4] >= 60)"
   ]
  },
  {
   "cell_type": "code",
   "execution_count": 23,
   "id": "5bfa332a-9859-4e48-bcfb-ae61292e820e",
   "metadata": {},
   "outputs": [
    {
     "name": "stdin",
     "output_type": "stream",
     "text": [
      "점수를 입력하세요:  78\n"
     ]
    },
    {
     "name": "stdout",
     "output_type": "stream",
     "text": [
      "합격\n"
     ]
    }
   ],
   "source": [
    "scores = int(input(\"점수를 입력하세요: \"))\n",
    "    \n",
    "if scores < 60:\n",
    "    print(\"불합격\")\n",
    "else:\n",
    "    print(\"합격\")\n",
    "        "
   ]
  },
  {
   "cell_type": "code",
   "execution_count": 26,
   "id": "88064af5-a7f2-495d-8b57-e7fd660684ea",
   "metadata": {},
   "outputs": [
    {
     "name": "stdout",
     "output_type": "stream",
     "text": [
      "[1, 2, 3, 4, 5, 6, 7, 8]\n"
     ]
    }
   ],
   "source": [
    "numbers = [1, 2, 3, 4, 5, 6, 7]\n",
    "numbers.append(8)\n",
    "print(numbers)"
   ]
  },
  {
   "cell_type": "code",
   "execution_count": null,
   "id": "cf35576b-9e82-43c9-a53c-adf0c7b7f320",
   "metadata": {},
   "outputs": [],
   "source": []
  }
 ],
 "metadata": {
  "kernelspec": {
   "display_name": "Python 3 (ipykernel)",
   "language": "python",
   "name": "python3"
  },
  "language_info": {
   "codemirror_mode": {
    "name": "ipython",
    "version": 3
   },
   "file_extension": ".py",
   "mimetype": "text/x-python",
   "name": "python",
   "nbconvert_exporter": "python",
   "pygments_lexer": "ipython3",
   "version": "3.9.13"
  }
 },
 "nbformat": 4,
 "nbformat_minor": 5
}

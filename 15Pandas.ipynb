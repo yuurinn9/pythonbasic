{
 "cells": [
  {
   "cell_type": "markdown",
   "id": "472c7995-eefc-432d-82eb-28aeb6e5d6d7",
   "metadata": {},
   "source": [
    "# Pandas #"
   ]
  },
  {
   "cell_type": "markdown",
   "id": "9b955c91-fd27-4957-ba03-825d5cbe3ff2",
   "metadata": {},
   "source": [
    "- 주로 데이터 분석에 사용  \n",
    "  \n",
    "- 대부분의 데이터는 시계열이나 표의 형태로 나타낼 수 있다\n",
    "- pandas패키지는 이러한 데이터를 다루기 위한 Series(# 열) 클래스와 DataFrame(#table) 클래스를 제공  \n",
    "  \n",
    "- 숫자 테이블과 시계열을 조작하기 위한 데이터 구조와 연산을 제공  "
   ]
  },
  {
   "cell_type": "markdown",
   "id": "9f496cda-b43e-4265-ab4b-360e61106e06",
   "metadata": {},
   "source": [
    ">Numpy와 마찬가지로 Pandas 패키지를 사용하기 위해선 해당 패키지 임포트 필요  \n",
    ">pd라는 별칭으로 임포트"
   ]
  },
  {
   "cell_type": "code",
   "execution_count": 3,
   "id": "a3ab33d2-ecc8-4d3f-ad6c-0a9a920b7674",
   "metadata": {},
   "outputs": [],
   "source": [
    "import pandas as pd"
   ]
  },
  {
   "cell_type": "markdown",
   "id": "c5759890-54d1-4867-9a06-d500dfbdf5f8",
   "metadata": {},
   "source": [
    "## [ Series 클래스 ] ##"
   ]
  },
  {
   "cell_type": "markdown",
   "id": "1f0f0b74-1f3e-4d94-a238-bbcf502e0d39",
   "metadata": {},
   "source": [
    "Numpy에서 제공하는 1차열 배열과 모양 비슷  \n",
    "배열과 다르게 각 데이터의 의미를 표시하는 index를 붙일 수 있음  \n",
    "데이터 자체는 값(value)라고 함\n"
   ]
  },
  {
   "cell_type": "code",
   "execution_count": 18,
   "id": "592e3a65-0cb2-4295-a77f-1faca8718c9d",
   "metadata": {},
   "outputs": [
    {
     "data": {
      "text/plain": [
       "1     하나\n",
       "2      둘\n",
       "3      셋\n",
       "4      넷\n",
       "5     다섯\n",
       "6     여섯\n",
       "7     일곱\n",
       "8     여덟\n",
       "9     아홉\n",
       "10     열\n",
       "dtype: object"
      ]
     },
     "execution_count": 18,
     "metadata": {},
     "output_type": "execute_result"
    }
   ],
   "source": [
    "Series = pd.Series([\"하나\", \"둘\", \"셋\", \"넷\",\"다섯\",\n",
    "                   \"여섯\", \"일곱\", \"여덟\", \"아홉\", \"열\"],\n",
    "                  index = [_ for _ in range(1, 11)]) # index - 수\n",
    "Series"
   ]
  },
  {
   "cell_type": "markdown",
   "id": "d8c68c6e-e128-4fd2-8836-c78a313aeaa0",
   "metadata": {},
   "source": [
    "### [ Series 생성하기 ] ###"
   ]
  },
  {
   "cell_type": "markdown",
   "id": "8db2bc1d-3a94-4925-b5cc-eae906609a77",
   "metadata": {},
   "source": [
    "series 객체를 만들 때 첫 인수로 data, 두번째 인수로 index를 삽입  \n",
    "data 값으로 iterable, 배열, csalar value, dict(key와 index를 동일하게 사용하거나 생략) 사용 가능  "
   ]
  },
  {
   "cell_type": "markdown",
   "id": "ddbc52d0-d1db-4eba-bdc0-b66b295469be",
   "metadata": {},
   "source": [
    "#### index ? ####"
   ]
  },
  {
   "cell_type": "markdown",
   "id": "a7fecfbe-c763-4d87-aa32-6a927eaf64d4",
   "metadata": {},
   "source": [
    "index는 label이라고 함  \n",
    "index는 data와 length가 동일해야 함  \n",
    "label은 꼭 유일할 필요 X  \n",
    "반드시 hashable type만 사용 해야함  \n",
    "index를 생략할 경우 Rangeindex(0, 1, ..., n)를 제공  "
   ]
  },
  {
   "cell_type": "markdown",
   "id": "52e3eca1-240e-45ad-966e-cff54f8bccd9",
   "metadata": {},
   "source": [
    "```python\n",
    "class pandas.Series(data=None, index=None, dtype=None, name=None, copy=False, fastpath=False)\n",
    "```"
   ]
  },
  {
   "cell_type": "markdown",
   "id": "03ebcd7e-980f-453b-ac5b-2700b1bacd5d",
   "metadata": {},
   "source": [
    "- 각 도시의 2015년 인구 데이터를 series로 만들기"
   ]
  },
  {
   "cell_type": "markdown",
   "id": "06a4f951-e4b3-4152-9bbe-875eb04a6a24",
   "metadata": {},
   "source": [
    ">자리수가 긴 숫자의 경우에 쉽게 읽기 위해 콤마로 3자리씩 끊어 표기  \n",
    ">파이썬에선 아래 예제처럼 언더바를 숫자 사이사이에 삽입"
   ]
  },
  {
   "cell_type": "code",
   "execution_count": 23,
   "id": "63256838-cf2f-45f2-9af4-8d2462d0cce1",
   "metadata": {},
   "outputs": [
    {
     "data": {
      "text/plain": [
       "서울    9904312\n",
       "부산    3448737\n",
       "인천    2890451\n",
       "대구    2466052\n",
       "dtype: int64"
      ]
     },
     "execution_count": 23,
     "metadata": {},
     "output_type": "execute_result"
    }
   ],
   "source": [
    "s = pd.Series([9_904_312, 3_448_737, 2_890_451, 2_466_052],\n",
    "             index = [\"서울\", \"부산\", \"인천\", \"대구\"])\n",
    "s"
   ]
  },
  {
   "cell_type": "markdown",
   "id": "79598e88-5212-43b0-886c-feaae610a746",
   "metadata": {},
   "source": [
    ">index 지정하지 않고 Series 만들기  \n",
    ">Series의 index는 0부터 시작하는 정수 값이 됨"
   ]
  },
  {
   "cell_type": "code",
   "execution_count": 25,
   "id": "274696ea-7127-4b74-83f7-3c4b129fe3fa",
   "metadata": {},
   "outputs": [
    {
     "data": {
      "text/plain": [
       "0    10\n",
       "1    11\n",
       "2    12\n",
       "3    13\n",
       "dtype: int64"
      ]
     },
     "execution_count": 25,
     "metadata": {},
     "output_type": "execute_result"
    }
   ],
   "source": [
    "pd.Series(range(10, 14))"
   ]
  },
  {
   "cell_type": "markdown",
   "id": "135cdfd6-b3a5-4d50-80b1-63ba8a22b098",
   "metadata": {},
   "source": [
    "### index 속성 ###\n",
    ">Series의 index 속성으로 접근 가능  \n",
    ">Series의 value는 1차원의 배열  \n",
    ">values 속성으로 접근 가능  "
   ]
  },
  {
   "cell_type": "code",
   "execution_count": 27,
   "id": "17698295-0d8d-4379-9431-472323bd05f1",
   "metadata": {},
   "outputs": [
    {
     "data": {
      "text/plain": [
       "Index(['서울', '부산', '인천', '대구'], dtype='object')"
      ]
     },
     "execution_count": 27,
     "metadata": {},
     "output_type": "execute_result"
    }
   ],
   "source": [
    "s.index"
   ]
  },
  {
   "cell_type": "code",
   "execution_count": 28,
   "id": "db18fd76-8f7f-499d-be93-ff8bab278586",
   "metadata": {},
   "outputs": [
    {
     "data": {
      "text/plain": [
       "array([9904312, 3448737, 2890451, 2466052], dtype=int64)"
      ]
     },
     "execution_count": 28,
     "metadata": {},
     "output_type": "execute_result"
    }
   ],
   "source": [
    "s.values"
   ]
  },
  {
   "cell_type": "markdown",
   "id": "7666721c-8d17-4e0e-b98f-99896870fadc",
   "metadata": {},
   "source": [
    "### name 속성 ###\n",
    ">name 속성을 이용하여 Series 데이터에 이름을 붙일 수 있음\n",
    ">index.name 속성으로 Series의 index에도 이름 붙이기 가능"
   ]
  },
  {
   "cell_type": "code",
   "execution_count": 32,
   "id": "b3522594-c314-41ee-8ecb-8530ed78f69c",
   "metadata": {},
   "outputs": [
    {
     "data": {
      "text/plain": [
       "도시\n",
       "서울    9904312\n",
       "부산    3448737\n",
       "인천    2890451\n",
       "대구    2466052\n",
       "Name: 인구, dtype: int64"
      ]
     },
     "execution_count": 32,
     "metadata": {},
     "output_type": "execute_result"
    }
   ],
   "source": [
    "s.name = \"인구\"\n",
    "s.index.name = \"도시\"\n",
    "s"
   ]
  },
  {
   "cell_type": "markdown",
   "id": "c519f6a9-c3b6-4f42-93c8-15496464f395",
   "metadata": {},
   "source": [
    "### dict 사용하기 ### \n",
    ">dict와 동일하게 index적용 하고 있다  \n",
    ">만들어진 Series 객체를 조회해보면 그 값이 정상적으로 조회됨"
   ]
  },
  {
   "cell_type": "code",
   "execution_count": 35,
   "id": "332a258a-f5c3-4077-9290-8843422add68",
   "metadata": {},
   "outputs": [
    {
     "data": {
      "text/plain": [
       "a    1\n",
       "b    2\n",
       "c    3\n",
       "dtype: int64"
      ]
     },
     "execution_count": 35,
     "metadata": {},
     "output_type": "execute_result"
    }
   ],
   "source": [
    "d = {'a':1, 'b':2, 'c':3}\n",
    "ser = pd.Series(data = d, index=['a', 'b', 'c'])\n",
    "ser"
   ]
  },
  {
   "cell_type": "markdown",
   "id": "10d82f75-ba09-4028-9e3d-2eda1b671f35",
   "metadata": {},
   "source": [
    ">data가 dict일 때 index가 최초에 dict의 key로 만들어짐    \n",
    ">그 후 Series는 index키워드로 전달받은 인수로 index 재할당  \n",
    ">밑에 예제와 같이 Series 객체의 값이 NaN의 결과를 출력  \n",
    "\n",
    "1. serise가 생성될 때 최초에 dictionary의 key를 index로 사용\n",
    "2. 그 이후 키워드 인수로 넘겨받은 index 값을 다시 재할당  \n",
    "--> 그래서 해당 하는 값을 찾을 수 없다고 나옴"
   ]
  },
  {
   "cell_type": "markdown",
   "id": "c2c0131c-b9d2-4891-9a55-b5cf315149ae",
   "metadata": {},
   "source": [
    "※ NaN값이 float자료형에서만 표현 가능하므로 결과가 float자료형이 되었다는 점 주의"
   ]
  },
  {
   "cell_type": "code",
   "execution_count": 37,
   "id": "244d2b80-4c1d-48d9-8d6e-49d78c2e54a1",
   "metadata": {},
   "outputs": [
    {
     "data": {
      "text/plain": [
       "x   NaN\n",
       "y   NaN\n",
       "z   NaN\n",
       "dtype: float64"
      ]
     },
     "execution_count": 37,
     "metadata": {},
     "output_type": "execute_result"
    }
   ],
   "source": [
    "c = {'a':1, 'b':2, 'c':3}\n",
    "ser = pd.Series(data=d, index=['x', 'y', 'z'])\n",
    "ser"
   ]
  },
  {
   "cell_type": "markdown",
   "id": "4a5005f6-fd40-4065-91c0-fcf36e2311d8",
   "metadata": {},
   "source": [
    ">index 지정 없이 dic 객체만 가지고 Series 만들기 가능\n",
    ">dic의 key가 index로 사용되는 것 확인 가능"
   ]
  },
  {
   "cell_type": "code",
   "execution_count": 41,
   "id": "6e0374b3-bd18-46ed-a342-67e3d31c9d0c",
   "metadata": {},
   "outputs": [
    {
     "data": {
      "text/plain": [
       "서울    9904312\n",
       "부산    3448737\n",
       "dtype: int64"
      ]
     },
     "execution_count": 41,
     "metadata": {},
     "output_type": "execute_result"
    }
   ],
   "source": [
    "s2 = pd.Series ({\"서울\":9_904_312,\n",
    "                  \"부산\":3_448_737})\n",
    "s2"
   ]
  },
  {
   "cell_type": "markdown",
   "id": "4e5c9e44-3651-4bd8-8fcb-df041e6c2427",
   "metadata": {},
   "source": [
    "### serise index 속성처럼 사용하기 ###"
   ]
  },
  {
   "cell_type": "markdown",
   "id": "2386e87d-6fa8-4537-8266-c676e14badfa",
   "metadata": {},
   "source": [
    "> 만약 label값이 영문 문자열인 경우에는 index label이 속성인것처럼 마침표(.)를 활용하여 해당 index값에 접근 가능"
   ]
  },
  {
   "cell_type": "code",
   "execution_count": 44,
   "id": "c853ffc3-85a6-4353-a4e9-8622409912be",
   "metadata": {},
   "outputs": [
    {
     "data": {
      "text/plain": [
       "a    1\n",
       "b    2\n",
       "c    3\n",
       "dtype: int64"
      ]
     },
     "execution_count": 44,
     "metadata": {},
     "output_type": "execute_result"
    }
   ],
   "source": [
    "d = {'a':1, 'b':2, 'c':3}\n",
    "ser = pd.Series(data=d, index=['a', 'b', 'c'])\n",
    "ser"
   ]
  },
  {
   "cell_type": "code",
   "execution_count": 45,
   "id": "870aff79-bb6b-43eb-9a77-109bfb4f4345",
   "metadata": {},
   "outputs": [
    {
     "data": {
      "text/plain": [
       "(1, 2, 3)"
      ]
     },
     "execution_count": 45,
     "metadata": {},
     "output_type": "execute_result"
    }
   ],
   "source": [
    "ser.a, ser.b, ser.c"
   ]
  },
  {
   "cell_type": "markdown",
   "id": "cc19b4d3-8429-4b2d-9e81-cbb018717ee1",
   "metadata": {},
   "source": [
    "### Series의 특징###"
   ]
  },
  {
   "cell_type": "markdown",
   "id": "4838a8c2-9e33-4872-b903-04297db7a089",
   "metadata": {},
   "source": [
    ">Series 객체는 index label을 키로 사용하기에 딕셔너리 자료형과 비슷한 특징을 갖음  \n",
    ">그래서 Series를 딕셔너리와 같은 방식으로 사용할 수 있게 구현해놈  \n",
    ">예를 들어 in연산 가능, items()메서드를 사ㅏ용해서 for문 루프를 돌려 각 요소의 키와 값에 접근 가능  "
   ]
  },
  {
   "cell_type": "markdown",
   "id": "55c07f64-34e6-48d5-b2dd-0b8b65ee802e",
   "metadata": {},
   "source": [
    "\"서울\" in s #인덱스 레이블 중에 서울이 있는가"
   ]
  },
  {
   "cell_type": "code",
   "execution_count": 51,
   "id": "b257eced-6773-45e7-b745-c02562a20387",
   "metadata": {},
   "outputs": [
    {
     "data": {
      "text/plain": [
       "False"
      ]
     },
     "execution_count": 51,
     "metadata": {},
     "output_type": "execute_result"
    }
   ],
   "source": [
    "\"대전\" in s #인덱스 레이블 중에 대전이 있는가"
   ]
  },
  {
   "cell_type": "code",
   "execution_count": 50,
   "id": "3655b279-e359-4d21-ab75-284364b2c555",
   "metadata": {},
   "outputs": [
    {
     "name": "stdout",
     "output_type": "stream",
     "text": [
      "서울, 9904312\n",
      "부산, 3448737\n",
      "인천, 2890451\n",
      "대구, 2466052\n"
     ]
    }
   ],
   "source": [
    "for k, v in s.items():\n",
    "    print(f\"{k}, {v}\")"
   ]
  },
  {
   "cell_type": "markdown",
   "id": "89873370-2c58-4280-8a84-20ce7a89bd2f",
   "metadata": {},
   "source": [
    "### Series 연산하기"
   ]
  },
  {
   "cell_type": "markdown",
   "id": "073edce5-12ad-45e7-903d-9a92451968bc",
   "metadata": {},
   "source": [
    ">넘파이 배열처럼 Series도 벡터화 연산 가능  \n",
    ">다만 연산은 Series의 value에만 적용  \n",
    ">index 값은 변하지 X\n"
   ]
  },
  {
   "cell_type": "code",
   "execution_count": 55,
   "id": "42bc3374-c2fc-4f5f-8938-069a430407a7",
   "metadata": {},
   "outputs": [
    {
     "data": {
      "text/plain": [
       "도시\n",
       "서울    9904312\n",
       "부산    3448737\n",
       "인천    2890451\n",
       "대구    2466052\n",
       "Name: 인구, dtype: int64"
      ]
     },
     "execution_count": 55,
     "metadata": {},
     "output_type": "execute_result"
    }
   ],
   "source": [
    "s"
   ]
  },
  {
   "cell_type": "code",
   "execution_count": 54,
   "id": "65043dfd-6765-4ca2-bfc5-4a7286485de5",
   "metadata": {},
   "outputs": [
    {
     "data": {
      "text/plain": [
       "도시\n",
       "서울    9.904312\n",
       "부산    3.448737\n",
       "인천    2.890451\n",
       "대구    2.466052\n",
       "Name: 인구, dtype: float64"
      ]
     },
     "execution_count": 54,
     "metadata": {},
     "output_type": "execute_result"
    }
   ],
   "source": [
    "s / 1000000"
   ]
  },
  {
   "cell_type": "markdown",
   "id": "4d38c595-76ee-4ea5-b30f-ebf3beb031c2",
   "metadata": {},
   "source": [
    "### Series 인덱싱"
   ]
  },
  {
   "cell_type": "markdown",
   "id": "02c2ccc5-7273-4aad-8b7b-34ae78efb656",
   "metadata": {},
   "source": [
    ">Series는 넘파이 배열에서 가능한 index방법 이외에도 index label을 이용한 인덱싱도 가능  \n",
    ">배열 인덱싱이나 index label을 이용한 슬라이싱도 가능"
   ]
  },
  {
   "cell_type": "code",
   "execution_count": 59,
   "id": "48ed9d35-1dc0-4b01-a26e-7c5087972ae3",
   "metadata": {},
   "outputs": [
    {
     "data": {
      "text/plain": [
       "(3448737, 3448737)"
      ]
     },
     "execution_count": 59,
     "metadata": {},
     "output_type": "execute_result"
    }
   ],
   "source": [
    "s[1],s[\"부산\"]"
   ]
  },
  {
   "cell_type": "code",
   "execution_count": 60,
   "id": "611fe532-88d8-448d-81c1-96207aa6ed3c",
   "metadata": {},
   "outputs": [
    {
     "data": {
      "text/plain": [
       "(2466052, 2466052)"
      ]
     },
     "execution_count": 60,
     "metadata": {},
     "output_type": "execute_result"
    }
   ],
   "source": [
    "s[3],s[\"대구\"]"
   ]
  },
  {
   "cell_type": "markdown",
   "id": "5e59eafd-e0e6-45f9-b0af-fb4469577555",
   "metadata": {},
   "source": [
    ">배열 인덱싱을 하면 부분적인 값을 가지는 Series 자료형으로 반환  \n",
    ">자료의 순서를 바꾸거나 특정한 자료만 취사 선택 가능"
   ]
  },
  {
   "cell_type": "code",
   "execution_count": 62,
   "id": "2101f06e-8234-44c4-b954-8958c3169144",
   "metadata": {},
   "outputs": [
    {
     "data": {
      "text/plain": [
       "도시\n",
       "서울    9904312\n",
       "대구    2466052\n",
       "부산    3448737\n",
       "Name: 인구, dtype: int64"
      ]
     },
     "execution_count": 62,
     "metadata": {},
     "output_type": "execute_result"
    }
   ],
   "source": [
    "s[[0, 3, 1]]"
   ]
  },
  {
   "cell_type": "code",
   "execution_count": 63,
   "id": "a6035d3d-b4fb-4c4c-81a4-fbb2b68d9d5b",
   "metadata": {},
   "outputs": [
    {
     "data": {
      "text/plain": [
       "도시\n",
       "서울    9904312\n",
       "대구    2466052\n",
       "부산    3448737\n",
       "Name: 인구, dtype: int64"
      ]
     },
     "execution_count": 63,
     "metadata": {},
     "output_type": "execute_result"
    }
   ],
   "source": [
    "s[[\"서울\", \"대구\", \"부산\"]]"
   ]
  },
  {
   "cell_type": "markdown",
   "id": "0924d502-98a3-4b5f-b7b5-b4273974eca5",
   "metadata": {},
   "source": [
    "### Series 슬라이싱 ###"
   ]
  },
  {
   "cell_type": "markdown",
   "id": "893ddc66-34cf-4629-905a-82c947c2d063",
   "metadata": {},
   "source": [
    ">슬라이싱을 해도 부분적인 Series 반환  \n",
    ">이 때 문자열 label을 이용한 슬라이싱을 하는 경우에는 숫자 인덱싱과 달리 콜론(:) 기호 뒤에 오는 값도 결과에 포함되므로 주의"
   ]
  },
  {
   "cell_type": "code",
   "execution_count": 67,
   "id": "9b286496-9182-4410-8387-d258ca51a76c",
   "metadata": {},
   "outputs": [
    {
     "data": {
      "text/plain": [
       "도시\n",
       "서울    9904312\n",
       "부산    3448737\n",
       "인천    2890451\n",
       "대구    2466052\n",
       "Name: 인구, dtype: int64"
      ]
     },
     "execution_count": 67,
     "metadata": {},
     "output_type": "execute_result"
    }
   ],
   "source": [
    "s"
   ]
  },
  {
   "cell_type": "code",
   "execution_count": 66,
   "id": "82c776ae-5ba8-442b-83e0-1f5215cbf9d4",
   "metadata": {},
   "outputs": [
    {
     "data": {
      "text/plain": [
       "도시\n",
       "부산    3448737\n",
       "인천    2890451\n",
       "Name: 인구, dtype: int64"
      ]
     },
     "execution_count": 66,
     "metadata": {},
     "output_type": "execute_result"
    }
   ],
   "source": [
    "s[1:3] #두번째(1)부터 세번째(2)까지 (네번째(3) 미포함)"
   ]
  },
  {
   "cell_type": "code",
   "execution_count": 68,
   "id": "262e8417-14d8-41cb-a1b5-7695867cee63",
   "metadata": {},
   "outputs": [
    {
     "data": {
      "text/plain": [
       "도시\n",
       "부산    3448737\n",
       "인천    2890451\n",
       "대구    2466052\n",
       "Name: 인구, dtype: int64"
      ]
     },
     "execution_count": 68,
     "metadata": {},
     "output_type": "execute_result"
    }
   ],
   "source": [
    "s[\"부산\":\"대구\"] #부산에서 대구까지 (대구 포함)"
   ]
  },
  {
   "cell_type": "markdown",
   "id": "863266e4-cd04-4d74-b29a-b9f3d72a2c33",
   "metadata": {},
   "source": [
    "### Series index 기반 연산 ###"
   ]
  },
  {
   "cell_type": "markdown",
   "id": "a2f05c07-32ad-4e36-bff4-53067b76ee50",
   "metadata": {},
   "source": [
    "> 2015년도와 2010년 인구 증가 계산해보기  \n",
    "> 두 개의 Series 차를 구하면 됨  \n",
    ">두 Series에 대해 연산을 하는 경우 index가 같은 데이터에 대해서만 차이를 구함  \n",
    "\n",
    ">대구와 대전의 경우에는 2010년 자료와 2015년 자료가 모두 존재하지 않으므로 계산 불가능 --> NaN  "
   ]
  },
  {
   "cell_type": "code",
   "execution_count": 72,
   "id": "5284200f-4965-498e-bb17-d17eab703490",
   "metadata": {},
   "outputs": [
    {
     "data": {
      "text/plain": [
       "도시\n",
       "서울    9904312\n",
       "부산    3448737\n",
       "인천    2890451\n",
       "대구    2466052\n",
       "Name: 인구, dtype: int64"
      ]
     },
     "execution_count": 72,
     "metadata": {},
     "output_type": "execute_result"
    }
   ],
   "source": [
    "s = pd.Series([9904312, 3448737, 2890451, 2466052],\n",
    "             index = [\"서울\", \"부산\", \"인천\", \"대구\"])\n",
    "s.name = \"인구\"\n",
    "s.index.name = \"도시\"\n",
    "s          "
   ]
  },
  {
   "cell_type": "code",
   "execution_count": 74,
   "id": "e7dfdf14-bd55-40c1-bc06-5a6fbf195087",
   "metadata": {},
   "outputs": [
    {
     "data": {
      "text/plain": [
       "서울    9631482\n",
       "부산    3393191\n",
       "인천    2632035\n",
       "대전    1490158\n",
       "dtype: int64"
      ]
     },
     "execution_count": 74,
     "metadata": {},
     "output_type": "execute_result"
    }
   ],
   "source": [
    "s2 = pd.Series({\"서울\":9631482, \"부산\":3393191, \"인천\":2632035, \"대전\":1490158})\n",
    "s2"
   ]
  },
  {
   "cell_type": "code",
   "execution_count": 75,
   "id": "0d3209aa-1071-4de8-af8f-bb68a8e1d36d",
   "metadata": {},
   "outputs": [
    {
     "data": {
      "text/plain": [
       "대구         NaN\n",
       "대전         NaN\n",
       "부산     55546.0\n",
       "서울    272830.0\n",
       "인천    258416.0\n",
       "dtype: float64"
      ]
     },
     "execution_count": 75,
     "metadata": {},
     "output_type": "execute_result"
    }
   ],
   "source": [
    "ds = s - s2\n",
    "ds"
   ]
  },
  {
   "cell_type": "markdown",
   "id": "e2f5e61b-e92b-41f7-a8b8-25fa228d25d0",
   "metadata": {},
   "source": [
    "- series 내 갚이 NaN이 아닌지 True, False 값을 구하려면 notnull() 메서드 사용 "
   ]
  },
  {
   "cell_type": "code",
   "execution_count": 77,
   "id": "c6214a70-315e-4428-a77f-36fc7918bb9b",
   "metadata": {},
   "outputs": [
    {
     "data": {
      "text/plain": [
       "대구    False\n",
       "대전    False\n",
       "부산     True\n",
       "서울     True\n",
       "인천     True\n",
       "dtype: bool"
      ]
     },
     "execution_count": 77,
     "metadata": {},
     "output_type": "execute_result"
    }
   ],
   "source": [
    "ds.notnull()"
   ]
  },
  {
   "cell_type": "markdown",
   "id": "df7918c5-f247-4a64-b81a-0481fa4e37ac",
   "metadata": {},
   "source": [
    "- NaN인 값을 배제한 Series 만들기"
   ]
  },
  {
   "cell_type": "code",
   "execution_count": 79,
   "id": "83604f02-2a52-4ec7-96ab-5ba9963db10f",
   "metadata": {},
   "outputs": [
    {
     "data": {
      "text/plain": [
       "부산     55546.0\n",
       "서울    272830.0\n",
       "인천    258416.0\n",
       "dtype: float64"
      ]
     },
     "execution_count": 79,
     "metadata": {},
     "output_type": "execute_result"
    }
   ],
   "source": [
    "ds[ds.notnull()] "
   ]
  },
  {
   "cell_type": "markdown",
   "id": "7fdb5cc0-bb3a-4748-bdbe-4b19c4b9a0c9",
   "metadata": {},
   "source": [
    "- NaN 값을 배제하고 2010년 대비 2015년 인구 증가울(%)구하기 "
   ]
  },
  {
   "cell_type": "code",
   "execution_count": 81,
   "id": "34331507-1a14-41e4-b54f-1d8fc0ec3caa",
   "metadata": {},
   "outputs": [
    {
     "data": {
      "text/plain": [
       "도시\n",
       "서울    9904312\n",
       "부산    3448737\n",
       "인천    2890451\n",
       "대구    2466052\n",
       "Name: 인구, dtype: int64"
      ]
     },
     "execution_count": 81,
     "metadata": {},
     "output_type": "execute_result"
    }
   ],
   "source": [
    "s #2015년 도시별 인구"
   ]
  },
  {
   "cell_type": "code",
   "execution_count": 82,
   "id": "378438b7-dc1f-4f73-904e-1f7b338d416c",
   "metadata": {},
   "outputs": [
    {
     "data": {
      "text/plain": [
       "서울    9631482\n",
       "부산    3393191\n",
       "인천    2632035\n",
       "대전    1490158\n",
       "dtype: int64"
      ]
     },
     "execution_count": 82,
     "metadata": {},
     "output_type": "execute_result"
    }
   ],
   "source": [
    "s2 #2010년 도시별 인구"
   ]
  },
  {
   "cell_type": "code",
   "execution_count": 83,
   "id": "158446bc-2b30-4842-a662-e18c305b3cf7",
   "metadata": {},
   "outputs": [
    {
     "data": {
      "text/plain": [
       "부산    1.636984\n",
       "서울    2.832690\n",
       "인천    9.818107\n",
       "dtype: float64"
      ]
     },
     "execution_count": 83,
     "metadata": {},
     "output_type": "execute_result"
    }
   ],
   "source": [
    "rs = (s - s2) / s2 * 100\n",
    "rs = rs[rs.notnull()] #NaN값 제거하기\n",
    "rs"
   ]
  },
  {
   "cell_type": "markdown",
   "id": "c24a9c63-e276-41fd-97bf-1514b6d277a2",
   "metadata": {},
   "source": [
    "### Series 데이터 추가, 갱신, 삭제 ###"
   ]
  },
  {
   "cell_type": "markdown",
   "id": "2f3737c9-6a76-4e19-ba9c-b8d714ec4dec",
   "metadata": {},
   "source": [
    ">딕셔너리 때와 비슷하게 인덱싱을 경우에 맞춰 사용하면 데이터를 추가하거나 갱신 가능  \n"
   ]
  },
  {
   "cell_type": "markdown",
   "id": "cd064a3b-f0da-480a-8e25-2af6922caac3",
   "metadata": {},
   "source": [
    " - 갱신하기"
   ]
  },
  {
   "cell_type": "markdown",
   "id": "aff8b0d6-530a-4be3-ad4b-efa4a65f37ee",
   "metadata": {},
   "source": [
    ">기존에 있는 index에 값을 할당하면 갱신 됨"
   ]
  },
  {
   "cell_type": "code",
   "execution_count": 88,
   "id": "e746a067-2946-4ce5-9eb4-9d10343ed5cf",
   "metadata": {},
   "outputs": [
    {
     "data": {
      "text/plain": [
       "부산    1.630000\n",
       "서울    2.832690\n",
       "인천    9.818107\n",
       "dtype: float64"
      ]
     },
     "execution_count": 88,
     "metadata": {},
     "output_type": "execute_result"
    }
   ],
   "source": [
    "rs # 인구 증가율(%)"
   ]
  },
  {
   "cell_type": "code",
   "execution_count": 89,
   "id": "df46b890-089f-4712-994b-4da98d74db83",
   "metadata": {},
   "outputs": [
    {
     "data": {
      "text/plain": [
       "부산    1.630000\n",
       "서울    2.832690\n",
       "인천    9.818107\n",
       "dtype: float64"
      ]
     },
     "execution_count": 89,
     "metadata": {},
     "output_type": "execute_result"
    }
   ],
   "source": [
    "rs[\"부산\"] = 1.63\n",
    "rs"
   ]
  },
  {
   "cell_type": "markdown",
   "id": "2112636a-1870-4c10-8918-e4a7ed2f6b06",
   "metadata": {},
   "source": [
    "- 추가하기"
   ]
  },
  {
   "cell_type": "markdown",
   "id": "cdf0172c-4744-4950-b97c-6d13b59102d8",
   "metadata": {},
   "source": [
    "> 없는 index에 값을 할당하면 Series에 데이터가 추가"
   ]
  },
  {
   "cell_type": "code",
   "execution_count": 92,
   "id": "2b595baa-0055-4273-bff0-b695ae60b78a",
   "metadata": {},
   "outputs": [
    {
     "data": {
      "text/plain": [
       "부산    1.630000\n",
       "서울    2.832690\n",
       "인천    9.818107\n",
       "dtype: float64"
      ]
     },
     "execution_count": 92,
     "metadata": {},
     "output_type": "execute_result"
    }
   ],
   "source": [
    "rs"
   ]
  },
  {
   "cell_type": "code",
   "execution_count": 93,
   "id": "09f01d48-103a-44d9-8747-4ec10356a01a",
   "metadata": {},
   "outputs": [
    {
     "data": {
      "text/plain": [
       "부산    1.630000\n",
       "서울    2.832690\n",
       "인천    9.818107\n",
       "대구    1.410000\n",
       "dtype: float64"
      ]
     },
     "execution_count": 93,
     "metadata": {},
     "output_type": "execute_result"
    }
   ],
   "source": [
    "rs[\"대구\"]= 1.41\n",
    "rs"
   ]
  },
  {
   "cell_type": "markdown",
   "id": "b50bb9a8-2d36-429b-9ea6-4577edee1404",
   "metadata": {},
   "source": [
    "- 삭제하기"
   ]
  },
  {
   "cell_type": "markdown",
   "id": "be1fb896-d3bd-4b9a-b4da-df44f5ccef74",
   "metadata": {},
   "source": [
    "> 데이터를 삭제할 때에도 딕셔너리처럼 del 명령을 사용"
   ]
  },
  {
   "cell_type": "code",
   "execution_count": 96,
   "id": "dd379e9e-ed5c-421d-9917-0b4d290b626f",
   "metadata": {},
   "outputs": [
    {
     "data": {
      "text/plain": [
       "부산    1.630000\n",
       "서울    2.832690\n",
       "인천    9.818107\n",
       "대구    1.410000\n",
       "dtype: float64"
      ]
     },
     "execution_count": 96,
     "metadata": {},
     "output_type": "execute_result"
    }
   ],
   "source": [
    "rs"
   ]
  },
  {
   "cell_type": "code",
   "execution_count": 97,
   "id": "d2a80514-3c6a-4023-8346-e442bff9252e",
   "metadata": {},
   "outputs": [
    {
     "data": {
      "text/plain": [
       "부산    1.630000\n",
       "인천    9.818107\n",
       "대구    1.410000\n",
       "dtype: float64"
      ]
     },
     "execution_count": 97,
     "metadata": {},
     "output_type": "execute_result"
    }
   ],
   "source": [
    "del rs[\"서울\"]\n",
    "rs"
   ]
  },
  {
   "cell_type": "markdown",
   "id": "6c94626a-bc18-483e-937d-3229a46136bd",
   "metadata": {},
   "source": [
    "### 연습문제 ###"
   ]
  },
  {
   "cell_type": "markdown",
   "id": "c5bf9f07-ce75-4496-ab32-37a963646e4f",
   "metadata": {},
   "source": [
    "1. 아래 fin1과 fin2_value, fin2_index를 활용하여 Series객체 ser_finance1, ser_finance2를 만들기"
   ]
  },
  {
   "cell_type": "code",
   "execution_count": 100,
   "id": "cadbf544-756d-4fc1-8d14-cdd1219b81a8",
   "metadata": {},
   "outputs": [],
   "source": [
    "fin1 = {\"카카오\":60010, \"삼성전자\":61000, \"LG전자\":90000}\n",
    "fin2_value = [60200, 61200, 200100]\n",
    "fin2_index = [\"카카오\", \"삼성전자\", \"네이버\"]"
   ]
  },
  {
   "cell_type": "code",
   "execution_count": 108,
   "id": "ca4887fa-9047-4b1d-8713-180a5071c736",
   "metadata": {},
   "outputs": [
    {
     "data": {
      "text/plain": [
       "카카오     60010\n",
       "삼성전자    61000\n",
       "LG전자    90000\n",
       "dtype: int64"
      ]
     },
     "execution_count": 108,
     "metadata": {},
     "output_type": "execute_result"
    }
   ],
   "source": [
    "fin1 = {\"카카오\":60010, \"삼성전자\":61000, \"LG전자\":90000}\n",
    "ser_finance1 = pd.Series(fin1)\n",
    "ser_finance1"
   ]
  },
  {
   "cell_type": "code",
   "execution_count": 109,
   "id": "cc9b0552-edc4-43af-bf62-16b21c5a9301",
   "metadata": {},
   "outputs": [
    {
     "data": {
      "text/plain": [
       "카카오      60200\n",
       "삼성전자     61200\n",
       "네이버     200100\n",
       "dtype: int64"
      ]
     },
     "execution_count": 109,
     "metadata": {},
     "output_type": "execute_result"
    }
   ],
   "source": [
    "fin2_value = [60200, 61200, 200100]\n",
    "fin2_index = [\"카카오\", \"삼성전자\", \"네이버\"]\n",
    "ser_finance2 = pd.Series(fin2_value,\n",
    "                 index = fin2_index)\n",
    "ser_finance2"
   ]
  },
  {
   "cell_type": "markdown",
   "id": "2ecdb520-504c-4ac7-81dc-e38959ea3d89",
   "metadata": {},
   "source": [
    "2. 앞서 만든 두 Series 객체를 활용하여 사칙 연산을 각각 수행해보세요  \n",
    "- 사칙연산 중 NaN값을 갖는 항목과 dtype을 각각 확인해보세요"
   ]
  },
  {
   "cell_type": "code",
   "execution_count": 110,
   "id": "92e3ead5-b3a9-4fc2-a67c-b41451047464",
   "metadata": {},
   "outputs": [
    {
     "data": {
      "text/plain": [
       "LG전자      NaN\n",
       "네이버       NaN\n",
       "삼성전자   -200.0\n",
       "카카오    -190.0\n",
       "dtype: float64"
      ]
     },
     "execution_count": 110,
     "metadata": {},
     "output_type": "execute_result"
    }
   ],
   "source": [
    "ser_finance1 - ser_finance2 # LG전자는 1에만 있고 네이버는 2에만 있어서"
   ]
  },
  {
   "cell_type": "code",
   "execution_count": 111,
   "id": "ab4b7c4b-b01b-4a38-8730-e1f716be0aa0",
   "metadata": {},
   "outputs": [
    {
     "data": {
      "text/plain": [
       "LG전자         NaN\n",
       "네이버          NaN\n",
       "삼성전자    122200.0\n",
       "카카오     120210.0\n",
       "dtype: float64"
      ]
     },
     "execution_count": 111,
     "metadata": {},
     "output_type": "execute_result"
    }
   ],
   "source": [
    "ser_finance1 + ser_finance2 # LG전자는 1에만 있고 네이버는 2에만 있어서"
   ]
  },
  {
   "cell_type": "code",
   "execution_count": 112,
   "id": "9b84e78f-f350-4c05-a5d8-71356e3296e0",
   "metadata": {},
   "outputs": [
    {
     "data": {
      "text/plain": [
       "LG전자             NaN\n",
       "네이버              NaN\n",
       "삼성전자    3.733200e+09\n",
       "카카오     3.612602e+09\n",
       "dtype: float64"
      ]
     },
     "execution_count": 112,
     "metadata": {},
     "output_type": "execute_result"
    }
   ],
   "source": [
    "ser_finance1 * ser_finance2 # LG전자는 1에만 있고 네이버는 2에만 있어서"
   ]
  },
  {
   "cell_type": "code",
   "execution_count": 114,
   "id": "88481498-2f39-445f-8aea-a494f162cb8c",
   "metadata": {},
   "outputs": [
    {
     "data": {
      "text/plain": [
       "LG전자         NaN\n",
       "네이버          NaN\n",
       "삼성전자    0.996732\n",
       "카카오     0.996844\n",
       "dtype: float64"
      ]
     },
     "execution_count": 114,
     "metadata": {},
     "output_type": "execute_result"
    }
   ],
   "source": [
    "ser_finance1 / ser_finance2 # LG전자는 1에만 있고 네이버는 2에만 있어서"
   ]
  },
  {
   "cell_type": "markdown",
   "id": "2d49ca39-e047-40d6-8997-a1515d7ec316",
   "metadata": {},
   "source": [
    "3. 아래의 연산 결과 중 NaN 값이 없게 Series 객체를 출력해보세요\n",
    "```python\n",
    "ser12 = ser_finance1 - ser_finance2\n",
    "```"
   ]
  },
  {
   "cell_type": "code",
   "execution_count": 119,
   "id": "91d788ec-ec2c-4353-afba-882399ba989c",
   "metadata": {},
   "outputs": [
    {
     "data": {
      "text/plain": [
       "삼성전자   -200.0\n",
       "카카오    -190.0\n",
       "dtype: float64"
      ]
     },
     "execution_count": 119,
     "metadata": {},
     "output_type": "execute_result"
    }
   ],
   "source": [
    "ser12 = ser_finance1 - ser_finance2\n",
    "ser12 = ser12[ser12.notnull()]\n",
    "ser12"
   ]
  },
  {
   "cell_type": "markdown",
   "id": "6831551c-850a-44ee-a826-e874d4749608",
   "metadata": {},
   "source": [
    "-----------------"
   ]
  },
  {
   "cell_type": "markdown",
   "id": "4e0e35d5-8357-4128-a679-104ac053c085",
   "metadata": {
    "tags": []
   },
   "source": [
    "## [ DataFrame class ] ##"
   ]
  },
  {
   "cell_type": "markdown",
   "id": "34c869cd-54b4-42b6-9c72-536836aca8d1",
   "metadata": {},
   "source": [
    "- DataFrame은 Pandas의 주요 데이터 구조\n",
    "- label된 row와 column, 두 개의 축을 갖는 데이터 구조\n",
    "- 산술 연산은 row와 column 모두 적용\n",
    "- Series 객체를 갖는 dictionary 라고 생각하면 비슷함\n",
    "\n",
    "> 첫번째 인자로 data, 두번째 인자로 index 전달"
   ]
  },
  {
   "cell_type": "markdown",
   "id": "edd791c5-22fb-48fe-8c75-7b4ff7a402a1",
   "metadata": {},
   "source": [
    "```python\n",
    "class pandas (DataFrame(data=None, index=None, columns=None, dtype=None, copy=None))\n",
    "```"
   ]
  },
  {
   "cell_type": "markdown",
   "id": "c06b5389-a3f8-4b87-a80d-0561c1e20dd7",
   "metadata": {},
   "source": [
    "### DataFrame 생성 ###"
   ]
  },
  {
   "cell_type": "markdown",
   "id": "7b16f053-9f9e-42f9-a805-aa8bf7110b85",
   "metadata": {},
   "source": [
    ">Series가 1차원 벡터 데이터에 행방향 index를 붙인 것이라면 DataFrame클래스는 2차원 행렬 데이터에 index를 붙인 것과 형태가 비슷    \n",
    ">row가 column을 갖는 2차원이므로 각각의 행 데이터의 이름이 되는 행뿐 아니라 각각의 열 데이터의 이름이 되는 열index도 붙일 수 있음    "
   ]
  },
  {
   "cell_type": "markdown",
   "id": "8ce282d2-db3f-4187-bd0e-ecdf1c5b5361",
   "metadata": {},
   "source": [
    "DataFrame 만드는 법    \n",
    "1. 우선 하나의 열이 되는 데이터를 리스트나 일차원 배열을 준비\n",
    "2. 이 각각의 열에 대한 이름(label)을 키로 가지는 딕셔너리를 만듬\n",
    "3. 이 데이터를 DataFrame 클래스 생성자에 넣기, 동시에 열방향 index는 columns인수로, 행방향 index는 index인수로 지정"
   ]
  },
  {
   "cell_type": "code",
   "execution_count": 125,
   "id": "5ab52085-7dc9-4deb-b591-f9af5d79d3cc",
   "metadata": {},
   "outputs": [
    {
     "data": {
      "text/html": [
       "<div>\n",
       "<style scoped>\n",
       "    .dataframe tbody tr th:only-of-type {\n",
       "        vertical-align: middle;\n",
       "    }\n",
       "\n",
       "    .dataframe tbody tr th {\n",
       "        vertical-align: top;\n",
       "    }\n",
       "\n",
       "    .dataframe thead th {\n",
       "        text-align: right;\n",
       "    }\n",
       "</style>\n",
       "<table border=\"1\" class=\"dataframe\">\n",
       "  <thead>\n",
       "    <tr style=\"text-align: right;\">\n",
       "      <th></th>\n",
       "      <th>col1</th>\n",
       "      <th>col2</th>\n",
       "    </tr>\n",
       "  </thead>\n",
       "  <tbody>\n",
       "    <tr>\n",
       "      <th>0</th>\n",
       "      <td>1</td>\n",
       "      <td>3</td>\n",
       "    </tr>\n",
       "    <tr>\n",
       "      <th>1</th>\n",
       "      <td>2</td>\n",
       "      <td>4</td>\n",
       "    </tr>\n",
       "  </tbody>\n",
       "</table>\n",
       "</div>"
      ],
      "text/plain": [
       "   col1  col2\n",
       "0     1     3\n",
       "1     2     4"
      ]
     },
     "execution_count": 125,
     "metadata": {},
     "output_type": "execute_result"
    }
   ],
   "source": [
    "d = {'col1':[1, 2], 'col2':[3, 4]}\n",
    "df = pd.DataFrame(data=d)\n",
    "df"
   ]
  },
  {
   "cell_type": "code",
   "execution_count": 323,
   "id": "02de8e26-0344-4ed1-ae0c-2a5a6439aa3a",
   "metadata": {},
   "outputs": [
    {
     "data": {
      "text/html": [
       "<div>\n",
       "<style scoped>\n",
       "    .dataframe tbody tr th:only-of-type {\n",
       "        vertical-align: middle;\n",
       "    }\n",
       "\n",
       "    .dataframe tbody tr th {\n",
       "        vertical-align: top;\n",
       "    }\n",
       "\n",
       "    .dataframe thead th {\n",
       "        text-align: right;\n",
       "    }\n",
       "</style>\n",
       "<table border=\"1\" class=\"dataframe\">\n",
       "  <thead>\n",
       "    <tr style=\"text-align: right;\">\n",
       "      <th></th>\n",
       "      <th>지역</th>\n",
       "      <th>2015</th>\n",
       "      <th>2010</th>\n",
       "      <th>2005</th>\n",
       "      <th>2000</th>\n",
       "      <th>2010-2015 증가율</th>\n",
       "    </tr>\n",
       "  </thead>\n",
       "  <tbody>\n",
       "    <tr>\n",
       "      <th>서울</th>\n",
       "      <td>수도권</td>\n",
       "      <td>9904312</td>\n",
       "      <td>9631482</td>\n",
       "      <td>9762546</td>\n",
       "      <td>9853972</td>\n",
       "      <td>0.0283</td>\n",
       "    </tr>\n",
       "    <tr>\n",
       "      <th>부산</th>\n",
       "      <td>경상권</td>\n",
       "      <td>3448737</td>\n",
       "      <td>3393191</td>\n",
       "      <td>3512547</td>\n",
       "      <td>3655437</td>\n",
       "      <td>0.0163</td>\n",
       "    </tr>\n",
       "    <tr>\n",
       "      <th>인천</th>\n",
       "      <td>수도권</td>\n",
       "      <td>2890451</td>\n",
       "      <td>2632035</td>\n",
       "      <td>2517680</td>\n",
       "      <td>2466338</td>\n",
       "      <td>0.0982</td>\n",
       "    </tr>\n",
       "    <tr>\n",
       "      <th>대구</th>\n",
       "      <td>경상권</td>\n",
       "      <td>2466052</td>\n",
       "      <td>2431774</td>\n",
       "      <td>2456016</td>\n",
       "      <td>2473990</td>\n",
       "      <td>0.0141</td>\n",
       "    </tr>\n",
       "  </tbody>\n",
       "</table>\n",
       "</div>"
      ],
      "text/plain": [
       "     지역     2015     2010     2005     2000  2010-2015 증가율\n",
       "서울  수도권  9904312  9631482  9762546  9853972         0.0283\n",
       "부산  경상권  3448737  3393191  3512547  3655437         0.0163\n",
       "인천  수도권  2890451  2632035  2517680  2466338         0.0982\n",
       "대구  경상권  2466052  2431774  2456016  2473990         0.0141"
      ]
     },
     "execution_count": 323,
     "metadata": {},
     "output_type": "execute_result"
    }
   ],
   "source": [
    "data = {\n",
    "    \"2015\": [9904312, 3448737, 2890451, 2466052],\n",
    "    \"2010\": [9631482, 3393191, 2632035, 2431774],\n",
    "    \"2005\": [9762546, 3512547, 2517680, 2456016],\n",
    "    \"2000\": [9853972, 3655437, 2466338, 2473990],\n",
    "    \"지역\": [\"수도권\", \"경상권\", \"수도권\", \"경상권\"],\n",
    "    \"2010-2015 증가율\": [0.0283, 0.0163, 0.0982, 0.0141]\n",
    "}\n",
    "columns = [\"지역\", \"2015\", \"2010\", \"2005\", \"2000\", \"2010-2015 증가율\"]\n",
    "index = [\"서울\", \"부산\", \"인천\", \"대구\"]\n",
    "df = pd.DataFrame(data, index=index, columns=columns)\n",
    "df"
   ]
  },
  {
   "cell_type": "markdown",
   "id": "c2670b3f-3319-422b-ac1d-b35c9a4f5cda",
   "metadata": {},
   "source": [
    "### DataFrame의 속성 ###\n",
    "> values, columns, index"
   ]
  },
  {
   "cell_type": "code",
   "execution_count": 324,
   "id": "9302a01b-b52d-4bbe-9807-ddfed78b1a7d",
   "metadata": {},
   "outputs": [
    {
     "data": {
      "text/plain": [
       "array([['수도권', 9904312, 9631482, 9762546, 9853972, 0.0283],\n",
       "       ['경상권', 3448737, 3393191, 3512547, 3655437, 0.0163],\n",
       "       ['수도권', 2890451, 2632035, 2517680, 2466338, 0.0982],\n",
       "       ['경상권', 2466052, 2431774, 2456016, 2473990, 0.0141]], dtype=object)"
      ]
     },
     "execution_count": 324,
     "metadata": {},
     "output_type": "execute_result"
    }
   ],
   "source": [
    "df.values"
   ]
  },
  {
   "cell_type": "code",
   "execution_count": 325,
   "id": "172727af-5b48-4350-aba5-69d6d9b4c901",
   "metadata": {},
   "outputs": [
    {
     "data": {
      "text/plain": [
       "Index(['지역', '2015', '2010', '2005', '2000', '2010-2015 증가율'], dtype='object')"
      ]
     },
     "execution_count": 325,
     "metadata": {},
     "output_type": "execute_result"
    }
   ],
   "source": [
    "df.columns"
   ]
  },
  {
   "cell_type": "code",
   "execution_count": 326,
   "id": "5bf3cb62-3684-411a-85eb-a3485a6d36d2",
   "metadata": {},
   "outputs": [
    {
     "data": {
      "text/plain": [
       "Index(['서울', '부산', '인천', '대구'], dtype='object')"
      ]
     },
     "execution_count": 326,
     "metadata": {},
     "output_type": "execute_result"
    }
   ],
   "source": [
    "df.index"
   ]
  },
  {
   "cell_type": "markdown",
   "id": "5e9a485b-300e-4e88-b43a-e8dfa83867d2",
   "metadata": {},
   "source": [
    "### DataFrame 이름 붙이기 ###"
   ]
  },
  {
   "cell_type": "code",
   "execution_count": 327,
   "id": "fb66e85a-83b9-4031-b04f-2cd8010f64f0",
   "metadata": {},
   "outputs": [
    {
     "data": {
      "text/html": [
       "<div>\n",
       "<style scoped>\n",
       "    .dataframe tbody tr th:only-of-type {\n",
       "        vertical-align: middle;\n",
       "    }\n",
       "\n",
       "    .dataframe tbody tr th {\n",
       "        vertical-align: top;\n",
       "    }\n",
       "\n",
       "    .dataframe thead th {\n",
       "        text-align: right;\n",
       "    }\n",
       "</style>\n",
       "<table border=\"1\" class=\"dataframe\">\n",
       "  <thead>\n",
       "    <tr style=\"text-align: right;\">\n",
       "      <th>특성</th>\n",
       "      <th>지역</th>\n",
       "      <th>2015</th>\n",
       "      <th>2010</th>\n",
       "      <th>2005</th>\n",
       "      <th>2000</th>\n",
       "      <th>2010-2015 증가율</th>\n",
       "    </tr>\n",
       "    <tr>\n",
       "      <th>도시</th>\n",
       "      <th></th>\n",
       "      <th></th>\n",
       "      <th></th>\n",
       "      <th></th>\n",
       "      <th></th>\n",
       "      <th></th>\n",
       "    </tr>\n",
       "  </thead>\n",
       "  <tbody>\n",
       "    <tr>\n",
       "      <th>서울</th>\n",
       "      <td>수도권</td>\n",
       "      <td>9904312</td>\n",
       "      <td>9631482</td>\n",
       "      <td>9762546</td>\n",
       "      <td>9853972</td>\n",
       "      <td>0.0283</td>\n",
       "    </tr>\n",
       "    <tr>\n",
       "      <th>부산</th>\n",
       "      <td>경상권</td>\n",
       "      <td>3448737</td>\n",
       "      <td>3393191</td>\n",
       "      <td>3512547</td>\n",
       "      <td>3655437</td>\n",
       "      <td>0.0163</td>\n",
       "    </tr>\n",
       "    <tr>\n",
       "      <th>인천</th>\n",
       "      <td>수도권</td>\n",
       "      <td>2890451</td>\n",
       "      <td>2632035</td>\n",
       "      <td>2517680</td>\n",
       "      <td>2466338</td>\n",
       "      <td>0.0982</td>\n",
       "    </tr>\n",
       "    <tr>\n",
       "      <th>대구</th>\n",
       "      <td>경상권</td>\n",
       "      <td>2466052</td>\n",
       "      <td>2431774</td>\n",
       "      <td>2456016</td>\n",
       "      <td>2473990</td>\n",
       "      <td>0.0141</td>\n",
       "    </tr>\n",
       "  </tbody>\n",
       "</table>\n",
       "</div>"
      ],
      "text/plain": [
       "특성   지역     2015     2010     2005     2000  2010-2015 증가율\n",
       "도시                                                        \n",
       "서울  수도권  9904312  9631482  9762546  9853972         0.0283\n",
       "부산  경상권  3448737  3393191  3512547  3655437         0.0163\n",
       "인천  수도권  2890451  2632035  2517680  2466338         0.0982\n",
       "대구  경상권  2466052  2431774  2456016  2473990         0.0141"
      ]
     },
     "execution_count": 327,
     "metadata": {},
     "output_type": "execute_result"
    }
   ],
   "source": [
    "df.index.name = \"도시\"\n",
    "df.columns.name = \"특성\"\n",
    "df"
   ]
  },
  {
   "cell_type": "markdown",
   "id": "68edfcd9-e745-4bac-a72b-0d394e9435ae",
   "metadata": {},
   "source": [
    "# 연습문제  "
   ]
  },
  {
   "cell_type": "markdown",
   "id": "4b97745f-56ee-43dd-9c16-524543c7bbb2",
   "metadata": {},
   "source": [
    "- 인터넷 서핑을 통해 데이터를 얻고, DataFrame 만들기 "
   ]
  },
  {
   "cell_type": "markdown",
   "id": "5f4ed65d-0e5e-4535-a958-39151005cc35",
   "metadata": {},
   "source": [
    "1) column의 개수와 row의 개수가 각각 4개 이상  \n",
    "2) column에는 정수, 문자열, 실수 자료형 데이터가 각각 1개 이상씩 포함"
   ]
  },
  {
   "cell_type": "code",
   "execution_count": 161,
   "id": "3ec754ef-75d5-4277-89fb-cb243ad0ef94",
   "metadata": {},
   "outputs": [
    {
     "data": {
      "text/html": [
       "<div>\n",
       "<style scoped>\n",
       "    .dataframe tbody tr th:only-of-type {\n",
       "        vertical-align: middle;\n",
       "    }\n",
       "\n",
       "    .dataframe tbody tr th {\n",
       "        vertical-align: top;\n",
       "    }\n",
       "\n",
       "    .dataframe thead th {\n",
       "        text-align: right;\n",
       "    }\n",
       "</style>\n",
       "<table border=\"1\" class=\"dataframe\">\n",
       "  <thead>\n",
       "    <tr style=\"text-align: right;\">\n",
       "      <th></th>\n",
       "      <th>안양 날씨</th>\n",
       "      <th>최고온도</th>\n",
       "      <th>최저온도</th>\n",
       "      <th>미세먼지</th>\n",
       "      <th>체감온도</th>\n",
       "    </tr>\n",
       "  </thead>\n",
       "  <tbody>\n",
       "    <tr>\n",
       "      <th>1월 18일</th>\n",
       "      <td>맑음</td>\n",
       "      <td>2</td>\n",
       "      <td>-3</td>\n",
       "      <td>나쁨</td>\n",
       "      <td>-1.2</td>\n",
       "    </tr>\n",
       "    <tr>\n",
       "      <th>1월 19일</th>\n",
       "      <td>눈</td>\n",
       "      <td>5</td>\n",
       "      <td>-4</td>\n",
       "      <td>나쁨</td>\n",
       "      <td>-3.6</td>\n",
       "    </tr>\n",
       "    <tr>\n",
       "      <th>1월 20일</th>\n",
       "      <td>맑음</td>\n",
       "      <td>-1</td>\n",
       "      <td>-2</td>\n",
       "      <td>나쁨</td>\n",
       "      <td>-1.3</td>\n",
       "    </tr>\n",
       "    <tr>\n",
       "      <th>1월 21일</th>\n",
       "      <td>눈</td>\n",
       "      <td>-1</td>\n",
       "      <td>-10</td>\n",
       "      <td>좋음</td>\n",
       "      <td>-12.0</td>\n",
       "    </tr>\n",
       "  </tbody>\n",
       "</table>\n",
       "</div>"
      ],
      "text/plain": [
       "       안양 날씨  최고온도  최저온도 미세먼지  체감온도\n",
       "1월 18일    맑음     2    -3   나쁨  -1.2\n",
       "1월 19일     눈     5    -4   나쁨  -3.6\n",
       "1월 20일    맑음    -1    -2   나쁨  -1.3\n",
       "1월 21일     눈    -1   -10   좋음 -12.0"
      ]
     },
     "execution_count": 161,
     "metadata": {},
     "output_type": "execute_result"
    }
   ],
   "source": [
    "data = {'안양 날씨' :['맑음','눈','맑음','눈'],\n",
    "        '최고온도' :[2,5,-1,-1],\n",
    "        '최저온도':[-3,-4, -2, -10 ],\n",
    "        '미세먼지':['나쁨', '나쁨', '나쁨', '좋음' ],\n",
    "        '체감온도': [-1.2, -3.6, -1.3, -12]}\n",
    "\n",
    "data_f = pd.DataFrame(data, columns=['안양 날씨','최고온도','최저온도', '미세먼지','체감온도'], \n",
    "                      index = [\"1월 18일\", \"1월 19일\", \"1월 20일\", \"1월 21일\"])\n",
    "data_f"
   ]
  },
  {
   "cell_type": "markdown",
   "id": "6813bae4-856f-49f9-8518-dce7d2521148",
   "metadata": {},
   "source": [
    "## DataFrame 전치(Transpose) ##"
   ]
  },
  {
   "cell_type": "markdown",
   "id": "fa625a8d-d6ae-49a0-aa75-167d235b977e",
   "metadata": {},
   "source": [
    "- DataFrame은 전치를 포함하여 넘파이 2차원 배열이 가지는 대부분의 속성이나 메서드 지원"
   ]
  },
  {
   "cell_type": "code",
   "execution_count": 328,
   "id": "377e483b-4b7e-461b-a62e-bdf995f3aab1",
   "metadata": {},
   "outputs": [
    {
     "data": {
      "text/html": [
       "<div>\n",
       "<style scoped>\n",
       "    .dataframe tbody tr th:only-of-type {\n",
       "        vertical-align: middle;\n",
       "    }\n",
       "\n",
       "    .dataframe tbody tr th {\n",
       "        vertical-align: top;\n",
       "    }\n",
       "\n",
       "    .dataframe thead th {\n",
       "        text-align: right;\n",
       "    }\n",
       "</style>\n",
       "<table border=\"1\" class=\"dataframe\">\n",
       "  <thead>\n",
       "    <tr style=\"text-align: right;\">\n",
       "      <th>특성</th>\n",
       "      <th>지역</th>\n",
       "      <th>2015</th>\n",
       "      <th>2010</th>\n",
       "      <th>2005</th>\n",
       "      <th>2000</th>\n",
       "      <th>2010-2015 증가율</th>\n",
       "    </tr>\n",
       "    <tr>\n",
       "      <th>도시</th>\n",
       "      <th></th>\n",
       "      <th></th>\n",
       "      <th></th>\n",
       "      <th></th>\n",
       "      <th></th>\n",
       "      <th></th>\n",
       "    </tr>\n",
       "  </thead>\n",
       "  <tbody>\n",
       "    <tr>\n",
       "      <th>서울</th>\n",
       "      <td>수도권</td>\n",
       "      <td>9904312</td>\n",
       "      <td>9631482</td>\n",
       "      <td>9762546</td>\n",
       "      <td>9853972</td>\n",
       "      <td>0.0283</td>\n",
       "    </tr>\n",
       "    <tr>\n",
       "      <th>부산</th>\n",
       "      <td>경상권</td>\n",
       "      <td>3448737</td>\n",
       "      <td>3393191</td>\n",
       "      <td>3512547</td>\n",
       "      <td>3655437</td>\n",
       "      <td>0.0163</td>\n",
       "    </tr>\n",
       "    <tr>\n",
       "      <th>인천</th>\n",
       "      <td>수도권</td>\n",
       "      <td>2890451</td>\n",
       "      <td>2632035</td>\n",
       "      <td>2517680</td>\n",
       "      <td>2466338</td>\n",
       "      <td>0.0982</td>\n",
       "    </tr>\n",
       "    <tr>\n",
       "      <th>대구</th>\n",
       "      <td>경상권</td>\n",
       "      <td>2466052</td>\n",
       "      <td>2431774</td>\n",
       "      <td>2456016</td>\n",
       "      <td>2473990</td>\n",
       "      <td>0.0141</td>\n",
       "    </tr>\n",
       "  </tbody>\n",
       "</table>\n",
       "</div>"
      ],
      "text/plain": [
       "특성   지역     2015     2010     2005     2000  2010-2015 증가율\n",
       "도시                                                        \n",
       "서울  수도권  9904312  9631482  9762546  9853972         0.0283\n",
       "부산  경상권  3448737  3393191  3512547  3655437         0.0163\n",
       "인천  수도권  2890451  2632035  2517680  2466338         0.0982\n",
       "대구  경상권  2466052  2431774  2456016  2473990         0.0141"
      ]
     },
     "execution_count": 328,
     "metadata": {},
     "output_type": "execute_result"
    }
   ],
   "source": [
    "df"
   ]
  },
  {
   "cell_type": "code",
   "execution_count": 329,
   "id": "99b8f92c-1b47-4710-937c-6a71a39e5c08",
   "metadata": {},
   "outputs": [
    {
     "data": {
      "text/html": [
       "<div>\n",
       "<style scoped>\n",
       "    .dataframe tbody tr th:only-of-type {\n",
       "        vertical-align: middle;\n",
       "    }\n",
       "\n",
       "    .dataframe tbody tr th {\n",
       "        vertical-align: top;\n",
       "    }\n",
       "\n",
       "    .dataframe thead th {\n",
       "        text-align: right;\n",
       "    }\n",
       "</style>\n",
       "<table border=\"1\" class=\"dataframe\">\n",
       "  <thead>\n",
       "    <tr style=\"text-align: right;\">\n",
       "      <th>도시</th>\n",
       "      <th>서울</th>\n",
       "      <th>부산</th>\n",
       "      <th>인천</th>\n",
       "      <th>대구</th>\n",
       "    </tr>\n",
       "    <tr>\n",
       "      <th>특성</th>\n",
       "      <th></th>\n",
       "      <th></th>\n",
       "      <th></th>\n",
       "      <th></th>\n",
       "    </tr>\n",
       "  </thead>\n",
       "  <tbody>\n",
       "    <tr>\n",
       "      <th>지역</th>\n",
       "      <td>수도권</td>\n",
       "      <td>경상권</td>\n",
       "      <td>수도권</td>\n",
       "      <td>경상권</td>\n",
       "    </tr>\n",
       "    <tr>\n",
       "      <th>2015</th>\n",
       "      <td>9904312</td>\n",
       "      <td>3448737</td>\n",
       "      <td>2890451</td>\n",
       "      <td>2466052</td>\n",
       "    </tr>\n",
       "    <tr>\n",
       "      <th>2010</th>\n",
       "      <td>9631482</td>\n",
       "      <td>3393191</td>\n",
       "      <td>2632035</td>\n",
       "      <td>2431774</td>\n",
       "    </tr>\n",
       "    <tr>\n",
       "      <th>2005</th>\n",
       "      <td>9762546</td>\n",
       "      <td>3512547</td>\n",
       "      <td>2517680</td>\n",
       "      <td>2456016</td>\n",
       "    </tr>\n",
       "    <tr>\n",
       "      <th>2000</th>\n",
       "      <td>9853972</td>\n",
       "      <td>3655437</td>\n",
       "      <td>2466338</td>\n",
       "      <td>2473990</td>\n",
       "    </tr>\n",
       "    <tr>\n",
       "      <th>2010-2015 증가율</th>\n",
       "      <td>0.0283</td>\n",
       "      <td>0.0163</td>\n",
       "      <td>0.0982</td>\n",
       "      <td>0.0141</td>\n",
       "    </tr>\n",
       "  </tbody>\n",
       "</table>\n",
       "</div>"
      ],
      "text/plain": [
       "도시                  서울       부산       인천       대구\n",
       "특성                                               \n",
       "지역                 수도권      경상권      수도권      경상권\n",
       "2015           9904312  3448737  2890451  2466052\n",
       "2010           9631482  3393191  2632035  2431774\n",
       "2005           9762546  3512547  2517680  2456016\n",
       "2000           9853972  3655437  2466338  2473990\n",
       "2010-2015 증가율   0.0283   0.0163   0.0982   0.0141"
      ]
     },
     "execution_count": 329,
     "metadata": {},
     "output_type": "execute_result"
    }
   ],
   "source": [
    "df.T"
   ]
  },
  {
   "cell_type": "markdown",
   "id": "74c4f61d-b754-4223-96d1-5824201e1a52",
   "metadata": {},
   "source": [
    "# DataFrame column 추가, 갱신, 삭제 #"
   ]
  },
  {
   "cell_type": "markdown",
   "id": "68b0d26b-12f0-42db-a30e-d08a78bbdd6e",
   "metadata": {},
   "source": [
    ">DataFrame은 column을 Series의 딕셔너리로 볼 수 있음  \n",
    ">즉 column단위로 데이터를 갱신하거나 추가, 삭제 가능"
   ]
  },
  {
   "cell_type": "markdown",
   "id": "73f27295-1e00-48f9-be3d-d3f6fb1eea9a",
   "metadata": {},
   "source": [
    "- ## 갱신하기 ##"
   ]
  },
  {
   "cell_type": "code",
   "execution_count": 170,
   "id": "0f475461-a056-45bf-80a7-4ed4ebece4e5",
   "metadata": {},
   "outputs": [],
   "source": [
    "# 2010-2015 증가율이라는 이름을 갱신"
   ]
  },
  {
   "cell_type": "code",
   "execution_count": 183,
   "id": "644e6952-0e4a-4438-9e1d-65f3049a1002",
   "metadata": {},
   "outputs": [
    {
     "data": {
      "text/html": [
       "<div>\n",
       "<style scoped>\n",
       "    .dataframe tbody tr th:only-of-type {\n",
       "        vertical-align: middle;\n",
       "    }\n",
       "\n",
       "    .dataframe tbody tr th {\n",
       "        vertical-align: top;\n",
       "    }\n",
       "\n",
       "    .dataframe thead th {\n",
       "        text-align: right;\n",
       "    }\n",
       "</style>\n",
       "<table border=\"1\" class=\"dataframe\">\n",
       "  <thead>\n",
       "    <tr style=\"text-align: right;\">\n",
       "      <th>특성</th>\n",
       "      <th>지역</th>\n",
       "      <th>2015</th>\n",
       "      <th>2010</th>\n",
       "      <th>2005</th>\n",
       "      <th>2000</th>\n",
       "      <th>2010-2015 증가율</th>\n",
       "      <th>2010 - 2015 증가율</th>\n",
       "    </tr>\n",
       "    <tr>\n",
       "      <th>도시</th>\n",
       "      <th></th>\n",
       "      <th></th>\n",
       "      <th></th>\n",
       "      <th></th>\n",
       "      <th></th>\n",
       "      <th></th>\n",
       "      <th></th>\n",
       "    </tr>\n",
       "  </thead>\n",
       "  <tbody>\n",
       "    <tr>\n",
       "      <th>서울</th>\n",
       "      <td>수도권</td>\n",
       "      <td>9904312</td>\n",
       "      <td>9631482</td>\n",
       "      <td>9762546</td>\n",
       "      <td>9853972</td>\n",
       "      <td>2.83</td>\n",
       "      <td>9631380.55</td>\n",
       "    </tr>\n",
       "    <tr>\n",
       "      <th>부산</th>\n",
       "      <td>경상권</td>\n",
       "      <td>3448737</td>\n",
       "      <td>3393191</td>\n",
       "      <td>3512547</td>\n",
       "      <td>3655437</td>\n",
       "      <td>1.63</td>\n",
       "      <td>3393092.82</td>\n",
       "    </tr>\n",
       "    <tr>\n",
       "      <th>인천</th>\n",
       "      <td>수도권</td>\n",
       "      <td>2890451</td>\n",
       "      <td>2632035</td>\n",
       "      <td>2517680</td>\n",
       "      <td>2466338</td>\n",
       "      <td>9.82</td>\n",
       "      <td>2631920.19</td>\n",
       "    </tr>\n",
       "    <tr>\n",
       "      <th>대구</th>\n",
       "      <td>경상권</td>\n",
       "      <td>2466052</td>\n",
       "      <td>2431774</td>\n",
       "      <td>2456016</td>\n",
       "      <td>2473990</td>\n",
       "      <td>1.41</td>\n",
       "      <td>2431673.59</td>\n",
       "    </tr>\n",
       "  </tbody>\n",
       "</table>\n",
       "</div>"
      ],
      "text/plain": [
       "특성   지역     2015     2010     2005     2000  2010-2015 증가율  2010 - 2015 증가율\n",
       "도시                                                                         \n",
       "서울  수도권  9904312  9631482  9762546  9853972           2.83       9631380.55\n",
       "부산  경상권  3448737  3393191  3512547  3655437           1.63       3393092.82\n",
       "인천  수도권  2890451  2632035  2517680  2466338           9.82       2631920.19\n",
       "대구  경상권  2466052  2431774  2456016  2473990           1.41       2431673.59"
      ]
     },
     "execution_count": 183,
     "metadata": {},
     "output_type": "execute_result"
    }
   ],
   "source": [
    "df[\"2010-2015 증가율\"]=df[\"2010-2015 증가율\"] * 100\n",
    "df"
   ]
  },
  {
   "cell_type": "markdown",
   "id": "33e27063-8017-44e1-9df0-e689021b817e",
   "metadata": {},
   "source": [
    "- ## 추가하기 ##"
   ]
  },
  {
   "cell_type": "code",
   "execution_count": 172,
   "id": "4debdd04-fe2d-49b9-a86a-17e96da0a376",
   "metadata": {},
   "outputs": [
    {
     "data": {
      "text/html": [
       "<div>\n",
       "<style scoped>\n",
       "    .dataframe tbody tr th:only-of-type {\n",
       "        vertical-align: middle;\n",
       "    }\n",
       "\n",
       "    .dataframe tbody tr th {\n",
       "        vertical-align: top;\n",
       "    }\n",
       "\n",
       "    .dataframe thead th {\n",
       "        text-align: right;\n",
       "    }\n",
       "</style>\n",
       "<table border=\"1\" class=\"dataframe\">\n",
       "  <thead>\n",
       "    <tr style=\"text-align: right;\">\n",
       "      <th>특성</th>\n",
       "      <th>지역</th>\n",
       "      <th>2015</th>\n",
       "      <th>2010</th>\n",
       "      <th>2005</th>\n",
       "      <th>2000</th>\n",
       "      <th>2010-2015 증가율</th>\n",
       "      <th>2010 - 2015 증가율</th>\n",
       "    </tr>\n",
       "    <tr>\n",
       "      <th>도시</th>\n",
       "      <th></th>\n",
       "      <th></th>\n",
       "      <th></th>\n",
       "      <th></th>\n",
       "      <th></th>\n",
       "      <th></th>\n",
       "      <th></th>\n",
       "    </tr>\n",
       "  </thead>\n",
       "  <tbody>\n",
       "    <tr>\n",
       "      <th>서울</th>\n",
       "      <td>수도권</td>\n",
       "      <td>9904312</td>\n",
       "      <td>9631482</td>\n",
       "      <td>9762546</td>\n",
       "      <td>9853972</td>\n",
       "      <td>0.0283</td>\n",
       "      <td>9631380.55</td>\n",
       "    </tr>\n",
       "    <tr>\n",
       "      <th>부산</th>\n",
       "      <td>경상권</td>\n",
       "      <td>3448737</td>\n",
       "      <td>3393191</td>\n",
       "      <td>3512547</td>\n",
       "      <td>3655437</td>\n",
       "      <td>0.0163</td>\n",
       "      <td>3393092.82</td>\n",
       "    </tr>\n",
       "    <tr>\n",
       "      <th>인천</th>\n",
       "      <td>수도권</td>\n",
       "      <td>2890451</td>\n",
       "      <td>2632035</td>\n",
       "      <td>2517680</td>\n",
       "      <td>2466338</td>\n",
       "      <td>0.0982</td>\n",
       "      <td>2631920.19</td>\n",
       "    </tr>\n",
       "    <tr>\n",
       "      <th>대구</th>\n",
       "      <td>경상권</td>\n",
       "      <td>2466052</td>\n",
       "      <td>2431774</td>\n",
       "      <td>2456016</td>\n",
       "      <td>2473990</td>\n",
       "      <td>0.0141</td>\n",
       "      <td>2431673.59</td>\n",
       "    </tr>\n",
       "  </tbody>\n",
       "</table>\n",
       "</div>"
      ],
      "text/plain": [
       "특성   지역     2015     2010     2005     2000  2010-2015 증가율  2010 - 2015 증가율\n",
       "도시                                                                         \n",
       "서울  수도권  9904312  9631482  9762546  9853972         0.0283       9631380.55\n",
       "부산  경상권  3448737  3393191  3512547  3655437         0.0163       3393092.82\n",
       "인천  수도권  2890451  2632035  2517680  2466338         0.0982       2631920.19\n",
       "대구  경상권  2466052  2431774  2456016  2473990         0.0141       2431673.59"
      ]
     },
     "execution_count": 172,
     "metadata": {},
     "output_type": "execute_result"
    }
   ],
   "source": [
    "df[\"2010 - 2015 증가율\"]=(df[\"2010\"] - df[\"2015\"] / df[\"2005\"] * 100).round(2)\n",
    "df"
   ]
  },
  {
   "cell_type": "markdown",
   "id": "027c235a-c35e-424f-89fe-e12168986a4d",
   "metadata": {},
   "source": [
    "- ## 삭제하기 ##"
   ]
  },
  {
   "cell_type": "code",
   "execution_count": 184,
   "id": "0576238b-13e5-4ede-81a3-a9049d8c6c3d",
   "metadata": {},
   "outputs": [
    {
     "data": {
      "text/html": [
       "<div>\n",
       "<style scoped>\n",
       "    .dataframe tbody tr th:only-of-type {\n",
       "        vertical-align: middle;\n",
       "    }\n",
       "\n",
       "    .dataframe tbody tr th {\n",
       "        vertical-align: top;\n",
       "    }\n",
       "\n",
       "    .dataframe thead th {\n",
       "        text-align: right;\n",
       "    }\n",
       "</style>\n",
       "<table border=\"1\" class=\"dataframe\">\n",
       "  <thead>\n",
       "    <tr style=\"text-align: right;\">\n",
       "      <th>특성</th>\n",
       "      <th>지역</th>\n",
       "      <th>2015</th>\n",
       "      <th>2010</th>\n",
       "      <th>2005</th>\n",
       "      <th>2000</th>\n",
       "      <th>2010 - 2015 증가율</th>\n",
       "    </tr>\n",
       "    <tr>\n",
       "      <th>도시</th>\n",
       "      <th></th>\n",
       "      <th></th>\n",
       "      <th></th>\n",
       "      <th></th>\n",
       "      <th></th>\n",
       "      <th></th>\n",
       "    </tr>\n",
       "  </thead>\n",
       "  <tbody>\n",
       "    <tr>\n",
       "      <th>서울</th>\n",
       "      <td>수도권</td>\n",
       "      <td>9904312</td>\n",
       "      <td>9631482</td>\n",
       "      <td>9762546</td>\n",
       "      <td>9853972</td>\n",
       "      <td>9631380.55</td>\n",
       "    </tr>\n",
       "    <tr>\n",
       "      <th>부산</th>\n",
       "      <td>경상권</td>\n",
       "      <td>3448737</td>\n",
       "      <td>3393191</td>\n",
       "      <td>3512547</td>\n",
       "      <td>3655437</td>\n",
       "      <td>3393092.82</td>\n",
       "    </tr>\n",
       "    <tr>\n",
       "      <th>인천</th>\n",
       "      <td>수도권</td>\n",
       "      <td>2890451</td>\n",
       "      <td>2632035</td>\n",
       "      <td>2517680</td>\n",
       "      <td>2466338</td>\n",
       "      <td>2631920.19</td>\n",
       "    </tr>\n",
       "    <tr>\n",
       "      <th>대구</th>\n",
       "      <td>경상권</td>\n",
       "      <td>2466052</td>\n",
       "      <td>2431774</td>\n",
       "      <td>2456016</td>\n",
       "      <td>2473990</td>\n",
       "      <td>2431673.59</td>\n",
       "    </tr>\n",
       "  </tbody>\n",
       "</table>\n",
       "</div>"
      ],
      "text/plain": [
       "특성   지역     2015     2010     2005     2000  2010 - 2015 증가율\n",
       "도시                                                          \n",
       "서울  수도권  9904312  9631482  9762546  9853972       9631380.55\n",
       "부산  경상권  3448737  3393191  3512547  3655437       3393092.82\n",
       "인천  수도권  2890451  2632035  2517680  2466338       2631920.19\n",
       "대구  경상권  2466052  2431774  2456016  2473990       2431673.59"
      ]
     },
     "execution_count": 184,
     "metadata": {},
     "output_type": "execute_result"
    }
   ],
   "source": [
    "del df[\"2010-2015 증가율\"]\n",
    "df"
   ]
  },
  {
   "cell_type": "markdown",
   "id": "7625b52c-cd98-48aa-b79f-f9969304d5f3",
   "metadata": {},
   "source": [
    "## DataFrame column 인덱싱 ##"
   ]
  },
  {
   "cell_type": "markdown",
   "id": "afb80f0a-97d5-42f2-8dda-96fff3a64f04",
   "metadata": {},
   "source": [
    ">DataFrame을 인덱싱 할때도 column label을 키로 생각하려 인덱싱  \n",
    ">index로 label 값 하나만 넣으면 Series 객체 반환"
   ]
  },
  {
   "cell_type": "code",
   "execution_count": 177,
   "id": "39abc72f-29c2-41dd-a6d5-983d1a0bcc00",
   "metadata": {},
   "outputs": [
    {
     "data": {
      "text/plain": [
       "도시\n",
       "서울    수도권\n",
       "부산    경상권\n",
       "인천    수도권\n",
       "대구    경상권\n",
       "Name: 지역, dtype: object"
      ]
     },
     "execution_count": 177,
     "metadata": {},
     "output_type": "execute_result"
    }
   ],
   "source": [
    "df[\"지역\"]"
   ]
  },
  {
   "cell_type": "markdown",
   "id": "6886e6b4-7dcc-4841-8fde-ec97fb03271d",
   "metadata": {},
   "source": [
    "> index로 label 값을 하나의 column만 넣으면 Series 객체 반환"
   ]
  },
  {
   "cell_type": "code",
   "execution_count": 180,
   "id": "4df79099-9b3b-485d-bbc8-38978c704353",
   "metadata": {},
   "outputs": [
    {
     "data": {
      "text/plain": [
       "도시\n",
       "서울    9631482\n",
       "부산    3393191\n",
       "인천    2632035\n",
       "대구    2431774\n",
       "Name: 2010, dtype: int64"
      ]
     },
     "execution_count": 180,
     "metadata": {},
     "output_type": "execute_result"
    }
   ],
   "source": [
    "df['2010']"
   ]
  },
  {
   "cell_type": "markdown",
   "id": "bdb5edbd-93be-41a3-846b-c88021d7ff20",
   "metadata": {},
   "source": [
    "> label의 배열 또는 리스트로 인덱싱하면 DataFrame 타입 반환"
   ]
  },
  {
   "cell_type": "code",
   "execution_count": 182,
   "id": "b3ae02fd-0926-434f-8ff9-7762b2c5ebac",
   "metadata": {},
   "outputs": [
    {
     "data": {
      "text/html": [
       "<div>\n",
       "<style scoped>\n",
       "    .dataframe tbody tr th:only-of-type {\n",
       "        vertical-align: middle;\n",
       "    }\n",
       "\n",
       "    .dataframe tbody tr th {\n",
       "        vertical-align: top;\n",
       "    }\n",
       "\n",
       "    .dataframe thead th {\n",
       "        text-align: right;\n",
       "    }\n",
       "</style>\n",
       "<table border=\"1\" class=\"dataframe\">\n",
       "  <thead>\n",
       "    <tr style=\"text-align: right;\">\n",
       "      <th>특성</th>\n",
       "      <th>2010</th>\n",
       "      <th>2015</th>\n",
       "    </tr>\n",
       "    <tr>\n",
       "      <th>도시</th>\n",
       "      <th></th>\n",
       "      <th></th>\n",
       "    </tr>\n",
       "  </thead>\n",
       "  <tbody>\n",
       "    <tr>\n",
       "      <th>서울</th>\n",
       "      <td>9631482</td>\n",
       "      <td>9904312</td>\n",
       "    </tr>\n",
       "    <tr>\n",
       "      <th>부산</th>\n",
       "      <td>3393191</td>\n",
       "      <td>3448737</td>\n",
       "    </tr>\n",
       "    <tr>\n",
       "      <th>인천</th>\n",
       "      <td>2632035</td>\n",
       "      <td>2890451</td>\n",
       "    </tr>\n",
       "    <tr>\n",
       "      <th>대구</th>\n",
       "      <td>2431774</td>\n",
       "      <td>2466052</td>\n",
       "    </tr>\n",
       "  </tbody>\n",
       "</table>\n",
       "</div>"
      ],
      "text/plain": [
       "특성     2010     2015\n",
       "도시                  \n",
       "서울  9631482  9904312\n",
       "부산  3393191  3448737\n",
       "인천  2632035  2890451\n",
       "대구  2431774  2466052"
      ]
     },
     "execution_count": 182,
     "metadata": {},
     "output_type": "execute_result"
    }
   ],
   "source": [
    "df[[\"2010\", \"2015\"]]"
   ]
  },
  {
   "cell_type": "markdown",
   "id": "13375758-0af7-4bf9-bc6a-a58c8f5b19bb",
   "metadata": {},
   "source": [
    "> 하나의 column 만 뺴내어도 DataFrame 자료형 유지하고 싶다면 요소가 하나인 리스트 자료형을 사용하여 인덱싱"
   ]
  },
  {
   "cell_type": "code",
   "execution_count": 187,
   "id": "c2b8fcf5-4165-4dd4-bbb6-9d289ab6807d",
   "metadata": {},
   "outputs": [
    {
     "data": {
      "text/html": [
       "<div>\n",
       "<style scoped>\n",
       "    .dataframe tbody tr th:only-of-type {\n",
       "        vertical-align: middle;\n",
       "    }\n",
       "\n",
       "    .dataframe tbody tr th {\n",
       "        vertical-align: top;\n",
       "    }\n",
       "\n",
       "    .dataframe thead th {\n",
       "        text-align: right;\n",
       "    }\n",
       "</style>\n",
       "<table border=\"1\" class=\"dataframe\">\n",
       "  <thead>\n",
       "    <tr style=\"text-align: right;\">\n",
       "      <th>특성</th>\n",
       "      <th>2010</th>\n",
       "    </tr>\n",
       "    <tr>\n",
       "      <th>도시</th>\n",
       "      <th></th>\n",
       "    </tr>\n",
       "  </thead>\n",
       "  <tbody>\n",
       "    <tr>\n",
       "      <th>서울</th>\n",
       "      <td>9631482</td>\n",
       "    </tr>\n",
       "    <tr>\n",
       "      <th>부산</th>\n",
       "      <td>3393191</td>\n",
       "    </tr>\n",
       "    <tr>\n",
       "      <th>인천</th>\n",
       "      <td>2632035</td>\n",
       "    </tr>\n",
       "    <tr>\n",
       "      <th>대구</th>\n",
       "      <td>2431774</td>\n",
       "    </tr>\n",
       "  </tbody>\n",
       "</table>\n",
       "</div>"
      ],
      "text/plain": [
       "특성     2010\n",
       "도시         \n",
       "서울  9631482\n",
       "부산  3393191\n",
       "인천  2632035\n",
       "대구  2431774"
      ]
     },
     "execution_count": 187,
     "metadata": {},
     "output_type": "execute_result"
    }
   ],
   "source": [
    "df[[\"2010\"]]"
   ]
  },
  {
   "cell_type": "markdown",
   "id": "9da8735c-bd3a-4f2f-822c-d0a647ab7652",
   "metadata": {},
   "source": [
    ">문자열 table 일때는 순서를 나타내는 정수 index를 column 인덱싱에 사용 X  \n",
    ">column index가 문자열인데 정수 index를 넣으면 KeyError 오류가 발생"
   ]
  },
  {
   "cell_type": "markdown",
   "id": "ddadb657-5484-4674-a6e3-a211e906136d",
   "metadata": {},
   "source": [
    "> 원래부터 문자열이 아닌 정수형 column index를 가지는 경우에는 index 값으로 정수를 사용 가능"
   ]
  },
  {
   "cell_type": "code",
   "execution_count": 190,
   "id": "2aff27c2-cb76-4d87-988b-78d66e1682b3",
   "metadata": {},
   "outputs": [
    {
     "data": {
      "text/html": [
       "<div>\n",
       "<style scoped>\n",
       "    .dataframe tbody tr th:only-of-type {\n",
       "        vertical-align: middle;\n",
       "    }\n",
       "\n",
       "    .dataframe tbody tr th {\n",
       "        vertical-align: top;\n",
       "    }\n",
       "\n",
       "    .dataframe thead th {\n",
       "        text-align: right;\n",
       "    }\n",
       "</style>\n",
       "<table border=\"1\" class=\"dataframe\">\n",
       "  <thead>\n",
       "    <tr style=\"text-align: right;\">\n",
       "      <th></th>\n",
       "      <th>0</th>\n",
       "      <th>1</th>\n",
       "      <th>2</th>\n",
       "      <th>3</th>\n",
       "    </tr>\n",
       "  </thead>\n",
       "  <tbody>\n",
       "    <tr>\n",
       "      <th>0</th>\n",
       "      <td>0</td>\n",
       "      <td>1</td>\n",
       "      <td>2</td>\n",
       "      <td>3</td>\n",
       "    </tr>\n",
       "    <tr>\n",
       "      <th>1</th>\n",
       "      <td>4</td>\n",
       "      <td>5</td>\n",
       "      <td>6</td>\n",
       "      <td>7</td>\n",
       "    </tr>\n",
       "    <tr>\n",
       "      <th>2</th>\n",
       "      <td>8</td>\n",
       "      <td>9</td>\n",
       "      <td>10</td>\n",
       "      <td>11</td>\n",
       "    </tr>\n",
       "  </tbody>\n",
       "</table>\n",
       "</div>"
      ],
      "text/plain": [
       "   0  1   2   3\n",
       "0  0  1   2   3\n",
       "1  4  5   6   7\n",
       "2  8  9  10  11"
      ]
     },
     "execution_count": 190,
     "metadata": {},
     "output_type": "execute_result"
    }
   ],
   "source": [
    "import numpy as np\n",
    "df2 = pd.DataFrame(np.arange(12).reshape(3, 4))\n",
    "df2"
   ]
  },
  {
   "cell_type": "code",
   "execution_count": 192,
   "id": "2b2d371a-ceba-45cd-9404-ac086ae82249",
   "metadata": {},
   "outputs": [
    {
     "data": {
      "text/plain": [
       "0     2\n",
       "1     6\n",
       "2    10\n",
       "Name: 2, dtype: int32"
      ]
     },
     "execution_count": 192,
     "metadata": {},
     "output_type": "execute_result"
    }
   ],
   "source": [
    "df2[2]"
   ]
  },
  {
   "cell_type": "code",
   "execution_count": 195,
   "id": "1ca77e43-f967-4940-9008-de54dd36a7e6",
   "metadata": {},
   "outputs": [
    {
     "data": {
      "text/html": [
       "<div>\n",
       "<style scoped>\n",
       "    .dataframe tbody tr th:only-of-type {\n",
       "        vertical-align: middle;\n",
       "    }\n",
       "\n",
       "    .dataframe tbody tr th {\n",
       "        vertical-align: top;\n",
       "    }\n",
       "\n",
       "    .dataframe thead th {\n",
       "        text-align: right;\n",
       "    }\n",
       "</style>\n",
       "<table border=\"1\" class=\"dataframe\">\n",
       "  <thead>\n",
       "    <tr style=\"text-align: right;\">\n",
       "      <th></th>\n",
       "      <th>1</th>\n",
       "      <th>2</th>\n",
       "    </tr>\n",
       "  </thead>\n",
       "  <tbody>\n",
       "    <tr>\n",
       "      <th>0</th>\n",
       "      <td>1</td>\n",
       "      <td>2</td>\n",
       "    </tr>\n",
       "    <tr>\n",
       "      <th>1</th>\n",
       "      <td>5</td>\n",
       "      <td>6</td>\n",
       "    </tr>\n",
       "    <tr>\n",
       "      <th>2</th>\n",
       "      <td>9</td>\n",
       "      <td>10</td>\n",
       "    </tr>\n",
       "  </tbody>\n",
       "</table>\n",
       "</div>"
      ],
      "text/plain": [
       "   1   2\n",
       "0  1   2\n",
       "1  5   6\n",
       "2  9  10"
      ]
     },
     "execution_count": 195,
     "metadata": {},
     "output_type": "execute_result"
    }
   ],
   "source": [
    "df2[[1, 2]]"
   ]
  },
  {
   "cell_type": "markdown",
   "id": "4589db96-0804-4601-b9e4-d999441ae529",
   "metadata": {},
   "source": [
    "# DataFrame row 슬라이싱"
   ]
  },
  {
   "cell_type": "markdown",
   "id": "6ee490e7-747a-4875-a7ea-7462037ac09c",
   "metadata": {},
   "source": [
    ">row 단위로 인덱싱을 하려면 항상 슬라이싱 필수  \n",
    ">index의 값이 문자 label이면 label 슬라이싱도 가능"
   ]
  },
  {
   "cell_type": "code",
   "execution_count": 198,
   "id": "1a3736ac-9aa8-4f49-a858-29cc2036ebbb",
   "metadata": {},
   "outputs": [
    {
     "data": {
      "text/html": [
       "<div>\n",
       "<style scoped>\n",
       "    .dataframe tbody tr th:only-of-type {\n",
       "        vertical-align: middle;\n",
       "    }\n",
       "\n",
       "    .dataframe tbody tr th {\n",
       "        vertical-align: top;\n",
       "    }\n",
       "\n",
       "    .dataframe thead th {\n",
       "        text-align: right;\n",
       "    }\n",
       "</style>\n",
       "<table border=\"1\" class=\"dataframe\">\n",
       "  <thead>\n",
       "    <tr style=\"text-align: right;\">\n",
       "      <th>특성</th>\n",
       "      <th>지역</th>\n",
       "      <th>2015</th>\n",
       "      <th>2010</th>\n",
       "      <th>2005</th>\n",
       "      <th>2000</th>\n",
       "      <th>2010 - 2015 증가율</th>\n",
       "    </tr>\n",
       "    <tr>\n",
       "      <th>도시</th>\n",
       "      <th></th>\n",
       "      <th></th>\n",
       "      <th></th>\n",
       "      <th></th>\n",
       "      <th></th>\n",
       "      <th></th>\n",
       "    </tr>\n",
       "  </thead>\n",
       "  <tbody>\n",
       "    <tr>\n",
       "      <th>서울</th>\n",
       "      <td>수도권</td>\n",
       "      <td>9904312</td>\n",
       "      <td>9631482</td>\n",
       "      <td>9762546</td>\n",
       "      <td>9853972</td>\n",
       "      <td>9631380.55</td>\n",
       "    </tr>\n",
       "    <tr>\n",
       "      <th>부산</th>\n",
       "      <td>경상권</td>\n",
       "      <td>3448737</td>\n",
       "      <td>3393191</td>\n",
       "      <td>3512547</td>\n",
       "      <td>3655437</td>\n",
       "      <td>3393092.82</td>\n",
       "    </tr>\n",
       "    <tr>\n",
       "      <th>인천</th>\n",
       "      <td>수도권</td>\n",
       "      <td>2890451</td>\n",
       "      <td>2632035</td>\n",
       "      <td>2517680</td>\n",
       "      <td>2466338</td>\n",
       "      <td>2631920.19</td>\n",
       "    </tr>\n",
       "    <tr>\n",
       "      <th>대구</th>\n",
       "      <td>경상권</td>\n",
       "      <td>2466052</td>\n",
       "      <td>2431774</td>\n",
       "      <td>2456016</td>\n",
       "      <td>2473990</td>\n",
       "      <td>2431673.59</td>\n",
       "    </tr>\n",
       "  </tbody>\n",
       "</table>\n",
       "</div>"
      ],
      "text/plain": [
       "특성   지역     2015     2010     2005     2000  2010 - 2015 증가율\n",
       "도시                                                          \n",
       "서울  수도권  9904312  9631482  9762546  9853972       9631380.55\n",
       "부산  경상권  3448737  3393191  3512547  3655437       3393092.82\n",
       "인천  수도권  2890451  2632035  2517680  2466338       2631920.19\n",
       "대구  경상권  2466052  2431774  2456016  2473990       2431673.59"
      ]
     },
     "execution_count": 198,
     "metadata": {},
     "output_type": "execute_result"
    }
   ],
   "source": [
    "df #index가 \"서울\"이자 0이다"
   ]
  },
  {
   "cell_type": "code",
   "execution_count": 199,
   "id": "c18b0161-0623-477b-84fe-a10bc1669825",
   "metadata": {},
   "outputs": [
    {
     "data": {
      "text/html": [
       "<div>\n",
       "<style scoped>\n",
       "    .dataframe tbody tr th:only-of-type {\n",
       "        vertical-align: middle;\n",
       "    }\n",
       "\n",
       "    .dataframe tbody tr th {\n",
       "        vertical-align: top;\n",
       "    }\n",
       "\n",
       "    .dataframe thead th {\n",
       "        text-align: right;\n",
       "    }\n",
       "</style>\n",
       "<table border=\"1\" class=\"dataframe\">\n",
       "  <thead>\n",
       "    <tr style=\"text-align: right;\">\n",
       "      <th>특성</th>\n",
       "      <th>지역</th>\n",
       "      <th>2015</th>\n",
       "      <th>2010</th>\n",
       "      <th>2005</th>\n",
       "      <th>2000</th>\n",
       "      <th>2010 - 2015 증가율</th>\n",
       "    </tr>\n",
       "    <tr>\n",
       "      <th>도시</th>\n",
       "      <th></th>\n",
       "      <th></th>\n",
       "      <th></th>\n",
       "      <th></th>\n",
       "      <th></th>\n",
       "      <th></th>\n",
       "    </tr>\n",
       "  </thead>\n",
       "  <tbody>\n",
       "    <tr>\n",
       "      <th>서울</th>\n",
       "      <td>수도권</td>\n",
       "      <td>9904312</td>\n",
       "      <td>9631482</td>\n",
       "      <td>9762546</td>\n",
       "      <td>9853972</td>\n",
       "      <td>9631380.55</td>\n",
       "    </tr>\n",
       "  </tbody>\n",
       "</table>\n",
       "</div>"
      ],
      "text/plain": [
       "특성   지역     2015     2010     2005     2000  2010 - 2015 증가율\n",
       "도시                                                          \n",
       "서울  수도권  9904312  9631482  9762546  9853972       9631380.55"
      ]
     },
     "execution_count": 199,
     "metadata": {},
     "output_type": "execute_result"
    }
   ],
   "source": [
    "df[:1] # df[: \"서울\"] --> 문자는 포함, 숫자는 미포함러"
   ]
  },
  {
   "cell_type": "markdown",
   "id": "fb350653-46de-480d-b9ed-7e322d2aae25",
   "metadata": {},
   "source": [
    "- row가 부산인 결과만 보고 싶을 경우?"
   ]
  },
  {
   "cell_type": "code",
   "execution_count": 201,
   "id": "96d83b85-941c-44a2-a10c-7bf871477bb4",
   "metadata": {},
   "outputs": [
    {
     "data": {
      "text/html": [
       "<div>\n",
       "<style scoped>\n",
       "    .dataframe tbody tr th:only-of-type {\n",
       "        vertical-align: middle;\n",
       "    }\n",
       "\n",
       "    .dataframe tbody tr th {\n",
       "        vertical-align: top;\n",
       "    }\n",
       "\n",
       "    .dataframe thead th {\n",
       "        text-align: right;\n",
       "    }\n",
       "</style>\n",
       "<table border=\"1\" class=\"dataframe\">\n",
       "  <thead>\n",
       "    <tr style=\"text-align: right;\">\n",
       "      <th>특성</th>\n",
       "      <th>지역</th>\n",
       "      <th>2015</th>\n",
       "      <th>2010</th>\n",
       "      <th>2005</th>\n",
       "      <th>2000</th>\n",
       "      <th>2010 - 2015 증가율</th>\n",
       "    </tr>\n",
       "    <tr>\n",
       "      <th>도시</th>\n",
       "      <th></th>\n",
       "      <th></th>\n",
       "      <th></th>\n",
       "      <th></th>\n",
       "      <th></th>\n",
       "      <th></th>\n",
       "    </tr>\n",
       "  </thead>\n",
       "  <tbody>\n",
       "    <tr>\n",
       "      <th>부산</th>\n",
       "      <td>경상권</td>\n",
       "      <td>3448737</td>\n",
       "      <td>3393191</td>\n",
       "      <td>3512547</td>\n",
       "      <td>3655437</td>\n",
       "      <td>3393092.82</td>\n",
       "    </tr>\n",
       "  </tbody>\n",
       "</table>\n",
       "</div>"
      ],
      "text/plain": [
       "특성   지역     2015     2010     2005     2000  2010 - 2015 증가율\n",
       "도시                                                          \n",
       "부산  경상권  3448737  3393191  3512547  3655437       3393092.82"
      ]
     },
     "execution_count": 201,
     "metadata": {},
     "output_type": "execute_result"
    }
   ],
   "source": [
    "df[1:2] # 숫자 슬라이싱과 문자 슬라이싱의 결과가 다름을 꼭 인지"
   ]
  },
  {
   "cell_type": "code",
   "execution_count": 202,
   "id": "bc38281b-cfb3-4230-be08-bd7d5eec0d78",
   "metadata": {},
   "outputs": [
    {
     "data": {
      "text/html": [
       "<div>\n",
       "<style scoped>\n",
       "    .dataframe tbody tr th:only-of-type {\n",
       "        vertical-align: middle;\n",
       "    }\n",
       "\n",
       "    .dataframe tbody tr th {\n",
       "        vertical-align: top;\n",
       "    }\n",
       "\n",
       "    .dataframe thead th {\n",
       "        text-align: right;\n",
       "    }\n",
       "</style>\n",
       "<table border=\"1\" class=\"dataframe\">\n",
       "  <thead>\n",
       "    <tr style=\"text-align: right;\">\n",
       "      <th>특성</th>\n",
       "      <th>지역</th>\n",
       "      <th>2015</th>\n",
       "      <th>2010</th>\n",
       "      <th>2005</th>\n",
       "      <th>2000</th>\n",
       "      <th>2010 - 2015 증가율</th>\n",
       "    </tr>\n",
       "    <tr>\n",
       "      <th>도시</th>\n",
       "      <th></th>\n",
       "      <th></th>\n",
       "      <th></th>\n",
       "      <th></th>\n",
       "      <th></th>\n",
       "      <th></th>\n",
       "    </tr>\n",
       "  </thead>\n",
       "  <tbody>\n",
       "    <tr>\n",
       "      <th>부산</th>\n",
       "      <td>경상권</td>\n",
       "      <td>3448737</td>\n",
       "      <td>3393191</td>\n",
       "      <td>3512547</td>\n",
       "      <td>3655437</td>\n",
       "      <td>3393092.82</td>\n",
       "    </tr>\n",
       "  </tbody>\n",
       "</table>\n",
       "</div>"
      ],
      "text/plain": [
       "특성   지역     2015     2010     2005     2000  2010 - 2015 증가율\n",
       "도시                                                          \n",
       "부산  경상권  3448737  3393191  3512547  3655437       3393092.82"
      ]
     },
     "execution_count": 202,
     "metadata": {},
     "output_type": "execute_result"
    }
   ],
   "source": [
    "df[\"부산\":\"부산\"]"
   ]
  },
  {
   "cell_type": "code",
   "execution_count": 204,
   "id": "4683f808-b364-4a7e-a9ac-a52cde50adea",
   "metadata": {},
   "outputs": [
    {
     "ename": "KeyError",
     "evalue": "'서울'",
     "output_type": "error",
     "traceback": [
      "\u001b[1;31m---------------------------------------------------------------------------\u001b[0m",
      "\u001b[1;31mKeyError\u001b[0m                                  Traceback (most recent call last)",
      "\u001b[1;32mC:\\ProgramData\\Anaconda3\\lib\\site-packages\\pandas\\core\\indexes\\base.py\u001b[0m in \u001b[0;36mget_loc\u001b[1;34m(self, key, method, tolerance)\u001b[0m\n\u001b[0;32m   3628\u001b[0m             \u001b[1;32mtry\u001b[0m\u001b[1;33m:\u001b[0m\u001b[1;33m\u001b[0m\u001b[1;33m\u001b[0m\u001b[0m\n\u001b[1;32m-> 3629\u001b[1;33m                 \u001b[1;32mreturn\u001b[0m \u001b[0mself\u001b[0m\u001b[1;33m.\u001b[0m\u001b[0m_engine\u001b[0m\u001b[1;33m.\u001b[0m\u001b[0mget_loc\u001b[0m\u001b[1;33m(\u001b[0m\u001b[0mcasted_key\u001b[0m\u001b[1;33m)\u001b[0m\u001b[1;33m\u001b[0m\u001b[1;33m\u001b[0m\u001b[0m\n\u001b[0m\u001b[0;32m   3630\u001b[0m             \u001b[1;32mexcept\u001b[0m \u001b[0mKeyError\u001b[0m \u001b[1;32mas\u001b[0m \u001b[0merr\u001b[0m\u001b[1;33m:\u001b[0m\u001b[1;33m\u001b[0m\u001b[1;33m\u001b[0m\u001b[0m\n",
      "\u001b[1;32mC:\\ProgramData\\Anaconda3\\lib\\site-packages\\pandas\\_libs\\index.pyx\u001b[0m in \u001b[0;36mpandas._libs.index.IndexEngine.get_loc\u001b[1;34m()\u001b[0m\n",
      "\u001b[1;32mC:\\ProgramData\\Anaconda3\\lib\\site-packages\\pandas\\_libs\\index.pyx\u001b[0m in \u001b[0;36mpandas._libs.index.IndexEngine.get_loc\u001b[1;34m()\u001b[0m\n",
      "\u001b[1;32mpandas\\_libs\\hashtable_class_helper.pxi\u001b[0m in \u001b[0;36mpandas._libs.hashtable.PyObjectHashTable.get_item\u001b[1;34m()\u001b[0m\n",
      "\u001b[1;32mpandas\\_libs\\hashtable_class_helper.pxi\u001b[0m in \u001b[0;36mpandas._libs.hashtable.PyObjectHashTable.get_item\u001b[1;34m()\u001b[0m\n",
      "\u001b[1;31mKeyError\u001b[0m: '서울'",
      "\nThe above exception was the direct cause of the following exception:\n",
      "\u001b[1;31mKeyError\u001b[0m                                  Traceback (most recent call last)",
      "\u001b[1;32m~\\AppData\\Local\\Temp\\ipykernel_23852\\1663548822.py\u001b[0m in \u001b[0;36m<module>\u001b[1;34m\u001b[0m\n\u001b[1;32m----> 1\u001b[1;33m \u001b[0mdf\u001b[0m\u001b[1;33m[\u001b[0m\u001b[1;34m\"서울\"\u001b[0m\u001b[1;33m]\u001b[0m\u001b[1;33m\u001b[0m\u001b[1;33m\u001b[0m\u001b[0m\n\u001b[0m",
      "\u001b[1;32mC:\\ProgramData\\Anaconda3\\lib\\site-packages\\pandas\\core\\frame.py\u001b[0m in \u001b[0;36m__getitem__\u001b[1;34m(self, key)\u001b[0m\n\u001b[0;32m   3503\u001b[0m             \u001b[1;32mif\u001b[0m \u001b[0mself\u001b[0m\u001b[1;33m.\u001b[0m\u001b[0mcolumns\u001b[0m\u001b[1;33m.\u001b[0m\u001b[0mnlevels\u001b[0m \u001b[1;33m>\u001b[0m \u001b[1;36m1\u001b[0m\u001b[1;33m:\u001b[0m\u001b[1;33m\u001b[0m\u001b[1;33m\u001b[0m\u001b[0m\n\u001b[0;32m   3504\u001b[0m                 \u001b[1;32mreturn\u001b[0m \u001b[0mself\u001b[0m\u001b[1;33m.\u001b[0m\u001b[0m_getitem_multilevel\u001b[0m\u001b[1;33m(\u001b[0m\u001b[0mkey\u001b[0m\u001b[1;33m)\u001b[0m\u001b[1;33m\u001b[0m\u001b[1;33m\u001b[0m\u001b[0m\n\u001b[1;32m-> 3505\u001b[1;33m             \u001b[0mindexer\u001b[0m \u001b[1;33m=\u001b[0m \u001b[0mself\u001b[0m\u001b[1;33m.\u001b[0m\u001b[0mcolumns\u001b[0m\u001b[1;33m.\u001b[0m\u001b[0mget_loc\u001b[0m\u001b[1;33m(\u001b[0m\u001b[0mkey\u001b[0m\u001b[1;33m)\u001b[0m\u001b[1;33m\u001b[0m\u001b[1;33m\u001b[0m\u001b[0m\n\u001b[0m\u001b[0;32m   3506\u001b[0m             \u001b[1;32mif\u001b[0m \u001b[0mis_integer\u001b[0m\u001b[1;33m(\u001b[0m\u001b[0mindexer\u001b[0m\u001b[1;33m)\u001b[0m\u001b[1;33m:\u001b[0m\u001b[1;33m\u001b[0m\u001b[1;33m\u001b[0m\u001b[0m\n\u001b[0;32m   3507\u001b[0m                 \u001b[0mindexer\u001b[0m \u001b[1;33m=\u001b[0m \u001b[1;33m[\u001b[0m\u001b[0mindexer\u001b[0m\u001b[1;33m]\u001b[0m\u001b[1;33m\u001b[0m\u001b[1;33m\u001b[0m\u001b[0m\n",
      "\u001b[1;32mC:\\ProgramData\\Anaconda3\\lib\\site-packages\\pandas\\core\\indexes\\base.py\u001b[0m in \u001b[0;36mget_loc\u001b[1;34m(self, key, method, tolerance)\u001b[0m\n\u001b[0;32m   3629\u001b[0m                 \u001b[1;32mreturn\u001b[0m \u001b[0mself\u001b[0m\u001b[1;33m.\u001b[0m\u001b[0m_engine\u001b[0m\u001b[1;33m.\u001b[0m\u001b[0mget_loc\u001b[0m\u001b[1;33m(\u001b[0m\u001b[0mcasted_key\u001b[0m\u001b[1;33m)\u001b[0m\u001b[1;33m\u001b[0m\u001b[1;33m\u001b[0m\u001b[0m\n\u001b[0;32m   3630\u001b[0m             \u001b[1;32mexcept\u001b[0m \u001b[0mKeyError\u001b[0m \u001b[1;32mas\u001b[0m \u001b[0merr\u001b[0m\u001b[1;33m:\u001b[0m\u001b[1;33m\u001b[0m\u001b[1;33m\u001b[0m\u001b[0m\n\u001b[1;32m-> 3631\u001b[1;33m                 \u001b[1;32mraise\u001b[0m \u001b[0mKeyError\u001b[0m\u001b[1;33m(\u001b[0m\u001b[0mkey\u001b[0m\u001b[1;33m)\u001b[0m \u001b[1;32mfrom\u001b[0m \u001b[0merr\u001b[0m\u001b[1;33m\u001b[0m\u001b[1;33m\u001b[0m\u001b[0m\n\u001b[0m\u001b[0;32m   3632\u001b[0m             \u001b[1;32mexcept\u001b[0m \u001b[0mTypeError\u001b[0m\u001b[1;33m:\u001b[0m\u001b[1;33m\u001b[0m\u001b[1;33m\u001b[0m\u001b[0m\n\u001b[0;32m   3633\u001b[0m                 \u001b[1;31m# If we have a listlike key, _check_indexing_error will raise\u001b[0m\u001b[1;33m\u001b[0m\u001b[1;33m\u001b[0m\u001b[0m\n",
      "\u001b[1;31mKeyError\u001b[0m: '서울'"
     ]
    }
   ],
   "source": [
    "df[\"서울\"] #row 단위로 인덱싱하면 key error 오류가 발생"
   ]
  },
  {
   "cell_type": "markdown",
   "id": "dd964388-65dd-441a-824d-4e44346e4fa8",
   "metadata": {},
   "source": [
    "- column label로 인덱싱하면 Series가 된다. 이 Series를 다시 row label로 인덱싱하면 개별 데이터 나옴"
   ]
  },
  {
   "cell_type": "code",
   "execution_count": 206,
   "id": "b9eff9dc-1413-41db-9589-5926a07e2331",
   "metadata": {},
   "outputs": [
    {
     "data": {
      "text/plain": [
       "9904312"
      ]
     },
     "execution_count": 206,
     "metadata": {},
     "output_type": "execute_result"
    }
   ],
   "source": [
    "df[\"2015\"][\"서울\"]"
   ]
  },
  {
   "cell_type": "code",
   "execution_count": 208,
   "id": "ebed873b-19c9-4cfe-bdfd-e98779775ba6",
   "metadata": {},
   "outputs": [
    {
     "data": {
      "text/plain": [
       "numpy.int64"
      ]
     },
     "execution_count": 208,
     "metadata": {},
     "output_type": "execute_result"
    }
   ],
   "source": [
    "type(df[\"2015\"][\"서울\"])"
   ]
  },
  {
   "cell_type": "markdown",
   "id": "96fad572-ac7a-419a-a7aa-f431dbbd961a",
   "metadata": {},
   "source": [
    ">row label로 인덱싱하면 KeyError 발생  \n",
    ">굳이 row단위로 먼저 시도하려면 슬라이싱 해야함  \n",
    ">그 때 반환 타입은 DataFrame이 된다  \n",
    ">이 DataFrame을 다시 column label로 인덱싱하면 개별 데이터가 아닌 Seires 객체가 나옴 "
   ]
  },
  {
   "cell_type": "markdown",
   "id": "190ef69a-95d7-49fa-ada9-2c1b4fdfdaab",
   "metadata": {},
   "source": [
    "# 연습 문제 "
   ]
  },
  {
   "cell_type": "code",
   "execution_count": 335,
   "id": "f3ef3944-0d3c-4b68-9d03-bd7e4fb0c9f2",
   "metadata": {},
   "outputs": [],
   "source": [
    "data = {\n",
    "    \"국어\": [80, 90, 70, 30],\n",
    "    \"영어\": [90, 70, 60, 40],\n",
    "    \"수학\": [90, 60, 80, 70],\n",
    "}\n",
    "columns = [\"국어\", \"영어\", \"수학\"]\n",
    "index = [\"춘향\", \"몽룡\", \"향단\", \"방자\"]\n",
    "df = pd.DataFrame(data, index=index, columns=columns)"
   ]
  },
  {
   "cell_type": "code",
   "execution_count": 297,
   "id": "e0f553c8-aa0d-4ab4-80fd-86b70830b393",
   "metadata": {},
   "outputs": [
    {
     "data": {
      "text/html": [
       "<div>\n",
       "<style scoped>\n",
       "    .dataframe tbody tr th:only-of-type {\n",
       "        vertical-align: middle;\n",
       "    }\n",
       "\n",
       "    .dataframe tbody tr th {\n",
       "        vertical-align: top;\n",
       "    }\n",
       "\n",
       "    .dataframe thead th {\n",
       "        text-align: right;\n",
       "    }\n",
       "</style>\n",
       "<table border=\"1\" class=\"dataframe\">\n",
       "  <thead>\n",
       "    <tr style=\"text-align: right;\">\n",
       "      <th></th>\n",
       "      <th>국어</th>\n",
       "      <th>영어</th>\n",
       "      <th>수학</th>\n",
       "    </tr>\n",
       "  </thead>\n",
       "  <tbody>\n",
       "    <tr>\n",
       "      <th>춘향</th>\n",
       "      <td>80</td>\n",
       "      <td>90</td>\n",
       "      <td>90</td>\n",
       "    </tr>\n",
       "    <tr>\n",
       "      <th>몽룡</th>\n",
       "      <td>90</td>\n",
       "      <td>70</td>\n",
       "      <td>60</td>\n",
       "    </tr>\n",
       "    <tr>\n",
       "      <th>향단</th>\n",
       "      <td>70</td>\n",
       "      <td>60</td>\n",
       "      <td>80</td>\n",
       "    </tr>\n",
       "    <tr>\n",
       "      <th>방자</th>\n",
       "      <td>30</td>\n",
       "      <td>40</td>\n",
       "      <td>70</td>\n",
       "    </tr>\n",
       "  </tbody>\n",
       "</table>\n",
       "</div>"
      ],
      "text/plain": [
       "    국어  영어  수학\n",
       "춘향  80  90  90\n",
       "몽룡  90  70  60\n",
       "향단  70  60  80\n",
       "방자  30  40  70"
      ]
     },
     "execution_count": 297,
     "metadata": {},
     "output_type": "execute_result"
    }
   ],
   "source": [
    "df "
   ]
  },
  {
   "cell_type": "code",
   "execution_count": 315,
   "id": "86b9f1fd-ba0f-4c84-a39e-3599c8bfee4b",
   "metadata": {},
   "outputs": [
    {
     "data": {
      "text/plain": [
       "춘향    90\n",
       "몽룡    60\n",
       "향단    80\n",
       "방자    70\n",
       "Name: 수학, dtype: int64"
      ]
     },
     "execution_count": 315,
     "metadata": {},
     "output_type": "execute_result"
    }
   ],
   "source": [
    "df[\"수학\"]"
   ]
  },
  {
   "cell_type": "code",
   "execution_count": 310,
   "id": "c9515641-378e-4cee-b5b9-581f81f3e284",
   "metadata": {},
   "outputs": [
    {
     "data": {
      "text/html": [
       "<div>\n",
       "<style scoped>\n",
       "    .dataframe tbody tr th:only-of-type {\n",
       "        vertical-align: middle;\n",
       "    }\n",
       "\n",
       "    .dataframe tbody tr th {\n",
       "        vertical-align: top;\n",
       "    }\n",
       "\n",
       "    .dataframe thead th {\n",
       "        text-align: right;\n",
       "    }\n",
       "</style>\n",
       "<table border=\"1\" class=\"dataframe\">\n",
       "  <thead>\n",
       "    <tr style=\"text-align: right;\">\n",
       "      <th></th>\n",
       "      <th>국어</th>\n",
       "      <th>영어</th>\n",
       "    </tr>\n",
       "  </thead>\n",
       "  <tbody>\n",
       "    <tr>\n",
       "      <th>춘향</th>\n",
       "      <td>80</td>\n",
       "      <td>90</td>\n",
       "    </tr>\n",
       "    <tr>\n",
       "      <th>몽룡</th>\n",
       "      <td>90</td>\n",
       "      <td>70</td>\n",
       "    </tr>\n",
       "    <tr>\n",
       "      <th>향단</th>\n",
       "      <td>70</td>\n",
       "      <td>60</td>\n",
       "    </tr>\n",
       "    <tr>\n",
       "      <th>방자</th>\n",
       "      <td>30</td>\n",
       "      <td>40</td>\n",
       "    </tr>\n",
       "  </tbody>\n",
       "</table>\n",
       "</div>"
      ],
      "text/plain": [
       "    국어  영어\n",
       "춘향  80  90\n",
       "몽룡  90  70\n",
       "향단  70  60\n",
       "방자  30  40"
      ]
     },
     "execution_count": 310,
     "metadata": {},
     "output_type": "execute_result"
    }
   ],
   "source": [
    "df[[\"국어\", \"영어\"]]"
   ]
  },
  {
   "cell_type": "code",
   "execution_count": 311,
   "id": "2dc03f4d-f129-4a21-9f1e-332e3d14d244",
   "metadata": {},
   "outputs": [
    {
     "data": {
      "text/html": [
       "<div>\n",
       "<style scoped>\n",
       "    .dataframe tbody tr th:only-of-type {\n",
       "        vertical-align: middle;\n",
       "    }\n",
       "\n",
       "    .dataframe tbody tr th {\n",
       "        vertical-align: top;\n",
       "    }\n",
       "\n",
       "    .dataframe thead th {\n",
       "        text-align: right;\n",
       "    }\n",
       "</style>\n",
       "<table border=\"1\" class=\"dataframe\">\n",
       "  <thead>\n",
       "    <tr style=\"text-align: right;\">\n",
       "      <th></th>\n",
       "      <th>국어</th>\n",
       "      <th>영어</th>\n",
       "      <th>수학</th>\n",
       "      <th>과목 평균</th>\n",
       "    </tr>\n",
       "  </thead>\n",
       "  <tbody>\n",
       "    <tr>\n",
       "      <th>춘향</th>\n",
       "      <td>80</td>\n",
       "      <td>90</td>\n",
       "      <td>90</td>\n",
       "      <td>86.67</td>\n",
       "    </tr>\n",
       "    <tr>\n",
       "      <th>몽룡</th>\n",
       "      <td>90</td>\n",
       "      <td>70</td>\n",
       "      <td>60</td>\n",
       "      <td>73.33</td>\n",
       "    </tr>\n",
       "    <tr>\n",
       "      <th>향단</th>\n",
       "      <td>70</td>\n",
       "      <td>60</td>\n",
       "      <td>80</td>\n",
       "      <td>70.00</td>\n",
       "    </tr>\n",
       "    <tr>\n",
       "      <th>방자</th>\n",
       "      <td>30</td>\n",
       "      <td>40</td>\n",
       "      <td>70</td>\n",
       "      <td>46.67</td>\n",
       "    </tr>\n",
       "  </tbody>\n",
       "</table>\n",
       "</div>"
      ],
      "text/plain": [
       "    국어  영어  수학  과목 평균\n",
       "춘향  80  90  90  86.67\n",
       "몽룡  90  70  60  73.33\n",
       "향단  70  60  80  70.00\n",
       "방자  30  40  70  46.67"
      ]
     },
     "execution_count": 311,
     "metadata": {},
     "output_type": "execute_result"
    }
   ],
   "source": [
    "df[\"과목 평균\"]=((df[\"국어\"] + df[\"영어\"] + df[\"수학\"]) / 3).round(2)\n",
    "df"
   ]
  },
  {
   "cell_type": "code",
   "execution_count": 312,
   "id": "91fd2b3e-82da-423a-8c24-f9e4b744735d",
   "metadata": {},
   "outputs": [
    {
     "data": {
      "text/html": [
       "<div>\n",
       "<style scoped>\n",
       "    .dataframe tbody tr th:only-of-type {\n",
       "        vertical-align: middle;\n",
       "    }\n",
       "\n",
       "    .dataframe tbody tr th {\n",
       "        vertical-align: top;\n",
       "    }\n",
       "\n",
       "    .dataframe thead th {\n",
       "        text-align: right;\n",
       "    }\n",
       "</style>\n",
       "<table border=\"1\" class=\"dataframe\">\n",
       "  <thead>\n",
       "    <tr style=\"text-align: right;\">\n",
       "      <th></th>\n",
       "      <th>국어</th>\n",
       "      <th>영어</th>\n",
       "      <th>수학</th>\n",
       "      <th>과목 평균</th>\n",
       "    </tr>\n",
       "  </thead>\n",
       "  <tbody>\n",
       "    <tr>\n",
       "      <th>춘향</th>\n",
       "      <td>80</td>\n",
       "      <td>90</td>\n",
       "      <td>90</td>\n",
       "      <td>86.67</td>\n",
       "    </tr>\n",
       "    <tr>\n",
       "      <th>몽룡</th>\n",
       "      <td>90</td>\n",
       "      <td>70</td>\n",
       "      <td>60</td>\n",
       "      <td>73.33</td>\n",
       "    </tr>\n",
       "    <tr>\n",
       "      <th>향단</th>\n",
       "      <td>70</td>\n",
       "      <td>60</td>\n",
       "      <td>80</td>\n",
       "      <td>70.00</td>\n",
       "    </tr>\n",
       "    <tr>\n",
       "      <th>방자</th>\n",
       "      <td>30</td>\n",
       "      <td>80</td>\n",
       "      <td>70</td>\n",
       "      <td>46.67</td>\n",
       "    </tr>\n",
       "  </tbody>\n",
       "</table>\n",
       "</div>"
      ],
      "text/plain": [
       "    국어  영어  수학  과목 평균\n",
       "춘향  80  90  90  86.67\n",
       "몽룡  90  70  60  73.33\n",
       "향단  70  60  80  70.00\n",
       "방자  30  80  70  46.67"
      ]
     },
     "execution_count": 312,
     "metadata": {},
     "output_type": "execute_result"
    }
   ],
   "source": [
    "df.loc[\"방자\", \"영어\"] = 80\n",
    "df"
   ]
  },
  {
   "cell_type": "code",
   "execution_count": 314,
   "id": "b7eee23e-e3c0-4ec3-86f5-95fb4724cbdb",
   "metadata": {},
   "outputs": [
    {
     "data": {
      "text/html": [
       "<div>\n",
       "<style scoped>\n",
       "    .dataframe tbody tr th:only-of-type {\n",
       "        vertical-align: middle;\n",
       "    }\n",
       "\n",
       "    .dataframe tbody tr th {\n",
       "        vertical-align: top;\n",
       "    }\n",
       "\n",
       "    .dataframe thead th {\n",
       "        text-align: right;\n",
       "    }\n",
       "</style>\n",
       "<table border=\"1\" class=\"dataframe\">\n",
       "  <thead>\n",
       "    <tr style=\"text-align: right;\">\n",
       "      <th></th>\n",
       "      <th>국어</th>\n",
       "      <th>영어</th>\n",
       "      <th>수학</th>\n",
       "      <th>과목 평균</th>\n",
       "    </tr>\n",
       "  </thead>\n",
       "  <tbody>\n",
       "    <tr>\n",
       "      <th>춘향</th>\n",
       "      <td>80</td>\n",
       "      <td>90</td>\n",
       "      <td>90</td>\n",
       "      <td>65.0</td>\n",
       "    </tr>\n",
       "    <tr>\n",
       "      <th>몽룡</th>\n",
       "      <td>90</td>\n",
       "      <td>70</td>\n",
       "      <td>60</td>\n",
       "      <td>55.0</td>\n",
       "    </tr>\n",
       "    <tr>\n",
       "      <th>향단</th>\n",
       "      <td>70</td>\n",
       "      <td>60</td>\n",
       "      <td>80</td>\n",
       "      <td>52.5</td>\n",
       "    </tr>\n",
       "    <tr>\n",
       "      <th>방자</th>\n",
       "      <td>30</td>\n",
       "      <td>80</td>\n",
       "      <td>70</td>\n",
       "      <td>45.0</td>\n",
       "    </tr>\n",
       "  </tbody>\n",
       "</table>\n",
       "</div>"
      ],
      "text/plain": [
       "    국어  영어  수학  과목 평균\n",
       "춘향  80  90  90   65.0\n",
       "몽룡  90  70  60   55.0\n",
       "향단  70  60  80   52.5\n",
       "방자  30  80  70   45.0"
      ]
     },
     "execution_count": 314,
     "metadata": {},
     "output_type": "execute_result"
    }
   ],
   "source": [
    "df['영어'] = [90, 70, 60, 80]\n",
    "df[\"과목 평균\"]=((df[\"국어\"] + df[\"영어\"] + df[\"수학\"]) / 4)\n",
    "df"
   ]
  },
  {
   "cell_type": "code",
   "execution_count": 341,
   "id": "1d8abca2-3bbf-4fbb-891c-fe3ce045b390",
   "metadata": {},
   "outputs": [
    {
     "data": {
      "text/html": [
       "<div>\n",
       "<style scoped>\n",
       "    .dataframe tbody tr th:only-of-type {\n",
       "        vertical-align: middle;\n",
       "    }\n",
       "\n",
       "    .dataframe tbody tr th {\n",
       "        vertical-align: top;\n",
       "    }\n",
       "\n",
       "    .dataframe thead th {\n",
       "        text-align: right;\n",
       "    }\n",
       "</style>\n",
       "<table border=\"1\" class=\"dataframe\">\n",
       "  <thead>\n",
       "    <tr style=\"text-align: right;\">\n",
       "      <th></th>\n",
       "      <th>국어</th>\n",
       "      <th>영어</th>\n",
       "      <th>수학</th>\n",
       "    </tr>\n",
       "  </thead>\n",
       "  <tbody>\n",
       "    <tr>\n",
       "      <th>춘향</th>\n",
       "      <td>80</td>\n",
       "      <td>90</td>\n",
       "      <td>90</td>\n",
       "    </tr>\n",
       "    <tr>\n",
       "      <th>몽룡</th>\n",
       "      <td>90</td>\n",
       "      <td>70</td>\n",
       "      <td>60</td>\n",
       "    </tr>\n",
       "    <tr>\n",
       "      <th>향단</th>\n",
       "      <td>70</td>\n",
       "      <td>60</td>\n",
       "      <td>80</td>\n",
       "    </tr>\n",
       "    <tr>\n",
       "      <th>방자</th>\n",
       "      <td>30</td>\n",
       "      <td>80</td>\n",
       "      <td>70</td>\n",
       "    </tr>\n",
       "  </tbody>\n",
       "</table>\n",
       "</div>"
      ],
      "text/plain": [
       "    국어  영어  수학\n",
       "춘향  80  90  90\n",
       "몽룡  90  70  60\n",
       "향단  70  60  80\n",
       "방자  30  80  70"
      ]
     },
     "execution_count": 341,
     "metadata": {},
     "output_type": "execute_result"
    }
   ],
   "source": [
    "df[\"영어\"][\"방자\"]= 80\n",
    "df"
   ]
  },
  {
   "cell_type": "code",
   "execution_count": 254,
   "id": "b2677fa7-fa69-406a-a739-cd19c3f62be0",
   "metadata": {},
   "outputs": [
    {
     "data": {
      "text/html": [
       "<div>\n",
       "<style scoped>\n",
       "    .dataframe tbody tr th:only-of-type {\n",
       "        vertical-align: middle;\n",
       "    }\n",
       "\n",
       "    .dataframe tbody tr th {\n",
       "        vertical-align: top;\n",
       "    }\n",
       "\n",
       "    .dataframe thead th {\n",
       "        text-align: right;\n",
       "    }\n",
       "</style>\n",
       "<table border=\"1\" class=\"dataframe\">\n",
       "  <thead>\n",
       "    <tr style=\"text-align: right;\">\n",
       "      <th></th>\n",
       "      <th>국어</th>\n",
       "      <th>영어</th>\n",
       "      <th>수학</th>\n",
       "      <th>과목 평균</th>\n",
       "    </tr>\n",
       "  </thead>\n",
       "  <tbody>\n",
       "    <tr>\n",
       "      <th>춘향</th>\n",
       "      <td>80</td>\n",
       "      <td>90</td>\n",
       "      <td>90</td>\n",
       "      <td>65.0</td>\n",
       "    </tr>\n",
       "  </tbody>\n",
       "</table>\n",
       "</div>"
      ],
      "text/plain": [
       "    국어  영어  수학  과목 평균\n",
       "춘향  80  90  90   65.0"
      ]
     },
     "execution_count": 254,
     "metadata": {},
     "output_type": "execute_result"
    }
   ],
   "source": [
    "df[0:1]"
   ]
  },
  {
   "cell_type": "code",
   "execution_count": 342,
   "id": "b8ed917a-7141-430a-8af9-84c94b84e492",
   "metadata": {},
   "outputs": [
    {
     "data": {
      "text/plain": [
       "국어    70\n",
       "영어    60\n",
       "수학    80\n",
       "Name: 향단, dtype: int64"
      ]
     },
     "execution_count": 342,
     "metadata": {},
     "output_type": "execute_result"
    }
   ],
   "source": [
    "df.T [\"향단\"]"
   ]
  },
  {
   "cell_type": "markdown",
   "id": "77dbb948-dd9a-4ec8-93b0-8838240afb1b",
   "metadata": {},
   "source": [
    "# 연습 문제2 #"
   ]
  },
  {
   "cell_type": "markdown",
   "id": "94e022d9-8d15-4b6d-bec0-ff6b873175c8",
   "metadata": {},
   "source": [
    "```python\n",
    "DataFrame 만들기\n",
    "\n",
    "- 랜덤 시드는 0입니다\n",
    "- values는 넘파이 서브 패키지 중 random의 randn() 메서드를 사용하세요\n",
    "- pd.date_range(\"20130206\", periods = 날짜수)을 활용하세요\n",
    "```"
   ]
  },
  {
   "cell_type": "code",
   "execution_count": 361,
   "id": "85a196d5-6077-4ccc-bd10-c3356ffbadae",
   "metadata": {},
   "outputs": [
    {
     "data": {
      "text/html": [
       "<div>\n",
       "<style scoped>\n",
       "    .dataframe tbody tr th:only-of-type {\n",
       "        vertical-align: middle;\n",
       "    }\n",
       "\n",
       "    .dataframe tbody tr th {\n",
       "        vertical-align: top;\n",
       "    }\n",
       "\n",
       "    .dataframe thead th {\n",
       "        text-align: right;\n",
       "    }\n",
       "</style>\n",
       "<table border=\"1\" class=\"dataframe\">\n",
       "  <thead>\n",
       "    <tr style=\"text-align: right;\">\n",
       "      <th></th>\n",
       "      <th>A</th>\n",
       "      <th>B</th>\n",
       "      <th>C</th>\n",
       "      <th>D</th>\n",
       "    </tr>\n",
       "  </thead>\n",
       "  <tbody>\n",
       "    <tr>\n",
       "      <th>2013-02-26</th>\n",
       "      <td>1.764052</td>\n",
       "      <td>0.400157</td>\n",
       "      <td>0.978738</td>\n",
       "      <td>2.240893</td>\n",
       "    </tr>\n",
       "    <tr>\n",
       "      <th>2013-02-27</th>\n",
       "      <td>1.867558</td>\n",
       "      <td>-0.977278</td>\n",
       "      <td>0.950088</td>\n",
       "      <td>-0.151357</td>\n",
       "    </tr>\n",
       "    <tr>\n",
       "      <th>2013-02-28</th>\n",
       "      <td>-0.103219</td>\n",
       "      <td>0.410599</td>\n",
       "      <td>0.144044</td>\n",
       "      <td>1.454274</td>\n",
       "    </tr>\n",
       "    <tr>\n",
       "      <th>2013-03-01</th>\n",
       "      <td>0.761038</td>\n",
       "      <td>0.121675</td>\n",
       "      <td>0.443863</td>\n",
       "      <td>0.333674</td>\n",
       "    </tr>\n",
       "    <tr>\n",
       "      <th>2013-03-02</th>\n",
       "      <td>1.494079</td>\n",
       "      <td>-0.205158</td>\n",
       "      <td>0.313068</td>\n",
       "      <td>-0.854096</td>\n",
       "    </tr>\n",
       "    <tr>\n",
       "      <th>2013-03-03</th>\n",
       "      <td>-2.552990</td>\n",
       "      <td>0.653619</td>\n",
       "      <td>0.864436</td>\n",
       "      <td>-0.742165</td>\n",
       "    </tr>\n",
       "  </tbody>\n",
       "</table>\n",
       "</div>"
      ],
      "text/plain": [
       "                   A         B         C         D\n",
       "2013-02-26  1.764052  0.400157  0.978738  2.240893\n",
       "2013-02-27  1.867558 -0.977278  0.950088 -0.151357\n",
       "2013-02-28 -0.103219  0.410599  0.144044  1.454274\n",
       "2013-03-01  0.761038  0.121675  0.443863  0.333674\n",
       "2013-03-02  1.494079 -0.205158  0.313068 -0.854096\n",
       "2013-03-03 -2.552990  0.653619  0.864436 -0.742165"
      ]
     },
     "execution_count": 361,
     "metadata": {},
     "output_type": "execute_result"
    }
   ],
   "source": [
    "np.random.seed(0)\n",
    "data = np.random.randn(6,4)\n",
    "columns = ['A', 'B', 'C', 'D' ]\n",
    "index = pd.date_range(\"20130226\", periods=6)\n",
    "df_3 = pd.DataFrame(data, index=index, columns=columns)\n",
    "df_3"
   ]
  },
  {
   "cell_type": "markdown",
   "id": "601d140a-1d57-4cd3-9a44-5954e6580bc7",
   "metadata": {},
   "source": [
    "# 연습 문제3 #"
   ]
  },
  {
   "cell_type": "markdown",
   "id": "de365293-3038-45a7-8932-e0e68196e6b2",
   "metadata": {},
   "source": [
    "\"\"\"  \n",
    "클래스 속성  \n",
    "count (default 0)  \n",
    "order (default 빈 리스트)  \n",
    "인스턴스 속성  \n",
    "number (필수)  \n",
    "name (default None)  \n",
    "비공개 인스턴스 속성  \n",
    "member (default 빈 set)  \n",
    "메서드  \n",
    "add_member(): 이름을 인자로 받고 해당 이름이 member 요소로 있는 지 확인하고 있으면 “000 님은 이미 팀에 있습니다.”를 출력하고 없으면 member에 추가하고 “000 님을 {self.number} 팀에 추가했습니다.” 출력합니다.  \n",
    "rm_member(): 이름을 인자로 받고 해당 이름이 member 요소로 있는 지 확인하고 있으면 member 요소에서 삭제하고 “000 님을 {self.number} 팀에서 삭제했습니다.” 출력합니다. 없으면 “000 님은 해당 팀에 없습니다.” 출력하고 메서드를 종료합니다.  \n",
    "get_count(), get_order()는 각각 count와 order의 값을 반환합니다.  \n",
    "set_order()는 숫자를 하나 인자로 받아와서 그 값을 order 맨 뒤에 추가합니다. 이때 이미 값이 있는 경우 앞의 값은 전부 지우고 맨 뒤에 값을 추가합니다.  \n",
    "\"\"\"  "
   ]
  },
  {
   "cell_type": "code",
   "execution_count": 516,
   "id": "3ea7faca-9bfc-4166-9890-a3a03f117a7f",
   "metadata": {},
   "outputs": [],
   "source": [
    "class Team:\n",
    "    \"\"\"팀 객체를 만듭니다.\"\"\"\n",
    "    class_attribute = 0 #클래스 속성\n",
    "    count = 0\n",
    "    order = []\n",
    "    \n",
    "    def __init__(self, number, name=None, member = set()):\n",
    "        self.number = number\n",
    "        self.name = name\n",
    "        self.__member = member\n",
    "        Team.count += 1\n",
    "        \n",
    "    def add_member(self, name):\n",
    "        # 해당 이름이 팀에 있을 경우\n",
    "        if name in self.__member:\n",
    "            print( f\"{name}님이 이미 팀에 있습니다.\" )\n",
    "            return\n",
    "        # 해당 이름이 팀에 없을 경우\n",
    "        else:\n",
    "            self.__member.add(name)\n",
    "            print(f\"{name}님을 {self.number} 팀에 추가했습니다.\")\n",
    "            \n",
    "    def rm_member(self, name):\n",
    "        # 해당 이름이 팀에 있을 경우\n",
    "        if name in self.__member:\n",
    "            self.__member.discard(name)\n",
    "            print(f\"{name}님을 {self.number} 팀에서 삭제했습니다.\")\n",
    "        # 해당 이름이 팀에 없을 경우\n",
    "        else:\n",
    "             print(f\"{name} 님은 해당 팀에 없습니다.\")    \n",
    "                \n",
    "    def get_count(self):\n",
    "        return self.count\n",
    "    \n",
    "    def get_order(self):\n",
    "        return self.order\n",
    "    \n",
    "    def set_order(self, number): \n",
    "        if number in self.order:\n",
    "            self.order.remove(number) # 이미 값이 있는 경우 앞의 값은 전부 지우고 \n",
    "        self.order.append(number) #맨 뒤에 값을 추가\n",
    "    \n",
    "    # 내장 함수 Len --> 파이썬 __len 함수를 찾아서 실행\n",
    "    def __len__(self):\n",
    "        return len(self.__member)"
   ]
  },
  {
   "cell_type": "markdown",
   "id": "da45e8a2-5c56-46af-8cec-daeda3c4f11e",
   "metadata": {},
   "source": [
    "```python\n",
    "t1 = Team() # Team 클래스로부터 인스턴스를 초기화한다. 초기화할때 넣는 인자 같은 __init__(self, 여기로 전달됨)\n",
    "#초기화 될때 1번이자 최초로 실행되는게 __init__(self)이 특별 메서드이다.\n",
    "```"
   ]
  },
  {
   "cell_type": "code",
   "execution_count": 517,
   "id": "e1027396-c9e5-4ae4-a091-27026213172a",
   "metadata": {},
   "outputs": [],
   "source": [
    "t1 = Team(1)"
   ]
  },
  {
   "cell_type": "code",
   "execution_count": 518,
   "id": "9153082f-ceb3-4790-a73a-9e8166697ba6",
   "metadata": {},
   "outputs": [
    {
     "name": "stdout",
     "output_type": "stream",
     "text": [
      "김유림님을 1 팀에 추가했습니다.\n"
     ]
    }
   ],
   "source": [
    "t1.add_member(\"김유림\")"
   ]
  },
  {
   "cell_type": "code",
   "execution_count": 519,
   "id": "2cf9ba56-925d-4e68-baac-794817d0cb16",
   "metadata": {},
   "outputs": [
    {
     "name": "stdout",
     "output_type": "stream",
     "text": [
      "김유림님이 이미 팀에 있습니다.\n"
     ]
    }
   ],
   "source": [
    "t1.add_member(\"김유림\")"
   ]
  },
  {
   "cell_type": "code",
   "execution_count": 520,
   "id": "4a275182-f822-4d87-90af-2014a6a616d5",
   "metadata": {},
   "outputs": [
    {
     "name": "stdout",
     "output_type": "stream",
     "text": [
      "1\n"
     ]
    }
   ],
   "source": [
    "print(len(t1))"
   ]
  },
  {
   "cell_type": "code",
   "execution_count": 521,
   "id": "84e42cf9-a4f9-410a-8bf4-45a89407cb26",
   "metadata": {},
   "outputs": [
    {
     "name": "stdout",
     "output_type": "stream",
     "text": [
      "김혜림님을 1 팀에 추가했습니다.\n"
     ]
    }
   ],
   "source": [
    "t1.add_member(\"김혜림\")"
   ]
  },
  {
   "cell_type": "code",
   "execution_count": 522,
   "id": "6c3c048b-f77b-40ff-8dcd-d285b01fa699",
   "metadata": {},
   "outputs": [
    {
     "name": "stdout",
     "output_type": "stream",
     "text": [
      "김혜림님을 1 팀에서 삭제했습니다.\n"
     ]
    }
   ],
   "source": [
    "t1.rm_member(\"김혜림\")"
   ]
  },
  {
   "cell_type": "code",
   "execution_count": 523,
   "id": "3cd0776f-16d5-423b-abb9-d5a1cb181bc3",
   "metadata": {},
   "outputs": [
    {
     "name": "stdout",
     "output_type": "stream",
     "text": [
      "김혜림 님은 해당 팀에 없습니다.\n"
     ]
    }
   ],
   "source": [
    "t1.rm_member(\"김혜림\")"
   ]
  },
  {
   "cell_type": "code",
   "execution_count": 524,
   "id": "23fb4972-f4ce-44bd-8768-c2777713ed82",
   "metadata": {},
   "outputs": [],
   "source": [
    "t2 = Team(2)"
   ]
  },
  {
   "cell_type": "code",
   "execution_count": 525,
   "id": "45f33442-ddfe-459c-90a1-6bd55ddca0bc",
   "metadata": {},
   "outputs": [],
   "source": [
    "t2.set_order(t2.number)"
   ]
  },
  {
   "cell_type": "code",
   "execution_count": 526,
   "id": "1db62e5c-b1dd-4689-9bd8-22e71c73a4af",
   "metadata": {},
   "outputs": [],
   "source": [
    "t1.set_order(t1.number)"
   ]
  },
  {
   "cell_type": "code",
   "execution_count": 527,
   "id": "52244125-4869-4f03-8403-93647c18c662",
   "metadata": {},
   "outputs": [
    {
     "data": {
      "text/plain": [
       "[2, 1]"
      ]
     },
     "execution_count": 527,
     "metadata": {},
     "output_type": "execute_result"
    }
   ],
   "source": [
    "t1.get_order()"
   ]
  },
  {
   "cell_type": "code",
   "execution_count": 528,
   "id": "7bfd1b9f-c273-45b3-bd4f-dfa0c8fe4446",
   "metadata": {},
   "outputs": [
    {
     "data": {
      "text/plain": [
       "2"
      ]
     },
     "execution_count": 528,
     "metadata": {},
     "output_type": "execute_result"
    }
   ],
   "source": [
    "t1.get_count()"
   ]
  },
  {
   "cell_type": "code",
   "execution_count": 529,
   "id": "8fcfb134-11c7-4ecc-8227-e54816b32695",
   "metadata": {},
   "outputs": [],
   "source": [
    "t3 = Team(3)"
   ]
  },
  {
   "cell_type": "code",
   "execution_count": 530,
   "id": "7a24440c-3326-4102-8821-e66c5b375417",
   "metadata": {},
   "outputs": [
    {
     "data": {
      "text/plain": [
       "3"
      ]
     },
     "execution_count": 530,
     "metadata": {},
     "output_type": "execute_result"
    }
   ],
   "source": [
    "t3.get_count()"
   ]
  },
  {
   "cell_type": "code",
   "execution_count": 531,
   "id": "0d0d74c5-7a58-4379-9207-02c09fc4ae33",
   "metadata": {},
   "outputs": [],
   "source": [
    "t3.set_order(t3.number)"
   ]
  },
  {
   "cell_type": "code",
   "execution_count": 532,
   "id": "1a735255-7fee-4f13-999e-e48c19e38ae3",
   "metadata": {},
   "outputs": [
    {
     "data": {
      "text/plain": [
       "[2, 1, 3]"
      ]
     },
     "execution_count": 532,
     "metadata": {},
     "output_type": "execute_result"
    }
   ],
   "source": [
    "t3.get_order()"
   ]
  },
  {
   "cell_type": "code",
   "execution_count": null,
   "id": "95c54ded-3ffe-4d9f-828c-3dc8d5b94a5c",
   "metadata": {},
   "outputs": [],
   "source": []
  }
 ],
 "metadata": {
  "kernelspec": {
   "display_name": "Python 3 (ipykernel)",
   "language": "python",
   "name": "python3"
  },
  "language_info": {
   "codemirror_mode": {
    "name": "ipython",
    "version": 3
   },
   "file_extension": ".py",
   "mimetype": "text/x-python",
   "name": "python",
   "nbconvert_exporter": "python",
   "pygments_lexer": "ipython3",
   "version": "3.9.13"
  }
 },
 "nbformat": 4,
 "nbformat_minor": 5
}

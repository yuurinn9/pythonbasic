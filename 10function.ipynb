{
 "cells": [
  {
   "cell_type": "markdown",
   "id": "1681a0f8-b6a2-423c-b4ba-67c235649cd4",
   "metadata": {},
   "source": [
    "# 2023 - 01 - 12 #"
   ]
  },
  {
   "cell_type": "markdown",
   "id": "8a865ee4-752a-4de8-8a72-ea7d15adb273",
   "metadata": {},
   "source": [
    "------------------------------"
   ]
  },
  {
   "cell_type": "markdown",
   "id": "e87e67a6-32f9-4f9d-8bd0-1f84b3a823e7",
   "metadata": {},
   "source": [
    "# 함수 #"
   ]
  },
  {
   "cell_type": "markdown",
   "id": "894e2d11-f554-4723-8872-3bd8be6049c9",
   "metadata": {},
   "source": [
    ">프로그래밍에서 함수는 독립적으로 설계된 프로그램 코드의 집합  \n",
    ">반복적인 코드의 양을 줄여 유지보수성 높여줌  \n",
    "\n"
   ]
  },
  {
   "cell_type": "code",
   "execution_count": null,
   "id": "4d6fa2e2-5c5e-4958-9b02-97e1015ab5c2",
   "metadata": {},
   "outputs": [],
   "source": [
    "x = 함수명(인수, 인수, ...)   <--------\\\n",
    "print(\"결과 값:\", x)    |               \\\n",
    "                        ↓                \\\n",
    "def 함수명(인자, 인자, ...): 함수 코드... return 변환값  "
   ]
  },
  {
   "cell_type": "markdown",
   "id": "8576b8f1-4271-4e5c-bb0d-275feeab15ef",
   "metadata": {},
   "source": [
    ">함수가 호출되면 함수 정의부로 가서 함수 호출부의 인수 값을 함수 정의부 인자 값에 순서대로 대입 후 함수 정의부 내부 코드를 순차적으로 실행\n",
    ">해당 함수의 return값이 있는 경우, 함수 호출부를 return값으로 치환"
   ]
  },
  {
   "cell_type": "markdown",
   "id": "0f82c1f1-f19f-487a-acdd-a530d7b24892",
   "metadata": {},
   "source": [
    ">함수 호출을 하면 함수가 정의된 곳에서 코드를 실행하고 반환 값을 받아온다.  \n",
    ">args와 params는 순서에 맞게 대입된다."
   ]
  },
  {
   "cell_type": "code",
   "execution_count": null,
   "id": "cc27f395-58e0-4422-9efe-2218a9c2a93a",
   "metadata": {},
   "outputs": [],
   "source": [
    "function_name(arg1,arg2, ...)\n",
    "function_name(param1, param2, ...)\n",
    "result = param1 + param2\n",
    "return result"
   ]
  },
  {
   "cell_type": "markdown",
   "id": "cdd6ae29-9b3a-4bf8-8051-2f4060403283",
   "metadata": {},
   "source": [
    "### 함수 ###\n",
    "##### print(), len(), list(), reversed() 모두 다 함수 #####   \n",
    "  \n",
    "    \n",
    ">코드를 목적에 맞게 사용할 수 있다  \n",
    ">중복에서 오는 실수를 줄일 수 있다  \n",
    ">재사용 할 수 있다  "
   ]
  },
  {
   "cell_type": "markdown",
   "id": "9603b78d-3139-4ca4-ae5f-c2e8950c32e2",
   "metadata": {},
   "source": [
    "### 함수 vs 메서드 ###\n",
    ">함수는 클래스에 포함되지 않은 채로 사용 \n",
    "  \n",
    "함수명((인수1), (인수2), ...)       \n",
    "  \n",
    "  \n",
    ">메서드는 클래스에 포함되어 객체를 통해 호출 \n",
    "  \n",
    "객체.매서드명((인수1), (인수2), ...)\n",
    " "
   ]
  },
  {
   "cell_type": "code",
   "execution_count": 103,
   "id": "5a49d905-84f4-4443-a2d9-eb9a8002defc",
   "metadata": {},
   "outputs": [
    {
     "ename": "IndentationError",
     "evalue": "expected an indented block (3507057445.py, line 2)",
     "output_type": "error",
     "traceback": [
      "\u001b[1;36m  File \u001b[1;32m\"C:\\Users\\Playdata\\AppData\\Local\\Temp\\ipykernel_12612\\3507057445.py\"\u001b[1;36m, line \u001b[1;32m2\u001b[0m\n\u001b[1;33m    \"\"\"\u001b[0m\n\u001b[1;37m    ^\u001b[0m\n\u001b[1;31mIndentationError\u001b[0m\u001b[1;31m:\u001b[0m expected an indented block\n"
     ]
    }
   ],
   "source": [
    "def 함수_이름(위치_인자, 위치_인자2, *가변_위치, 키워드_인자, 키워드_인자2, **가변_키워드):\n",
    "\n",
    "\n",
    "\n",
    "\n",
    "\"\"\"\n",
    "Doc string을 적는 곳\n",
    "작성자 : 김유림\n",
    "작성일자 : 20230112\n",
    "\"\"\"\n",
    "\n",
    "함수의 바디\n",
    "함수의 바디\n",
    "\n",
    "#return 변환값\n",
    "pass "
   ]
  },
  {
   "cell_type": "code",
   "execution_count": 114,
   "id": "8f881ef0-af23-4dc3-8f22-70aa9a335b2c",
   "metadata": {},
   "outputs": [],
   "source": [
    "def function():\n",
    "    \"\"\"\n",
    "    함수의 설명\n",
    "    \"\"\"\n",
    "    \n",
    "    \n",
    "    pass"
   ]
  },
  {
   "cell_type": "code",
   "execution_count": 115,
   "id": "0b453d90-c79b-485b-8c21-57bc192e5890",
   "metadata": {},
   "outputs": [
    {
     "data": {
      "text/plain": [
       "'\\n    함수의 설명\\n    '"
      ]
     },
     "execution_count": 115,
     "metadata": {},
     "output_type": "execute_result"
    }
   ],
   "source": [
    "function.__doc__"
   ]
  },
  {
   "cell_type": "code",
   "execution_count": 116,
   "id": "9ea9f2e5-195b-4e59-86fc-eb8b68f76ba0",
   "metadata": {},
   "outputs": [
    {
     "name": "stdout",
     "output_type": "stream",
     "text": [
      "\n",
      "    함수의 설명\n",
      "    \n"
     ]
    }
   ],
   "source": [
    "print(function.__doc__)"
   ]
  },
  {
   "cell_type": "code",
   "execution_count": 117,
   "id": "56abf935-4d5e-4e4e-a229-4b9f82e74a0b",
   "metadata": {},
   "outputs": [
    {
     "name": "stdout",
     "output_type": "stream",
     "text": [
      "Built-in mutable sequence.\n",
      "\n",
      "If no argument is given, the constructor creates a new empty list.\n",
      "The argument must be an iterable if specified.\n"
     ]
    }
   ],
   "source": [
    "print(list.__doc__)"
   ]
  },
  {
   "cell_type": "markdown",
   "id": "75791325-7061-4f80-9aaf-a724458fbc72",
   "metadata": {},
   "source": [
    "### 인자 ###   \n",
    "\n",
    "  \n",
    "인수(argument)는 주는거고 인자(parameter)는 받는거  \n",
    "  \n",
    "    \n",
    ">**위치** - 키워드 : 위치로 혹은 키워드로 전달될 수 있는 인자를 말함 매개변수의 기본 형태  \n",
    ">**위치 전용** : / 문자를 기준으로 좌측에 위치한 인자  \n",
    ">**키워드 전용** : * 문자를 기준으로 우측에 위치한 인자  \n",
    ">**가변 위치** : 위치 매개변수 외에 추가적인 위치 매개변수를 개수에 상관없이 받을 수 있음 변수명  앞에 *를 하나 붙여 표기  \n",
    ">**가변 키워드** : 키워드 매개변수 외에 추가적인 키워드 매개변수를 개수에 상관없이 받을 수 있음 변수명 앞에 ** 두개 붙여 표기  "
   ]
  },
  {
   "cell_type": "code",
   "execution_count": 124,
   "id": "83651e77-505f-4cb7-ab5c-62ec6eddee54",
   "metadata": {},
   "outputs": [
    {
     "name": "stdout",
     "output_type": "stream",
     "text": [
      "1 2 3 4 5\n"
     ]
    }
   ],
   "source": [
    "print(\"1\", \"2\", \"3\", \"4\", \"5\")"
   ]
  },
  {
   "cell_type": "code",
   "execution_count": 125,
   "id": "cbebc6a5-7e8f-4fad-964f-a1def1d20d70",
   "metadata": {},
   "outputs": [],
   "source": [
    "# 함수를 정의절\n",
    "def function_name(positional, positiona12, *args, keyword1=1, **kargs):\n",
    "    pass #body\n"
   ]
  },
  {
   "cell_type": "code",
   "execution_count": 126,
   "id": "cc7f707d-bf10-40a0-9502-7a3a7ab8f97c",
   "metadata": {},
   "outputs": [],
   "source": [
    "#함수 정의절\n",
    "def get_grade(score = 200): #score에 숫자를 집어 넣으면 return값으로 변환해줌 #초기값을 주냐 안주냐에 따라 기본값이 있을수도/없을수도\n",
    "    \"\"\"\n",
    "    숫자로된 정수를 넣으시면 학점의 결과를 반환합니다.\n",
    "    \"\"\"\n",
    "    if 85 <= score <= 100:\n",
    "        return \"A\"\n",
    "    elif 70 <= score <= 84:\n",
    "        return \"B\"\n",
    "    elif 55 <= score <= 69:\n",
    "        return \"C\"\n",
    "    elif 40 <= score <= 54:\n",
    "        return \"D\"\n",
    "    elif 0 <= score <= 39:\n",
    "        return \"E\""
   ]
  },
  {
   "cell_type": "code",
   "execution_count": 129,
   "id": "f302fee5-bfda-403d-bcb4-10c9f1f54377",
   "metadata": {},
   "outputs": [
    {
     "name": "stdout",
     "output_type": "stream",
     "text": [
      "C\n"
     ]
    }
   ],
   "source": [
    "result = get_grade(60) # 함수의 return 반환값 그대로 \"C\"로 출력\n",
    "print(result)"
   ]
  },
  {
   "cell_type": "code",
   "execution_count": 131,
   "id": "01c6a7d4-153b-4126-bb48-bf1ec8cbf508",
   "metadata": {},
   "outputs": [
    {
     "name": "stdout",
     "output_type": "stream",
     "text": [
      "[17, 26, 2, 78, 84, 4, 11, 56, 48, 13, 90, 100, 53, 56, 72, 53, 2, 66, 94, 85]\n"
     ]
    }
   ],
   "source": [
    "import random\n",
    "\n",
    "scores = [random.randint(1, 100) for _ in range(20)]\n",
    "print(scores)"
   ]
  },
  {
   "cell_type": "code",
   "execution_count": 133,
   "id": "b0c52bb4-9e64-403f-b41f-9ef09e275b09",
   "metadata": {},
   "outputs": [
    {
     "name": "stdout",
     "output_type": "stream",
     "text": [
      "['E', 'E', 'E', 'B', 'B', 'E', 'E', 'C', 'D', 'E', 'A', 'A', 'D', 'C', 'B', 'D', 'E', 'C', 'A', 'A']\n"
     ]
    }
   ],
   "source": [
    "grades = list(map(get_grade, scores))\n",
    "print(grades)"
   ]
  },
  {
   "cell_type": "code",
   "execution_count": 134,
   "id": "28d0b179-90d9-40b1-877f-0dc81643719e",
   "metadata": {},
   "outputs": [
    {
     "name": "stdout",
     "output_type": "stream",
     "text": [
      "\n",
      "    숫자로된 정수를 넣으시면 학점의 결과를 반환합니다.\n",
      "    \n"
     ]
    }
   ],
   "source": [
    "print(get_grade.__doc__)"
   ]
  },
  {
   "cell_type": "code",
   "execution_count": 143,
   "id": "3cb43702-abda-4471-b74b-041b400d32b2",
   "metadata": {},
   "outputs": [],
   "source": [
    "#함수 정의절\n",
    "#인자(parameter)\n",
    "def get_grade(score, student_number, name=\"홍길동\"): #ex) 홍길동 같이 키워드를 설정해주는 얘들은 무조건 뒤에\n",
    "                                                     #기본값을 갖는 인수(argument) 는 기본값이 없는 인자(parameter) 뒤에 위치\n",
    "                                                     #position argument는 keyword agument보다 뒤에 와야 한다. \n",
    "    \"\"\"                                             \n",
    "    숫자로된 정수를 넣으시면 학점의 결과를 반환합니다.\n",
    "    \"\"\"\n",
    "    print(f\"{student_number}, {name}의 성적을 확인합니다.\")\n",
    "    if 85 <= score <= 100:\n",
    "        return \"A\"\n",
    "    elif 70 <= score <= 84:\n",
    "        return \"B\"\n",
    "    elif 55 <= score <= 69:\n",
    "        return \"C\"\n",
    "    elif 40 <= score <= 54:\n",
    "        return \"D\"\n",
    "    elif 0 <= score <= 39:\n",
    "        return \"E\""
   ]
  },
  {
   "cell_type": "code",
   "execution_count": 144,
   "id": "4860a7fc-5fcd-4df1-bd2d-22561b52fca0",
   "metadata": {},
   "outputs": [
    {
     "name": "stdout",
     "output_type": "stream",
     "text": [
      "10000, 김유림의 성적을 확인합니다.\n"
     ]
    },
    {
     "data": {
      "text/plain": [
       "'A'"
      ]
     },
     "execution_count": 144,
     "metadata": {},
     "output_type": "execute_result"
    }
   ],
   "source": [
    "get_grade(100, \"김유림\", \"10000\")"
   ]
  },
  {
   "cell_type": "code",
   "execution_count": 145,
   "id": "2648a409-82d9-4199-8bc5-223e227b63b6",
   "metadata": {},
   "outputs": [
    {
     "name": "stdout",
     "output_type": "stream",
     "text": [
      "10000, 100의 성적을 확인합니다.\n"
     ]
    },
    {
     "ename": "TypeError",
     "evalue": "'<=' not supported between instances of 'int' and 'str'",
     "output_type": "error",
     "traceback": [
      "\u001b[1;31m---------------------------------------------------------------------------\u001b[0m",
      "\u001b[1;31mTypeError\u001b[0m                                 Traceback (most recent call last)",
      "\u001b[1;32m~\\AppData\\Local\\Temp\\ipykernel_12612\\2473144315.py\u001b[0m in \u001b[0;36m<module>\u001b[1;34m\u001b[0m\n\u001b[1;32m----> 1\u001b[1;33m \u001b[0mget_grade\u001b[0m\u001b[1;33m(\u001b[0m\u001b[1;34m\"김유림\"\u001b[0m\u001b[1;33m,\u001b[0m \u001b[1;36m100\u001b[0m\u001b[1;33m,\u001b[0m \u001b[1;34m\"10000\"\u001b[0m\u001b[1;33m)\u001b[0m\u001b[1;33m\u001b[0m\u001b[1;33m\u001b[0m\u001b[0m\n\u001b[0m",
      "\u001b[1;32m~\\AppData\\Local\\Temp\\ipykernel_12612\\2696909452.py\u001b[0m in \u001b[0;36mget_grade\u001b[1;34m(score, name, student_number)\u001b[0m\n\u001b[0;32m      5\u001b[0m     \"\"\"\n\u001b[0;32m      6\u001b[0m     \u001b[0mprint\u001b[0m\u001b[1;33m(\u001b[0m\u001b[1;34mf\"{student_number}, {name}의 성적을 확인합니다.\"\u001b[0m\u001b[1;33m)\u001b[0m\u001b[1;33m\u001b[0m\u001b[1;33m\u001b[0m\u001b[0m\n\u001b[1;32m----> 7\u001b[1;33m     \u001b[1;32mif\u001b[0m \u001b[1;36m85\u001b[0m \u001b[1;33m<=\u001b[0m \u001b[0mscore\u001b[0m \u001b[1;33m<=\u001b[0m \u001b[1;36m100\u001b[0m\u001b[1;33m:\u001b[0m\u001b[1;33m\u001b[0m\u001b[1;33m\u001b[0m\u001b[0m\n\u001b[0m\u001b[0;32m      8\u001b[0m         \u001b[1;32mreturn\u001b[0m \u001b[1;34m\"A\"\u001b[0m\u001b[1;33m\u001b[0m\u001b[1;33m\u001b[0m\u001b[0m\n\u001b[0;32m      9\u001b[0m     \u001b[1;32melif\u001b[0m \u001b[1;36m70\u001b[0m \u001b[1;33m<=\u001b[0m \u001b[0mscore\u001b[0m \u001b[1;33m<=\u001b[0m \u001b[1;36m84\u001b[0m\u001b[1;33m:\u001b[0m\u001b[1;33m\u001b[0m\u001b[1;33m\u001b[0m\u001b[0m\n",
      "\u001b[1;31mTypeError\u001b[0m: '<=' not supported between instances of 'int' and 'str'"
     ]
    }
   ],
   "source": [
    "get_grade(\"김유림\", 100, \"10000\")"
   ]
  },
  {
   "cell_type": "code",
   "execution_count": 157,
   "id": "853e341c-e594-4aa7-bd6d-39fe0aa2e25b",
   "metadata": {},
   "outputs": [],
   "source": [
    "# 함수 정의절\n",
    "# 인자 (매개변수, parameter) - non-default, default 종류\n",
    "def add_number(number2, number1 = 3, /): #기본값을 갖는 얘들은 뒤쪽에 위치\n",
    "    \"\"\"\n",
    "    숫자 number1과 숫자 numbeer2를 전달 받아 더한 결과를 반환합니다.\n",
    "    \"\"\"\n",
    "    return number1 + number2"
   ]
  },
  {
   "cell_type": "code",
   "execution_count": 152,
   "id": "544d0de6-aee8-40e0-9b6b-013555bb5160",
   "metadata": {},
   "outputs": [
    {
     "name": "stdout",
     "output_type": "stream",
     "text": [
      "\n",
      "    숫자 number1과 숫자 numbeer2를 전달 받아 더한 결과를 반환합니다.\n",
      "    \n"
     ]
    }
   ],
   "source": [
    "print(add_number.__doc__)"
   ]
  },
  {
   "cell_type": "code",
   "execution_count": 153,
   "id": "16b2cda8-d757-425b-80f9-29bdec988ccb",
   "metadata": {},
   "outputs": [],
   "source": [
    "result = add_number(2, 3) #소괄호"
   ]
  },
  {
   "cell_type": "code",
   "execution_count": 154,
   "id": "68ad7878-5fd7-4b48-9173-08388442a21b",
   "metadata": {},
   "outputs": [
    {
     "name": "stdout",
     "output_type": "stream",
     "text": [
      "5\n"
     ]
    }
   ],
   "source": [
    "print(result)"
   ]
  },
  {
   "cell_type": "code",
   "execution_count": 158,
   "id": "871b8c9d-2595-4412-8f05-ad224e2a81cb",
   "metadata": {},
   "outputs": [
    {
     "ename": "TypeError",
     "evalue": "add_number() got some positional-only arguments passed as keyword arguments: 'number2, number1'",
     "output_type": "error",
     "traceback": [
      "\u001b[1;31m---------------------------------------------------------------------------\u001b[0m",
      "\u001b[1;31mTypeError\u001b[0m                                 Traceback (most recent call last)",
      "\u001b[1;32m~\\AppData\\Local\\Temp\\ipykernel_12612\\1492128349.py\u001b[0m in \u001b[0;36m<module>\u001b[1;34m\u001b[0m\n\u001b[0;32m      1\u001b[0m \u001b[1;31m#인수(argument) - positional argument, keyword argument\u001b[0m\u001b[1;33m\u001b[0m\u001b[1;33m\u001b[0m\u001b[0m\n\u001b[1;32m----> 2\u001b[1;33m \u001b[0mresult\u001b[0m \u001b[1;33m=\u001b[0m \u001b[0madd_number\u001b[0m\u001b[1;33m(\u001b[0m\u001b[0mnumber1\u001b[0m \u001b[1;33m=\u001b[0m \u001b[1;36m2\u001b[0m\u001b[1;33m,\u001b[0m \u001b[0mnumber2\u001b[0m \u001b[1;33m=\u001b[0m \u001b[1;36m3\u001b[0m\u001b[1;33m)\u001b[0m \u001b[1;31m# 소괄호 --> call\u001b[0m\u001b[1;33m\u001b[0m\u001b[1;33m\u001b[0m\u001b[0m\n\u001b[0m",
      "\u001b[1;31mTypeError\u001b[0m: add_number() got some positional-only arguments passed as keyword arguments: 'number2, number1'"
     ]
    }
   ],
   "source": [
    "#인수(argument) - positional argument, keyword argument\n",
    "result = add_number(number1 = 2, number2 = 3) # 소괄호 --> call"
   ]
  },
  {
   "cell_type": "code",
   "execution_count": 159,
   "id": "e3c7418a-b81e-4bb9-9402-c0e4cbebd72c",
   "metadata": {},
   "outputs": [],
   "source": [
    "# 함수 정의절\n",
    "# 인자 (매개변수, parameter) - non-default, default 종류\n",
    "#기본값을 갖는 얘들은 뒤쪽에 위치\n",
    "def minus_number(*, number1, number2 = 3): # keywor-only: *문자를 기준으로 오른편에 온다.\n",
    "    \"\"\"\n",
    "    숫자 number1과 숫자 numbeer2를 전달 받아 더한 결과를 반환합니다.\n",
    "    \"\"\"\n",
    "    return number1 - number2"
   ]
  },
  {
   "cell_type": "code",
   "execution_count": 160,
   "id": "62ae7b5c-403f-458e-b852-4d30d886a480",
   "metadata": {},
   "outputs": [
    {
     "data": {
      "text/plain": [
       "17"
      ]
     },
     "execution_count": 160,
     "metadata": {},
     "output_type": "execute_result"
    }
   ],
   "source": [
    "#함수를 호출\n",
    "#인수(argument) - positional argument, keyword argument\n",
    "minus_number(number1 = 20)"
   ]
  },
  {
   "cell_type": "code",
   "execution_count": 163,
   "id": "90d5274a-6573-413e-bb44-a9dcdacf3483",
   "metadata": {},
   "outputs": [],
   "source": [
    "# 함수 정의절\n",
    "# 인자 (매개변수, parameter) - non-default, default 종류\n",
    "#기본값을 갖는 얘들은 뒤쪽에 위치\n",
    "def multi_number( number1,/, *, number2 = 3): # keywor-only: *문자를 기준으로 오른편에 온다.\n",
    "    \"\"\"\n",
    "    숫자 number1과 숫자 numbeer2를 전달 받아 더한 결과를 반환합니다.\n",
    "    \"\"\"\n",
    "    return number1 * number2"
   ]
  },
  {
   "cell_type": "code",
   "execution_count": 164,
   "id": "d3013a3c-0235-4303-8cea-a7d0a224de29",
   "metadata": {},
   "outputs": [
    {
     "data": {
      "text/plain": [
       "30"
      ]
     },
     "execution_count": 164,
     "metadata": {},
     "output_type": "execute_result"
    }
   ],
   "source": [
    "multi_number(3, number2 = 10)"
   ]
  },
  {
   "cell_type": "code",
   "execution_count": 172,
   "id": "c4b1687e-f95b-4544-ad83-b0ba092800b2",
   "metadata": {},
   "outputs": [],
   "source": [
    "def string_line(str_value, /, str_len, *, sep=\"#\"):\n",
    "    \"\"\"\n",
    "    str_value는 가운데 오는 텍스트입니다.\n",
    "    str_len은 텍스트의 설정할 길이입니다.\n",
    "    sep는 구분선을 그을때 쓰는 문자입니다.\n",
    "    \"\"\"\n",
    "    print(str_value.center(str_len, sep))"
   ]
  },
  {
   "cell_type": "code",
   "execution_count": 173,
   "id": "fe51aa95-2e56-49b0-8a19-4d6dedabff91",
   "metadata": {},
   "outputs": [
    {
     "name": "stdout",
     "output_type": "stream",
     "text": [
      "************************구분************************\n"
     ]
    }
   ],
   "source": [
    "string_line(\"구분\", 50, sep=\"*\")"
   ]
  },
  {
   "cell_type": "code",
   "execution_count": 174,
   "id": "33b90cc0-b988-41cb-b507-b9d436f6fc0d",
   "metadata": {},
   "outputs": [
    {
     "data": {
      "text/plain": [
       "50"
      ]
     },
     "execution_count": 174,
     "metadata": {},
     "output_type": "execute_result"
    }
   ],
   "source": [
    "len('**********************구분**************************')"
   ]
  },
  {
   "cell_type": "code",
   "execution_count": 180,
   "id": "5db8df13-12a8-4b41-8134-6e4fe9ba3681",
   "metadata": {},
   "outputs": [
    {
     "name": "stdout",
     "output_type": "stream",
     "text": [
      "------------------------------------------------절취선-------------------------------------------------\n"
     ]
    }
   ],
   "source": [
    "string_line(\"절취선\", str_len = 100, sep=\"-\")"
   ]
  },
  {
   "cell_type": "code",
   "execution_count": 182,
   "id": "291bf470-adad-42cb-a53e-70e2fd502951",
   "metadata": {},
   "outputs": [
    {
     "name": "stdout",
     "output_type": "stream",
     "text": [
      "1 1 1 1 1 1 1 1 1 1\n"
     ]
    }
   ],
   "source": [
    "print(\"1\", \"1\", \"1\", \"1\", \"1\", \"1\", \"1\", \"1\", \"1\", \"1\")"
   ]
  },
  {
   "cell_type": "code",
   "execution_count": 188,
   "id": "7c109f83-4bac-4abd-acce-cfa9f5cc9af4",
   "metadata": {},
   "outputs": [],
   "source": [
    "# *args: var positionql 가변 위치\n",
    "def test_func(a, b, c, *args):\n",
    "    print(f'a: {a} b: {b} c: {c}' )\n",
    "    print(type(args))\n",
    "    print(args)"
   ]
  },
  {
   "cell_type": "code",
   "execution_count": 189,
   "id": "7558dcfa-f98d-4ffe-b9bc-8908b243fc42",
   "metadata": {},
   "outputs": [
    {
     "name": "stdout",
     "output_type": "stream",
     "text": [
      "a: a 위치입니다 b: b 위치입니다 c: c 위치입니다\n",
      "<class 'tuple'>\n",
      "('여기는', '어딜까요', '몇개', '더')\n"
     ]
    }
   ],
   "source": [
    "test_func(\"a 위치입니다\", \"b 위치입니다\", \"c 위치입니다\", \"여기는\", \"어딜까요\", \"몇개\", \"더\")"
   ]
  },
  {
   "cell_type": "code",
   "execution_count": 191,
   "id": "4a5ea07e-0ed2-46b6-9e83-b0e8fb9aa27b",
   "metadata": {},
   "outputs": [],
   "source": [
    "# **kargs: var keyword 가변 키워드\n",
    "def test_func2(a=\"a\", b=\"b\", **kargs):\n",
    "    print(a, b)\n",
    "    print(type(kargs))\n",
    "    print(kargs)"
   ]
  },
  {
   "cell_type": "code",
   "execution_count": 192,
   "id": "1b1e099e-cc0a-4bb9-8f64-e25777d5f6b0",
   "metadata": {},
   "outputs": [
    {
     "name": "stdout",
     "output_type": "stream",
     "text": [
      "ab bc\n",
      "<class 'dict'>\n",
      "{'key': 'value', 'key2': 'value2'}\n"
     ]
    }
   ],
   "source": [
    "test_func2(a=\"ab\", b=\"bc\", key=\"value\", key2=\"value2\")"
   ]
  },
  {
   "cell_type": "code",
   "execution_count": 193,
   "id": "45414958-ae27-4287-8d53-eaad40a79776",
   "metadata": {},
   "outputs": [],
   "source": [
    "# *args: var positionql 가변 위치\n",
    "def test_func(a, b, *args, c):\n",
    "    print(f'a: {a} b: {b} c: {c}' )\n",
    "    print(type(args))\n",
    "    print(args)"
   ]
  },
  {
   "cell_type": "code",
   "execution_count": 194,
   "id": "d5f0d1d7-e948-4b87-8089-a800d02f8f81",
   "metadata": {},
   "outputs": [
    {
     "ename": "TypeError",
     "evalue": "test_func() missing 1 required keyword-only argument: 'c'",
     "output_type": "error",
     "traceback": [
      "\u001b[1;31m---------------------------------------------------------------------------\u001b[0m",
      "\u001b[1;31mTypeError\u001b[0m                                 Traceback (most recent call last)",
      "\u001b[1;32m~\\AppData\\Local\\Temp\\ipykernel_12612\\3181782236.py\u001b[0m in \u001b[0;36m<module>\u001b[1;34m\u001b[0m\n\u001b[1;32m----> 1\u001b[1;33m \u001b[0mtest_func\u001b[0m\u001b[1;33m(\u001b[0m\u001b[1;34m\"a 위치입니다\"\u001b[0m\u001b[1;33m,\u001b[0m \u001b[1;34m\"b 위치입니다\"\u001b[0m\u001b[1;33m,\u001b[0m \u001b[1;34m\"c 위치입니다\"\u001b[0m\u001b[1;33m,\u001b[0m \u001b[1;34m\"여기는\"\u001b[0m\u001b[1;33m,\u001b[0m \u001b[1;34m\"어딜까요\"\u001b[0m\u001b[1;33m,\u001b[0m \u001b[1;34m\"몇개\"\u001b[0m\u001b[1;33m,\u001b[0m \u001b[1;34m\"더\"\u001b[0m\u001b[1;33m)\u001b[0m\u001b[1;33m\u001b[0m\u001b[1;33m\u001b[0m\u001b[0m\n\u001b[0m",
      "\u001b[1;31mTypeError\u001b[0m: test_func() missing 1 required keyword-only argument: 'c'"
     ]
    }
   ],
   "source": [
    "test_func(\"a 위치입니다\", \"b 위치입니다\", \"c 위치입니다\", \"여기는\", \"어딜까요\", \"몇개\", \"더\")"
   ]
  },
  {
   "cell_type": "markdown",
   "id": "59e25d32-c15b-4a77-861e-6b2003d5962a",
   "metadata": {},
   "source": [
    "-------------------------------------------------------------------------------"
   ]
  },
  {
   "cell_type": "markdown",
   "id": "893aedac-052a-4e23-a095-5ed7906b98ba",
   "metadata": {},
   "source": [
    "#### 연습문제 ####"
   ]
  },
  {
   "cell_type": "code",
   "execution_count": 4,
   "id": "b8028f46-06a6-4ab2-ad71-bedb73a9d267",
   "metadata": {},
   "outputs": [],
   "source": [
    "def plus_ten(a):\n",
    "    print(\"반환값:\", a+10)"
   ]
  },
  {
   "cell_type": "code",
   "execution_count": 5,
   "id": "af36470b-96b6-41a4-bb4f-bc86f48c2b22",
   "metadata": {},
   "outputs": [
    {
     "name": "stdout",
     "output_type": "stream",
     "text": [
      "반환값: 80\n"
     ]
    }
   ],
   "source": [
    " plus_ten(70)"
   ]
  },
  {
   "cell_type": "code",
   "execution_count": 1,
   "id": "eaa47532-ff11-4fb7-bd8c-b41cb8e4a3b1",
   "metadata": {},
   "outputs": [
    {
     "ename": "SyntaxError",
     "evalue": "invalid syntax (24582108.py, line 1)",
     "output_type": "error",
     "traceback": [
      "\u001b[1;36m  File \u001b[1;32m\"C:\\Users\\Playdata\\AppData\\Local\\Temp\\ipykernel_20864\\24582108.py\"\u001b[1;36m, line \u001b[1;32m1\u001b[0m\n\u001b[1;33m    문자열 메서드 join()\u001b[0m\n\u001b[1;37m        ^\u001b[0m\n\u001b[1;31mSyntaxError\u001b[0m\u001b[1;31m:\u001b[0m invalid syntax\n"
     ]
    }
   ],
   "source": [
    "문자열 메서드 join()\n",
    "문자열로 이뤄진 리스트를 하나의 문자열로 만듬 리스트 내 요소인 문자열과 문자열 사이에 채울 문자 값.join(문자로 만들 리스트)"
   ]
  },
  {
   "cell_type": "code",
   "execution_count": 2,
   "id": "91be4ddd-8e1a-41ee-9b25-78e7e3f06e80",
   "metadata": {},
   "outputs": [
    {
     "ename": "SyntaxError",
     "evalue": "invalid syntax (2245256809.py, line 6)",
     "output_type": "error",
     "traceback": [
      "\u001b[1;36m  File \u001b[1;32m\"C:\\Users\\Playdata\\AppData\\Local\\Temp\\ipykernel_20864\\2245256809.py\"\u001b[1;36m, line \u001b[1;32m6\u001b[0m\n\u001b[1;33m    wole_str = \"*\".\u001b[0m\n\u001b[1;37m                   ^\u001b[0m\n\u001b[1;31mSyntaxError\u001b[0m\u001b[1;31m:\u001b[0m invalid syntax\n"
     ]
    }
   ],
   "source": [
    "list_strs = [_ for _ in \"abcdefghijklmnopqrstuvwxyz\"]\n",
    "print(f\"list_strs = {list_strs}\")\n",
    "\n",
    "#str.join(list)\n",
    "#str 요소들로 이뤄진 list를 합쳐 하나의 문자열로 만듬\n",
    "wole_str = \"*\"."
   ]
  },
  {
   "cell_type": "code",
   "execution_count": 75,
   "id": "25ed0207-2b3d-4663-adc9-fcefff699b71",
   "metadata": {},
   "outputs": [
    {
     "name": "stdin",
     "output_type": "stream",
     "text": [
      "숫자를 하나 입력하세요:  50\n"
     ]
    },
    {
     "name": "stdout",
     "output_type": "stream",
     "text": [
      "그보다 작습니다\n"
     ]
    },
    {
     "name": "stdin",
     "output_type": "stream",
     "text": [
      "숫자를 하나 입력하세요:  38\n"
     ]
    },
    {
     "name": "stdout",
     "output_type": "stream",
     "text": [
      "그보다 작습니다\n"
     ]
    },
    {
     "name": "stdin",
     "output_type": "stream",
     "text": [
      "숫자를 하나 입력하세요:  27\n"
     ]
    },
    {
     "name": "stdout",
     "output_type": "stream",
     "text": [
      "그보다 작습니다\n"
     ]
    },
    {
     "name": "stdin",
     "output_type": "stream",
     "text": [
      "숫자를 하나 입력하세요:  14\n"
     ]
    },
    {
     "name": "stdout",
     "output_type": "stream",
     "text": [
      "그보다 큽니다\n"
     ]
    },
    {
     "name": "stdin",
     "output_type": "stream",
     "text": [
      "숫자를 하나 입력하세요:  18\n"
     ]
    },
    {
     "name": "stdout",
     "output_type": "stream",
     "text": [
      "그보다 작습니다\n"
     ]
    },
    {
     "name": "stdin",
     "output_type": "stream",
     "text": [
      "숫자를 하나 입력하세요:  16\n"
     ]
    },
    {
     "name": "stdout",
     "output_type": "stream",
     "text": [
      "그보다 큽니다\n"
     ]
    },
    {
     "name": "stdin",
     "output_type": "stream",
     "text": [
      "숫자를 하나 입력하세요:  17\n"
     ]
    },
    {
     "name": "stdout",
     "output_type": "stream",
     "text": [
      "맞췄습니다!\n",
      "7번 만에 맞추셨습니다.\n",
      "입력한 숫자는 다음과 같습니다. 50,38,27,14,18,16,17\n"
     ]
    }
   ],
   "source": [
    "import random\n",
    "random_n = random.randint(1, 101)\n",
    "input_values = []\n",
    "\n",
    "while True : \n",
    "    input_values.append(input(\"숫자를 하나 입력하세요: \"))\n",
    "    i = int(input_values[-1])\n",
    "    if i > 100 or i < 1 :\n",
    "        print(\"1 ~ 100 사이의 숫자를 입력하세요.\")\n",
    "    elif random_n > i :\n",
    "        print(\"그보다 큽니다\")\n",
    "    elif random_n < i:\n",
    "        print(\"그보다 작습니다\")\n",
    "    else:\n",
    "        print(\"맞췄습니다!\")\n",
    "        break\n",
    "print(len(input_values), \"번 만에 맞추셨습니다.\", sep=\"\")\n",
    "print(\"입력한 숫자는 다음과 같습니다.\", \",\" .join(input_values))"
   ]
  },
  {
   "cell_type": "markdown",
   "id": "81ae5c85-ea3e-48c0-9d5c-64e5006bb3e8",
   "metadata": {},
   "source": [
    "----------------------------------------------"
   ]
  },
  {
   "cell_type": "code",
   "execution_count": 76,
   "id": "88fc09b9-9cd9-458f-8e9d-f01c6ff4ba16",
   "metadata": {},
   "outputs": [],
   "source": [
    "# 함수 정의절"
   ]
  },
  {
   "cell_type": "code",
   "execution_count": 80,
   "id": "60424efc-2a99-41b9-bb81-c5a12d4413c6",
   "metadata": {},
   "outputs": [],
   "source": [
    "def function_name(param1, param2,  /, poskey1, poskey2, *, keyonly1, keyonly2) :\n",
    "    \"\"\"\n",
    "    Docs\n",
    "    \"\"\"\n",
    "    pass"
   ]
  },
  {
   "cell_type": "code",
   "execution_count": 82,
   "id": "a3e6c905-b839-4920-b70d-ec32a59a6aa4",
   "metadata": {},
   "outputs": [],
   "source": [
    "#인무(argument)\n",
    "#position-only -> \"값\", \"값2\", \"값3\", ...\n",
    "#keyword_only -> key = \"value\", key2 = \"value2\", ...\n",
    "function_name(\"posonly\", \"po\", \"value\", poskey2=\"value\", keyonly1=\"value\", keyonly2=\"value\")"
   ]
  },
  {
   "cell_type": "code",
   "execution_count": 91,
   "id": "571365c4-fc19-44ed-a4a7-fee84c546061",
   "metadata": {},
   "outputs": [],
   "source": [
    "# 가변 위치 개수에 유연하게 값을 받을 수 있는 인자\n",
    "def function_name2(*args):\n",
    "    print(type(args))\n",
    "    for arg in args:\n",
    "        print(arg)"
   ]
  },
  {
   "cell_type": "code",
   "execution_count": 92,
   "id": "7e9c8a1b-f165-49b7-a36a-f4a470d69c54",
   "metadata": {},
   "outputs": [
    {
     "name": "stdout",
     "output_type": "stream",
     "text": [
      "<class 'tuple'>\n",
      "args\n",
      "는\n",
      "가변 위치\n",
      "인수입니다.\n"
     ]
    }
   ],
   "source": [
    "function_name2(\"args\", \"는\", \"가변 위치\", \"인수입니다.\") # \"args\" --> param1  /  \"는\" --> param2  /  (\"가변 위치\", \"인수입니다.\") packing되어서 --> *args"
   ]
  },
  {
   "cell_type": "code",
   "execution_count": 85,
   "id": "c5b5bd61-0fe3-4688-a9c4-20caf7a4dcf2",
   "metadata": {},
   "outputs": [],
   "source": [
    "# 가변 위치 개수에 유연하게 값을 받을 수 있는 인자\n",
    "def function_name2(param1, param2, *args):\n",
    "    print(param1)\n",
    "    print(param2)\n",
    "    print(type(args))\n",
    "    for arg in args:\n",
    "        print(arg)"
   ]
  },
  {
   "cell_type": "code",
   "execution_count": 86,
   "id": "f0a5472c-c226-4abf-a0b2-a70f21288585",
   "metadata": {},
   "outputs": [
    {
     "name": "stdout",
     "output_type": "stream",
     "text": [
      "args\n",
      "는\n",
      "<class 'tuple'>\n",
      "가변 위치\n",
      "인수입니다.\n"
     ]
    }
   ],
   "source": [
    "function_name2(\"args\", \"는\", \"가변 위치\", \"인수입니다.\") # \"args\" --> param1  /  \"는\" --> param2  /  (\"가변 위치\", \"인수입니다.\") packing되어서 --> *args"
   ]
  },
  {
   "cell_type": "code",
   "execution_count": 94,
   "id": "0dcbf73b-732d-45e2-bbe8-f0e2189aa555",
   "metadata": {},
   "outputs": [
    {
     "name": "stdout",
     "output_type": "stream",
     "text": [
      "0 1 2 3\n"
     ]
    }
   ],
   "source": [
    "# unpacking\n",
    "# 시퀸스 자료형의 개수만큼 좌측에 변수 맞춰줘서 한번 할당\n",
    "a, b, c, d = [_ for _ in range(4)]\n",
    "print(a, b, c, d)"
   ]
  },
  {
   "cell_type": "code",
   "execution_count": 95,
   "id": "3fb6d117-15fe-4002-95eb-f588158cedbe",
   "metadata": {},
   "outputs": [],
   "source": [
    "# Parameters : 함수 정의절애서 사용하는 이름\n",
    "# Arguments : 함수 호출할때 함수에 전달하는 실제 값"
   ]
  },
  {
   "cell_type": "markdown",
   "id": "6b5c53de-97ee-4d01-8621-f2fbd430cf56",
   "metadata": {},
   "source": [
    "### 연습문제 ###"
   ]
  },
  {
   "cell_type": "code",
   "execution_count": 109,
   "id": "fff4fb4f-7d2e-4f50-9a2f-05fd23613814",
   "metadata": {},
   "outputs": [],
   "source": [
    "def to_celsius(fahrenheit) :\n",
    "    \n",
    "    return (fahrenheit-32) * 5/9"
   ]
  },
  {
   "cell_type": "code",
   "execution_count": 112,
   "id": "70bbbc62-ee94-49ec-82e2-75ec86977599",
   "metadata": {},
   "outputs": [
    {
     "name": "stdout",
     "output_type": "stream",
     "text": [
      "21.11111111111111\n"
     ]
    }
   ],
   "source": [
    "print(to_celsius(70))"
   ]
  },
  {
   "cell_type": "code",
   "execution_count": 154,
   "id": "6bbd738e-ac13-4cb8-9a22-a0042b405560",
   "metadata": {},
   "outputs": [],
   "source": [
    "def odd_even(number) :\n",
    "    \"\"\"number가 짝수면 \"짝수\", 홀수면 \"홀수\" 반환\"\"\"\n",
    "    if type(number) != int :\n",
    "        return\n",
    "    elif number % 2 == 0 :\n",
    "        return\"짝수\"\n",
    "    elif number % 2 == 1:\n",
    "        return\"홀수\"\n",
    "    "
   ]
  },
  {
   "cell_type": "code",
   "execution_count": 155,
   "id": "8625984f-0131-4670-8393-d15fc5901e3e",
   "metadata": {},
   "outputs": [
    {
     "name": "stdout",
     "output_type": "stream",
     "text": [
      "number가 짝수면 \"짝수\", 홀수면 \"홀수\" 반환\n",
      "짝수\n",
      "홀수\n",
      "None\n"
     ]
    }
   ],
   "source": [
    "print(odd_even.__doc__)\n",
    "print(odd_even(10))\n",
    "print(odd_even(9))\n",
    "print(odd_even(\"가\"))"
   ]
  },
  {
   "cell_type": "code",
   "execution_count": 156,
   "id": "b26dfa22-301f-43d0-82a6-3ae7825c05b0",
   "metadata": {},
   "outputs": [],
   "source": [
    "def odd_even(number) :\n",
    "    \"\"\"number가 짝수면 \"짝수\", 홀수면 \"홀수\" 반환\"\"\"\n",
    "    if type(number) is int and number > 0:\n",
    "        return \"짝수\" * (number % 2 == 0) or \"홀수\" #true면 1처럼 동작 / false면 0(빈 문자열이나 0)처럼 동작\n",
    "    else:\n",
    "        return"
   ]
  },
  {
   "cell_type": "code",
   "execution_count": 157,
   "id": "b8c50385-8503-4e00-8e4b-9ed075972bab",
   "metadata": {},
   "outputs": [
    {
     "name": "stdout",
     "output_type": "stream",
     "text": [
      "number가 짝수면 \"짝수\", 홀수면 \"홀수\" 반환\n",
      "짝수\n",
      "홀수\n",
      "None\n"
     ]
    }
   ],
   "source": [
    "print(odd_even.__doc__)\n",
    "print(odd_even(10))\n",
    "print(odd_even(9))\n",
    "print(odd_even(\"가\"))"
   ]
  },
  {
   "cell_type": "code",
   "execution_count": 158,
   "id": "740d4074-5f58-46f6-8ebb-1e75aa1a71cc",
   "metadata": {},
   "outputs": [],
   "source": [
    "def check_leap_year(year) :\n",
    "    if year % 4 == 0:\n",
    "        if year % 100 ==0 and year % 400 != 0:\n",
    "            return \"평년\"\n",
    "        return\"윤년\"\n",
    "    else:\n",
    "        return\"평년\"\n",
    "    "
   ]
  },
  {
   "cell_type": "code",
   "execution_count": 162,
   "id": "c7a7e0be-785e-4456-8f27-0ee68488324a",
   "metadata": {},
   "outputs": [
    {
     "name": "stdout",
     "output_type": "stream",
     "text": [
      "윤년\n",
      "윤년\n",
      "평년\n"
     ]
    }
   ],
   "source": [
    "print(check_leap_year(2004))\n",
    "print(check_leap_year(2000))\n",
    "print(check_leap_year(1900))"
   ]
  },
  {
   "cell_type": "code",
   "execution_count": 187,
   "id": "9d975404-0f60-469e-96a7-435984366161",
   "metadata": {},
   "outputs": [],
   "source": [
    "def days(month):\n",
    "    if month in (1, 3, 5, 7, 8, 10, 12) :\n",
    "        return 31\n",
    "    elif month in (4 , 6 , 9 , 11) :\n",
    "        return 30\n",
    "    elif month == (2) :\n",
    "        return 28\n",
    "    else:\n",
    "        return"
   ]
  },
  {
   "cell_type": "code",
   "execution_count": 189,
   "id": "26fc6e8b-d81f-4587-a4be-071880e19120",
   "metadata": {},
   "outputs": [
    {
     "name": "stdout",
     "output_type": "stream",
     "text": [
      "30\n",
      "28\n",
      "31\n",
      "None\n"
     ]
    }
   ],
   "source": [
    "print(days(11))\n",
    "print(days(2))\n",
    "print(days(1))\n",
    "print(days(13))\n"
   ]
  },
  {
   "cell_type": "code",
   "execution_count": 198,
   "id": "e786a4b6-45c7-49dc-bb4d-e433ca76e2f8",
   "metadata": {},
   "outputs": [],
   "source": [
    "def days(year, month):\n",
    "    if month in (1, 3, 5, 7, 8, 10, 12) :\n",
    "        return 31\n",
    "    elif month in (4 , 6 , 9 , 11) :\n",
    "        return 30\n",
    "    elif month == (2) :\n",
    "        if year % 4 == 0:\n",
    "            if year % 100 ==0 and year % 400 != 0:\n",
    "                return 28\n",
    "            return 29\n",
    "        else:\n",
    "            return 28\n",
    "    else:\n",
    "        return"
   ]
  },
  {
   "cell_type": "code",
   "execution_count": 199,
   "id": "930c81f2-d4c1-433e-b232-52649c1f8025",
   "metadata": {},
   "outputs": [
    {
     "name": "stdout",
     "output_type": "stream",
     "text": [
      "30\n",
      "31\n",
      "28\n",
      "29\n"
     ]
    }
   ],
   "source": [
    "print(days(1900, 11))\n",
    "print(days(2004, 10))\n",
    "print(days(1900, 2))\n",
    "print(days(2000, 2))"
   ]
  },
  {
   "cell_type": "code",
   "execution_count": 203,
   "id": "095ff84d-3ff6-419f-9235-37a12f61687e",
   "metadata": {},
   "outputs": [
    {
     "name": "stdout",
     "output_type": "stream",
     "text": [
      "몫: 3, 나머지:1\n"
     ]
    }
   ],
   "source": [
    "x = 10\n",
    "y = 3\n",
    "def get_quotient_remainder(x, y):\n",
    "    return x // y , x % y\n",
    "quitient, remainder = get_quotient_remainder(x, y)\n",
    "print(f'몫: {quitient}, 나머지:{remainder}')"
   ]
  }
 ],
 "metadata": {
  "kernelspec": {
   "display_name": "Python 3 (ipykernel)",
   "language": "python",
   "name": "python3"
  },
  "language_info": {
   "codemirror_mode": {
    "name": "ipython",
    "version": 3
   },
   "file_extension": ".py",
   "mimetype": "text/x-python",
   "name": "python",
   "nbconvert_exporter": "python",
   "pygments_lexer": "ipython3",
   "version": "3.9.13"
  }
 },
 "nbformat": 4,
 "nbformat_minor": 5
}

{
 "cells": [
  {
   "cell_type": "code",
   "execution_count": null,
   "id": "e1abd1e8-6601-43ec-85ac-9aec2d07150c",
   "metadata": {},
   "outputs": [],
   "source": [
    "# 주석 사용하기\n",
    "x = 1 # 여기서 =(등호) 기호는 수핫의 같다는 의미와는 다르다.\n",
    "      # ... 우측 변의 리터럴을 좌측 변의 변수에 대임한다는 의미다.\n",
    "    \n",
    "text = \"# 이것은 주석이 아닙니다. 따옴표 안은 문자열 리터럴입니다.\""
   ]
  },
  {
   "cell_type": "code",
   "execution_count": 1,
   "id": "83526826-8551-42fc-a60c-7c816dc93d43",
   "metadata": {},
   "outputs": [
    {
     "name": "stdout",
     "output_type": "stream",
     "text": [
      "Hello, world!\n",
      "Hello, world!\n",
      "Python Programming\n"
     ]
    }
   ],
   "source": [
    "print(\"Hello, world!\")\n",
    "print(\"Hello, world!\")\n",
    "print(\"Python Programming\")   "
   ]
  },
  {
   "cell_type": "code",
   "execution_count": 2,
   "id": "750c6b5f-72a9-44d6-86f4-244fb116ff94",
   "metadata": {},
   "outputs": [
    {
     "data": {
      "text/plain": [
       "4"
      ]
     },
     "execution_count": 2,
     "metadata": {},
     "output_type": "execute_result"
    }
   ],
   "source": [
    "2+2  "
   ]
  },
  {
   "cell_type": "code",
   "execution_count": 3,
   "id": "c484be83-db6a-454d-ba8a-d796f8e09a75",
   "metadata": {},
   "outputs": [
    {
     "data": {
      "text/plain": [
       "1"
      ]
     },
     "execution_count": 3,
     "metadata": {},
     "output_type": "execute_result"
    }
   ],
   "source": [
    "3-2"
   ]
  },
  {
   "cell_type": "code",
   "execution_count": 4,
   "id": "cd83e5b6-9f14-48e8-ab4f-4c61259f953e",
   "metadata": {},
   "outputs": [
    {
     "data": {
      "text/plain": [
       "20"
      ]
     },
     "execution_count": 4,
     "metadata": {},
     "output_type": "execute_result"
    }
   ],
   "source": [
    "4*5"
   ]
  },
  {
   "cell_type": "code",
   "execution_count": 5,
   "id": "f59d0821-6136-4387-834a-e5d8a223a7a1",
   "metadata": {},
   "outputs": [
    {
     "data": {
      "text/plain": [
       "2.0"
      ]
     },
     "execution_count": 5,
     "metadata": {},
     "output_type": "execute_result"
    }
   ],
   "source": [
    "4/2"
   ]
  },
  {
   "cell_type": "code",
   "execution_count": 6,
   "id": "3c11dba0-427d-40b8-abb0-6d3a82a84500",
   "metadata": {},
   "outputs": [
    {
     "data": {
      "text/plain": [
       "89"
      ]
     },
     "execution_count": 6,
     "metadata": {},
     "output_type": "execute_result"
    }
   ],
   "source": [
    "13+(22-3)*4"
   ]
  },
  {
   "cell_type": "code",
   "execution_count": 7,
   "id": "9e0a2df8-d9a1-47ef-b383-bdb86f60b103",
   "metadata": {},
   "outputs": [
    {
     "data": {
      "text/plain": [
       "28.2"
      ]
     },
     "execution_count": 7,
     "metadata": {},
     "output_type": "execute_result"
    }
   ],
   "source": [
    "13+((22-3)*4)/5"
   ]
  },
  {
   "cell_type": "code",
   "execution_count": 10,
   "id": "5f335d91-fafd-47dd-b38b-a377f94634e1",
   "metadata": {},
   "outputs": [
    {
     "data": {
      "text/plain": [
       "128"
      ]
     },
     "execution_count": 10,
     "metadata": {},
     "output_type": "execute_result"
    }
   ],
   "source": [
    "2**7"
   ]
  },
  {
   "cell_type": "code",
   "execution_count": 11,
   "id": "91ebdb80-0375-49ee-9c80-23c80d92a2e4",
   "metadata": {},
   "outputs": [
    {
     "data": {
      "text/plain": [
       "1.7320508075688772"
      ]
     },
     "execution_count": 11,
     "metadata": {},
     "output_type": "execute_result"
    }
   ],
   "source": [
    "3**(1/2)"
   ]
  },
  {
   "cell_type": "code",
   "execution_count": 12,
   "id": "21d976ea-7a92-4558-8dd2-c91db15903d9",
   "metadata": {},
   "outputs": [
    {
     "data": {
      "text/plain": [
       "7"
      ]
     },
     "execution_count": 12,
     "metadata": {},
     "output_type": "execute_result"
    }
   ],
   "source": [
    "int(0.2467*12+4.159)"
   ]
  },
  {
   "cell_type": "code",
   "execution_count": 15,
   "id": "7a56804c-c038-4bbb-af39-697c4883f80c",
   "metadata": {},
   "outputs": [
    {
     "data": {
      "text/plain": [
       "7"
      ]
     },
     "execution_count": 15,
     "metadata": {},
     "output_type": "execute_result"
    }
   ],
   "source": [
    "x=12\n",
    "int(0.2467*x+4.159)"
   ]
  },
  {
   "cell_type": "code",
   "execution_count": 16,
   "id": "37aed3d6-3625-4695-b075-712802da306e",
   "metadata": {},
   "outputs": [
    {
     "name": "stdout",
     "output_type": "stream",
     "text": [
      "가장 시끄러운 층은 = 7층\n"
     ]
    }
   ],
   "source": [
    "print(\"가장\", \"시끄러운\", \"층은\", \"=\", \"7층\")"
   ]
  },
  {
   "cell_type": "code",
   "execution_count": 17,
   "id": "d4f79805-afe1-45ae-a6d6-7aae9533fa8e",
   "metadata": {},
   "outputs": [
    {
     "ename": "SyntaxError",
     "evalue": "invalid syntax (2743567704.py, line 2)",
     "output_type": "error",
     "traceback": [
      "\u001b[1;36m  File \u001b[1;32m\"C:\\Users\\Playdata\\AppData\\Local\\Temp\\ipykernel_13596\\2743567704.py\"\u001b[1;36m, line \u001b[1;32m2\u001b[0m\n\u001b[1;33m    print(냉장고의 가격은 int(x*24) 원 입니다.)\u001b[0m\n\u001b[1;37m               ^\u001b[0m\n\u001b[1;31mSyntaxError\u001b[0m\u001b[1;31m:\u001b[0m invalid syntax\n"
     ]
    }
   ],
   "source": [
    "x=53000\n",
    "print(냉장고의 가격은 int(x*24) 원 입니다.) "
   ]
  },
  {
   "cell_type": "code",
   "execution_count": 18,
   "id": "71254021-6c48-4060-b3bb-ccd4c29683ba",
   "metadata": {},
   "outputs": [
    {
     "name": "stdout",
     "output_type": "stream",
     "text": [
      "냉장고의 가격은 1272000 원 입니다.\n"
     ]
    }
   ],
   "source": [
    "refrig_price = 53000 * 24\n",
    "print(\"냉장고의 가격은\", refrig_price, \"원\", \"입니다.\")"
   ]
  },
  {
   "cell_type": "code",
   "execution_count": 19,
   "id": "2e6aef18-8070-4076-9648-0e7627808d2b",
   "metadata": {},
   "outputs": [
    {
     "name": "stdout",
     "output_type": "stream",
     "text": [
      "총 지불 해야 할 금액은 16500000.0 원 입니다.\n"
     ]
    }
   ],
   "source": [
    "people = 250\n",
    "tax = 0.1\n",
    "print(\"총 지불 해야 할 금액은\", (20000*3*people)+(20000*3*people*tax), \"원 입니다.\")"
   ]
  },
  {
   "cell_type": "code",
   "execution_count": 20,
   "id": "e9bf613f-d002-40cb-a236-919f7accbd90",
   "metadata": {},
   "outputs": [
    {
     "name": "stdout",
     "output_type": "stream",
     "text": [
      "총 지불 해야 할 금액은 16500000 원 입니다.\n"
     ]
    }
   ],
   "source": [
    "people = 250\n",
    "tax = 0.1\n",
    "print(\"총 지불 해야 할 금액은\", int((20000*3*people)+(20000*3*people*tax)), \"원 입니다.\")"
   ]
  },
  {
   "cell_type": "code",
   "execution_count": 21,
   "id": "081b3512-23a1-4687-ae61-fecb9c8f149c",
   "metadata": {},
   "outputs": [
    {
     "data": {
      "text/plain": [
       "12345000000.0"
      ]
     },
     "execution_count": 21,
     "metadata": {},
     "output_type": "execute_result"
    }
   ],
   "source": [
    "1.2345e10"
   ]
  },
  {
   "cell_type": "code",
   "execution_count": 22,
   "id": "583d9342-fdf3-446d-8149-fc3917f03df8",
   "metadata": {},
   "outputs": [
    {
     "data": {
      "text/plain": [
       "0.0012345"
      ]
     },
     "execution_count": 22,
     "metadata": {},
     "output_type": "execute_result"
    }
   ],
   "source": [
    "1.2345e-3"
   ]
  },
  {
   "cell_type": "code",
   "execution_count": 23,
   "id": "ad8a5b8e-21be-47d9-8287-4e12cde59d11",
   "metadata": {},
   "outputs": [
    {
     "data": {
      "text/plain": [
       "17"
      ]
     },
     "execution_count": 23,
     "metadata": {},
     "output_type": "execute_result"
    }
   ],
   "source": [
    "0b10001"
   ]
  },
  {
   "cell_type": "code",
   "execution_count": 24,
   "id": "15138864-bbcf-4091-8e38-9ec980ddc46c",
   "metadata": {},
   "outputs": [
    {
     "data": {
      "text/plain": [
       "22"
      ]
     },
     "execution_count": 24,
     "metadata": {},
     "output_type": "execute_result"
    }
   ],
   "source": [
    "0b10110"
   ]
  },
  {
   "cell_type": "code",
   "execution_count": 25,
   "id": "dc1952c5-270a-433d-b9fa-6107d58e104e",
   "metadata": {},
   "outputs": [
    {
     "data": {
      "text/plain": [
       "'0b10001'"
      ]
     },
     "execution_count": 25,
     "metadata": {},
     "output_type": "execute_result"
    }
   ],
   "source": [
    "bin(17)"
   ]
  },
  {
   "cell_type": "code",
   "execution_count": 26,
   "id": "b76d85fc-a7bb-4150-a31e-5ac79527c5ab",
   "metadata": {},
   "outputs": [
    {
     "data": {
      "text/plain": [
       "17"
      ]
     },
     "execution_count": 26,
     "metadata": {},
     "output_type": "execute_result"
    }
   ],
   "source": [
    "0o21"
   ]
  },
  {
   "cell_type": "code",
   "execution_count": 27,
   "id": "d491fd05-afe1-460f-b937-9f17806f4e7d",
   "metadata": {},
   "outputs": [
    {
     "data": {
      "text/plain": [
       "'0o27'"
      ]
     },
     "execution_count": 27,
     "metadata": {},
     "output_type": "execute_result"
    }
   ],
   "source": [
    "oct(23)"
   ]
  },
  {
   "cell_type": "code",
   "execution_count": 28,
   "id": "4a7c1650-f480-43e2-8e88-f0af0312c519",
   "metadata": {},
   "outputs": [
    {
     "data": {
      "text/plain": [
       "'0x45'"
      ]
     },
     "execution_count": 28,
     "metadata": {},
     "output_type": "execute_result"
    }
   ],
   "source": [
    "hex(69)"
   ]
  },
  {
   "cell_type": "code",
   "execution_count": 29,
   "id": "14682e02-c719-43ce-a321-8835b06beb15",
   "metadata": {},
   "outputs": [
    {
     "data": {
      "text/plain": [
       "453.0"
      ]
     },
     "execution_count": 29,
     "metadata": {},
     "output_type": "execute_result"
    }
   ],
   "source": [
    "AP=380\n",
    "AP * 0.6 + 225"
   ]
  },
  {
   "cell_type": "code",
   "execution_count": 30,
   "id": "76ae9320-b71e-435e-81fa-3af9d430752b",
   "metadata": {},
   "outputs": [
    {
     "name": "stdout",
     "output_type": "stream",
     "text": [
      "30\n"
     ]
    }
   ],
   "source": [
    "# a 변수 선언 후 숫자 러터럴 10 값을 할당\n",
    "a = 10\n",
    "\n",
    "# a 변수 값에 20을 더한 결과를 다시 a에 할당\n",
    "a = a + 20\n",
    "\n",
    "print(a)"
   ]
  },
  {
   "cell_type": "code",
   "execution_count": 31,
   "id": "d42596a3-835c-4014-92f1-d0493657e7c2",
   "metadata": {},
   "outputs": [
    {
     "ename": "NameError",
     "evalue": "name 'a' is not defined",
     "output_type": "error",
     "traceback": [
      "\u001b[1;31m---------------------------------------------------------------------------\u001b[0m",
      "\u001b[1;31mNameError\u001b[0m                                 Traceback (most recent call last)",
      "\u001b[1;32m~\\AppData\\Local\\Temp\\ipykernel_13596\\2210216928.py\u001b[0m in \u001b[0;36m<module>\u001b[1;34m\u001b[0m\n\u001b[0;32m      1\u001b[0m \u001b[1;31m# a 변수 삭제 후 a 변수를 출력해보기\u001b[0m\u001b[1;33m\u001b[0m\u001b[1;33m\u001b[0m\u001b[0m\n\u001b[0;32m      2\u001b[0m \u001b[1;32mdel\u001b[0m \u001b[0ma\u001b[0m\u001b[1;33m\u001b[0m\u001b[1;33m\u001b[0m\u001b[0m\n\u001b[1;32m----> 3\u001b[1;33m \u001b[0mprint\u001b[0m\u001b[1;33m(\u001b[0m\u001b[0ma\u001b[0m\u001b[1;33m)\u001b[0m\u001b[1;33m\u001b[0m\u001b[1;33m\u001b[0m\u001b[0m\n\u001b[0m",
      "\u001b[1;31mNameError\u001b[0m: name 'a' is not defined"
     ]
    }
   ],
   "source": [
    "# a 변수 삭제 후 a 변수를 출력해보기\n",
    "del a\n",
    "print(a)"
   ]
  },
  {
   "cell_type": "code",
   "execution_count": 32,
   "id": "0e733c62-920d-4a0f-a6ed-6db1ab55799c",
   "metadata": {},
   "outputs": [
    {
     "name": "stdout",
     "output_type": "stream",
     "text": [
      "10\n",
      "10\n"
     ]
    }
   ],
   "source": [
    "a = 10\n",
    "\n",
    "# 변수 a에 20 값을 더하고 할당하지 않았을 때\n",
    "a + 20\n",
    "print(a) #10\n",
    "\n",
    "a +- 10 # a = a + 10 과 같다\n",
    "print(a)"
   ]
  },
  {
   "cell_type": "code",
   "execution_count": 33,
   "id": "2132821a-486a-429c-bdb2-d193f85a73d8",
   "metadata": {},
   "outputs": [
    {
     "name": "stdout",
     "output_type": "stream",
     "text": [
      "10\n",
      "20\n"
     ]
    }
   ],
   "source": [
    "a = 10\n",
    "\n",
    "# 변수 a에 20 값을 더하고 할당하지 않았을 때\n",
    "a + 20\n",
    "print(a) #10\n",
    "\n",
    "a += 10 # a = a + 10 과 같다\n",
    "print(a)"
   ]
  },
  {
   "cell_type": "code",
   "execution_count": 34,
   "id": "8b3ce656-88b3-4db6-980a-2cb1df29be3b",
   "metadata": {},
   "outputs": [
    {
     "name": "stdout",
     "output_type": "stream",
     "text": [
      "None\n"
     ]
    }
   ],
   "source": [
    "a = None\n",
    "print(a)"
   ]
  },
  {
   "cell_type": "code",
   "execution_count": 35,
   "id": "45c3edb3-6ac6-43b6-a6b0-c3490cb5c1d7",
   "metadata": {},
   "outputs": [
    {
     "data": {
      "text/plain": [
       "bool"
      ]
     },
     "execution_count": 35,
     "metadata": {},
     "output_type": "execute_result"
    }
   ],
   "source": [
    "type(True)"
   ]
  },
  {
   "cell_type": "code",
   "execution_count": 36,
   "id": "ba55cad8-cb67-4d4a-89d9-6b740d8f95f6",
   "metadata": {},
   "outputs": [
    {
     "data": {
      "text/plain": [
       "bool"
      ]
     },
     "execution_count": 36,
     "metadata": {},
     "output_type": "execute_result"
    }
   ],
   "source": [
    "type(False)"
   ]
  },
  {
   "cell_type": "code",
   "execution_count": 38,
   "id": "d9dd5e24-89e6-4045-918f-aa241d1e0485",
   "metadata": {},
   "outputs": [
    {
     "name": "stdout",
     "output_type": "stream",
     "text": [
      "이것은 문자열입니다\n",
      "<class 'str'>\n",
      "이것은 문자열입니다\n",
      "<class 'str'>\n"
     ]
    }
   ],
   "source": [
    "text = '이것은 문자열입니다'\n",
    "text2 = \"이것은 문자열입니다\"\n",
    "\n",
    "print(text)\n",
    "print(type(text))\n",
    "\n",
    "print(text2)\n",
    "print(type(text2))"
   ]
  },
  {
   "cell_type": "code",
   "execution_count": 42,
   "id": "dea72858-b42c-4692-93a2-cc9dab6d710f",
   "metadata": {},
   "outputs": [],
   "source": [
    "text = 'don\\'t do that'\n",
    "text = \"don't do that\""
   ]
  },
  {
   "cell_type": "code",
   "execution_count": 43,
   "id": "90528a2e-36c5-4c9b-8d76-8b5564320bd2",
   "metadata": {},
   "outputs": [
    {
     "name": "stdout",
     "output_type": "stream",
     "text": [
      "\"안녕?\"이라는 그 인사를 듣고 나는 '누구지?'라고 생각했다.\n"
     ]
    }
   ],
   "source": [
    "text = \"\\\"안녕?\\\"이라는 그 인사를 듣고 나는 '누구지?'라고 생각했다.\"\n",
    "\n",
    "print(text)"
   ]
  },
  {
   "cell_type": "code",
   "execution_count": 44,
   "id": "65d56e80-76c6-49ee-97a3-06e80a7b4d37",
   "metadata": {},
   "outputs": [
    {
     "name": "stdout",
     "output_type": "stream",
     "text": [
      "First line. \n",
      "Second line.\n"
     ]
    }
   ],
   "source": [
    "s = 'First line. \\nSecond line.'\n",
    "print(s)"
   ]
  },
  {
   "cell_type": "code",
   "execution_count": 46,
   "id": "210acbcf-09dc-400f-a690-a2cefbee08d0",
   "metadata": {},
   "outputs": [
    {
     "name": "stdout",
     "output_type": "stream",
     "text": [
      "c:\\name\n",
      "c:\\name\n"
     ]
    }
   ],
   "source": [
    "s1 = r'c:\\name'\n",
    "s2 = 'c:\\\\name'\n",
    "\n",
    "print(s1)\n",
    "print(s2)"
   ]
  },
  {
   "cell_type": "code",
   "execution_count": 47,
   "id": "28dbc9ea-a39b-48e7-a3f5-a431dcd4325c",
   "metadata": {},
   "outputs": [
    {
     "name": "stdout",
     "output_type": "stream",
     "text": [
      "\n",
      "안녕하세요.\n",
      "나는 파이썬을 공부하고 있습니다.\n",
      "반갑습니다.\n",
      "\n"
     ]
    }
   ],
   "source": [
    "s3 = \"\"\"\n",
    "안녕하세요.\n",
    "나는 파이썬을 공부하고 있습니다.\n",
    "반갑습니다.\n",
    "\"\"\"\n",
    "\n",
    "print(s3)"
   ]
  },
  {
   "cell_type": "code",
   "execution_count": 48,
   "id": "c336d214-8649-4744-bda0-e99a3b227db7",
   "metadata": {},
   "outputs": [
    {
     "ename": "SyntaxError",
     "evalue": "unexpected character after line continuation character (3100476970.py, line 1)",
     "output_type": "error",
     "traceback": [
      "\u001b[1;36m  File \u001b[1;32m\"C:\\Users\\Playdata\\AppData\\Local\\Temp\\ipykernel_13596\\3100476970.py\"\u001b[1;36m, line \u001b[1;32m1\u001b[0m\n\u001b[1;33m    s3 = \\\"\"\"\u001b[0m\n\u001b[1;37m          ^\u001b[0m\n\u001b[1;31mSyntaxError\u001b[0m\u001b[1;31m:\u001b[0m unexpected character after line continuation character\n"
     ]
    }
   ],
   "source": [
    "s3 = \\\"\"\"\n",
    "안녕하세요.\n",
    "나는 파이썬을 공부하고 있습니다.\n",
    "반갑습니다.\n",
    "\"\"\""
   ]
  },
  {
   "cell_type": "code",
   "execution_count": 51,
   "id": "9f637cf4-c017-4e29-9cd9-9f8c9996d753",
   "metadata": {},
   "outputs": [
    {
     "name": "stdout",
     "output_type": "stream",
     "text": [
      "안녕하세요.\n",
      "나는 파이썬을 공부하고 있습니다.\n",
      "반갑습니다.\n",
      "\n"
     ]
    }
   ],
   "source": [
    "s3 = \"\"\"\\\n",
    "안녕하세요.\n",
    "나는 파이썬을 공부하고 있습니다.\n",
    "반갑습니다.\n",
    "\"\"\"\n",
    "\n",
    "print(s3)"
   ]
  },
  {
   "cell_type": "code",
   "execution_count": 52,
   "id": "27fa74b5-f1a3-45cb-8103-6350a82a33e4",
   "metadata": {},
   "outputs": [
    {
     "name": "stdout",
     "output_type": "stream",
     "text": [
      "안녕하세요.\n",
      "나는 파이썬을 공부하고 있습니다.\n",
      "반갑습니다.\n",
      "\n"
     ]
    }
   ],
   "source": [
    "s3 = \"\"\"\\\n",
    "안녕하세요.\n",
    "나는 파이썬을 공부하고 있습니다.\n",
    "반갑습니다.\n",
    "\"\"\"\\\n",
    "\n",
    "print(s3)"
   ]
  },
  {
   "cell_type": "code",
   "execution_count": 53,
   "id": "66beb2e6-6237-4659-b568-878c758906e9",
   "metadata": {},
   "outputs": [
    {
     "name": "stdout",
     "output_type": "stream",
     "text": [
      "안녕하세요.\n",
      "나는 파이썬을 공부하고 있습니다.\n",
      "반갑습니다.\n"
     ]
    }
   ],
   "source": [
    "s3 = \"\"\"\\\n",
    "안녕하세요.\n",
    "나는 파이썬을 공부하고 있습니다.\n",
    "반갑습니다.\\\n",
    "\"\"\"\n",
    "\n",
    "print(s3)"
   ]
  },
  {
   "cell_type": "code",
   "execution_count": 54,
   "id": "1ec62b88-10d1-466c-ba65-51aafe6fca98",
   "metadata": {},
   "outputs": [
    {
     "name": "stdout",
     "output_type": "stream",
     "text": [
      "\"안녕하세요.\"\n",
      "나는 파이썬을 공부하고 있습니다.\n",
      "반갑습니다.\n"
     ]
    }
   ],
   "source": [
    "s3 = \"\"\"\\\n",
    "\"안녕하세요.\"\n",
    "나는 파이썬을 공부하고 있습니다.\n",
    "반갑습니다.\\\n",
    "\"\"\"\n",
    "\n",
    "print(s3)"
   ]
  },
  {
   "cell_type": "code",
   "execution_count": 55,
   "id": "733f5341-0222-42dd-b51f-2a8ddc8eee8f",
   "metadata": {},
   "outputs": [
    {
     "name": "stdout",
     "output_type": "stream",
     "text": [
      "너무 너무 너무 너무 너무 너무 너무 파이썬 공부가 즐겁습니다.\n"
     ]
    }
   ],
   "source": [
    "text = \"너무 너무 너무 너무 너무 너무 너무 파이썬 공부가 즐겁습니다.\"\n",
    "print(text)"
   ]
  },
  {
   "cell_type": "code",
   "execution_count": 56,
   "id": "bcb59996-9fce-4a60-90c8-ec7d038cd802",
   "metadata": {},
   "outputs": [
    {
     "name": "stdout",
     "output_type": "stream",
     "text": [
      "너무 너무 너무 너무 너무 너무 너무 너무 너무 너무 너무 너무 너무 너무 너무 너무 너무 너무 너무 너무 너무 너무 너무 너무 너무 너무 너무 너무 너무 너무 너무 너무 너무 너무 너무 너무 너무 너무 너무 너무 너무 너무 너무 너무 너무 너무 너무 너무 너무 너무 너무 너무 너무 너무 너무 너무 너무 너무 너무 너무 너무 너무 너무 너무 너무 너무 너무 너무 너무 너무 너무 너무 너무 너무 너무 너무 너무 너무 너무 너무 너무 너무 너무 너무 너무 너무 너무 너무 너무 너무 너무 너무 너무 너무 너무 너무 너무 너무 너무 너무 파이썬 공부가 즐겁습니다.\n"
     ]
    }
   ],
   "source": [
    "s6 = \"너무 \" * 100 + \"파이썬 공부가 즐겁습니다.\"\n",
    "print(s6)"
   ]
  },
  {
   "cell_type": "code",
   "execution_count": 57,
   "id": "6a182e5c-b7fe-4551-8055-ad2a53ccb3eb",
   "metadata": {},
   "outputs": [
    {
     "name": "stdout",
     "output_type": "stream",
     "text": [
      "p\n"
     ]
    }
   ],
   "source": [
    "world = 'pythone'\n",
    "print(world[0])"
   ]
  },
  {
   "cell_type": "code",
   "execution_count": 58,
   "id": "60eb4a6d-0984-486a-8a47-27ae72e5e308",
   "metadata": {},
   "outputs": [
    {
     "ename": "NameError",
     "evalue": "name 'word' is not defined",
     "output_type": "error",
     "traceback": [
      "\u001b[1;31m---------------------------------------------------------------------------\u001b[0m",
      "\u001b[1;31mNameError\u001b[0m                                 Traceback (most recent call last)",
      "\u001b[1;32m~\\AppData\\Local\\Temp\\ipykernel_13596\\856478101.py\u001b[0m in \u001b[0;36m<module>\u001b[1;34m\u001b[0m\n\u001b[0;32m      1\u001b[0m \u001b[0mworld\u001b[0m \u001b[1;33m=\u001b[0m \u001b[1;34m'python'\u001b[0m\u001b[1;33m\u001b[0m\u001b[1;33m\u001b[0m\u001b[0m\n\u001b[0;32m      2\u001b[0m \u001b[1;31m# 인덱스는 0부터 시작된다\u001b[0m\u001b[1;33m\u001b[0m\u001b[1;33m\u001b[0m\u001b[0m\n\u001b[1;32m----> 3\u001b[1;33m \u001b[0mprint\u001b[0m\u001b[1;33m(\u001b[0m\u001b[0mword\u001b[0m\u001b[1;33m[\u001b[0m\u001b[1;36m0\u001b[0m\u001b[1;33m]\u001b[0m\u001b[1;33m)\u001b[0m\u001b[1;33m\u001b[0m\u001b[1;33m\u001b[0m\u001b[0m\n\u001b[0m\u001b[0;32m      4\u001b[0m \u001b[0mprint\u001b[0m\u001b[1;33m(\u001b[0m\u001b[0mword\u001b[0m\u001b[1;33m[\u001b[0m\u001b[1;36m5\u001b[0m\u001b[1;33m]\u001b[0m\u001b[1;33m)\u001b[0m\u001b[1;33m\u001b[0m\u001b[1;33m\u001b[0m\u001b[0m\n\u001b[0;32m      5\u001b[0m \u001b[1;31m#음수는 뒤에서부터 셉니다\u001b[0m\u001b[1;33m\u001b[0m\u001b[1;33m\u001b[0m\u001b[0m\n",
      "\u001b[1;31mNameError\u001b[0m: name 'word' is not defined"
     ]
    }
   ],
   "source": [
    "world = 'python'\n",
    "# 인덱스는 0부터 시작된다\n",
    "print(word[0])\n",
    "print(word[5])\n",
    "#음수는 뒤에서부터 셉니다 \n"
   ]
  },
  {
   "cell_type": "code",
   "execution_count": 59,
   "id": "f4a09209-7f0e-45d4-98dc-108443c5e271",
   "metadata": {},
   "outputs": [
    {
     "name": "stdout",
     "output_type": "stream",
     "text": [
      "이\n"
     ]
    }
   ],
   "source": [
    "sentence = '중요한 것은 꺾이지 않느 마음'\n",
    "print(sentence[8])"
   ]
  },
  {
   "cell_type": "code",
   "execution_count": 60,
   "id": "c1121606-d752-482b-a481-f7fc93e228d3",
   "metadata": {},
   "outputs": [
    {
     "name": "stdout",
     "output_type": "stream",
     "text": [
      "꺾\n"
     ]
    }
   ],
   "source": [
    "sentence = \"중요한 것은 꺾이지 않는 마음\"\n",
    "print(sentence[7])"
   ]
  },
  {
   "cell_type": "code",
   "execution_count": 61,
   "id": "8cf989b7-b37d-4ca2-b023-704333c92cfd",
   "metadata": {},
   "outputs": [
    {
     "name": "stdout",
     "output_type": "stream",
     "text": [
      "py\n",
      "py\n",
      "py\n"
     ]
    }
   ],
   "source": [
    "word = 'python'\n",
    "print(word[0:2])\n",
    "print(word[:2])\n",
    "print(word[:-4])"
   ]
  },
  {
   "cell_type": "code",
   "execution_count": 62,
   "id": "ffb37b95-d87b-45e3-8cd1-221373726845",
   "metadata": {},
   "outputs": [
    {
     "name": "stdout",
     "output_type": "stream",
     "text": [
      "pto\n"
     ]
    }
   ],
   "source": [
    "word = 'python'\n",
    "print(word[::2])"
   ]
  },
  {
   "cell_type": "code",
   "execution_count": 63,
   "id": "a3ea14a3-5a23-450c-a249-fe9838ab8ca6",
   "metadata": {},
   "outputs": [
    {
     "name": "stdout",
     "output_type": "stream",
     "text": [
      "\n"
     ]
    }
   ],
   "source": [
    "sentence = \"중요한 것은 꺾이지 않는 마음\"\n",
    "print(sentence[42:])"
   ]
  },
  {
   "cell_type": "code",
   "execution_count": 64,
   "id": "b0ef6b10-56ec-466f-b598-50d10ef23e05",
   "metadata": {},
   "outputs": [
    {
     "name": "stdout",
     "output_type": "stream",
     "text": [
      "한 것은 꺾이지 않는 마음\n"
     ]
    }
   ],
   "source": [
    "sentence = \"중요한 것은 꺾이지 않는 마음\"\n",
    "print(sentence[2:42])"
   ]
  },
  {
   "cell_type": "code",
   "execution_count": 65,
   "id": "337980cc-7cc1-440d-9fe9-f7e12b923a28",
   "metadata": {},
   "outputs": [
    {
     "name": "stdout",
     "output_type": "stream",
     "text": [
      "이지 않는 마음\n"
     ]
    }
   ],
   "source": [
    "sentence = \"중요한 것은 꺾이지 않는 마음\"\n",
    "print(sentence[8:17])"
   ]
  },
  {
   "cell_type": "code",
   "execution_count": 66,
   "id": "4ac36e2d-7e29-4e70-ad7d-db56b67ae042",
   "metadata": {},
   "outputs": [
    {
     "name": "stdout",
     "output_type": "stream",
     "text": [
      "꺾이지 않는 마음\n"
     ]
    }
   ],
   "source": [
    "sentence = \"중요한 것은 꺾이지 않는 마음\"\n",
    "print(sentence[7:17])"
   ]
  },
  {
   "cell_type": "code",
   "execution_count": 67,
   "id": "0b53cd5d-e99d-41a3-8f8b-08741c302e63",
   "metadata": {},
   "outputs": [
    {
     "name": "stdout",
     "output_type": "stream",
     "text": [
      "\n"
     ]
    }
   ],
   "source": [
    "sentence = \"중요한 것은 꺾이지 않는 마음\"\n",
    "print(sentence[-14:-17])"
   ]
  },
  {
   "cell_type": "code",
   "execution_count": 68,
   "id": "fcb66435-59cb-4947-94b6-c89f5a84e4a4",
   "metadata": {},
   "outputs": [
    {
     "name": "stdout",
     "output_type": "stream",
     "text": [
      "\n"
     ]
    }
   ],
   "source": [
    "sentence = \"중요한 것은 꺾이지 않는 마음\"\n",
    "print(sentence[-10:-17])"
   ]
  },
  {
   "cell_type": "code",
   "execution_count": 71,
   "id": "ad3d6d7c-c098-4116-8e40-fa0873f983dc",
   "metadata": {},
   "outputs": [
    {
     "name": "stdout",
     "output_type": "stream",
     "text": [
      "\n"
     ]
    }
   ],
   "source": [
    "sentence = \"중요한 것은 꺾이지 않는 마음\"\n",
    "print(sentence[4:0])"
   ]
  },
  {
   "cell_type": "code",
   "execution_count": 72,
   "id": "4532ac08-b96e-4295-a99e-afca18a4f912",
   "metadata": {},
   "outputs": [
    {
     "name": "stdout",
     "output_type": "stream",
     "text": [
      "\n"
     ]
    }
   ],
   "source": [
    "sentence = \"중요한 것은 꺾이지 않는 마음\"\n",
    "print(sentence[-1:-3])"
   ]
  },
  {
   "cell_type": "code",
   "execution_count": 74,
   "id": "9d6add79-9c21-43fc-b3c3-b69b354e2c27",
   "metadata": {},
   "outputs": [
    {
     "name": "stdout",
     "output_type": "stream",
     "text": [
      "한요중\n"
     ]
    }
   ],
   "source": [
    "sentence = \"중요한 것은 꺾이지 않는 마음\"\n",
    "print(sentence[-14::-1])"
   ]
  },
  {
   "cell_type": "code",
   "execution_count": 75,
   "id": "35830fea-413f-4b0f-a719-3080a81f3603",
   "metadata": {},
   "outputs": [
    {
     "name": "stdout",
     "output_type": "stream",
     "text": [
      "한요중\n"
     ]
    }
   ],
   "source": [
    "sentence = \"중요한 것은 꺾이지 않는 마음\"\n",
    "print(sentence[2::-1])"
   ]
  },
  {
   "cell_type": "code",
   "execution_count": 76,
   "id": "810c59f8-1065-446e-98ba-23e000df0781",
   "metadata": {},
   "outputs": [
    {
     "name": "stdout",
     "output_type": "stream",
     "text": [
      "한것 \n"
     ]
    }
   ],
   "source": [
    "sentence = \"중요한 것은 꺾이지 않는 마음\"\n",
    "print(sentence[2:8:2])"
   ]
  },
  {
   "cell_type": "code",
   "execution_count": 77,
   "id": "d73f06b5-00d3-49fc-8017-c4b7c69c9518",
   "metadata": {},
   "outputs": [
    {
     "name": "stdout",
     "output_type": "stream",
     "text": [
      "한것 이\n"
     ]
    }
   ],
   "source": [
    "sentence = \"중요한 것은 꺾이지 않는 마음\"\n",
    "print(sentence[2:10:2])"
   ]
  },
  {
   "cell_type": "code",
   "execution_count": 78,
   "id": "b204f319-480c-4b4b-bf38-2b739725570c",
   "metadata": {},
   "outputs": [
    {
     "ename": "TypeError",
     "evalue": "'str' object does not support item assignment",
     "output_type": "error",
     "traceback": [
      "\u001b[1;31m---------------------------------------------------------------------------\u001b[0m",
      "\u001b[1;31mTypeError\u001b[0m                                 Traceback (most recent call last)",
      "\u001b[1;32m~\\AppData\\Local\\Temp\\ipykernel_13596\\3331053808.py\u001b[0m in \u001b[0;36m<module>\u001b[1;34m\u001b[0m\n\u001b[0;32m      1\u001b[0m \u001b[0msentence\u001b[0m \u001b[1;33m=\u001b[0m \u001b[1;34m\"중요한 것은 꺾이지 않는 마음\"\u001b[0m\u001b[1;33m\u001b[0m\u001b[1;33m\u001b[0m\u001b[0m\n\u001b[1;32m----> 2\u001b[1;33m \u001b[0msentence\u001b[0m\u001b[1;33m[\u001b[0m\u001b[1;36m0\u001b[0m\u001b[1;33m]\u001b[0m \u001b[1;33m=\u001b[0m \u001b[1;34m\"한\"\u001b[0m\u001b[1;33m\u001b[0m\u001b[1;33m\u001b[0m\u001b[0m\n\u001b[0m",
      "\u001b[1;31mTypeError\u001b[0m: 'str' object does not support item assignment"
     ]
    }
   ],
   "source": [
    "sentence = \"중요한 것은 꺾이지 않는 마음\"\n",
    "sentence[0] = \"한\""
   ]
  },
  {
   "cell_type": "code",
   "execution_count": 79,
   "id": "bc5fd8e1-752f-41df-aaad-7434b2e6f4ea",
   "metadata": {},
   "outputs": [
    {
     "ename": "TypeError",
     "evalue": "'str' object does not support item assignment",
     "output_type": "error",
     "traceback": [
      "\u001b[1;31m---------------------------------------------------------------------------\u001b[0m",
      "\u001b[1;31mTypeError\u001b[0m                                 Traceback (most recent call last)",
      "\u001b[1;32m~\\AppData\\Local\\Temp\\ipykernel_13596\\2017616475.py\u001b[0m in \u001b[0;36m<module>\u001b[1;34m\u001b[0m\n\u001b[0;32m      1\u001b[0m \u001b[0msentence\u001b[0m \u001b[1;33m=\u001b[0m \u001b[1;34m\"중요한 것은 꺾이지 않는 마음\"\u001b[0m\u001b[1;33m\u001b[0m\u001b[1;33m\u001b[0m\u001b[0m\n\u001b[1;32m----> 2\u001b[1;33m \u001b[0msentence\u001b[0m\u001b[1;33m[\u001b[0m\u001b[1;36m0\u001b[0m\u001b[1;33m:\u001b[0m\u001b[1;36m3\u001b[0m\u001b[1;33m]\u001b[0m \u001b[1;33m=\u001b[0m \u001b[1;34m\"대단한\"\u001b[0m\u001b[1;33m\u001b[0m\u001b[1;33m\u001b[0m\u001b[0m\n\u001b[0m",
      "\u001b[1;31mTypeError\u001b[0m: 'str' object does not support item assignment"
     ]
    }
   ],
   "source": [
    "sentence = \"중요한 것은 꺾이지 않는 마음\"\n",
    "sentence[0:3] = \"대단한\""
   ]
  },
  {
   "cell_type": "code",
   "execution_count": 81,
   "id": "414237ed-0eaa-4fe0-bed4-cbdf9720c254",
   "metadata": {},
   "outputs": [
    {
     "name": "stdout",
     "output_type": "stream",
     "text": [
      "대단한 것은 꺾이지 않는 마음\n"
     ]
    }
   ],
   "source": [
    "sentence = \"중요한 것은 꺾이지 않는 마음\"\n",
    "sentence = \"대단한\" + sentence[3:]\n",
    "print(sentence)"
   ]
  },
  {
   "cell_type": "code",
   "execution_count": 82,
   "id": "45e763dd-11f5-42d3-bfd6-a04a2a72874b",
   "metadata": {},
   "outputs": [
    {
     "name": "stdout",
     "output_type": "stream",
     "text": [
      "재밌어요재밌어요재밌어요재밌어요재밌어요재밌어요재밌어요재밌어요재밌어요재밌어요\n",
      "40\n"
     ]
    }
   ],
   "source": [
    "s7 = '재밌어요' * 10\n",
    "print(s7)\n",
    "print(len(s7))"
   ]
  },
  {
   "cell_type": "code",
   "execution_count": 83,
   "id": "dcc36f4f-3f5b-484c-a0df-6c49f661e624",
   "metadata": {},
   "outputs": [
    {
     "name": "stdout",
     "output_type": "stream",
     "text": [
      "[1, 4, 9, 16, 25]\n"
     ]
    }
   ],
   "source": [
    "squares = [1**2, 2**2, 3**2, 4**2, 5**2]\n",
    "print(squares)"
   ]
  },
  {
   "cell_type": "code",
   "execution_count": 84,
   "id": "362d2603-57c8-40d9-8a75-3322cae668bd",
   "metadata": {},
   "outputs": [
    {
     "name": "stdout",
     "output_type": "stream",
     "text": [
      "1\n",
      "25\n"
     ]
    }
   ],
   "source": [
    "squares = [1**2, 2**2, 3**2, 4**2, 5**2]\n",
    "print(squares[0])\n",
    "print(squares[-1])"
   ]
  },
  {
   "cell_type": "code",
   "execution_count": 85,
   "id": "b6ba083a-1920-4f94-9d70-cf65fde15dc4",
   "metadata": {},
   "outputs": [
    {
     "name": "stdout",
     "output_type": "stream",
     "text": [
      "[9, 16, 25]\n"
     ]
    }
   ],
   "source": [
    "squares = [1**2, 2**2, 3**2, 4**2, 5**2]\n",
    "print(squares[-3:])"
   ]
  },
  {
   "cell_type": "code",
   "execution_count": 86,
   "id": "9158c1c1-112d-4cd6-8dc4-74681b16db14",
   "metadata": {},
   "outputs": [
    {
     "name": "stdout",
     "output_type": "stream",
     "text": [
      "[1, 4, 9, 16, 25, 36, 49, 64, 81, 100]\n"
     ]
    }
   ],
   "source": [
    "squares = [1**2, 2**2, 3**2, 4**2, 5**2]\n",
    "print(squares + [36, 49, 64, 81, 100])"
   ]
  },
  {
   "cell_type": "code",
   "execution_count": 87,
   "id": "14de9c99-fe19-4c02-ba76-39029dff2580",
   "metadata": {},
   "outputs": [
    {
     "name": "stdout",
     "output_type": "stream",
     "text": [
      "['a', 'b', 'c', 'd', 'e', 'a', 'b', 'c', 'd', 'e', 'a', 'b', 'c', 'd', 'e']\n"
     ]
    }
   ],
   "source": [
    "squares = [1**2, 2**2, 3**2, 4**2, 5**2]\n",
    "letters = ['a', 'b', 'c', 'd', 'e']\n",
    "print(letters * 3)"
   ]
  },
  {
   "cell_type": "code",
   "execution_count": 88,
   "id": "fb7a62f1-1ea3-4acc-af33-402d4570c372",
   "metadata": {},
   "outputs": [
    {
     "name": "stdout",
     "output_type": "stream",
     "text": [
      "['a', 'b', 'c', 'd', 'e', 'a', 'b', 'c', 'd', 'e', 'a', 'b', 'c', 'd', 'e']\n"
     ]
    }
   ],
   "source": [
    "letters = ['a', 'b', 'c', 'd', 'e']\n",
    "print(letters * 3)"
   ]
  },
  {
   "cell_type": "markdown",
   "id": "67e7feef-2216-4494-8829-9310e0cda279",
   "metadata": {},
   "source": []
  },
  {
   "cell_type": "code",
   "execution_count": 89,
   "id": "da5d80c4-c03d-4021-b3d1-5ff9ba3c2bdd",
   "metadata": {},
   "outputs": [
    {
     "name": "stdout",
     "output_type": "stream",
     "text": [
      "[1, 8, 27, 64, 125]\n"
     ]
    }
   ],
   "source": [
    "cubes = [1, 8, 27, 65, 125]\n",
    "cubes[3] = 4**3\n",
    "print(cubes)"
   ]
  },
  {
   "cell_type": "code",
   "execution_count": 98,
   "id": "af108d6a-6028-4324-a456-f4fa1b0109be",
   "metadata": {},
   "outputs": [
    {
     "name": "stdout",
     "output_type": "stream",
     "text": [
      "['a', 'b', 'C', 'D', 'E']\n"
     ]
    }
   ],
   "source": [
    "letters = ['a', 'b', 'c', 'd', 'e']\n",
    "letters[2:5] = [\"C\", \"D\", \"E\"]\n",
    "print(letters)"
   ]
  },
  {
   "cell_type": "code",
   "execution_count": 99,
   "id": "51ef0fe5-8830-49bb-8953-fb7e28e12218",
   "metadata": {},
   "outputs": [
    {
     "name": "stdout",
     "output_type": "stream",
     "text": [
      "5\n"
     ]
    }
   ],
   "source": [
    "letters[2:5] = [\"C\", \"D\", \"E\"]\n",
    "print(len(letters))"
   ]
  },
  {
   "cell_type": "code",
   "execution_count": 93,
   "id": "6f1ed9db-a9b0-4063-90d8-b9f707899d84",
   "metadata": {},
   "outputs": [
    {
     "name": "stdout",
     "output_type": "stream",
     "text": [
      "[['a', 'b', 'c'], [1, 2, 3]]\n"
     ]
    }
   ],
   "source": [
    "a = [ 'a', 'b', 'c']\n",
    "n = [1, 2, 3]\n",
    "x = [a, n]\n",
    "print(x)"
   ]
  },
  {
   "cell_type": "code",
   "execution_count": 94,
   "id": "c2fb2c23-335f-4380-8155-052ae947ca8a",
   "metadata": {},
   "outputs": [
    {
     "name": "stdout",
     "output_type": "stream",
     "text": [
      "['a', 'b', 'c']\n"
     ]
    }
   ],
   "source": [
    "print(x[0])"
   ]
  },
  {
   "cell_type": "code",
   "execution_count": 96,
   "id": "227f09ea-b94d-4357-b4a4-d649f585072f",
   "metadata": {},
   "outputs": [
    {
     "name": "stdout",
     "output_type": "stream",
     "text": [
      "b\n"
     ]
    }
   ],
   "source": [
    "print(x[0][1])"
   ]
  },
  {
   "cell_type": "code",
   "execution_count": 97,
   "id": "c6680026-7a0e-453a-88da-78976e9d73fc",
   "metadata": {},
   "outputs": [
    {
     "name": "stdout",
     "output_type": "stream",
     "text": [
      "True\n",
      "False\n"
     ]
    }
   ],
   "source": [
    "numbers = [1, 2, 3, 4, 5, 6, 7]\n",
    "print(5 in numbers)\n",
    "print(10 in numbers)"
   ]
  },
  {
   "cell_type": "code",
   "execution_count": 1,
   "id": "0d39981a-7279-4431-83a9-7987b07d2d69",
   "metadata": {},
   "outputs": [
    {
     "data": {
      "text/plain": [
       "3"
      ]
     },
     "execution_count": 1,
     "metadata": {},
     "output_type": "execute_result"
    }
   ],
   "source": [
    "10//3"
   ]
  },
  {
   "cell_type": "code",
   "execution_count": 2,
   "id": "a1360b92-e459-4462-ad3d-b4f5e08a040c",
   "metadata": {},
   "outputs": [
    {
     "data": {
      "text/plain": [
       "8.0"
      ]
     },
     "execution_count": 2,
     "metadata": {},
     "output_type": "execute_result"
    }
   ],
   "source": [
    "float(10-2)"
   ]
  },
  {
   "cell_type": "code",
   "execution_count": 3,
   "id": "07cf0e1e-7e8c-4a53-9b3f-ff78eb35a49f",
   "metadata": {},
   "outputs": [
    {
     "data": {
      "text/plain": [
       "3.3333333333333335"
      ]
     },
     "execution_count": 3,
     "metadata": {},
     "output_type": "execute_result"
    }
   ],
   "source": [
    "float(10/3)"
   ]
  },
  {
   "cell_type": "code",
   "execution_count": 4,
   "id": "121e2347-708a-4c4a-b942-e38e8187f373",
   "metadata": {},
   "outputs": [
    {
     "data": {
      "text/plain": [
       "2"
      ]
     },
     "execution_count": 4,
     "metadata": {},
     "output_type": "execute_result"
    }
   ],
   "source": [
    "int(7/3)"
   ]
  },
  {
   "cell_type": "code",
   "execution_count": 5,
   "id": "af179453-ca7e-426b-9a36-d0179843b286",
   "metadata": {},
   "outputs": [
    {
     "data": {
      "text/plain": [
       "1"
      ]
     },
     "execution_count": 5,
     "metadata": {},
     "output_type": "execute_result"
    }
   ],
   "source": [
    "10%3"
   ]
  },
  {
   "cell_type": "code",
   "execution_count": 6,
   "id": "8421609b-a0d7-4a49-9869-a0571d241a6a",
   "metadata": {},
   "outputs": [
    {
     "data": {
      "text/plain": [
       "135"
      ]
     },
     "execution_count": 6,
     "metadata": {},
     "output_type": "execute_result"
    }
   ],
   "source": [
    "7+3*2**7-256"
   ]
  },
  {
   "cell_type": "code",
   "execution_count": 8,
   "id": "955c3b5c-f421-4402-a284-016ec92cb4ac",
   "metadata": {},
   "outputs": [
    {
     "name": "stdout",
     "output_type": "stream",
     "text": [
      "f\n"
     ]
    }
   ],
   "source": [
    "x = \"abcdefghijklm\"\n",
    "print(x[5])"
   ]
  },
  {
   "cell_type": "code",
   "execution_count": 9,
   "id": "c3f5293c-d458-4ed7-8d90-16820a2a08a0",
   "metadata": {},
   "outputs": [
    {
     "ename": "TypeError",
     "evalue": "string indices must be integers",
     "output_type": "error",
     "traceback": [
      "\u001b[1;31m----------------------------------------------------\u001b[0m",
      "\u001b[1;31mTypeError\u001b[0m          Traceback (most recent call last)",
      "\u001b[1;32m~\\AppData\\Local\\Temp\\ipykernel_10896\\3850084542.py\u001b[0m in \u001b[0;36m<module>\u001b[1;34m\u001b[0m\n\u001b[1;32m----> 1\u001b[1;33m \u001b[0mprint\u001b[0m\u001b[1;33m(\u001b[0m\u001b[0mx\u001b[0m\u001b[1;33m[\u001b[0m\u001b[1;36m5\u001b[0m\u001b[1;33m,\u001b[0m \u001b[1;36m10\u001b[0m\u001b[1;33m,\u001b[0m \u001b[1;36m19\u001b[0m\u001b[1;33m]\u001b[0m\u001b[1;33m)\u001b[0m\u001b[1;33m\u001b[0m\u001b[1;33m\u001b[0m\u001b[0m\n\u001b[0m",
      "\u001b[1;31mTypeError\u001b[0m: string indices must be integers"
     ]
    }
   ],
   "source": [
    "print(x[5, 10, 19])"
   ]
  },
  {
   "cell_type": "code",
   "execution_count": 12,
   "id": "356784bf-c032-4952-96e6-c5aa15904fea",
   "metadata": {},
   "outputs": [
    {
     "name": "stdout",
     "output_type": "stream",
     "text": [
      "d d h\n"
     ]
    }
   ],
   "source": [
    "x = \"abcdeddddddddddddfghijklm\"\n"
   ]
  },
  {
   "cell_type": "code",
   "execution_count": 14,
   "id": "85970463-57fb-489f-8418-2e5437b78fc1",
   "metadata": {},
   "outputs": [],
   "source": [
    "intx = 5"
   ]
  },
  {
   "cell_type": "code",
   "execution_count": 15,
   "id": "e4710ce1-45fc-4535-9856-cefea396ebab",
   "metadata": {},
   "outputs": [
    {
     "name": "stdout",
     "output_type": "stream",
     "text": [
      "zxvtrpnlj\n"
     ]
    }
   ],
   "source": [
    "letters = \"abcdefghijklmnopqrstuvwxyz\"\n",
    "print(letters[-1:-18:-2])"
   ]
  },
  {
   "cell_type": "code",
   "execution_count": 20,
   "id": "0ba4aae8-4fac-4f01-ad2c-f73ec315159f",
   "metadata": {},
   "outputs": [
    {
     "ename": "SyntaxError",
     "evalue": "invalid syntax (219136991.py, line 1)",
     "output_type": "error",
     "traceback": [
      "\u001b[1;36m  File \u001b[1;32m\"C:\\Users\\Playdata\\AppData\\Local\\Temp\\ipykernel_10896\\219136991.py\"\u001b[1;36m, line \u001b[1;32m1\u001b[0m\n\u001b[1;33m    print(2023년)\u001b[0m\n\u001b[1;37m              ^\u001b[0m\n\u001b[1;31mSyntaxError\u001b[0m\u001b[1;31m:\u001b[0m invalid syntax\n"
     ]
    }
   ],
   "source": [
    "print(2023년)\n",
    "      "
   ]
  },
  {
   "cell_type": "code",
   "execution_count": 21,
   "id": "6ffb7bc5-e51d-4de4-b9dd-b95e9699ba75",
   "metadata": {},
   "outputs": [
    {
     "ename": "SyntaxError",
     "evalue": "invalid syntax (2976407162.py, line 1)",
     "output_type": "error",
     "traceback": [
      "\u001b[1;36m  File \u001b[1;32m\"C:\\Users\\Playdata\\AppData\\Local\\Temp\\ipykernel_10896\\2976407162.py\"\u001b[1;36m, line \u001b[1;32m1\u001b[0m\n\u001b[1;33m    print(2023\"년\")\u001b[0m\n\u001b[1;37m              ^\u001b[0m\n\u001b[1;31mSyntaxError\u001b[0m\u001b[1;31m:\u001b[0m invalid syntax\n"
     ]
    }
   ],
   "source": [
    "print(2023\"년\")"
   ]
  },
  {
   "cell_type": "code",
   "execution_count": 22,
   "id": "a1ba28a7-82c2-4246-ac9a-26c158093612",
   "metadata": {},
   "outputs": [
    {
     "name": "stdout",
     "output_type": "stream",
     "text": [
      "2023년\n"
     ]
    }
   ],
   "source": [
    "print(\"2023년\")"
   ]
  },
  {
   "cell_type": "code",
   "execution_count": 23,
   "id": "59a0540e-0655-4fa0-b6b3-3aaf7f7cec39",
   "metadata": {},
   "outputs": [
    {
     "ename": "SyntaxError",
     "evalue": "Missing parentheses in call to 'print'. Did you mean print(100)? (2199255624.py, line 1)",
     "output_type": "error",
     "traceback": [
      "\u001b[1;36m  File \u001b[1;32m\"C:\\Users\\Playdata\\AppData\\Local\\Temp\\ipykernel_10896\\2199255624.py\"\u001b[1;36m, line \u001b[1;32m1\u001b[0m\n\u001b[1;33m    print 100\u001b[0m\n\u001b[1;37m          ^\u001b[0m\n\u001b[1;31mSyntaxError\u001b[0m\u001b[1;31m:\u001b[0m Missing parentheses in call to 'print'. Did you mean print(100)?\n"
     ]
    }
   ],
   "source": [
    "print 100"
   ]
  },
  {
   "cell_type": "code",
   "execution_count": 24,
   "id": "9f22bb79-ef4c-4df1-ad0a-813e798a571e",
   "metadata": {},
   "outputs": [
    {
     "name": "stdout",
     "output_type": "stream",
     "text": [
      "100\n"
     ]
    }
   ],
   "source": [
    "print(100)"
   ]
  },
  {
   "cell_type": "code",
   "execution_count": 25,
   "id": "f9585c66-304b-4249-acef-553c1dd5b33c",
   "metadata": {},
   "outputs": [
    {
     "name": "stdout",
     "output_type": "stream",
     "text": [
      "None\n"
     ]
    }
   ],
   "source": [
    "print(\"None\")"
   ]
  },
  {
   "cell_type": "code",
   "execution_count": 26,
   "id": "7facec63-7413-4a46-b074-8b00554074f1",
   "metadata": {},
   "outputs": [
    {
     "name": "stdout",
     "output_type": "stream",
     "text": [
      "False\n"
     ]
    }
   ],
   "source": [
    " print(\"False\")"
   ]
  },
  {
   "cell_type": "code",
   "execution_count": 1,
   "id": "68e5a799-9c1f-4ecc-87df-8d944ef40178",
   "metadata": {},
   "outputs": [
    {
     "data": {
      "text/plain": [
       "[0, 1, 2, 3, 4, 5, 6, 7, 8, 9]"
      ]
     },
     "execution_count": 1,
     "metadata": {},
     "output_type": "execute_result"
    }
   ],
   "source": [
    "[_ for _ in range(10)]"
   ]
  },
  {
   "cell_type": "code",
   "execution_count": null,
   "id": "bfdad1b3-f5f2-4b40-a86b-45f3ce86439f",
   "metadata": {},
   "outputs": [],
   "source": []
  }
 ],
 "metadata": {
  "kernelspec": {
   "display_name": "Python 3 (ipykernel)",
   "language": "python",
   "name": "python3"
  },
  "language_info": {
   "codemirror_mode": {
    "name": "ipython",
    "version": 3
   },
   "file_extension": ".py",
   "mimetype": "text/x-python",
   "name": "python",
   "nbconvert_exporter": "python",
   "pygments_lexer": "ipython3",
   "version": "3.9.13"
  }
 },
 "nbformat": 4,
 "nbformat_minor": 5
}

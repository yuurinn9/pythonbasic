{
 "cells": [
  {
   "cell_type": "code",
   "execution_count": 1,
   "id": "60826aaa-5468-4d83-b5eb-5a844580b61b",
   "metadata": {},
   "outputs": [
    {
     "name": "stdout",
     "output_type": "stream",
     "text": [
      "3.9.13 (main, Aug 25 2022, 23:51:50) [MSC v.1916 64 bit (AMD64)]\n"
     ]
    }
   ],
   "source": [
    "import sys\n",
    "print(sys.version)"
   ]
  },
  {
   "cell_type": "code",
   "execution_count": 2,
   "id": "76f01054-0df9-4e06-8637-5d2a4eb47832",
   "metadata": {},
   "outputs": [
    {
     "name": "stdout",
     "output_type": "stream",
     "text": [
      " C 드라이브의 볼륨에는 이름이 없습니다.\n",
      " 볼륨 일련 번호: E6E3-CE13\n",
      "\n",
      " C:\\python 디렉터리\n",
      "\n",
      "2023-01-04  오전 10:13    <DIR>          .\n",
      "2023-01-04  오전 10:13    <DIR>          ..\n",
      "2023-01-04  오전 10:13    <DIR>          .ipynb_checkpoints\n",
      "2023-01-04  오전 10:13               638 01python.ipynb\n",
      "               1개 파일                 638 바이트\n",
      "               3개 디렉터리  175,510,118,400 바이트 남음\n"
     ]
    }
   ],
   "source": [
    "!dir"
   ]
  },
  {
   "cell_type": "code",
   "execution_count": null,
   "id": "61eab46f-abb0-47b5-978e-973e37b8a388",
   "metadata": {},
   "outputs": [],
   "source": []
  }
 ],
 "metadata": {
  "kernelspec": {
   "display_name": "Python 3 (ipykernel)",
   "language": "python",
   "name": "python3"
  },
  "language_info": {
   "codemirror_mode": {
    "name": "ipython",
    "version": 3
   },
   "file_extension": ".py",
   "mimetype": "text/x-python",
   "name": "python",
   "nbconvert_exporter": "python",
   "pygments_lexer": "ipython3",
   "version": "3.9.13"
  }
 },
 "nbformat": 4,
 "nbformat_minor": 5
}

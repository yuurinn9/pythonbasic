{
 "cells": [
  {
   "cell_type": "markdown",
   "id": "e870d43c-c738-4b9b-831d-957061f563fd",
   "metadata": {},
   "source": [
    "# *리스트 메서드* #\n",
    "\n",
    "\n",
    "리스트 메서드(인수)|반환 값|설명|\n",
    "|------|---|---|\n",
    "|append(요소)|None|리스트에서 요소 하나를 맨 마지막에 추가|\n",
    "|insert(인덱스, 요소)|None|리스트에서 특정 위치에 요소를 삽입|\n",
    "|extend(리스트) |None| 리스트에서 요소 여러 개를 맨 마지막에 추가|\n",
    "|remove(요소) |None| 입력값과 첫 번째로 일치하는 요소를 리스트에서 삭제|\n",
    "|pop() |마지막 요소| 리스트의 마지막 요소를 제거한 후에 반환|\n",
    "|index(요소) |첫번째로 일치한 요소| 인덱스 리스트에서 인자와 일치하는 첫 번째 요소의 위치를 반환|\n",
    "|count(요소) |일치하는 요소의 총 개수| 리스트에서 인자와 일치하는 요소의 개수를 반환|\n",
    "|sort() |None| 숫자나 문자열로 구성된 리스트 요소를 순방향으로 정렬|\n",
    "|reverse() |None| 리스트 요소를 끝에서부터 역순으로 정렬|\n",
    "|clear() |None| 리스트의 모든 요소를 제거|"
   ]
  },
  {
   "cell_type": "code",
   "execution_count": 1,
   "id": "a6ebec8c-70c1-48a3-84e5-4429fb3ca6d0",
   "metadata": {},
   "outputs": [
    {
     "name": "stdout",
     "output_type": "stream",
     "text": [
      "[1, 2, 3, 4, 5, 6, 7, 8]\n"
     ]
    }
   ],
   "source": [
    "numbers = [1, 2, 3, 4, 5, 6, 7]\n",
    "numbers.append(8)\n",
    "print(numbers)"
   ]
  },
  {
   "cell_type": "markdown",
   "id": "26bb8dd1-8543-4aab-bd0f-6f3470006ea7",
   "metadata": {},
   "source": [
    "### insert는 요소를 원하는 인덱스 위치에 넣을 수 있다."
   ]
  },
  {
   "cell_type": "code",
   "execution_count": 6,
   "id": "4aa6e4b2-58cd-4ffb-9a60-0c269269926e",
   "metadata": {},
   "outputs": [],
   "source": [
    "numbers.insert(0, 0)\n",
    "numbers.insert(4, 0)\n",
    "numbers.insert(6, 0)\n",
    "numbers.insert(len(numbers), 0)"
   ]
  },
  {
   "cell_type": "code",
   "execution_count": 11,
   "id": "6ca47a58-2766-4de8-9944-7532d1032494",
   "metadata": {},
   "outputs": [
    {
     "name": "stdout",
     "output_type": "stream",
     "text": [
      "[0, 0, 0, 1, 0, 2, 0, 0, 3, 0, 0, 4, 0, 5, 6, 7, 8, 0, 0, 0]\n"
     ]
    }
   ],
   "source": [
    "print(numbers)"
   ]
  },
  {
   "cell_type": "markdown",
   "id": "a8cf7168-fd7c-45a5-8b3d-f0692b991bb9",
   "metadata": {
    "tags": []
   },
   "source": [
    "### extend는 리스트에 리스트를 뒤로 붙인다.\n",
    "###### 리스트1.extend(리스트2)"
   ]
  },
  {
   "cell_type": "code",
   "execution_count": 27,
   "id": "2f4563b8-b1af-4e25-a512-128617cff2ed",
   "metadata": {},
   "outputs": [],
   "source": [
    "numbers.extend([4, 5, 6, 7])"
   ]
  },
  {
   "cell_type": "code",
   "execution_count": 28,
   "id": "d9bdb96a-0d79-4867-b8aa-4230a31fabbf",
   "metadata": {},
   "outputs": [
    {
     "name": "stdout",
     "output_type": "stream",
     "text": [
      "[1, 2, 3, 0, 0, 4, 0, 5, 6, 7, 8, 0, 0, 0, 4, 5, 6, 7]\n"
     ]
    }
   ],
   "source": [
    "print(numbers)"
   ]
  },
  {
   "cell_type": "markdown",
   "id": "dc018799-94b8-434e-878b-5c33966cb8de",
   "metadata": {},
   "source": [
    "### remove(요소) 인덱스의 위치의 요소를 삭제한다."
   ]
  },
  {
   "cell_type": "code",
   "execution_count": 97,
   "id": "40b808c2-e732-47e1-8b04-7253c943d989",
   "metadata": {},
   "outputs": [
    {
     "name": "stdout",
     "output_type": "stream",
     "text": [
      "[8, 7, 7, 6, 6, 5, 5, 4, 4, 3, 2, 1, 0, 0]\n"
     ]
    }
   ],
   "source": [
    "print(numbers)\n",
    "numbers.remove(0)"
   ]
  },
  {
   "cell_type": "code",
   "execution_count": 35,
   "id": "3343a869-bcae-4ba1-b77e-b82f0311621a",
   "metadata": {
    "tags": []
   },
   "outputs": [
    {
     "name": "stdout",
     "output_type": "stream",
     "text": [
      "[1, 2, 3, 4, 5, 6, 7, 8, 0, 0, 0, 4, 5, 6, 7]\n"
     ]
    }
   ],
   "source": [
    "print(numbers)"
   ]
  },
  {
   "cell_type": "markdown",
   "id": "15529cef-7ee0-44c3-90d1-766f10035abd",
   "metadata": {},
   "source": [
    "### pop() 제일 뒤에 오는 요소를 반환한다. 그리고 리스트에서 삭제한다. "
   ]
  },
  {
   "cell_type": "code",
   "execution_count": 48,
   "id": "73b477df-942e-4f46-886c-4458bdfcf8d4",
   "metadata": {},
   "outputs": [
    {
     "name": "stdout",
     "output_type": "stream",
     "text": [
      "0\n",
      "[8, 7, 7, 6, 6, 5, 5, 4, 4, 3, 2, 1, 0, 0]\n"
     ]
    }
   ],
   "source": [
    "print(numbers.pop())\n",
    "\n",
    "print(numbers)"
   ]
  },
  {
   "cell_type": "markdown",
   "id": "9b937296-c03d-4567-9c52-63af2103a5f3",
   "metadata": {},
   "source": [
    "### index(인자) 리스트 안에 인자와 같은 요소를 앞에서 부터 찾습니다."
   ]
  },
  {
   "cell_type": "code",
   "execution_count": 40,
   "id": "3e178b32-bcaa-4112-9400-f7172e328dc9",
   "metadata": {},
   "outputs": [
    {
     "name": "stdout",
     "output_type": "stream",
     "text": [
      "3\n"
     ]
    }
   ],
   "source": [
    "print(numbers.index(4))"
   ]
  },
  {
   "cell_type": "markdown",
   "id": "02547662-1688-40eb-a414-66392b9c5917",
   "metadata": {},
   "source": [
    "### count(인자) 리스트 안에 인자와 같은 요소가 몇개가 있는지 반환한다."
   ]
  },
  {
   "cell_type": "code",
   "execution_count": 41,
   "id": "95dccdd5-7ee2-4f04-8e4d-e9f45f2cc8ae",
   "metadata": {},
   "outputs": [
    {
     "name": "stdout",
     "output_type": "stream",
     "text": [
      "[1, 2, 3, 4, 5, 6, 7, 8, 0, 0, 0, 4, 5, 6, 7]\n",
      "3\n"
     ]
    }
   ],
   "source": [
    "print(numbers)\n",
    "print(numbers.count(0))"
   ]
  },
  {
   "cell_type": "markdown",
   "id": "62d1d6d5-2160-4b64-b77e-54c9556c088b",
   "metadata": {},
   "source": [
    "### 리스트 정렬하기 \n",
    "\n",
    "- sort()는 오름차순\n",
    "- reverse()는 순서를 반대로(역순) \n",
    "- 반환값은 둘 다 None"
   ]
  },
  {
   "cell_type": "code",
   "execution_count": 46,
   "id": "77b89011-1e94-4d22-b1bc-61c5bc18391c",
   "metadata": {},
   "outputs": [
    {
     "name": "stdout",
     "output_type": "stream",
     "text": [
      "[0, 0, 0, 1, 2, 3, 4, 4, 5, 5, 6, 6, 7, 7, 8]\n",
      "[8, 7, 7, 6, 6, 5, 5, 4, 4, 3, 2, 1, 0, 0, 0]\n"
     ]
    }
   ],
   "source": [
    "numbers.sort()\n",
    "print(numbers)\n",
    "numbers.reverse()\n",
    "print(numbers)"
   ]
  },
  {
   "cell_type": "markdown",
   "id": "5a1b4a38-4056-4a75-a7dd-0ddd16ba7182",
   "metadata": {},
   "source": [
    "### stack은 후입선출 구조"
   ]
  },
  {
   "cell_type": "code",
   "execution_count": 50,
   "id": "9de0dddc-889f-423a-afba-9ffb8d44b44d",
   "metadata": {},
   "outputs": [
    {
     "name": "stdout",
     "output_type": "stream",
     "text": [
      "[3, 4, 5, 6, 7]\n",
      "7\n",
      "6\n",
      "5\n",
      "[3, 4]\n"
     ]
    }
   ],
   "source": [
    "stack = [3, 4, 5]\n",
    "stack.append(6)\n",
    "stack.append(7)   # 결과값 : [3, 4, 5, 6, 7]\n",
    "print(stack)\n",
    "\n",
    "print(stack.pop())    # 7 먼저 반환\n",
    "print(stack.pop())    # 6 반환\n",
    "print(stack.pop())    # 5 반환\n",
    "\n",
    "print(stack)"
   ]
  },
  {
   "cell_type": "markdown",
   "id": "a270d328-ab23-4bb9-9d3d-63695c012418",
   "metadata": {},
   "source": [
    "### 튜플\n",
    "###### 튜플은 리스트와 거의 비슷하지만 수정이 불가 (불변)  \n",
    "###### 소괄호 사이에 요소들을 콤마로 구분"
   ]
  },
  {
   "cell_type": "code",
   "execution_count": 51,
   "id": "5f347c2d-0607-4cab-a02d-d52bf4e88365",
   "metadata": {},
   "outputs": [],
   "source": [
    "tuple_variable = (1, 2, 3, 4, 5, \"hello\")"
   ]
  },
  {
   "cell_type": "code",
   "execution_count": 52,
   "id": "c7e6ffdf-3383-4592-b905-0cf00630cb8a",
   "metadata": {},
   "outputs": [
    {
     "ename": "TypeError",
     "evalue": "'tuple' object does not support item assignment",
     "output_type": "error",
     "traceback": [
      "\u001b[1;31m---------------------------------------------------------------------------\u001b[0m",
      "\u001b[1;31mTypeError\u001b[0m                                 Traceback (most recent call last)",
      "\u001b[1;32m~\\AppData\\Local\\Temp\\ipykernel_5308\\1916826345.py\u001b[0m in \u001b[0;36m<module>\u001b[1;34m\u001b[0m\n\u001b[1;32m----> 1\u001b[1;33m \u001b[0mtuple_variable\u001b[0m\u001b[1;33m[\u001b[0m\u001b[1;36m0\u001b[0m\u001b[1;33m]\u001b[0m \u001b[1;33m=\u001b[0m \u001b[1;36m0\u001b[0m\u001b[1;33m\u001b[0m\u001b[1;33m\u001b[0m\u001b[0m\n\u001b[0m",
      "\u001b[1;31mTypeError\u001b[0m: 'tuple' object does not support item assignment"
     ]
    }
   ],
   "source": [
    "tuple_variable[0] = 0"
   ]
  },
  {
   "cell_type": "code",
   "execution_count": 53,
   "id": "087bdaa1-3a63-4fd6-ba09-7744bf855284",
   "metadata": {},
   "outputs": [
    {
     "ename": "TypeError",
     "evalue": "'tuple' object does not support item assignment",
     "output_type": "error",
     "traceback": [
      "\u001b[1;31m---------------------------------------------------------------------------\u001b[0m",
      "\u001b[1;31mTypeError\u001b[0m                                 Traceback (most recent call last)",
      "\u001b[1;32m~\\AppData\\Local\\Temp\\ipykernel_5308\\1935260613.py\u001b[0m in \u001b[0;36m<module>\u001b[1;34m\u001b[0m\n\u001b[1;32m----> 1\u001b[1;33m \u001b[0mtuple_variable\u001b[0m\u001b[1;33m[\u001b[0m\u001b[1;36m1\u001b[0m\u001b[1;33m:\u001b[0m\u001b[1;36m3\u001b[0m\u001b[1;33m]\u001b[0m \u001b[1;33m=\u001b[0m \u001b[1;33m[\u001b[0m\u001b[1;34m\"dd\"\u001b[0m\u001b[1;33m,\u001b[0m \u001b[1;34m\"ee\"\u001b[0m\u001b[1;33m]\u001b[0m\u001b[1;33m\u001b[0m\u001b[1;33m\u001b[0m\u001b[0m\n\u001b[0m",
      "\u001b[1;31mTypeError\u001b[0m: 'tuple' object does not support item assignment"
     ]
    }
   ],
   "source": [
    "tuple_variable[1:3] = [\"dd\", \"ee\"]"
   ]
  },
  {
   "cell_type": "markdown",
   "id": "e5e83f8f-3297-4164-b70a-48c31cebfd8c",
   "metadata": {},
   "source": [
    "### 튜플에서는 요소에 대한 삭제도 불가하다."
   ]
  },
  {
   "cell_type": "code",
   "execution_count": 57,
   "id": "eb445a6d-f6b6-4303-89a9-50e221aee007",
   "metadata": {},
   "outputs": [
    {
     "ename": "TypeError",
     "evalue": "'tuple' object doesn't support item deletion",
     "output_type": "error",
     "traceback": [
      "\u001b[1;31m---------------------------------------------------------------------------\u001b[0m",
      "\u001b[1;31mTypeError\u001b[0m                                 Traceback (most recent call last)",
      "\u001b[1;32m~\\AppData\\Local\\Temp\\ipykernel_5308\\3932902972.py\u001b[0m in \u001b[0;36m<module>\u001b[1;34m\u001b[0m\n\u001b[1;32m----> 1\u001b[1;33m \u001b[1;32mdel\u001b[0m \u001b[0mtuple_variable\u001b[0m\u001b[1;33m[\u001b[0m\u001b[1;36m0\u001b[0m\u001b[1;33m]\u001b[0m\u001b[1;33m\u001b[0m\u001b[1;33m\u001b[0m\u001b[0m\n\u001b[0m",
      "\u001b[1;31mTypeError\u001b[0m: 'tuple' object doesn't support item deletion"
     ]
    }
   ],
   "source": [
    "del tuple_variable[0]"
   ]
  },
  {
   "cell_type": "markdown",
   "id": "761dae7a-f173-4557-aa9f-b60c5b97af44",
   "metadata": {},
   "source": [
    "### 튜플은 소괄호 생략 가능 하지만 명시해서 명확하게 표현하는게 좋음"
   ]
  },
  {
   "cell_type": "code",
   "execution_count": 59,
   "id": "54dff7ac-31e1-4e2d-af35-a614ab683b8c",
   "metadata": {},
   "outputs": [],
   "source": [
    "t_v2 = \"음\", \"오\", \"아\", \"에\"\n"
   ]
  },
  {
   "cell_type": "code",
   "execution_count": 60,
   "id": "d136ed6d-d3ef-4848-b7a9-7f9695db8543",
   "metadata": {},
   "outputs": [
    {
     "name": "stdout",
     "output_type": "stream",
     "text": [
      "<class 'tuple'>\n"
     ]
    }
   ],
   "source": [
    "print(type(t_v2))\n"
   ]
  },
  {
   "cell_type": "markdown",
   "id": "1ebb1bd0-a8f5-48c5-8bfa-29cafd009bb5",
   "metadata": {},
   "source": [
    "##### 리스트가 더 범용적인데 튜플 왜 쓸까?\n",
    "###### 리스트는 크기가 바뀔 수 있기 떄문에 그에 따른 초과 할당까지 고려해서 메모리에 저장할 수 있는지까지 신경써야함"
   ]
  },
  {
   "cell_type": "markdown",
   "id": "671b497d-5700-410e-b5bd-a1f76c6d0dc4",
   "metadata": {},
   "source": [
    "##### 튜플과 리스트의 소요시간 비교"
   ]
  },
  {
   "cell_type": "code",
   "execution_count": 62,
   "id": "eca34858-2f71-4da1-92f9-bfae71199693",
   "metadata": {},
   "outputs": [
    {
     "name": "stdout",
     "output_type": "stream",
     "text": [
      "15.206979274749756\n"
     ]
    }
   ],
   "source": [
    "import time\n",
    "\n",
    "curr = time.time()\n",
    "total = []\n",
    "\n",
    "for i in range(10000):\n",
    "    for j in range(10000):\n",
    "        total.append((i, j))\n",
    "        \n",
    "last = time.time()\n",
    "print(last - curr)"
   ]
  },
  {
   "cell_type": "code",
   "execution_count": 63,
   "id": "bdac3952-21ea-4a92-b8a6-46aecab02c7b",
   "metadata": {},
   "outputs": [
    {
     "name": "stdout",
     "output_type": "stream",
     "text": [
      "40.42857503890991\n"
     ]
    }
   ],
   "source": [
    "import time\n",
    "\n",
    "curr = time.time()\n",
    "total = []\n",
    "\n",
    "for i in range(10000):\n",
    "    for j in range(10000):\n",
    "        total.append([i, j])\n",
    "        \n",
    "last = time.time()\n",
    "print(last - curr)"
   ]
  },
  {
   "cell_type": "markdown",
   "id": "e7b3d37a-944c-4b74-90f4-8f7a782dd5db",
   "metadata": {},
   "source": [
    "##### \n",
    "1. 처음 20번째까지 소수 = 튜플 (수가 정해져 있어서)\n",
    "2. 프로그래밍 언어의 종류= 리스트 (사용할 수 있는 프로그래밍 언어는 여러가지라)\n",
    "3. 사람의 나이, 몸무게, 키 = 리스트 (언제든 변동될 수 있어서)\n",
    "4. 사람의 생일과 출생지= 튜플 (사람의 생일과 출생지는 변동될 수 없어서)\n",
    "5. 롤 게임의 결과 = 튜플 ( 게임의 결과는 변동이 없어서)\n",
    "6. 잇단 롤 게임의 결과 = 리스트 ( 롤 게임의 결과는 그때 그때 변동되서)"
   ]
  },
  {
   "cell_type": "markdown",
   "id": "d9ee10ff-e559-4fa7-8255-11c6217e6f7f",
   "metadata": {},
   "source": [
    "#### 파이썬 입력 사용해보기"
   ]
  },
  {
   "cell_type": "code",
   "execution_count": 65,
   "id": "86262a6d-b2bf-4393-998d-cf875793ec2d",
   "metadata": {},
   "outputs": [
    {
     "name": "stdout",
     "output_type": "stream",
     "text": [
      "text1\n",
      "text2\n"
     ]
    }
   ],
   "source": [
    "s1, s2 = \"text1\", \"text2\"\n",
    "print(s1)\n",
    "print(s2)"
   ]
  },
  {
   "cell_type": "code",
   "execution_count": 66,
   "id": "4435132a-b1c5-4256-9829-d3abbde86d3f",
   "metadata": {},
   "outputs": [
    {
     "name": "stdout",
     "output_type": "stream",
     "text": [
      "이렇게 리스트도 가능합니다\n"
     ]
    }
   ],
   "source": [
    "s3, s4, s5 = [\"이렇게\", \"리스트도\", \"가능합니다\"]\n",
    "print(s3, s4, s5)"
   ]
  },
  {
   "cell_type": "code",
   "execution_count": 68,
   "id": "ec2d79b2-5687-4668-9fd0-11031707f7d6",
   "metadata": {},
   "outputs": [
    {
     "name": "stdout",
     "output_type": "stream",
     "text": [
      "문 자 열 도\n"
     ]
    }
   ],
   "source": [
    "s6, s7, s8, s9 = \"문자열도\"\n",
    "print(s6, s7, s8, s9)"
   ]
  },
  {
   "cell_type": "code",
   "execution_count": 70,
   "id": "b7caecc2-b0fd-4387-918f-8b9d7e797215",
   "metadata": {},
   "outputs": [
    {
     "name": "stdin",
     "output_type": "stream",
     "text": [
      "Message 1111\n"
     ]
    }
   ],
   "source": [
    "input_value = input(\"Message\")"
   ]
  },
  {
   "cell_type": "code",
   "execution_count": 71,
   "id": "8315d225-45fc-4e6f-8be5-cf6ca6cadc6c",
   "metadata": {},
   "outputs": [
    {
     "name": "stdout",
     "output_type": "stream",
     "text": [
      "input_value; 1111 \n",
      "type; <class 'str'>\n"
     ]
    }
   ],
   "source": [
    "print(\"input_value;\", input_value, \"\\ntype;\", type(input_value))"
   ]
  },
  {
   "cell_type": "code",
   "execution_count": 73,
   "id": "1ea7f4f7-b23e-4b93-847d-71bccd5b747e",
   "metadata": {},
   "outputs": [
    {
     "name": "stdin",
     "output_type": "stream",
     "text": [
      "정수 외에 다른 값을 입력해보세요 1.1\n"
     ]
    }
   ],
   "source": [
    "input_value = input(\"정수 외에 다른 값을 입력해보세요\")"
   ]
  },
  {
   "cell_type": "code",
   "execution_count": 75,
   "id": "ef9beabd-26ec-4828-8efc-2ac3e8deaa83",
   "metadata": {},
   "outputs": [
    {
     "name": "stdout",
     "output_type": "stream",
     "text": [
      "1.1\n"
     ]
    }
   ],
   "source": [
    "input_value = float(input_value)\n",
    "print(input_value)"
   ]
  },
  {
   "cell_type": "code",
   "execution_count": 77,
   "id": "7c82576c-2b4f-4094-a016-2767c5ac84f7",
   "metadata": {},
   "outputs": [
    {
     "name": "stdin",
     "output_type": "stream",
     "text": [
      "정수 외에 다른 값을 입력해보세요 3.2\n"
     ]
    },
    {
     "ename": "NameError",
     "evalue": "name 'input3_value' is not defined",
     "output_type": "error",
     "traceback": [
      "\u001b[1;31m---------------------------------------------------------------------------\u001b[0m",
      "\u001b[1;31mNameError\u001b[0m                                 Traceback (most recent call last)",
      "\u001b[1;32m~\\AppData\\Local\\Temp\\ipykernel_5308\\108608025.py\u001b[0m in \u001b[0;36m<module>\u001b[1;34m\u001b[0m\n\u001b[0;32m      1\u001b[0m \u001b[0minput_value3\u001b[0m \u001b[1;33m=\u001b[0m \u001b[0minput\u001b[0m\u001b[1;33m(\u001b[0m\u001b[1;34m\"정수 외에 다른 값을 입력해보세요\"\u001b[0m\u001b[1;33m)\u001b[0m\u001b[1;33m\u001b[0m\u001b[1;33m\u001b[0m\u001b[0m\n\u001b[1;32m----> 2\u001b[1;33m \u001b[0mint\u001b[0m\u001b[1;33m(\u001b[0m\u001b[0minput3_value\u001b[0m\u001b[1;33m)\u001b[0m\u001b[1;33m\u001b[0m\u001b[1;33m\u001b[0m\u001b[0m\n\u001b[0m",
      "\u001b[1;31mNameError\u001b[0m: name 'input3_value' is not defined"
     ]
    }
   ],
   "source": [
    "input_value3 = input(\"정수 외에 다른 값을 입력해보세요\")\n",
    "int(input3_value)"
   ]
  },
  {
   "cell_type": "code",
   "execution_count": 78,
   "id": "a182ac8f-f6bd-4ee8-8758-b27ce20638ea",
   "metadata": {},
   "outputs": [
    {
     "name": "stdin",
     "output_type": "stream",
     "text": [
      "정수를 입력해주세요: 5\n"
     ]
    },
    {
     "name": "stdout",
     "output_type": "stream",
     "text": [
      "5\n"
     ]
    }
   ],
   "source": [
    "input_value4 = int(input(\"정수를 입력해주세요:\"))\n",
    "print(input_value4)"
   ]
  },
  {
   "cell_type": "code",
   "execution_count": 88,
   "id": "ae83b929-f603-4729-91c8-9df1c7338311",
   "metadata": {},
   "outputs": [
    {
     "name": "stdin",
     "output_type": "stream",
     "text": [
      "이름을 입력하시오:  엔코아\n"
     ]
    },
    {
     "name": "stdout",
     "output_type": "stream",
     "text": [
      "엔코아 씨, 안녕하세요?\n",
      "파이썬에 오신 것을 환영합니다.\n"
     ]
    },
    {
     "name": "stdin",
     "output_type": "stream",
     "text": [
      "첫 번째 정수를 입력하세요:  300\n",
      "두 번째 정수를 입력하세요:  400\n"
     ]
    },
    {
     "name": "stdout",
     "output_type": "stream",
     "text": [
      "300 과 400 의 합은 700 입니다.\n"
     ]
    }
   ],
   "source": [
    "input_name = input(\"이름을 입력하시오: \")\n",
    "print(input_name, \"씨, 안녕하세요?\")\n",
    "print(\"파이썬에 오신 것을 환영합니다.\")\n",
    "input_number1 = int(input(\"첫 번째 정수를 입력하세요: \"))\n",
    "input_number2 = int(input(\"두 번째 정수를 입력하세요: \"))\n",
    "print(input_number1, \"과\", input_number2, \"의 합은\", input_number1 + input_number2, \"입니다.\")"
   ]
  },
  {
   "cell_type": "code",
   "execution_count": 96,
   "id": "c613d99d-7438-4ff4-8551-a52822ebc385",
   "metadata": {},
   "outputs": [
    {
     "name": "stdin",
     "output_type": "stream",
     "text": [
      "경기장은 어디입니까?  고척\n",
      "이긴 팀은 어디입니까?  KT\n",
      "진 팀은 어디입니까?  LG\n",
      "우수 선수는 누구입니까?  강백호\n",
      "스코어는 몇대몇입니까?  10:9\n"
     ]
    },
    {
     "name": "stdout",
     "output_type": "stream",
     "text": [
      "\n",
      "[속보] KT 가 10:9 로 승리...\n",
      "오늘 고척 에서 야구경기가 있었습니다.\n",
      "KT와 LG는 치열한 공방전을 펼쳤습니다.\n",
      "이 경기에서 강백호 가 맹활약을 했습니다.\n",
      "그 끝내 KT 가 LG 를 10:9 로 승리하였습니다.\n",
      "기사 끝.\n"
     ]
    }
   ],
   "source": [
    "ground = input(\"경기장은 어디입니까? \")\n",
    "wteam = input(\"이긴 팀은 어디입니까? \")\n",
    "lteam = input(\"진 팀은 어디입니까? \")\n",
    "play = input(\"우수 선수는 누구입니까? \")\n",
    "score = input(\"스코어는 몇대몇입니까? \")\n",
    "\n",
    "print(\"\\n[속보]\", wteam, \"가\", score, \"로 승리...\")\n",
    "print(\"오늘\", ground, \"에서 야구경기가 있었습니다.\")\n",
    "print(\"KT와 LG는 치열한 공방전을 펼쳤습니다.\")\n",
    "print(\"이 경기에서\", play, \"가 맹활약을 했습니다.\")\n",
    "print(\"그 끝내\", wteam, \"가\", lteam, \"를\", score, \"로 승리하였습니다.\")\n",
    "print(\"기사 끝.\")\n"
   ]
  },
  {
   "cell_type": "markdown",
   "id": "68b7fede-84b3-478d-b7f9-e34e4d81bda4",
   "metadata": {},
   "source": [
    "### split() - 함수 인자로 전달된 구분자를 활용하여 문자열을 쪼갬"
   ]
  },
  {
   "cell_type": "code",
   "execution_count": 99,
   "id": "2acae5d9-d929-4489-9fb7-cf5dd8f3f106",
   "metadata": {},
   "outputs": [
    {
     "name": "stdout",
     "output_type": "stream",
     "text": [
      "<class 'list'>\n",
      "['1', '2', '3']\n"
     ]
    }
   ],
   "source": [
    "result = '1,2,3' .split(',')\n",
    "print(type(result))\n",
    "print(result)"
   ]
  },
  {
   "cell_type": "code",
   "execution_count": 107,
   "id": "4cf503e7-b424-40df-b6ec-268a0b4eed23",
   "metadata": {},
   "outputs": [
    {
     "name": "stdin",
     "output_type": "stream",
     "text": [
      "hh:mm:ss의 형태로 시간을 입력해주새요 12:23:34\n"
     ]
    },
    {
     "name": "stdout",
     "output_type": "stream",
     "text": [
      "실행결과\n",
      "시: 12\n",
      "분: 23\n",
      "초: 34\n"
     ]
    }
   ],
   "source": [
    "hh,mm,ss = input( \"hh:mm:ss의 형태로 시간을 입력해주새요\" ).split(':')\n",
    "print(\"실행결과\")\n",
    "\n",
    "print(\"시:\", hh)\n",
    "print(\"분:\", mm)\n",
    "print(\"초:\", ss)"
   ]
  },
  {
   "cell_type": "markdown",
   "id": "00f6f7a7-1b56-484c-94c7-2dc03f9a26f6",
   "metadata": {},
   "source": [
    "#### map()내장 함수 이용하기 - iterable 객체에서 요소를 하나하나 꺼내어 특정 함수를 각각 적용하고 싶을 때 사용 "
   ]
  },
  {
   "cell_type": "code",
   "execution_count": 109,
   "id": "88bedc01-655e-4c90-92b6-a403618c26d9",
   "metadata": {},
   "outputs": [
    {
     "name": "stdout",
     "output_type": "stream",
     "text": [
      "[1, 2, 3, 4]\n"
     ]
    }
   ],
   "source": [
    "a = [1.2, 2.5, 3.7, 4.6]\n",
    "a = list(map(int, a))\n",
    "print(a)"
   ]
  },
  {
   "cell_type": "code",
   "execution_count": 117,
   "id": "888fa38d-2605-4b0b-9129-0203630c3c84",
   "metadata": {},
   "outputs": [
    {
     "name": "stdin",
     "output_type": "stream",
     "text": [
      "국어, 영어, 수학, 과학 점수를 입력해주세요. 98, 96, 100, 98\n"
     ]
    },
    {
     "name": "stdout",
     "output_type": "stream",
     "text": [
      "실행 결과:\n",
      "평균 점수는 98.0 점 입니다.\n"
     ]
    }
   ],
   "source": [
    "kor, eng, mat, sci = map(int, input(\"국어, 영어, 수학, 과학 점수를 입력해주세요.\").split(','))\n",
    "avg = (kor + eng + mat + sci)/4\n",
    "\n",
    "print(\"실행 결과:\")\n",
    "print(\"평균 점수는\", avg , \"점 입니다.\")\n"
   ]
  },
  {
   "cell_type": "code",
   "execution_count": 127,
   "id": "c42ac8af-8759-4302-be63-66c124677e0d",
   "metadata": {},
   "outputs": [
    {
     "name": "stdout",
     "output_type": "stream",
     "text": [
      "2021/02/03 18:33:23\n"
     ]
    }
   ],
   "source": [
    "year = '2021'\n",
    "month = '02'\n",
    "day = '03'\n",
    "hour = '18'\n",
    "minute = '33'\n",
    "second = '23'\n",
    "\n",
    "print(year, month, day, sep=\"/\", end=\" \")\n",
    "print(hour, minute, second, sep=\":\" )"
   ]
  },
  {
   "cell_type": "code",
   "execution_count": 135,
   "id": "74e3e961-e9b4-4132-87a0-53935b650353",
   "metadata": {},
   "outputs": [
    {
     "name": "stdin",
     "output_type": "stream",
     "text": [
      "사과와 귤을 몇개 드릴까요? 10,20\n"
     ]
    },
    {
     "name": "stdout",
     "output_type": "stream",
     "text": [
      "실행 결과: \n",
      "총 가격은 14000원입니다.\n"
     ]
    }
   ],
   "source": [
    "apple, man = map(int,input(\"사과와 귤을 몇개 드릴까요?\").split(','))\n",
    "won = (apple*1000 + man*200)\n",
    "\n",
    "print(\"실행 결과: \")\n",
    "print(\"총 가격은\", won, end=\"\" )\n",
    "print(\"원입니다.\")"
   ]
  },
  {
   "cell_type": "code",
   "execution_count": 136,
   "id": "5177a19f-8549-4f16-867a-136ed4c35224",
   "metadata": {},
   "outputs": [
    {
     "ename": "SyntaxError",
     "evalue": "invalid syntax (3560661038.py, line 1)",
     "output_type": "error",
     "traceback": [
      "\u001b[1;36m  File \u001b[1;32m\"C:\\Users\\Playdata\\AppData\\Local\\Temp\\ipykernel_5308\\3560661038.py\"\u001b[1;36m, line \u001b[1;32m1\u001b[0m\n\u001b[1;33m    type(input_value4) is not\u001b[0m\n\u001b[1;37m                             ^\u001b[0m\n\u001b[1;31mSyntaxError\u001b[0m\u001b[1;31m:\u001b[0m invalid syntax\n"
     ]
    }
   ],
   "source": [
    "type(input_value4) is not"
   ]
  },
  {
   "cell_type": "markdown",
   "id": "cb1aad42-166e-4112-9cf1-12a57f62074c",
   "metadata": {},
   "source": [
    "### if문"
   ]
  },
  {
   "cell_type": "code",
   "execution_count": 138,
   "id": "f2d05c51-1c0a-4fea-859a-d5235cabb2d0",
   "metadata": {},
   "outputs": [
    {
     "name": "stdout",
     "output_type": "stream",
     "text": [
      "input_value4는 정수입니다.\n"
     ]
    }
   ],
   "source": [
    "if type(input_value4) is int:\n",
    "    print(\"input_value4는 정수입니다.\")"
   ]
  },
  {
   "cell_type": "code",
   "execution_count": 140,
   "id": "501de89b-773f-45a4-922b-8226e403d2bd",
   "metadata": {},
   "outputs": [
    {
     "name": "stdout",
     "output_type": "stream",
     "text": [
      "20대 입니다.\n"
     ]
    }
   ],
   "source": [
    "age = 25\n",
    "\n",
    "if 20 <= age <30:\n",
    "    print(\"20대 입니다.\")\n",
    "elif 30 <= age < 40:\n",
    "    print(\"30대 입니다.\")\n"
   ]
  },
  {
   "cell_type": "code",
   "execution_count": 160,
   "id": "1a560534-ebfc-4bcc-a250-8fbb0c596903",
   "metadata": {},
   "outputs": [
    {
     "name": "stdout",
     "output_type": "stream",
     "text": [
      "실행 결과: \n"
     ]
    },
    {
     "name": "stdin",
     "output_type": "stream",
     "text": [
      "아이디를 입력하세요: admin\n"
     ]
    },
    {
     "name": "stdout",
     "output_type": "stream",
     "text": [
      "최고 관리자, 모든 권한을 갖습니다.\n"
     ]
    }
   ],
   "source": [
    "print(\"실행 결과: \")\n",
    "id = input(\"아이디를 입력하세요:\")\n",
    "\n",
    "if id == \"admin\":\n",
    "    print(\"최고 관리자, 모든 권한을 갖습니다.\")\n",
    "else:\n",
    "    grade = int(input(\"회원 등급을 입력하세요:\"))\n",
    "    if 1 <= grade <= 3:\n",
    "        print(\"제한적인 권한을 갖습니다.\")\n",
    "    else:\n",
    "        print(\"권한이 없습니다.\")"
   ]
  },
  {
   "cell_type": "code",
   "execution_count": 6,
   "id": "e88d0818-1a16-4fe9-ac54-885408e98b38",
   "metadata": {},
   "outputs": [
    {
     "name": "stdout",
     "output_type": "stream",
     "text": [
      "실행 결과: \n"
     ]
    },
    {
     "name": "stdin",
     "output_type": "stream",
     "text": [
      "자연수 하나를 입력해주세요: 50\n"
     ]
    },
    {
     "name": "stdout",
     "output_type": "stream",
     "text": [
      "0\n"
     ]
    }
   ],
   "source": [
    "print(\"실행 결과: \")\n",
    "number = int(input(\"자연수 하나를 입력해주세요:\"))\n",
    "if number >= 50:\n",
    "    print( number - 50)\n",
    "elif number < 50:\n",
    "    print(\"0\")      "
   ]
  },
  {
   "cell_type": "code",
   "execution_count": 13,
   "id": "7ee1c557-ca4f-4d65-8824-eb4d691cc986",
   "metadata": {},
   "outputs": [
    {
     "name": "stdin",
     "output_type": "stream",
     "text": [
      "자연수 하나 입력해주세요: 49\n"
     ]
    },
    {
     "name": "stdout",
     "output_type": "stream",
     "text": [
      "0\n"
     ]
    }
   ],
   "source": [
    "number = int(input(\"자연수 하나 입력해주세요:\"))\n",
    "result = number - 50\n",
    "if result < 0:\n",
    "    print(\"0\")\n",
    "else:\n",
    "    print(result)"
   ]
  },
  {
   "cell_type": "code",
   "execution_count": 20,
   "id": "1e908039-b817-44c0-9cd7-6de6318fb32e",
   "metadata": {},
   "outputs": [
    {
     "name": "stdin",
     "output_type": "stream",
     "text": [
      "나이를 입력해주세요: 15\n"
     ]
    },
    {
     "name": "stdout",
     "output_type": "stream",
     "text": [
      "10살 이상입니다.\n",
      "age >= 10구간\n",
      "늘 출력\n"
     ]
    }
   ],
   "source": [
    "age = int(input(\"나이를 입력해주세요:\"))\n",
    "if age >= 10:\n",
    "    print(\"10살 이상입니다.\")\n",
    "    if age >= 20:\n",
    "        print(\"20살 이상입니다.\")\n",
    "        if age >= 30:\n",
    "            print(\"30살 이상입니다.\")\n",
    "            if age >= 40:\n",
    "                print(\"40살 이상입니다.\")\n",
    "            print(\"age >= 30구간\")\n",
    "        print(\"age >= 20구간\")\n",
    "    print(\"age >= 10구간\")\n",
    "print(\"늘 출력\")"
   ]
  },
  {
   "cell_type": "code",
   "execution_count": 25,
   "id": "65b4c03f-bf18-4ea9-afe7-15f8470443b1",
   "metadata": {},
   "outputs": [
    {
     "name": "stdout",
     "output_type": "stream",
     "text": [
      "실행 결과:\n"
     ]
    },
    {
     "name": "stdin",
     "output_type": "stream",
     "text": [
      "자연수 하나 입력해주세요: 4\n"
     ]
    },
    {
     "name": "stdout",
     "output_type": "stream",
     "text": [
      "짝수입니다.\n"
     ]
    }
   ],
   "source": [
    "print(\"실행 결과:\")\n",
    "number = int(input(\"자연수 하나 입력해주세요:\"))\n",
    "\n",
    "if number%2 == 0 :\n",
    "    print(\"짝수입니다.\")\n",
    "else :\n",
    "    print(\"홀수입니다.\")\n",
    "    "
   ]
  },
  {
   "cell_type": "code",
   "execution_count": 36,
   "id": "ec607b76-2896-4eca-9f15-243c31361c0e",
   "metadata": {},
   "outputs": [
    {
     "name": "stdout",
     "output_type": "stream",
     "text": [
      "실행 결과:\n"
     ]
    },
    {
     "name": "stdin",
     "output_type": "stream",
     "text": [
      "소프트웨어 설계 점수를 입력하세요. 67\n",
      "소프트웨어 개발 점수를 입력하세요. 68\n",
      "데이터베이스 구축 점수를 입력하세요. 68\n",
      "프로그래밍 언어 활용 점수를 입력하세요. 69\n",
      "정보시스템 구축관리 점수를 입력하세요. 60\n"
     ]
    },
    {
     "name": "stdout",
     "output_type": "stream",
     "text": [
      "합격\n"
     ]
    }
   ],
   "source": [
    "print(\"실행 결과:\")\n",
    "sof = int(input(\"소프트웨어 설계 점수를 입력하세요.\"))\n",
    "dev = int(input(\"소프트웨어 개발 점수를 입력하세요.\"))\n",
    "dat = int(input(\"데이터베이스 구축 점수를 입력하세요.\"))\n",
    "pro = int(input(\"프로그래밍 언어 활용 점수를 입력하세요.\"))\n",
    "sys = int(input(\"정보시스템 구축관리 점수를 입력하세요.\"))\n",
    "if 0 <= sof <= 100 and 0 <= dev <= 100 and 0 <= dat <= 100 and 0 <= pro <= 100 and 0 <= sys <= 100 :\n",
    "    if (sof + dev + dat + pro + sys) / 5 >= 60 :\n",
    "        print (\"합격\")\n",
    "    else:\n",
    "        print(\"불합격\")\n",
    "else:\n",
    "    print(\"잘못된 점수입니다\")\n",
    "    "
   ]
  },
  {
   "cell_type": "code",
   "execution_count": 37,
   "id": "75460aef-2ac7-4b5f-8837-a7be85217144",
   "metadata": {},
   "outputs": [
    {
     "ename": "SyntaxError",
     "evalue": "invalid syntax (1633082901.py, line 10)",
     "output_type": "error",
     "traceback": [
      "\u001b[1;36m  File \u001b[1;32m\"C:\\Users\\Playdata\\AppData\\Local\\Temp\\ipykernel_15108\\1633082901.py\"\u001b[1;36m, line \u001b[1;32m10\u001b[0m\n\u001b[1;33m    print(\"C\"입니다.\")\u001b[0m\n\u001b[1;37m             ^\u001b[0m\n\u001b[1;31mSyntaxError\u001b[0m\u001b[1;31m:\u001b[0m invalid syntax\n"
     ]
    }
   ],
   "source": [
    "score = int(input(\"점수를 입력해주세요:\"))\n",
    "\n",
    "print(\"성적을 알려드립니다.\")\n",
    "\n",
    "if score >= 90:\n",
    "    print(\"A입니다.\")\n",
    "elif score >= 80:\n",
    "    print(\"B입니다.\")\n",
    "elif score >= 70:\n",
    "    print(\"C\"입니다.\")\n",
    "elif score >= 60:\n",
    "    print(\"D입니다.\")\n",
    "else score >= 50:\n",
    "    print(\"E입니다.\")\n",
    "    \n",
    "print(\"안내를 종료합니다.\")   "
   ]
  },
  {
   "cell_type": "code",
   "execution_count": 39,
   "id": "db04b2a9-1245-4bd2-a0c8-ec895a4075b3",
   "metadata": {},
   "outputs": [
    {
     "name": "stdout",
     "output_type": "stream",
     "text": [
      "실행 결과:\n"
     ]
    },
    {
     "name": "stdin",
     "output_type": "stream",
     "text": [
      "현재 물의 온도를 입력해주세요 45\n"
     ]
    },
    {
     "name": "stdout",
     "output_type": "stream",
     "text": [
      "액체로 예상됩니다.\n"
     ]
    }
   ],
   "source": [
    "print(\"실행 결과:\")\n",
    "wat = int(input(\"현재 물의 온도를 입력해주세요\"))\n",
    "if wat >= 100 :\n",
    "    print(\"기체로 예상됩니다.\")\n",
    "elif wat < 0 :\n",
    "    print(\"고체로 예상됩니다.\")\n",
    "else :\n",
    "    print(\"액체로 예상됩니다.\")"
   ]
  },
  {
   "cell_type": "code",
   "execution_count": 41,
   "id": "06f380c7-19c8-4f34-8122-31899a955066",
   "metadata": {},
   "outputs": [
    {
     "name": "stdout",
     "output_type": "stream",
     "text": [
      "실행 결과:\n"
     ]
    },
    {
     "name": "stdin",
     "output_type": "stream",
     "text": [
      "자신의 나이를 입력하세요: 45\n"
     ]
    },
    {
     "name": "stdout",
     "output_type": "stream",
     "text": [
      "1500원\n"
     ]
    }
   ],
   "source": [
    "print(\"실행 결과:\")\n",
    "age = int(input(\"자신의 나이를 입력하세요:\"))\n",
    "if age >= 19 :\n",
    "    print(\"1500원\")\n",
    "elif 12 <= age <= 18 :\n",
    "    print(\"1100원\")\n",
    "elif 6 <= age <= 11 :\n",
    "    print(\"800원\")\n",
    "else : \n",
    "    print(\"무임승차입니다.\")"
   ]
  },
  {
   "cell_type": "code",
   "execution_count": 45,
   "id": "91c9e130-9547-4cc5-932f-5efd85fe0b5f",
   "metadata": {},
   "outputs": [
    {
     "name": "stdout",
     "output_type": "stream",
     "text": [
      "실행 결과:\n"
     ]
    },
    {
     "name": "stdin",
     "output_type": "stream",
     "text": [
      "발주 수량을 입력하세요: 5000\n"
     ]
    },
    {
     "name": "stdout",
     "output_type": "stream",
     "text": [
      "5000 개를 주문하셨습니다.\n",
      "적용 할인율은 20% 입니다.\n",
      "총 발주 금액은 $ 4000.0 입니다.\n"
     ]
    }
   ],
   "source": [
    "print(\"실행 결과:\")\n",
    "a = int(input(\"발주 수량을 입력하세요:\"))\n",
    "print(a, \"개를 주문하셨습니다.\")\n",
    "if  1000 <= a <= 1500 :\n",
    "      print(\"적용 할인율은 5% 입니다.\")\n",
    "elif 1500 < a <= 2000 :\n",
    "      print(\"적용 할인율은 10% 입니다.\")\n",
    "elif 2000 < a :\n",
    "      print(\"적용 할인율은 20% 입니다.\")\n",
    "else :\n",
    "      print(\"\")\n",
    "\n",
    "if 1000 <= a <= 1500 :\n",
    "    print(\"총 발주 금액은 $\", a *  0.95, \"입니다.\" )\n",
    "elif 1500 < a <= 2000 :\n",
    "    print(\"총 발주 금액은 $\", a *  0.9, \"입니다.\" )\n",
    "elif 2000 < a :\n",
    "    print(\"총 발주 금액은 $\", a *  0.8, \"입니다.\" )\n",
    "else :\n",
    "    print(\"총 발주 금액은 $\", a , \"입니다.\" )\n",
    "      "
   ]
  },
  {
   "cell_type": "code",
   "execution_count": 55,
   "id": "1be2b385-186c-40e7-8a96-61694b2075e9",
   "metadata": {},
   "outputs": [
    {
     "name": "stdout",
     "output_type": "stream",
     "text": [
      "실행 결과:\n"
     ]
    },
    {
     "name": "stdin",
     "output_type": "stream",
     "text": [
      "발주 수량을 입력하세요: 10000\n"
     ]
    },
    {
     "name": "stdout",
     "output_type": "stream",
     "text": [
      "10000 개를 주문하셨습니다.\n",
      "적용 할인율은 20% 입니다. \n",
      "총 발주 금액은 $ 80000 입니다.\n"
     ]
    }
   ],
   "source": [
    "print(\"실행 결과:\")\n",
    "a = int(input(\"발주 수량을 입력하세요:\"))\n",
    "print(a, \"개를 주문하셨습니다.\")\n",
    "b = int(a * 10 * 0.95)\n",
    "c = int(a * 10 * 0.9)\n",
    "d = int(a * 10 * 0.8)\n",
    "if  1000 <= a <= 1500 :\n",
    "      print(\"적용 할인율은 5% 입니다. \\n총 발주 금액은 $\", b, \"입니다.\")\n",
    "elif 1500 < a <= 2000 :\n",
    "      print(\"적용 할인율은 10% 입니다. \\n총 발주 금액은 $\", c, \"입니다.\")\n",
    "elif 2000 < a :\n",
    "      print(\"적용 할인율은 20% 입니다. \\n총 발주 금액은 $\", d, \"입니다.\")\n",
    "else :\n",
    "      print(\"총 발주 금액은 $\", a * 10 , \"입니다.\")"
   ]
  },
  {
   "cell_type": "code",
   "execution_count": 15,
   "id": "25f3de0a-211f-4986-86af-e0ebc790198f",
   "metadata": {},
   "outputs": [
    {
     "name": "stdout",
     "output_type": "stream",
     "text": [
      "실행 결과:\n"
     ]
    },
    {
     "name": "stdin",
     "output_type": "stream",
     "text": [
      "주민번호 뒷자리를 입력하세요: 222222\n"
     ]
    },
    {
     "name": "stdout",
     "output_type": "stream",
     "text": [
      "자리수를 잘못 입력했습니다.\n"
     ]
    }
   ],
   "source": [
    "print(\"실행 결과:\")\n",
    "number = input(\"주민번호 뒷자리를 입력하세요:\")\n",
    "fnumber = number[0]\n",
    "fnumber = int(fnumber)\n",
    "n = len(number)\n",
    "if n == 7 :\n",
    "    if fnumber == 1 and 3 :\n",
    "        print(\"남자\")\n",
    "    elif fnumber == 2 and 4 :\n",
    "        print(\"여자\")\n",
    "    else :\n",
    "        print(\"잘못된 입력입니다.\")\n",
    "else :\n",
    "    print(\"자리수를 잘못 입력했습니다.\")\n",
    "    "
   ]
  },
  {
   "cell_type": "code",
   "execution_count": 32,
   "id": "299a0bda-ac39-4b09-8651-8a979520921f",
   "metadata": {},
   "outputs": [
    {
     "name": "stdout",
     "output_type": "stream",
     "text": [
      "실행 결과:\n"
     ]
    },
    {
     "name": "stdin",
     "output_type": "stream",
     "text": [
      "확인할 연도를 입력하세요: 2023\n"
     ]
    },
    {
     "name": "stdout",
     "output_type": "stream",
     "text": [
      "평년입니다.\n"
     ]
    }
   ],
   "source": [
    "print(\"실행 결과:\")\n",
    "year = int(input(\"확인할 연도를 입력하세요:\"))\n",
    "if year % 4 == 0 :\n",
    "    if year % 100 == 0 :\n",
    "        if year % 400 == 0 :\n",
    "            print(\"윤년입니다.\")\n",
    "        else :\n",
    "            print(\"평년입니다.\")\n",
    "    else :\n",
    "        print(\"윤년입니다.\")\n",
    "else:\n",
    "    print(\"평년입니다.\")\n",
    "    "
   ]
  },
  {
   "cell_type": "code",
   "execution_count": 44,
   "id": "c1cc5eb7-722f-4c40-8811-a2eae3328039",
   "metadata": {},
   "outputs": [
    {
     "name": "stdout",
     "output_type": "stream",
     "text": [
      "실행 결과:\n"
     ]
    },
    {
     "name": "stdin",
     "output_type": "stream",
     "text": [
      "확인할 연도를 입력하세요: 2023\n"
     ]
    },
    {
     "name": "stdout",
     "output_type": "stream",
     "text": [
      "평년입니다.\n"
     ]
    }
   ],
   "source": [
    "print(\"실행 결과:\")\n",
    "year = int(input(\"확인할 연도를 입력하세요:\"))\n",
    "if  (not year % 400 == 0 and year % 4 == 0 and year % 100 == 0) and not year % 4 == 0 :\n",
    "        print(\"평년입니다.\")\n",
    "else :\n",
    "        print(\"윤년입니다.\")"
   ]
  },
  {
   "cell_type": "code",
   "execution_count": null,
   "id": "46ef4d7f-3483-4a31-98a6-6c3b65834347",
   "metadata": {},
   "outputs": [],
   "source": []
  }
 ],
 "metadata": {
  "kernelspec": {
   "display_name": "Python 3 (ipykernel)",
   "language": "python",
   "name": "python3"
  },
  "language_info": {
   "codemirror_mode": {
    "name": "ipython",
    "version": 3
   },
   "file_extension": ".py",
   "mimetype": "text/x-python",
   "name": "python",
   "nbconvert_exporter": "python",
   "pygments_lexer": "ipython3",
   "version": "3.9.13"
  }
 },
 "nbformat": 4,
 "nbformat_minor": 5
}

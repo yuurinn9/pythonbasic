{
 "cells": [
  {
   "cell_type": "markdown",
   "id": "f76be39d-21a7-4f03-9d7f-57aeb9f4a816",
   "metadata": {},
   "source": [
    "# 2023 - 01 - 13 #"
   ]
  },
  {
   "cell_type": "markdown",
   "id": "5d213acc-059d-4a72-bfc0-88f32af73ad5",
   "metadata": {},
   "source": [
    "<h1> 변수의 범위 </h1>"
   ]
  },
  {
   "cell_type": "markdown",
   "id": "abc23518-779c-4f12-8616-62e25382ce2d",
   "metadata": {},
   "source": [
    "#### 전역 변수(global variable) ####\n"
   ]
  },
  {
   "cell_type": "markdown",
   "id": "8829595b-15ad-43df-8a2d-d56343ad011a",
   "metadata": {},
   "source": [
    "맨 왼편에 붙여서 진행되는 것 (들여쓰지 않은 맨 왼편)"
   ]
  },
  {
   "cell_type": "markdown",
   "id": "c1ccc4e1-11c9-441b-8cd7-d1619f85d254",
   "metadata": {},
   "source": [
    "#### 지역 변수(local variable) ####"
   ]
  },
  {
   "cell_type": "markdown",
   "id": "f59ee947-149f-40f6-b61f-ef15cdcf1a5f",
   "metadata": {},
   "source": [
    "변수를 만든 함수 안에서만 접근이 가능한 것\n"
   ]
  },
  {
   "cell_type": "markdown",
   "id": "cf404c0f-81ab-4ba5-91b7-b08a72cada83",
   "metadata": {},
   "source": [
    "```python\n",
    "def my_little_world() :   \n",
    "    my_variable = \"This is my little world.\"  \n",
    "print(my_variable)  \n",
    "\n",
    "# => error  \n",
    "# 이유   \n",
    "# my_variable 은 지역 범위 안에서만 작용 가능  \n",
    "# --> 범위 밖에서 호출할 경우 error 발생  \n",
    "```"
   ]
  },
  {
   "cell_type": "markdown",
   "id": "b165872e-9586-49d5-ba43-c772f4cdbd44",
   "metadata": {},
   "source": [
    "### 지역 범위에서 전역 변수 할당하기 ###"
   ]
  },
  {
   "cell_type": "code",
   "execution_count": 1,
   "id": "e5f645c4-69b5-4bf3-bc55-212f698439a0",
   "metadata": {},
   "outputs": [
    {
     "name": "stdout",
     "output_type": "stream",
     "text": [
      "global 키워드를 활용해서 변경 완료\n"
     ]
    }
   ],
   "source": [
    "global_variable = \"변경이 됩니까?\"\n",
    "\n",
    "def heartbreaker():\n",
    "    global global_variable\n",
    "    global_variable = \"global 키워드를 활용해서 변경 완료\"\n",
    "heartbreaker()\n",
    "print(global_variable)"
   ]
  },
  {
   "cell_type": "markdown",
   "id": "2eda06eb-8bb2-4f31-8bdb-4d7b5868739a",
   "metadata": {},
   "source": [
    "### 함수 바디에 함수를 중첩해서 만들기 ###"
   ]
  },
  {
   "cell_type": "code",
   "execution_count": 3,
   "id": "b2d171f2-a980-4171-82d1-06a71c17fd29",
   "metadata": {},
   "outputs": [],
   "source": [
    "def level1():\n",
    "    message = \"This is level 1\"\n",
    "    def level2():\n",
    "        print(message)\n",
    "    level2()"
   ]
  },
  {
   "cell_type": "code",
   "execution_count": 4,
   "id": "d3272b55-cf9d-4a24-a078-84e40a393955",
   "metadata": {},
   "outputs": [
    {
     "name": "stdout",
     "output_type": "stream",
     "text": [
      "This is level 1\n"
     ]
    }
   ],
   "source": [
    "level1()"
   ]
  },
  {
   "cell_type": "markdown",
   "id": "04535f0f-798f-4b77-a82c-e53279452104",
   "metadata": {},
   "source": [
    "### 안쪽 함수에서 바깥쪽 함수의 변수 변경해보기 ###"
   ]
  },
  {
   "cell_type": "code",
   "execution_count": 14,
   "id": "d6e24c15-cc0a-4aef-9c19-256049748683",
   "metadata": {},
   "outputs": [],
   "source": [
    "def level1():\n",
    "    message = \"This is level 1\"\n",
    "    def level2():\n",
    "        nonlocal message # nonlocal 키워드를 통해 바깥 영역의 변수 사용\n",
    "        message = \"Level2 is better than level1\"\n",
    "    level2()\n",
    "    print(message)"
   ]
  },
  {
   "cell_type": "code",
   "execution_count": 15,
   "id": "c15747d4-c931-4564-b491-4c6a73371f93",
   "metadata": {},
   "outputs": [
    {
     "name": "stdout",
     "output_type": "stream",
     "text": [
      "Level2 is better than level1\n"
     ]
    }
   ],
   "source": [
    "level1()"
   ]
  },
  {
   "cell_type": "markdown",
   "id": "492ee5ea-77b7-4ec6-9ea0-5cc5661a21c5",
   "metadata": {},
   "source": [
    "### nonlocal 특징과 권고사항  ###\n",
    "  \n",
    "   \n"
   ]
  },
  {
   "cell_type": "markdown",
   "id": "3720112c-d485-471e-8fcc-8a2add7a77a1",
   "metadata": {},
   "source": [
    ">global키워드는 함수의 중첩된 정도와 상관없이 전역 범위의 변수를 매칭  \n",
    "\n",
    "\n",
    ">중첩된 함수마다 같은 이름의 변수가 있다면 nonlocal 키워드는 제일 가까운 바깥 변수를 매칭  \n",
    "\n",
    "\n",
    ">가급적이면 함수마다 이름이 같은 변수를 사용하기보단 다른 변수명을 사용하는게 좋음  \n"
   ]
  },
  {
   "cell_type": "markdown",
   "id": "5b7b9c25-e594-47c8-ad72-ba9aca042deb",
   "metadata": {},
   "source": [
    "### 변수 범위 정리 ###\n",
    "\n",
    "> 1. 함수 안에서 선언한 변수(local variable) 는 함수를 호출해 실행되는 동안만 사용 가능 # return을 만나면 return값을 가지고 되돌아옴\n",
    "\n",
    "> 2. 범위마다 같은 이름의 변수를 사용해도 각각 독립적으로 동작\n",
    "\n",
    "> 3. 지역 변수(local variable)를 저장하는 이름 공간 ->  지역 영역(local scope)\n",
    "\n",
    "> 4. 전역 변수(global variable)를 저장하는 이름 공간 ->  전역 영역(global scope)\n",
    "\n",
    "> 5. 파이썬 자체에서 정의한 이름 공간 ->  내장 영역(built-in scope)\n",
    "\n",
    "> 6. 함수에서 변수를 호출하면 지역 영역 -> 전역 영역 ->내장 영역 순으로 해당하는 변수를 확인"
   ]
  },
  {
   "cell_type": "code",
   "execution_count": 20,
   "id": "48ea2236-b99d-4f6b-ba61-0e3f0fe8e011",
   "metadata": {},
   "outputs": [
    {
     "name": "stdout",
     "output_type": "stream",
     "text": [
      "전역 변수입니다\n"
     ]
    }
   ],
   "source": [
    "# 지역 범위에서 전역 변수에 접근 후 출력 (변경 X )\n",
    "global_v = \"전역 변수입니다\"\n",
    "\n",
    "def local_scope():\n",
    "    print(global_v)\n",
    "\n",
    "local_scope()"
   ]
  },
  {
   "cell_type": "code",
   "execution_count": 23,
   "id": "70769b7b-6054-408c-8a3a-64a0e1ca28b4",
   "metadata": {},
   "outputs": [
    {
     "name": "stdout",
     "output_type": "stream",
     "text": [
      "전역 변수입니다.\n"
     ]
    }
   ],
   "source": [
    "# 지역 범위에서 전역 변수에 접근 후 재할당 \n",
    "global_v2 = \"전역 변수입니다.\"\n",
    "\n",
    "def local_scope2():\n",
    "    global_v2 = \"지역 범위입니다.\"\n",
    "\n",
    "local_scope2()\n",
    "print(global_v2)\n",
    "\n",
    "# 사실은 전역 범위에서 global_v2를 만들어 할당한 것과\n",
    "# 로컬 범위에서 global_v2를 만들어 할당한 것\n",
    "# 두 가지 일을 각각 독립적으로 실행한 결과를 확인했다."
   ]
  },
  {
   "cell_type": "code",
   "execution_count": 29,
   "id": "6c7b269a-d761-4d1f-99f8-649b619bcd2e",
   "metadata": {},
   "outputs": [
    {
     "name": "stdout",
     "output_type": "stream",
     "text": [
      "지역 범위에서 변경입니다.\n"
     ]
    }
   ],
   "source": [
    "# 지역 범위에서 전역 변수에 접근 후 재할당 \n",
    "global_v3 = \"전역 변수입니다.\"\n",
    "\n",
    "def local_scope3():\n",
    "    global global_v3 #전역 범위에 있는 전역 변수인 global_v3를 사용하겠다.\n",
    "    global_v3 = \"지역 범위에서 변경입니다.\"\n",
    "\n",
    "local_scope3()\n",
    "print(global_v3)\n",
    "\n",
    "# global 키워드를 활용하면 지역 범위에 있어도\n",
    "# 전역 변수에 대한 변경이 가능하도록 할 수 있었다."
   ]
  },
  {
   "cell_type": "code",
   "execution_count": 31,
   "id": "9afce483-c66e-4f2a-8d1a-966d4c820b65",
   "metadata": {},
   "outputs": [
    {
     "ename": "NameError",
     "evalue": "name 'global_v4' is not defined",
     "output_type": "error",
     "traceback": [
      "\u001b[1;31m---------------------------------------------------------------------------\u001b[0m",
      "\u001b[1;31mNameError\u001b[0m                                 Traceback (most recent call last)",
      "\u001b[1;32m~\\AppData\\Local\\Temp\\ipykernel_17296\\1101229148.py\u001b[0m in \u001b[0;36m<module>\u001b[1;34m\u001b[0m\n\u001b[0;32m      7\u001b[0m     \u001b[0mlocal_scope5\u001b[0m\u001b[1;33m(\u001b[0m\u001b[1;33m)\u001b[0m\u001b[1;33m\u001b[0m\u001b[1;33m\u001b[0m\u001b[0m\n\u001b[0;32m      8\u001b[0m \u001b[1;33m\u001b[0m\u001b[0m\n\u001b[1;32m----> 9\u001b[1;33m \u001b[0mprint\u001b[0m\u001b[1;33m(\u001b[0m\u001b[0mglobal_v4\u001b[0m\u001b[1;33m)\u001b[0m\u001b[1;33m\u001b[0m\u001b[1;33m\u001b[0m\u001b[0m\n\u001b[0m\u001b[0;32m     10\u001b[0m \u001b[1;31m#지역 범위 안에 있는 지역 변수는 그 함수 실행과 반환 사이동안만 살아있었다.\u001b[0m\u001b[1;33m\u001b[0m\u001b[1;33m\u001b[0m\u001b[0m\n\u001b[0;32m     11\u001b[0m \u001b[1;33m\u001b[0m\u001b[0m\n",
      "\u001b[1;31mNameError\u001b[0m: name 'global_v4' is not defined"
     ]
    }
   ],
   "source": [
    "# 지역 범위안에 지역 범위가 중첩되어 있을 경우\n",
    "# 비교적 바깥에 있는 지역 범위의 지역 변수에 접근하여 출력\n",
    "def local_scope4():\n",
    "    global_v4 = \"바깥 지역 범위입니다.\"\n",
    "    def local_scope5():\n",
    "        print(global_v4)\n",
    "    local_scope5()\n",
    "    \n",
    "print(global_v4)\n",
    "#지역 범위 안에 있는 지역 변수는 그 함수 실행과 반환 사이동안만 살아있었다.\n",
    "\n",
    "local_scope4()"
   ]
  },
  {
   "cell_type": "code",
   "execution_count": 34,
   "id": "182f4e81-62ba-4298-b35a-adc23f9a5b4b",
   "metadata": {},
   "outputs": [
    {
     "name": "stdout",
     "output_type": "stream",
     "text": [
      "바깥 지역 범위입니다.\n"
     ]
    }
   ],
   "source": [
    "# 지역 범위안에 지역 범위가 중첩되어 있을 경우\n",
    "# 비교적 바깥에 있는 지역 범위의 지역 변수에 접근하여 출력\n",
    "def local_scope6():\n",
    "    global_v5 = \"바깥 지역 범위입니다.\" # 더 넓은 범위의 로컬 변수로 선언\n",
    "    def local_scope7():\n",
    "        global_v5 = \"안쪽 지역 범위입니다.\" # 더 좁은 범위의 로컬 변수로 선언\n",
    "    local_scope7()\n",
    "    print(global_v5)\n",
    "\n",
    "\n",
    "local_scope6()\n",
    "#그래서 local_scope6 범위의 global_v5는 \n",
    "#local_scope7 범위의 global_v5와 각각 독립적으로 생성이 된 것을 봤다."
   ]
  },
  {
   "cell_type": "code",
   "execution_count": 36,
   "id": "8eb72ecb-7ff7-42dc-b74c-865d6eae5445",
   "metadata": {},
   "outputs": [
    {
     "name": "stdout",
     "output_type": "stream",
     "text": [
      "안쪽 지역 범위입니다.\n"
     ]
    }
   ],
   "source": [
    "# 지역 범위안에 지역 범위가 중첩되어 있을 경우\n",
    "# 비교적 바깥에 있는 지역 범위의 지역 변수에 접근하여 출력\n",
    "def local_scope8():\n",
    "    global_v6 = \"바깥 지역 범위입니다.\" \n",
    "    def local_scope9():\n",
    "        nonlocal global_v6 #현 영역(지금의 로컬 영역 바깥의 변수 global_v6를 찾아서 그 변수를 사용하겠다.)\n",
    "        global_v6 = \"안쪽 지역 범위입니다.\" # global_v6 변경해줌\n",
    "    local_scope9()\n",
    "    print(global_v6)\n",
    "\n",
    "\n",
    "local_scope8()"
   ]
  },
  {
   "cell_type": "markdown",
   "id": "cab865e2-3a92-45ba-b178-8216dbcd94b5",
   "metadata": {},
   "source": [
    "<h1> 람다(lambda) </h1> \n",
    "\n",
    "호출될 때 값이 구해지는 하나의 표현식   \n",
    "또 이름이 없는 인라인 함수  \n",
    "\n",
    "``` python\n",
    "# 람다 표현식\n",
    "lambda[parameter]:expressiion\n",
    "      매개변수를 지정  /반환값으로 사용할 식\n",
    "```"
   ]
  },
  {
   "cell_type": "markdown",
   "id": "50764fee-0fd5-4b3a-b369-160bec22dad1",
   "metadata": {},
   "source": [
    "```python\n",
    "# 일반 함수 정의절\n",
    "def func_name(parameter):\n",
    "    return expression\n",
    "```"
   ]
  },
  {
   "cell_type": "markdown",
   "id": "d52827a0-3acb-47e3-a043-0bf30363756e",
   "metadata": {},
   "source": [
    "#### 람다 표현식을 바로 호출하는 방법 ####  \n",
    "\n",
    "> 소괄호로 감싸고 뒤에 함수 호출하듯이 소괄호를 붙임   \n",
    "\n",
    ">뒤쪽에 작성한 소괄호 안에 인수를 넣으면 람다 표현식이 바로 호출"
   ]
  },
  {
   "cell_type": "code",
   "execution_count": 42,
   "id": "1f512b50-fcb9-44df-beab-062a067ba310",
   "metadata": {},
   "outputs": [
    {
     "data": {
      "text/plain": [
       "20"
      ]
     },
     "execution_count": 42,
     "metadata": {},
     "output_type": "execute_result"
    }
   ],
   "source": [
    "(lambda x: x + 10)(10)"
   ]
  },
  {
   "cell_type": "markdown",
   "id": "615684cd-2512-4b7f-8dec-596d0b221d5a",
   "metadata": {},
   "source": [
    ">람다는 기본적으로 이름없는 함수   \n",
    "\n",
    ">람다로 만든 익명 함수를 호출하려면 변수에 할당해서 사용할 수 있음"
   ]
  },
  {
   "cell_type": "code",
   "execution_count": 45,
   "id": "ba800db4-9ba6-40be-adde-282d2c4bd476",
   "metadata": {},
   "outputs": [
    {
     "name": "stdout",
     "output_type": "stream",
     "text": [
      "20\n"
     ]
    }
   ],
   "source": [
    "twice = lambda x: x*2\n",
    "print(twice(10))"
   ]
  },
  {
   "cell_type": "code",
   "execution_count": 47,
   "id": "467c191b-012f-4295-82a9-2fc2192d73b1",
   "metadata": {},
   "outputs": [
    {
     "ename": "SyntaxError",
     "evalue": "invalid syntax (344384687.py, line 1)",
     "output_type": "error",
     "traceback": [
      "\u001b[1;36m  File \u001b[1;32m\"C:\\Users\\Playdata\\AppData\\Local\\Temp\\ipykernel_17296\\344384687.py\"\u001b[1;36m, line \u001b[1;32m1\u001b[0m\n\u001b[1;33m    (lambda x: y=10; x + y)(1) #한줄로 표현 가능하지만 새 변수를 만들 수 없음 / 변수가 필요한 경우 def를 써서 함수를 정의\u001b[0m\n\u001b[1;37m                ^\u001b[0m\n\u001b[1;31mSyntaxError\u001b[0m\u001b[1;31m:\u001b[0m invalid syntax\n"
     ]
    }
   ],
   "source": [
    "(lambda x: y=10; x + y)(1) #한줄로 표현 가능하지만 새 변수를 만들 수 없음 / 변수가 필요한 경우 def를 써서 함수를 정의"
   ]
  },
  {
   "cell_type": "markdown",
   "id": "a2ae3cb3-e195-4445-bbc7-4faeefbea44c",
   "metadata": {},
   "source": [
    " <h2> 조건 표현식 </h2>"
   ]
  },
  {
   "cell_type": "markdown",
   "id": "49667fbb-e878-459a-ba25-453c8c3da9ec",
   "metadata": {},
   "source": [
    "- ### if( ) ###"
   ]
  },
  {
   "cell_type": "markdown",
   "id": "c3c19de4-961d-4ee6-9e46-ba0d2d5cbed8",
   "metadata": {},
   "source": [
    " ```python\n",
    "          ↙ㅡㅡ #true\n",
    "True일때 값 / if / 조건식 / else False일때 값\n",
    "                      #false ↗\n",
    "```"
   ]
  },
  {
   "cell_type": "markdown",
   "id": "1f70ad1d-4913-452f-9f63-30bcd40a6bb4",
   "metadata": {},
   "source": [
    "ex)"
   ]
  },
  {
   "cell_type": "code",
   "execution_count": 49,
   "id": "5ef4af74-1b85-4ae2-8c52-fc8ba01f7ea3",
   "metadata": {},
   "outputs": [
    {
     "data": {
      "text/plain": [
       "'B'"
      ]
     },
     "execution_count": 49,
     "metadata": {},
     "output_type": "execute_result"
    }
   ],
   "source": [
    "score = 90\n",
    "'A' if 90 < score <= 100 else 'B' if 80 < score else 'c'"
   ]
  },
  {
   "cell_type": "markdown",
   "id": "4f61f186-335c-4922-8143-844d7c8ab350",
   "metadata": {},
   "source": [
    "- ### map() ###"
   ]
  },
  {
   "cell_type": "markdown",
   "id": "ee0c6957-56ba-4ff9-a581-b71d5e3f29cc",
   "metadata": {},
   "source": [
    "```python\n",
    "map(lambda parameter1, parameter2, ...: expression, iterable1, iterable2, ...)\n",
    "```"
   ]
  },
  {
   "cell_type": "markdown",
   "id": "3024d4d6-0904-46f3-b395-58695834ca96",
   "metadata": {},
   "source": [
    "ex)"
   ]
  },
  {
   "cell_type": "code",
   "execution_count": 52,
   "id": "69dc754d-6155-4510-a6c5-5f3efc3e1a3d",
   "metadata": {},
   "outputs": [
    {
     "name": "stdout",
     "output_type": "stream",
     "text": [
      "[2, 8, 18, 32, 50]\n"
     ]
    }
   ],
   "source": [
    "a = [_ for _ in range(1, 6)]\n",
    "b = [_ for _ in range(2, 11, 2)]\n",
    "print(list(map(lambda x, y,: x * y, a, b)))"
   ]
  },
  {
   "cell_type": "code",
   "execution_count": 58,
   "id": "8093e01c-d4b9-4a93-8cc4-ac168e7efe20",
   "metadata": {},
   "outputs": [
    {
     "name": "stdout",
     "output_type": "stream",
     "text": [
      "[0, 4, 12, 24, 40]\n",
      "100\n"
     ]
    }
   ],
   "source": [
    "a = [_ for _ in range(5)] # 0, 1, 2, 3, 4\n",
    "b = [_ for _ in range(2, 11, 2)] # 2, 4, 6, 8, 10\n",
    "\n",
    "c = list(map(lambda x, y: x * y, a, b))\n",
    "\n",
    "print(c)\n",
    "\n",
    "print((lambda x :  x ** 2)(10))"
   ]
  },
  {
   "cell_type": "markdown",
   "id": "5f617da9-7770-4efc-a3a9-7e84d380969c",
   "metadata": {},
   "source": [
    "- ### filter() ###"
   ]
  },
  {
   "cell_type": "markdown",
   "id": "02a00388-baca-4945-8b02-1dbb600b316c",
   "metadata": {},
   "source": [
    "```python\n",
    "map(lambda parameter: expression, iterable)\n",
    "                    #true 일 떄만 해당 요소를 가져옴\n",
    "```"
   ]
  },
  {
   "cell_type": "code",
   "execution_count": 61,
   "id": "8cafc69c-f5fa-44e9-8030-2a94ae2a30b2",
   "metadata": {},
   "outputs": [
    {
     "data": {
      "text/plain": [
       "[3, 9, 9]"
      ]
     },
     "execution_count": 61,
     "metadata": {},
     "output_type": "execute_result"
    }
   ],
   "source": [
    "a = [3, 2, 8, 22, 10, 7, 0, 11, 9, 9]\n",
    "list(filter(lambda x: x % 3 == 0 and 0 < x < 10, a))"
   ]
  },
  {
   "cell_type": "code",
   "execution_count": null,
   "id": "fbbf9294-393e-41b8-887f-2910f840d23e",
   "metadata": {},
   "outputs": [],
   "source": []
  }
 ],
 "metadata": {
  "kernelspec": {
   "display_name": "Python 3 (ipykernel)",
   "language": "python",
   "name": "python3"
  },
  "language_info": {
   "codemirror_mode": {
    "name": "ipython",
    "version": 3
   },
   "file_extension": ".py",
   "mimetype": "text/x-python",
   "name": "python",
   "nbconvert_exporter": "python",
   "pygments_lexer": "ipython3",
   "version": "3.9.13"
  }
 },
 "nbformat": 4,
 "nbformat_minor": 5
}

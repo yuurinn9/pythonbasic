{
 "cells": [
  {
   "cell_type": "markdown",
   "id": "82cd7cdc-e1a0-458e-9026-26f841bca023",
   "metadata": {},
   "source": [
    "<h1> 2023 - 01 -16 </h1>"
   ]
  },
  {
   "cell_type": "markdown",
   "id": "1332332f-7d74-4055-bd17-8c35390e86f9",
   "metadata": {},
   "source": [
    "<h1> <mark>[ 넘파이 배열 ]</mark> </h1>"
   ]
  },
  {
   "cell_type": "markdown",
   "id": "ba9791b4-0ef6-4b3c-887f-e28279d242f2",
   "metadata": {},
   "source": [
    "Numpy는 파이썬 내장 모듈이 아님 따라서 별도 설치 요구   \n",
    "아나콘다를 환경으로 꾸리면 기본적으로 Numpy 패키지 설치없이 사용 가능"
   ]
  },
  {
   "cell_type": "markdown",
   "id": "e003fa03-56f6-4a61-8802-4989bd01a739",
   "metadata": {},
   "source": [
    "- 숫자 데이터를 좀 더 쉽고 편리하게 다룰 수 있음\n",
    "- 숫자 데이터를 효과적으로 다룰 수 있기 때문에 데이터를 주로 다루는데 사용, 데이터 과학 및 데이터 분석에 많이 사용\n",
    "- 다차원의 배열 자료구조 클래스인 ndarray 클래스를 지원하며 벡터와 행렬을 사용하는 선형대수 계산에 주로 사용"
   ]
  },
  {
   "cell_type": "markdown",
   "id": "bbf50365-f12e-474e-bdf4-20dc2ef7e041",
   "metadata": {},
   "source": [
    "https://numpy.org/"
   ]
  },
  {
   "cell_type": "markdown",
   "id": "6d71de1c-f286-4efa-a169-114b8aa5cbaf",
   "metadata": {},
   "source": [
    "### 넘파이 배열? ###"
   ]
  },
  {
   "cell_type": "markdown",
   "id": "01e5446b-fb0a-4081-8f9d-3aaf92d9e832",
   "metadata": {},
   "source": [
    "- 배열이란 순서가 있는 같은 종류의 데이터가 저장되는 자료형"
   ]
  },
  {
   "cell_type": "markdown",
   "id": "986f0d9b-1cff-4966-93ce-b5214eb84160",
   "metadata": {},
   "source": [
    "### 리스트를 활용해도 되는데 넘파이를 왜 쓸까? ###\n",
    "- 리스트도 좋은 자료형이지만 넘파이 배열이 구조적으로 속도가 빠르고 메모리를 적게 사용"
   ]
  },
  {
   "cell_type": "markdown",
   "id": "795432c1-6659-461f-9c42-1f7491b22cc6",
   "metadata": {},
   "source": [
    "<img src=\"http://jakevdp.github.io/images/array_vs_list.png\" ></img>"
   ]
  },
  {
   "cell_type": "markdown",
   "id": "a9f4211d-8c73-429b-92b7-332b428cde4f",
   "metadata": {},
   "source": [
    ">수 많은 숫자 데이터를 하나의 리스트 시퀸스로 다루게 되면 넘파이 베열에 비하여 상대적으로 속도가 느리고 메모리를 많이 차지하는 단점이 있음  \n",
    ">넘파이 패키지 배열을 사용하면 리스트에 비해 적은 메모리로 많은 데이터를 빠르게 처리할 수 있음  \n",
    ">다만 넘파이 배열은 많은 데이터를 다룰 수 있다는 점에서 리스트와 비슷하면서 차이점  \n"
   ]
  },
  {
   "cell_type": "markdown",
   "id": "e74aca3a-6ac4-4c3f-aed9-d96f5ca97381",
   "metadata": {},
   "source": [
    "\n",
    "<h3> 1. 모든 요소가 같은 자료형이어야 한다. </h3> \n",
    "\n",
    "<h3> 2. 요소의 개수 바꿀 수 있다. </h3>\n"
   ]
  },
  {
   "cell_type": "markdown",
   "id": "ecf26a30-de79-47e1-8fe1-e12520440fc3",
   "metadata": {},
   "source": [
    "- 넘파이 배열 연산은 C로 구현된 내부 반복문을 사용하기 때문에 파이썬 반복문에 비해 속도가 빠르며 벡터화 연산을 이용하여  \n",
    "간단한 코드로 복잡한 연산을 수행 가능"
   ]
  },
  {
   "cell_type": "markdown",
   "id": "32c3441c-8658-41a1-b29e-b1a15c1c3edb",
   "metadata": {},
   "source": [
    "<u> <h2> 넘파이 패키지 임포트하기 </h2> </u>"
   ]
  },
  {
   "cell_type": "markdown",
   "id": "40541611-ccaf-4f82-8cd1-05e836d791ed",
   "metadata": {},
   "source": [
    "- np라는 이름으로 임포트하는 것이 관례\n",
    "- 한번만 실행시키면 밑에 코드도 다 적용\n"
   ]
  },
  {
   "cell_type": "markdown",
   "id": "03c4eab1-cf0f-4194-9c0e-af97dc417d79",
   "metadata": {},
   "source": [
    "```python\n",
    "import numpy as np\n",
    "```"
   ]
  },
  {
   "cell_type": "markdown",
   "id": "97fc7250-ba05-424c-af06-7888fc86d44e",
   "metadata": {},
   "source": [
    "- 넘파이 배열 객체인 ndarray는 N - dimensional Array의 약자 \n",
    "- 1차원 배열, 2차원 배열 같은 다차원 배열 자료구조 지원"
   ]
  },
  {
   "cell_type": "markdown",
   "id": "1849a867-ea8d-4478-a2fb-6290b19f9f04",
   "metadata": {},
   "source": [
    "<u><h2> 1차원 배열 만들기 </h2></u>"
   ]
  },
  {
   "cell_type": "markdown",
   "id": "37c769f4-d8d0-4145-8c5f-f7b588f114ae",
   "metadata": {},
   "source": [
    "- 넘파이의 array 메서드 인수로 시퀀스 자료형을 넣으면 ndarry 클래스 객체, 즉 넘파이 배열로 반환해줌 \n",
    "- 시퀀스 자료형은 주로 튜플보단 리스트 많이 활용\n",
    "- 만들어진 표현식을 보면 바깥쪽에 array()란 것이 붙을뿐 리스트와 동일한 구조처럼 보임\n"
   ]
  },
  {
   "cell_type": "code",
   "execution_count": 10,
   "id": "fbc7538d-e1cc-4261-bf0d-0a59b82e7d2c",
   "metadata": {},
   "outputs": [
    {
     "name": "stdout",
     "output_type": "stream",
     "text": [
      "[0 1 2 3 4 5 6 7 8 9]\n"
     ]
    }
   ],
   "source": [
    "import numpy as np\n",
    "ar = np.array([_ for _ in range(10)])\n",
    "print(ar)"
   ]
  },
  {
   "cell_type": "markdown",
   "id": "8a2f037e-1171-45ae-9f21-f175e904f662",
   "metadata": {},
   "source": [
    "- 넘파이 배열 객체의 속성중 shape를 사용하면 넘파이 배열의 모양 확인 가능"
   ]
  },
  {
   "cell_type": "code",
   "execution_count": 12,
   "id": "730e9dd7-121f-4c3f-90a4-532ce641329c",
   "metadata": {},
   "outputs": [
    {
     "data": {
      "text/plain": [
       "(10,)"
      ]
     },
     "execution_count": 12,
     "metadata": {},
     "output_type": "execute_result"
    }
   ],
   "source": [
    "ar.shape"
   ]
  },
  {
   "cell_type": "code",
   "execution_count": 13,
   "id": "633df9fb-a6bf-417a-94f5-110267f1574a",
   "metadata": {
    "scrolled": true,
    "tags": []
   },
   "outputs": [
    {
     "name": "stdout",
     "output_type": "stream",
     "text": [
      "# packages in environment at C:\\ProgramData\\Anaconda3:\n",
      "#\n",
      "# Name                    Version                   Build  Channel\n",
      "_ipyw_jlab_nb_ext_conf    0.1.0            py39haa95532_0  \n",
      "alabaster                 0.7.12             pyhd3eb1b0_0  \n",
      "anaconda                  2022.10                  py39_0  \n",
      "anaconda-client           1.11.0           py39haa95532_0  \n",
      "anaconda-navigator        2.3.1            py39haa95532_0  \n",
      "anaconda-project          0.11.1           py39haa95532_0  \n",
      "anyio                     3.5.0            py39haa95532_0  \n",
      "appdirs                   1.4.4              pyhd3eb1b0_0  \n",
      "argon2-cffi               21.3.0             pyhd3eb1b0_0  \n",
      "argon2-cffi-bindings      21.2.0           py39h2bbff1b_0  \n",
      "arrow                     1.2.2              pyhd3eb1b0_0  \n",
      "astroid                   2.11.7           py39haa95532_0  \n",
      "astropy                   5.1              py39h080aedc_0  \n",
      "atomicwrites              1.4.0                      py_0  \n",
      "attrs                     21.4.0             pyhd3eb1b0_0  \n",
      "automat                   20.2.0                     py_0  \n",
      "autopep8                  1.6.0              pyhd3eb1b0_1  \n",
      "babel                     2.9.1              pyhd3eb1b0_0  \n",
      "backcall                  0.2.0              pyhd3eb1b0_0  \n",
      "backports                 1.1                pyhd3eb1b0_0  \n",
      "backports.functools_lru_cache 1.6.4              pyhd3eb1b0_0  \n",
      "backports.tempfile        1.0                pyhd3eb1b0_1  \n",
      "backports.weakref         1.0.post1                  py_1  \n",
      "bcrypt                    3.2.0            py39h2bbff1b_1  \n",
      "beautifulsoup4            4.11.1           py39haa95532_0  \n",
      "binaryornot               0.4.4              pyhd3eb1b0_1  \n",
      "bitarray                  2.5.1            py39h2bbff1b_0  \n",
      "bkcharts                  0.2              py39haa95532_1  \n",
      "black                     22.6.0           py39haa95532_0  \n",
      "blas                      1.0                         mkl  \n",
      "bleach                    4.1.0              pyhd3eb1b0_0  \n",
      "blosc                     1.21.0               h19a0ad4_1  \n",
      "bokeh                     2.4.3            py39haa95532_0  \n",
      "boto3                     1.24.28          py39haa95532_0  \n",
      "botocore                  1.27.28          py39haa95532_0  \n",
      "bottleneck                1.3.5            py39h080aedc_0  \n",
      "brotli                    1.0.9                h2bbff1b_7  \n",
      "brotli-bin                1.0.9                h2bbff1b_7  \n",
      "brotlipy                  0.7.0           py39h2bbff1b_1003  \n",
      "bzip2                     1.0.8                he774522_0  \n",
      "ca-certificates           2022.07.19           haa95532_0  \n",
      "certifi                   2022.9.14        py39haa95532_0  \n",
      "cffi                      1.15.1           py39h2bbff1b_0  \n",
      "cfitsio                   3.470                h2bbff1b_7  \n",
      "chardet                   4.0.0           py39haa95532_1003  \n",
      "charls                    2.2.0                h6c2663c_0  \n",
      "charset-normalizer        2.0.4              pyhd3eb1b0_0  \n",
      "click                     8.0.4            py39haa95532_0  \n",
      "cloudpickle               2.0.0              pyhd3eb1b0_0  \n",
      "clyent                    1.2.2            py39haa95532_1  \n",
      "colorama                  0.4.5            py39haa95532_0  \n",
      "colorcet                  3.0.0            py39haa95532_0  \n",
      "comtypes                  1.1.10          py39haa95532_1002  \n",
      "conda                     22.9.0           py39haa95532_0  \n",
      "conda-build               3.22.0           py39haa95532_0  \n",
      "conda-content-trust       0.1.3            py39haa95532_0  \n",
      "conda-env                 2.6.0                haa95532_1  \n",
      "conda-pack                0.6.0              pyhd3eb1b0_0  \n",
      "conda-package-handling    1.9.0            py39h8cc25b3_0  \n",
      "conda-repo-cli            1.0.20           py39haa95532_0  \n",
      "conda-token               0.4.0              pyhd3eb1b0_0  \n",
      "conda-verify              3.4.2                      py_1  \n",
      "console_shortcut          0.1.1                         4  \n",
      "constantly                15.1.0             pyh2b92418_0  \n",
      "cookiecutter              1.7.3              pyhd3eb1b0_0  \n",
      "cryptography              37.0.1           py39h21b164f_0  \n",
      "cssselect                 1.1.0              pyhd3eb1b0_0  \n",
      "curl                      7.84.0               h2bbff1b_0  \n",
      "cycler                    0.11.0             pyhd3eb1b0_0  \n",
      "cython                    0.29.32          py39hd77b12b_0  \n",
      "cytoolz                   0.11.0           py39h2bbff1b_0  \n",
      "daal4py                   2021.6.0         py39h757b272_1  \n",
      "dal                       2021.6.0           h59b6b97_874  \n",
      "dask                      2022.7.0         py39haa95532_0  \n",
      "dask-core                 2022.7.0         py39haa95532_0  \n",
      "dataclasses               0.8                pyh6d0b6a4_7  \n",
      "datashader                0.14.1           py39haa95532_0  \n",
      "datashape                 0.5.4            py39haa95532_1  \n",
      "debugpy                   1.5.1            py39hd77b12b_0  \n",
      "decorator                 5.1.1              pyhd3eb1b0_0  \n",
      "defusedxml                0.7.1              pyhd3eb1b0_0  \n",
      "diff-match-patch          20200713           pyhd3eb1b0_0  \n",
      "dill                      0.3.4              pyhd3eb1b0_0  \n",
      "distributed               2022.7.0         py39haa95532_0  \n",
      "docutils                  0.18.1           py39haa95532_3  \n",
      "entrypoints               0.4              py39haa95532_0  \n",
      "et_xmlfile                1.1.0            py39haa95532_0  \n",
      "fftw                      3.3.9                h2bbff1b_1  \n",
      "filelock                  3.6.0              pyhd3eb1b0_0  \n",
      "flake8                    4.0.1              pyhd3eb1b0_1  \n",
      "flask                     1.1.2              pyhd3eb1b0_0  \n",
      "fonttools                 4.25.0             pyhd3eb1b0_0  \n",
      "freetype                  2.10.4               hd328e21_0  \n",
      "fsspec                    2022.7.1         py39haa95532_0  \n",
      "future                    0.18.2           py39haa95532_1  \n",
      "gensim                    4.1.2            py39hd77b12b_0  \n",
      "giflib                    5.2.1                h62dcd97_0  \n",
      "glob2                     0.7                pyhd3eb1b0_0  \n",
      "greenlet                  1.1.1            py39hd77b12b_0  \n",
      "h5py                      3.7.0            py39h3de5c98_0  \n",
      "hdf5                      1.10.6               h1756f20_1  \n",
      "heapdict                  1.0.1              pyhd3eb1b0_0  \n",
      "holoviews                 1.15.0           py39haa95532_0  \n",
      "hvplot                    0.8.0            py39haa95532_0  \n",
      "hyperlink                 21.0.0             pyhd3eb1b0_0  \n",
      "icc_rt                    2022.1.0             h6049295_2  \n",
      "icu                       58.2                 ha925a31_3  \n",
      "idna                      3.3                pyhd3eb1b0_0  \n",
      "imagecodecs               2021.8.26        py39hc0a7faf_1  \n",
      "imageio                   2.19.3           py39haa95532_0  \n",
      "imagesize                 1.4.1            py39haa95532_0  \n",
      "importlib-metadata        4.11.3           py39haa95532_0  \n",
      "importlib_metadata        4.11.3               hd3eb1b0_0  \n",
      "incremental               21.3.0             pyhd3eb1b0_0  \n",
      "inflection                0.5.1            py39haa95532_0  \n",
      "iniconfig                 1.1.1              pyhd3eb1b0_0  \n",
      "intake                    0.6.5              pyhd3eb1b0_0  \n",
      "intel-openmp              2021.4.0          haa95532_3556  \n",
      "intervaltree              3.1.0              pyhd3eb1b0_0  \n",
      "ipykernel                 6.15.2           py39haa95532_0  \n",
      "ipython                   7.31.1           py39haa95532_1  \n",
      "ipython_genutils          0.2.0              pyhd3eb1b0_1  \n",
      "ipywidgets                7.6.5              pyhd3eb1b0_1  \n",
      "isort                     5.9.3              pyhd3eb1b0_0  \n",
      "itemadapter               0.3.0              pyhd3eb1b0_0  \n",
      "itemloaders               1.0.4              pyhd3eb1b0_1  \n",
      "itsdangerous              2.0.1              pyhd3eb1b0_0  \n",
      "jdcal                     1.4.1              pyhd3eb1b0_0  \n",
      "jedi                      0.18.1           py39haa95532_1  \n",
      "jellyfish                 0.9.0            py39h2bbff1b_0  \n",
      "jinja2                    2.11.3             pyhd3eb1b0_0  \n",
      "jinja2-time               0.2.0              pyhd3eb1b0_3  \n",
      "jmespath                  0.10.0             pyhd3eb1b0_0  \n",
      "joblib                    1.1.0              pyhd3eb1b0_0  \n",
      "jpeg                      9e                   h2bbff1b_0  \n",
      "jq                        1.6                  haa95532_1  \n",
      "json5                     0.9.6              pyhd3eb1b0_0  \n",
      "jsonschema                4.16.0           py39haa95532_0  \n",
      "jupyter                   1.0.0            py39haa95532_8  \n",
      "jupyter_client            7.3.4            py39haa95532_0  \n",
      "jupyter_console           6.4.3              pyhd3eb1b0_0  \n",
      "jupyter_core              4.11.1           py39haa95532_0  \n",
      "jupyter_server            1.18.1           py39haa95532_0  \n",
      "jupyterlab                3.4.4            py39haa95532_0  \n",
      "jupyterlab_pygments       0.1.2                      py_0  \n",
      "jupyterlab_server         2.10.3             pyhd3eb1b0_1  \n",
      "jupyterlab_widgets        1.0.0              pyhd3eb1b0_1  \n",
      "keyring                   23.4.0           py39haa95532_0  \n",
      "kiwisolver                1.4.2            py39hd77b12b_0  \n",
      "lazy-object-proxy         1.6.0            py39h2bbff1b_0  \n",
      "lcms2                     2.12                 h83e58a3_0  \n",
      "lerc                      3.0                  hd77b12b_0  \n",
      "libaec                    1.0.4                h33f27b4_1  \n",
      "libarchive                3.6.1                hebabd0d_0  \n",
      "libbrotlicommon           1.0.9                h2bbff1b_7  \n",
      "libbrotlidec              1.0.9                h2bbff1b_7  \n",
      "libbrotlienc              1.0.9                h2bbff1b_7  \n",
      "libcurl                   7.84.0               h86230a5_0  \n",
      "libdeflate                1.8                  h2bbff1b_5  \n",
      "libiconv                  1.16                 h2bbff1b_2  \n",
      "liblief                   0.11.5               hd77b12b_1  \n",
      "libpng                    1.6.37               h2a8f88b_0  \n",
      "libsodium                 1.0.18               h62dcd97_0  \n",
      "libspatialindex           1.9.3                h6c2663c_0  \n",
      "libssh2                   1.10.0               hcd4344a_0  \n",
      "libtiff                   4.4.0                h8a3f274_0  \n",
      "libwebp                   1.2.2                h2bbff1b_0  \n",
      "libxml2                   2.9.14               h0ad7f3c_0  \n",
      "libxslt                   1.1.35               h2bbff1b_0  \n",
      "libzopfli                 1.0.3                ha925a31_0  \n",
      "llvmlite                  0.38.0           py39h23ce68f_0  \n",
      "locket                    1.0.0            py39haa95532_0  \n",
      "lxml                      4.9.1            py39h1985fb9_0  \n",
      "lz4                       3.1.3            py39h2bbff1b_0  \n",
      "lz4-c                     1.9.3                h2bbff1b_1  \n",
      "lzo                       2.10                 he774522_2  \n",
      "m2-msys2-runtime          2.5.0.17080.65c939c               3  \n",
      "m2-patch                  2.7.5                         2  \n",
      "m2w64-libwinpthread-git   5.0.0.4634.697f757               2  \n",
      "markdown                  3.3.4            py39haa95532_0  \n",
      "markupsafe                2.0.1            py39h2bbff1b_0  \n",
      "matplotlib                3.5.2            py39haa95532_0  \n",
      "matplotlib-base           3.5.2            py39hd77b12b_0  \n",
      "matplotlib-inline         0.1.6            py39haa95532_0  \n",
      "mccabe                    0.6.1            py39haa95532_2  \n",
      "menuinst                  1.4.19           py39h59b6b97_0  \n",
      "mistune                   0.8.4           py39h2bbff1b_1000  \n",
      "mkl                       2021.4.0           haa95532_640  \n",
      "mkl-service               2.4.0            py39h2bbff1b_0  \n",
      "mkl_fft                   1.3.1            py39h277e83a_0  \n",
      "mkl_random                1.2.2            py39hf11a4ad_0  \n",
      "mock                      4.0.3              pyhd3eb1b0_0  \n",
      "mpmath                    1.2.1            py39haa95532_0  \n",
      "msgpack-python            1.0.3            py39h59b6b97_0  \n",
      "msys2-conda-epoch         20160418                      1  \n",
      "multipledispatch          0.6.0            py39haa95532_0  \n",
      "munkres                   1.1.4                      py_0  \n",
      "mypy_extensions           0.4.3            py39haa95532_1  \n",
      "navigator-updater         0.3.0            py39haa95532_0  \n",
      "nbclassic                 0.3.5              pyhd3eb1b0_0  \n",
      "nbclient                  0.5.13           py39haa95532_0  \n",
      "nbconvert                 6.4.4            py39haa95532_0  \n",
      "nbformat                  5.5.0            py39haa95532_0  \n",
      "nest-asyncio              1.5.5            py39haa95532_0  \n",
      "networkx                  2.8.4            py39haa95532_0  \n",
      "nltk                      3.7                pyhd3eb1b0_0  \n",
      "nose                      1.3.7           pyhd3eb1b0_1008  \n",
      "notebook                  6.4.12           py39haa95532_0  \n",
      "numba                     0.55.1           py39hf11a4ad_0  \n",
      "numexpr                   2.8.3            py39hb80d3ca_0  \n",
      "numpy                     1.21.5           py39h7a0a035_3  \n",
      "numpy-base                1.21.5           py39hca35cd5_3  \n",
      "numpydoc                  1.4.0            py39haa95532_0  \n",
      "olefile                   0.46               pyhd3eb1b0_0  \n",
      "openjpeg                  2.4.0                h4fc8c34_0  \n",
      "openpyxl                  3.0.10           py39h2bbff1b_0  \n",
      "openssl                   1.1.1q               h2bbff1b_0  \n",
      "packaging                 21.3               pyhd3eb1b0_0  \n",
      "pandas                    1.4.4            py39hd77b12b_0  \n",
      "pandocfilters             1.5.0              pyhd3eb1b0_0  \n",
      "panel                     0.13.1           py39haa95532_0  \n",
      "param                     1.12.0             pyhd3eb1b0_0  \n",
      "paramiko                  2.8.1              pyhd3eb1b0_0  \n",
      "parsel                    1.6.0            py39haa95532_0  \n",
      "parso                     0.8.3              pyhd3eb1b0_0  \n",
      "partd                     1.2.0              pyhd3eb1b0_1  \n",
      "pathlib                   1.0.1              pyhd3eb1b0_1  \n",
      "pathspec                  0.9.0            py39haa95532_0  \n",
      "patsy                     0.5.2            py39haa95532_1  \n",
      "pep8                      1.7.1            py39haa95532_1  \n",
      "pexpect                   4.8.0              pyhd3eb1b0_3  \n",
      "pickleshare               0.7.5           pyhd3eb1b0_1003  \n",
      "pillow                    9.2.0            py39hdc2b20a_1  \n",
      "pip                       22.2.2           py39haa95532_0  \n",
      "pkginfo                   1.8.2              pyhd3eb1b0_0  \n",
      "platformdirs              2.5.2            py39haa95532_0  \n",
      "plotly                    5.9.0            py39haa95532_0  \n",
      "pluggy                    1.0.0            py39haa95532_1  \n",
      "powershell_shortcut       0.0.1                         3  \n",
      "poyo                      0.5.0              pyhd3eb1b0_0  \n",
      "prometheus_client         0.14.1           py39haa95532_0  \n",
      "prompt-toolkit            3.0.20             pyhd3eb1b0_0  \n",
      "prompt_toolkit            3.0.20               hd3eb1b0_0  \n",
      "protego                   0.1.16                     py_0  \n",
      "psutil                    5.9.0            py39h2bbff1b_0  \n",
      "ptyprocess                0.7.0              pyhd3eb1b0_2  \n",
      "py                        1.11.0             pyhd3eb1b0_0  \n",
      "py-lief                   0.11.5           py39hd77b12b_1  \n",
      "pyasn1                    0.4.8              pyhd3eb1b0_0  \n",
      "pyasn1-modules            0.2.8                      py_0  \n",
      "pycodestyle               2.8.0              pyhd3eb1b0_0  \n",
      "pycosat                   0.6.3            py39h2bbff1b_0  \n",
      "pycparser                 2.21               pyhd3eb1b0_0  \n",
      "pyct                      0.4.8            py39haa95532_1  \n",
      "pycurl                    7.45.1           py39hcd4344a_0  \n",
      "pydispatcher              2.0.5            py39haa95532_2  \n",
      "pydocstyle                6.1.1              pyhd3eb1b0_0  \n",
      "pyerfa                    2.0.0            py39h2bbff1b_0  \n",
      "pyflakes                  2.4.0              pyhd3eb1b0_0  \n",
      "pygments                  2.11.2             pyhd3eb1b0_0  \n",
      "pyhamcrest                2.0.2              pyhd3eb1b0_2  \n",
      "pyjwt                     2.4.0            py39haa95532_0  \n",
      "pylint                    2.14.5           py39haa95532_0  \n",
      "pyls-spyder               0.4.0              pyhd3eb1b0_0  \n",
      "pynacl                    1.5.0            py39h8cc25b3_0  \n",
      "pyodbc                    4.0.34           py39hd77b12b_0  \n",
      "pyopenssl                 22.0.0             pyhd3eb1b0_0  \n",
      "pyparsing                 3.0.9            py39haa95532_0  \n",
      "pyqt                      5.9.2            py39hd77b12b_6  \n",
      "pyrsistent                0.18.0           py39h196d8e1_0  \n",
      "pysocks                   1.7.1            py39haa95532_0  \n",
      "pytables                  3.6.1            py39h56d22b6_1  \n",
      "pytest                    7.1.2            py39haa95532_0  \n",
      "python                    3.9.13               h6244533_1  \n",
      "python-dateutil           2.8.2              pyhd3eb1b0_0  \n",
      "python-fastjsonschema     2.16.2           py39haa95532_0  \n",
      "python-libarchive-c       2.9                pyhd3eb1b0_1  \n",
      "python-lsp-black          1.0.0              pyhd3eb1b0_0  \n",
      "python-lsp-jsonrpc        1.0.0              pyhd3eb1b0_0  \n",
      "python-lsp-server         1.3.3              pyhd3eb1b0_0  \n",
      "python-slugify            5.0.2              pyhd3eb1b0_0  \n",
      "python-snappy             0.6.0            py39hd77b12b_3  \n",
      "pytz                      2022.1           py39haa95532_0  \n",
      "pyviz_comms               2.0.2              pyhd3eb1b0_0  \n",
      "pywavelets                1.3.0            py39h2bbff1b_0  \n",
      "pywin32                   302              py39h2bbff1b_2  \n",
      "pywin32-ctypes            0.2.0           py39haa95532_1000  \n",
      "pywinpty                  2.0.2            py39h5da7b33_0  \n",
      "pyyaml                    6.0              py39h2bbff1b_1  \n",
      "pyzmq                     23.2.0           py39hd77b12b_0  \n",
      "qdarkstyle                3.0.2              pyhd3eb1b0_0  \n",
      "qstylizer                 0.1.10             pyhd3eb1b0_0  \n",
      "qt                        5.9.7            vc14h73c81de_0  \n",
      "qtawesome                 1.0.3              pyhd3eb1b0_0  \n",
      "qtconsole                 5.2.2              pyhd3eb1b0_0  \n",
      "qtpy                      2.2.0            py39haa95532_0  \n",
      "queuelib                  1.5.0            py39haa95532_0  \n",
      "regex                     2022.7.9         py39h2bbff1b_0  \n",
      "requests                  2.28.1           py39haa95532_0  \n",
      "requests-file             1.5.1              pyhd3eb1b0_0  \n",
      "rope                      0.22.0             pyhd3eb1b0_0  \n",
      "rtree                     0.9.7            py39h2eaa2aa_1  \n",
      "ruamel_yaml               0.15.100         py39h2bbff1b_0  \n",
      "s3transfer                0.6.0            py39haa95532_0  \n",
      "scikit-image              0.19.2           py39hf11a4ad_0  \n",
      "scikit-learn              1.0.2            py39hf11a4ad_1  \n",
      "scikit-learn-intelex      2021.6.0         py39haa95532_0  \n",
      "scipy                     1.9.1            py39he11b74f_0  \n",
      "scrapy                    2.6.2            py39haa95532_0  \n",
      "seaborn                   0.11.2             pyhd3eb1b0_0  \n",
      "send2trash                1.8.0              pyhd3eb1b0_1  \n",
      "service_identity          18.1.0             pyhd3eb1b0_1  \n",
      "setuptools                63.4.1           py39haa95532_0  \n",
      "sip                       4.19.13          py39hd77b12b_0  \n",
      "six                       1.16.0             pyhd3eb1b0_1  \n",
      "smart_open                5.2.1            py39haa95532_0  \n",
      "snappy                    1.1.9                h6c2663c_0  \n",
      "sniffio                   1.2.0            py39haa95532_1  \n",
      "snowballstemmer           2.2.0              pyhd3eb1b0_0  \n",
      "sortedcollections         2.1.0              pyhd3eb1b0_0  \n",
      "sortedcontainers          2.4.0              pyhd3eb1b0_0  \n",
      "soupsieve                 2.3.1              pyhd3eb1b0_0  \n",
      "sphinx                    5.0.2            py39haa95532_0  \n",
      "sphinxcontrib-applehelp   1.0.2              pyhd3eb1b0_0  \n",
      "sphinxcontrib-devhelp     1.0.2              pyhd3eb1b0_0  \n",
      "sphinxcontrib-htmlhelp    2.0.0              pyhd3eb1b0_0  \n",
      "sphinxcontrib-jsmath      1.0.1              pyhd3eb1b0_0  \n",
      "sphinxcontrib-qthelp      1.0.3              pyhd3eb1b0_0  \n",
      "sphinxcontrib-serializinghtml 1.1.5              pyhd3eb1b0_0  \n",
      "spyder                    5.2.2            py39haa95532_1  \n",
      "spyder-kernels            2.2.1            py39haa95532_0  \n",
      "sqlalchemy                1.4.39           py39h2bbff1b_0  \n",
      "sqlite                    3.39.3               h2bbff1b_0  \n",
      "statsmodels               0.13.2           py39h2bbff1b_0  \n",
      "sympy                     1.10.1           py39haa95532_0  \n",
      "tabulate                  0.8.10           py39haa95532_0  \n",
      "tbb                       2021.6.0             h59b6b97_0  \n",
      "tbb4py                    2021.6.0         py39h59b6b97_0  \n",
      "tblib                     1.7.0              pyhd3eb1b0_0  \n",
      "tenacity                  8.0.1            py39haa95532_1  \n",
      "terminado                 0.13.1           py39haa95532_0  \n",
      "testpath                  0.6.0            py39haa95532_0  \n",
      "text-unidecode            1.3                pyhd3eb1b0_0  \n",
      "textdistance              4.2.1              pyhd3eb1b0_0  \n",
      "threadpoolctl             2.2.0              pyh0d69192_0  \n",
      "three-merge               0.1.1              pyhd3eb1b0_0  \n",
      "tifffile                  2021.7.2           pyhd3eb1b0_2  \n",
      "tinycss                   0.4             pyhd3eb1b0_1002  \n",
      "tk                        8.6.12               h2bbff1b_0  \n",
      "tldextract                3.2.0              pyhd3eb1b0_0  \n",
      "toml                      0.10.2             pyhd3eb1b0_0  \n",
      "tomli                     2.0.1            py39haa95532_0  \n",
      "tomlkit                   0.11.1           py39haa95532_0  \n",
      "toolz                     0.11.2             pyhd3eb1b0_0  \n",
      "tornado                   6.1              py39h2bbff1b_0  \n",
      "tqdm                      4.64.1           py39haa95532_0  \n",
      "traitlets                 5.1.1              pyhd3eb1b0_0  \n",
      "twisted                   22.2.0           py39h2bbff1b_1  \n",
      "twisted-iocpsupport       1.0.2            py39h2bbff1b_0  \n",
      "typing-extensions         4.3.0            py39haa95532_0  \n",
      "typing_extensions         4.3.0            py39haa95532_0  \n",
      "tzdata                    2022c                h04d1e81_0  \n",
      "ujson                     5.4.0            py39hd77b12b_0  \n",
      "unidecode                 1.2.0              pyhd3eb1b0_0  \n",
      "urllib3                   1.26.11          py39haa95532_0  \n",
      "vc                        14.2                 h21ff451_1  \n",
      "vs2015_runtime            14.27.29016          h5e58377_2  \n",
      "w3lib                     1.21.0             pyhd3eb1b0_0  \n",
      "watchdog                  2.1.6            py39haa95532_0  \n",
      "wcwidth                   0.2.5              pyhd3eb1b0_0  \n",
      "webencodings              0.5.1            py39haa95532_1  \n",
      "websocket-client          0.58.0           py39haa95532_4  \n",
      "werkzeug                  2.0.3              pyhd3eb1b0_0  \n",
      "wheel                     0.37.1             pyhd3eb1b0_0  \n",
      "widgetsnbextension        3.5.2            py39haa95532_0  \n",
      "win_inet_pton             1.1.0            py39haa95532_0  \n",
      "win_unicode_console       0.5              py39haa95532_0  \n",
      "wincertstore              0.2              py39haa95532_2  \n",
      "winpty                    0.4.3                         4  \n",
      "wrapt                     1.14.1           py39h2bbff1b_0  \n",
      "xarray                    0.20.1             pyhd3eb1b0_1  \n",
      "xlrd                      2.0.1              pyhd3eb1b0_0  \n",
      "xlsxwriter                3.0.3              pyhd3eb1b0_0  \n",
      "xlwings                   0.27.15          py39haa95532_0  \n",
      "xz                        5.2.6                h8cc25b3_0  \n",
      "yaml                      0.2.5                he774522_0  \n",
      "yapf                      0.31.0             pyhd3eb1b0_0  \n",
      "zeromq                    4.3.4                hd77b12b_0  \n",
      "zfp                       0.5.5                hd77b12b_6  \n",
      "zict                      2.1.0            py39haa95532_0  \n",
      "zipp                      3.8.0            py39haa95532_0  \n",
      "zlib                      1.2.12               h8cc25b3_3  \n",
      "zope                      1.0              py39haa95532_1  \n",
      "zope.interface            5.4.0            py39h2bbff1b_0  \n",
      "zstd                      1.5.2                h19a0ad4_0  \n"
     ]
    }
   ],
   "source": [
    "!conda list"
   ]
  },
  {
   "cell_type": "code",
   "execution_count": 19,
   "id": "49b8f3fb-38de-4535-bb3b-2799631b159a",
   "metadata": {},
   "outputs": [],
   "source": [
    "# Numpy를 임포트\n",
    "# jupyter lab에서 1회만 실행하면 그 아래 코드에선 다 사용 가능\n",
    "import numpy as np"
   ]
  },
  {
   "cell_type": "code",
   "execution_count": 16,
   "id": "9d94d54a-5d09-4a98-ad1c-4eeeabf15b4d",
   "metadata": {},
   "outputs": [
    {
     "data": {
      "text/plain": [
       "numpy.ndarray"
      ]
     },
     "execution_count": 16,
     "metadata": {},
     "output_type": "execute_result"
    }
   ],
   "source": [
    "type(ar)"
   ]
  },
  {
   "cell_type": "markdown",
   "id": "826b508e-bd88-44f4-acaa-831d0fa33aef",
   "metadata": {},
   "source": [
    "> 리스트 자료형은 요소의 종류에 관계없이, 또 개수에 제한없이 삽입, 삭제, 수정 가능  \n",
    "> 하지만 넘파이 배열 객체는 C언어의 배열처럼 메모리에서 연속적인 배치를 이루기 떄문에 모든 요소가 같은 자료형이어야 하고 개수가 명확해야함"
   ]
  },
  {
   "cell_type": "code",
   "execution_count": 17,
   "id": "a6587f17-22ab-4a81-93a4-c74b9cb7857b",
   "metadata": {},
   "outputs": [
    {
     "data": {
      "text/plain": [
       "array([0, 1, 2, 3, 4, 5, 6, 7, 8, 9])"
      ]
     },
     "execution_count": 17,
     "metadata": {},
     "output_type": "execute_result"
    }
   ],
   "source": [
    "ar = np.array([_ for _ in range(10)])\n",
    "ar"
   ]
  },
  {
   "cell_type": "code",
   "execution_count": 18,
   "id": "d56bcd05-48bb-4712-8063-097d705b8aec",
   "metadata": {},
   "outputs": [
    {
     "data": {
      "text/plain": [
       "array([ 0.1,  5. ,  4. , 12. ,  0.5])"
      ]
     },
     "execution_count": 18,
     "metadata": {},
     "output_type": "execute_result"
    }
   ],
   "source": [
    "ar2 = np.array([0.1, 5, 4, 12, 0.5])\n",
    "ar2"
   ]
  },
  {
   "cell_type": "markdown",
   "id": "d1fb3f0c-a141-41a9-a6b1-b9f5951db912",
   "metadata": {},
   "source": [
    "# 넘파이의 자료형 #"
   ]
  },
  {
   "cell_type": "code",
   "execution_count": 21,
   "id": "14aec2d2-c4e7-4e2d-9a80-363ae77e996a",
   "metadata": {},
   "outputs": [
    {
     "data": {
      "text/plain": [
       "dtype('float64')"
      ]
     },
     "execution_count": 21,
     "metadata": {},
     "output_type": "execute_result"
    }
   ],
   "source": [
    "ar2.dtype"
   ]
  },
  {
   "cell_type": "code",
   "execution_count": 22,
   "id": "bc4a14cd-1a2f-45c9-996c-031390294567",
   "metadata": {},
   "outputs": [
    {
     "data": {
      "text/plain": [
       "dtype('int32')"
      ]
     },
     "execution_count": 22,
     "metadata": {},
     "output_type": "execute_result"
    }
   ],
   "source": [
    "ar.dtype"
   ]
  },
  {
   "cell_type": "markdown",
   "id": "398e2463-1084-47c0-ba90-fc3b3120d3d8",
   "metadata": {},
   "source": [
    "- 넘파이의 배열인 ndarray클래스는 요소가 모두 같은 자료형을 갖음\n",
    "- 자료형을 명시적으로 작성하려면 키워드 인자로 dtype을 사용\n",
    "- 반대로 dtype 키워드 인수가 없으면 해당 데이터 자료형을 동적 타이핑\n",
    "- 만들어진 넘파이 배열의 자료형을 확인하려면 dtype 속성 활용"
   ]
  },
  {
   "cell_type": "code",
   "execution_count": 25,
   "id": "932e9136-4583-4ca8-aa1d-8cf93a4eeff2",
   "metadata": {},
   "outputs": [
    {
     "data": {
      "text/plain": [
       "array([3, 6, 9], dtype=int64)"
      ]
     },
     "execution_count": 25,
     "metadata": {},
     "output_type": "execute_result"
    }
   ],
   "source": [
    "ar3 = np.array([_ for _ in range(3, 10, 3)], 'i8') #int8bytes --> 8*8bit\n",
    "ar3"
   ]
  },
  {
   "cell_type": "code",
   "execution_count": 27,
   "id": "c24233e6-a1b2-4e5d-8c99-10c17763be2c",
   "metadata": {},
   "outputs": [
    {
     "name": "stdout",
     "output_type": "stream",
     "text": [
      "[2. 4. 6. 8.]\n",
      "float64\n"
     ]
    }
   ],
   "source": [
    "ar4 = np.array([_ for _ in range(2, 10, 2)], 'f8')\n",
    "print(ar4)\n",
    "print(ar4.dtype)"
   ]
  },
  {
   "cell_type": "code",
   "execution_count": 28,
   "id": "2dbb5c22-9e2f-467f-9952-da7957d22a9b",
   "metadata": {},
   "outputs": [
    {
     "name": "stdout",
     "output_type": "stream",
     "text": [
      "['가나다라마' '가나다라마' '가나다라마' '가나다라마' '가나다라마']\n",
      "<U5\n"
     ]
    }
   ],
   "source": [
    "# 'U8' 유니코드 8글자 자료형을 명시적으로 선언\n",
    "# 그래서 시퀀스 자요형 중 제일 큰 값이 <U5이지만 <U8로 타입이 지정\n",
    "ar5 = np.array([\"가나다라마\" for _ in range(5)], 'U5')\n",
    "print(ar5)\n",
    "print(ar5.dtype)\n",
    "# <U8은 최대 8글자의 유니코드 자료형"
   ]
  },
  {
   "cell_type": "markdown",
   "id": "b2f3f531-7160-4d2d-bbe7-3097298f77ab",
   "metadata": {},
   "source": [
    "dtype접두사|설명|사용 예제|\n",
    "|------|---|---|\n",
    "|'?'|boolean|b(True, False)|\n",
    "|'!'|int|i8(64비트)|\n",
    "|'u'|unsigneo int|u8(64비트)|\n",
    "|'f'|float| f8(64비트)|\n",
    "|'c'|complex| c16(128비트)|\n",
    "|'O'|Object| 0(객체에 대한 포인터)|\n",
    "|'U'|Unicode string| U24(24 유니코드 글자)|"
   ]
  },
  {
   "cell_type": "markdown",
   "id": "90da4900-fb8a-45a4-a5ae-a8fed98fa8f1",
   "metadata": {},
   "source": [
    ">첫번째 넘파이 배열에서 'f'를 활용하여 float로 dtype을 지정  \n",
    ">dtype 속성을 활용해 타입을 확인하니 32비트의 float형으로 생성된 것을 확인가능  \n",
    ">이 타입간 덧셈 연산의 결과는 숫자로 계산됨  \n",
    ">바로 아래 넘파이 배열에서는 유니코들 문자열을 타입으로 지정해서 생성  \n",
    ">1글자 이하의 글자들로 구성된 유니코드임을 추가적으로 설명  \n",
    ">유니코드 간 덧셈은 concatenate의 결과를 보여줌  "
   ]
  },
  {
   "cell_type": "code",
   "execution_count": 47,
   "id": "1deee986-6d01-4638-88c6-85f26fef8ccd",
   "metadata": {},
   "outputs": [
    {
     "data": {
      "text/plain": [
       "dtype('float32')"
      ]
     },
     "execution_count": 47,
     "metadata": {},
     "output_type": "execute_result"
    }
   ],
   "source": [
    "x =  np.array([1, 2, 3], dtype = 'f')\n",
    "x.dtype"
   ]
  },
  {
   "cell_type": "code",
   "execution_count": 49,
   "id": "09a34699-8592-4548-9a50-bf3142ce3ec8",
   "metadata": {},
   "outputs": [
    {
     "data": {
      "text/plain": [
       "3.0"
      ]
     },
     "execution_count": 49,
     "metadata": {},
     "output_type": "execute_result"
    }
   ],
   "source": [
    "x[0] + x[1]"
   ]
  },
  {
   "cell_type": "code",
   "execution_count": 50,
   "id": "5900e161-b487-4304-a706-e24411964032",
   "metadata": {},
   "outputs": [
    {
     "data": {
      "text/plain": [
       "dtype('<U1')"
      ]
     },
     "execution_count": 50,
     "metadata": {},
     "output_type": "execute_result"
    }
   ],
   "source": [
    "x = np.array([1, 2, 3], dtype = \"U\")\n",
    "x.dtype"
   ]
  },
  {
   "cell_type": "code",
   "execution_count": 51,
   "id": "2fb53c2b-cac8-4f5c-b866-c72034ddb772",
   "metadata": {},
   "outputs": [
    {
     "data": {
      "text/plain": [
       "'12'"
      ]
     },
     "execution_count": 51,
     "metadata": {},
     "output_type": "execute_result"
    }
   ],
   "source": [
    "x[0] + x[1]"
   ]
  },
  {
   "cell_type": "markdown",
   "id": "47ad1ad7-06ff-4551-aef8-11388006ced1",
   "metadata": {},
   "source": [
    ">넘파이에서는 무한대를 표현하기 위한 np.inf(infinity)와 정의할 수 없는 숫자를 나타내는 np.nan을 사용가능  \n",
    ">다음 예와 같이 1을 0으로 나누려고 하거나 0에 대한 로그 값을 계산하면 무한대인 np.inf가 나옴  \n",
    ">0을 0으로 나누려고 하면 np.nan이 나옴"
   ]
  },
  {
   "cell_type": "code",
   "execution_count": 33,
   "id": "69ee0db1-de78-422a-ac6f-8a93f23155b4",
   "metadata": {},
   "outputs": [
    {
     "name": "stderr",
     "output_type": "stream",
     "text": [
      "C:\\Users\\Playdata\\AppData\\Local\\Temp\\ipykernel_12476\\3987597072.py:1: RuntimeWarning: divide by zero encountered in true_divide\n",
      "  np.array([0, 1, -1, 0]) / np .array([1, 0, 0, 0])\n",
      "C:\\Users\\Playdata\\AppData\\Local\\Temp\\ipykernel_12476\\3987597072.py:1: RuntimeWarning: invalid value encountered in true_divide\n",
      "  np.array([0, 1, -1, 0]) / np .array([1, 0, 0, 0])\n"
     ]
    },
    {
     "data": {
      "text/plain": [
       "array([  0.,  inf, -inf,  nan])"
      ]
     },
     "execution_count": 33,
     "metadata": {},
     "output_type": "execute_result"
    }
   ],
   "source": [
    "np.array([0, 1, -1, 0]) / np .array([1, 0, 0, 0])"
   ]
  },
  {
   "cell_type": "code",
   "execution_count": 34,
   "id": "a8f9c2e9-e7f2-485e-937f-46cf389e7b43",
   "metadata": {},
   "outputs": [
    {
     "name": "stderr",
     "output_type": "stream",
     "text": [
      "C:\\Users\\Playdata\\AppData\\Local\\Temp\\ipykernel_12476\\2933082444.py:1: RuntimeWarning: divide by zero encountered in log\n",
      "  np.log(0)\n"
     ]
    },
    {
     "data": {
      "text/plain": [
       "-inf"
      ]
     },
     "execution_count": 34,
     "metadata": {},
     "output_type": "execute_result"
    }
   ],
   "source": [
    "np.log(0)"
   ]
  },
  {
   "cell_type": "code",
   "execution_count": 37,
   "id": "5441ca7f-7df3-468c-a396-5f1271f85b23",
   "metadata": {},
   "outputs": [
    {
     "data": {
      "text/plain": [
       "0.0"
      ]
     },
     "execution_count": 37,
     "metadata": {},
     "output_type": "execute_result"
    }
   ],
   "source": [
    "np.exp(-np.inf)"
   ]
  },
  {
   "cell_type": "markdown",
   "id": "543ba0df-a0a4-44f2-bf1a-73a7591026f8",
   "metadata": {},
   "source": [
    "# [벡터화 연산] #"
   ]
  },
  {
   "cell_type": "markdown",
   "id": "cdd67987-21db-4d7d-84b8-23663bad2348",
   "metadata": {},
   "source": [
    "- 배열의 각 요소에 대한 반복 연산을 하나의 명령어로 처리하는 벡터화 연산을 지원\n",
    "- 리스트 내 모든 요소 데이터를 모두 2배 해야하는 경우 생각"
   ]
  },
  {
   "cell_type": "code",
   "execution_count": 43,
   "id": "eeda0e1d-ad0d-4569-9aae-474f977d946a",
   "metadata": {},
   "outputs": [
    {
     "data": {
      "text/plain": [
       "[0, 2, 4, 6, 8, 10, 12, 14, 16, 18]"
      ]
     },
     "execution_count": 43,
     "metadata": {},
     "output_type": "execute_result"
    }
   ],
   "source": [
    "data = [0, 1, 2, 3, 4, 5, 6, 7, 8, 9]\n",
    "answer = [2 * d for d in data]\n",
    "answer"
   ]
  },
  {
   "cell_type": "markdown",
   "id": "eef4fbb2-fa7e-4a23-afc5-534ceec2a7c2",
   "metadata": {},
   "source": [
    "- 넘파이 배열 객체의 벡터화 연산을 사용하면 다음돠 같이 for 반복문이 없이 간단하게 단 한번의 연산식으로 표현 가능\n",
    "- 계산 속도도 리스트에 비해 빠름"
   ]
  },
  {
   "cell_type": "code",
   "execution_count": 52,
   "id": "3ef2352c-2edc-4702-8a54-4a447a5aaebd",
   "metadata": {},
   "outputs": [
    {
     "data": {
      "text/plain": [
       "array([0, 1, 2, 3, 4, 5, 6, 7, 8, 9])"
      ]
     },
     "execution_count": 52,
     "metadata": {},
     "output_type": "execute_result"
    }
   ],
   "source": [
    "x = np.array(data)\n",
    "x"
   ]
  },
  {
   "cell_type": "code",
   "execution_count": 48,
   "id": "3bafe955-b7df-4873-bfa2-1c18576e0ea8",
   "metadata": {},
   "outputs": [
    {
     "data": {
      "text/plain": [
       "array([2., 4., 6.], dtype=float32)"
      ]
     },
     "execution_count": 48,
     "metadata": {},
     "output_type": "execute_result"
    }
   ],
   "source": [
    "2*x"
   ]
  },
  {
   "cell_type": "code",
   "execution_count": 54,
   "id": "4d2bc05f-09be-4da7-aa66-feabda60bded",
   "metadata": {},
   "outputs": [],
   "source": [
    "a = np.array([1, 2, 3])\n",
    "b = np.array([10, 20, 30])"
   ]
  },
  {
   "cell_type": "code",
   "execution_count": 55,
   "id": "95f6746e-b571-4f9d-ab4c-e29be28833ad",
   "metadata": {},
   "outputs": [
    {
     "data": {
      "text/plain": [
       "array([12, 24, 36])"
      ]
     },
     "execution_count": 55,
     "metadata": {},
     "output_type": "execute_result"
    }
   ],
   "source": [
    "2 * a + b"
   ]
  },
  {
   "cell_type": "code",
   "execution_count": 56,
   "id": "ad21521b-9de5-4c98-a956-461100fc3e0e",
   "metadata": {},
   "outputs": [
    {
     "data": {
      "text/plain": [
       "array([False,  True, False])"
      ]
     },
     "execution_count": 56,
     "metadata": {},
     "output_type": "execute_result"
    }
   ],
   "source": [
    "a == 2"
   ]
  },
  {
   "cell_type": "code",
   "execution_count": 57,
   "id": "d3e5b8a6-1b97-4ba3-af94-fa5753ad74b6",
   "metadata": {},
   "outputs": [
    {
     "data": {
      "text/plain": [
       "array([False,  True,  True])"
      ]
     },
     "execution_count": 57,
     "metadata": {},
     "output_type": "execute_result"
    }
   ],
   "source": [
    "b > 10"
   ]
  },
  {
   "cell_type": "code",
   "execution_count": 60,
   "id": "ba3aa5f4-ecf3-4e27-888a-6163b9d40612",
   "metadata": {},
   "outputs": [
    {
     "data": {
      "text/plain": [
       "array([False,  True, False])"
      ]
     },
     "execution_count": 60,
     "metadata": {},
     "output_type": "execute_result"
    }
   ],
   "source": [
    "(a == 2) & (b > 10) # $ 비트연산자"
   ]
  },
  {
   "cell_type": "markdown",
   "id": "f09ba10d-60f4-462c-80be-8485b7b27ee1",
   "metadata": {},
   "source": [
    "<u><h2> 2차원 배열 만들기 </h2></u>"
   ]
  },
  {
   "cell_type": "markdown",
   "id": "48a92041-4883-40d1-8f2b-64a4cadce314",
   "metadata": {},
   "source": [
    "> 2차원 배열은 수학에서 행렬이라고 함\n",
    ">행렬에서는 가로줄을 행이라고 하고 세로줄을 열이라고 한다\n",
    ">이와 비슷한 구조를 넘파이 배열은 통해 만들자\n",
    "\n",
    ">다음과 같이 리스트를 중첩하여 리스트의 리스트를 이용해서 2차원 배열처럼 생성 가능\n",
    ">안쪽 리스트의 길이는 행렬의 열의 수 즉 가로 크기가 되고, 바깥쪽 리스트의 길이는 행렬의 행의 수 즉 세로 크기가 됨"
   ]
  },
  {
   "cell_type": "code",
   "execution_count": 84,
   "id": "971f0fca-4d21-4158-b6ab-50b8bebeae6d",
   "metadata": {},
   "outputs": [
    {
     "data": {
      "text/plain": [
       "array([[0, 1, 2],\n",
       "       [1, 2, 3]])"
      ]
     },
     "execution_count": 84,
     "metadata": {},
     "output_type": "execute_result"
    }
   ],
   "source": [
    "c = np.array([[0, 1, 2], [1, 2, 3]])\n",
    "c"
   ]
  },
  {
   "cell_type": "code",
   "execution_count": 70,
   "id": "174af2d6-57b4-4700-8000-21c7a009c46f",
   "metadata": {},
   "outputs": [
    {
     "data": {
      "text/plain": [
       "(2, 3)"
      ]
     },
     "execution_count": 70,
     "metadata": {},
     "output_type": "execute_result"
    }
   ],
   "source": [
    "c.shape"
   ]
  },
  {
   "cell_type": "markdown",
   "id": "7e15fbc1-5e67-4978-bc4f-811edfe8e815",
   "metadata": {},
   "source": [
    "## 연습문제 ##"
   ]
  },
  {
   "cell_type": "code",
   "execution_count": 71,
   "id": "8cfb7226-9240-4765-8b15-273dad773c11",
   "metadata": {},
   "outputs": [
    {
     "data": {
      "text/plain": [
       "array([[10, 20, 30, 40],\n",
       "       [50, 60, 70, 80]])"
      ]
     },
     "execution_count": 71,
     "metadata": {},
     "output_type": "execute_result"
    }
   ],
   "source": [
    "np.array([[10, 20, 30, 40], [50, 60, 70, 80]])\n"
   ]
  },
  {
   "cell_type": "markdown",
   "id": "df149465-941a-49e9-952c-4b89d3d92187",
   "metadata": {},
   "source": [
    "<u><h2> 3차원 배열 만들기 </h2></u>"
   ]
  },
  {
   "cell_type": "markdown",
   "id": "66c7188a-a5d9-4b4e-932f-de9ba0c7cefd",
   "metadata": {},
   "source": [
    "> ### 3차원 배열의 구조는 깊이 x 행 x 열 ###"
   ]
  },
  {
   "cell_type": "code",
   "execution_count": 75,
   "id": "f08273cc-7520-44cf-839e-0c53c7a298e1",
   "metadata": {},
   "outputs": [],
   "source": [
    "# 2 x 3 x 4\n",
    "d = np.array([[[1, 2, 3, 4],\n",
    "              [5, 6, 7, 8,],\n",
    "              [9, 10, 11, 12]],\n",
    "             [[11, 12, 13, 14],\n",
    "             [15, 16,17, 18],\n",
    "             [19, 20, 21, 22]]])"
   ]
  },
  {
   "cell_type": "code",
   "execution_count": 76,
   "id": "cad05b08-67ad-46c9-afed-19b9939b403a",
   "metadata": {},
   "outputs": [
    {
     "name": "stdout",
     "output_type": "stream",
     "text": [
      "1\n",
      "(3,)\n"
     ]
    }
   ],
   "source": [
    "# a = np.array([1, 2, 3])\n",
    "print(a.ndim)\n",
    "print(a.shape)"
   ]
  },
  {
   "cell_type": "code",
   "execution_count": 78,
   "id": "97e54efd-d0b1-4992-aa1f-2b1b64f866b3",
   "metadata": {},
   "outputs": [
    {
     "name": "stdout",
     "output_type": "stream",
     "text": [
      "2\n",
      "(2, 3)\n"
     ]
    }
   ],
   "source": [
    "#c = np.array([[0, 1, 2],[3, 4, 5]])\n",
    "print(c.ndim)\n",
    "print(c.shape)"
   ]
  },
  {
   "cell_type": "code",
   "execution_count": 80,
   "id": "a4d17062-e641-436f-a057-618344a92b1a",
   "metadata": {},
   "outputs": [
    {
     "name": "stdout",
     "output_type": "stream",
     "text": [
      "3\n",
      "(2, 3, 4)\n"
     ]
    }
   ],
   "source": [
    "print(d.ndim)\n",
    "print(d.shape)"
   ]
  },
  {
   "cell_type": "code",
   "execution_count": 89,
   "id": "ad677c0b-2ddf-4923-8ce7-0c81d8da4516",
   "metadata": {},
   "outputs": [
    {
     "ename": "SyntaxError",
     "evalue": "invalid syntax (1010064183.py, line 1)",
     "output_type": "error",
     "traceback": [
      "\u001b[1;36m  File \u001b[1;32m\"C:\\Users\\Playdata\\AppData\\Local\\Temp\\ipykernel_12476\\1010064183.py\"\u001b[1;36m, line \u001b[1;32m1\u001b[0m\n\u001b[1;33m    다차원 배열일때\u001b[0m\n\u001b[1;37m        ^\u001b[0m\n\u001b[1;31mSyntaxError\u001b[0m\u001b[1;31m:\u001b[0m invalid syntax\n"
     ]
    }
   ],
   "source": [
    "다차원 배열일때"
   ]
  },
  {
   "cell_type": "code",
   "execution_count": 91,
   "id": "98c0a929-6cd6-4f6a-9254-56b7cf4a5b6f",
   "metadata": {},
   "outputs": [
    {
     "data": {
      "text/plain": [
       "array([[0, 1, 2],\n",
       "       [3, 4, 5]])"
      ]
     },
     "execution_count": 91,
     "metadata": {},
     "output_type": "execute_result"
    }
   ],
   "source": [
    "a = np.array([[0, 1, 2], [3, 4, 5]])\n",
    "a"
   ]
  },
  {
   "cell_type": "code",
   "execution_count": 93,
   "id": "0a2fd637-4e40-4cca-b906-219054efb39c",
   "metadata": {},
   "outputs": [
    {
     "data": {
      "text/plain": [
       "0"
      ]
     },
     "execution_count": 93,
     "metadata": {},
     "output_type": "execute_result"
    }
   ],
   "source": [
    "a [0, 0] # 첫 번째 행의 첫번째 열"
   ]
  },
  {
   "cell_type": "code",
   "execution_count": 94,
   "id": "67d008b0-abfe-4ddd-a38e-d280076d2b60",
   "metadata": {},
   "outputs": [
    {
     "data": {
      "text/plain": [
       "1"
      ]
     },
     "execution_count": 94,
     "metadata": {},
     "output_type": "execute_result"
    }
   ],
   "source": [
    "a [0, 1] #첫 번째 헹의 두 번째 열"
   ]
  },
  {
   "cell_type": "code",
   "execution_count": 95,
   "id": "68cfd683-522e-4e61-947e-26dd01c01f9a",
   "metadata": {},
   "outputs": [
    {
     "data": {
      "text/plain": [
       "5"
      ]
     },
     "execution_count": 95,
     "metadata": {},
     "output_type": "execute_result"
    }
   ],
   "source": [
    "a [-1, -1] # 마지막 행의 마지막 열"
   ]
  },
  {
   "cell_type": "markdown",
   "id": "0f098402-be9b-4661-8bde-7f8fc15cc355",
   "metadata": {},
   "source": [
    "# 배열의 슬라이싱 #"
   ]
  },
  {
   "cell_type": "markdown",
   "id": "ad4c9b52-e904-4031-ac4e-d288ebe4e5d4",
   "metadata": {},
   "source": [
    "- 다차원 배열의 복수 개를 접근하려면 슬라이싱과 comma(,) 함께 사용"
   ]
  },
  {
   "cell_type": "code",
   "execution_count": 103,
   "id": "768fc2bf-bac1-4c6c-bdfa-40bfde8d9f74",
   "metadata": {},
   "outputs": [
    {
     "data": {
      "text/plain": [
       "array([[0, 1, 2, 3],\n",
       "       [4, 5, 6, 7]])"
      ]
     },
     "execution_count": 103,
     "metadata": {},
     "output_type": "execute_result"
    }
   ],
   "source": [
    "a = np.array([[0, 1, 2, 3], [4, 5, 6, 7]])\n",
    "a"
   ]
  },
  {
   "cell_type": "code",
   "execution_count": 105,
   "id": "267d63f9-97fc-4c71-a24f-d1ef02ee8fcb",
   "metadata": {},
   "outputs": [
    {
     "data": {
      "text/plain": [
       "array([0, 1, 2, 3])"
      ]
     },
     "execution_count": 105,
     "metadata": {},
     "output_type": "execute_result"
    }
   ],
   "source": [
    "a[0, :] # 첫번쨰 행 전체"
   ]
  },
  {
   "cell_type": "code",
   "execution_count": 106,
   "id": "5ab307bd-7125-4605-ac38-394dac410871",
   "metadata": {},
   "outputs": [
    {
     "data": {
      "text/plain": [
       "array([1, 5])"
      ]
     },
     "execution_count": 106,
     "metadata": {},
     "output_type": "execute_result"
    }
   ],
   "source": [
    "a[:, 1] #두번째 열 전체"
   ]
  },
  {
   "cell_type": "code",
   "execution_count": 107,
   "id": "1787b39c-dd40-4558-af25-2a370b629fb5",
   "metadata": {},
   "outputs": [
    {
     "data": {
      "text/plain": [
       "array([5, 6, 7])"
      ]
     },
     "execution_count": 107,
     "metadata": {},
     "output_type": "execute_result"
    }
   ],
   "source": [
    "a[1, 1:] # 두번쨰 행 두번째 열부터 끝까지"
   ]
  },
  {
   "cell_type": "code",
   "execution_count": 108,
   "id": "85357cdd-18d4-4f5a-9c30-801ee5161fb8",
   "metadata": {},
   "outputs": [
    {
     "data": {
      "text/plain": [
       "array([[0, 1, 2, 3],\n",
       "       [4, 5, 6, 7]])"
      ]
     },
     "execution_count": 108,
     "metadata": {},
     "output_type": "execute_result"
    }
   ],
   "source": [
    "np.array([_ for _ in range(8)]).reshape(2, 4)"
   ]
  },
  {
   "cell_type": "code",
   "execution_count": 110,
   "id": "58ececde-f29b-49be-bb65-83473939c006",
   "metadata": {},
   "outputs": [
    {
     "data": {
      "text/plain": [
       "array([[ 0,  1,  2,  3,  4],\n",
       "       [ 5,  6,  7,  8,  9],\n",
       "       [10, 11, 12, 13, 14]])"
      ]
     },
     "execution_count": 110,
     "metadata": {},
     "output_type": "execute_result"
    }
   ],
   "source": [
    "m = np.array([_ for _ in range(15)]).reshape(3, 5)\n",
    "m"
   ]
  },
  {
   "cell_type": "markdown",
   "id": "28c7640f-b719-4e65-8402-4287cd4860ab",
   "metadata": {},
   "source": [
    "-----------------------"
   ]
  },
  {
   "cell_type": "markdown",
   "id": "15d9bcd3-6d72-4bf4-bc96-835bbe0294df",
   "metadata": {},
   "source": [
    "## 연습문제 ##"
   ]
  },
  {
   "cell_type": "code",
   "execution_count": 117,
   "id": "6b4a7bae-0a39-4023-8816-b6f351fae086",
   "metadata": {},
   "outputs": [
    {
     "data": {
      "text/plain": [
       "7"
      ]
     },
     "execution_count": 117,
     "metadata": {},
     "output_type": "execute_result"
    }
   ],
   "source": [
    "m[1, 2]"
   ]
  },
  {
   "cell_type": "code",
   "execution_count": 118,
   "id": "0208e976-a6ad-4256-b014-a09bddb02138",
   "metadata": {},
   "outputs": [
    {
     "data": {
      "text/plain": [
       "14"
      ]
     },
     "execution_count": 118,
     "metadata": {},
     "output_type": "execute_result"
    }
   ],
   "source": [
    "m[2, 4]"
   ]
  },
  {
   "cell_type": "code",
   "execution_count": 125,
   "id": "24bbd208-89f0-4251-a54d-3caf389037d5",
   "metadata": {},
   "outputs": [
    {
     "data": {
      "text/plain": [
       "array([6, 7])"
      ]
     },
     "execution_count": 125,
     "metadata": {},
     "output_type": "execute_result"
    }
   ],
   "source": [
    "m[1, 1:3]"
   ]
  },
  {
   "cell_type": "code",
   "execution_count": 131,
   "id": "bbd5dfe0-3748-4a7b-acf0-c9f1d218841f",
   "metadata": {},
   "outputs": [
    {
     "data": {
      "text/plain": [
       "array([ 7, 12])"
      ]
     },
     "execution_count": 131,
     "metadata": {},
     "output_type": "execute_result"
    }
   ],
   "source": [
    "m[1:3, 2]"
   ]
  },
  {
   "cell_type": "code",
   "execution_count": 132,
   "id": "79a80514-08ef-4fe3-b91a-caa60f30fe24",
   "metadata": {},
   "outputs": [
    {
     "data": {
      "text/plain": [
       "array([[3, 4],\n",
       "       [8, 9]])"
      ]
     },
     "execution_count": 132,
     "metadata": {},
     "output_type": "execute_result"
    }
   ],
   "source": [
    "m[0:2, 3:5]"
   ]
  },
  {
   "cell_type": "markdown",
   "id": "9f81f9f4-7571-4b16-bf01-fc9bc6fe8183",
   "metadata": {},
   "source": [
    "-----------------------"
   ]
  },
  {
   "cell_type": "markdown",
   "id": "034bf5a5-26bc-490c-b497-3ec6a848eb27",
   "metadata": {},
   "source": [
    "### 배열 생성 ### \n",
    "\n",
    ">Numpty는 몇가지 단순한 배열을 성성하는 메소드가 있음"
   ]
  },
  {
   "cell_type": "markdown",
   "id": "35aaf820-f937-44a8-811f-6f9b51301b11",
   "metadata": {},
   "source": [
    "- zeros, ones\n",
    "- zeros_like, ones_like\n",
    "- empty\n",
    "- arange\n",
    "- linspace, logspace\n",
    "- zeros"
   ]
  },
  {
   "cell_type": "code",
   "execution_count": 136,
   "id": "27f0eaa4-3aef-4b65-be9a-48a8bcb31201",
   "metadata": {},
   "outputs": [
    {
     "data": {
      "text/plain": [
       "array([0., 0., 0., 0., 0.])"
      ]
     },
     "execution_count": 136,
     "metadata": {},
     "output_type": "execute_result"
    }
   ],
   "source": [
    "a = np.zeros(5)\n",
    "a"
   ]
  },
  {
   "cell_type": "code",
   "execution_count": 137,
   "id": "78de4c17-575b-40b9-8763-0fe0aad60bfe",
   "metadata": {},
   "outputs": [
    {
     "data": {
      "text/plain": [
       "array([[0, 0],\n",
       "       [0, 0],\n",
       "       [0, 0],\n",
       "       [0, 0],\n",
       "       [0, 0]], dtype=int32)"
      ]
     },
     "execution_count": 137,
     "metadata": {},
     "output_type": "execute_result"
    }
   ],
   "source": [
    "b = np.zeros((5,2), dtype='i')\n",
    "b"
   ]
  },
  {
   "cell_type": "code",
   "execution_count": 138,
   "id": "65b26875-50df-4bc1-a912-a49233331097",
   "metadata": {},
   "outputs": [
    {
     "data": {
      "text/plain": [
       "array(['', '', '', '', ''], dtype='<U4')"
      ]
     },
     "execution_count": 138,
     "metadata": {},
     "output_type": "execute_result"
    }
   ],
   "source": [
    "c = np.zeros(5, dtype =\"U4\")\n",
    "c"
   ]
  },
  {
   "cell_type": "code",
   "execution_count": 139,
   "id": "b5e35ff5-ec7a-418c-a066-21ade7701b13",
   "metadata": {},
   "outputs": [
    {
     "data": {
      "text/plain": [
       "array(['abc', 'abcd', 'ABCD', '', ''], dtype='<U4')"
      ]
     },
     "execution_count": 139,
     "metadata": {},
     "output_type": "execute_result"
    }
   ],
   "source": [
    "c[0] = \"abc\"\n",
    "c[1] = \"abcd\"\n",
    "c[2] = \"ABCDE\"\n",
    "c"
   ]
  },
  {
   "cell_type": "code",
   "execution_count": 151,
   "id": "f9ed2a30-3dd2-4a22-9127-994f37cc44b7",
   "metadata": {},
   "outputs": [
    {
     "data": {
      "text/plain": [
       "array([[[1, 1, 1, 1],\n",
       "        [1, 1, 1, 1],\n",
       "        [1, 1, 1, 1]],\n",
       "\n",
       "       [[1, 1, 1, 1],\n",
       "        [1, 1, 1, 1],\n",
       "        [1, 1, 1, 1]]], dtype=int64)"
      ]
     },
     "execution_count": 151,
     "metadata": {},
     "output_type": "execute_result"
    }
   ],
   "source": [
    "d = np.ones((2, 3, 4), dtype =\"i8\")\n",
    "d        #(깊이, 행 ,열)"
   ]
  },
  {
   "cell_type": "code",
   "execution_count": 152,
   "id": "e8202e93-a2df-4c3e-8942-df19eb3ea780",
   "metadata": {},
   "outputs": [
    {
     "data": {
      "text/plain": [
       "array([[[1., 1., 1., 1.],\n",
       "        [1., 1., 1., 1.],\n",
       "        [1., 1., 1., 1.]],\n",
       "\n",
       "       [[1., 1., 1., 1.],\n",
       "        [1., 1., 1., 1.],\n",
       "        [1., 1., 1., 1.]]], dtype=float16)"
      ]
     },
     "execution_count": 152,
     "metadata": {},
     "output_type": "execute_result"
    }
   ],
   "source": [
    "e = np.ones_like (d, dtype = \"e\")\n",
    "e"
   ]
  },
  {
   "cell_type": "code",
   "execution_count": 146,
   "id": "c4b498d6-c930-4e4c-93ee-945f516f1fce",
   "metadata": {},
   "outputs": [
    {
     "data": {
      "text/plain": [
       "array([[4.24399158e-314, 8.48798317e-314, 1.27319747e-313],\n",
       "       [1.69759663e-313, 2.12199579e-313, 2.54639495e-313],\n",
       "       [2.54639495e-313, 2.97079411e-313, 3.39519327e-313],\n",
       "       [3.81959242e-313, 4.24399158e-313, 4.66839074e-313]])"
      ]
     },
     "execution_count": 146,
     "metadata": {},
     "output_type": "execute_result"
    }
   ],
   "source": [
    "f = np.empty((4, 3))\n",
    "f"
   ]
  },
  {
   "cell_type": "markdown",
   "id": "d007b367-7403-41db-974e-afb62c3ad853",
   "metadata": {},
   "source": [
    "## arange 명령 ##"
   ]
  },
  {
   "cell_type": "code",
   "execution_count": 148,
   "id": "edf32589-c06c-43e2-a327-0ecb60b1b8d4",
   "metadata": {},
   "outputs": [
    {
     "data": {
      "text/plain": [
       "array([0, 1, 2, 3, 4, 5, 6, 7, 8, 9])"
      ]
     },
     "execution_count": 148,
     "metadata": {},
     "output_type": "execute_result"
    }
   ],
   "source": [
    "np. arange(10) # 0 .. n-1"
   ]
  },
  {
   "cell_type": "code",
   "execution_count": 149,
   "id": "e3115c0b-2b83-47fa-a40d-9cc38b81a35e",
   "metadata": {},
   "outputs": [
    {
     "data": {
      "text/plain": [
       "array([ 3,  5,  7,  9, 11, 13, 15, 17, 19])"
      ]
     },
     "execution_count": 149,
     "metadata": {},
     "output_type": "execute_result"
    }
   ],
   "source": [
    "np.arange(3, 21, 2) # 시작, 끝(포함 x), 단계"
   ]
  },
  {
   "cell_type": "code",
   "execution_count": 154,
   "id": "9a7e13f7-2d4d-4468-a78b-bf72c1283f7d",
   "metadata": {},
   "outputs": [
    {
     "data": {
      "text/plain": [
       "array([  0.        ,   5.26315789,  10.52631579,  15.78947368,\n",
       "        21.05263158,  26.31578947,  31.57894737,  36.84210526,\n",
       "        42.10526316,  47.36842105,  52.63157895,  57.89473684,\n",
       "        63.15789474,  68.42105263,  73.68421053,  78.94736842,\n",
       "        84.21052632,  89.47368421,  94.73684211, 100.        ])"
      ]
     },
     "execution_count": 154,
     "metadata": {},
     "output_type": "execute_result"
    }
   ],
   "source": [
    "np.linspace(0, 100, 20) #갯수에 맞춰 간격을 동일하게 잘라줌"
   ]
  },
  {
   "cell_type": "code",
   "execution_count": 155,
   "id": "ca24955d-4b1d-4190-8829-5f66798a3a79",
   "metadata": {},
   "outputs": [
    {
     "data": {
      "text/plain": [
       "array([  0.,  25.,  50.,  75., 100.])"
      ]
     },
     "execution_count": 155,
     "metadata": {},
     "output_type": "execute_result"
    }
   ],
   "source": [
    "np.linspace(0, 100, 5)"
   ]
  },
  {
   "cell_type": "code",
   "execution_count": 156,
   "id": "b09203d1-f618-4454-a57b-e7d5b4518b52",
   "metadata": {},
   "outputs": [
    {
     "data": {
      "text/plain": [
       "array([1.e+000, 1.e+025, 1.e+050, 1.e+075, 1.e+100])"
      ]
     },
     "execution_count": 156,
     "metadata": {},
     "output_type": "execute_result"
    }
   ],
   "source": [
    "ex2 = np.logspace(0, 100, 5)\n",
    "ex2"
   ]
  },
  {
   "cell_type": "markdown",
   "id": "e34a34d3-fc7d-40ca-8c2e-bd37a0aefeac",
   "metadata": {},
   "source": [
    "## 전치 연산\n",
    "--> 행과 열을 바꾼다."
   ]
  },
  {
   "cell_type": "code",
   "execution_count": 159,
   "id": "84d2fa98-0bb8-4712-9028-2ceb30424c8f",
   "metadata": {},
   "outputs": [
    {
     "data": {
      "text/plain": [
       "array([[1, 2, 3],\n",
       "       [4, 5, 6]])"
      ]
     },
     "execution_count": 159,
     "metadata": {},
     "output_type": "execute_result"
    }
   ],
   "source": [
    "A = np.array([[1, 2, 3], [4, 5, 6]])\n",
    "A"
   ]
  },
  {
   "cell_type": "code",
   "execution_count": 160,
   "id": "6606821d-ef65-4889-9af8-c3fb81a52aa0",
   "metadata": {},
   "outputs": [
    {
     "data": {
      "text/plain": [
       "array([[1, 4],\n",
       "       [2, 5],\n",
       "       [3, 6]])"
      ]
     },
     "execution_count": 160,
     "metadata": {},
     "output_type": "execute_result"
    }
   ],
   "source": [
    "A.T"
   ]
  },
  {
   "cell_type": "markdown",
   "id": "d886f8d9-a7b4-4d91-a1fe-ed93258f8762",
   "metadata": {},
   "source": [
    "## 배열의 크기 변형 ##"
   ]
  },
  {
   "cell_type": "markdown",
   "id": "dc84f574-0f57-487a-9da9-43878b2feca7",
   "metadata": {},
   "source": [
    "- 1차원 배열을 다차원으로 만들땐 reshape 사용"
   ]
  },
  {
   "cell_type": "code",
   "execution_count": 170,
   "id": "419fc2c8-5650-452b-ae66-2c9f180af2e7",
   "metadata": {},
   "outputs": [
    {
     "data": {
      "text/plain": [
       "array([ 0,  1,  2,  3,  4,  5,  6,  7,  8,  9, 10, 11])"
      ]
     },
     "execution_count": 170,
     "metadata": {},
     "output_type": "execute_result"
    }
   ],
   "source": [
    "a = np.arange(12)\n",
    "a"
   ]
  },
  {
   "cell_type": "code",
   "execution_count": 165,
   "id": "8e8549cd-58f4-414e-8450-8434be966128",
   "metadata": {},
   "outputs": [
    {
     "data": {
      "text/plain": [
       "array([[ 0,  1,  2,  3],\n",
       "       [ 4,  5,  6,  7],\n",
       "       [ 8,  9, 10, 11]])"
      ]
     },
     "execution_count": 165,
     "metadata": {},
     "output_type": "execute_result"
    }
   ],
   "source": [
    "b = a.reshape(3, 4)\n",
    "b"
   ]
  },
  {
   "cell_type": "code",
   "execution_count": 168,
   "id": "b760b1ee-346f-424b-81ed-1ef0d84ad6b5",
   "metadata": {},
   "outputs": [
    {
     "data": {
      "text/plain": [
       "array([ 0,  1,  2,  3,  4,  5,  6,  7,  8,  9, 10, 11, 12])"
      ]
     },
     "execution_count": 168,
     "metadata": {},
     "output_type": "execute_result"
    }
   ],
   "source": [
    "a = np.arange(13)\n",
    "a"
   ]
  },
  {
   "cell_type": "code",
   "execution_count": 169,
   "id": "64ca4582-5f70-4319-b978-00c9307bb3fc",
   "metadata": {},
   "outputs": [
    {
     "ename": "ValueError",
     "evalue": "cannot reshape array of size 13 into shape (3,4)",
     "output_type": "error",
     "traceback": [
      "\u001b[1;31m---------------------------------------------------------------------------\u001b[0m",
      "\u001b[1;31mValueError\u001b[0m                                Traceback (most recent call last)",
      "\u001b[1;32m~\\AppData\\Local\\Temp\\ipykernel_12476\\1932571165.py\u001b[0m in \u001b[0;36m<module>\u001b[1;34m\u001b[0m\n\u001b[1;32m----> 1\u001b[1;33m \u001b[0mb\u001b[0m \u001b[1;33m=\u001b[0m \u001b[0ma\u001b[0m\u001b[1;33m.\u001b[0m\u001b[0mreshape\u001b[0m\u001b[1;33m(\u001b[0m\u001b[1;36m3\u001b[0m\u001b[1;33m,\u001b[0m \u001b[1;36m4\u001b[0m\u001b[1;33m)\u001b[0m\u001b[1;33m\u001b[0m\u001b[1;33m\u001b[0m\u001b[0m\n\u001b[0m\u001b[0;32m      2\u001b[0m \u001b[0mb\u001b[0m\u001b[1;33m\u001b[0m\u001b[1;33m\u001b[0m\u001b[0m\n",
      "\u001b[1;31mValueError\u001b[0m: cannot reshape array of size 13 into shape (3,4)"
     ]
    }
   ],
   "source": [
    "b = a.reshape(3, 4)   #shape을 맞춰서 만들어줘야한다\n",
    "b                     #맞지않으면 오류가 뜬다"
   ]
  },
  {
   "cell_type": "markdown",
   "id": "ee73e845-e9fd-4d79-8cc4-56c383bd860a",
   "metadata": {},
   "source": [
    "- 다차원 배열은 1차원으로 만들땐 flatten 혹은 ravel 메서드 사용"
   ]
  },
  {
   "cell_type": "code",
   "execution_count": 172,
   "id": "3ab79e4a-a8df-4a80-aab7-1bfd69f273c2",
   "metadata": {},
   "outputs": [
    {
     "data": {
      "text/plain": [
       "array([ 0,  1,  2,  3,  4,  5,  6,  7,  8,  9, 10, 11])"
      ]
     },
     "execution_count": 172,
     "metadata": {},
     "output_type": "execute_result"
    }
   ],
   "source": [
    "b.flatten()"
   ]
  },
  {
   "cell_type": "code",
   "execution_count": 173,
   "id": "4b315fe0-b60c-4a07-89e7-3ca12cd0886a",
   "metadata": {},
   "outputs": [
    {
     "data": {
      "text/plain": [
       "array([ 0,  1,  2,  3,  4,  5,  6,  7,  8,  9, 10, 11])"
      ]
     },
     "execution_count": 173,
     "metadata": {},
     "output_type": "execute_result"
    }
   ],
   "source": [
    "b.ravel()"
   ]
  },
  {
   "cell_type": "markdown",
   "id": "f35115ac-029e-4aa0-bb3e-492bd48377fc",
   "metadata": {},
   "source": [
    "- 차원만 1차원 증가시키기\n"
   ]
  },
  {
   "cell_type": "code",
   "execution_count": 177,
   "id": "ae6f9c71-1fbd-4347-ad27-23be5967a0b4",
   "metadata": {},
   "outputs": [
    {
     "data": {
      "text/plain": [
       "array([0, 1, 2, 3, 4])"
      ]
     },
     "execution_count": 177,
     "metadata": {},
     "output_type": "execute_result"
    }
   ],
   "source": [
    "x = np.arange(5)\n",
    "x"
   ]
  },
  {
   "cell_type": "code",
   "execution_count": 183,
   "id": "712114bd-09b6-4aa4-b8e2-c9577526ebca",
   "metadata": {},
   "outputs": [
    {
     "data": {
      "text/plain": [
       "array([[0],\n",
       "       [1],\n",
       "       [2],\n",
       "       [3],\n",
       "       [4]])"
      ]
     },
     "execution_count": 183,
     "metadata": {},
     "output_type": "execute_result"
    }
   ],
   "source": [
    "x[ :, np.newaxis ]"
   ]
  },
  {
   "cell_type": "markdown",
   "id": "8963cc82-82d4-4de6-8c3f-f73a484af8dc",
   "metadata": {},
   "source": [
    "### 배열 연결 ###"
   ]
  },
  {
   "cell_type": "markdown",
   "id": "b36537e0-8dc1-4118-9179-bf416f5c5635",
   "metadata": {},
   "source": [
    "> 두 개 이상의 배열을 연결하여 더 큰 배열을 만들 때"
   ]
  },
  {
   "cell_type": "markdown",
   "id": "23ab80e2-20c2-4a1c-a2ee-d4f67c1b959f",
   "metadata": {},
   "source": [
    "- hstack\n",
    "- vstack\n",
    "- dstack\n",
    "- stack\n",
    "- r__\n",
    "- c__\n",
    "- tile"
   ]
  },
  {
   "cell_type": "markdown",
   "id": "e2203108-624c-44c9-901a-a8ce35352f71",
   "metadata": {},
   "source": [
    "### 1. hstack : 옆으로 붙여 나가는 방식, 행의 갯수는 일치해야 함 ###"
   ]
  },
  {
   "cell_type": "code",
   "execution_count": 201,
   "id": "d2978706-e206-4d07-b16e-48205c318c44",
   "metadata": {},
   "outputs": [
    {
     "name": "stdout",
     "output_type": "stream",
     "text": [
      "[[1. 1. 1.]\n",
      " [1. 1. 1.]]\n",
      "[[1. 1.]\n",
      " [1. 1.]]\n",
      "[[1. 1. 1. 1. 1.]\n",
      " [1. 1. 1. 1. 1.]]\n"
     ]
    }
   ],
   "source": [
    "import numpy as np\n",
    "\n",
    "a1 = np.ones((2, 3))\n",
    "print(a1)\n",
    "\n",
    "a2 = np.ones((2, 2))\n",
    "print(a2)\n",
    "\n",
    "hs = np.hstack([a1, a2])\n",
    "print(hs)"
   ]
  },
  {
   "cell_type": "markdown",
   "id": "60194f90-0c20-4fe4-b667-11e79965146d",
   "metadata": {},
   "source": [
    "### 2. vstack : 밑으로 붙여 나가는 방식, 열의 갯수는 일치해야 함 ###"
   ]
  },
  {
   "cell_type": "code",
   "execution_count": 202,
   "id": "22fc2fba-d206-4c3c-b1ad-d46d509f01ba",
   "metadata": {},
   "outputs": [
    {
     "name": "stdout",
     "output_type": "stream",
     "text": [
      "[[1. 1. 1.]\n",
      " [1. 1. 1.]]\n",
      "[[1. 1. 1.]\n",
      " [1. 1. 1.]\n",
      " [1. 1. 1.]]\n",
      "[[1. 1. 1.]\n",
      " [1. 1. 1.]\n",
      " [1. 1. 1.]\n",
      " [1. 1. 1.]\n",
      " [1. 1. 1.]]\n"
     ]
    }
   ],
   "source": [
    "b1 = np.ones((2, 3))\n",
    "print(b1)\n",
    "\n",
    "b2 = np.ones((3, 3))\n",
    "print(b2)\n",
    "\n",
    "vs = np.vstack([b1, b2])\n",
    "print(vs)\n"
   ]
  },
  {
   "cell_type": "markdown",
   "id": "ea8711c4-547d-4134-a981-17b93bc4105d",
   "metadata": {},
   "source": [
    "### 3. dstack : 제 3의 축방향으로 배열 결합 , depth ###"
   ]
  },
  {
   "cell_type": "code",
   "execution_count": 208,
   "id": "6273d34f-c181-4ab8-90d4-5ffcb0bfedab",
   "metadata": {},
   "outputs": [
    {
     "name": "stdout",
     "output_type": "stream",
     "text": [
      "[[0. 0. 0. 0.]\n",
      " [0. 0. 0. 0.]\n",
      " [0. 0. 0. 0.]]\n",
      "[[1. 1. 1. 1.]\n",
      " [1. 1. 1. 1.]\n",
      " [1. 1. 1. 1.]]\n",
      "[[[0. 1.]\n",
      "  [0. 1.]\n",
      "  [0. 1.]\n",
      "  [0. 1.]]\n",
      "\n",
      " [[0. 1.]\n",
      "  [0. 1.]\n",
      "  [0. 1.]\n",
      "  [0. 1.]]\n",
      "\n",
      " [[0. 1.]\n",
      "  [0. 1.]\n",
      "  [0. 1.]\n",
      "  [0. 1.]]]\n"
     ]
    }
   ],
   "source": [
    "c1 = np.zeros((3, 4))\n",
    "print(c1)\n",
    "\n",
    "c2 = np.ones((3, 4))\n",
    "print(c2)\n",
    "\n",
    "# 2개의 3x4 배열이 1개의 3x4x2로 생성\n",
    "\n",
    "ds = np.dstack([c1, c2])\n",
    "print(ds)"
   ]
  },
  {
   "cell_type": "markdown",
   "id": "e9c43620-826c-452f-ab63-78eeb7b732f8",
   "metadata": {},
   "source": [
    "### 4. stack : 사용자가 지정한 방향을 배열을 연결 ###"
   ]
  },
  {
   "cell_type": "code",
   "execution_count": 204,
   "id": "6746c5e9-d71a-41e3-8360-eb9fbd5f1f1f",
   "metadata": {},
   "outputs": [
    {
     "name": "stdout",
     "output_type": "stream",
     "text": [
      "[[[0. 0. 0. 0.]\n",
      "  [0. 0. 0. 0.]\n",
      "  [0. 0. 0. 0.]]\n",
      "\n",
      " [[1. 1. 1. 1.]\n",
      "  [1. 1. 1. 1.]\n",
      "  [1. 1. 1. 1.]]]\n",
      "[[[0. 0. 0. 0.]\n",
      "  [1. 1. 1. 1.]]\n",
      "\n",
      " [[0. 0. 0. 0.]\n",
      "  [1. 1. 1. 1.]]\n",
      "\n",
      " [[0. 0. 0. 0.]\n",
      "  [1. 1. 1. 1.]]]\n"
     ]
    }
   ],
   "source": [
    "# axis 인수를 사용하여 연결후의 회전 방향을 결정\n",
    "\n",
    "s1 = np.stack([c1, c2])\n",
    "print(s1)\n",
    "\n",
    "s2 = np.stack([c1, c2], axis=1)\n",
    "print(s2)"
   ]
  },
  {
   "cell_type": "markdown",
   "id": "b277fc75-d9eb-423c-82fc-d19e766c07cf",
   "metadata": {},
   "source": [
    "### 5.인덱서 r_ : () 대신 [] 사용, 특수매서드 ###"
   ]
  },
  {
   "cell_type": "code",
   "execution_count": 205,
   "id": "53dc4189-0a50-480a-a613-1d9b7cc58a97",
   "metadata": {},
   "outputs": [
    {
     "name": "stdout",
     "output_type": "stream",
     "text": [
      "[1 2 3 4 5 6]\n"
     ]
    }
   ],
   "source": [
    "ruh = np.r_[np.array([1, 2, 3]), np.array([4, 5, 6])]\n",
    "print(ruh)"
   ]
  },
  {
   "cell_type": "markdown",
   "id": "a04134fe-1616-42cb-9110-444f83791673",
   "metadata": {},
   "source": [
    "### 6. c_ : 배열의 차원을 증가 시킨후 연결 ###"
   ]
  },
  {
   "cell_type": "code",
   "execution_count": 206,
   "id": "72ec833c-e589-47a3-b2e4-c3c922d5c575",
   "metadata": {},
   "outputs": [
    {
     "name": "stdout",
     "output_type": "stream",
     "text": [
      "[[1 4]\n",
      " [2 5]\n",
      " [3 6]]\n"
     ]
    }
   ],
   "source": [
    "cuh = np.c_[np.array([1, 2, 3]), np.array([4, 5, 6])]\n",
    "print(cuh)"
   ]
  },
  {
   "cell_type": "markdown",
   "id": "03c85874-a173-4b69-9562-578ca7174a27",
   "metadata": {},
   "source": [
    "### 7. tile : 동일한 배열을 반복해서 연결 ###"
   ]
  },
  {
   "cell_type": "code",
   "execution_count": 211,
   "id": "c9d58f10-8678-484d-b186-bad34583d7ed",
   "metadata": {},
   "outputs": [
    {
     "name": "stdout",
     "output_type": "stream",
     "text": [
      "[[1 2 3 1 2 3 1 2 3 1 2 3 1 2 3]\n",
      " [4 5 6 4 5 6 4 5 6 4 5 6 4 5 6]]\n",
      "[[1 2 3 1 2 3]\n",
      " [4 5 6 4 5 6]\n",
      " [1 2 3 1 2 3]\n",
      " [4 5 6 4 5 6]\n",
      " [1 2 3 1 2 3]\n",
      " [4 5 6 4 5 6]]\n"
     ]
    }
   ],
   "source": [
    "ti = np.array([[1, 2, 3], [4, 5, 6]])\n",
    "print(np.tile(ti, 5))\n",
    "print(np.tile(ti, (3, 2)))"
   ]
  },
  {
   "cell_type": "markdown",
   "id": "20d56518-f01e-420d-b605-277539dacf7c",
   "metadata": {},
   "source": [
    "[출처]  [파이썬 데이터분석] 배열 연결|작성자 EASYCODING\n"
   ]
  },
  {
   "cell_type": "code",
   "execution_count": 234,
   "id": "fcb483b5-da07-4de6-b2d6-fe967225d3b5",
   "metadata": {},
   "outputs": [
    {
     "name": "stdout",
     "output_type": "stream",
     "text": [
      "[[  0.   0.   0.   1.   1.]\n",
      " [  0.   0.   0.   1.   1.]\n",
      " [  0.   0.   0.   1.   1.]\n",
      " [ 10.  20.  30.  40.  50.]\n",
      " [ 60.  70.  80.  90. 100.]\n",
      " [110. 120. 130. 140. 150.]\n",
      " [  0.   0.   0.   1.   1.]\n",
      " [  0.   0.   0.   1.   1.]\n",
      " [  0.   0.   0.   1.   1.]\n",
      " [ 10.  20.  30.  40.  50.]\n",
      " [ 60.  70.  80.  90. 100.]\n",
      " [110. 120. 130. 140. 150.]]\n"
     ]
    }
   ],
   "source": [
    "import numpy\n",
    "a1 = np.zeros((3, 3))\n",
    "a2 = np.ones((3, 2))\n",
    "a3 = np.hstack([a1, a2])\n",
    "a4 = np.arange(10, 160, 10)\n",
    "a5 = a4.reshape(3, 5)\n",
    "a6 = np.vstack([a3, a5])\n",
    "print(np.tile(a6, (2, 1)))"
   ]
  },
  {
   "cell_type": "code",
   "execution_count": null,
   "id": "f8162200-5d97-4200-95b3-c887e0aaec71",
   "metadata": {},
   "outputs": [],
   "source": []
  }
 ],
 "metadata": {
  "kernelspec": {
   "display_name": "Python 3 (ipykernel)",
   "language": "python",
   "name": "python3"
  },
  "language_info": {
   "codemirror_mode": {
    "name": "ipython",
    "version": 3
   },
   "file_extension": ".py",
   "mimetype": "text/x-python",
   "name": "python",
   "nbconvert_exporter": "python",
   "pygments_lexer": "ipython3",
   "version": "3.9.13"
  }
 },
 "nbformat": 4,
 "nbformat_minor": 5
}

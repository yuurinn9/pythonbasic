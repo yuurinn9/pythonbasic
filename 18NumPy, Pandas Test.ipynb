{
 "cells": [
  {
   "cell_type": "markdown",
   "id": "f1993935-4cc7-4345-b7f2-255a2308cf72",
   "metadata": {},
   "source": [
    "# 2023 - 01 -25  \n",
    "  \n",
    "      \n",
    "        \n",
    "## NumPy, Pandas 테스트"
   ]
  },
  {
   "cell_type": "code",
   "execution_count": 8,
   "id": "229dfbbe-0d76-45b1-82f1-572d0f3615b1",
   "metadata": {},
   "outputs": [
    {
     "data": {
      "text/plain": [
       "array([ 2,  5,  8, 11, 14, 17, 20])"
      ]
     },
     "execution_count": 8,
     "metadata": {},
     "output_type": "execute_result"
    }
   ],
   "source": [
    "# (문제1) arange()를 활용하여 array([2, 5, 8, 11, 14, 17, 20])의 값을 갖는 ndarray를 만드세요.\n",
    "\n",
    "import numpy as np\n",
    "np.arange(2, 21, 3)   "
   ]
  },
  {
   "cell_type": "code",
   "execution_count": 10,
   "id": "d428ef7a-fe0b-47e5-bd76-d59fc9224d96",
   "metadata": {},
   "outputs": [
    {
     "data": {
      "text/plain": [
       "'인스턴스 자기 자신을 의미'"
      ]
     },
     "execution_count": 10,
     "metadata": {},
     "output_type": "execute_result"
    }
   ],
   "source": [
    "# (문제2) 클래스 정의부 중 __init__(self)에서 self에 대해서 설명해보세요.\n",
    "\n",
    "\"인스턴스 자기 자신을 의미\""
   ]
  },
  {
   "cell_type": "code",
   "execution_count": 1,
   "id": "ce6d3319-5dbf-40c7-a48b-00c945ed0249",
   "metadata": {},
   "outputs": [
    {
     "data": {
      "text/plain": [
       "'float 자료형'"
      ]
     },
     "execution_count": 1,
     "metadata": {},
     "output_type": "execute_result"
    }
   ],
   "source": [
    "# (문제3) 정의할 수 없는 숫자(NaN)의 데이터 타입은 무엇인지 적어보세요.\n",
    "\n",
    "\"float 자료형\""
   ]
  },
  {
   "cell_type": "code",
   "execution_count": 13,
   "id": "87e23d64-db6e-4288-baa0-3b8b8c1ef990",
   "metadata": {},
   "outputs": [
    {
     "data": {
      "text/plain": [
       "' 3 '"
      ]
     },
     "execution_count": 13,
     "metadata": {},
     "output_type": "execute_result"
    }
   ],
   "source": [
    "# (문제4) 넘파이 배열에 대한 설명으로 옳은 것은? 답\n",
    "# 1) 넘파이 배열 내에 다양한 자료형이 올 수 있다.  --> 하나의 자료형만 가능\n",
    "# 2) 넘파이 배열의 크기는 필요에 따라 가변적으로 변경할 수 있다. ---> 크기의 갯수가 정해짐\n",
    "# 3) 넘파이 배열은 벡터화 연산이 가능하다.\n",
    "# 4) 속도가 빠르기 때문에 메모리의 사용이 리스트에 비해 많다. ---> 속도랑 메모리 사용 관계 X\n",
    "# 5) np.array([1, 11.2, 7, 9.2, 10.7])의 dtype은 int이다. X ---> float 자료형\n",
    "\n",
    "\" 3 \""
   ]
  },
  {
   "cell_type": "code",
   "execution_count": 17,
   "id": "3892fbda-0ba4-470a-97f5-90062b3758d1",
   "metadata": {},
   "outputs": [
    {
     "data": {
      "text/plain": [
       "일    1\n",
       "이    2\n",
       "삼    3\n",
       "dtype: int64"
      ]
     },
     "execution_count": 17,
     "metadata": {},
     "output_type": "execute_result"
    }
   ],
   "source": [
    "# (문제5) 다음 실행 결과와 같이 index가 '일', '이', '삼'이고 values가 1, 2, 3인 Series를 만들어보세요.\n",
    "\n",
    "import pandas as pd\n",
    "series = pd.Series([1, 2, 3], index = ['일', '이', '삼'])\n",
    "series"
   ]
  },
  {
   "cell_type": "code",
   "execution_count": 24,
   "id": "dc26542d-bd8f-4b03-b8fe-cac066fcb93b",
   "metadata": {},
   "outputs": [
    {
     "data": {
      "text/plain": [
       "'2, 5'"
      ]
     },
     "execution_count": 24,
     "metadata": {},
     "output_type": "execute_result"
    }
   ],
   "source": [
    "# (문제6) 브로드캐스팅할 수 없는 것을 모두 고르세요. 답\n",
    "# 1) np.array([[2, 3, 4], [5, 6, 7]]) * np.arange(3)  ---> 2 X 3\n",
    "                                                               3 \n",
    "# 2) np.arange(10).reshape(2, 5) + np.arange(15).reshape(3, 5) ---> 2  5\n",
    "                                                                    3  5\n",
    "# 3) np.zeros((3, 3, 2, 1)) - np.ones((3, 2, 1)) \n",
    "# 4) np.empty((2, 1, 7, 5, 1)) / np.ones((5, 5))\n",
    "# 5) np.array([[1, 2, 3], [4, 8, 12]]) * np.array([1, 2, 3, 4, 5, 6])\n",
    "\n",
    "\n",
    "\"2, 5\""
   ]
  },
  {
   "cell_type": "code",
   "execution_count": 25,
   "id": "07236ad6-ab14-4951-8f03-81a0d5e9739c",
   "metadata": {},
   "outputs": [
    {
     "data": {
      "text/plain": [
       "'5'"
      ]
     },
     "execution_count": 25,
     "metadata": {},
     "output_type": "execute_result"
    }
   ],
   "source": [
    "# (문제7) 다음 중 차원 축소 시키는 연산이 아닌 것을 고르세요. 답\n",
    "# 1) np.sum()\n",
    "# 2) np.max()\n",
    "# 3) np.min()\n",
    "# 4) np.all()\n",
    "# 5) np.sqrt()\n",
    "\n",
    "\"5\""
   ]
  },
  {
   "cell_type": "code",
   "execution_count": 35,
   "id": "5d999362-52bd-48af-a620-ecef8fdb91d3",
   "metadata": {},
   "outputs": [
    {
     "data": {
      "text/plain": [
       "'1, 3, 4, 5'"
      ]
     },
     "execution_count": 35,
     "metadata": {},
     "output_type": "execute_result"
    }
   ],
   "source": [
    "# (문제8) 다음 설명 중 옳은 것을 모두 고르세요. 답\n",
    "# 1) DataFrame의 각 column은 각기 다른 dtype을 가질 수 있다. O \n",
    "# 2) Series의 각 값들이 서로 다른 type을 가질 수 있다. X\n",
    "# 3) DataFrame을 생성할 때 index 키워드 인수는 row index, columns는 column index이다. O\n",
    "# 4) DataFrame을 row 단위로 인덱싱할 때 loc(), iloc()을 활용하는 것이 좋다. O\n",
    "# 5) DataFrame에 fillna() 메서드를 활용해서 NaN 값을 원하는 값으로 변경할 수 있습니다. O\n",
    "\n",
    "\"1, 3, 4, 5\""
   ]
  },
  {
   "cell_type": "code",
   "execution_count": 32,
   "id": "0cd0353e-6cd9-44eb-9e45-d37a67c6194f",
   "metadata": {},
   "outputs": [
    {
     "data": {
      "text/plain": [
       "'3'"
      ]
     },
     "execution_count": 32,
     "metadata": {},
     "output_type": "execute_result"
    }
   ],
   "source": [
    "# (문제9) DataFrame에 대해 카테고리별 개수를 반환해주는 메서드를 고르세요. 답\n",
    "# 1) DataFrame.sort_values()\n",
    "# 2) DataFrame.count()\n",
    "# 3) DataFrame.value_counts()\n",
    "# 4) DataFrame.loc()\n",
    "# 5) DataFrame.to_csv()\n",
    "\n",
    "\"3\""
   ]
  },
  {
   "cell_type": "code",
   "execution_count": 34,
   "id": "bba2ab07-0849-4257-85cc-a89a236110aa",
   "metadata": {},
   "outputs": [
    {
     "data": {
      "text/plain": [
       "'5'"
      ]
     },
     "execution_count": 34,
     "metadata": {},
     "output_type": "execute_result"
    }
   ],
   "source": [
    "# (문제10) 코드의 결과가 DataFrame이 아닌 것을 고르세요. 답\n",
    "# 1) DataFrame.loc[0:1] --> row가 충분히 많을 때  \n",
    "# 2) pandas.read_csv(\"file.csv\")\n",
    "# 3) DataFrame[[\"column label1\", \"column label2\"]] --> 둘 다 모두 존재할 때\n",
    "# 4) DataFrame.astype() --> 오류 없이 잘 동작할 때\n",
    "# 5) DataFrame.value_counts()  / X Series의 형태로 답을 가져다 줌\n",
    "\n",
    "\"5\""
   ]
  },
  {
   "cell_type": "markdown",
   "id": "7c8efd77-d88d-469b-8164-9285b67c7975",
   "metadata": {},
   "source": [
    "------------------------------------------------------------"
   ]
  },
  {
   "cell_type": "code",
   "execution_count": null,
   "id": "016b84ed-7f0b-404f-8062-0d30c9935233",
   "metadata": {},
   "outputs": [],
   "source": []
  }
 ],
 "metadata": {
  "kernelspec": {
   "display_name": "Python 3 (ipykernel)",
   "language": "python",
   "name": "python3"
  },
  "language_info": {
   "codemirror_mode": {
    "name": "ipython",
    "version": 3
   },
   "file_extension": ".py",
   "mimetype": "text/x-python",
   "name": "python",
   "nbconvert_exporter": "python",
   "pygments_lexer": "ipython3",
   "version": "3.9.13"
  }
 },
 "nbformat": 4,
 "nbformat_minor": 5
}

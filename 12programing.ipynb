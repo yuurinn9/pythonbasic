{
 "cells": [
  {
   "cell_type": "markdown",
   "id": "00d6d299-9c11-49f4-a210-690c7abd304e",
   "metadata": {},
   "source": [
    "# 2023 - 01 - 13 #"
   ]
  },
  {
   "cell_type": "markdown",
   "id": "ed2b524e-83d5-477f-99e9-218f4de8cd6d",
   "metadata": {},
   "source": [
    "<h2> 객체지향 프로그래밍 </h2>"
   ]
  },
  {
   "cell_type": "markdown",
   "id": "33903393-1264-47a3-828f-7fc562732a15",
   "metadata": {},
   "source": [
    "- 복잡한 문제를 잘게 나누어 객체로 만들고, 객체를 조합해서 문제를 해결"
   ]
  },
  {
   "cell_type": "markdown",
   "id": "b5f5d17c-7199-4164-9a7d-e748b8ee8786",
   "metadata": {},
   "source": [
    "- 현실 세계의 복잡한 문제를 처리하는데 유용하며 기능을 개선하고 발전시킬 때도 해당 클래스만 수정하면 되므오 큰 프로젝트의 유지보수에도 매우 효율적"
   ]
  },
  {
   "cell_type": "markdown",
   "id": "b46acf57-5d29-44f1-a121-bcaa773d2f8b",
   "metadata": {},
   "source": [
    "- 객체가 가진 데이터를 클래스의 속성(Attribute)이라 부르고 객체가 갖는 기능 -> 메서드(Method)  \n",
    "  \n",
    "  "
   ]
  },
  {
   "cell_type": "markdown",
   "id": "91f822a6-e376-4008-a202-1856c0083bff",
   "metadata": {},
   "source": [
    "   \n",
    "     \n",
    "       \n",
    "## 클래스(class) ##"
   ]
  },
  {
   "cell_type": "markdown",
   "id": "f839870a-b5fb-41a4-a984-202d65553094",
   "metadata": {},
   "source": [
    "```python\n",
    "class ClassName: # 클래스명으로 주로 PascalCase(UpperCamelCase)를 씀\n",
    "    '''\n",
    "    Dock String\n",
    "    '''\n",
    "    def method_name(self):\n",
    "        method_body\n",
    "        \n",
    "    class_body\n",
    "    ...\n",
    "```"
   ]
  },
  {
   "cell_type": "markdown",
   "id": "063b06c3-22c7-4ee4-a8bd-b3ae9faf9b6c",
   "metadata": {},
   "source": [
    "- 지금까지 사용해온 int, list, dict도 모두 클래스다"
   ]
  },
  {
   "cell_type": "markdown",
   "id": "5fc5afff-1619-477b-bc0d-e49ecf7b1d43",
   "metadata": {},
   "source": [
    "### 객체(Object)? 인스턴스(Instance)? ###"
   ]
  },
  {
   "cell_type": "markdown",
   "id": "f32049d7-d73c-4b3b-907a-1442cf54588a",
   "metadata": {},
   "source": [
    "- 둘은 같은말이다"
   ]
  },
  {
   "cell_type": "markdown",
   "id": "b9ed1522-5713-4b66-b6ec-89f070fe6a6d",
   "metadata": {},
   "source": [
    "```python\n",
    "instance_variable = ClassName()\n",
    "```"
   ]
  },
  {
   "cell_type": "markdown",
   "id": "f17dc441-e732-4920-9d79-2dbe6d9e78e7",
   "metadata": {},
   "source": [
    "객체를 언급할 땐 단어 하나만 활용하여 단지 '객체'라고 표현  \n",
    "그와 달리 인스턴스는 특정 클래스로부터 만들어진 실체로 언듭을 많이함  \n",
    "예를 들어 인스턴스의 경우 '리스트 클래스로 만들어진 인스턴스다'라고 말할 수 있음  \n",
    "부르는 구체적인 것은 조금 달라도 결국 둘은 같은 말이다  "
   ]
  },
  {
   "cell_type": "markdown",
   "id": "32bf8ba5-34a5-4205-9431-6e356cffaf40",
   "metadata": {},
   "source": [
    "### 메서드(Method) ? ###"
   ]
  },
  {
   "cell_type": "markdown",
   "id": "bede3016-b09f-4894-be5a-e373e0380d87",
   "metadata": {},
   "source": [
    "메서드는 클래스 바디 안에서 정의되는 함수  \n",
    "클래스의 인스턴스의 어트리뷰트로서 호출되면, 그 메서드는 첫번째 인자로 인스턴스 객체를 받음  \n",
    "첫 번째 인자를 설정 안 하면 에러 발생  \n",
    "이 첫번째 인자를 'self'라고 씀  "
   ]
  },
  {
   "cell_type": "markdown",
   "id": "82c5298f-d61d-4010-bd0e-6a3cefd43560",
   "metadata": {},
   "source": [
    "```python\n",
    "class ClassName:\n",
    "    def method_name(self):\n",
    "        method_body\n",
    "    class_body\n",
    "```"
   ]
  },
  {
   "cell_type": "markdown",
   "id": "d5b4ca16-5e09-4727-b565-0f2778a44113",
   "metadata": {},
   "source": [
    "ex)"
   ]
  },
  {
   "cell_type": "markdown",
   "id": "f819f3f2-6a21-462a-bac0-0b2c9b1df29f",
   "metadata": {},
   "source": [
    "class student():\n",
    "    def eat_foot()\n",
    "    pass"
   ]
  },
  {
   "cell_type": "code",
   "execution_count": 17,
   "id": "2bbd24d1-fed0-4c1b-aef5-6167a3257dca",
   "metadata": {},
   "outputs": [],
   "source": [
    "yl = student() # 독립적인 값을 보장하는 인스턴스로 생성"
   ]
  },
  {
   "cell_type": "markdown",
   "id": "6b0e4176-c202-4ddd-81cf-8f05c3240438",
   "metadata": {},
   "source": [
    "```python\n",
    "클래스 속성을 만들때에는 __init__메서드 안에서 self.속성 에 값을 할당하면 됩니다.\n",
    "```"
   ]
  },
  {
   "cell_type": "markdown",
   "id": "c70b0ff0-2e44-4a7b-8f9e-33db56bea6e4",
   "metadata": {},
   "source": [
    "```python\n",
    "class ClassName:\n",
    "    def __init__(self)\n",
    "        self.속성 = 값\n",
    "```"
   ]
  },
  {
   "cell_type": "code",
   "execution_count": 22,
   "id": "1fb168dc-19e4-4a65-a1d9-9ba4e24e0dc5",
   "metadata": {},
   "outputs": [],
   "source": [
    "class person:\n",
    "     def __init__(self):\n",
    "        self.hello = \"안녕하세요.\""
   ]
  },
  {
   "cell_type": "code",
   "execution_count": 23,
   "id": "4d298c5e-cf24-4c85-a069-9a9a68f6d38a",
   "metadata": {},
   "outputs": [],
   "source": [
    "james = person()"
   ]
  },
  {
   "cell_type": "code",
   "execution_count": 24,
   "id": "89bf5b97-9657-4dfb-bb0e-9ccf2a61f8f5",
   "metadata": {},
   "outputs": [
    {
     "name": "stdout",
     "output_type": "stream",
     "text": [
      "안녕하세요.\n"
     ]
    }
   ],
   "source": [
    "print(james.hello)"
   ]
  },
  {
   "cell_type": "code",
   "execution_count": 26,
   "id": "730f3b47-5742-44b3-8e07-ef64520de164",
   "metadata": {},
   "outputs": [
    {
     "data": {
      "text/plain": [
       "'안녕하세요.'"
      ]
     },
     "execution_count": 26,
     "metadata": {},
     "output_type": "execute_result"
    }
   ],
   "source": [
    "babe = person()\n",
    "babe.hello"
   ]
  },
  {
   "cell_type": "markdown",
   "id": "7f29c38d-3485-48d4-83b3-2437a7a05705",
   "metadata": {},
   "source": [
    "<h1>클래스 속성</h1>"
   ]
  },
  {
   "cell_type": "markdown",
   "id": "5cdb1ff5-57a5-48ee-9c05-45cd22901898",
   "metadata": {},
   "source": [
    "- __init__메서드는 james = person()처럼 클래스에 소괄호(())를 붙여서 인스턴스를 만들 때 호출되는 특별한 메서드(special method, magic method)입니다.  \n",
    "- __init__은 initialize의 줄임말로 인스턴스(객체)를 초기화(메모리에 공간을 할당하고 값을 부여)함  \n",
    "- 밑줄 두개(__double under, 던더)가 양 옆으로 붙어있는 메서드는 파이썬이 자동으로 호출하는 메서드  \n",
    "- 스페셜 메서드 혹은 매직 메서드라고 부름  \n",
    "- 던더 메서드로 불리기도 함  \n",
    "- 파이썬의 여러 가지 기능을 사용할 때 이 던더 메서드를 구현하는 식으로 사용  "
   ]
  },
  {
   "cell_type": "code",
   "execution_count": 1,
   "id": "aae36f4e-4987-402a-baab-9aeaf630534c",
   "metadata": {},
   "outputs": [],
   "source": [
    "class Person:\n",
    "    def __init__(self):\n",
    "        self.hello = \"안녕하세요.\""
   ]
  },
  {
   "cell_type": "markdown",
   "id": "724bcd6f-15da-4092-aa5b-4eeafae50219",
   "metadata": {},
   "source": [
    "- 속성은 __init__ 메서드에서 만든다는 점과 self에 마침표(.)를 붙여 속성명을 붙이고\n",
    "값을 할당\n",
    "- 클래스 바디에서도 속성을 접근할 때 self.속성 과 같이 self에 마침표를 찍고 사용"
   ]
  },
  {
   "cell_type": "code",
   "execution_count": 3,
   "id": "9215fffe-18e5-44ca-a51d-27993c76f695",
   "metadata": {},
   "outputs": [
    {
     "name": "stdout",
     "output_type": "stream",
     "text": [
      "안녕하세요.\n"
     ]
    }
   ],
   "source": [
    "class Person:\n",
    "    def __init__(self):\n",
    "        self.hello = \"안녕하세요.\"\n",
    "        \n",
    "    def greeting(self):\n",
    "        print(self.hello)\n",
    "james = Person()\n",
    "james.greeting()"
   ]
  },
  {
   "cell_type": "code",
   "execution_count": 34,
   "id": "f0436ce3-b0d8-4124-8f2b-3c1931e5a9fe",
   "metadata": {},
   "outputs": [],
   "source": [
    "# class = 실체가 없는 틀\n",
    "class student:\n",
    "    pass"
   ]
  },
  {
   "cell_type": "code",
   "execution_count": 38,
   "id": "f34b05a4-0cb8-4088-a315-2aae91250c6b",
   "metadata": {},
   "outputs": [],
   "source": [
    "# stu_a와 stu_b는 독립적으로 존재\n",
    "stu_a = student() # 클래스로부터 인스턴스 초기화\n",
    "stu_b = student()"
   ]
  },
  {
   "cell_type": "code",
   "execution_count": 29,
   "id": "fd17d5e1-ea99-4f9a-a99f-9c9e6718344d",
   "metadata": {},
   "outputs": [],
   "source": [
    "stu_a.hello = \"안녕하세요.\" # 속성 추가\n",
    "stu_a.name = \"학생A\""
   ]
  },
  {
   "cell_type": "code",
   "execution_count": 30,
   "id": "32198cec-8d7d-4e45-9adc-739a768e773b",
   "metadata": {},
   "outputs": [
    {
     "name": "stdout",
     "output_type": "stream",
     "text": [
      "안녕하세요.\n",
      "학생A\n"
     ]
    }
   ],
   "source": [
    "print(stu_a.hello) \n",
    "print(stu_a.name)"
   ]
  },
  {
   "cell_type": "code",
   "execution_count": 31,
   "id": "8cfbd470-ce8c-47f4-b079-629f25a97b67",
   "metadata": {},
   "outputs": [
    {
     "ename": "AttributeError",
     "evalue": "'student' object has no attribute 'hello'",
     "output_type": "error",
     "traceback": [
      "\u001b[1;31m---------------------------------------------------------------------------\u001b[0m",
      "\u001b[1;31mAttributeError\u001b[0m                            Traceback (most recent call last)",
      "\u001b[1;32m~\\AppData\\Local\\Temp\\ipykernel_23568\\4231877906.py\u001b[0m in \u001b[0;36m<module>\u001b[1;34m\u001b[0m\n\u001b[1;32m----> 1\u001b[1;33m \u001b[0mprint\u001b[0m\u001b[1;33m(\u001b[0m\u001b[0mstu_b\u001b[0m\u001b[1;33m.\u001b[0m\u001b[0mhello\u001b[0m\u001b[1;33m)\u001b[0m\u001b[1;33m\u001b[0m\u001b[1;33m\u001b[0m\u001b[0m\n\u001b[0m\u001b[0;32m      2\u001b[0m \u001b[0mprint\u001b[0m\u001b[1;33m(\u001b[0m\u001b[0mstu_b\u001b[0m\u001b[1;33m.\u001b[0m\u001b[0mname\u001b[0m\u001b[1;33m)\u001b[0m\u001b[1;33m\u001b[0m\u001b[1;33m\u001b[0m\u001b[0m\n",
      "\u001b[1;31mAttributeError\u001b[0m: 'student' object has no attribute 'hello'"
     ]
    }
   ],
   "source": [
    "print(stu_b.hello) \n",
    "print(stu_b.name)"
   ]
  },
  {
   "cell_type": "code",
   "execution_count": 37,
   "id": "ace006a9-07d1-447a-af0b-bb591e130153",
   "metadata": {},
   "outputs": [],
   "source": [
    "class student:\n",
    "    def __init__(self):\n",
    "        self.hello = \"안녕하세요.\""
   ]
  },
  {
   "cell_type": "code",
   "execution_count": null,
   "id": "5aefeefc-3daa-41a1-a4fc-ff956194aec2",
   "metadata": {},
   "outputs": [],
   "source": [
    "stu_a = student() # 클래스로부터 인스턴스 초기화\n",
    "stu_b = student()"
   ]
  },
  {
   "cell_type": "code",
   "execution_count": 39,
   "id": "1098b1b9-f0bd-4f0a-a258-d36c6bdb24be",
   "metadata": {},
   "outputs": [
    {
     "name": "stdout",
     "output_type": "stream",
     "text": [
      "안녕하세요.\n"
     ]
    }
   ],
   "source": [
    "print(stu_b.hello) "
   ]
  },
  {
   "cell_type": "markdown",
   "id": "9e1a029b-952d-4cd3-adb7-b147ce31e4c6",
   "metadata": {},
   "source": [
    "### self란? ###  \n",
    "\n",
    ">self는 인스턴스 자기 자신을 의미  \n",
    ">인스턴스가 생성될 때 self.hello = ‘안녕하세요’ 처럼 자기 자신에 속성을 추가  \n",
    ">__init__의 매개변수 self에 들어가는 값 = Person() 인스턴스  \n",
    ">self가 완성된 후에는 변수인 james에 할당  \n",
    ">메서드를 호출하면 현재 인스턴스가 자동으로 매개변수 self에 들어옴  \n",
    ">greeting 메서드에서 print(self.hello)처럼 속성을 출력할 수 있음  "
   ]
  },
  {
   "cell_type": "code",
   "execution_count": 5,
   "id": "4d7a7721-3073-4403-a0db-925250ed911a",
   "metadata": {},
   "outputs": [
    {
     "name": "stdout",
     "output_type": "stream",
     "text": [
      "안녕하세요.\n"
     ]
    }
   ],
   "source": [
    "class Person:\n",
    "    def __init__(self):\n",
    "        self.hello = \"안녕하세요.\"\n",
    "        \n",
    "    def greeting(self):\n",
    "        print(self.hello)\n",
    "        \n",
    "james = Person()\n",
    "james.greeting()"
   ]
  },
  {
   "cell_type": "markdown",
   "id": "52301f91-a58d-4144-9acc-e79ca7926943",
   "metadata": {},
   "source": [
    "### 특정 클래스의 인스턴스인지 확인하기 ###\n",
    ">클래스 = 사용자 정의 객체를 만들기 위한 주형  \n",
    ">즉 객체는 클래스의 구격대로 만들어진 메모리상의 실현체  \n",
    ">인스턴스는 같은 의미"
   ]
  },
  {
   "cell_type": "markdown",
   "id": "4ff7f4db-1704-41cf-baee-de5bd7147a28",
   "metadata": {},
   "source": [
    "### 정적 메서드 ###"
   ]
  },
  {
   "cell_type": "markdown",
   "id": "4a3c816d-7285-43d5-9d50-dd7f78c1996b",
   "metadata": {},
   "source": [
    "- 클래스 바디 안에서 정의 되는 함수  \n",
    "- 클래스의 인스턴스의 어트리뷰트(attribute)로서 호출되면, 그 메서드는 첫 번째 인자로 인스턴스 객체(self)를 받음"
   ]
  },
  {
   "cell_type": "markdown",
   "id": "5dd2aa25-318f-4d36-8735-a9526d1be70a",
   "metadata": {},
   "source": [
    "```python\n",
    "class ClassName:\n",
    "    @staticmethod\n",
    "    def method_name():\n",
    "        method_body\n",
    "        \n",
    "    class_body\n",
    "```"
   ]
  },
  {
   "cell_type": "markdown",
   "id": "64dcfc95-766a-491f-a841-1ae824b0d93f",
   "metadata": {},
   "source": [
    "### 비공개 메서드 ###"
   ]
  },
  {
   "cell_type": "markdown",
   "id": "76513407-3210-4dd4-83cf-a5bff078e029",
   "metadata": {},
   "source": [
    "- 속성뿐만 아니라 메서드도 이름이 __로 시작하면 클래스 안에서만 호출할 수 있는 비공개\n",
    "메서드"
   ]
  },
  {
   "cell_type": "markdown",
   "id": "fc39c286-0cc2-415f-9f68-50212064a9dd",
   "metadata": {},
   "source": [
    "```python\n",
    "class ClassName:\n",
    "    def __method_name(self):\n",
    "        method_body\n",
    "\n",
    "    class_body\n",
    "    ...\n",
    "```"
   ]
  },
  {
   "cell_type": "code",
   "execution_count": 43,
   "id": "5ddc08e6-d37a-44b8-8a12-cc4c05841d9f",
   "metadata": {},
   "outputs": [],
   "source": [
    "class Person: #class를 만들어줌\n",
    "    def __init__(self, name, age):\n",
    "        self.name = name\n",
    "        self.age = age\n",
    "p1 = Person(\"name1\", 40)\n",
    "p2 = Person(\"name2\", 32)\n",
    "\n",
    "\n",
    "#p1.name = \"name1\"\n",
    "#p1.age = 40\n",
    "\n",
    "#p2.name = \"name2\"\n",
    "#p2.age = 32"
   ]
  },
  {
   "cell_type": "code",
   "execution_count": 44,
   "id": "31073630-6fa5-4f18-ba36-43b54c12e7c1",
   "metadata": {},
   "outputs": [
    {
     "data": {
      "text/plain": [
       "{'name': 'name1', 'age': 40}"
      ]
     },
     "execution_count": 44,
     "metadata": {},
     "output_type": "execute_result"
    }
   ],
   "source": [
    "p1.__dict__"
   ]
  },
  {
   "cell_type": "code",
   "execution_count": 45,
   "id": "73452f9a-f29d-4f51-b462-aea1ca06097a",
   "metadata": {},
   "outputs": [
    {
     "data": {
      "text/plain": [
       "{'name': 'name2', 'age': 32}"
      ]
     },
     "execution_count": 45,
     "metadata": {},
     "output_type": "execute_result"
    }
   ],
   "source": [
    "p2.__dict__"
   ]
  },
  {
   "cell_type": "code",
   "execution_count": 65,
   "id": "815ac7d1-e9c5-485a-af14-c4ef985f908c",
   "metadata": {},
   "outputs": [
    {
     "name": "stdout",
     "output_type": "stream",
     "text": [
      "이름은 무엇인가요?: 마리아\n",
      "나이는 무엇인가요?: 20\n",
      "주소는 무엇인가요?: 서울시 서초구 반포동\n",
      "첫번째 이름: 마리아\n",
      "첫번째 나이: 20\n",
      "첫번째 주소: 서울시 서초구 반포동\n"
     ]
    }
   ],
   "source": [
    "class Person2:\n",
    "    def __init__(self, name, age, address):\n",
    "        self.hello = \"안녕하세요.\"\n",
    "        self.name = name\n",
    "        self.age = age\n",
    "        self.address = address\n",
    "        \n",
    "    def greeting(self):\n",
    "        print(f\"{self.hello} 제 이름은 {self.name} 입니다.\")\n",
    "        \n",
    "maria = Person(\"마리아\", 20, \"서울시 서초구 반포동\")\n",
    "maria.greeting()\n",
    "\n",
    "print(\"첫번째 이름:\", maria.name)\n",
    "print(\"첫번째 나이:\", maria.age)\n",
    "print(\"첫번째 주소:\", maria.address)"
   ]
  },
  {
   "cell_type": "code",
   "execution_count": 56,
   "id": "61b61764-5e91-4d5b-8e31-0682b83ff51d",
   "metadata": {},
   "outputs": [
    {
     "name": "stdout",
     "output_type": "stream",
     "text": [
      "이름은 무엇인가요?: 마리아\n",
      "나이는 무엇인가요?: 20\n",
      "주소는 무엇인가요?: 서울시 강남구\n",
      "이름은 무엇인가요?: 제임스\n",
      "나이는 무엇인가요?: 21\n",
      "주소는 무엇인가요?: 서울시 구로구\n",
      "첫번째 이름: 마리아\n",
      "첫번째 나이: 20\n",
      "첫번째 주소: 서울시 강남구\n",
      "두번째 이름: 제임스\n",
      "두번째 나이: 21\n",
      "두번째 주소: 서울시 구로구\n"
     ]
    }
   ],
   "source": [
    "class Person:\n",
    "    \n",
    "    def __init__(self, name, age, address):\n",
    "        self.name = name\n",
    "        self.age = age\n",
    "        self.address = address\n",
    "        \n",
    "    def greeting(self):\n",
    "        print(\"이름은 무엇인가요?:\", self.name)\n",
    "        print(\"나이는 무엇인가요?:\", self.age)\n",
    "        print(\"주소는 무엇인가요?:\", self.address)\n",
    "\n",
    "\n",
    "maria = Person(\"마리아\", 20, \"서울시 강남구\")\n",
    "james = Person(\"제임스\", 21, \"서울시 구로구\")\n",
    "maria.greeting()\n",
    "james.greeting()\n",
    "\n",
    "print(\"첫번째 이름:\", maria.name)\n",
    "print(\"첫번째 나이:\", maria.age)\n",
    "print(\"첫번째 주소:\", maria.address)\n",
    "print(\"두번째 이름:\", james.name)\n",
    "print(\"두번째 나이:\", james.age)\n",
    "print(\"두번째 주소:\", james.address)"
   ]
  },
  {
   "cell_type": "markdown",
   "id": "dc52a01b-3a0c-4d46-871f-d2ac14e8a22f",
   "metadata": {},
   "source": [
    "### 비공개 속성 사용하기 ###\n",
    "```ptthon\n",
    "인스턴스.속성 = 값  \n",
    "```\n",
    "을 통해 새롭게 인스턴스의 속성 값을 변경 못하도록 막고 싶을 때는 비공개 속성을 사용  \n",
    "사용법은 해당하는 속성 앞에 던더(__)를 붙이면 비공개 속성이 됨  "
   ]
  },
  {
   "cell_type": "code",
   "execution_count": 80,
   "id": "5d7e1569-fc6e-46e2-a289-7a0e4bc21459",
   "metadata": {},
   "outputs": [],
   "source": [
    "class Person3:\n",
    "    def __init__(self, name, age, address, wallet):\n",
    "        self.hello = \"안녕하세요.\"\n",
    "        self.name = name\n",
    "        self.age = age\n",
    "        self.address = address\n",
    "        self.__wallet = wallet\n",
    "    def greeting(self):\n",
    "        print(f\"{self.hello} 제 이름은 {self.name}입니다.\")\n",
    "        \n",
    "    def amount(self):\n",
    "        print(self.__wallet) "
   ]
  },
  {
   "cell_type": "code",
   "execution_count": 81,
   "id": "50c8e3e4-f8b7-4f41-95cf-50fa2b4ea792",
   "metadata": {},
   "outputs": [],
   "source": [
    "kyl = Person3(\"김유림\", 25, \"경기도 안양\", 10000000000)"
   ]
  },
  {
   "cell_type": "code",
   "execution_count": 73,
   "id": "ca74e59b-fa14-4b5c-86fe-f7dd632a6d30",
   "metadata": {},
   "outputs": [
    {
     "name": "stdout",
     "output_type": "stream",
     "text": [
      "김유림\n",
      "25\n",
      "경기도 안양\n"
     ]
    },
    {
     "ename": "AttributeError",
     "evalue": "'Person3' object has no attribute '__wallet'",
     "output_type": "error",
     "traceback": [
      "\u001b[1;31m---------------------------------------------------------------------------\u001b[0m",
      "\u001b[1;31mAttributeError\u001b[0m                            Traceback (most recent call last)",
      "\u001b[1;32m~\\AppData\\Local\\Temp\\ipykernel_23568\\3394961262.py\u001b[0m in \u001b[0;36m<module>\u001b[1;34m\u001b[0m\n\u001b[0;32m      2\u001b[0m \u001b[0mprint\u001b[0m\u001b[1;33m(\u001b[0m\u001b[0mkyl\u001b[0m\u001b[1;33m.\u001b[0m\u001b[0mage\u001b[0m\u001b[1;33m)\u001b[0m\u001b[1;33m\u001b[0m\u001b[1;33m\u001b[0m\u001b[0m\n\u001b[0;32m      3\u001b[0m \u001b[0mprint\u001b[0m\u001b[1;33m(\u001b[0m\u001b[0mkyl\u001b[0m\u001b[1;33m.\u001b[0m\u001b[0maddress\u001b[0m\u001b[1;33m)\u001b[0m\u001b[1;33m\u001b[0m\u001b[1;33m\u001b[0m\u001b[0m\n\u001b[1;32m----> 4\u001b[1;33m \u001b[0mprint\u001b[0m\u001b[1;33m(\u001b[0m\u001b[0mkyl\u001b[0m\u001b[1;33m.\u001b[0m\u001b[0m__wallet\u001b[0m\u001b[1;33m)\u001b[0m\u001b[1;33m\u001b[0m\u001b[1;33m\u001b[0m\u001b[0m\n\u001b[0m",
      "\u001b[1;31mAttributeError\u001b[0m: 'Person3' object has no attribute '__wallet'"
     ]
    }
   ],
   "source": [
    "print(kyl.name)\n",
    "print(kyl.age)\n",
    "print(kyl.address)\n",
    "print(kyl.__wallet) #greeting에서는 비공개 속성인 wallet이 실행 안됨"
   ]
  },
  {
   "cell_type": "code",
   "execution_count": 82,
   "id": "1854640a-2d0f-4959-be37-1083a8994a9f",
   "metadata": {},
   "outputs": [
    {
     "name": "stdout",
     "output_type": "stream",
     "text": [
      "10000000000\n"
     ]
    }
   ],
   "source": [
    "kyl.amount() # wallet이 들어가 있는건 확인가능"
   ]
  },
  {
   "cell_type": "markdown",
   "id": "2ffc50ac-587e-468c-ac7d-dcc713aa0b4f",
   "metadata": {},
   "source": [
    "### pay() 메서드 ###"
   ]
  },
  {
   "cell_type": "code",
   "execution_count": 106,
   "id": "d61fc63a-57a2-49a0-bed8-7384209cbed7",
   "metadata": {},
   "outputs": [],
   "source": [
    "class Person:\n",
    "    def __init__(self, name, age, address, wallet):\n",
    "        self.hello = \"안녕하세요.\"\n",
    "        self.name = name\n",
    "        self.age = age\n",
    "        self.address = address\n",
    "        self.__wallet = wallet\n",
    "        \n",
    "    def greeting(self):\n",
    "        print(f\"{self.hello} 제 이름은 {self.name}입니다.\")\n",
    "        \n",
    "    def amount(self):\n",
    "        print(self.__wallet) \n",
    "        \n",
    "    def pay (self, amount):\n",
    "        if self.__wallet < amount:\n",
    "            print(\"돈이 모자랍니다.\")\n",
    "            return\n",
    "        self.__wallet -= amount\n",
    "        "
   ]
  },
  {
   "cell_type": "code",
   "execution_count": 107,
   "id": "46139257-a761-4690-bcb4-264d45482efc",
   "metadata": {},
   "outputs": [],
   "source": [
    "kyl = Person(\"김유림\", 25, \"경기도 안양\", 10)"
   ]
  },
  {
   "cell_type": "code",
   "execution_count": 108,
   "id": "41d5bc87-ba56-4871-8725-9224c534bfeb",
   "metadata": {},
   "outputs": [
    {
     "name": "stdout",
     "output_type": "stream",
     "text": [
      "10\n"
     ]
    }
   ],
   "source": [
    "kyl.amount()"
   ]
  },
  {
   "cell_type": "code",
   "execution_count": 109,
   "id": "7f6a568a-2582-46aa-8452-6458f764aa56",
   "metadata": {},
   "outputs": [
    {
     "name": "stdout",
     "output_type": "stream",
     "text": [
      "돈이 모자랍니다.\n"
     ]
    }
   ],
   "source": [
    "kyl.pay(100000)"
   ]
  },
  {
   "cell_type": "markdown",
   "id": "177a6ca6-cd27-4dba-9e81-85d99f2d2a2c",
   "metadata": {},
   "source": [
    "### 연습문제 ###"
   ]
  },
  {
   "cell_type": "code",
   "execution_count": 134,
   "id": "18cf857c-7216-4034-8f87-3c7e9bbfca78",
   "metadata": {},
   "outputs": [
    {
     "name": "stdout",
     "output_type": "stream",
     "text": [
      "실행 결과:\n"
     ]
    },
    {
     "name": "stdin",
     "output_type": "stream",
     "text": [
      "체력, 마나, AP를 입력하세요. 10.0 20.0 40.\n"
     ]
    },
    {
     "name": "stdout",
     "output_type": "stream",
     "text": [
      "티버: 피해량 426.0\n"
     ]
    }
   ],
   "source": [
    "print(\"실행 결과:\")\n",
    "po, ma, ap = map (float, input(\"체력, 마나, AP를 입력하세요.\").split(' '))\n",
    "\n",
    "class annie:\n",
    "    def __init__(self, po, ma, ap):\n",
    "        self.po = po\n",
    "        self.ma = ma\n",
    "        self.ap = ap\n",
    "        \n",
    " \n",
    "    def tibbers(self):\n",
    "        print(\"티버: 피해량\", self.ap * 0.65 + 400)\n",
    "        \n",
    "Damage = annie(po, ma, ap)           \n",
    "Damage.tibbers()\n",
    "        "
   ]
  },
  {
   "cell_type": "code",
   "execution_count": null,
   "id": "f58ec1d0-eb62-403f-b8a1-863377a5cb24",
   "metadata": {},
   "outputs": [],
   "source": []
  }
 ],
 "metadata": {
  "kernelspec": {
   "display_name": "Python 3 (ipykernel)",
   "language": "python",
   "name": "python3"
  },
  "language_info": {
   "codemirror_mode": {
    "name": "ipython",
    "version": 3
   },
   "file_extension": ".py",
   "mimetype": "text/x-python",
   "name": "python",
   "nbconvert_exporter": "python",
   "pygments_lexer": "ipython3",
   "version": "3.9.13"
  }
 },
 "nbformat": 4,
 "nbformat_minor": 5
}

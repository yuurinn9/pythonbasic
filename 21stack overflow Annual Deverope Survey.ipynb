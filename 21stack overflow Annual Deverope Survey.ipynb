{
 "cells": [
  {
   "cell_type": "markdown",
   "id": "5c0f6fd4-80e7-4982-8873-4038bdd09c37",
   "metadata": {
    "tags": []
   },
   "source": [
    "# 2023 - 01 -30"
   ]
  },
  {
   "cell_type": "markdown",
   "id": "146e1061-25a5-4225-8abb-6721103cc4c5",
   "metadata": {},
   "source": [
    "# stack overflow Annual Deverope Survey"
   ]
  },
  {
   "cell_type": "markdown",
   "id": "274d96d3-1862-4812-a195-e29e9319f312",
   "metadata": {},
   "source": [
    "https://insights.stackoverflow.com/survey"
   ]
  },
  {
   "cell_type": "code",
   "execution_count": 174,
   "id": "2a5c9fb6-8ccb-45e5-99ad-7dcac711002a",
   "metadata": {},
   "outputs": [],
   "source": [
    "import pandas as pd\n",
    "import seaborn as sns\n",
    "import numpy as np\n",
    "import matplotlib as mpl\n",
    "import matplotlib.pyplot as plt"
   ]
  },
  {
   "cell_type": "code",
   "execution_count": 175,
   "id": "d2dc5b9c-8e94-4ee0-832f-94f9b1e3e02e",
   "metadata": {},
   "outputs": [],
   "source": [
    "survey_raw_df = pd.read_csv('data\\survey_results_public.csv', index_col=\"ResponseId\")"
   ]
  },
  {
   "cell_type": "markdown",
   "id": "ed6ed49a-5ada-4c91-9523-e17b0b12327c",
   "metadata": {},
   "source": [
    "> schema_raw[\"survey_raw_df의 column\"]을 조회하면 그 column에 대한 question 대한 값이 조회되도록 만들기  "
   ]
  },
  {
   "cell_type": "code",
   "execution_count": 176,
   "id": "8095a82c-b50b-4775-8b55-16a7def4c075",
   "metadata": {},
   "outputs": [],
   "source": [
    "schema_raw = pd.read_csv('data\\survey_results_schema.csv', index_col=\"qname\")[\"question\"]"
   ]
  },
  {
   "cell_type": "markdown",
   "id": "807314b3-8b9f-4542-b4e7-15819b1198fe",
   "metadata": {},
   "source": [
    "> 데이터 확인하기  "
   ]
  },
  {
   "cell_type": "code",
   "execution_count": 177,
   "id": "82d93467-418f-4394-9e3b-5cffa0d918e6",
   "metadata": {},
   "outputs": [
    {
     "data": {
      "text/plain": [
       "Index(['MainBranch', 'Employment', 'RemoteWork', 'CodingActivities', 'EdLevel',\n",
       "       'LearnCode', 'LearnCodeOnline', 'LearnCodeCoursesCert', 'YearsCode',\n",
       "       'YearsCodePro', 'DevType', 'OrgSize', 'PurchaseInfluence', 'BuyNewTool',\n",
       "       'Country', 'Currency', 'CompTotal', 'CompFreq',\n",
       "       'LanguageHaveWorkedWith', 'LanguageWantToWorkWith',\n",
       "       'DatabaseHaveWorkedWith', 'DatabaseWantToWorkWith',\n",
       "       'PlatformHaveWorkedWith', 'PlatformWantToWorkWith',\n",
       "       'WebframeHaveWorkedWith', 'WebframeWantToWorkWith',\n",
       "       'MiscTechHaveWorkedWith', 'MiscTechWantToWorkWith',\n",
       "       'ToolsTechHaveWorkedWith', 'ToolsTechWantToWorkWith',\n",
       "       'NEWCollabToolsHaveWorkedWith', 'NEWCollabToolsWantToWorkWith',\n",
       "       'OpSysProfessional use', 'OpSysPersonal use', 'VersionControlSystem',\n",
       "       'VCInteraction', 'VCHostingPersonal use', 'VCHostingProfessional use',\n",
       "       'OfficeStackAsyncHaveWorkedWith', 'OfficeStackAsyncWantToWorkWith',\n",
       "       'OfficeStackSyncHaveWorkedWith', 'OfficeStackSyncWantToWorkWith',\n",
       "       'Blockchain', 'NEWSOSites', 'SOVisitFreq', 'SOAccount', 'SOPartFreq',\n",
       "       'SOComm', 'Age', 'Gender', 'Trans', 'Sexuality', 'Ethnicity',\n",
       "       'Accessibility', 'MentalHealth', 'TBranch', 'ICorPM', 'WorkExp',\n",
       "       'Knowledge_1', 'Knowledge_2', 'Knowledge_3', 'Knowledge_4',\n",
       "       'Knowledge_5', 'Knowledge_6', 'Knowledge_7', 'Frequency_1',\n",
       "       'Frequency_2', 'Frequency_3', 'TimeSearching', 'TimeAnswering',\n",
       "       'Onboarding', 'ProfessionalTech', 'TrueFalse_1', 'TrueFalse_2',\n",
       "       'TrueFalse_3', 'SurveyLength', 'SurveyEase', 'ConvertedCompYearly'],\n",
       "      dtype='object')"
      ]
     },
     "execution_count": 177,
     "metadata": {},
     "output_type": "execute_result"
    }
   ],
   "source": [
    "survey_raw_df.columns"
   ]
  },
  {
   "cell_type": "code",
   "execution_count": 178,
   "id": "40dab62b-43b0-4871-86fc-bb9c741ba5e0",
   "metadata": {},
   "outputs": [
    {
     "data": {
      "text/plain": [
       "Index(['S0', 'MetaInfo', 'S1', 'MainBranch', 'Employment', 'RemoteWork',\n",
       "       'CodingActivities', 'S2', 'EdLevel', 'LearnCode', 'LearnCodeOnline',\n",
       "       'LearnCodeCoursesCert', 'YearsCode', 'YearsCodePro', 'DevType',\n",
       "       'OrgSize', 'PurchaseInfluence', 'BuyNewTool', 'Country', 'Currency',\n",
       "       'CompTotal', 'CompFreq', 'S3', 'Language', 'Database', 'Platform',\n",
       "       'Webframe', 'MiscTech', 'ToolsTech', 'NEWCollabTools', 'OpSys',\n",
       "       'VersionControlSystem', 'VCInteraction', 'VCHosting',\n",
       "       'OfficeStackAsync', 'OfficeStackSync', 'Blockchain', 'S4', 'NEWSOSites',\n",
       "       'SOVisitFreq', 'SOAccount', 'SOPartFreq', 'SOComm', 'S5', 'Age',\n",
       "       'Gender', 'Trans', 'Sexuality', 'Ethnicity', 'Accessibility',\n",
       "       'MentalHealth', 'S6', 'TBranch', 'ICorPM', 'WorkExp', 'Knowledge',\n",
       "       'Frequency', 'TimeSearching', 'TimeAnswering', 'Onboarding',\n",
       "       'ProfessionalTech', 'SOTeamsUsage', 'TrueFalse', 'S7', 'SurveyLength',\n",
       "       'SurveyEase', 'Knowledge_1', 'Knowledge_2', 'Knowledge_3',\n",
       "       'Knowledge_4', 'Knowledge_5', 'Knowledge_6', 'Knowledge_7',\n",
       "       'Frequency_1', 'Frequency_2', 'Frequency_3', 'TrueFalse_1',\n",
       "       'TrueFalse_2', 'TrueFalse_3'],\n",
       "      dtype='object', name='qname')"
      ]
     },
     "execution_count": 178,
     "metadata": {},
     "output_type": "execute_result"
    }
   ],
   "source": [
    "schema_raw.index"
   ]
  },
  {
   "cell_type": "markdown",
   "id": "9793210e-9f66-46f6-b445-e5e9c59ba989",
   "metadata": {},
   "source": [
    "> 데이터 칼럼 중 CompTotal이란 항목에 대한 질문이 궁금하다면 schema_raw 시리즈 데이터를 통해 조회하기  "
   ]
  },
  {
   "cell_type": "code",
   "execution_count": 179,
   "id": "1c593750-4815-4f38-bf62-b1e286e83e5f",
   "metadata": {},
   "outputs": [
    {
     "data": {
      "text/plain": [
       "'What is your current total compensation (salary, bonuses, and perks, before taxes and deductions)? Please enter a whole number in the box below, without any punctuation.  If you are paid hourly, please estimate an equivalent weekly, monthly, or yearly salary. If you prefer not to answer, please leave the box empty.'"
      ]
     },
     "execution_count": 179,
     "metadata": {},
     "output_type": "execute_result"
    }
   ],
   "source": [
    "schema_raw[\"CompTotal\"]"
   ]
  },
  {
   "cell_type": "code",
   "execution_count": 180,
   "id": "c78f4177-afe0-49b4-a699-93659c054e2e",
   "metadata": {},
   "outputs": [
    {
     "data": {
      "text/plain": [
       "'Is that compensation weekly, monthly, or yearly?'"
      ]
     },
     "execution_count": 180,
     "metadata": {},
     "output_type": "execute_result"
    }
   ],
   "source": [
    "schema_raw[\"CompFreq\"]"
   ]
  },
  {
   "cell_type": "markdown",
   "id": "96971598-0858-4493-acbb-f49360b26b8c",
   "metadata": {},
   "source": [
    "> survey_raw_df에 대한 info()를 조회해보면 78개의 column이 존재하는거 확인 가능  \n",
    "많은 column이 존재하면 pandas에서 가시성을 위해 출력시 column 일부를 생략  "
   ]
  },
  {
   "cell_type": "code",
   "execution_count": 181,
   "id": "d5d9f68f-7cf9-4b88-8477-9ef630006dc6",
   "metadata": {},
   "outputs": [
    {
     "name": "stdout",
     "output_type": "stream",
     "text": [
      "<class 'pandas.core.frame.DataFrame'>\n",
      "Int64Index: 73268 entries, 1 to 73268\n",
      "Data columns (total 78 columns):\n",
      " #   Column                          Non-Null Count  Dtype  \n",
      "---  ------                          --------------  -----  \n",
      " 0   MainBranch                      73268 non-null  object \n",
      " 1   Employment                      71709 non-null  object \n",
      " 2   RemoteWork                      58958 non-null  object \n",
      " 3   CodingActivities                58899 non-null  object \n",
      " 4   EdLevel                         71571 non-null  object \n",
      " 5   LearnCode                       71580 non-null  object \n",
      " 6   LearnCodeOnline                 50685 non-null  object \n",
      " 7   LearnCodeCoursesCert            29389 non-null  object \n",
      " 8   YearsCode                       71331 non-null  object \n",
      " 9   YearsCodePro                    51833 non-null  object \n",
      " 10  DevType                         61302 non-null  object \n",
      " 11  OrgSize                         51039 non-null  object \n",
      " 12  PurchaseInfluence               50969 non-null  object \n",
      " 13  BuyNewTool                      67963 non-null  object \n",
      " 14  Country                         71771 non-null  object \n",
      " 15  Currency                        51264 non-null  object \n",
      " 16  CompTotal                       38422 non-null  float64\n",
      " 17  CompFreq                        44425 non-null  object \n",
      " 18  LanguageHaveWorkedWith          70975 non-null  object \n",
      " 19  LanguageWantToWorkWith          67027 non-null  object \n",
      " 20  DatabaseHaveWorkedWith          60121 non-null  object \n",
      " 21  DatabaseWantToWorkWith          51014 non-null  object \n",
      " 22  PlatformHaveWorkedWith          49924 non-null  object \n",
      " 23  PlatformWantToWorkWith          40415 non-null  object \n",
      " 24  WebframeHaveWorkedWith          53544 non-null  object \n",
      " 25  WebframeWantToWorkWith          46122 non-null  object \n",
      " 26  MiscTechHaveWorkedWith          44992 non-null  object \n",
      " 27  MiscTechWantToWorkWith          36810 non-null  object \n",
      " 28  ToolsTechHaveWorkedWith         54171 non-null  object \n",
      " 29  ToolsTechWantToWorkWith         46566 non-null  object \n",
      " 30  NEWCollabToolsHaveWorkedWith    70347 non-null  object \n",
      " 31  NEWCollabToolsWantToWorkWith    64108 non-null  object \n",
      " 32  OpSysProfessional use           65503 non-null  object \n",
      " 33  OpSysPersonal use               70963 non-null  object \n",
      " 34  VersionControlSystem            71379 non-null  object \n",
      " 35  VCInteraction                   68156 non-null  object \n",
      " 36  VCHostingPersonal use           0 non-null      float64\n",
      " 37  VCHostingProfessional use       0 non-null      float64\n",
      " 38  OfficeStackAsyncHaveWorkedWith  46223 non-null  object \n",
      " 39  OfficeStackAsyncWantToWorkWith  32072 non-null  object \n",
      " 40  OfficeStackSyncHaveWorkedWith   62128 non-null  object \n",
      " 41  OfficeStackSyncWantToWorkWith   47688 non-null  object \n",
      " 42  Blockchain                      71071 non-null  object \n",
      " 43  NEWSOSites                      71365 non-null  object \n",
      " 44  SOVisitFreq                     70961 non-null  object \n",
      " 45  SOAccount                       71572 non-null  object \n",
      " 46  SOPartFreq                      58229 non-null  object \n",
      " 47  SOComm                          71408 non-null  object \n",
      " 48  Age                             70946 non-null  object \n",
      " 49  Gender                          70853 non-null  object \n",
      " 50  Trans                           70315 non-null  object \n",
      " 51  Sexuality                       66565 non-null  object \n",
      " 52  Ethnicity                       69474 non-null  object \n",
      " 53  Accessibility                   67244 non-null  object \n",
      " 54  MentalHealth                    66447 non-null  object \n",
      " 55  TBranch                         52670 non-null  object \n",
      " 56  ICorPM                          36283 non-null  object \n",
      " 57  WorkExp                         36769 non-null  float64\n",
      " 58  Knowledge_1                     35804 non-null  object \n",
      " 59  Knowledge_2                     34973 non-null  object \n",
      " 60  Knowledge_3                     35133 non-null  object \n",
      " 61  Knowledge_4                     35097 non-null  object \n",
      " 62  Knowledge_5                     35014 non-null  object \n",
      " 63  Knowledge_6                     34991 non-null  object \n",
      " 64  Knowledge_7                     34977 non-null  object \n",
      " 65  Frequency_1                     35371 non-null  object \n",
      " 66  Frequency_2                     35344 non-null  object \n",
      " 67  Frequency_3                     34515 non-null  object \n",
      " 68  TimeSearching                   36198 non-null  object \n",
      " 69  TimeAnswering                   36022 non-null  object \n",
      " 70  Onboarding                      35679 non-null  object \n",
      " 71  ProfessionalTech                34906 non-null  object \n",
      " 72  TrueFalse_1                     35819 non-null  object \n",
      " 73  TrueFalse_2                     35715 non-null  object \n",
      " 74  TrueFalse_3                     35749 non-null  object \n",
      " 75  SurveyLength                    70444 non-null  object \n",
      " 76  SurveyEase                      70508 non-null  object \n",
      " 77  ConvertedCompYearly             38071 non-null  float64\n",
      "dtypes: float64(5), object(73)\n",
      "memory usage: 44.2+ MB\n"
     ]
    }
   ],
   "source": [
    "survey_raw_df.info()"
   ]
  },
  {
   "cell_type": "markdown",
   "id": "611dc9ac-c615-4b23-84c3-6a0fcaad61f5",
   "metadata": {},
   "source": [
    "survey_raw_df에 대해 조회할 때 생략되는 column이 없도록 아래와 같이 설정을 해줌   \n",
    "- display.max_columns : 표현되는 column의 최대 개수  \n",
    "- display.max_rows : 표현되는 row의 최대 개수  "
   ]
  },
  {
   "cell_type": "code",
   "execution_count": 182,
   "id": "bfc5374e-039d-445c-b18b-02450f986889",
   "metadata": {},
   "outputs": [],
   "source": [
    "# 표현되는 column과 row의 범위 변경  \n",
    "pd.set_option(\"display.max_columns\", 78)\n",
    "pd.set_option(\"display.max_rows\", 78)"
   ]
  },
  {
   "cell_type": "markdown",
   "id": "6542cb9a-b50e-4e18-aa9d-e7b93d83dd95",
   "metadata": {},
   "source": [
    "매우 많은 column이 존재하는데, 이 중 우리는 일부를 발췌하여 사용하기  \n",
    "- 인구 통계(성별, 나이, 학력 등)  \n",
    "- 프로그래밍 기술, 경험 및 선호도  \n",
    "- 고용 관련 정보, 선호도 및 의견  "
   ]
  },
  {
   "cell_type": "code",
   "execution_count": 183,
   "id": "4c37735f-fb4f-48c5-b95a-40b87fd79c95",
   "metadata": {},
   "outputs": [],
   "source": [
    "selected_columns = [\n",
    "    # 인구 통계\n",
    "    'Country',\n",
    "    'Age',\n",
    "    'Gender',\n",
    "    'EdLevel',\n",
    "    # 프로그래밍 경험\n",
    "    'YearsCode',\n",
    "    'YearsCodePro',\n",
    "    'LanguageHaveWorkedWith',\n",
    "    'LanguageWantToWorkWith',\n",
    "    'LearnCodeCoursesCert',\n",
    "    'ProfessionalTech',\n",
    "    'SOAccount',\n",
    "    # 고용 관련 정보\n",
    "    'Employment',\n",
    "    'DevType',\n",
    "    'WorkExp',\n",
    "]"
   ]
  },
  {
   "cell_type": "markdown",
   "id": "c86da4bc-910d-4821-a67f-868990e2883c",
   "metadata": {},
   "source": [
    "위에서 만든 리스트를 활용하여 column에 대한 배열 인덱싱을 하고 있음  \n",
    "결과를 survey_raw_df로부터 분리하여 작업하고자 copy() 메서드를 통해 새롭게 복사  "
   ]
  },
  {
   "cell_type": "code",
   "execution_count": 184,
   "id": "fb9cbfdb-affe-4019-823f-3c035a1737aa",
   "metadata": {},
   "outputs": [
    {
     "data": {
      "text/html": [
       "<div>\n",
       "<style scoped>\n",
       "    .dataframe tbody tr th:only-of-type {\n",
       "        vertical-align: middle;\n",
       "    }\n",
       "\n",
       "    .dataframe tbody tr th {\n",
       "        vertical-align: top;\n",
       "    }\n",
       "\n",
       "    .dataframe thead th {\n",
       "        text-align: right;\n",
       "    }\n",
       "</style>\n",
       "<table border=\"1\" class=\"dataframe\">\n",
       "  <thead>\n",
       "    <tr style=\"text-align: right;\">\n",
       "      <th></th>\n",
       "      <th>Country</th>\n",
       "      <th>Age</th>\n",
       "      <th>Gender</th>\n",
       "      <th>EdLevel</th>\n",
       "      <th>YearsCode</th>\n",
       "      <th>YearsCodePro</th>\n",
       "      <th>LanguageHaveWorkedWith</th>\n",
       "      <th>LanguageWantToWorkWith</th>\n",
       "      <th>LearnCodeCoursesCert</th>\n",
       "      <th>ProfessionalTech</th>\n",
       "      <th>SOAccount</th>\n",
       "      <th>Employment</th>\n",
       "      <th>DevType</th>\n",
       "      <th>WorkExp</th>\n",
       "    </tr>\n",
       "    <tr>\n",
       "      <th>ResponseId</th>\n",
       "      <th></th>\n",
       "      <th></th>\n",
       "      <th></th>\n",
       "      <th></th>\n",
       "      <th></th>\n",
       "      <th></th>\n",
       "      <th></th>\n",
       "      <th></th>\n",
       "      <th></th>\n",
       "      <th></th>\n",
       "      <th></th>\n",
       "      <th></th>\n",
       "      <th></th>\n",
       "      <th></th>\n",
       "    </tr>\n",
       "  </thead>\n",
       "  <tbody>\n",
       "    <tr>\n",
       "      <th>1</th>\n",
       "      <td>NaN</td>\n",
       "      <td>NaN</td>\n",
       "      <td>NaN</td>\n",
       "      <td>NaN</td>\n",
       "      <td>NaN</td>\n",
       "      <td>NaN</td>\n",
       "      <td>NaN</td>\n",
       "      <td>NaN</td>\n",
       "      <td>NaN</td>\n",
       "      <td>NaN</td>\n",
       "      <td>NaN</td>\n",
       "      <td>NaN</td>\n",
       "      <td>NaN</td>\n",
       "      <td>NaN</td>\n",
       "    </tr>\n",
       "    <tr>\n",
       "      <th>2</th>\n",
       "      <td>Canada</td>\n",
       "      <td>NaN</td>\n",
       "      <td>NaN</td>\n",
       "      <td>NaN</td>\n",
       "      <td>NaN</td>\n",
       "      <td>NaN</td>\n",
       "      <td>JavaScript;TypeScript</td>\n",
       "      <td>Rust;TypeScript</td>\n",
       "      <td>NaN</td>\n",
       "      <td>NaN</td>\n",
       "      <td>Yes</td>\n",
       "      <td>Employed, full-time</td>\n",
       "      <td>NaN</td>\n",
       "      <td>NaN</td>\n",
       "    </tr>\n",
       "    <tr>\n",
       "      <th>3</th>\n",
       "      <td>United Kingdom of Great Britain and Northern I...</td>\n",
       "      <td>25-34 years old</td>\n",
       "      <td>Man</td>\n",
       "      <td>Master’s degree (M.A., M.S., M.Eng., MBA, etc.)</td>\n",
       "      <td>14</td>\n",
       "      <td>5</td>\n",
       "      <td>C#;C++;HTML/CSS;JavaScript;Python</td>\n",
       "      <td>C#;C++;HTML/CSS;JavaScript;TypeScript</td>\n",
       "      <td>NaN</td>\n",
       "      <td>NaN</td>\n",
       "      <td>Yes</td>\n",
       "      <td>Employed, full-time</td>\n",
       "      <td>Data scientist or machine learning specialist;...</td>\n",
       "      <td>NaN</td>\n",
       "    </tr>\n",
       "    <tr>\n",
       "      <th>4</th>\n",
       "      <td>Israel</td>\n",
       "      <td>35-44 years old</td>\n",
       "      <td>Man</td>\n",
       "      <td>Bachelor’s degree (B.A., B.S., B.Eng., etc.)</td>\n",
       "      <td>20</td>\n",
       "      <td>17</td>\n",
       "      <td>C#;JavaScript;SQL;TypeScript</td>\n",
       "      <td>C#;SQL;TypeScript</td>\n",
       "      <td>NaN</td>\n",
       "      <td>NaN</td>\n",
       "      <td>Yes</td>\n",
       "      <td>Employed, full-time</td>\n",
       "      <td>Developer, full-stack</td>\n",
       "      <td>NaN</td>\n",
       "    </tr>\n",
       "    <tr>\n",
       "      <th>5</th>\n",
       "      <td>United States of America</td>\n",
       "      <td>25-34 years old</td>\n",
       "      <td>NaN</td>\n",
       "      <td>Bachelor’s degree (B.A., B.S., B.Eng., etc.)</td>\n",
       "      <td>8</td>\n",
       "      <td>3</td>\n",
       "      <td>C#;HTML/CSS;JavaScript;SQL;Swift;TypeScript</td>\n",
       "      <td>C#;Elixir;F#;Go;JavaScript;Rust;TypeScript</td>\n",
       "      <td>NaN</td>\n",
       "      <td>NaN</td>\n",
       "      <td>Yes</td>\n",
       "      <td>Employed, full-time</td>\n",
       "      <td>Developer, front-end;Developer, full-stack;Dev...</td>\n",
       "      <td>NaN</td>\n",
       "    </tr>\n",
       "    <tr>\n",
       "      <th>...</th>\n",
       "      <td>...</td>\n",
       "      <td>...</td>\n",
       "      <td>...</td>\n",
       "      <td>...</td>\n",
       "      <td>...</td>\n",
       "      <td>...</td>\n",
       "      <td>...</td>\n",
       "      <td>...</td>\n",
       "      <td>...</td>\n",
       "      <td>...</td>\n",
       "      <td>...</td>\n",
       "      <td>...</td>\n",
       "      <td>...</td>\n",
       "      <td>...</td>\n",
       "    </tr>\n",
       "    <tr>\n",
       "      <th>73264</th>\n",
       "      <td>Nigeria</td>\n",
       "      <td>25-34 years old</td>\n",
       "      <td>Man</td>\n",
       "      <td>Bachelor’s degree (B.A., B.S., B.Eng., etc.)</td>\n",
       "      <td>8</td>\n",
       "      <td>5</td>\n",
       "      <td>Bash/Shell;Dart;JavaScript;PHP;Python;SQL;Type...</td>\n",
       "      <td>Bash/Shell;Go;JavaScript;Python;SQL;TypeScript</td>\n",
       "      <td>Udemy</td>\n",
       "      <td>DevOps function;Microservices;Developer portal...</td>\n",
       "      <td>Yes</td>\n",
       "      <td>Employed, full-time</td>\n",
       "      <td>Developer, back-end</td>\n",
       "      <td>5.0</td>\n",
       "    </tr>\n",
       "    <tr>\n",
       "      <th>73265</th>\n",
       "      <td>United States of America</td>\n",
       "      <td>25-34 years old</td>\n",
       "      <td>Man</td>\n",
       "      <td>Master’s degree (M.A., M.S., M.Eng., MBA, etc.)</td>\n",
       "      <td>6</td>\n",
       "      <td>5</td>\n",
       "      <td>Bash/Shell;HTML/CSS;JavaScript;Python;SQL</td>\n",
       "      <td>HTML/CSS;JavaScript;Python</td>\n",
       "      <td>Coursera;Udemy;Udacity</td>\n",
       "      <td>None of these</td>\n",
       "      <td>Not sure/can't remember</td>\n",
       "      <td>Employed, full-time</td>\n",
       "      <td>Data scientist or machine learning specialist</td>\n",
       "      <td>6.0</td>\n",
       "    </tr>\n",
       "    <tr>\n",
       "      <th>73266</th>\n",
       "      <td>United States of America</td>\n",
       "      <td>55-64 years old</td>\n",
       "      <td>Man</td>\n",
       "      <td>Bachelor’s degree (B.A., B.S., B.Eng., etc.)</td>\n",
       "      <td>42</td>\n",
       "      <td>33</td>\n",
       "      <td>HTML/CSS;JavaScript;PHP;Python;SQL</td>\n",
       "      <td>C#;HTML/CSS;JavaScript;PHP;Python;SQL</td>\n",
       "      <td>Udemy;Codecademy;Pluralsight;edX</td>\n",
       "      <td>None of these</td>\n",
       "      <td>Yes</td>\n",
       "      <td>Employed, full-time</td>\n",
       "      <td>Developer, full-stack;Developer, desktop or en...</td>\n",
       "      <td>42.0</td>\n",
       "    </tr>\n",
       "    <tr>\n",
       "      <th>73267</th>\n",
       "      <td>United Kingdom of Great Britain and Northern I...</td>\n",
       "      <td>55-64 years old</td>\n",
       "      <td>Man</td>\n",
       "      <td>Bachelor’s degree (B.A., B.S., B.Eng., etc.)</td>\n",
       "      <td>50</td>\n",
       "      <td>31</td>\n",
       "      <td>C#;Delphi;VBA</td>\n",
       "      <td>Delphi</td>\n",
       "      <td>NaN</td>\n",
       "      <td>NaN</td>\n",
       "      <td>Yes</td>\n",
       "      <td>Employed, full-time</td>\n",
       "      <td>Developer, front-end;Developer, desktop or ent...</td>\n",
       "      <td>NaN</td>\n",
       "    </tr>\n",
       "    <tr>\n",
       "      <th>73268</th>\n",
       "      <td>Canada</td>\n",
       "      <td>25-34 years old</td>\n",
       "      <td>Man</td>\n",
       "      <td>Bachelor’s degree (B.A., B.S., B.Eng., etc.)</td>\n",
       "      <td>16</td>\n",
       "      <td>5</td>\n",
       "      <td>C#;JavaScript;Lua;PowerShell;SQL;TypeScript</td>\n",
       "      <td>PowerShell;Rust;TypeScript</td>\n",
       "      <td>Udemy;Pluralsight</td>\n",
       "      <td>NaN</td>\n",
       "      <td>Yes</td>\n",
       "      <td>Independent contractor, freelancer, or self-em...</td>\n",
       "      <td>Developer, front-end;Engineer, data;Engineer, ...</td>\n",
       "      <td>NaN</td>\n",
       "    </tr>\n",
       "  </tbody>\n",
       "</table>\n",
       "<p>73268 rows × 14 columns</p>\n",
       "</div>"
      ],
      "text/plain": [
       "                                                      Country  \\\n",
       "ResponseId                                                      \n",
       "1                                                         NaN   \n",
       "2                                                      Canada   \n",
       "3           United Kingdom of Great Britain and Northern I...   \n",
       "4                                                      Israel   \n",
       "5                                    United States of America   \n",
       "...                                                       ...   \n",
       "73264                                                 Nigeria   \n",
       "73265                                United States of America   \n",
       "73266                                United States of America   \n",
       "73267       United Kingdom of Great Britain and Northern I...   \n",
       "73268                                                  Canada   \n",
       "\n",
       "                        Age Gender  \\\n",
       "ResponseId                           \n",
       "1                       NaN    NaN   \n",
       "2                       NaN    NaN   \n",
       "3           25-34 years old    Man   \n",
       "4           35-44 years old    Man   \n",
       "5           25-34 years old    NaN   \n",
       "...                     ...    ...   \n",
       "73264       25-34 years old    Man   \n",
       "73265       25-34 years old    Man   \n",
       "73266       55-64 years old    Man   \n",
       "73267       55-64 years old    Man   \n",
       "73268       25-34 years old    Man   \n",
       "\n",
       "                                                    EdLevel YearsCode  \\\n",
       "ResponseId                                                              \n",
       "1                                                       NaN       NaN   \n",
       "2                                                       NaN       NaN   \n",
       "3           Master’s degree (M.A., M.S., M.Eng., MBA, etc.)        14   \n",
       "4              Bachelor’s degree (B.A., B.S., B.Eng., etc.)        20   \n",
       "5              Bachelor’s degree (B.A., B.S., B.Eng., etc.)         8   \n",
       "...                                                     ...       ...   \n",
       "73264          Bachelor’s degree (B.A., B.S., B.Eng., etc.)         8   \n",
       "73265       Master’s degree (M.A., M.S., M.Eng., MBA, etc.)         6   \n",
       "73266          Bachelor’s degree (B.A., B.S., B.Eng., etc.)        42   \n",
       "73267          Bachelor’s degree (B.A., B.S., B.Eng., etc.)        50   \n",
       "73268          Bachelor’s degree (B.A., B.S., B.Eng., etc.)        16   \n",
       "\n",
       "           YearsCodePro                             LanguageHaveWorkedWith  \\\n",
       "ResponseId                                                                   \n",
       "1                   NaN                                                NaN   \n",
       "2                   NaN                              JavaScript;TypeScript   \n",
       "3                     5                  C#;C++;HTML/CSS;JavaScript;Python   \n",
       "4                    17                       C#;JavaScript;SQL;TypeScript   \n",
       "5                     3        C#;HTML/CSS;JavaScript;SQL;Swift;TypeScript   \n",
       "...                 ...                                                ...   \n",
       "73264                 5  Bash/Shell;Dart;JavaScript;PHP;Python;SQL;Type...   \n",
       "73265                 5          Bash/Shell;HTML/CSS;JavaScript;Python;SQL   \n",
       "73266                33                 HTML/CSS;JavaScript;PHP;Python;SQL   \n",
       "73267                31                                      C#;Delphi;VBA   \n",
       "73268                 5        C#;JavaScript;Lua;PowerShell;SQL;TypeScript   \n",
       "\n",
       "                                    LanguageWantToWorkWith  \\\n",
       "ResponseId                                                   \n",
       "1                                                      NaN   \n",
       "2                                          Rust;TypeScript   \n",
       "3                    C#;C++;HTML/CSS;JavaScript;TypeScript   \n",
       "4                                        C#;SQL;TypeScript   \n",
       "5               C#;Elixir;F#;Go;JavaScript;Rust;TypeScript   \n",
       "...                                                    ...   \n",
       "73264       Bash/Shell;Go;JavaScript;Python;SQL;TypeScript   \n",
       "73265                           HTML/CSS;JavaScript;Python   \n",
       "73266                C#;HTML/CSS;JavaScript;PHP;Python;SQL   \n",
       "73267                                               Delphi   \n",
       "73268                           PowerShell;Rust;TypeScript   \n",
       "\n",
       "                        LearnCodeCoursesCert  \\\n",
       "ResponseId                                     \n",
       "1                                        NaN   \n",
       "2                                        NaN   \n",
       "3                                        NaN   \n",
       "4                                        NaN   \n",
       "5                                        NaN   \n",
       "...                                      ...   \n",
       "73264                                  Udemy   \n",
       "73265                 Coursera;Udemy;Udacity   \n",
       "73266       Udemy;Codecademy;Pluralsight;edX   \n",
       "73267                                    NaN   \n",
       "73268                      Udemy;Pluralsight   \n",
       "\n",
       "                                             ProfessionalTech  \\\n",
       "ResponseId                                                      \n",
       "1                                                         NaN   \n",
       "2                                                         NaN   \n",
       "3                                                         NaN   \n",
       "4                                                         NaN   \n",
       "5                                                         NaN   \n",
       "...                                                       ...   \n",
       "73264       DevOps function;Microservices;Developer portal...   \n",
       "73265                                           None of these   \n",
       "73266                                           None of these   \n",
       "73267                                                     NaN   \n",
       "73268                                                     NaN   \n",
       "\n",
       "                          SOAccount  \\\n",
       "ResponseId                            \n",
       "1                               NaN   \n",
       "2                               Yes   \n",
       "3                               Yes   \n",
       "4                               Yes   \n",
       "5                               Yes   \n",
       "...                             ...   \n",
       "73264                           Yes   \n",
       "73265       Not sure/can't remember   \n",
       "73266                           Yes   \n",
       "73267                           Yes   \n",
       "73268                           Yes   \n",
       "\n",
       "                                                   Employment  \\\n",
       "ResponseId                                                      \n",
       "1                                                         NaN   \n",
       "2                                         Employed, full-time   \n",
       "3                                         Employed, full-time   \n",
       "4                                         Employed, full-time   \n",
       "5                                         Employed, full-time   \n",
       "...                                                       ...   \n",
       "73264                                     Employed, full-time   \n",
       "73265                                     Employed, full-time   \n",
       "73266                                     Employed, full-time   \n",
       "73267                                     Employed, full-time   \n",
       "73268       Independent contractor, freelancer, or self-em...   \n",
       "\n",
       "                                                      DevType  WorkExp  \n",
       "ResponseId                                                              \n",
       "1                                                         NaN      NaN  \n",
       "2                                                         NaN      NaN  \n",
       "3           Data scientist or machine learning specialist;...      NaN  \n",
       "4                                       Developer, full-stack      NaN  \n",
       "5           Developer, front-end;Developer, full-stack;Dev...      NaN  \n",
       "...                                                       ...      ...  \n",
       "73264                                     Developer, back-end      5.0  \n",
       "73265           Data scientist or machine learning specialist      6.0  \n",
       "73266       Developer, full-stack;Developer, desktop or en...     42.0  \n",
       "73267       Developer, front-end;Developer, desktop or ent...      NaN  \n",
       "73268       Developer, front-end;Engineer, data;Engineer, ...      NaN  \n",
       "\n",
       "[73268 rows x 14 columns]"
      ]
     },
     "execution_count": 184,
     "metadata": {},
     "output_type": "execute_result"
    }
   ],
   "source": [
    "survey_df = survey_raw_df[selected_columns].copy()\n",
    "survey_df"
   ]
  },
  {
   "cell_type": "code",
   "execution_count": 185,
   "id": "6759581f-2b22-450c-8f0a-eb3d1b1ef819",
   "metadata": {},
   "outputs": [
    {
     "name": "stdout",
     "output_type": "stream",
     "text": [
      "Including any education, how many years have you been coding in total?\n"
     ]
    }
   ],
   "source": [
    "print(schema_raw[\"YearsCode\"])"
   ]
  },
  {
   "cell_type": "markdown",
   "id": "ce8ce348-5a94-4187-8187-bb620a0535fc",
   "metadata": {},
   "source": [
    "# 연습문제 1\n",
    "해당 column이 NaN 값을 얼마나 갖는지 확인하기 위한 함수 만들기  \n",
    "- Series를 인자로 갖는 count_nan 함수를 만들기  \n",
    "- 이 함수는 인자로 전달된 series의 NaN 개수를 반환  "
   ]
  },
  {
   "cell_type": "code",
   "execution_count": 186,
   "id": "4cc13f00-2866-4860-a204-9046bb6bbd74",
   "metadata": {},
   "outputs": [],
   "source": [
    "def count_nan(series):\n",
    "    return series.isnull().sum()"
   ]
  },
  {
   "cell_type": "code",
   "execution_count": 187,
   "id": "80478bda-a991-472a-aa83-17727fa861f3",
   "metadata": {},
   "outputs": [
    {
     "data": {
      "text/plain": [
       "Country                    1497\n",
       "Age                        2322\n",
       "Gender                     2415\n",
       "EdLevel                    1697\n",
       "YearsCode                  1937\n",
       "YearsCodePro              21435\n",
       "LanguageHaveWorkedWith     2293\n",
       "LanguageWantToWorkWith     6241\n",
       "LearnCodeCoursesCert      43879\n",
       "ProfessionalTech          38362\n",
       "SOAccount                  1696\n",
       "Employment                 1559\n",
       "DevType                   11966\n",
       "WorkExp                   36499\n",
       "dtype: int64"
      ]
     },
     "execution_count": 187,
     "metadata": {},
     "output_type": "execute_result"
    }
   ],
   "source": [
    "count_nan(survey_df)"
   ]
  },
  {
   "cell_type": "code",
   "execution_count": 188,
   "id": "09c436ff-7cbc-4d91-a129-f6083a46f66f",
   "metadata": {},
   "outputs": [],
   "source": [
    "def count_nan_2(series):\n",
    "    return len(series) - series.count()"
   ]
  },
  {
   "cell_type": "code",
   "execution_count": 189,
   "id": "b9ffdcbc-7538-456d-8737-2a120de8a4cf",
   "metadata": {},
   "outputs": [
    {
     "data": {
      "text/plain": [
       "Country                    1497\n",
       "Age                        2322\n",
       "Gender                     2415\n",
       "EdLevel                    1697\n",
       "YearsCode                  1937\n",
       "YearsCodePro              21435\n",
       "LanguageHaveWorkedWith     2293\n",
       "LanguageWantToWorkWith     6241\n",
       "LearnCodeCoursesCert      43879\n",
       "ProfessionalTech          38362\n",
       "SOAccount                  1696\n",
       "Employment                 1559\n",
       "DevType                   11966\n",
       "WorkExp                   36499\n",
       "dtype: int64"
      ]
     },
     "execution_count": 189,
     "metadata": {},
     "output_type": "execute_result"
    }
   ],
   "source": [
    "count_nan_2(survey_df) # 함수 호출하기"
   ]
  },
  {
   "cell_type": "markdown",
   "id": "62c2743c-a52e-47fc-8863-aa9191e390ea",
   "metadata": {},
   "source": [
    "# 연습문제 2\n",
    "YearsCode의 'Less than 1 year'의 값은 0으로 변경하고 'More than 50 years'의 값은 51로 일괄적으로 변경하기  \n",
    "또 dtype을 float로 변경하고 이를 survey_df[\"YearsCode\"]에 적용해보기  \n",
    "  \n",
    "- 아래의 Series의 메서드를 활용하기  \n",
    "- 힌트 : replac(변경 전 값, 변경 후 값, inplace=True)"
   ]
  },
  {
   "cell_type": "code",
   "execution_count": 190,
   "id": "659cec5a-a6b7-4426-a2e5-1b506f17ed21",
   "metadata": {},
   "outputs": [
    {
     "data": {
      "text/plain": [
       "ResponseId\n",
       "1         NaN\n",
       "2         NaN\n",
       "3        14.0\n",
       "4        20.0\n",
       "5         8.0\n",
       "         ... \n",
       "73264     8.0\n",
       "73265     6.0\n",
       "73266    42.0\n",
       "73267    50.0\n",
       "73268    16.0\n",
       "Name: YearsCode, Length: 73268, dtype: float64"
      ]
     },
     "execution_count": 190,
     "metadata": {},
     "output_type": "execute_result"
    }
   ],
   "source": [
    "survey_df[\"YearsCode\"].replace(['Less than 1 year', 'More than 50 years'], [0, 51], inplace=True) #값 변경하기 \n",
    "survey_df[\"YearsCode\"] = survey_df[\"YearsCode\"].astype(float) \n",
    "survey_df[\"YearsCode\"]"
   ]
  },
  {
   "cell_type": "markdown",
   "id": "3fdb3e7f-15d3-4465-b284-402d16f31bb9",
   "metadata": {},
   "source": [
    "YearsCode와 비슷한 YearsCodePro에 대해 살펴보자  \n",
    "이 column은 교육 기간을 포함하지 않는다는 차이점만 찾는 것을 확인가능  \n",
    "YearsCode보다 결측치가 많음  "
   ]
  },
  {
   "cell_type": "code",
   "execution_count": 191,
   "id": "5e1ef100-0a7e-4b70-8d6e-3e7f17983c28",
   "metadata": {},
   "outputs": [
    {
     "name": "stdout",
     "output_type": "stream",
     "text": [
      "NOT including education, how many years have you coded professionally (as a part of your work)?\n"
     ]
    }
   ],
   "source": [
    "print(schema_raw[\"YearsCodePro\"])"
   ]
  },
  {
   "cell_type": "markdown",
   "id": "2d1d7e63-c4c8-4b7d-ad2e-700099f6081e",
   "metadata": {},
   "source": [
    "# 연습문제  \n",
    "YearsCodepro의 'Less than 1 year'의 값은 0으로 변경하고 'More than 50 years'의 값은 51로 일괄적으로 변경하기\n",
    "또 dtype을 float로 변경하고 이를 survey_df[\"YearsCode\"]에 적용해보기"
   ]
  },
  {
   "cell_type": "code",
   "execution_count": 192,
   "id": "fdf80b57-7a8f-49a1-9bee-58d425b0a015",
   "metadata": {},
   "outputs": [
    {
     "data": {
      "text/plain": [
       "ResponseId\n",
       "1         NaN\n",
       "2         NaN\n",
       "3         5.0\n",
       "4        17.0\n",
       "5         3.0\n",
       "         ... \n",
       "73264     5.0\n",
       "73265     5.0\n",
       "73266    33.0\n",
       "73267    31.0\n",
       "73268     5.0\n",
       "Name: YearsCodePro, Length: 73268, dtype: float64"
      ]
     },
     "execution_count": 192,
     "metadata": {},
     "output_type": "execute_result"
    }
   ],
   "source": [
    "survey_df[\"YearsCodePro\"].replace(['Less than 1 year', 'More than 50 years'], [0, 51], inplace=True) #값 변경하기 \n",
    "survey_df[\"YearsCodePro\"] = survey_df[\"YearsCodePro\"].astype(float) \n",
    "survey_df[\"YearsCodePro\"]"
   ]
  },
  {
   "cell_type": "markdown",
   "id": "ebd8b94e-8e3e-4cde-8edb-6c9c268931fd",
   "metadata": {},
   "source": [
    "Survey  \n",
    "이제 YearsCode, YearsC odePro, WorKEXp라는 column들에 대한 통계 요약을 확인 가능  \n",
    "surey_df. describel()를 통해 값의 분포를 확인  \n",
    "범위마다 표현되는 값이 정수이다 보니 데이터 값이 정수 값을 갖는 것을 짐작가능"
   ]
  },
  {
   "cell_type": "code",
   "execution_count": 193,
   "id": "6eb29586-77a9-424c-8f44-88d2af2a0256",
   "metadata": {},
   "outputs": [
    {
     "data": {
      "text/html": [
       "<div>\n",
       "<style scoped>\n",
       "    .dataframe tbody tr th:only-of-type {\n",
       "        vertical-align: middle;\n",
       "    }\n",
       "\n",
       "    .dataframe tbody tr th {\n",
       "        vertical-align: top;\n",
       "    }\n",
       "\n",
       "    .dataframe thead th {\n",
       "        text-align: right;\n",
       "    }\n",
       "</style>\n",
       "<table border=\"1\" class=\"dataframe\">\n",
       "  <thead>\n",
       "    <tr style=\"text-align: right;\">\n",
       "      <th></th>\n",
       "      <th>YearsCode</th>\n",
       "      <th>YearsCodePro</th>\n",
       "      <th>WorkExp</th>\n",
       "    </tr>\n",
       "  </thead>\n",
       "  <tbody>\n",
       "    <tr>\n",
       "      <th>count</th>\n",
       "      <td>71331.000000</td>\n",
       "      <td>51833.000000</td>\n",
       "      <td>36769.000000</td>\n",
       "    </tr>\n",
       "    <tr>\n",
       "      <th>mean</th>\n",
       "      <td>12.251307</td>\n",
       "      <td>9.910270</td>\n",
       "      <td>10.242378</td>\n",
       "    </tr>\n",
       "    <tr>\n",
       "      <th>std</th>\n",
       "      <td>9.952419</td>\n",
       "      <td>8.712048</td>\n",
       "      <td>8.706850</td>\n",
       "    </tr>\n",
       "    <tr>\n",
       "      <th>min</th>\n",
       "      <td>0.000000</td>\n",
       "      <td>0.000000</td>\n",
       "      <td>0.000000</td>\n",
       "    </tr>\n",
       "    <tr>\n",
       "      <th>25%</th>\n",
       "      <td>5.000000</td>\n",
       "      <td>4.000000</td>\n",
       "      <td>4.000000</td>\n",
       "    </tr>\n",
       "    <tr>\n",
       "      <th>50%</th>\n",
       "      <td>9.000000</td>\n",
       "      <td>7.000000</td>\n",
       "      <td>8.000000</td>\n",
       "    </tr>\n",
       "    <tr>\n",
       "      <th>75%</th>\n",
       "      <td>16.000000</td>\n",
       "      <td>14.000000</td>\n",
       "      <td>15.000000</td>\n",
       "    </tr>\n",
       "    <tr>\n",
       "      <th>max</th>\n",
       "      <td>51.000000</td>\n",
       "      <td>51.000000</td>\n",
       "      <td>50.000000</td>\n",
       "    </tr>\n",
       "  </tbody>\n",
       "</table>\n",
       "</div>"
      ],
      "text/plain": [
       "          YearsCode  YearsCodePro       WorkExp\n",
       "count  71331.000000  51833.000000  36769.000000\n",
       "mean      12.251307      9.910270     10.242378\n",
       "std        9.952419      8.712048      8.706850\n",
       "min        0.000000      0.000000      0.000000\n",
       "25%        5.000000      4.000000      4.000000\n",
       "50%        9.000000      7.000000      8.000000\n",
       "75%       16.000000     14.000000     15.000000\n",
       "max       51.000000     51.000000     50.000000"
      ]
     },
     "execution_count": 193,
     "metadata": {},
     "output_type": "execute_result"
    }
   ],
   "source": [
    "survey_df.describe()"
   ]
  },
  {
   "cell_type": "markdown",
   "id": "1bc853b7-12e1-4967-8fa8-08a18cc36dd7",
   "metadata": {},
   "source": [
    "만약 YearsCode, YearsCodePro 에 대한 값 중 \"Less than 1 year\", \"More than 50 years\"의 값을 NaN으로 처리하면서 수치 자료형으로 바꾼다면 to_numeric()메서드 사용 가능  "
   ]
  },
  {
   "cell_type": "code",
   "execution_count": 194,
   "id": "c134ad81-caca-437e-9edd-f0628cf5f4cf",
   "metadata": {},
   "outputs": [],
   "source": [
    "survey_df['YearsCode'] = pd.to_numeric(survey_df.YearsCode, errors = 'coerce')\n",
    "survey_df['YearsCodePro'] = pd.to_numeric(survey_df.YearsCodePro, errors = 'coerce')"
   ]
  },
  {
   "cell_type": "markdown",
   "id": "89d5cce3-ad58-4117-b0e9-cc241fadb579",
   "metadata": {},
   "source": [
    "Gender, 성별에 대한 column이다  \n",
    "여러가지 옵션을 선택할 수 있도록 되어있는 항목  \n",
    "그 값들의 유니크한 목록을 뽑아보면 예상 외로 다양한 값이 존재 가능  \n",
    "여기서는 둘 이상의 옵션이 포함된 값을 배제하고 데이터 다루기  "
   ]
  },
  {
   "cell_type": "code",
   "execution_count": 195,
   "id": "e663e204-1fc1-4ae7-9e5e-c75a4d8d3bc4",
   "metadata": {},
   "outputs": [
    {
     "data": {
      "text/plain": [
       "'Which of the following describe you, if any? Please check all that apply.'"
      ]
     },
     "execution_count": 195,
     "metadata": {},
     "output_type": "execute_result"
    }
   ],
   "source": [
    "schema_raw[\"Gender\"]"
   ]
  },
  {
   "cell_type": "code",
   "execution_count": 196,
   "id": "5c7365dc-4467-41e5-8b06-da92a01acf9f",
   "metadata": {},
   "outputs": [
    {
     "data": {
      "text/plain": [
       "Man                                                                                   64607\n",
       "Woman                                                                                  3399\n",
       "Prefer not to say                                                                      1172\n",
       "Non-binary, genderqueer, or gender non-conforming                                       704\n",
       "Or, in your own words:                                                                  279\n",
       "Man;Non-binary, genderqueer, or gender non-conforming                                   235\n",
       "Man;Or, in your own words:                                                              171\n",
       "Woman;Non-binary, genderqueer, or gender non-conforming                                 160\n",
       "Man;Woman;Non-binary, genderqueer, or gender non-conforming                              31\n",
       "Man;Woman                                                                                24\n",
       "Man;Or, in your own words:;Woman;Non-binary, genderqueer, or gender non-conforming       18\n",
       "Or, in your own words:;Woman;Non-binary, genderqueer, or gender non-conforming           15\n",
       "Or, in your own words:;Non-binary, genderqueer, or gender non-conforming                 14\n",
       "Or, in your own words:;Woman                                                             13\n",
       "Man;Or, in your own words:;Non-binary, genderqueer, or gender non-conforming              9\n",
       "Man;Or, in your own words:;Woman                                                          2\n",
       "Name: Gender, dtype: int64"
      ]
     },
     "execution_count": 196,
     "metadata": {},
     "output_type": "execute_result"
    }
   ],
   "source": [
    "survey_df[\"Gender\"].value_counts()"
   ]
  },
  {
   "cell_type": "markdown",
   "id": "da34f4d6-6d4f-4110-908e-c5658c8ee34d",
   "metadata": {},
   "source": [
    "## contains()\n",
    "\n",
    "np.nan 값이 섞인 Series 자료형에 대해 특정 문자 값이 포함되었는지 사용할 수 있는 메서드로 contains()가 있다  \n",
    "첫 인자로 포함된 것을 찾을 문자열을 넣어준다   \n",
    "na 키워드 인수를 활용하면 NaN값을 대신할 값 삽입 가능  "
   ]
  },
  {
   "cell_type": "markdown",
   "id": "d51a4968-d377-4401-a7f3-df24477983bc",
   "metadata": {},
   "source": [
    "앞의 두 메서드를 활용하면 ';'를 포함하는 row를 NaN 값으로 변경 가능  \n",
    "'~'은 비트 연산자로 Series 자료형의 벡터화 연산을 위해 True를 False로 False는 True로 반전해주는 역할  "
   ]
  },
  {
   "cell_type": "markdown",
   "id": "94a63f13-fa42-4481-b247-c66286d7f686",
   "metadata": {},
   "source": [
    "```python\n",
    "DataFrame.where(cond, other=_NoDeFault.no_default, *, inplace=False, axis=None,\n",
    "               errors='raise', try_cast = _NoDeFault.no_default)\n",
    "```"
   ]
  },
  {
   "cell_type": "code",
   "execution_count": 197,
   "id": "db063aca-99db-4736-9b7f-ed70244b0583",
   "metadata": {},
   "outputs": [
    {
     "data": {
      "text/plain": [
       "Man                                                                                   64607\n",
       "Woman                                                                                  3399\n",
       "Prefer not to say                                                                      1172\n",
       "Non-binary, genderqueer, or gender non-conforming                                       704\n",
       "Or, in your own words:                                                                  279\n",
       "Man;Non-binary, genderqueer, or gender non-conforming                                   235\n",
       "Man;Or, in your own words:                                                              171\n",
       "Woman;Non-binary, genderqueer, or gender non-conforming                                 160\n",
       "Man;Woman;Non-binary, genderqueer, or gender non-conforming                              31\n",
       "Man;Woman                                                                                24\n",
       "Man;Or, in your own words:;Woman;Non-binary, genderqueer, or gender non-conforming       18\n",
       "Or, in your own words:;Woman;Non-binary, genderqueer, or gender non-conforming           15\n",
       "Or, in your own words:;Non-binary, genderqueer, or gender non-conforming                 14\n",
       "Or, in your own words:;Woman                                                             13\n",
       "Man;Or, in your own words:;Non-binary, genderqueer, or gender non-conforming              9\n",
       "Man;Or, in your own words:;Woman                                                          2\n",
       "Name: Gender, dtype: int64"
      ]
     },
     "execution_count": 197,
     "metadata": {},
     "output_type": "execute_result"
    }
   ],
   "source": [
    "survey_df[\"Gender\"].value_counts()"
   ]
  },
  {
   "cell_type": "code",
   "execution_count": 198,
   "id": "9fb86a76-9e9f-44a5-b2a5-3c817e245cea",
   "metadata": {},
   "outputs": [],
   "source": [
    "survey_df.where(~(survey_df[\"Gender\"].str.contains(\";\", na=False)), np.nan, inplace=True)\n",
    "# where : 특정 열을 변경\n",
    "# where은 False값을 가질떄 (';'을 가지고 있을 때) 만 대체 가능하기 떄문에 cond값의 True 값을 False값으로 변경해야함 "
   ]
  },
  {
   "cell_type": "markdown",
   "id": "0fa09365-5ded-445b-8afc-b899c1336a11",
   "metadata": {},
   "source": [
    "변환 후 성별로 1개의 값만 선택한 선택지만 남은 것을 확인 가능"
   ]
  },
  {
   "cell_type": "code",
   "execution_count": 199,
   "id": "8f3f9e02-bf19-4166-8c7e-8d444cdbeb51",
   "metadata": {},
   "outputs": [
    {
     "data": {
      "text/plain": [
       "Man                                                  64607\n",
       "Woman                                                 3399\n",
       "Prefer not to say                                     1172\n",
       "Non-binary, genderqueer, or gender non-conforming      704\n",
       "Or, in your own words:                                 279\n",
       "Name: Gender, dtype: int64"
      ]
     },
     "execution_count": 199,
     "metadata": {},
     "output_type": "execute_result"
    }
   ],
   "source": [
    "survey_df[\"Gender\"].value_counts()"
   ]
  },
  {
   "cell_type": "markdown",
   "id": "9515fef1-ec6d-4d89-b707-7e219284a21c",
   "metadata": {},
   "source": [
    "## 데이터 시각화 하기  \n",
    "%matplotlib inline 매직 명령어를 통해서 주피터 내의 그래프가 잘 출력 되도록 설정하기  "
   ]
  },
  {
   "cell_type": "code",
   "execution_count": 201,
   "id": "e2ceff31-e625-4db4-a4ec-6acab12ac2c3",
   "metadata": {},
   "outputs": [],
   "source": [
    "%matplotlib inline\n",
    "\n",
    "sns.set_style('darkgrid')\n",
    "mpl.rcParams['font.size'] = 14\n",
    "mpl.rcParams['figure.figsize'] = (9, 5)\n",
    "mpl.rcParams['figure.facecolor'] = '#00000000'"
   ]
  },
  {
   "cell_type": "markdown",
   "id": "77df040e-0a38-4a3a-9a0a-3084af0a36a7",
   "metadata": {},
   "source": [
    "#### set_style()메서드를 통해 그림의 스타일 일괄 적용하기    \n",
    "rcParams 값도 필요에 따라 지정\n",
    "- font.size : 기본 폰트의 크기 적용  \n",
    "- figure.figsize : 기본 figure의 사이즈를 적용  \n",
    "- figure.facecolor : 기본 figure 내 배경 색상을 흰색(#000000)으로 적용"
   ]
  },
  {
   "cell_type": "code",
   "execution_count": 204,
   "id": "62569004-6ad5-4b27-93c0-056912f543c0",
   "metadata": {},
   "outputs": [
    {
     "name": "stdout",
     "output_type": "stream",
     "text": [
      "Nanum JungHagSaeng\n",
      "Hi Melody\n"
     ]
    }
   ],
   "source": [
    "import matplotlib.font_manager as font_manager\n",
    "import matplotlib as mpl\n",
    "# Add every font at the specified location\n",
    "font_dir = ['C:/python/fonts']\n",
    "for font in font_manager.findSystemFonts(fontpaths=font_dir):\n",
    "    print(mpl.font_manager.FontProperties(fname=font).get_name())\n",
    "    font_manager.fontManager.addfont(font)"
   ]
  },
  {
   "cell_type": "code",
   "execution_count": 206,
   "id": "7d480917-ff20-4afd-bf67-ea7e15fec403",
   "metadata": {},
   "outputs": [
    {
     "name": "stdout",
     "output_type": "stream",
     "text": [
      "['Hi Melody']\n"
     ]
    }
   ],
   "source": [
    "# Set font family globally\n",
    "mpl.rcParams['font.family'] = 'Hi Melody'\n",
    "print(mpl.rcParams['font.family'])"
   ]
  },
  {
   "cell_type": "markdown",
   "id": "aa54ff1b-a55b-431d-84e2-2470921efbad",
   "metadata": {},
   "source": [
    "### 폰트에 대한 적용하기  \n",
    "기본 폰트 적용은 rcparams 설정으로 가능  \n",
    "- font.family : 기본 폰트 종류 적용  \n",
    "- axes.unicode_minus:False로 설정 시 마이너스 기호를 ASCII로 함 "
   ]
  },
  {
   "cell_type": "code",
   "execution_count": 207,
   "id": "a3e5459b-64d1-4ea7-8e1e-dcb5c896ba22",
   "metadata": {},
   "outputs": [],
   "source": [
    "mpl.rcParams['font.family'] = 'Hi Melody'\n",
    "mpl.rcParams['axes.unicode_minus'] = False"
   ]
  },
  {
   "cell_type": "markdown",
   "id": "aee7d3e9-62e9-4d2a-8630-5ad7ebba38ce",
   "metadata": {},
   "source": [
    "country 컬럼에 대한 정보를 확인하기  "
   ]
  },
  {
   "cell_type": "code",
   "execution_count": 208,
   "id": "c00cdf2b-7b16-4ee2-99ca-0beeb6a2342f",
   "metadata": {},
   "outputs": [
    {
     "data": {
      "text/plain": [
       "'Where do you live? <span style=\"font-weight: bolder;\">*</span>'"
      ]
     },
     "execution_count": 208,
     "metadata": {},
     "output_type": "execute_result"
    }
   ],
   "source": [
    "schema_raw['Country']"
   ]
  },
  {
   "cell_type": "code",
   "execution_count": 209,
   "id": "ce82f115-cb99-41af-93e8-49451ca1b5c6",
   "metadata": {},
   "outputs": [
    {
     "data": {
      "text/plain": [
       "array([nan, 'Canada',\n",
       "       'United Kingdom of Great Britain and Northern Ireland', 'Israel',\n",
       "       'United States of America', 'Germany', 'India', 'Netherlands',\n",
       "       'Croatia', 'Australia', 'Russian Federation', 'Czech Republic',\n",
       "       'Austria', 'Serbia', 'Italy', 'Ireland', 'Poland', 'Slovenia',\n",
       "       'Iraq', 'Sweden', 'Madagascar', 'Norway', 'Taiwan',\n",
       "       'Hong Kong (S.A.R.)', 'Mexico', 'France', 'Brazil', 'Lithuania',\n",
       "       'Uruguay', 'Denmark', 'Spain', 'Egypt', 'Turkey', 'South Africa',\n",
       "       'Ukraine', 'Finland', 'Romania', 'Portugal', 'Singapore', 'Oman',\n",
       "       'Belgium', 'Chile', 'Bulgaria', 'Latvia', 'Philippines', 'Greece',\n",
       "       'Belarus', 'Saudi Arabia', 'Kenya', 'Switzerland', 'Iceland',\n",
       "       'Viet Nam', 'Thailand', 'China', 'Montenegro', 'Slovakia', 'Japan',\n",
       "       'Luxembourg', 'Turkmenistan', 'Argentina', 'Hungary', 'Tunisia',\n",
       "       'Bangladesh', 'Maldives', 'Dominican Republic', 'Jordan',\n",
       "       'Pakistan', 'Nepal', 'Iran, Islamic Republic of...', 'Indonesia',\n",
       "       'Ecuador', 'Bosnia and Herzegovina', 'Armenia', 'Colombia',\n",
       "       'Kazakhstan', 'South Korea', 'Costa Rica', 'Honduras', 'Mauritius',\n",
       "       'Estonia', 'Algeria', 'Trinidad and Tobago', 'Mali', 'Morocco',\n",
       "       'Swaziland', 'New Zealand',\n",
       "       'The former Yugoslav Republic of Macedonia', 'Afghanistan',\n",
       "       'Cyprus', 'United Arab Emirates', 'Peru', 'Uzbekistan', 'Ethiopia',\n",
       "       'Bahrain', 'Malta', 'Nicaragua', 'Andorra', 'Republic of Korea',\n",
       "       'Lebanon', 'Belize', 'Zambia', 'Bolivia', 'Malaysia', 'Sri Lanka',\n",
       "       \"Lao People's Democratic Republic\", 'Guatemala', 'Azerbaijan',\n",
       "       'Suriname', 'El Salvador', 'Syrian Arab Republic', 'Qatar',\n",
       "       'Nigeria', 'Kyrgyzstan', 'Zimbabwe', 'Rwanda', 'Georgia',\n",
       "       'Cambodia', 'Malawi', 'Yemen', 'Fiji', 'Nomadic', 'Uganda',\n",
       "       'Albania', 'Timor-Leste', 'Mongolia', 'Republic of Moldova',\n",
       "       'Tajikistan', 'Ghana', 'United Republic of Tanzania', 'Myanmar',\n",
       "       'Kuwait', 'Cameroon', 'Kosovo', 'Jamaica', 'Benin', 'Botswana',\n",
       "       'Niger', 'Palestine', 'Cape Verde', 'Libyan Arab Jamahiriya',\n",
       "       'Venezuela, Bolivarian Republic of...', 'Senegal', 'Cuba', 'Togo',\n",
       "       'Angola', 'Isle of Man', 'Panama', 'Bahamas', 'Paraguay', 'Sudan',\n",
       "       'Liberia', 'Bhutan', 'Democratic Republic of the Congo',\n",
       "       \"Côte d'Ivoire\", 'Barbados', 'Congo, Republic of the...',\n",
       "       'Namibia', 'Sierra Leone', 'Mozambique', 'Lesotho', 'Chad',\n",
       "       'North Korea', 'Antigua and Barbuda', 'Papua New Guinea', 'Palau',\n",
       "       'Somalia', 'Guinea', 'Haiti', 'Gabon', 'Mauritania', 'San Marino',\n",
       "       'Guyana', 'Saint Lucia', 'Burkina Faso', 'Brunei Darussalam',\n",
       "       'Gambia', 'Monaco', 'Djibouti', 'Seychelles', 'Solomon Islands',\n",
       "       'Saint Kitts and Nevis'], dtype=object)"
      ]
     },
     "execution_count": 209,
     "metadata": {},
     "output_type": "execute_result"
    }
   ],
   "source": [
    "survey_df[\"Country\"].unique()"
   ]
  },
  {
   "cell_type": "markdown",
   "id": "269b8ca0-6b1f-4a0c-800a-87b2b282e255",
   "metadata": {},
   "source": [
    "### Country에 대한 유일한 값의 개수 확인하기  \n",
    "NaN값은 count에 포함 X"
   ]
  },
  {
   "cell_type": "code",
   "execution_count": 210,
   "id": "eb44e26b-f57a-4ff0-8253-6c8b38b71eae",
   "metadata": {},
   "outputs": [
    {
     "data": {
      "text/plain": [
       "180"
      ]
     },
     "execution_count": 210,
     "metadata": {},
     "output_type": "execute_result"
    }
   ],
   "source": [
    "# .unique 앞에 n 추가 하면 개수 구해줌 \n",
    "survey_df[\"Country\"].nunique()"
   ]
  },
  {
   "cell_type": "markdown",
   "id": "9ba06f0f-b543-46a4-b93f-417418331b91",
   "metadata": {},
   "source": [
    "# 연습문제  \n",
    "설문 응답자가 속한 국가 중 응답자 수 상위 15개 국가를 아래와 같이 구하기"
   ]
  },
  {
   "cell_type": "code",
   "execution_count": 234,
   "id": "0f90ff2b-d814-4781-adf5-e0432ee58b9b",
   "metadata": {},
   "outputs": [],
   "source": [
    "country = survey_df[\"Country\"].value_counts().head(15) \n"
   ]
  },
  {
   "cell_type": "markdown",
   "id": "4f77ced7-df06-4e44-a788-bc4640725ce9",
   "metadata": {},
   "source": [
    "# 연습문제 2  \n",
    "  \n",
    "1번 값을 가지고 차트 작성하기    \n",
    "- xticks의 글자를 회전시키려면 rotation 키워드 인수에 각도를 의미하는 정수 값 입력하기  "
   ]
  },
  {
   "cell_type": "code",
   "execution_count": 252,
   "id": "07add2b3-7df1-4fd8-b5c1-a0f06e7e39a3",
   "metadata": {},
   "outputs": [
    {
     "data": {
      "image/png": "[encoded data removed]",
      "text/plain": [
       "<Figure size 1200x600 with 1 Axes>"
      ]
     },
     "metadata": {
      "needs_background": "light"
     },
     "output_type": "display_data"
    }
   ],
   "source": [
    "plt.figure(figsize=(12, 6)) # figure 사이즈를 12 X 6으로 설정\n",
    "plt.title(\"응답자의 지역\")\n",
    "sns.barplot(x = country.index, y = country )\n",
    "plt.xticks(rotation=90) # 90도로 회전시키기\n",
    "plt.ylabel(\"응답자의 수\")\n",
    "plt.show()"
   ]
  },
  {
   "cell_type": "markdown",
   "id": "69b35da6-efc9-4966-b7d6-af145dba3914",
   "metadata": {},
   "source": [
    "Stack Overflow Annual Deverope Survey 가 영어로 진행되고, 또 이들 국가의 영어 사용 인구가 가장 많기 떄문에 응답자의 인구가 미국과 인도가 불균형으로 높음   \n",
    "비영어권 국가의 프로그래머 응답자 수가 부족 "
   ]
  },
  {
   "cell_type": "code",
   "execution_count": 253,
   "id": "d9d8153d-8bf0-4709-86a4-1662700058b8",
   "metadata": {},
   "outputs": [
    {
     "data": {
      "text/plain": [
       "3011"
      ]
     },
     "execution_count": 253,
     "metadata": {},
     "output_type": "execute_result"
    }
   ],
   "source": [
    "count_nan(survey_df['Age'])"
   ]
  },
  {
   "cell_type": "markdown",
   "id": "a2594ec9-43a5-4ead-8f2b-3dd7e840a25b",
   "metadata": {},
   "source": [
    "### 연령 데이터 확인하기  "
   ]
  },
  {
   "cell_type": "code",
   "execution_count": 262,
   "id": "7ea78e4d-6abe-43a9-a30a-bdeb7fcfe018",
   "metadata": {},
   "outputs": [
    {
     "data": {
      "text/plain": [
       "25-34 years old       27878\n",
       "18-24 years old       16455\n",
       "35-44 years old       13866\n",
       "45-54 years old        5250\n",
       "Under 18 years old     3775\n",
       "55-64 years old        1974\n",
       "65 years or older       547\n",
       "Prefer not to say       512\n",
       "Name: Age, dtype: int64"
      ]
     },
     "execution_count": 262,
     "metadata": {},
     "output_type": "execute_result"
    }
   ],
   "source": [
    "age_counts = survey_df['Age'].value_counts()\n",
    "age_counts "
   ]
  },
  {
   "cell_type": "markdown",
   "id": "b656c807-5c09-4791-93f4-feaba279e351",
   "metadata": {},
   "source": [
    "8개의 범주로 나뉘고 있음을 확인  "
   ]
  },
  {
   "cell_type": "code",
   "execution_count": 256,
   "id": "1cd0dee7-3eeb-4fa1-a071-b9f01502449b",
   "metadata": {},
   "outputs": [
    {
     "data": {
      "text/plain": [
       "8"
      ]
     },
     "execution_count": 256,
     "metadata": {},
     "output_type": "execute_result"
    }
   ],
   "source": [
    "survey_df['Age'].nunique()"
   ]
  },
  {
   "cell_type": "markdown",
   "id": "88fc3a9f-8826-4946-8ee3-a6c7f1766518",
   "metadata": {},
   "source": [
    "# 연습 문제  \n",
    "연령의 분포가 한눈에 들어오도록 아래와 같이 그래프를 출력하기  \n",
    "x축의 출력하는 데이터의 순서도 고려하여 작성하기  "
   ]
  },
  {
   "cell_type": "code",
   "execution_count": 270,
   "id": "be60da3c-3283-474b-a08c-273f9f49b8af",
   "metadata": {},
   "outputs": [
    {
     "data": {
      "image/png": "[encoded data removed]",
      "text/plain": [
       "<Figure size 1200x600 with 1 Axes>"
      ]
     },
     "metadata": {
      "needs_background": "light"
     },
     "output_type": "display_data"
    }
   ],
   "source": [
    "plt.figure(figsize=(12, 6)) # figure 사이즈를 12 X 6으로 설정\n",
    "plt.title(\"What is your age?\")\n",
    "sns.barplot(x = age_counts.index, y = age_counts , order = ['Under 18 years old', '18-24 years old', '25-34 years old', '35-44 years old', '45-54 years old', '55-64 years old', '65 years or older', 'Prefer not to say'])\n",
    "plt.xticks(rotation=90) # 90도로 회전시키기\n",
    "plt.ylabel(\"응답자의 수\")\n",
    "plt.show()"
   ]
  },
  {
   "cell_type": "code",
   "execution_count": 273,
   "id": "0a623d70-e703-452e-839a-cd582e39b8cf",
   "metadata": {},
   "outputs": [
    {
     "data": {
      "image/png": "[encoded data removed]",
      "text/plain": [
       "<Figure size 1200x600 with 1 Axes>"
      ]
     },
     "metadata": {
      "needs_background": "light"
     },
     "output_type": "display_data"
    }
   ],
   "source": [
    "plt.figure(figsize=(12, 6)) # figure 사이즈를 12 X 6으로 설정\n",
    "plt.title(schema_raw[\"Age\"])\n",
    "sns.countplot(data=survey_df, x='Age', order = ['Under 18 years old', '18-24 years old', '25-34 years old', '35-44 years old', '45-54 years old', '55-64 years old', '65 years or older', 'Prefer not to say'])\n",
    "plt.xticks(rotation=90) # 90도로 회전시키기\n",
    "plt.xlabel(\"나이\")\n",
    "plt.ylabel(\"응답자의 수\")\n",
    "plt.show()"
   ]
  },
  {
   "cell_type": "markdown",
   "id": "6b416aa0-7e57-45b6-b9ce-47010b3d8140",
   "metadata": {},
   "source": [
    "# 연습문제 3"
   ]
  },
  {
   "cell_type": "code",
   "execution_count": 305,
   "id": "804022c6-0bea-4cf8-beb2-38a185fb9787",
   "metadata": {},
   "outputs": [
    {
     "data": {
      "image/png": "[encoded data removed]",
      "text/plain": [
       "<Figure size 900x500 with 1 Axes>"
      ]
     },
     "metadata": {},
     "output_type": "display_data"
    }
   ],
   "source": [
    "import matplotlib.pyplot as plt\n",
    "labels = survey_df[\"Gender\"].value_counts().index\n",
    "sizes = survey_df[\"Gender\"].value_counts().values\n",
    "plt.title(\"Which of the following describe you, if any? Please check all that apply\")\n",
    "plt.pie(sizes, labels=labels, \n",
    "       autopct='%1.1f%%', startangle=180)\n",
    "plt.axis('equal') #원의 형태를 유지\n",
    "plt.show()"
   ]
  },
  {
   "cell_type": "code",
   "execution_count": null,
   "id": "3753d0f4-37d9-42e3-a981-46e43825cfce",
   "metadata": {},
   "outputs": [
    {
     "data": {
      "text/plain": [
       "array([64607,  3399,  1172,   704,   279], dtype=int64)"
      ]
     },
     "execution_count": 287,
     "metadata": {},
     "output_type": "execute_result"
    }
   ],
   "source": [
    " survey_df[\"Gender\"].value_counts().values"
   ]
  },
  {
   "cell_type": "code",
   "execution_count": null,
   "id": "9466a1e6-d5f3-44d2-bc12-99ca2a5dd386",
   "metadata": {},
   "outputs": [
    {
     "data": {
      "text/plain": [
       "Index(['Man', 'Woman', 'Prefer not to say',\n",
       "       'Non-binary, genderqueer, or gender non-conforming',\n",
       "       'Or, in your own words:'],\n",
       "      dtype='object')"
      ]
     },
     "execution_count": 285,
     "metadata": {},
     "output_type": "execute_result"
    }
   ],
   "source": [
    " survey_df[\"Gender\"].value_counts().index"
   ]
  },
  {
   "cell_type": "markdown",
   "id": "86048562-b4b4-4ab6-b06b-7eab4f0ce4ba",
   "metadata": {},
   "source": [
    "#### 응답자의 교육 수준에 대한 설문도 존재하기에 그에 대한 내용을 확인하기  "
   ]
  },
  {
   "cell_type": "code",
   "execution_count": 306,
   "id": "d020bb73-11af-4a66-9ba5-6c197c048fdf",
   "metadata": {},
   "outputs": [
    {
     "data": {
      "text/plain": [
       "'Which of the following best describes the highest level of formal education that you’ve completed? *'"
      ]
     },
     "execution_count": 306,
     "metadata": {},
     "output_type": "execute_result"
    }
   ],
   "source": [
    "schema_raw[\"EdLecountvel\"]"
   ]
  },
  {
   "cell_type": "code",
   "execution_count": 309,
   "id": "befd0f47-ef35-4e44-adfc-35ec2c2dda09",
   "metadata": {},
   "outputs": [
    {
     "data": {
      "text/plain": [
       "Bachelor’s degree (B.A., B.S., B.Eng., etc.)                                          30050\n",
       "Master’s degree (M.A., M.S., M.Eng., MBA, etc.)                                       15394\n",
       "Some college/university study without earning a degree                                 9194\n",
       "Secondary school (e.g. American high school, German Realschule or Gymnasium, etc.)     7769\n",
       "Associate degree (A.A., A.S., etc.)                                                    2221\n",
       "Other doctoral degree (Ph.D., Ed.D., etc.)                                             2152\n",
       "Primary/elementary school                                                              1767\n",
       "Something else                                                                         1222\n",
       "Professional degree (JD, MD, etc.)                                                     1110\n",
       "Name: EdLevel, dtype: int64"
      ]
     },
     "execution_count": 309,
     "metadata": {},
     "output_type": "execute_result"
    }
   ],
   "source": [
    "survey_df[\"EdLevel\"].value_counts()"
   ]
  },
  {
   "cell_type": "markdown",
   "id": "d251fc24-06c7-40bb-b90b-522d771cc01a",
   "metadata": {},
   "source": [
    "# 연습문제 3  \n",
    "아래 보이는 그래프를 출력하는 코드를 구현하기 "
   ]
  },
  {
   "cell_type": "code",
   "execution_count": 332,
   "id": "232a9805-0466-475c-a5ba-b80820215e24",
   "metadata": {},
   "outputs": [
    {
     "data": {
      "image/png": "[encoded data removed]",
      "text/plain": [
       "<Figure size 900x500 with 1 Axes>"
      ]
     },
     "metadata": {
      "needs_background": "light"
     },
     "output_type": "display_data"
    }
   ],
   "source": [
    "plt.title(schema_raw[\"EdLevel\"])\n",
    "plt.xticks(rotation=60)\n",
    "sns.countplot(data=survey_df, y='EdLevel')\n",
    "plt.ylabel(\"응답자의 수\")\n",
    "plt.show()"
   ]
  },
  {
   "cell_type": "markdown",
   "id": "6cbfb689-aae7-4aad-8ba9-8a65a26760d1",
   "metadata": {},
   "source": [
    "# 연습문제 4"
   ]
  },
  {
   "cell_type": "code",
   "execution_count": 361,
   "id": "9ed56814-2328-41c5-a97f-beac16eef95f",
   "metadata": {},
   "outputs": [
    {
     "data": {
      "image/png": "[encoded data removed]",
      "text/plain": [
       "<Figure size 900x500 with 1 Axes>"
      ]
     },
     "metadata": {
      "needs_background": "light"
     },
     "output_type": "display_data"
    }
   ],
   "source": [
    "plt.title(schema_raw[\"EdLevel\"])\n",
    "sns.barplot(y = survey_df[\"EdLevel\"].value_counts().index, x = survey_df[\"EdLevel\"].value_counts(normalize=True)* 100) \n",
    "plt.xlabel(\"Percentage\")                                                                      # (normalize=True) --> (True)로 normalize 생략 가능 \n",
    "plt.ylabel(\"응답자의 수\")\n",
    "plt.show()"
   ]
  },
  {
   "cell_type": "code",
   "execution_count": 362,
   "id": "28cec8f5-2dd9-4c98-abbf-c18174eee25c",
   "metadata": {},
   "outputs": [
    {
     "ename": "SyntaxError",
     "evalue": "invalid syntax (742500268.py, line 2)",
     "output_type": "error",
     "traceback": [
      "\u001b[1;36m  File \u001b[1;32m\"C:\\Users\\Playdata\\AppData\\Local\\Temp\\ipykernel_9264\\742500268.py\"\u001b[1;36m, line \u001b[1;32m2\u001b[0m\n\u001b[1;33m    프리랜서, 계약직은 프로그래머 사이에서 흔히 볼 수 있는 고용 형태\u001b[0m\n\u001b[1;37m                                           ^\u001b[0m\n\u001b[1;31mSyntaxError\u001b[0m\u001b[1;31m:\u001b[0m invalid syntax\n"
     ]
    }
   ],
   "source": [
    "## 고용 형태  \n",
    "프리랜서, 계약직은 프로그래머 사이에서 흔히 볼 수 있는 고용 형태  \n",
    "stack "
   ]
  },
  {
   "cell_type": "code",
   "execution_count": 363,
   "id": "565a60d5-a18e-4c64-a006-6ea3a61cb32d",
   "metadata": {},
   "outputs": [
    {
     "data": {
      "text/plain": [
       "Employed, full-time                                                         42644\n",
       "Student, full-time                                                           6663\n",
       "Independent contractor, freelancer, or self-employed                         4941\n",
       "Employed, full-time;Independent contractor, freelancer, or self-employed     3456\n",
       "Not employed, but looking for work                                           1810\n",
       "Student, full-time;Employed, part-time                                       1148\n",
       "Employed, part-time                                                          1116\n",
       "Student, part-time                                                           1036\n",
       "Employed, full-time;Student, full-time                                        961\n",
       "Employed, full-time;Student, part-time                                        932\n",
       "Student, part-time;Employed, part-time                                        717\n",
       "Student, full-time;Not employed, but looking for work                         715\n",
       "Not employed, and not looking for work                                        705\n",
       "I prefer not to say                                                           599\n",
       "Student, full-time;Independent contractor, freelancer, or self-employed       430\n",
       "Name: Employment, dtype: int64"
      ]
     },
     "execution_count": 363,
     "metadata": {},
     "output_type": "execute_result"
    }
   ],
   "source": [
    " survey_df[\"Employment\"].value_counts().head(15)"
   ]
  },
  {
   "cell_type": "code",
   "execution_count": 376,
   "id": "a46627e4-8b29-40fc-84b1-14811b788e14",
   "metadata": {},
   "outputs": [
    {
     "data": {
      "image/png": "[encoded data removed]",
      "text/plain": [
       "<Figure size 900x500 with 1 Axes>"
      ]
     },
     "metadata": {
      "needs_background": "light"
     },
     "output_type": "display_data"
    }
   ],
   "source": [
    "Employment_high = survey_df[\"Employment\"].value_counts(normalize=True).head(15)\n",
    "plt.title(schema_raw[\"Employment\"])\n",
    "sns.barplot(x = Employment_high * 100, y = Employment_high.index )\n",
    "plt.xlabel(\"Percentage\")\n",
    "plt.show()"
   ]
  },
  {
   "cell_type": "code",
   "execution_count": null,
   "id": "2fe5301b-aefa-4c04-8e7d-aed6640da227",
   "metadata": {},
   "outputs": [],
   "source": []
  }
 ],
 "metadata": {
  "kernelspec": {
   "display_name": "Python 3 (ipykernel)",
   "language": "python",
   "name": "python3"
  },
  "language_info": {
   "codemirror_mode": {
    "name": "ipython",
    "version": 3
   },
   "file_extension": ".py",
   "mimetype": "text/x-python",
   "name": "python",
   "nbconvert_exporter": "python",
   "pygments_lexer": "ipython3",
   "version": "3.9.13"
  }
 },
 "nbformat": 4,
 "nbformat_minor": 5
}

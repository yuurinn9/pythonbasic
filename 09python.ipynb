{
 "cells": [
  {
   "cell_type": "markdown",
   "id": "1681a0f8-b6a2-423c-b4ba-67c235649cd4",
   "metadata": {},
   "source": [
    "# 2023 - 01 - 12 #"
   ]
  },
  {
   "cell_type": "markdown",
   "id": "d7f00335-3f2c-47e4-9f41-27e35176565b",
   "metadata": {},
   "source": [
    "### [ 세트 자료형 ] ###  \n",
    "  \n",
    "    \n",
    "    \n",
    "> 수학에 나오는 집합 -> set 수학의 집합과 set자료형은 맥락이 같음  \n",
    "> 딕셔너리처럼 ({}) 사용  \n",
    "> 인덱스를 갖지 X  \n",
    "> 요소는 키와 값 역할 모두 함  \n",
    "> 요소 내에 중복되는 값 갖지 X  \n"
   ]
  },
  {
   "cell_type": "markdown",
   "id": "5e1951fc-ef06-4459-8e16-20d817ce8da6",
   "metadata": {},
   "source": [
    "> #{}는 빈 딕셔너리 객체를 만듬   \n",
    "> #순서 상관 없음  \n",
    "\n",
    "set_variable = {expression for 변수 in iterable if 조건식}  \n",
    "\n",
    "#true 일때만  "
   ]
  },
  {
   "cell_type": "code",
   "execution_count": 147,
   "id": "9a0f03cd-8f56-445a-811e-794f45bcba41",
   "metadata": {},
   "outputs": [
    {
     "name": "stdout",
     "output_type": "stream",
     "text": [
      "set() <class 'set'>\n",
      "{1}\n"
     ]
    }
   ],
   "source": [
    "set_variable = set()\n",
    "print(set_variable, type(set_variable))\n",
    "set() #<class 'set'>\n",
    "\n",
    "# 정수 1 값을 set_variable에 5차례 넣기\n",
    "{set_variable.add(1) for i in range(5)} #하나씩만 넣을 수 있음\n",
    "print(set_variable)"
   ]
  },
  {
   "cell_type": "code",
   "execution_count": 148,
   "id": "baf1a37e-4f79-4fe6-b014-a4fdb2b0a0c1",
   "metadata": {},
   "outputs": [
    {
     "name": "stdout",
     "output_type": "stream",
     "text": [
      "{1}\n",
      "{1}\n"
     ]
    }
   ],
   "source": [
    "### 요소 삭제하기\n",
    "# 세트 자료형,discard()\n",
    "print(set_variable)\n",
    "set_variable.discard(8)\n",
    "print(set_variable)\n",
    "set_variable.discard('없는 값')"
   ]
  },
  {
   "cell_type": "markdown",
   "id": "6d68b6f6-47ac-4e67-af73-5e2e6cd9cdad",
   "metadata": {},
   "source": [
    "### 요소 추가하기 ###\n",
    ">세트 자료형.add()"
   ]
  },
  {
   "cell_type": "markdown",
   "id": "3948a2ae-a7bb-4631-ab5f-77262958d943",
   "metadata": {},
   "source": [
    "### 요소 임의 삭제하기 ###\n",
    "\n",
    " 세트 자료형.remove() \n",
    " >삭제하려는 요소가 세트 자료형 내에 존재하지 않으면 keyerror 발생\n",
    "\n",
    " 세트 자료형.discard() \n",
    " >삭제하려는 요소가 세트 자료형 내에 존재하지 않아도 keyerror 발생하지 않음\n",
    "\n",
    "세트 자료형.pop() \n",
    "> pop() 메서드는 삭제하려는 요소를 임의로 선택하고 반환한 뒤 삭제  \n",
    "> 세트 자료형 내에서 더 이상 삭제할 요소가 없다면 Keyerror 발생  "
   ]
  },
  {
   "cell_type": "markdown",
   "id": "e4fd2ce1-7f62-49b5-be90-cd0dc2daf003",
   "metadata": {},
   "source": [
    "### 요소 전체 삭제하기 ###\n",
    ">세트 자료형.clear()"
   ]
  },
  {
   "cell_type": "code",
   "execution_count": 110,
   "id": "37672a17-b070-47c8-a591-1366ebe475e0",
   "metadata": {},
   "outputs": [
    {
     "name": "stdout",
     "output_type": "stream",
     "text": [
      "{0, 3, 6, 9, 12, 15, 18}\n",
      "set()\n"
     ]
    }
   ],
   "source": [
    "set_variable = {_ for _ in range(20) if _% 3 == 0}\n",
    "print(set_variable)\n",
    "set_variable.clear()\n",
    "print(set_variable)"
   ]
  },
  {
   "cell_type": "markdown",
   "id": "a906b917-8a52-4a36-93e5-224a96ae7674",
   "metadata": {},
   "source": [
    "### 요소 개수 구하기 ###\n",
    ">len() 내장 함수  \n",
    ">len(세트 자료형)"
   ]
  },
  {
   "cell_type": "markdown",
   "id": "5f608ae9-5ae5-49b3-acba-dd76a02cc5ae",
   "metadata": {},
   "source": [
    "### 합집합 ###\n",
    "> set.union(세트 자료형1, 세트 자료형2)  \n",
    "> 세트자료형1 | 세트자료형2"
   ]
  },
  {
   "cell_type": "markdown",
   "id": "cb36020d-fb71-44ae-b65f-f810da76021b",
   "metadata": {},
   "source": [
    "### 교집합 ###\n",
    "> set.intersection(세트자료형1, 세트자료형2)  \n",
    "> 세트자료형1 & 세트자료형2"
   ]
  },
  {
   "cell_type": "markdown",
   "id": "eaa0cb97-16d5-4398-85f6-97de777db260",
   "metadata": {},
   "source": [
    "### 차집합 ###\n",
    "> set.difference(세트자료형1, 세트자료형2)  \n",
    "> 세트자료형1 - 세트자료형2"
   ]
  },
  {
   "cell_type": "markdown",
   "id": "d41b4e95-2ecf-4bd9-b64d-82aea95141a8",
   "metadata": {},
   "source": [
    "### 대칭차집합 ###\n",
    "> set.symmetric_difference(세트자료형1, 세트자료형2)  \n",
    "> 세트자료형1 ^ 세트자료형2"
   ]
  },
  {
   "cell_type": "markdown",
   "id": "2e8c7456-ed49-4d59-8f03-be30865f57dc",
   "metadata": {},
   "source": [
    "### 업데이트 ###\n",
    "> 세트자료형1.update(세트자료형2)  \n",
    "> 세트자료형1 |= 세트자료형2"
   ]
  },
  {
   "cell_type": "markdown",
   "id": "f163f1fe-ce7a-4da7-8f1b-d3ce6b910e23",
   "metadata": {},
   "source": [
    "### intersection_update ###\n",
    ">세트자료형1.intersection_update(세트자료형2)  \n",
    ">세트자료형1 &= 세트자료형2\n"
   ]
  },
  {
   "cell_type": "markdown",
   "id": "2fca38e3-1644-442c-b93d-c3d9bacd6104",
   "metadata": {},
   "source": [
    "### difference_update ###\n",
    ">세트자료형1.difference_update(세트자료형2)  \n",
    ">세트자료형1 -= 세트자료형2\n"
   ]
  },
  {
   "cell_type": "markdown",
   "id": "2cc93c64-0dcd-42eb-8c40-90b772e54c52",
   "metadata": {},
   "source": [
    "### symmetric_difference_update ###\n",
    ">세트자료형1.symmetric_difference_update(세트자료형2)  \n",
    ">세트자료형1 ^= 세트자료형2"
   ]
  },
  {
   "cell_type": "markdown",
   "id": "42f3a470-c7e4-4ed7-b638-4fa38039bd9e",
   "metadata": {},
   "source": [
    "### 부분집합 ###\n",
    ">세트자료형1.issubset(세트자료형2)\n",
    "\n",
    "\n",
    ">세트자료형1이 세트자료형2의 부분집합이면 true 아니면 false"
   ]
  },
  {
   "cell_type": "markdown",
   "id": "14d20a34-1a76-4a05-a328-e6799173e485",
   "metadata": {},
   "source": [
    "### 상위집합 ###\n",
    ">세트자료형1.issuperset(세트자료형2)\n",
    "\n",
    "\n",
    ">1이 2이 상위집합이면 true 아니면 false"
   ]
  },
  {
   "cell_type": "markdown",
   "id": "27a63c21-301a-4db8-b63a-feb77546affd",
   "metadata": {},
   "source": [
    "### 집부분집합과 집상위집합 ###\n",
    "> 세트자료형1 < 세트자료형2"
   ]
  },
  {
   "cell_type": "markdown",
   "id": "85fe2df1-f664-466b-bb87-5563c87478d9",
   "metadata": {},
   "source": [
    "### 세트가 겹치지 않는지 확인 ###\n",
    ">세트자료형1.isdisjoint(세트자료형)\n",
    "\n",
    "\n",
    ">겹치는 요소가 x --> true\n",
    ">겹치는 요소가 o --> false"
   ]
  },
  {
   "cell_type": "markdown",
   "id": "ef790480-f1e2-4235-8a45-6a12651d1334",
   "metadata": {},
   "source": [
    "# 연습문제 #"
   ]
  },
  {
   "cell_type": "markdown",
   "id": "4273a251-f534-4f4c-99ae-a26b4fb057d3",
   "metadata": {},
   "source": [
    "### 로또 갯수를 입력받고 로또 번호 랜덤하게 발행 (중복x, 오름차순) ###"
   ]
  },
  {
   "cell_type": "code",
   "execution_count": 145,
   "id": "46b58aff-f286-4722-afcf-27f26d9ed3aa",
   "metadata": {},
   "outputs": [
    {
     "name": "stdin",
     "output_type": "stream",
     "text": [
      "로또 번호 몇 개 드릴까요? 5\n"
     ]
    },
    {
     "name": "stdout",
     "output_type": "stream",
     "text": [
      "[1, 5, 7, 10, 20, 25]\n",
      "[21, 31, 34, 36, 38, 42]\n",
      "[4, 5, 9, 17, 37, 41]\n",
      "[8, 13, 14, 26, 32, 44]\n",
      "[9, 17, 21, 31, 37, 41]\n"
     ]
    }
   ],
   "source": [
    "import random\n",
    "#중복이 나온다면 개수가 6개가 아니게 됨\n",
    "num = int(input(\"로또 번호 몇 개 드릴까요?\"))\n",
    "for i in range(num):\n",
    "    lotto = set()\n",
    "    while len(lotto) != 6:\n",
    "        lotto = {random.randint(1, 45) for _ in range(6)}\n",
    "    result = list(lotto)\n",
    "    result.sort()\n",
    "    print(result)\n",
    "\n"
   ]
  },
  {
   "cell_type": "code",
   "execution_count": 152,
   "id": "caaa13a5-ca3f-4e15-94d9-28ad3dfb4c73",
   "metadata": {},
   "outputs": [
    {
     "name": "stdout",
     "output_type": "stream",
     "text": [
      "{1, 2, 3, 4}\n"
     ]
    }
   ],
   "source": [
    "list_sample = [1, 2, 2, 3, 3, 3, 4, 4, 4, 4]\n",
    "print(set(list_sample))"
   ]
  },
  {
   "cell_type": "code",
   "execution_count": 161,
   "id": "98f826f8-14a3-4878-ac55-2536be86b0ee",
   "metadata": {},
   "outputs": [
    {
     "name": "stdout",
     "output_type": "stream",
     "text": [
      "{75, 45, 15, 90, 60, 30}\n"
     ]
    }
   ],
   "source": [
    "set_3 = {_ for _ in range(1, 101) if _% 3 == 0} \n",
    "set_5 = {_ for _ in range(1, 101) if _% 5 == 0} \n",
    "result_set = set.intersection(set_3, set_5)\n",
    "print(result_set)\n"
   ]
  },
  {
   "cell_type": "code",
   "execution_count": 163,
   "id": "592c0d13-79d1-4420-b44b-0b2841110c36",
   "metadata": {},
   "outputs": [],
   "source": [
    "### print(set()) ---> 빈 세트 만들기 "
   ]
  },
  {
   "cell_type": "code",
   "execution_count": 186,
   "id": "feef13a3-b299-44d7-a5f2-a8d74cc8529c",
   "metadata": {},
   "outputs": [
    {
     "name": "stdout",
     "output_type": "stream",
     "text": [
      "실행 결과\n",
      "개인정보 조회, 구매 관리, 근태 관리, 시스템 관리, 인사 관리, 회계 관리"
     ]
    }
   ],
   "source": [
    "print(\"실행 결과\")\n",
    "role_admin = (\"회계 관리\", \"인사 관리\", \"구매 관리\",  \"시스템 관리\")\n",
    "role_hr = (\"인사 관리\", \"개인정보 조회\", \"회계 관리\", \"근태 관리\")\n",
    "role_user = (\"개인정보 조회\", \"근태 관리\")\n",
    "\n",
    "role_all = role_admin + role_hr + role_user\n",
    "role_all = set(role_all)\n",
    "role_all = list(role_all)\n",
    "role_all.sort()\n",
    "for i in range(0, len(role_all)):\n",
    "    if i == len(role_all)-1:\n",
    "        print(role_all[i], end = \"\")\n",
    "    else:\n",
    "        print(role_all[i], end = \", \")\n"
   ]
  },
  {
   "cell_type": "code",
   "execution_count": 187,
   "id": "093d73dc-a965-4502-89c6-fa79c77eb426",
   "metadata": {},
   "outputs": [
    {
     "name": "stdout",
     "output_type": "stream",
     "text": [
      "실행 결과\n",
      "개인정보 조회, 구매 관리, 근태 관리, 시스템 관리, 인사 관리, 회계 관리"
     ]
    }
   ],
   "source": [
    "print(\"실행 결과\")\n",
    "role_admin = (\"회계 관리\", \"인사 관리\", \"구매 관리\",  \"시스템 관리\")\n",
    "role_hr = (\"인사 관리\", \"개인정보 조회\", \"회계 관리\", \"근태 관리\")\n",
    "role_user = (\"개인정보 조회\", \"근태 관리\")\n",
    "\n",
    "role_all = list(set(role_admin + role_hr + role_user))\n",
    "role_all.sort()\n",
    "for i in range(0, len(role_all)):\n",
    "    if i == len(role_all)-1:\n",
    "        print(role_all[i], end = \"\")\n",
    "    else:\n",
    "        print(role_all[i], end = \", \")\n"
   ]
  },
  {
   "cell_type": "code",
   "execution_count": null,
   "id": "bad26d55-0b03-4840-a716-0933f904e2c2",
   "metadata": {},
   "outputs": [],
   "source": []
  },
  {
   "cell_type": "code",
   "execution_count": 120,
   "id": "b622906d-d215-47c3-a305-ceceae5706ea",
   "metadata": {},
   "outputs": [
    {
     "name": "stdout",
     "output_type": "stream",
     "text": [
      "실행 결과\n",
      "2부터 입력하신 수까지의 모든 소수를 찾는 프로그램입니다.\n"
     ]
    },
    {
     "name": "stdin",
     "output_type": "stream",
     "text": [
      "찾는 범위를 입력하세요 : 100\n"
     ]
    },
    {
     "name": "stdout",
     "output_type": "stream",
     "text": [
      "2 3 5 7 11 13 17 19 23 29 31 37 41 43 47 53 59 61 67 71 73 79 83 89 97 "
     ]
    }
   ],
   "source": [
    "print(\"실행 결과\")\n",
    "print(\"2부터 입력하신 수까지의 모든 소수를 찾는 프로그램입니다.\")\n",
    "num = int(input(\"찾는 범위를 입력하세요 :\"))\n",
    "for i in range(2, num+1):\n",
    "    if len([ _ for _ in range(1, i+1) if i % _ == 0]) == 2:\n",
    "        print(i, end =\" \" )\n"
   ]
  },
  {
   "cell_type": "code",
   "execution_count": 94,
   "id": "94a90b06-5296-4746-b836-8f68c2943da8",
   "metadata": {},
   "outputs": [
    {
     "name": "stdout",
     "output_type": "stream",
     "text": [
      "실행 결과\n",
      "2부터 입력하신 수까지의 모든 소수를 찾는 프로그램입니다.\n"
     ]
    },
    {
     "name": "stdin",
     "output_type": "stream",
     "text": [
      "찾는 범위를 입력하세요 : 100\n"
     ]
    },
    {
     "name": "stdout",
     "output_type": "stream",
     "text": [
      "2 3 5 7 11 13 17 \n",
      "19 23 29 31 37 41 43 \n",
      "47 53 59 61 67 71 73 \n",
      "79 83 89 97 "
     ]
    }
   ],
   "source": [
    "print(\"실행 결과\")\n",
    "print(\"2부터 입력하신 수까지의 모든 소수를 찾는 프로그램입니다.\")\n",
    "inData = int(input(\"찾는 범위를 입력하세요 :\"))\n",
    "i = 2\n",
    "line = 0\n",
    "while i <= inData :\n",
    "    j = 2\n",
    "    while j <= i:\n",
    "        if i % j ==  0:\n",
    "            break\n",
    "        j+= 1\n",
    "    if i == j:\n",
    "        print(i, end =\" \")\n",
    "        line = line+1\n",
    "        if line == 7:\n",
    "            line = 0\n",
    "            print()\n",
    "            \n",
    "    i+=1"
   ]
  },
  {
   "cell_type": "markdown",
   "id": "8a865ee4-752a-4de8-8a72-ea7d15adb273",
   "metadata": {},
   "source": [
    "------------------------------"
   ]
  },
  {
   "cell_type": "markdown",
   "id": "e87e67a6-32f9-4f9d-8bd0-1f84b3a823e7",
   "metadata": {},
   "source": [
    "함수\n",
    "프로그래밍에서 함수는 독립적으로 설계된 프로그램 코드의 집합\n",
    "반복적인 코드의 양을 줄여 유지보수성 높여줌\n",
    "\n",
    "x = 함수명(인수, 인수, ...)   <--------\\\n",
    "print(\"결과 값:\", x)    |               \\\n",
    "                        ↓                \\\n",
    "def 함수명(인자, 인자, ...): 함수 코드... return 변환값  \n",
    "함수가 호출되면 함수 정의부로 가서 함수 호출부의 인수 값을 함수 정의부 인자 값에 순서대로 대입 후 함수 정의부 내부 코드를 순차적으로 실행 해당 함수의 return값이 있는 경우, 함수 호출부를 return값으로 치환\n",
    "\n",
    "함수 호출을 하면 함수가 정의된 곳에서 코드를 실행하고 반환 값을 받아온다.\n",
    "args와 params는 순서에 맞게 대입된다.\n",
    "\n",
    "function_name(arg1,arg2, ...)\n",
    "function_name(param1, param2, ...)\n",
    "result = param1 + param2\n",
    "return result\n",
    "함수\n",
    "print(), len(), list(), reversed() 모두 다 함수\n",
    "코드를 목적에 맞게 사용할 수 있다\n",
    "중복에서 오는 실수를 줄일 수 있다\n",
    "재사용 할 수 있다\n",
    "\n",
    "함수 vs 메서드\n",
    "함수는 클래스에 포함되지 않은 채로 사용\n",
    "\n",
    "함수명((인수1), (인수2), ...)\n",
    "\n",
    "메서드는 클래스에 포함되어 객체를 통해 호출\n",
    "\n",
    "객체.매서드명((인수1), (인수2), ...)\n",
    "\n",
    "def 함수_이름(위치_인자, 위치_인자2, *가변_위치, 키워드_인자, 키워드_인자2, **가변_키워드):\n",
    "​\n",
    "​\n",
    "​\n",
    "​\n",
    "\"\"\"\n",
    "Doc string을 적는 곳\n",
    "작성자 : 김유림\n",
    "작성일자 : 20230112\n",
    "\"\"\"\n",
    "​\n",
    "함수의 바디\n",
    "함수의 바디\n",
    "​\n",
    "#return 변환값\n",
    "pass \n",
    "  File \"C:\\Users\\Playdata\\AppData\\Local\\Temp\\ipykernel_12612\\3507057445.py\", line 2\n",
    "    \"\"\"\n",
    "    ^\n",
    "IndentationError: expected an indented block\n",
    "def function():\n",
    "    \"\"\"\n",
    "    함수의 설명\n",
    "    \"\"\"\n",
    "    \n",
    "    \n",
    "    pass\n",
    "function.__doc__\n",
    "'\\n    함수의 설명\\n    '\n",
    "print(function.__doc__)\n",
    "\n",
    "    함수의 설명\n",
    "    \n",
    "print(list.__doc__)\n",
    "print(list.__doc__)\n",
    "Built-in mutable sequence.\n",
    "\n",
    "If no argument is given, the constructor creates a new empty list.\n",
    "The argument must be an iterable if specified.\n",
    "인자\n",
    "인수(argument)는 주는거고 인자(parameter)는 받는거\n",
    "\n",
    "위치 - 키워드 : 위치로 혹은 키워드로 전달될 수 있는 인자를 말함 매개변수의 기본 형태\n",
    "위치 전용 : / 문자를 기준으로 좌측에 위치한 인자\n",
    "키워드 전용 : * 문자를 기준으로 우측에 위치한 인자\n",
    "가변 위치 : 위치 매개변수 외에 추가적인 위치 매개변수를 개수에 상관없이 받을 수 있음 변수명 앞에 *를 하나 붙여 표기\n",
    "가변 키워드 : 키워드 매개변수 외에 추가적인 키워드 매개변수를 개수에 상관없이 받을 수 있음 변수명 앞에 ** 두개 붙여 표기\n",
    "\n",
    "print(\"1\", \"2\", \"3\", \"4\", \"5\")\n",
    "1 2 3 4 5\n",
    "# 함수를 정의절\n",
    "def function_name(positional, positiona12, *args, keyword1=1, **kargs):\n",
    "    pass #body\n",
    "​\n",
    "#함수 정의절\n",
    "def get_grade(score = 200): #score에 숫자를 집어 넣으면 return값으로 변환해줌 #초기값을 주냐 안주냐에 따라 기본값이 있을수도/없을수도\n",
    "    \"\"\"\n",
    "    숫자로된 정수를 넣으시면 학점의 결과를 반환합니다.\n",
    "    \"\"\"\n",
    "    if 85 <= score <= 100:\n",
    "        return \"A\"\n",
    "    elif 70 <= score <= 84:\n",
    "        return \"B\"\n",
    "    elif 55 <= score <= 69:\n",
    "        return \"C\"\n",
    "    elif 40 <= score <= 54:\n",
    "        return \"D\"\n",
    "    elif 0 <= score <= 39:\n",
    "        return \"E\"\n",
    "result = get_grade(60) # 함수의 return 반환값 그대로 \"C\"로 출력\n",
    "print(result)\n",
    "C\n",
    "scores\n",
    "import random\n",
    "​\n",
    "scores = [random.randint(1, 100) for _ in range(20)]\n",
    "print(scores)\n",
    "[17, 26, 2, 78, 84, 4, 11, 56, 48, 13, 90, 100, 53, 56, 72, 53, 2, 66, 94, 85]\n",
    "grades\n",
    "grades = list(map(get_grade, scores))\n",
    "print(grades)\n",
    "['E', 'E', 'E', 'B', 'B', 'E', 'E', 'C', 'D', 'E', 'A', 'A', 'D', 'C', 'B', 'D', 'E', 'C', 'A', 'A']\n",
    "print\n",
    "print(get_grade.__doc__)\n",
    "\n",
    "    숫자로된 정수를 넣으시면 학점의 결과를 반환합니다.\n",
    "    \n",
    "#함수 정의절\n",
    "#인자(parameter)\n",
    "def get_grade(score, student_number, name=\"홍길동\"): #ex) 홍길동 같이 키워드를 설정해주는 얘들은 무조건 뒤에\n",
    "                                                     #기본값을 갖는 인수(argument) 는 기본값이 없는 인자(parameter) 뒤에 위치\n",
    "                                                     #position argument는 keyword agument보다 뒤에 와야 한다. \n",
    "    \"\"\"                                             \n",
    "    숫자로된 정수를 넣으시면 학점의 결과를 반환합니다.\n",
    "    \"\"\"\n",
    "    print(f\"{student_number}, {name}의 성적을 확인합니다.\")\n",
    "    if 85 <= score <= 100:\n",
    "        return \"A\"\n",
    "    elif 70 <= score <= 84:\n",
    "        return \"B\"\n",
    "    elif 55 <= score <= 69:\n",
    "        return \"C\"\n",
    "    elif 40 <= score <= 54:\n",
    "        return \"D\"\n",
    "    elif 0 <= score <= 39:\n",
    "        return \"E\"\n",
    "get_grade(100, \"김유림\", \"10000\")\n",
    "get_grade(100, \"김유림\", \"10000\")\n",
    "10000, 김유림의 성적을 확인합니다.\n",
    "'A'\n",
    "get_grade(\"김유림\", 100, \"10000\")\n",
    "10000, 100의 성적을 확인합니다.\n",
    "---------------------------------------------------------------------------\n",
    "TypeError                                 Traceback (most recent call last)\n",
    "~\\AppData\\Local\\Temp\\ipykernel_12612\\2473144315.py in <module>\n",
    "----> 1 get_grade(\"김유림\", 100, \"10000\")\n",
    "\n",
    "~\\AppData\\Local\\Temp\\ipykernel_12612\\2696909452.py in get_grade(score, name, student_number)\n",
    "      5     \"\"\"\n",
    "      6     print(f\"{student_number}, {name}의 성적을 확인합니다.\")\n",
    "----> 7     if 85 <= score <= 100:\n",
    "      8         return \"A\"\n",
    "      9     elif 70 <= score <= 84:\n",
    "\n",
    "TypeError: '<=' not supported between instances of 'int' and 'str'\n",
    "# 함수 정의절\n",
    "# 인자 (매개변수, parameter) - non-default, default 종류\n",
    "def add_number(number2, number1 = 3, /): #기본값을 갖는 얘들은 뒤쪽에 위치\n",
    "    \"\"\"\n",
    "    숫자 number1과 숫자 numbeer2를 전달 받아 더한 결과를 반환합니다.\n",
    "    \"\"\"\n",
    "    return number1 + number2\n",
    "# 함수 정의절\n",
    "# 인자 (매개변수, parameter) - non-default, default 종류\n",
    "def add_number(number2, number1 = 3, /): #기본값을 갖는 얘들은 뒤쪽에 위치\n",
    "    \"\"\"\n",
    "    숫자 number1과 숫자 numbeer2를 전달 받아 더한 결과를 반환합니다.\n",
    "    \"\"\"\n",
    "    return number1 + number2\n",
    "print(add_number.__doc__)\n",
    "\n",
    "    숫자 number1과 숫자 numbeer2를 전달 받아 더한 결과를 반환합니다.\n",
    "    \n",
    "result = add_number\n",
    "result = add_number(2, 3) #소괄호\n",
    "print(result)\n",
    "5\n",
    "#인수(argument) - positional argument, keyword argument\n",
    "result = add_number(number1 = 2, number2 = 3) # 소괄호 --> call\n",
    "---------------------------------------------------------------------------\n",
    "TypeError                                 Traceback (most recent call last)\n",
    "~\\AppData\\Local\\Temp\\ipykernel_12612\\1492128349.py in <module>\n",
    "      1 #인수(argument) - positional argument, keyword argument\n",
    "----> 2 result = add_number(number1 = 2, number2 = 3) # 소괄호 --> call\n",
    "\n",
    "TypeError: add_number() got some positional-only arguments passed as keyword arguments: 'number2, number1'\n",
    "오른\n",
    "# 함수 정의절\n",
    "# 인자 (매개변수, parameter) - non-default, default 종류\n",
    "#기본값을 갖는 얘들은 뒤쪽에 위치\n",
    "def minus_number(*, number1, number2 = 3): # keywor-only: *문자를 기준으로 오른편에 온다.\n",
    "    \"\"\"\n",
    "    숫자 number1과 숫자 numbeer2를 전달 받아 더한 결과를 반환합니다.\n",
    "    \"\"\"\n",
    "    return number1 - number2\n",
    "#함수를 호출\n",
    "#인수(argument) - positional argument, keyword argument\n",
    "minus_number(number1 = 20)\n",
    "17\n",
    "# 함수 정의절\n",
    "# 인자 (매개변수, parameter) - non-default, default 종류\n",
    "#기본값을 갖는 얘들은 뒤쪽에 위치\n",
    "def multi_number( number1,/, *, number2 = 3): # keywor-only: *문자를 기준으로 오른편에 온다.\n",
    "    \"\"\"\n",
    "    숫자 number1과 숫자 numbeer2를 전달 받아 더한 결과를 반환합니다.\n",
    "    \"\"\"\n",
    "    return number1 * number2\n",
    "multi_number(3, number2 = 10)\n",
    "30\n",
    "f\n",
    "def string_line(str_value, /, str_len, *, sep=\"#\"):\n",
    "    \"\"\"\n",
    "    str_value는 가운데 오는 텍스트입니다.\n",
    "    str_len은 텍스트의 설정할 길이입니다.\n",
    "    sep는 구분선을 그을때 쓰는 문자입니다.\n",
    "    \"\"\"\n",
    "    print(str_value.center(str_len, sep))\n",
    "string_line(\"구분\", 50, sep=\"*\")\n",
    "************************구분************************\n",
    "len('**********************구분**************************')\n",
    "50\n",
    "-\n",
    "string_line(\"절취선\", str_len = 100, sep=\"-\")\n",
    "------------------------------------------------절취선-------------------------------------------------\n",
    "i\n",
    "print(\"1\", \"1\", \"1\", \"1\", \"1\", \"1\", \"1\", \"1\", \"1\", \"1\")\n",
    "1 1 1 1 1 1 1 1 1 1\n",
    "# *args: var positionql 가변 위치\n",
    "def test_func(a, b, c, *args):\n",
    "    print(f'a: {a} b: {b} c: {c}' )\n",
    "    print(type(args))\n",
    "    print(args)\n",
    "# *args: var positionql 가변 위치\n",
    "def test_func(a, b, c, *args):\n",
    "    print(f'a: {a} b: {b} c: {c}' )\n",
    "    print(type(args))\n",
    "    print(args)\n",
    "test_func(\"a 위치입니다\", \"b 위치입니다\", \"c 위치입니다\", \"여기는\", \"어딜까요\", \"몇개\", \"더\")\n",
    "test_func(\"a 위치입니다\", \"b 위치입니다\", \"c 위치입니다\", \"여기는\", \"어딜까요\", \"몇개\", \"더\")\n",
    "a: a 위치입니다 b: b 위치입니다 c: c 위치입니다\n",
    "<class 'tuple'>\n",
    "('여기는', '어딜까요', '몇개', '더')\n",
    "*\n",
    "# **kargs: var keyword 가변 키워드\n",
    "def test_func2(a=\"a\", b=\"b\", **kargs):\n",
    "    print(a, b)\n",
    "    print(type(kargs))\n",
    "    print(kargs)\n",
    "test_func2(a=\"ab\", b=\"bc\", key=\"value\", key2=\"value2\")\n",
    "ab bc\n",
    "<class 'dict'>\n",
    "{'key': 'value', 'key2': 'value2'}\n",
    "# *args: var positionql 가변 위치\n",
    "def test_func(a, b, *args, c):\n",
    "    print(f'a: {a} b: {b} c: {c}' )\n",
    "    print(type(args))\n",
    "    print(args)\n",
    "test_func(\"a 위치입니다\", \"b 위치입니다\", \"c 위치입니다\", \"여기는\", \"어딜까요\", \"몇개\", \"더\")\n",
    "---------------------------------------------------------------------------\n",
    "TypeError                                 Traceback (most recent call last)\n",
    "~\\AppData\\Local\\Temp\\ipykernel_12612\\3181782236.py in <module>\n",
    "----> 1 test_func(\"a 위치입니다\", \"b 위치입니다\", \"c 위치입니다\", \"여기는\", \"어딜까요\", \"몇개\", \"더\")\n",
    "\n",
    "TypeError: test_func() missing 1 required keyword-only argument: 'c'\n",
    "위치 - 키워드 인자\n",
    "위치 인수 또는 키워드 인수를 받을 수 있는 인자\n",
    "\n",
    "​\n",
    "\n",
    "\n",
    "\n",
    "\n",
    "\n",
    "\n",
    "\n",
    "\n",
    "\n",
    "# 함수 #"
   ]
  },
  {
   "cell_type": "markdown",
   "id": "894e2d11-f554-4723-8872-3bd8be6049c9",
   "metadata": {},
   "source": [
    ">프로그래밍에서 함수는 독립적으로 설계된 프로그램 코드의 집합  \n",
    ">반복적인 코드의 양을 줄여 유지보수성 높여줌  \n",
    "\n"
   ]
  },
  {
   "cell_type": "code",
   "execution_count": null,
   "id": "4d6fa2e2-5c5e-4958-9b02-97e1015ab5c2",
   "metadata": {},
   "outputs": [],
   "source": [
    "x = 함수명(인수, 인수, ...)   <--------\\\n",
    "print(\"결과 값:\", x)    |               \\\n",
    "                        ↓                \\\n",
    "def 함수명(인자, 인자, ...): 함수 코드... return 변환값  "
   ]
  },
  {
   "cell_type": "markdown",
   "id": "8576b8f1-4271-4e5c-bb0d-275feeab15ef",
   "metadata": {},
   "source": [
    ">함수가 호출되면 함수 정의부로 가서 함수 호출부의 인수 값을 함수 정의부 인자 값에 순서대로 대입 후 함수 정의부 내부 코드를 순차적으로 실행\n",
    ">해당 함수의 return값이 있는 경우, 함수 호출부를 return값으로 치환"
   ]
  },
  {
   "cell_type": "markdown",
   "id": "0f82c1f1-f19f-487a-acdd-a530d7b24892",
   "metadata": {},
   "source": [
    ">함수 호출을 하면 함수가 정의된 곳에서 코드를 실행하고 반환 값을 받아온다.  \n",
    ">args와 params는 순서에 맞게 대입된다."
   ]
  },
  {
   "cell_type": "code",
   "execution_count": null,
   "id": "cc27f395-58e0-4422-9efe-2218a9c2a93a",
   "metadata": {},
   "outputs": [],
   "source": [
    "function_name(arg1,arg2, ...)\n",
    "function_name(param1, param2, ...)\n",
    "result = param1 + param2\n",
    "return result"
   ]
  },
  {
   "cell_type": "markdown",
   "id": "cdd6ae29-9b3a-4bf8-8051-2f4060403283",
   "metadata": {},
   "source": [
    "### 함수 ###\n",
    "##### print(), len(), list(), reversed() 모두 다 함수 #####   \n",
    "  \n",
    "    \n",
    ">코드를 목적에 맞게 사용할 수 있다  \n",
    ">중복에서 오는 실수를 줄일 수 있다  \n",
    ">재사용 할 수 있다  "
   ]
  },
  {
   "cell_type": "markdown",
   "id": "9603b78d-3139-4ca4-ae5f-c2e8950c32e2",
   "metadata": {},
   "source": [
    "### 함수 vs 메서드 ###\n",
    ">함수는 클래스에 포함되지 않은 채로 사용 \n",
    "  \n",
    "함수명((인수1), (인수2), ...)       \n",
    "  \n",
    "  \n",
    ">메서드는 클래스에 포함되어 객체를 통해 호출 \n",
    "  \n",
    "객체.매서드명((인수1), (인수2), ...)\n",
    " "
   ]
  },
  {
   "cell_type": "code",
   "execution_count": 103,
   "id": "5a49d905-84f4-4443-a2d9-eb9a8002defc",
   "metadata": {},
   "outputs": [
    {
     "ename": "IndentationError",
     "evalue": "expected an indented block (3507057445.py, line 2)",
     "output_type": "error",
     "traceback": [
      "\u001b[1;36m  File \u001b[1;32m\"C:\\Users\\Playdata\\AppData\\Local\\Temp\\ipykernel_12612\\3507057445.py\"\u001b[1;36m, line \u001b[1;32m2\u001b[0m\n\u001b[1;33m    \"\"\"\u001b[0m\n\u001b[1;37m    ^\u001b[0m\n\u001b[1;31mIndentationError\u001b[0m\u001b[1;31m:\u001b[0m expected an indented block\n"
     ]
    }
   ],
   "source": [
    "def 함수_이름(위치_인자, 위치_인자2, *가변_위치, 키워드_인자, 키워드_인자2, **가변_키워드):\n",
    "\n",
    "\n",
    "\n",
    "\n",
    "\"\"\"\n",
    "Doc string을 적는 곳\n",
    "작성자 : 김유림\n",
    "작성일자 : 20230112\n",
    "\"\"\"\n",
    "\n",
    "함수의 바디\n",
    "함수의 바디\n",
    "\n",
    "#return 변환값\n",
    "pass "
   ]
  },
  {
   "cell_type": "code",
   "execution_count": 114,
   "id": "8f881ef0-af23-4dc3-8f22-70aa9a335b2c",
   "metadata": {},
   "outputs": [],
   "source": [
    "def function():\n",
    "    \"\"\"\n",
    "    함수의 설명\n",
    "    \"\"\"\n",
    "    \n",
    "    \n",
    "    pass"
   ]
  },
  {
   "cell_type": "code",
   "execution_count": 115,
   "id": "0b453d90-c79b-485b-8c21-57bc192e5890",
   "metadata": {},
   "outputs": [
    {
     "data": {
      "text/plain": [
       "'\\n    함수의 설명\\n    '"
      ]
     },
     "execution_count": 115,
     "metadata": {},
     "output_type": "execute_result"
    }
   ],
   "source": [
    "function.__doc__"
   ]
  },
  {
   "cell_type": "code",
   "execution_count": 116,
   "id": "9ea9f2e5-195b-4e59-86fc-eb8b68f76ba0",
   "metadata": {},
   "outputs": [
    {
     "name": "stdout",
     "output_type": "stream",
     "text": [
      "\n",
      "    함수의 설명\n",
      "    \n"
     ]
    }
   ],
   "source": [
    "print(function.__doc__)"
   ]
  },
  {
   "cell_type": "code",
   "execution_count": 117,
   "id": "56abf935-4d5e-4e4e-a229-4b9f82e74a0b",
   "metadata": {},
   "outputs": [
    {
     "name": "stdout",
     "output_type": "stream",
     "text": [
      "Built-in mutable sequence.\n",
      "\n",
      "If no argument is given, the constructor creates a new empty list.\n",
      "The argument must be an iterable if specified.\n"
     ]
    }
   ],
   "source": [
    "print(list.__doc__)"
   ]
  },
  {
   "cell_type": "markdown",
   "id": "75791325-7061-4f80-9aaf-a724458fbc72",
   "metadata": {},
   "source": [
    "### 인자 ###   \n",
    "\n",
    "  \n",
    "인수(argument)는 주는거고 인자(parameter)는 받는거  \n",
    "  \n",
    "    \n",
    ">**위치** - 키워드 : 위치로 혹은 키워드로 전달될 수 있는 인자를 말함 매개변수의 기본 형태  \n",
    ">**위치 전용** : / 문자를 기준으로 좌측에 위치한 인자  \n",
    ">**키워드 전용** : * 문자를 기준으로 우측에 위치한 인자  \n",
    ">**가변 위치** : 위치 매개변수 외에 추가적인 위치 매개변수를 개수에 상관없이 받을 수 있음 변수명  앞에 *를 하나 붙여 표기  \n",
    ">**가변 키워드** : 키워드 매개변수 외에 추가적인 키워드 매개변수를 개수에 상관없이 받을 수 있음 변수명 앞에 ** 두개 붙여 표기  "
   ]
  },
  {
   "cell_type": "code",
   "execution_count": 124,
   "id": "83651e77-505f-4cb7-ab5c-62ec6eddee54",
   "metadata": {},
   "outputs": [
    {
     "name": "stdout",
     "output_type": "stream",
     "text": [
      "1 2 3 4 5\n"
     ]
    }
   ],
   "source": [
    "print(\"1\", \"2\", \"3\", \"4\", \"5\")"
   ]
  },
  {
   "cell_type": "code",
   "execution_count": 125,
   "id": "cbebc6a5-7e8f-4fad-964f-a1def1d20d70",
   "metadata": {},
   "outputs": [],
   "source": [
    "# 함수를 정의절\n",
    "def function_name(positional, positiona12, *args, keyword1=1, **kargs):\n",
    "    pass #body\n"
   ]
  },
  {
   "cell_type": "code",
   "execution_count": 126,
   "id": "cc7f707d-bf10-40a0-9502-7a3a7ab8f97c",
   "metadata": {},
   "outputs": [],
   "source": [
    "#함수 정의절\n",
    "def get_grade(score = 200): #score에 숫자를 집어 넣으면 return값으로 변환해줌 #초기값을 주냐 안주냐에 따라 기본값이 있을수도/없을수도\n",
    "    \"\"\"\n",
    "    숫자로된 정수를 넣으시면 학점의 결과를 반환합니다.\n",
    "    \"\"\"\n",
    "    if 85 <= score <= 100:\n",
    "        return \"A\"\n",
    "    elif 70 <= score <= 84:\n",
    "        return \"B\"\n",
    "    elif 55 <= score <= 69:\n",
    "        return \"C\"\n",
    "    elif 40 <= score <= 54:\n",
    "        return \"D\"\n",
    "    elif 0 <= score <= 39:\n",
    "        return \"E\""
   ]
  },
  {
   "cell_type": "code",
   "execution_count": 129,
   "id": "f302fee5-bfda-403d-bcb4-10c9f1f54377",
   "metadata": {},
   "outputs": [
    {
     "name": "stdout",
     "output_type": "stream",
     "text": [
      "C\n"
     ]
    }
   ],
   "source": [
    "result = get_grade(60) # 함수의 return 반환값 그대로 \"C\"로 출력\n",
    "print(result)"
   ]
  },
  {
   "cell_type": "code",
   "execution_count": 131,
   "id": "01c6a7d4-153b-4126-bb48-bf1ec8cbf508",
   "metadata": {},
   "outputs": [
    {
     "name": "stdout",
     "output_type": "stream",
     "text": [
      "[17, 26, 2, 78, 84, 4, 11, 56, 48, 13, 90, 100, 53, 56, 72, 53, 2, 66, 94, 85]\n"
     ]
    }
   ],
   "source": [
    "import random\n",
    "\n",
    "scores = [random.randint(1, 100) for _ in range(20)]\n",
    "print(scores)"
   ]
  },
  {
   "cell_type": "code",
   "execution_count": 133,
   "id": "b0c52bb4-9e64-403f-b41f-9ef09e275b09",
   "metadata": {},
   "outputs": [
    {
     "name": "stdout",
     "output_type": "stream",
     "text": [
      "['E', 'E', 'E', 'B', 'B', 'E', 'E', 'C', 'D', 'E', 'A', 'A', 'D', 'C', 'B', 'D', 'E', 'C', 'A', 'A']\n"
     ]
    }
   ],
   "source": [
    "grades = list(map(get_grade, scores))\n",
    "print(grades)"
   ]
  },
  {
   "cell_type": "code",
   "execution_count": 134,
   "id": "28d0b179-90d9-40b1-877f-0dc81643719e",
   "metadata": {},
   "outputs": [
    {
     "name": "stdout",
     "output_type": "stream",
     "text": [
      "\n",
      "    숫자로된 정수를 넣으시면 학점의 결과를 반환합니다.\n",
      "    \n"
     ]
    }
   ],
   "source": [
    "print(get_grade.__doc__)"
   ]
  },
  {
   "cell_type": "code",
   "execution_count": 143,
   "id": "3cb43702-abda-4471-b74b-041b400d32b2",
   "metadata": {},
   "outputs": [],
   "source": [
    "#함수 정의절\n",
    "#인자(parameter)\n",
    "def get_grade(score, student_number, name=\"홍길동\"): #ex) 홍길동 같이 키워드를 설정해주는 얘들은 무조건 뒤에\n",
    "                                                     #기본값을 갖는 인수(argument) 는 기본값이 없는 인자(parameter) 뒤에 위치\n",
    "                                                     #position argument는 keyword agument보다 뒤에 와야 한다. \n",
    "    \"\"\"                                             \n",
    "    숫자로된 정수를 넣으시면 학점의 결과를 반환합니다.\n",
    "    \"\"\"\n",
    "    print(f\"{student_number}, {name}의 성적을 확인합니다.\")\n",
    "    if 85 <= score <= 100:\n",
    "        return \"A\"\n",
    "    elif 70 <= score <= 84:\n",
    "        return \"B\"\n",
    "    elif 55 <= score <= 69:\n",
    "        return \"C\"\n",
    "    elif 40 <= score <= 54:\n",
    "        return \"D\"\n",
    "    elif 0 <= score <= 39:\n",
    "        return \"E\""
   ]
  },
  {
   "cell_type": "code",
   "execution_count": 144,
   "id": "4860a7fc-5fcd-4df1-bd2d-22561b52fca0",
   "metadata": {},
   "outputs": [
    {
     "name": "stdout",
     "output_type": "stream",
     "text": [
      "10000, 김유림의 성적을 확인합니다.\n"
     ]
    },
    {
     "data": {
      "text/plain": [
       "'A'"
      ]
     },
     "execution_count": 144,
     "metadata": {},
     "output_type": "execute_result"
    }
   ],
   "source": [
    "get_grade(100, \"김유림\", \"10000\")"
   ]
  },
  {
   "cell_type": "code",
   "execution_count": 145,
   "id": "2648a409-82d9-4199-8bc5-223e227b63b6",
   "metadata": {},
   "outputs": [
    {
     "name": "stdout",
     "output_type": "stream",
     "text": [
      "10000, 100의 성적을 확인합니다.\n"
     ]
    },
    {
     "ename": "TypeError",
     "evalue": "'<=' not supported between instances of 'int' and 'str'",
     "output_type": "error",
     "traceback": [
      "\u001b[1;31m---------------------------------------------------------------------------\u001b[0m",
      "\u001b[1;31mTypeError\u001b[0m                                 Traceback (most recent call last)",
      "\u001b[1;32m~\\AppData\\Local\\Temp\\ipykernel_12612\\2473144315.py\u001b[0m in \u001b[0;36m<module>\u001b[1;34m\u001b[0m\n\u001b[1;32m----> 1\u001b[1;33m \u001b[0mget_grade\u001b[0m\u001b[1;33m(\u001b[0m\u001b[1;34m\"김유림\"\u001b[0m\u001b[1;33m,\u001b[0m \u001b[1;36m100\u001b[0m\u001b[1;33m,\u001b[0m \u001b[1;34m\"10000\"\u001b[0m\u001b[1;33m)\u001b[0m\u001b[1;33m\u001b[0m\u001b[1;33m\u001b[0m\u001b[0m\n\u001b[0m",
      "\u001b[1;32m~\\AppData\\Local\\Temp\\ipykernel_12612\\2696909452.py\u001b[0m in \u001b[0;36mget_grade\u001b[1;34m(score, name, student_number)\u001b[0m\n\u001b[0;32m      5\u001b[0m     \"\"\"\n\u001b[0;32m      6\u001b[0m     \u001b[0mprint\u001b[0m\u001b[1;33m(\u001b[0m\u001b[1;34mf\"{student_number}, {name}의 성적을 확인합니다.\"\u001b[0m\u001b[1;33m)\u001b[0m\u001b[1;33m\u001b[0m\u001b[1;33m\u001b[0m\u001b[0m\n\u001b[1;32m----> 7\u001b[1;33m     \u001b[1;32mif\u001b[0m \u001b[1;36m85\u001b[0m \u001b[1;33m<=\u001b[0m \u001b[0mscore\u001b[0m \u001b[1;33m<=\u001b[0m \u001b[1;36m100\u001b[0m\u001b[1;33m:\u001b[0m\u001b[1;33m\u001b[0m\u001b[1;33m\u001b[0m\u001b[0m\n\u001b[0m\u001b[0;32m      8\u001b[0m         \u001b[1;32mreturn\u001b[0m \u001b[1;34m\"A\"\u001b[0m\u001b[1;33m\u001b[0m\u001b[1;33m\u001b[0m\u001b[0m\n\u001b[0;32m      9\u001b[0m     \u001b[1;32melif\u001b[0m \u001b[1;36m70\u001b[0m \u001b[1;33m<=\u001b[0m \u001b[0mscore\u001b[0m \u001b[1;33m<=\u001b[0m \u001b[1;36m84\u001b[0m\u001b[1;33m:\u001b[0m\u001b[1;33m\u001b[0m\u001b[1;33m\u001b[0m\u001b[0m\n",
      "\u001b[1;31mTypeError\u001b[0m: '<=' not supported between instances of 'int' and 'str'"
     ]
    }
   ],
   "source": [
    "get_grade(\"김유림\", 100, \"10000\")"
   ]
  },
  {
   "cell_type": "code",
   "execution_count": 157,
   "id": "853e341c-e594-4aa7-bd6d-39fe0aa2e25b",
   "metadata": {},
   "outputs": [],
   "source": [
    "# 함수 정의절\n",
    "# 인자 (매개변수, parameter) - non-default, default 종류\n",
    "def add_number(number2, number1 = 3, /): #기본값을 갖는 얘들은 뒤쪽에 위치\n",
    "    \"\"\"\n",
    "    숫자 number1과 숫자 numbeer2를 전달 받아 더한 결과를 반환합니다.\n",
    "    \"\"\"\n",
    "    return number1 + number2"
   ]
  },
  {
   "cell_type": "code",
   "execution_count": 152,
   "id": "544d0de6-aee8-40e0-9b6b-013555bb5160",
   "metadata": {},
   "outputs": [
    {
     "name": "stdout",
     "output_type": "stream",
     "text": [
      "\n",
      "    숫자 number1과 숫자 numbeer2를 전달 받아 더한 결과를 반환합니다.\n",
      "    \n"
     ]
    }
   ],
   "source": [
    "print(add_number.__doc__)"
   ]
  },
  {
   "cell_type": "code",
   "execution_count": 153,
   "id": "16b2cda8-d757-425b-80f9-29bdec988ccb",
   "metadata": {},
   "outputs": [],
   "source": [
    "result = add_number(2, 3) #소괄호"
   ]
  },
  {
   "cell_type": "code",
   "execution_count": 154,
   "id": "68ad7878-5fd7-4b48-9173-08388442a21b",
   "metadata": {},
   "outputs": [
    {
     "name": "stdout",
     "output_type": "stream",
     "text": [
      "5\n"
     ]
    }
   ],
   "source": [
    "print(result)"
   ]
  },
  {
   "cell_type": "code",
   "execution_count": 158,
   "id": "871b8c9d-2595-4412-8f05-ad224e2a81cb",
   "metadata": {},
   "outputs": [
    {
     "ename": "TypeError",
     "evalue": "add_number() got some positional-only arguments passed as keyword arguments: 'number2, number1'",
     "output_type": "error",
     "traceback": [
      "\u001b[1;31m---------------------------------------------------------------------------\u001b[0m",
      "\u001b[1;31mTypeError\u001b[0m                                 Traceback (most recent call last)",
      "\u001b[1;32m~\\AppData\\Local\\Temp\\ipykernel_12612\\1492128349.py\u001b[0m in \u001b[0;36m<module>\u001b[1;34m\u001b[0m\n\u001b[0;32m      1\u001b[0m \u001b[1;31m#인수(argument) - positional argument, keyword argument\u001b[0m\u001b[1;33m\u001b[0m\u001b[1;33m\u001b[0m\u001b[0m\n\u001b[1;32m----> 2\u001b[1;33m \u001b[0mresult\u001b[0m \u001b[1;33m=\u001b[0m \u001b[0madd_number\u001b[0m\u001b[1;33m(\u001b[0m\u001b[0mnumber1\u001b[0m \u001b[1;33m=\u001b[0m \u001b[1;36m2\u001b[0m\u001b[1;33m,\u001b[0m \u001b[0mnumber2\u001b[0m \u001b[1;33m=\u001b[0m \u001b[1;36m3\u001b[0m\u001b[1;33m)\u001b[0m \u001b[1;31m# 소괄호 --> call\u001b[0m\u001b[1;33m\u001b[0m\u001b[1;33m\u001b[0m\u001b[0m\n\u001b[0m",
      "\u001b[1;31mTypeError\u001b[0m: add_number() got some positional-only arguments passed as keyword arguments: 'number2, number1'"
     ]
    }
   ],
   "source": [
    "#인수(argument) - positional argument, keyword argument\n",
    "result = add_number(number1 = 2, number2 = 3) # 소괄호 --> call"
   ]
  },
  {
   "cell_type": "code",
   "execution_count": 159,
   "id": "e3c7418a-b81e-4bb9-9402-c0e4cbebd72c",
   "metadata": {},
   "outputs": [],
   "source": [
    "# 함수 정의절\n",
    "# 인자 (매개변수, parameter) - non-default, default 종류\n",
    "#기본값을 갖는 얘들은 뒤쪽에 위치\n",
    "def minus_number(*, number1, number2 = 3): # keywor-only: *문자를 기준으로 오른편에 온다.\n",
    "    \"\"\"\n",
    "    숫자 number1과 숫자 numbeer2를 전달 받아 더한 결과를 반환합니다.\n",
    "    \"\"\"\n",
    "    return number1 - number2"
   ]
  },
  {
   "cell_type": "code",
   "execution_count": 160,
   "id": "62ae7b5c-403f-458e-b852-4d30d886a480",
   "metadata": {},
   "outputs": [
    {
     "data": {
      "text/plain": [
       "17"
      ]
     },
     "execution_count": 160,
     "metadata": {},
     "output_type": "execute_result"
    }
   ],
   "source": [
    "#함수를 호출\n",
    "#인수(argument) - positional argument, keyword argument\n",
    "minus_number(number1 = 20)"
   ]
  },
  {
   "cell_type": "code",
   "execution_count": 163,
   "id": "90d5274a-6573-413e-bb44-a9dcdacf3483",
   "metadata": {},
   "outputs": [],
   "source": [
    "# 함수 정의절\n",
    "# 인자 (매개변수, parameter) - non-default, default 종류\n",
    "#기본값을 갖는 얘들은 뒤쪽에 위치\n",
    "def multi_number( number1,/, *, number2 = 3): # keywor-only: *문자를 기준으로 오른편에 온다.\n",
    "    \"\"\"\n",
    "    숫자 number1과 숫자 numbeer2를 전달 받아 더한 결과를 반환합니다.\n",
    "    \"\"\"\n",
    "    return number1 * number2"
   ]
  },
  {
   "cell_type": "code",
   "execution_count": 164,
   "id": "d3013a3c-0235-4303-8cea-a7d0a224de29",
   "metadata": {},
   "outputs": [
    {
     "data": {
      "text/plain": [
       "30"
      ]
     },
     "execution_count": 164,
     "metadata": {},
     "output_type": "execute_result"
    }
   ],
   "source": [
    "multi_number(3, number2 = 10)"
   ]
  },
  {
   "cell_type": "code",
   "execution_count": 172,
   "id": "c4b1687e-f95b-4544-ad83-b0ba092800b2",
   "metadata": {},
   "outputs": [],
   "source": [
    "def string_line(str_value, /, str_len, *, sep=\"#\"):\n",
    "    \"\"\"\n",
    "    str_value는 가운데 오는 텍스트입니다.\n",
    "    str_len은 텍스트의 설정할 길이입니다.\n",
    "    sep는 구분선을 그을때 쓰는 문자입니다.\n",
    "    \"\"\"\n",
    "    print(str_value.center(str_len, sep))"
   ]
  },
  {
   "cell_type": "code",
   "execution_count": 173,
   "id": "fe51aa95-2e56-49b0-8a19-4d6dedabff91",
   "metadata": {},
   "outputs": [
    {
     "name": "stdout",
     "output_type": "stream",
     "text": [
      "************************구분************************\n"
     ]
    }
   ],
   "source": [
    "string_line(\"구분\", 50, sep=\"*\")"
   ]
  },
  {
   "cell_type": "code",
   "execution_count": 174,
   "id": "33b90cc0-b988-41cb-b507-b9d436f6fc0d",
   "metadata": {},
   "outputs": [
    {
     "data": {
      "text/plain": [
       "50"
      ]
     },
     "execution_count": 174,
     "metadata": {},
     "output_type": "execute_result"
    }
   ],
   "source": [
    "len('**********************구분**************************')"
   ]
  },
  {
   "cell_type": "code",
   "execution_count": 180,
   "id": "5db8df13-12a8-4b41-8134-6e4fe9ba3681",
   "metadata": {},
   "outputs": [
    {
     "name": "stdout",
     "output_type": "stream",
     "text": [
      "------------------------------------------------절취선-------------------------------------------------\n"
     ]
    }
   ],
   "source": [
    "string_line(\"절취선\", str_len = 100, sep=\"-\")"
   ]
  },
  {
   "cell_type": "code",
   "execution_count": 182,
   "id": "291bf470-adad-42cb-a53e-70e2fd502951",
   "metadata": {},
   "outputs": [
    {
     "name": "stdout",
     "output_type": "stream",
     "text": [
      "1 1 1 1 1 1 1 1 1 1\n"
     ]
    }
   ],
   "source": [
    "print(\"1\", \"1\", \"1\", \"1\", \"1\", \"1\", \"1\", \"1\", \"1\", \"1\")"
   ]
  },
  {
   "cell_type": "code",
   "execution_count": 188,
   "id": "7c109f83-4bac-4abd-acce-cfa9f5cc9af4",
   "metadata": {},
   "outputs": [],
   "source": [
    "# *args: var positionql 가변 위치\n",
    "def test_func(a, b, c, *args):\n",
    "    print(f'a: {a} b: {b} c: {c}' )\n",
    "    print(type(args))\n",
    "    print(args)"
   ]
  },
  {
   "cell_type": "code",
   "execution_count": 189,
   "id": "7558dcfa-f98d-4ffe-b9bc-8908b243fc42",
   "metadata": {},
   "outputs": [
    {
     "name": "stdout",
     "output_type": "stream",
     "text": [
      "a: a 위치입니다 b: b 위치입니다 c: c 위치입니다\n",
      "<class 'tuple'>\n",
      "('여기는', '어딜까요', '몇개', '더')\n"
     ]
    }
   ],
   "source": [
    "test_func(\"a 위치입니다\", \"b 위치입니다\", \"c 위치입니다\", \"여기는\", \"어딜까요\", \"몇개\", \"더\")"
   ]
  },
  {
   "cell_type": "code",
   "execution_count": 191,
   "id": "4a5ea07e-0ed2-46b6-9e83-b0e8fb9aa27b",
   "metadata": {},
   "outputs": [],
   "source": [
    "# **kargs: var keyword 가변 키워드\n",
    "def test_func2(a=\"a\", b=\"b\", **kargs):\n",
    "    print(a, b)\n",
    "    print(type(kargs))\n",
    "    print(kargs)"
   ]
  },
  {
   "cell_type": "code",
   "execution_count": 192,
   "id": "1b1e099e-cc0a-4bb9-8f64-e25777d5f6b0",
   "metadata": {},
   "outputs": [
    {
     "name": "stdout",
     "output_type": "stream",
     "text": [
      "ab bc\n",
      "<class 'dict'>\n",
      "{'key': 'value', 'key2': 'value2'}\n"
     ]
    }
   ],
   "source": [
    "test_func2(a=\"ab\", b=\"bc\", key=\"value\", key2=\"value2\")"
   ]
  },
  {
   "cell_type": "code",
   "execution_count": 193,
   "id": "45414958-ae27-4287-8d53-eaad40a79776",
   "metadata": {},
   "outputs": [],
   "source": [
    "# *args: var positionql 가변 위치\n",
    "def test_func(a, b, *args, c):\n",
    "    print(f'a: {a} b: {b} c: {c}' )\n",
    "    print(type(args))\n",
    "    print(args)"
   ]
  },
  {
   "cell_type": "code",
   "execution_count": 194,
   "id": "d5f0d1d7-e948-4b87-8089-a800d02f8f81",
   "metadata": {},
   "outputs": [
    {
     "ename": "TypeError",
     "evalue": "test_func() missing 1 required keyword-only argument: 'c'",
     "output_type": "error",
     "traceback": [
      "\u001b[1;31m---------------------------------------------------------------------------\u001b[0m",
      "\u001b[1;31mTypeError\u001b[0m                                 Traceback (most recent call last)",
      "\u001b[1;32m~\\AppData\\Local\\Temp\\ipykernel_12612\\3181782236.py\u001b[0m in \u001b[0;36m<module>\u001b[1;34m\u001b[0m\n\u001b[1;32m----> 1\u001b[1;33m \u001b[0mtest_func\u001b[0m\u001b[1;33m(\u001b[0m\u001b[1;34m\"a 위치입니다\"\u001b[0m\u001b[1;33m,\u001b[0m \u001b[1;34m\"b 위치입니다\"\u001b[0m\u001b[1;33m,\u001b[0m \u001b[1;34m\"c 위치입니다\"\u001b[0m\u001b[1;33m,\u001b[0m \u001b[1;34m\"여기는\"\u001b[0m\u001b[1;33m,\u001b[0m \u001b[1;34m\"어딜까요\"\u001b[0m\u001b[1;33m,\u001b[0m \u001b[1;34m\"몇개\"\u001b[0m\u001b[1;33m,\u001b[0m \u001b[1;34m\"더\"\u001b[0m\u001b[1;33m)\u001b[0m\u001b[1;33m\u001b[0m\u001b[1;33m\u001b[0m\u001b[0m\n\u001b[0m",
      "\u001b[1;31mTypeError\u001b[0m: test_func() missing 1 required keyword-only argument: 'c'"
     ]
    }
   ],
   "source": [
    "test_func(\"a 위치입니다\", \"b 위치입니다\", \"c 위치입니다\", \"여기는\", \"어딜까요\", \"몇개\", \"더\")"
   ]
  },
  {
   "cell_type": "markdown",
   "id": "1272ee47-5cd5-4809-9896-23e4c7e27b90",
   "metadata": {},
   "source": [
    "### **위치 - 키워드 인자** ###  \n",
    "위치 인수 또는 키워드 인수를 받을 수 있는 인자   \n"
   ]
  },
  {
   "cell_type": "code",
   "execution_count": null,
   "id": "5145e72d-9cdc-4842-98a2-9c3079529a16",
   "metadata": {},
   "outputs": [],
   "source": []
  }
 ],
 "metadata": {
  "kernelspec": {
   "display_name": "Python 3 (ipykernel)",
   "language": "python",
   "name": "python3"
  },
  "language_info": {
   "codemirror_mode": {
    "name": "ipython",
    "version": 3
   },
   "file_extension": ".py",
   "mimetype": "text/x-python",
   "name": "python",
   "nbconvert_exporter": "python",
   "pygments_lexer": "ipython3",
   "version": "3.9.13"
  }
 },
 "nbformat": 4,
 "nbformat_minor": 5
}

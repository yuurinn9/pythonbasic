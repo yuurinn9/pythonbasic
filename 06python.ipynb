{
 "cells": [
  {
   "cell_type": "markdown",
   "id": "a3b1003d-8da3-4c1f-b8ef-dba91e91e87c",
   "metadata": {},
   "source": [
    "# 2023-01-09 #"
   ]
  },
  {
   "cell_type": "code",
   "execution_count": 7,
   "id": "fb839cfd-c9cb-4b59-92b8-46cf5fa95ea3",
   "metadata": {},
   "outputs": [
    {
     "name": "stdout",
     "output_type": "stream",
     "text": [
      "십 구 팔 칠 육 오 사 삼 이 일 "
     ]
    }
   ],
   "source": [
    "for _ in reversed(\"일이삼사오육칠팔구십\") :\n",
    "    print(_, end=\" \")"
   ]
  },
  {
   "cell_type": "code",
   "execution_count": 29,
   "id": "21603a0f-2ac2-4b86-ba63-da44f8a09f9f",
   "metadata": {},
   "outputs": [
    {
     "name": "stdout",
     "output_type": "stream",
     "text": [
      "실행 결과:\n",
      "*****\n",
      "*****\n",
      "*****\n",
      "*****\n",
      "*****\n"
     ]
    }
   ],
   "source": [
    "print(\"실행 결과:\")\n",
    "for i in range(5):\n",
    "    for j in range(5):\n",
    "        print(\"*\", end = \"\")\n",
    "    print()"
   ]
  },
  {
   "cell_type": "code",
   "execution_count": 28,
   "id": "be01093c-1140-4690-8f14-fe489397b479",
   "metadata": {},
   "outputs": [
    {
     "name": "stdout",
     "output_type": "stream",
     "text": [
      "실행 결과:\n",
      "*****\n",
      "*****\n",
      "*****\n",
      "*****\n",
      "*****\n"
     ]
    }
   ],
   "source": [
    "print(\"실행 결과:\")\n",
    "for i in range(5):\n",
    "    print(\"*\"*5)"
   ]
  },
  {
   "cell_type": "markdown",
   "id": "3af78a3f-c637-4745-a406-8283481f879f",
   "metadata": {},
   "source": [
    "## while문 ##  \n",
    "  \n",
    "    \n",
    "      \n",
    "      1. 조건식을 판별합니다\n",
    "      2. 조건식이 True인 동안 내내 while문의 바디를 실행합니다.\n",
    "      3. 조건식이 False가 되면 while문을 빠져나갑니다  \n",
    "        \n",
    "          \n",
    "            \n",
    "            i = 0     #초기식\n",
    "            while i < 10:    #조건식\n",
    "            print(\"Hello world\")    #반복할 코드\n",
    "            i += 1    #변화식\n",
    "            \n",
    "            \n",
    " \n",
    "      "
   ]
  },
  {
   "cell_type": "code",
   "execution_count": 37,
   "id": "e1147433-82eb-4123-b2bb-5e3a97623f19",
   "metadata": {
    "scrolled": true,
    "tags": []
   },
   "outputs": [
    {
     "name": "stdout",
     "output_type": "stream",
     "text": [
      "Hello world\n",
      "Hello world\n",
      "Hello world\n",
      "Hello world\n",
      "Hello world\n",
      "Hello world\n",
      "Hello world\n",
      "Hello world\n",
      "Hello world\n",
      "Hello world\n"
     ]
    }
   ],
   "source": [
    "i = 0\n",
    "while i < 10:\n",
    "    print(\"Hello world\")\n",
    "    i += 1"
   ]
  },
  {
   "cell_type": "code",
   "execution_count": 38,
   "id": "2e615937-ebb5-427f-97ac-85bf41b7222d",
   "metadata": {
    "scrolled": true,
    "tags": []
   },
   "outputs": [
    {
     "name": "stdout",
     "output_type": "stream",
     "text": [
      "Hello world\n",
      "Hello world\n",
      "Hello world\n",
      "Hello world\n",
      "Hello world\n"
     ]
    }
   ],
   "source": [
    "i = 0\n",
    "while i < 10:\n",
    "    print(\"Hello world\")\n",
    "    i += 2"
   ]
  },
  {
   "cell_type": "code",
   "execution_count": 43,
   "id": "6e2e52a6-a8e4-4e6d-a200-e9f2c12493e4",
   "metadata": {},
   "outputs": [
    {
     "name": "stdin",
     "output_type": "stream",
     "text": [
      "반복할 횟수를 입력하세요: 3\n"
     ]
    },
    {
     "name": "stdout",
     "output_type": "stream",
     "text": [
      "Hello world 3\n",
      "Hello world 2\n",
      "Hello world 1\n"
     ]
    }
   ],
   "source": [
    "count  = int(input(\"반복할 횟수를 입력하세요:\"))\n",
    "\n",
    "while count > 0:\n",
    "    print(\"Hello world\", count)\n",
    "    count -= 1"
   ]
  },
  {
   "cell_type": "code",
   "execution_count": 62,
   "id": "b8c819af-3bec-4958-9a83-8a4226fcf664",
   "metadata": {},
   "outputs": [
    {
     "name": "stdout",
     "output_type": "stream",
     "text": [
      "2\t4\t6\t8\t10\t12\t14\t16\t18\t20\t22\t24\t26\t28\t30\t32\t34\t36\t38\t40\t42\t44\t46\t48\t50\t52\t54\t56\t58\t60\t62\t64\t66\t68\t70\t72\t74\t76\t78\t80\t82\t84\t86\t88\t90\t92\t94\t96\t98\t100\t"
     ]
    }
   ],
   "source": [
    "n = 2\n",
    "while n <= 100:\n",
    "    print(n, end = \"\\t\")\n",
    "    n += 2"
   ]
  },
  {
   "cell_type": "code",
   "execution_count": 70,
   "id": "3b23b490-943c-4166-90e5-31aeadaa91aa",
   "metadata": {},
   "outputs": [
    {
     "name": "stdout",
     "output_type": "stream",
     "text": [
      "실행 결과:\n"
     ]
    },
    {
     "name": "stdin",
     "output_type": "stream",
     "text": [
      "구구단을 알려드립니다. 숫자를 입력하세요 9\n"
     ]
    },
    {
     "name": "stdout",
     "output_type": "stream",
     "text": [
      "9 * 1 = 9\n",
      "9 * 2 = 18\n",
      "9 * 3 = 27\n",
      "9 * 4 = 36\n",
      "9 * 5 = 45\n",
      "9 * 6 = 54\n",
      "9 * 7 = 63\n",
      "9 * 8 = 72\n",
      "9 * 9 = 81\n"
     ]
    }
   ],
   "source": [
    "print(\"실행 결과:\")\n",
    "number = int(input(\"구구단을 알려드립니다. 숫자를 입력하세요\"))\n",
    "n = 1\n",
    "while n < 10:\n",
    "    print(number, \"*\", n, \"=\", number * n )\n",
    "    n += 1"
   ]
  },
  {
   "cell_type": "code",
   "execution_count": 86,
   "id": "56d807f7-51c9-4bb0-8454-9e0a04d1e801",
   "metadata": {},
   "outputs": [
    {
     "name": "stdout",
     "output_type": "stream",
     "text": [
      "실행 결과:\n"
     ]
    },
    {
     "name": "stdin",
     "output_type": "stream",
     "text": [
      "학생의 수: 3\n",
      "1번 학생의 점수: 77\n",
      "2번 학생의 점수: 88\n",
      "3번 학생의 점수: 99\n"
     ]
    },
    {
     "name": "stdout",
     "output_type": "stream",
     "text": [
      "평균: 88.0\n"
     ]
    }
   ],
   "source": [
    "print(\"실행 결과:\")\n",
    "stu = int(input(\"학생의 수:\"))\n",
    "s = 1\n",
    "avg = 0 \n",
    "while s <= stu : \n",
    "    sco = int(input(str(s) + \"번 학생의 점수:\"))\n",
    "    s += 1\n",
    "    avg += sco\n",
    "print(\"평균:\", avg/stu )"
   ]
  },
  {
   "cell_type": "code",
   "execution_count": 87,
   "id": "bd532cd1-6066-4fe3-afd7-a7738b73bbdb",
   "metadata": {},
   "outputs": [
    {
     "name": "stdout",
     "output_type": "stream",
     "text": [
      "실행 결과:\n"
     ]
    },
    {
     "name": "stdin",
     "output_type": "stream",
     "text": [
      "학생의 수: 3\n",
      "1번 학생의 점수: 77\n",
      "2번 학생의 점수: 88\n",
      "3번 학생의 점수: 9\n"
     ]
    },
    {
     "name": "stdout",
     "output_type": "stream",
     "text": [
      "평균: 58.0\n"
     ]
    }
   ],
   "source": [
    "print(\"실행 결과:\")\n",
    "stu = int(input(\"학생의 수:\"))\n",
    "s = 1\n",
    "avg = 0 \n",
    "while s <= stu : \n",
    "    avg += int(input(str(s) + \"번 학생의 점수:\"))\n",
    "    s += 1\n",
    "print(\"평균:\", avg/stu )"
   ]
  },
  {
   "cell_type": "code",
   "execution_count": 90,
   "id": "3931d51b-2cbd-4b63-8397-bebc9d24416d",
   "metadata": {},
   "outputs": [
    {
     "name": "stdout",
     "output_type": "stream",
     "text": [
      "97\n",
      "100\n",
      "77\n"
     ]
    }
   ],
   "source": [
    "scores = (97, 100, 77)\n",
    "i = 0\n",
    "while i < len(scores):\n",
    "    print(scores[i])\n",
    "    i += 1"
   ]
  },
  {
   "cell_type": "markdown",
   "id": "bac08a96-cd28-44db-bafd-0b0b31496c0b",
   "metadata": {},
   "source": [
    "## 연습문제 ##"
   ]
  },
  {
   "cell_type": "code",
   "execution_count": 108,
   "id": "0e609dbf-3869-44a3-91eb-2b7501e607bc",
   "metadata": {},
   "outputs": [
    {
     "name": "stdout",
     "output_type": "stream",
     "text": [
      "실행 결과\n",
      "79.0\n"
     ]
    }
   ],
   "source": [
    "print(\"실행 결과\")\n",
    "class_a = (70, 60, 55, 75, 95, 90, 80, 80, 85, 100) \n",
    "score = 0\n",
    "i = 0\n",
    "while i < len(class_a):\n",
    "    score += class_a[i]\n",
    "    i += 1\n",
    "print(score/len(class_a))"
   ]
  },
  {
   "cell_type": "markdown",
   "id": "3f7e9f5b-7782-4642-9a07-8a88a5179dad",
   "metadata": {},
   "source": [
    "## break문 ##"
   ]
  },
  {
   "cell_type": "code",
   "execution_count": 110,
   "id": "b27d148c-1d6a-4714-9e88-710832c9b66b",
   "metadata": {
    "scrolled": true,
    "tags": []
   },
   "outputs": [
    {
     "name": "stdout",
     "output_type": "stream",
     "text": [
      "0\n",
      "1\n",
      "2\n",
      "3\n",
      "4\n",
      "5\n",
      "6\n",
      "7\n",
      "8\n",
      "9\n",
      "10\n",
      "11\n",
      "12\n",
      "13\n",
      "14\n",
      "15\n",
      "16\n",
      "17\n",
      "18\n",
      "19\n",
      "20\n",
      "21\n",
      "22\n",
      "23\n",
      "24\n",
      "25\n",
      "26\n",
      "27\n",
      "28\n",
      "29\n",
      "30\n",
      "31\n",
      "32\n",
      "33\n",
      "34\n",
      "35\n",
      "36\n",
      "37\n",
      "38\n",
      "39\n",
      "40\n",
      "41\n",
      "42\n",
      "43\n",
      "44\n",
      "45\n",
      "46\n",
      "47\n",
      "48\n",
      "49\n",
      "50\n",
      "51\n",
      "52\n",
      "53\n",
      "54\n",
      "55\n",
      "56\n",
      "57\n",
      "58\n",
      "59\n",
      "60\n",
      "61\n",
      "62\n",
      "63\n",
      "64\n",
      "65\n",
      "66\n",
      "67\n",
      "68\n",
      "69\n",
      "70\n",
      "71\n",
      "72\n",
      "73\n",
      "74\n",
      "75\n",
      "76\n",
      "77\n",
      "78\n",
      "79\n",
      "80\n",
      "81\n",
      "82\n",
      "83\n",
      "84\n",
      "85\n",
      "86\n",
      "87\n",
      "88\n",
      "89\n",
      "90\n",
      "91\n",
      "92\n",
      "93\n",
      "94\n",
      "95\n",
      "96\n",
      "97\n",
      "98\n",
      "99\n",
      "100\n"
     ]
    }
   ],
   "source": [
    "for _ in range(1000):\n",
    "    print(_)\n",
    "    if _ == 100:\n",
    "        break #반복 종료"
   ]
  },
  {
   "cell_type": "code",
   "execution_count": 114,
   "id": "6ee9da19-b263-4d0a-a9bb-4ecbfb369d41",
   "metadata": {
    "scrolled": true,
    "tags": []
   },
   "outputs": [
    {
     "name": "stdout",
     "output_type": "stream",
     "text": [
      "Hello world\n",
      "Hello world\n",
      "Hello world\n",
      "Hello world\n",
      "Hello world\n",
      "Hello world\n",
      "Hello world\n",
      "Hello world\n",
      "Hello world\n",
      "Hello world\n",
      "Hello world\n",
      "Hello world\n",
      "Hello world\n",
      "Hello world\n",
      "Hello world\n",
      "Hello world\n",
      "Hello world\n",
      "Hello world\n",
      "Hello world\n",
      "Hello world\n",
      "Hello world\n",
      "Hello world\n",
      "Hello world\n",
      "Hello world\n",
      "Hello world\n",
      "Hello world\n",
      "Hello world\n",
      "Hello world\n",
      "Hello world\n",
      "Hello world\n",
      "Hello world\n",
      "Hello world\n",
      "Hello world\n",
      "Hello world\n",
      "Hello world\n",
      "Hello world\n",
      "Hello world\n",
      "Hello world\n",
      "Hello world\n",
      "Hello world\n",
      "Hello world\n",
      "Hello world\n",
      "Hello world\n",
      "Hello world\n",
      "Hello world\n",
      "Hello world\n",
      "Hello world\n",
      "Hello world\n",
      "Hello world\n",
      "Hello world\n",
      "Hello world\n",
      "Hello world\n",
      "Hello world\n",
      "Hello world\n",
      "Hello world\n",
      "Hello world\n",
      "Hello world\n",
      "Hello world\n",
      "Hello world\n",
      "Hello world\n",
      "Hello world\n",
      "Hello world\n",
      "Hello world\n",
      "Hello world\n",
      "Hello world\n",
      "Hello world\n",
      "Hello world\n",
      "Hello world\n",
      "Hello world\n",
      "Hello world\n",
      "Hello world\n",
      "Hello world\n",
      "Hello world\n",
      "Hello world\n",
      "Hello world\n",
      "Hello world\n",
      "Hello world\n",
      "Hello world\n",
      "Hello world\n",
      "Hello world\n",
      "Hello world\n",
      "Hello world\n",
      "Hello world\n",
      "Hello world\n",
      "Hello world\n",
      "Hello world\n",
      "Hello world\n",
      "Hello world\n",
      "Hello world\n",
      "Hello world\n",
      "Hello world\n",
      "Hello world\n",
      "Hello world\n",
      "Hello world\n",
      "Hello world\n",
      "Hello world\n",
      "Hello world\n",
      "Hello world\n",
      "Hello world\n",
      "Hello world\n"
     ]
    }
   ],
   "source": [
    "i = 0  #초기식\n",
    "while True: #(True)=무한루프\n",
    "    print(\"Hello world\")\n",
    "    i += 1  #변화식\n",
    "    if i == 100:  #조건식\n",
    "        break  #루프를 빠져나간다"
   ]
  },
  {
   "cell_type": "code",
   "execution_count": 126,
   "id": "e36a54ca-6524-400b-9422-8b272567ef4d",
   "metadata": {},
   "outputs": [
    {
     "name": "stdout",
     "output_type": "stream",
     "text": [
      "5050\n"
     ]
    }
   ],
   "source": [
    "i = 0\n",
    "total = 0\n",
    "while True:\n",
    "    i += 1\n",
    "    if i == 101:\n",
    "        break\n",
    "    total += i\n",
    "print(total)"
   ]
  },
  {
   "cell_type": "code",
   "execution_count": 129,
   "id": "99714f40-5083-4379-ba5f-4987faf23134",
   "metadata": {},
   "outputs": [
    {
     "name": "stdin",
     "output_type": "stream",
     "text": [
      "q를 입력하면 종료됩니다. ㅂ\n",
      "q를 입력하면 종료됩니다. q\n"
     ]
    },
    {
     "name": "stdout",
     "output_type": "stream",
     "text": [
      "프로그램을 종료합니다.\n"
     ]
    }
   ],
   "source": [
    "while True:\n",
    "    input_value = input(\"q를 입력하면 종료됩니다.\")\n",
    "    if input_value == \"q\": break\n",
    "print(\"프로그램을 종료합니다.\")"
   ]
  },
  {
   "cell_type": "markdown",
   "id": "97d44f0c-5345-4ef5-b0bc-4dd70e60a6c2",
   "metadata": {},
   "source": [
    "### continue   \n",
    "      \n",
    "    \n",
    "    제어흐름을 유지하고, continue가 실행된 반복 횟수의 코드 실행만 건너 뜁니다."
   ]
  },
  {
   "cell_type": "code",
   "execution_count": 148,
   "id": "ecc7578a-674d-46d0-8e7e-93995c7558e4",
   "metadata": {},
   "outputs": [
    {
     "name": "stdout",
     "output_type": "stream",
     "text": [
      "1\t3\t5\t7\t9\t11\t13\t15\t17\t19\t21\t23\t25\t27\t29\t31\t33\t35\t37\t39\t41\t43\t45\t47\t49\t51\t53\t55\t57\t59\t61\t63\t65\t67\t69\t71\t73\t75\t77\t79\t81\t83\t85\t87\t89\t91\t93\t95\t97\t99\t"
     ]
    }
   ],
   "source": [
    "for i in range(100):  #0부터 99까지 증가하면서 반복\n",
    "    if i % 2 == 0:  #짝수\n",
    "        continue  #아래 코드를 실행하지 않고 건너뛰기\n",
    "    print(i, end=\"\\t\")"
   ]
  },
  {
   "cell_type": "code",
   "execution_count": 163,
   "id": "08161065-dd9a-44d4-a85f-9962caac8bc8",
   "metadata": {},
   "outputs": [
    {
     "name": "stdout",
     "output_type": "stream",
     "text": [
      "3 13 23 33 43 53 63 73 83 93 "
     ]
    }
   ],
   "source": [
    "i = 0\n",
    "while True:\n",
    "    if i % 10 != 3:\n",
    "        i += 1\n",
    "        continue\n",
    "    if i > 100 :\n",
    "        break\n",
    "    print(i, end=' ')\n",
    "    i += 1"
   ]
  },
  {
   "cell_type": "code",
   "execution_count": 172,
   "id": "710ceaab-0a3a-4ec5-92f1-bb953b626d30",
   "metadata": {},
   "outputs": [
    {
     "name": "stdout",
     "output_type": "stream",
     "text": [
      "12345678910"
     ]
    }
   ],
   "source": [
    "for i in range(11):\n",
    "    if i > 0 :\n",
    "        print(i,end=\"\")"
   ]
  },
  {
   "cell_type": "code",
   "execution_count": 183,
   "id": "5928f89e-0e25-4e3f-bf50-8d0d0247baf2",
   "metadata": {},
   "outputs": [
    {
     "name": "stdout",
     "output_type": "stream",
     "text": [
      "12345678910"
     ]
    }
   ],
   "source": [
    "i = 1\n",
    "while True:\n",
    "    if i > 10 :\n",
    "        break\n",
    "    print(i,end=\"\")\n",
    "    i += 1"
   ]
  },
  {
   "cell_type": "code",
   "execution_count": 186,
   "id": "18b1a952-9422-4476-a48a-f40d939ad747",
   "metadata": {},
   "outputs": [
    {
     "name": "stdout",
     "output_type": "stream",
     "text": [
      "실행 결과:\n"
     ]
    },
    {
     "name": "stdin",
     "output_type": "stream",
     "text": [
      "시작하는 정수 입력: 3\n",
      "끝나는 정수 입력: 4\n"
     ]
    },
    {
     "name": "stdout",
     "output_type": "stream",
     "text": [
      "1부터 10까지의 합은 7 입니다\n"
     ]
    }
   ],
   "source": [
    "print(\"실행 결과:\")\n",
    "sta = int(input(\"시작하는 정수 입력:\"))\n",
    "end = int(input(\"끝나는 정수 입력:\"))\n",
    "sum = 1\n",
    "for i in range(end):\n",
    "    sum += i\n",
    "print(sta, \"부터\", end, \"까지의 합은\", sum, \"입니다\")"
   ]
  },
  {
   "cell_type": "code",
   "execution_count": 193,
   "id": "9e025a5a-e11c-494d-92f1-4723edfa3c3e",
   "metadata": {},
   "outputs": [
    {
     "name": "stdout",
     "output_type": "stream",
     "text": [
      "실행 결과:\n"
     ]
    },
    {
     "name": "stdin",
     "output_type": "stream",
     "text": [
      "시작하는 정수 입력: 1\n",
      "끝나는 정수 입력: 5\n"
     ]
    },
    {
     "name": "stdout",
     "output_type": "stream",
     "text": [
      "1 부터 5 까지의 합은 15 입니다\n"
     ]
    }
   ],
   "source": [
    "print(\"실행 결과:\")\n",
    "sta = int(input(\"시작하는 정수 입력:\"))\n",
    "end = int(input(\"끝나는 정수 입력:\"))\n",
    "sum = 0\n",
    "i = 1\n",
    "while True:\n",
    "    if i > end :\n",
    "        break\n",
    "    sum+=i\n",
    "    i += 1\n",
    "print(sta, \"부터\", end, \"까지의 합은\", sum, \"입니다\")\n",
    " "
   ]
  },
  {
   "cell_type": "code",
   "execution_count": 198,
   "id": "9a2a4197-459c-482d-8e08-a70010720905",
   "metadata": {},
   "outputs": [
    {
     "name": "stdout",
     "output_type": "stream",
     "text": [
      "1부터 5까지의 합은 15입니다.\n"
     ]
    }
   ],
   "source": [
    "print(f'{sta}부터 {end}까지의 합은 {sum}입니다.')"
   ]
  },
  {
   "cell_type": "code",
   "execution_count": 203,
   "id": "8b0e5f47-5920-45ad-a612-6f075b431857",
   "metadata": {},
   "outputs": [
    {
     "name": "stdout",
     "output_type": "stream",
     "text": [
      "실행 결과:\n"
     ]
    },
    {
     "name": "stdin",
     "output_type": "stream",
     "text": [
      "시작하는 정수 입력: 1\n",
      "끝나는 정수 입력: 2\n"
     ]
    },
    {
     "name": "stdout",
     "output_type": "stream",
     "text": [
      "1 부터 2 까지의 합은 3 입니다\n"
     ]
    }
   ],
   "source": [
    "print(\"실행 결과:\")\n",
    "sta = int(input(\"시작하는 정수 입력:\"))\n",
    "end = int(input(\"끝나는 정수 입력:\"))\n",
    "sum = 0\n",
    "i = 1\n",
    "while i <= end :\n",
    "    sum+=i\n",
    "    i += 1\n",
    "print(sta, \"부터\", end, \"까지의 합은\", sum, \"입니다\")\n",
    " "
   ]
  },
  {
   "cell_type": "code",
   "execution_count": 217,
   "id": "d2ecb3f1-6d9a-4316-85c4-5b134c2d4066",
   "metadata": {},
   "outputs": [
    {
     "name": "stdout",
     "output_type": "stream",
     "text": [
      "실행 결과:\n"
     ]
    },
    {
     "name": "stdin",
     "output_type": "stream",
     "text": [
      "시작하는 정수 입력: 1\n",
      "끝나는 정수 입력: 2\n"
     ]
    },
    {
     "name": "stdout",
     "output_type": "stream",
     "text": [
      "1 부터 2 까지의 합은 4 입니다\n"
     ]
    }
   ],
   "source": [
    "print(\"실행 결과:\")\n",
    "sta = int(input(\"시작하는 정수 입력:\"))\n",
    "end = int(input(\"끝나는 정수 입력:\"))\n",
    "sum = 0\n",
    "for i in range(sta, end+1):\n",
    "    if i % 2 == 0:\n",
    "        sum += (i*i)\n",
    "print(sta, \"부터\", end, \"사이의 짝수 제곱의 합은\", sum, \"입니다\")"
   ]
  },
  {
   "cell_type": "code",
   "execution_count": 221,
   "id": "c14b6894-8747-46f6-aa5a-6cd65d19d371",
   "metadata": {},
   "outputs": [
    {
     "name": "stdout",
     "output_type": "stream",
     "text": [
      "실행 결과:\n"
     ]
    },
    {
     "name": "stdin",
     "output_type": "stream",
     "text": [
      "시작하는 정수 입력: 1\n",
      "끝나는 정수 입력: 5\n"
     ]
    },
    {
     "name": "stdout",
     "output_type": "stream",
     "text": [
      "1 부터 5 사이의 짝수 제곱의 합은 20 입니다\n"
     ]
    }
   ],
   "source": [
    "print(\"실행 결과:\")\n",
    "sta = int(input(\"시작하는 정수 입력:\"))\n",
    "end = int(input(\"끝나는 정수 입력:\"))\n",
    "sum = 0\n",
    "i = 1\n",
    "while i <= end :\n",
    "    if i % 2 == 0:\n",
    "        sum+= i*i\n",
    "    i += 1\n",
    "print(sta, \"부터\", end, \"사이의 짝수 제곱의 합은\", sum, \"입니다\")"
   ]
  },
  {
   "cell_type": "code",
   "execution_count": 232,
   "id": "74711766-1fbe-41eb-a6a7-6b0e3d190050",
   "metadata": {},
   "outputs": [
    {
     "name": "stdout",
     "output_type": "stream",
     "text": [
      "실행 결과:\n",
      "79.0\n"
     ]
    }
   ],
   "source": [
    "print(\"실행 결과:\")\n",
    "kor = [70, 60, 55, 75, 95, 90, 80, 80, 85, 100] # 0부터 시작\n",
    "sum = 0\n",
    "for i in range(0,10):\n",
    "    sum += kor[i]\n",
    "print(sum/len(kor))"
   ]
  },
  {
   "cell_type": "code",
   "execution_count": 236,
   "id": "fd8d937e-e830-4c9a-8299-f9c4d40b4f20",
   "metadata": {},
   "outputs": [
    {
     "name": "stdout",
     "output_type": "stream",
     "text": [
      "실행 결과:\n",
      "79.0\n"
     ]
    }
   ],
   "source": [
    "print(\"실행 결과:\")\n",
    "kor = [70, 60, 55, 75, 95, 90, 80, 80, 85, 100] # 0부터 시작\n",
    "sum = 0\n",
    "i = 0\n",
    "while i < 10 :\n",
    "    sum+= kor[i]\n",
    "    i += 1\n",
    "print(sum/len(kor))"
   ]
  },
  {
   "cell_type": "code",
   "execution_count": 239,
   "id": "6e8f65b6-030a-42e6-a56e-1a3b310505a7",
   "metadata": {},
   "outputs": [
    {
     "name": "stdout",
     "output_type": "stream",
     "text": [
      "실행 결과:\n",
      "79.0\n"
     ]
    }
   ],
   "source": [
    "print(\"실행 결과:\")\n",
    "kor = [70, 60, 55, 75, 95, 90, 80, 80, 85, 100] # 0부터 시작\n",
    "sum = 0\n",
    "for score in kor:\n",
    "    sum += score\n",
    "    avg = sum / len(kor)\n",
    "print(avg)"
   ]
  },
  {
   "cell_type": "code",
   "execution_count": 254,
   "id": "0826e712-cb39-46a1-8880-4aa8fc975990",
   "metadata": {},
   "outputs": [
    {
     "name": "stdout",
     "output_type": "stream",
     "text": [
      "실행 결과:\n",
      "233168\n"
     ]
    }
   ],
   "source": [
    "print(\"실행 결과:\")\n",
    "sum = 0\n",
    "for num in range(0,1000) :\n",
    "    if num % 3 == 0 or num % 5 == 0 :\n",
    "        sum += num\n",
    "print(sum)"
   ]
  },
  {
   "cell_type": "code",
   "execution_count": null,
   "id": "bc222195-5718-45be-86b5-32c73deed957",
   "metadata": {},
   "outputs": [
    {
     "name": "stdout",
     "output_type": "stream",
     "text": [
      "실행 결과:\n"
     ]
    }
   ],
   "source": [
    "print(\"실행 결과:\")\n",
    "sum = 0\n",
    "i = 0\n",
    "while True:\n",
    "    if i % 3 ==0 or i % 5 == 0 :\n",
    "        i += 1\n",
    "    if i >= 1000 :\n",
    "        break\n",
    "print(sum)"
   ]
  },
  {
   "cell_type": "code",
   "execution_count": null,
   "id": "a2d1b445-5d7c-435d-99fe-0cf2c8bdc265",
   "metadata": {},
   "outputs": [],
   "source": []
  }
 ],
 "metadata": {
  "kernelspec": {
   "display_name": "Python 3 (ipykernel)",
   "language": "python",
   "name": "python3"
  },
  "language_info": {
   "codemirror_mode": {
    "name": "ipython",
    "version": 3
   },
   "file_extension": ".py",
   "mimetype": "text/x-python",
   "name": "python",
   "nbconvert_exporter": "python",
   "pygments_lexer": "ipython3",
   "version": "3.9.13"
  }
 },
 "nbformat": 4,
 "nbformat_minor": 5
}
